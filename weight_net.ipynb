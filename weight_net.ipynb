{
  "nbformat": 4,
  "nbformat_minor": 0,
  "metadata": {
    "colab": {
      "name": "weight_net.ipynb",
      "provenance": [],
      "collapsed_sections": [],
      "authorship_tag": "ABX9TyOSjplz3b5wOqbVEb0iaMyY",
      "include_colab_link": true
    },
    "kernelspec": {
      "name": "python3",
      "display_name": "Python 3"
    },
    "language_info": {
      "name": "python"
    }
  },
  "cells": [
    {
      "cell_type": "markdown",
      "metadata": {
        "id": "view-in-github",
        "colab_type": "text"
      },
      "source": [
        "<a href=\"https://colab.research.google.com/github/Krankile/ensemble-forecasting/blob/main/weight_net.ipynb\" target=\"_parent\"><img src=\"https://colab.research.google.com/assets/colab-badge.svg\" alt=\"Open In Colab\"/></a>"
      ]
    },
    {
      "cell_type": "markdown",
      "metadata": {
        "id": "Ad2rmI-1IBOy"
      },
      "source": [
        "##Setup"
      ]
    },
    {
      "cell_type": "code",
      "metadata": {
        "id": "rbUYg-ygNho7"
      },
      "source": [
        "%%capture\n",
        "!pip install pytorch-forecasting"
      ],
      "execution_count": 1,
      "outputs": []
    },
    {
      "cell_type": "code",
      "metadata": {
        "id": "nbiRr31H-t9b"
      },
      "source": [
        "!pip install kora -q\n",
        "from kora import drive\n",
        "drive.link_nbs()"
      ],
      "execution_count": 2,
      "outputs": []
    },
    {
      "cell_type": "code",
      "metadata": {
        "id": "-Oo7lgF2HeDZ"
      },
      "source": [
        "import torch\n",
        "from torch import nn, optim\n",
        "import torch.nn.functional as F\n",
        "import random\n",
        "\n",
        "import numpy as np\n",
        "import pandas as pd\n",
        "\n",
        "from tqdm import tqdm\n",
        "from pytorch_forecasting.metrics import SMAPE, MAPE\n",
        "import random\n",
        "\n",
        "from sklearn.utils import shuffle\n",
        "\n",
        "import ensemble\n",
        "import matplotlib.pyplot as plt\n",
        "from sklearn.preprocessing import MinMaxScaler , minmax_scale\n",
        "\n"
      ],
      "execution_count": 72,
      "outputs": []
    },
    {
      "cell_type": "markdown",
      "metadata": {
        "id": "FllsF0c6IEIq"
      },
      "source": [
        "#Build net"
      ]
    },
    {
      "cell_type": "code",
      "metadata": {
        "id": "lZr84jKdIsVk"
      },
      "source": [
        "class Dense_net(nn.Module):\n",
        "  \n",
        "  def __init__(self, in_size, out_size): #Layer list, optimizer should all be part of config \n",
        "    super(Dense_net, self).__init__()\n",
        "    self.fc1 = nn.Linear(in_size, d1)\n",
        "    self.fc2 = nn.Linear(d1, d2)\n",
        "    self.fc3 = nn.Linear(d2, out_size)\n",
        "    \n",
        "  def forward(self, x):\n",
        "    x = F.relu(self.fc1(x))\n",
        "    x = F.relu(self.fc2(x))\n",
        "    x = F.relu(self.fc3(x))\n",
        "    return x/x.sum()"
      ],
      "execution_count": 4,
      "outputs": []
    },
    {
      "cell_type": "code",
      "metadata": {
        "id": "ZPw5ZjJjSNn5"
      },
      "source": [
        "d1 = 32 #this is supposed to be changed by wanb\n",
        "d2 = 16"
      ],
      "execution_count": 171,
      "outputs": []
    },
    {
      "cell_type": "markdown",
      "metadata": {
        "id": "FhZaI8E_IGcJ"
      },
      "source": [
        "#Create training loop"
      ]
    },
    {
      "cell_type": "markdown",
      "metadata": {
        "id": "ObdD3c7cVo0e"
      },
      "source": [
        "Define the OWA loss function from the M4 competition"
      ]
    },
    {
      "cell_type": "code",
      "metadata": {
        "id": "oL_us9RlL75u"
      },
      "source": [
        "def OWA(naive_pred, actual): #Creates a new metric object which has the .loss(y_pred, actual) as a function\n",
        "  OwA = 0.5*(SMAPE()/SMAPE().loss(naive_pred, actual) + MAPE()/MAPE().loss(naive_pred, actual))\n",
        "  return OwA"
      ],
      "execution_count": 6,
      "outputs": []
    },
    {
      "cell_type": "markdown",
      "metadata": {
        "id": "yboW4zVraNz7"
      },
      "source": [
        "Get data and define data handling helper functions"
      ]
    },
    {
      "cell_type": "code",
      "metadata": {
        "id": "6rZ5vWzdaWct"
      },
      "source": [
        "training_data = pd.read_csv('/content/drive/MyDrive/Master, Ankile og Krange/Data/epic_dataframe_of_doom.csv').set_index(\"id\")"
      ],
      "execution_count": 230,
      "outputs": []
    },
    {
      "cell_type": "code",
      "metadata": {
        "id": "F8sTD78qnay1"
      },
      "source": [
        "\"\"\"Returns a list of pd dataframes of size batch_size\"\"\"\n",
        "\n",
        "def batch_creator(pd_dataframe, batch_size):\n",
        "  \n",
        "  if len(pd_dataframe) % batch_size != 0: \n",
        "    raise Exception(\"Batch size not compatible with data length\")\n",
        "  \n",
        "  shuffled_data = shuffle(pd_dataframe)\n",
        "  \n",
        "  batches = []\n",
        "\n",
        "  for i in range( int(len(shuffled_data)/ batch_size) ):\n",
        "    batches.append(shuffled_data[i*batch_size:(i+1)*batch_size])\n",
        "\n",
        "  return batches\n"
      ],
      "execution_count": 8,
      "outputs": []
    },
    {
      "cell_type": "code",
      "metadata": {
        "colab": {
          "base_uri": "https://localhost:8080/"
        },
        "id": "qpE62LZSg_0H",
        "outputId": "48fd3f6d-edf3-4968-fefb-b4f2a8cece02"
      },
      "source": [
        "minmax_scaler = MinMaxScaler(feature_range=(-1,1))\n",
        "minmax_scaler.fit(training_data.loc[:, \"frequency\":\"seas_acf1\"].to_numpy())\n"
      ],
      "execution_count": 281,
      "outputs": [
        {
          "output_type": "execute_result",
          "data": {
            "text/plain": [
              "MinMaxScaler(feature_range=(-1, 1))"
            ]
          },
          "metadata": {},
          "execution_count": 281
        }
      ]
    },
    {
      "cell_type": "code",
      "metadata": {
        "id": "2FNQINPvmWXl"
      },
      "source": [
        " def feature_extractor(pd_dataframe_batch, manual_or_auto_toggle, type_of_normalization):\n",
        "  batch_size = pd_dataframe_batch.shape[0]\n",
        "  forecasts = pd_dataframe_batch.loc[:, \"Random_walk_with_drift_0\":\"STLM_AR_17\"]\n",
        "  \n",
        "  if manual_or_auto_toggle == \"\":\n",
        "    raise Exception(\"Manual_or_auto_toggle needs to cointain either m or a for input to be non-empty\")\n",
        "  \n",
        "  inputs_start = \"frequency\" if \"m\" in manual_or_auto_toggle.lower() else \"auto_features_0\"\n",
        "  inputs_end = \"meta_data_0\" if \"a\" in manual_or_auto_toggle.lower() else \"seas_acf1\"\n",
        "\n",
        "  inputs = pd_dataframe_batch.loc[:, inputs_start:inputs_end]\n",
        "  if type_of_normalization == \"minmax\":\n",
        "    inputs_normalized = minmax_scaler.transform(inputs)\n",
        "  actuals = pd_dataframe_batch.loc[:, \"actuals_0\":\"actuals_17\"]\n",
        "  return torch.Tensor(inputs_normalized), torch.Tensor(forecasts.to_numpy().reshape((batch_size, 7, 18)).swapaxes(1, 2)), torch.Tensor(actuals.to_numpy())\n",
        "\n"
      ],
      "execution_count": 282,
      "outputs": []
    },
    {
      "cell_type": "code",
      "metadata": {
        "colab": {
          "base_uri": "https://localhost:8080/"
        },
        "id": "DI_rHUGob2mo",
        "outputId": "d661b12e-c7a3-4e8b-848d-ca026381c5e5"
      },
      "source": [
        "inputs, forecasts, actuals = feature_extractor(training_data.iloc[[109]], \"m\", \"minmax\")\n",
        "#print(\"LAst input\", inputs)\n",
        "y_pred = net(inputs).unsqueeze(2)\n",
        "print(y_pred)"
      ],
      "execution_count": 245,
      "outputs": [
        {
          "output_type": "stream",
          "name": "stdout",
          "text": [
            "       frequency  nperiods  seasonal_period  ...  diff2_acf1  diff2_acf10  seas_acf1\n",
            "id                                           ...                                    \n",
            "M7310       12.0       1.0             12.0  ...    -0.40195     0.278249   0.477419\n",
            "\n",
            "[1 rows x 20 columns]\n",
            "Normalized inputs:  [[0.00000000e+00 0.00000000e+00 0.00000000e+00 9.70608896e-01\n",
            "  8.76456102e-05 2.66888301e-01 5.93953996e-01 7.35814055e-01\n",
            "  1.14751980e-01 6.06842875e-01 6.36363636e-01 9.09090909e-02\n",
            "  3.28028372e-01 9.74845024e-01 5.60882629e-01 5.89177380e-01\n",
            "  3.95891157e-02 2.70387436e-01 4.80313898e-02 6.84417536e-01]]\n",
            "tensor([[[0.2325],\n",
            "         [0.0000],\n",
            "         [0.6473],\n",
            "         [0.0000],\n",
            "         [0.0000],\n",
            "         [0.0525],\n",
            "         [0.0677]]], grad_fn=<UnsqueezeBackward0>)\n"
          ]
        }
      ]
    },
    {
      "cell_type": "code",
      "metadata": {
        "colab": {
          "base_uri": "https://localhost:8080/"
        },
        "id": "QGxcwALeW8wA",
        "outputId": "54867abc-3e13-4df9-fee2-37a8a6f43b23"
      },
      "source": [
        "# 3 modeller, 4 predictions\n",
        "\n",
        "a = np.array([11, 12, 13, 14, 21, 22, 23, 24, 31, 32, 33, 34])\n",
        "\"\"\"\n",
        "[11, 12, 13, 14,\n",
        "21, 22, 23, 24,\n",
        "31, 32, 33, 34]\n",
        "\"\"\"\n",
        "p = a.reshape((1, 3, 4)).swapaxes(1, 2)\n",
        "\n",
        "p[0, :, 0]"
      ],
      "execution_count": 163,
      "outputs": [
        {
          "output_type": "execute_result",
          "data": {
            "text/plain": [
              "array([11, 12, 13, 14])"
            ]
          },
          "metadata": {},
          "execution_count": 163
        }
      ]
    },
    {
      "cell_type": "markdown",
      "metadata": {
        "id": "PV9hMlWXA7th"
      },
      "source": [
        "Code to load ensemble models from pickle, manual feature extracton and test data"
      ]
    },
    {
      "cell_type": "markdown",
      "metadata": {
        "id": "h7-FhB-RV27-"
      },
      "source": [
        "##Begin training"
      ]
    },
    {
      "cell_type": "code",
      "metadata": {
        "id": "HbGDaQzgSr7y"
      },
      "source": [
        "device = torch.device(\"cuda:0\" if torch.cuda.is_available() else \"cpu\")"
      ],
      "execution_count": 10,
      "outputs": []
    },
    {
      "cell_type": "code",
      "metadata": {
        "id": "ufAVmt5BaAbu"
      },
      "source": [
        "losses = dict(\n",
        "    sm=SMAPE(reduction=\"mean\").loss,\n",
        "    c=nn.CrossEntropyLoss(),\n",
        "    mse=nn.MSELoss(),\n",
        ")"
      ],
      "execution_count": 247,
      "outputs": []
    },
    {
      "cell_type": "code",
      "metadata": {
        "id": "HafRiXtVZ80M"
      },
      "source": [
        "def training(training_data, validation_data, net, epochs, batch_size, loss_function_code, print_timing=100, ):\n",
        "  running_loss = 0.0\n",
        "  optimizer = optim.Adam(net.parameters(), lr=0.001)\n",
        "  loss_func = losses[loss_function_code]\n",
        "\n",
        "  steps = 0\n",
        "  loss_plot = []\n",
        "  it = tqdm(range(1, epochs+1))\n",
        "  for epoch in it:\n",
        "\n",
        "    # Each epoch has a training and validation phase\n",
        "    for phase in ['train']: #'val',]:\n",
        "        \n",
        "        if phase == 'train':\n",
        "            net.train(True)  # Set model to training mode\n",
        "            batches = batch_creator(training_data, batch_size)\n",
        "        else:\n",
        "            net.val(False)  # Set model to evaluate mode\n",
        "            batches = batch_creator(validation_data, batch_size)\n",
        "          \n",
        "        for i, batch in enumerate(batches):\n",
        "\n",
        "          inputs, forecasts, actuals = feature_extractor(batch,\"m\",\"minmax\")\n",
        " \n",
        "          #print(\"forecasts:\",forecasts.shape)\n",
        "          optimizer.zero_grad()\n",
        "\n",
        "          y_pred = net(inputs).unsqueeze(2) #Array containing tensors of weighted average for all forecasts\n",
        "          #look into how this should be done most elegantly\n",
        "           \n",
        "          normalization_weights = actuals[:,0:1]\n",
        "          \n",
        "          normalized_actuals = actuals/normalization_weights\n",
        "          \n",
        "          prediction = torch.matmul(forecasts, y_pred).squeeze(2) / normalization_weights\n",
        "\n",
        "          loss = loss_func(prediction, normalized_actuals).mean()\n",
        "          \n",
        "          if phase == 'train':\n",
        "                loss.backward()\n",
        "                # update the weights\n",
        "                optimizer.step()\n",
        "\n",
        "                steps += inputs.shape[0]\n",
        "\n",
        "          running_loss += loss.item()\n",
        "          loss_plot.append(loss.item())\n",
        "          \n",
        "          it.set_postfix({\"loss\": loss.item()})\n",
        "  plt.plot(loss_plot)"
      ],
      "execution_count": 290,
      "outputs": []
    },
    {
      "cell_type": "code",
      "metadata": {
        "id": "bTrbAhLCqjbU",
        "colab": {
          "base_uri": "https://localhost:8080/",
          "height": 377
        },
        "outputId": "952246bb-5dab-4dae-8a33-0ed9f962d403"
      },
      "source": [
        "#training_data = pd.read_csv(\"Monthly-train.csv\")  \n",
        "#validation_data = pd.read_csv(\"validation-train.csv\") \n",
        "epochs = 50\n",
        "batch_size = 10\n",
        "\n",
        "net = Dense_net(20, 7)\n",
        "net.train()\n",
        "print(net)\n",
        "loss_function_code = \"sm\" #c, sm or mse \n",
        "\n",
        "training(training_data, None, net, epochs, batch_size, loss_function_code ,print_timing=10)"
      ],
      "execution_count": 291,
      "outputs": [
        {
          "output_type": "stream",
          "name": "stdout",
          "text": [
            "Dense_net(\n",
            "  (fc1): Linear(in_features=20, out_features=32, bias=True)\n",
            "  (fc2): Linear(in_features=32, out_features=16, bias=True)\n",
            "  (fc3): Linear(in_features=16, out_features=7, bias=True)\n",
            ")\n"
          ]
        },
        {
          "output_type": "stream",
          "name": "stderr",
          "text": [
            "100%|██████████| 50/50 [04:03<00:00,  4.87s/it, loss=nan]\n"
          ]
        },
        {
          "output_type": "display_data",
          "data": {
            "image/png": "[encoded data removed]",
            "text/plain": [
              "<Figure size 432x288 with 1 Axes>"
            ]
          },
          "metadata": {
            "needs_background": "light"
          }
        }
      ]
    },
    {
      "cell_type": "code",
      "metadata": {
        "colab": {
          "base_uri": "https://localhost:8080/",
          "height": 163
        },
        "id": "AnCD2MbjR1Jc",
        "outputId": "9535edd6-3ef2-46d4-f18f-1bd786b6c382"
      },
      "source": [
        "inputs, forecasts, actuals = feature_extractor(training_data.iloc[[12]], \"m\", \"minmax\")\n",
        "y_pred = net(inputs).unsqueeze(2)\n",
        "print(y_pred)"
      ],
      "execution_count": 285,
      "outputs": [
        {
          "output_type": "stream",
          "name": "stdout",
          "text": [
            "tensor([[[0.],\n",
            "         [0.],\n",
            "         [0.],\n",
            "         [0.],\n",
            "         [0.],\n",
            "         [0.],\n",
            "         [1.]]], grad_fn=<UnsqueezeBackward0>)\n"
          ]
        },
        {
          "output_type": "execute_result",
          "data": {
            "application/vnd.google.colaboratory.intrinsic+json": {
              "type": "string"
            },
            "text/plain": [
              "'\\n    tensor([[[0.0000],\\n         [0.0000],\\n         [0.3589],\\n         [0.0000],\\n         [0.0000],\\n         [0.0000],\\n         [0.6411]]]'"
            ]
          },
          "metadata": {},
          "execution_count": 285
        }
      ]
    },
    {
      "cell_type": "code",
      "metadata": {
        "colab": {
          "base_uri": "https://localhost:8080/",
          "height": 1000
        },
        "id": "h6aWSJUPG6tH",
        "outputId": "365f5163-685f-41d0-d2e0-50ab97ec32e7"
      },
      "source": [
        "net_untrained = Dense_net(20, 7)\n",
        "\n",
        "def plot_some_forecast_and_actuals(n_plots):\n",
        "    for i in random.sample(range(5000), k=n_plots): \n",
        "      inputs, forecasts, actuals = feature_extractor(training_data.iloc[[i]], \"m\", \"minmax\")\n",
        "      y_pred = net(inputs).unsqueeze(2)\n",
        "      y_pred_2 = net_untrained(inputs).unsqueeze(2)\n",
        "      \n",
        "      #print(\"trained\", y_pred)\n",
        "      #print(\"untrained\", y_pred_2)\n",
        "      \n",
        "      predictions = torch.matmul(forecasts, y_pred).squeeze(2)\n",
        "      predictions_un = torch.matmul(forecasts, y_pred_2).squeeze(2)\n",
        "\n",
        "      plt.title(i)\n",
        "      plt.plot(predictions.detach().numpy()[0], label=\"prediction\")\n",
        "      plt.plot(predictions_un.detach().numpy()[0], label=\"Untrained prediction\")\n",
        "      plt.plot(actuals.detach().numpy()[0], label=\"actual\")\n",
        "      plt.legend()\n",
        "      plt.show()\n",
        "\n",
        "plot_some_forecast_and_actuals(3)"
      ],
      "execution_count": 289,
      "outputs": [
        {
          "output_type": "stream",
          "name": "stdout",
          "text": [
            "trained tensor([[[1.],\n",
            "         [0.],\n",
            "         [0.],\n",
            "         [0.],\n",
            "         [0.],\n",
            "         [0.],\n",
            "         [0.]]], grad_fn=<UnsqueezeBackward0>)\n",
            "untrained tensor([[[0.2164],\n",
            "         [0.0000],\n",
            "         [0.2355],\n",
            "         [0.0000],\n",
            "         [0.0000],\n",
            "         [0.5482],\n",
            "         [0.0000]]], grad_fn=<UnsqueezeBackward0>)\n"
          ]
        },
        {
          "output_type": "display_data",
          "data": {
            "image/png": "[encoded data removed]",
            "text/plain": [
              "<Figure size 432x288 with 1 Axes>"
            ]
          },
          "metadata": {
            "needs_background": "light"
          }
        },
        {
          "output_type": "stream",
          "name": "stdout",
          "text": [
            "trained tensor([[[1.],\n",
            "         [0.],\n",
            "         [0.],\n",
            "         [0.],\n",
            "         [0.],\n",
            "         [0.],\n",
            "         [0.]]], grad_fn=<UnsqueezeBackward0>)\n",
            "untrained tensor([[[0.2237],\n",
            "         [0.0000],\n",
            "         [0.2234],\n",
            "         [0.0000],\n",
            "         [0.0000],\n",
            "         [0.5529],\n",
            "         [0.0000]]], grad_fn=<UnsqueezeBackward0>)\n"
          ]
        },
        {
          "output_type": "display_data",
          "data": {
            "image/png": "[encoded data removed]",
            "text/plain": [
              "<Figure size 432x288 with 1 Axes>"
            ]
          },
          "metadata": {
            "needs_background": "light"
          }
        },
        {
          "output_type": "stream",
          "name": "stdout",
          "text": [
            "trained tensor([[[1.],\n",
            "         [0.],\n",
            "         [0.],\n",
            "         [0.],\n",
            "         [0.],\n",
            "         [0.],\n",
            "         [0.]]], grad_fn=<UnsqueezeBackward0>)\n",
            "untrained tensor([[[0.2228],\n",
            "         [0.0000],\n",
            "         [0.2491],\n",
            "         [0.0000],\n",
            "         [0.0000],\n",
            "         [0.5280],\n",
            "         [0.0000]]], grad_fn=<UnsqueezeBackward0>)\n"
          ]
        },
        {
          "output_type": "display_data",
          "data": {
            "image/png": "[encoded data removed]",
            "text/plain": [
              "<Figure size 432x288 with 1 Axes>"
            ]
          },
          "metadata": {
            "needs_background": "light"
          }
        }
      ]
    },
    {
      "cell_type": "code",
      "metadata": {
        "id": "uuwoUOeL5z-t"
      },
      "source": [
        ""
      ],
      "execution_count": null,
      "outputs": []
    }
  ]
}