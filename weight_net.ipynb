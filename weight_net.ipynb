{
  "nbformat": 4,
  "nbformat_minor": 0,
  "metadata": {
    "colab": {
      "name": "weight_net.ipynb",
      "provenance": [],
      "collapsed_sections": [
        "z9qWiol8h6A1"
      ],
      "authorship_tag": "ABX9TyPpCFLeWqO/Fvygvn1dDw0a",
      "include_colab_link": true
    },
    "kernelspec": {
      "name": "python3",
      "display_name": "Python 3"
    },
    "language_info": {
      "name": "python"
    },
    "accelerator": "GPU",
    "widgets": {
      "application/vnd.jupyter.widget-state+json": {
        "e8424fcac03e407e8d0d3c1f0e7ad7c3": {
          "model_module": "@jupyter-widgets/controls",
          "model_name": "VBoxModel",
          "model_module_version": "1.5.0",
          "state": {
            "_view_name": "VBoxView",
            "_dom_classes": [],
            "_model_name": "VBoxModel",
            "_view_module": "@jupyter-widgets/controls",
            "_model_module_version": "1.5.0",
            "_view_count": null,
            "_view_module_version": "1.5.0",
            "box_style": "",
            "layout": "IPY_MODEL_6f55c64848fa4e30a5447da526ee1c6c",
            "_model_module": "@jupyter-widgets/controls",
            "children": [
              "IPY_MODEL_a3e91496754a40f5b9de6d467eaa6ae6",
              "IPY_MODEL_9a7577d630e34b40a3f20d56e2ba21aa"
            ]
          }
        },
        "6f55c64848fa4e30a5447da526ee1c6c": {
          "model_module": "@jupyter-widgets/base",
          "model_name": "LayoutModel",
          "model_module_version": "1.2.0",
          "state": {
            "_view_name": "LayoutView",
            "grid_template_rows": null,
            "right": null,
            "justify_content": null,
            "_view_module": "@jupyter-widgets/base",
            "overflow": null,
            "_model_module_version": "1.2.0",
            "_view_count": null,
            "flex_flow": null,
            "width": null,
            "min_width": null,
            "border": null,
            "align_items": null,
            "bottom": null,
            "_model_module": "@jupyter-widgets/base",
            "top": null,
            "grid_column": null,
            "overflow_y": null,
            "overflow_x": null,
            "grid_auto_flow": null,
            "grid_area": null,
            "grid_template_columns": null,
            "flex": null,
            "_model_name": "LayoutModel",
            "justify_items": null,
            "grid_row": null,
            "max_height": null,
            "align_content": null,
            "visibility": null,
            "align_self": null,
            "height": null,
            "min_height": null,
            "padding": null,
            "grid_auto_rows": null,
            "grid_gap": null,
            "max_width": null,
            "order": null,
            "_view_module_version": "1.2.0",
            "grid_template_areas": null,
            "object_position": null,
            "object_fit": null,
            "grid_auto_columns": null,
            "margin": null,
            "display": null,
            "left": null
          }
        },
        "a3e91496754a40f5b9de6d467eaa6ae6": {
          "model_module": "@jupyter-widgets/controls",
          "model_name": "LabelModel",
          "model_module_version": "1.5.0",
          "state": {
            "_view_name": "LabelView",
            "style": "IPY_MODEL_b4ba150294e040348c998521d4a78c0c",
            "_dom_classes": [],
            "description": "",
            "_model_name": "LabelModel",
            "placeholder": "​",
            "_view_module": "@jupyter-widgets/controls",
            "_model_module_version": "1.5.0",
            "value": " 0.02MB of 0.02MB uploaded (0.00MB deduped)\r",
            "_view_count": null,
            "_view_module_version": "1.5.0",
            "description_tooltip": null,
            "_model_module": "@jupyter-widgets/controls",
            "layout": "IPY_MODEL_2c5529ce987047d9afb67ace6d4a99c6"
          }
        },
        "9a7577d630e34b40a3f20d56e2ba21aa": {
          "model_module": "@jupyter-widgets/controls",
          "model_name": "FloatProgressModel",
          "model_module_version": "1.5.0",
          "state": {
            "_view_name": "ProgressView",
            "style": "IPY_MODEL_ef1eca26b76044fea2182387730639b9",
            "_dom_classes": [],
            "description": "",
            "_model_name": "FloatProgressModel",
            "bar_style": "",
            "max": 1,
            "_view_module": "@jupyter-widgets/controls",
            "_model_module_version": "1.5.0",
            "value": 1,
            "_view_count": null,
            "_view_module_version": "1.5.0",
            "orientation": "horizontal",
            "min": 0,
            "description_tooltip": null,
            "_model_module": "@jupyter-widgets/controls",
            "layout": "IPY_MODEL_2838d7482c8445bfa8a17f643b313e34"
          }
        },
        "b4ba150294e040348c998521d4a78c0c": {
          "model_module": "@jupyter-widgets/controls",
          "model_name": "DescriptionStyleModel",
          "model_module_version": "1.5.0",
          "state": {
            "_view_name": "StyleView",
            "_model_name": "DescriptionStyleModel",
            "description_width": "",
            "_view_module": "@jupyter-widgets/base",
            "_model_module_version": "1.5.0",
            "_view_count": null,
            "_view_module_version": "1.2.0",
            "_model_module": "@jupyter-widgets/controls"
          }
        },
        "2c5529ce987047d9afb67ace6d4a99c6": {
          "model_module": "@jupyter-widgets/base",
          "model_name": "LayoutModel",
          "model_module_version": "1.2.0",
          "state": {
            "_view_name": "LayoutView",
            "grid_template_rows": null,
            "right": null,
            "justify_content": null,
            "_view_module": "@jupyter-widgets/base",
            "overflow": null,
            "_model_module_version": "1.2.0",
            "_view_count": null,
            "flex_flow": null,
            "width": null,
            "min_width": null,
            "border": null,
            "align_items": null,
            "bottom": null,
            "_model_module": "@jupyter-widgets/base",
            "top": null,
            "grid_column": null,
            "overflow_y": null,
            "overflow_x": null,
            "grid_auto_flow": null,
            "grid_area": null,
            "grid_template_columns": null,
            "flex": null,
            "_model_name": "LayoutModel",
            "justify_items": null,
            "grid_row": null,
            "max_height": null,
            "align_content": null,
            "visibility": null,
            "align_self": null,
            "height": null,
            "min_height": null,
            "padding": null,
            "grid_auto_rows": null,
            "grid_gap": null,
            "max_width": null,
            "order": null,
            "_view_module_version": "1.2.0",
            "grid_template_areas": null,
            "object_position": null,
            "object_fit": null,
            "grid_auto_columns": null,
            "margin": null,
            "display": null,
            "left": null
          }
        },
        "ef1eca26b76044fea2182387730639b9": {
          "model_module": "@jupyter-widgets/controls",
          "model_name": "ProgressStyleModel",
          "model_module_version": "1.5.0",
          "state": {
            "_view_name": "StyleView",
            "_model_name": "ProgressStyleModel",
            "description_width": "",
            "_view_module": "@jupyter-widgets/base",
            "_model_module_version": "1.5.0",
            "_view_count": null,
            "_view_module_version": "1.2.0",
            "bar_color": null,
            "_model_module": "@jupyter-widgets/controls"
          }
        },
        "2838d7482c8445bfa8a17f643b313e34": {
          "model_module": "@jupyter-widgets/base",
          "model_name": "LayoutModel",
          "model_module_version": "1.2.0",
          "state": {
            "_view_name": "LayoutView",
            "grid_template_rows": null,
            "right": null,
            "justify_content": null,
            "_view_module": "@jupyter-widgets/base",
            "overflow": null,
            "_model_module_version": "1.2.0",
            "_view_count": null,
            "flex_flow": null,
            "width": null,
            "min_width": null,
            "border": null,
            "align_items": null,
            "bottom": null,
            "_model_module": "@jupyter-widgets/base",
            "top": null,
            "grid_column": null,
            "overflow_y": null,
            "overflow_x": null,
            "grid_auto_flow": null,
            "grid_area": null,
            "grid_template_columns": null,
            "flex": null,
            "_model_name": "LayoutModel",
            "justify_items": null,
            "grid_row": null,
            "max_height": null,
            "align_content": null,
            "visibility": null,
            "align_self": null,
            "height": null,
            "min_height": null,
            "padding": null,
            "grid_auto_rows": null,
            "grid_gap": null,
            "max_width": null,
            "order": null,
            "_view_module_version": "1.2.0",
            "grid_template_areas": null,
            "object_position": null,
            "object_fit": null,
            "grid_auto_columns": null,
            "margin": null,
            "display": null,
            "left": null
          }
        }
      }
    }
  },
  "cells": [
    {
      "cell_type": "markdown",
      "metadata": {
        "id": "view-in-github",
        "colab_type": "text"
      },
      "source": [
        "<a href=\"https://colab.research.google.com/github/Krankile/ensemble-forecasting/blob/main/weight_net.ipynb\" target=\"_parent\"><img src=\"https://colab.research.google.com/assets/colab-badge.svg\" alt=\"Open In Colab\"/></a>"
      ]
    },
    {
      "cell_type": "markdown",
      "metadata": {
        "id": "Ad2rmI-1IBOy"
      },
      "source": [
        "##Setup"
      ]
    },
    {
      "cell_type": "code",
      "metadata": {
        "id": "rbUYg-ygNho7"
      },
      "source": [
        "%%capture\n",
        "!pip install pytorch-forecasting"
      ],
      "execution_count": 2,
      "outputs": []
    },
    {
      "cell_type": "code",
      "metadata": {
        "id": "nbiRr31H-t9b",
        "colab": {
          "base_uri": "https://localhost:8080/",
          "height": 943
        },
        "outputId": "c9f92f06-c2a2-4e48-8e7b-27afbbbc4eb5"
      },
      "source": [
        "!pip install kora -q\n",
        "from kora import drive\n",
        "drive.link_nbs()\n",
        "\n",
        "!pip install wandb --upgrade\n",
        "import wandb\n",
        "wandb.login()"
      ],
      "execution_count": 3,
      "outputs": [
        {
          "output_type": "stream",
          "name": "stdout",
          "text": [
            "\u001b[K     |████████████████████████████████| 57 kB 3.2 MB/s \n",
            "\u001b[K     |████████████████████████████████| 56 kB 4.0 MB/s \n",
            "\u001b[?25hMounted at /content/drive\n",
            "Collecting wandb\n",
            "  Downloading wandb-0.12.6-py2.py3-none-any.whl (1.7 MB)\n",
            "\u001b[K     |████████████████████████████████| 1.7 MB 5.3 MB/s \n",
            "\u001b[?25hCollecting sentry-sdk>=1.0.0\n",
            "  Downloading sentry_sdk-1.4.3-py2.py3-none-any.whl (139 kB)\n",
            "\u001b[K     |████████████████████████████████| 139 kB 51.1 MB/s \n",
            "\u001b[?25hCollecting pathtools\n",
            "  Downloading pathtools-0.1.2.tar.gz (11 kB)\n",
            "Requirement already satisfied: promise<3,>=2.0 in /usr/local/lib/python3.7/dist-packages (from wandb) (2.3)\n",
            "Requirement already satisfied: six>=1.13.0 in /usr/local/lib/python3.7/dist-packages (from wandb) (1.15.0)\n",
            "Requirement already satisfied: PyYAML in /usr/local/lib/python3.7/dist-packages (from wandb) (6.0)\n",
            "Requirement already satisfied: python-dateutil>=2.6.1 in /usr/local/lib/python3.7/dist-packages (from wandb) (2.8.2)\n",
            "Collecting GitPython>=1.0.0\n",
            "  Downloading GitPython-3.1.24-py3-none-any.whl (180 kB)\n",
            "\u001b[K     |████████████████████████████████| 180 kB 46.7 MB/s \n",
            "\u001b[?25hCollecting shortuuid>=0.5.0\n",
            "  Downloading shortuuid-1.0.2-py3-none-any.whl (8.0 kB)\n",
            "Requirement already satisfied: psutil>=5.0.0 in /usr/local/lib/python3.7/dist-packages (from wandb) (5.4.8)\n",
            "Collecting subprocess32>=3.5.3\n",
            "  Downloading subprocess32-3.5.4.tar.gz (97 kB)\n",
            "\u001b[K     |████████████████████████████████| 97 kB 5.6 MB/s \n",
            "\u001b[?25hCollecting configparser>=3.8.1\n",
            "  Downloading configparser-5.1.0-py3-none-any.whl (19 kB)\n",
            "Requirement already satisfied: requests<3,>=2.0.0 in /usr/local/lib/python3.7/dist-packages (from wandb) (2.23.0)\n",
            "Requirement already satisfied: Click!=8.0.0,>=7.0 in /usr/local/lib/python3.7/dist-packages (from wandb) (7.1.2)\n",
            "Requirement already satisfied: protobuf>=3.12.0 in /usr/local/lib/python3.7/dist-packages (from wandb) (3.17.3)\n",
            "Collecting docker-pycreds>=0.4.0\n",
            "  Downloading docker_pycreds-0.4.0-py2.py3-none-any.whl (9.0 kB)\n",
            "Collecting yaspin>=1.0.0\n",
            "  Downloading yaspin-2.1.0-py3-none-any.whl (18 kB)\n",
            "Collecting gitdb<5,>=4.0.1\n",
            "  Downloading gitdb-4.0.9-py3-none-any.whl (63 kB)\n",
            "\u001b[K     |████████████████████████████████| 63 kB 1.6 MB/s \n",
            "\u001b[?25hRequirement already satisfied: typing-extensions>=3.7.4.3 in /usr/local/lib/python3.7/dist-packages (from GitPython>=1.0.0->wandb) (3.7.4.3)\n",
            "Collecting smmap<6,>=3.0.1\n",
            "  Downloading smmap-5.0.0-py3-none-any.whl (24 kB)\n",
            "Requirement already satisfied: urllib3!=1.25.0,!=1.25.1,<1.26,>=1.21.1 in /usr/local/lib/python3.7/dist-packages (from requests<3,>=2.0.0->wandb) (1.24.3)\n",
            "Requirement already satisfied: idna<3,>=2.5 in /usr/local/lib/python3.7/dist-packages (from requests<3,>=2.0.0->wandb) (2.10)\n",
            "Requirement already satisfied: chardet<4,>=3.0.2 in /usr/local/lib/python3.7/dist-packages (from requests<3,>=2.0.0->wandb) (3.0.4)\n",
            "Requirement already satisfied: certifi>=2017.4.17 in /usr/local/lib/python3.7/dist-packages (from requests<3,>=2.0.0->wandb) (2021.5.30)\n",
            "Requirement already satisfied: termcolor<2.0.0,>=1.1.0 in /usr/local/lib/python3.7/dist-packages (from yaspin>=1.0.0->wandb) (1.1.0)\n",
            "Building wheels for collected packages: subprocess32, pathtools\n",
            "  Building wheel for subprocess32 (setup.py) ... \u001b[?25l\u001b[?25hdone\n",
            "  Created wheel for subprocess32: filename=subprocess32-3.5.4-py3-none-any.whl size=6502 sha256=c9bb8a4c9fff5b8fe4510fdb03ae38c9638a637cbfc80f1090488ba89f03e6e8\n",
            "  Stored in directory: /root/.cache/pip/wheels/50/ca/fa/8fca8d246e64f19488d07567547ddec8eb084e8c0d7a59226a\n",
            "  Building wheel for pathtools (setup.py) ... \u001b[?25l\u001b[?25hdone\n",
            "  Created wheel for pathtools: filename=pathtools-0.1.2-py3-none-any.whl size=8807 sha256=f463459758df63bf28fd721f90631abc2d635278e67178de741d8621414c4054\n",
            "  Stored in directory: /root/.cache/pip/wheels/3e/31/09/fa59cef12cdcfecc627b3d24273699f390e71828921b2cbba2\n",
            "Successfully built subprocess32 pathtools\n",
            "Installing collected packages: smmap, gitdb, yaspin, subprocess32, shortuuid, sentry-sdk, pathtools, GitPython, docker-pycreds, configparser, wandb\n",
            "Successfully installed GitPython-3.1.24 configparser-5.1.0 docker-pycreds-0.4.0 gitdb-4.0.9 pathtools-0.1.2 sentry-sdk-1.4.3 shortuuid-1.0.2 smmap-5.0.0 subprocess32-3.5.4 wandb-0.12.6 yaspin-2.1.0\n"
          ]
        },
        {
          "output_type": "display_data",
          "data": {
            "application/javascript": [
              "\n",
              "        window._wandbApiKey = new Promise((resolve, reject) => {\n",
              "            function loadScript(url) {\n",
              "            return new Promise(function(resolve, reject) {\n",
              "                let newScript = document.createElement(\"script\");\n",
              "                newScript.onerror = reject;\n",
              "                newScript.onload = resolve;\n",
              "                document.body.appendChild(newScript);\n",
              "                newScript.src = url;\n",
              "            });\n",
              "            }\n",
              "            loadScript(\"https://cdn.jsdelivr.net/npm/postmate/build/postmate.min.js\").then(() => {\n",
              "            const iframe = document.createElement('iframe')\n",
              "            iframe.style.cssText = \"width:0;height:0;border:none\"\n",
              "            document.body.appendChild(iframe)\n",
              "            const handshake = new Postmate({\n",
              "                container: iframe,\n",
              "                url: 'https://wandb.ai/authorize'\n",
              "            });\n",
              "            const timeout = setTimeout(() => reject(\"Couldn't auto authenticate\"), 5000)\n",
              "            handshake.then(function(child) {\n",
              "                child.on('authorize', data => {\n",
              "                    clearTimeout(timeout)\n",
              "                    resolve(data)\n",
              "                });\n",
              "            });\n",
              "            })\n",
              "        });\n",
              "    "
            ],
            "text/plain": [
              "<IPython.core.display.Javascript object>"
            ]
          },
          "metadata": {}
        },
        {
          "output_type": "stream",
          "name": "stderr",
          "text": [
            "\u001b[34m\u001b[1mwandb\u001b[0m: Appending key for api.wandb.ai to your netrc file: /root/.netrc\n"
          ]
        },
        {
          "output_type": "execute_result",
          "data": {
            "text/plain": [
              "True"
            ]
          },
          "metadata": {},
          "execution_count": 3
        }
      ]
    },
    {
      "cell_type": "code",
      "metadata": {
        "id": "-Oo7lgF2HeDZ"
      },
      "source": [
        "import torch\n",
        "from torch import nn, optim\n",
        "import torch.nn.functional as F\n",
        "import random\n",
        "\n",
        "import numpy as np\n",
        "import pandas as pd\n",
        "\n",
        "from tqdm import tqdm\n",
        "from pytorch_forecasting.metrics import SMAPE, MAPE\n",
        "import random\n",
        "\n",
        "from sklearn.utils import shuffle\n",
        "from torch.nn.utils import clip_grad_norm_\n",
        "import matplotlib.pyplot as plt\n",
        "from sklearn.preprocessing import MinMaxScaler , minmax_scale, StandardScaler\n",
        "from torch.utils.data import Dataset, DataLoader\n",
        "import copy"
      ],
      "execution_count": 4,
      "outputs": []
    },
    {
      "cell_type": "code",
      "metadata": {
        "id": "HbGDaQzgSr7y"
      },
      "source": [
        "device = torch.device(\"cuda:0\" if torch.cuda.is_available() else \"cpu\")"
      ],
      "execution_count": 5,
      "outputs": []
    },
    {
      "cell_type": "markdown",
      "metadata": {
        "id": "FllsF0c6IEIq"
      },
      "source": [
        "#Build net"
      ]
    },
    {
      "cell_type": "code",
      "metadata": {
        "id": "lZr84jKdIsVk"
      },
      "source": [
        "class Dense_net(nn.Module):\n",
        "  \n",
        "  def __init__(self, in_size, out_size, dropout_1, dropout_2, hidden_dim1, hidden_dim2): #Layer list, could be part of config \n",
        "    super(Dense_net, self).__init__()\n",
        "    self.fc1 = nn.Linear(in_size, hidden_dim1)\n",
        "    self.drop1 = nn.Dropout(p=dropout_1)\n",
        "    self.fc2 = nn.Linear(hidden_dim1, hidden_dim2)\n",
        "    self.drop2 = nn.Dropout(p=dropout_2)\n",
        "    self.fc3 = nn.Linear(hidden_dim2, out_size)\n",
        "    \n",
        "  def forward(self, x):\n",
        "    x = F.relu(self.fc1(x))\n",
        "    x = self.drop1(x)\n",
        "    x = F.relu(self.fc2(x))\n",
        "    x = self.drop2(x)\n",
        "    x = F.softmax(self.fc3(x), dim=1)\n",
        "    return x"
      ],
      "execution_count": 6,
      "outputs": []
    },
    {
      "cell_type": "code",
      "metadata": {
        "id": "P6v-ynYBpCYK"
      },
      "source": [
        "optimizers = {\n",
        "    \"adam\": torch.optim.Adam,\n",
        "    \"sgd\": torch.optim.SGD,\n",
        "    \"adamw\": torch.optim.AdamW,\n",
        "}"
      ],
      "execution_count": 7,
      "outputs": []
    },
    {
      "cell_type": "code",
      "metadata": {
        "id": "ufAVmt5BaAbu"
      },
      "source": [
        "loss_functions = {\n",
        "    \"sm\":SMAPE(reduction=\"mean\").loss,\n",
        "    \"c\":nn.CrossEntropyLoss().to(device),\n",
        "    \"mse\":nn.MSELoss().to(device),\n",
        "}"
      ],
      "execution_count": 8,
      "outputs": []
    },
    {
      "cell_type": "markdown",
      "metadata": {
        "id": "FhZaI8E_IGcJ"
      },
      "source": [
        "#Create training loop"
      ]
    },
    {
      "cell_type": "markdown",
      "metadata": {
        "id": "ObdD3c7cVo0e"
      },
      "source": [
        "Define the OWA loss function from the M4 competition"
      ]
    },
    {
      "cell_type": "code",
      "metadata": {
        "id": "oL_us9RlL75u"
      },
      "source": [
        "def OWA(naive_pred, actual): #Creates a new metric object which has the .loss(y_pred, actual) as a function\n",
        "  OwA = 0.5*(SMAPE()/SMAPE().loss(naive_pred, actual) + MAPE()/MAPE().loss(naive_pred, actual))\n",
        "  return OwA"
      ],
      "execution_count": 9,
      "outputs": []
    },
    {
      "cell_type": "markdown",
      "metadata": {
        "id": "yboW4zVraNz7"
      },
      "source": [
        "Load the training dataframe of size 90,000 x 527"
      ]
    },
    {
      "cell_type": "code",
      "metadata": {
        "id": "31d49p4Ayb45",
        "colab": {
          "base_uri": "https://localhost:8080/",
          "height": 67
        },
        "outputId": "fa23ac95-ea8a-4548-92de-52dffe350b58"
      },
      "source": [
        "\"\"\" \n",
        "This is a short summary of important indecies in the dataframe \n",
        "\"===============================\"\n",
        " \"Meta variables\"\n",
        "  FROM: 'type'\n",
        "  TO:   'period'\n",
        " \n",
        " \"Manual features\"\n",
        "  FROM: 'x_acf1'\n",
        "  TO:   'series_length'\n",
        "\n",
        " \"LSTM autoencoder\"\n",
        "  FROM: \"lstm_0\"\n",
        "  TO:   \"lstm_31\"\n",
        "\n",
        " \"Actuals\"\n",
        "  FROM: 'actual_0'\n",
        "  TO:   'actual_47'\n",
        " \n",
        " \"Forecasts, (MAX forecastlength = 48)\"\n",
        "  FROM: 'auto_arima_forec_0'\n",
        "  TO:   'snaive_forec_47'\n",
        " \n",
        " \"===============================\"\n",
        " \n",
        " forecast_dict = {auto_arima_forec : 0 , ets_forec: 1, nnetar_forec : 2, tbats_forec:3, stlm_ar_forec:4, rw_drift_forec:5, theta_forec:6 , naive_forec:7, naive_forec:8}\n",
        " \n",
        " \"\"\""
      ],
      "execution_count": 10,
      "outputs": [
        {
          "output_type": "execute_result",
          "data": {
            "application/vnd.google.colaboratory.intrinsic+json": {
              "type": "string"
            },
            "text/plain": [
              "' \\nThis is a short summary of important indecies in the dataframe \\n\"===============================\"\\n \"Meta variables\"\\n  FROM: \\'type\\'\\n  TO:   \\'period\\'\\n \\n \"Manual features\"\\n  FROM: \\'x_acf1\\'\\n  TO:   \\'series_length\\'\\n\\n \"LSTM autoencoder\"\\n  FROM: \"lstm_0\"\\n  TO:   \"lstm_31\"\\n\\n \"Actuals\"\\n  FROM: \\'actual_0\\'\\n  TO:   \\'actual_47\\'\\n \\n \"Forecasts, (MAX forecastlength = 48)\"\\n  FROM: \\'auto_arima_forec_0\\'\\n  TO:   \\'snaive_forec_47\\'\\n \\n \"===============================\"\\n \\n forecast_dict = {auto_arima_forec : 0 , ets_forec: 1, nnetar_forec : 2, tbats_forec:3, stlm_ar_forec:4, rw_drift_forec:5, theta_forec:6 , naive_forec:7, naive_forec:8}\\n \\n '"
            ]
          },
          "metadata": {},
          "execution_count": 10
        }
      ]
    },
    {
      "cell_type": "code",
      "metadata": {
        "id": "2FNQINPvmWXl"
      },
      "source": [
        " def feature_extractor(df, manual_or_auto_toggle, type_of_normalization):\n",
        "   \n",
        "    batch_size = df.shape[0]\n",
        "\n",
        "    mask = []\n",
        "    for h in df.h:\n",
        "        mask.append([1]*int(h) + [0]*(48-int(h)))\n",
        "    mask = torch.BoolTensor(mask)\n",
        "    \n",
        "    #Get forecasts\n",
        "    forecasts = df.loc[:, \"auto_arima_forec_0\":\"snaive_forec_47\"]\n",
        "\n",
        "    #Get feature inputs \n",
        "    if manual_or_auto_toggle == \"\":\n",
        "        raise Exception(\"Manual_or_auto_toggle needs to cointain either m or a for input to be non-empty\")\n",
        "\n",
        "\n",
        "    inputs_start = \"x_acf1\" if \"m\" in manual_or_auto_toggle.lower() else \"lstm_0\"  #TODO change this to account for autoencoder information \n",
        "    inputs_end = \"lstm_31\" if \"a\" in manual_or_auto_toggle.lower() else \"series_length\" #TODO change this to account for autoencoder information \n",
        "\n",
        "    inputs = df.loc[:, inputs_start:inputs_end]\n",
        "\n",
        "    if type_of_normalization == \"minmax\":\n",
        "        minmax_scaler = MinMaxScaler(feature_range=(-1,1))\n",
        "        minmax_scaler.fit(df.loc[:, inputs_start:inputs_end].to_numpy())\n",
        "        \n",
        "        inputs_normalized = minmax_scaler.transform(inputs)\n",
        "    \n",
        "    elif type_of_normalization == \"standard\":\n",
        "        standard_scaler = StandardScaler()\n",
        "        standard_scaler.fit(df.loc[:, inputs_start:inputs_end].to_numpy())\n",
        "        \n",
        "        inputs_normalized = standard_scaler.transform(inputs)\n",
        "\n",
        "    #Get actuals \n",
        "    actuals = df.loc[:, \"actual_0\":\"actual_47\"].to_numpy()\n",
        "    #torch.Tensor(actuals.to_numpy()).masked_fill(~mask.unsqueeze(1),0)\n",
        "    forecasts = forecasts.to_numpy().reshape((batch_size, 9, 48)).swapaxes(1, 2)\n",
        "    #torch.Tensor(forecasts.to_numpy().reshape((batch_size, 9, 48))).masked_fill(~mask.unsqueeze(1),0).swapaxes(1, 2)\n",
        "    del df\n",
        "\n",
        "    return torch.Tensor(inputs_normalized), forecasts, actuals , mask #TODO: This is hard coded to (9,48)\n",
        "\n"
      ],
      "execution_count": 11,
      "outputs": []
    },
    {
      "cell_type": "markdown",
      "metadata": {
        "id": "PvDVFcUJpQLe"
      },
      "source": [
        "Define a Dataset subclass for the M4 data"
      ]
    },
    {
      "cell_type": "code",
      "metadata": {
        "id": "5nUjLCeqpPOQ"
      },
      "source": [
        "class M4Data(Dataset):\n",
        "    \n",
        "    def __init__(self, path, manual_or_auto_toggle,type_of_normalization=\"standard\"):\n",
        "        df = pd.read_feather(path).set_index(\"index\").replace(np.nan, 0)\n",
        "        self.index = df.index.values      \n",
        "        self.length = df.shape[0]\n",
        "  \n",
        "        self.input, self.forecast, self.actuals, self.mask = feature_extractor(df, manual_or_auto_toggle, type_of_normalization)\n",
        "\n",
        "        print(\"Input shape\", self.input.shape)\n",
        "        \n",
        "    def __len__(self):\n",
        "        return self.length\n",
        "    \n",
        "    def __getitem__(self, idx):\n",
        "        return self.input[idx], self.forecast[idx] , self.actuals[idx] , self.mask[idx]"
      ],
      "execution_count": 18,
      "outputs": []
    },
    {
      "cell_type": "code",
      "metadata": {
        "id": "4Z3BeYoaqwLL"
      },
      "source": [
        "def get_dataloaders(train_path, val_path, batch_size, manual_or_auto_toggle, normalize=\"standard\"):\n",
        "    \n",
        "    cpus=1 #TODO fix this\n",
        "    train_data = M4Data(train_path, manual_or_auto_toggle,normalize)\n",
        "    val_data = M4Data(val_path, manual_or_auto_toggle, normalize)\n",
        "\n",
        "    train_loader = DataLoader(train_data, batch_size=batch_size, shuffle=True, num_workers=cpus)\n",
        "    val_loader = DataLoader(val_data, batch_size=batch_size, shuffle=True, num_workers=cpus)\n",
        "\n",
        "    return train_loader, val_loader"
      ],
      "execution_count": 13,
      "outputs": []
    },
    {
      "cell_type": "markdown",
      "metadata": {
        "id": "OJJhNFTgq2YF"
      },
      "source": [
        "Now create a loop for traning a model"
      ]
    },
    {
      "cell_type": "code",
      "metadata": {
        "id": "HafRiXtVZ80M"
      },
      "source": [
        "def train_model(model, train_loader, val_loader, conf):    \n",
        "    optimizer = optimizers[conf.optimizer](model.parameters(), lr=conf.learning_rate, weight_decay=conf.weight_decay)\n",
        "    loss_func = loss_functions[conf.loss_func]\n",
        "    train_loss_plot = []\n",
        "    val_loss_plot = []\n",
        "    it = tqdm(range(1, conf.epochs+1))\n",
        "    \n",
        "    best_loss = float(\"inf\")\n",
        "    batch_size = conf.batch_size\n",
        "    step = 0\n",
        "\n",
        "    for epoch in it:\n",
        "\n",
        "        #Each epoch has a training and validation phase\n",
        "        train_losses = []\n",
        "        val_losses = []\n",
        "        for phase in ['train','val']:\n",
        "            if phase == 'train':\n",
        "                model.train()  # Set model to training mode\n",
        "                batches = train_loader\n",
        "            else:\n",
        "                model.eval()  # Set model to evaluate mode\n",
        "                batches = val_loader\n",
        "\n",
        "            for i, (inputs, forecasts, actuals, mask) in enumerate(batches):\n",
        "                inputs = inputs.to(device)\n",
        "                forecasts = forecasts.to(device)\n",
        "                actuals = actuals.to(device)    \n",
        "                mask = mask.to(device)\n",
        "                \n",
        "                optimizer.zero_grad()\n",
        "\n",
        "                y_pred = model(inputs).unsqueeze(2) #Array containing tensors of weighted average for all forecasts\n",
        "\n",
        "                normalization_weights = actuals[:,0:1]\n",
        "\n",
        "                normalized_actuals = actuals/normalization_weights\n",
        "\n",
        "                prediction = torch.matmul(forecasts, y_pred).squeeze(2) / normalization_weights\n",
        "         \n",
        "                loss = loss_func(prediction.masked_select(mask), normalized_actuals.masked_select(mask)).mean()\n",
        "                \n",
        "                if phase == 'train':\n",
        "                    train_losses.append(loss.item())\n",
        "                    loss.backward()\n",
        "\n",
        "                    #Update the weights\n",
        "                    optimizer.step()\n",
        "                    \n",
        "                    step += 1\n",
        "                else:\n",
        "                    val_losses.append(loss.item())\n",
        "        train_loss = np.mean(train_losses)\n",
        "        val_loss = np.mean(val_losses)\n",
        "\n",
        "        wandb.log({\"train_loss\": train_loss, \"val_loss\": val_loss, \"epoch\": epoch, \"n_examples\":batch_size*step}, step=step)\n",
        "        if val_loss < best_loss: \n",
        "            best_loss = val_loss\n",
        "            best_model_wts = copy.deepcopy(model.state_dict())\n",
        "\n",
        "            filepath = f\"model.torch\"\n",
        "            torch.save(best_model_wts, filepath)\n",
        "            wandb.save(filepath)\n",
        "\n",
        "        #TODO: Add visualizations of actuals vs. forecasts \n",
        "        \n",
        "        train_mean = np.mean(train_loss)\n",
        "        val_mean = np.mean(val_loss)\n",
        "        it.set_postfix({\"train_loss\": train_mean, \"val_loss\": val_mean})\n",
        "        \n",
        "\n",
        "\n",
        "        train_loss_plot.append(train_mean)\n",
        "        val_loss_plot.append(val_mean)\n",
        "    model.load_state_dict(best_model_wts)\n",
        "    \n",
        "    return model.eval()\n",
        "    \n",
        "    \n",
        "    \"\"\"plt.subplot(1, 2, 1)\n",
        "    plt.title(\"Epoch training loss\")\n",
        "    plt.plot(train_loss_plot,label=\"Train_loss\")\n",
        "    \n",
        "    plt.subplot(1, 2, 2)\n",
        "    plt.title(\"Epoch validaton loss\")\n",
        "    plt.plot(val_loss_plot,label=\"val_loss\", color=\"orange\")\n",
        "    plt.show()\"\"\""
      ],
      "execution_count": 14,
      "outputs": []
    },
    {
      "cell_type": "markdown",
      "metadata": {
        "id": "h7-FhB-RV27-"
      },
      "source": [
        "##Begin training"
      ]
    },
    {
      "cell_type": "code",
      "metadata": {
        "id": "RXNHySSwjXyY"
      },
      "source": [
        "def train(config=None, project=None, entity=None, enablewb=True):\n",
        "    mode = \"online\" if enablewb else \"disabled\"\n",
        "    with wandb.init(config=config, project=project, entity=entity, job_type=\"training\", mode=mode) as run:\n",
        "        conf = wandb.config\n",
        "\n",
        "        train_path = '/content/drive/MyDrive/Master, Ankile og Krange/Data/Meta/m4_meta_am_train.feather'\n",
        "        val_path = '/content/drive/MyDrive/Master, Ankile og Krange/Data/Meta/m4_meta_am_val.feather'\n",
        "\n",
        "        (train_loader,\n",
        "         val_loader) = get_dataloaders(train_path, val_path, conf.batch_size, conf.manual_or_auto_toggle, conf.normalize_data)\n",
        "        \n",
        "        model = Dense_net(\n",
        "            in_size=42*(\"m\" in conf.manual_or_auto_toggle)+32*(\"a\" in conf.manual_or_auto_toggle),\n",
        "            out_size=9, #len(config.models),\n",
        "            dropout_1=conf.dropout_1,\n",
        "            dropout_2=conf.dropout_2,\n",
        "            hidden_dim1=conf.hidden_dim1,\n",
        "            hidden_dim2=conf.hidden_dim2,\n",
        "        )\n",
        "        print(f\"Moving model to device: {device}\")\n",
        "        model = model.to(device)\n",
        "        \n",
        "        \n",
        "        model = train_model(\n",
        "            model,\n",
        "            train_loader,\n",
        "            val_loader,\n",
        "            conf=conf,\n",
        "        )\n",
        "    return model\n",
        "    "
      ],
      "execution_count": 15,
      "outputs": []
    },
    {
      "cell_type": "markdown",
      "metadata": {
        "id": "txgaemzlh9DO"
      },
      "source": [
        "Config file for wanb"
      ]
    },
    {
      "cell_type": "code",
      "metadata": {
        "id": "MyJs3OK-iAxs"
      },
      "source": [
        "config = dict(\n",
        "    epochs=50,\n",
        "    hidden_dim1 = 32,\n",
        "    hidden_dim2 = 16,\n",
        "    learning_rate=1e-3,\n",
        "    dataartifact=\"m4_meta_am_train:v1\",\n",
        "    architecture=\"weight_net\",\n",
        "    batch_size=512,\n",
        "    optimizer=\"adamw\",\n",
        "    loss_func=\"sm\",\n",
        "    dropout_1=0.2,\n",
        "    dropout_2=0.2,\n",
        "    early_stop=False,\n",
        "    manual_or_auto_toggle=\"ma\",\n",
        "    normalize_data=\"standard\",\n",
        "    weight_decay=0.02,\n",
        ")"
      ],
      "execution_count": 19,
      "outputs": []
    },
    {
      "cell_type": "code",
      "metadata": {
        "colab": {
          "base_uri": "https://localhost:8080/",
          "height": 631,
          "referenced_widgets": [
            "e8424fcac03e407e8d0d3c1f0e7ad7c3",
            "6f55c64848fa4e30a5447da526ee1c6c",
            "a3e91496754a40f5b9de6d467eaa6ae6",
            "9a7577d630e34b40a3f20d56e2ba21aa",
            "b4ba150294e040348c998521d4a78c0c",
            "2c5529ce987047d9afb67ace6d4a99c6",
            "ef1eca26b76044fea2182387730639b9",
            "2838d7482c8445bfa8a17f643b313e34"
          ]
        },
        "id": "wE0qbeQFwyk0",
        "outputId": "e426b068-e78f-4aaf-9571-69b62b43561a"
      },
      "source": [
        "train(config=config, project=\"weight-net\", entity=\"Krankile\", enablewb=True)"
      ],
      "execution_count": 20,
      "outputs": [
        {
          "output_type": "display_data",
          "data": {
            "text/html": [
              "\n",
              "                    Syncing run <strong><a href=\"https://wandb.ai/krankile/weight-net/runs/88rgucq9\" target=\"_blank\">earthy-universe-273</a></strong> to <a href=\"https://wandb.ai/krankile/weight-net\" target=\"_blank\">Weights & Biases</a> (<a href=\"https://docs.wandb.com/integrations/jupyter.html\" target=\"_blank\">docs</a>).<br/>\n",
              "\n",
              "                "
            ],
            "text/plain": [
              "<IPython.core.display.HTML object>"
            ]
          },
          "metadata": {}
        },
        {
          "output_type": "stream",
          "name": "stdout",
          "text": [
            "Input shape torch.Size([90000, 74])\n",
            "Input shape torch.Size([9995, 74])\n",
            "Moving model to device: cuda:0\n"
          ]
        },
        {
          "output_type": "stream",
          "name": "stderr",
          "text": [
            " 12%|█▏        | 6/50 [00:24<03:02,  4.15s/it, train_loss=0.111, val_loss=0.11]\n"
          ]
        },
        {
          "output_type": "display_data",
          "data": {
            "text/html": [
              "<br/>Waiting for W&B process to finish, PID 637... <strong style=\"color:red\">(failed 1).</strong> Press ctrl-c to abort syncing."
            ],
            "text/plain": [
              "<IPython.core.display.HTML object>"
            ]
          },
          "metadata": {}
        },
        {
          "output_type": "display_data",
          "data": {
            "application/vnd.jupyter.widget-view+json": {
              "model_id": "e8424fcac03e407e8d0d3c1f0e7ad7c3",
              "version_minor": 0,
              "version_major": 2
            },
            "text/plain": [
              "VBox(children=(Label(value=' 0.01MB of 0.01MB uploaded (0.00MB deduped)\\r'), FloatProgress(value=1.0, max=1.0)…"
            ]
          },
          "metadata": {}
        },
        {
          "output_type": "display_data",
          "data": {
            "text/html": [
              "<style>\n",
              "    table.wandb td:nth-child(1) { padding: 0 10px; text-align: right }\n",
              "    .wandb-row { display: flex; flex-direction: row; flex-wrap: wrap; width: 100% }\n",
              "    .wandb-col { display: flex; flex-direction: column; flex-basis: 100%; flex: 1; padding: 10px; }\n",
              "    </style>\n",
              "<div class=\"wandb-row\"><div class=\"wandb-col\">\n",
              "<h3>Run history:</h3><br/><table class=\"wandb\"><tr><td>epoch</td><td>▁▂▄▅▇█</td></tr><tr><td>n_examples</td><td>▁▂▄▅▇█</td></tr><tr><td>train_loss</td><td>█▄▃▂▁▁</td></tr><tr><td>val_loss</td><td>█▅▃▄▁▁</td></tr></table><br/></div><div class=\"wandb-col\">\n",
              "<h3>Run summary:</h3><br/><table class=\"wandb\"><tr><td>epoch</td><td>6</td></tr><tr><td>n_examples</td><td>540672</td></tr><tr><td>train_loss</td><td>0.1111</td></tr><tr><td>val_loss</td><td>0.11018</td></tr></table>\n",
              "</div></div>\n",
              "Synced 5 W&B file(s), 0 media file(s), 0 artifact file(s) and 1 other file(s)\n",
              "<br/>Synced <strong style=\"color:#cdcd00\">earthy-universe-273</strong>: <a href=\"https://wandb.ai/krankile/weight-net/runs/88rgucq9\" target=\"_blank\">https://wandb.ai/krankile/weight-net/runs/88rgucq9</a><br/>\n",
              "Find logs at: <code>./wandb/run-20211108_102907-88rgucq9/logs</code><br/>\n"
            ],
            "text/plain": [
              "<IPython.core.display.HTML object>"
            ]
          },
          "metadata": {}
        },
        {
          "output_type": "error",
          "ename": "KeyboardInterrupt",
          "evalue": "ignored",
          "traceback": [
            "\u001b[0;31m---------------------------------------------------------------------------\u001b[0m",
            "\u001b[0;31mKeyboardInterrupt\u001b[0m                         Traceback (most recent call last)",
            "\u001b[0;32m<ipython-input-20-41b4d8f2872a>\u001b[0m in \u001b[0;36m<module>\u001b[0;34m()\u001b[0m\n\u001b[0;32m----> 1\u001b[0;31m \u001b[0mtrain\u001b[0m\u001b[0;34m(\u001b[0m\u001b[0mconfig\u001b[0m\u001b[0;34m=\u001b[0m\u001b[0mconfig\u001b[0m\u001b[0;34m,\u001b[0m \u001b[0mproject\u001b[0m\u001b[0;34m=\u001b[0m\u001b[0;34m\"weight-net\"\u001b[0m\u001b[0;34m,\u001b[0m \u001b[0mentity\u001b[0m\u001b[0;34m=\u001b[0m\u001b[0;34m\"Krankile\"\u001b[0m\u001b[0;34m,\u001b[0m \u001b[0menablewb\u001b[0m\u001b[0;34m=\u001b[0m\u001b[0;32mTrue\u001b[0m\u001b[0;34m)\u001b[0m\u001b[0;34m\u001b[0m\u001b[0;34m\u001b[0m\u001b[0m\n\u001b[0m",
            "\u001b[0;32m<ipython-input-15-d5a36755e64f>\u001b[0m in \u001b[0;36mtrain\u001b[0;34m(config, project, entity, enablewb)\u001b[0m\n\u001b[1;32m     26\u001b[0m             \u001b[0mtrain_loader\u001b[0m\u001b[0;34m,\u001b[0m\u001b[0;34m\u001b[0m\u001b[0;34m\u001b[0m\u001b[0m\n\u001b[1;32m     27\u001b[0m             \u001b[0mval_loader\u001b[0m\u001b[0;34m,\u001b[0m\u001b[0;34m\u001b[0m\u001b[0;34m\u001b[0m\u001b[0m\n\u001b[0;32m---> 28\u001b[0;31m             \u001b[0mconf\u001b[0m\u001b[0;34m=\u001b[0m\u001b[0mconf\u001b[0m\u001b[0;34m,\u001b[0m\u001b[0;34m\u001b[0m\u001b[0;34m\u001b[0m\u001b[0m\n\u001b[0m\u001b[1;32m     29\u001b[0m         )\n\u001b[1;32m     30\u001b[0m     \u001b[0;32mreturn\u001b[0m \u001b[0mmodel\u001b[0m\u001b[0;34m\u001b[0m\u001b[0;34m\u001b[0m\u001b[0m\n",
            "\u001b[0;32m<ipython-input-14-0857536a6d6e>\u001b[0m in \u001b[0;36mtrain_model\u001b[0;34m(model, train_loader, val_loader, conf)\u001b[0m\n\u001b[1;32m     46\u001b[0m \u001b[0;34m\u001b[0m\u001b[0m\n\u001b[1;32m     47\u001b[0m                     \u001b[0;31m#Update the weights\u001b[0m\u001b[0;34m\u001b[0m\u001b[0;34m\u001b[0m\u001b[0;34m\u001b[0m\u001b[0m\n\u001b[0;32m---> 48\u001b[0;31m                     \u001b[0moptimizer\u001b[0m\u001b[0;34m.\u001b[0m\u001b[0mstep\u001b[0m\u001b[0;34m(\u001b[0m\u001b[0;34m)\u001b[0m\u001b[0;34m\u001b[0m\u001b[0;34m\u001b[0m\u001b[0m\n\u001b[0m\u001b[1;32m     49\u001b[0m \u001b[0;34m\u001b[0m\u001b[0m\n\u001b[1;32m     50\u001b[0m                     \u001b[0mstep\u001b[0m \u001b[0;34m+=\u001b[0m \u001b[0;36m1\u001b[0m\u001b[0;34m\u001b[0m\u001b[0;34m\u001b[0m\u001b[0m\n",
            "\u001b[0;32m/usr/local/lib/python3.7/dist-packages/torch/optim/optimizer.py\u001b[0m in \u001b[0;36mwrapper\u001b[0;34m(*args, **kwargs)\u001b[0m\n\u001b[1;32m     86\u001b[0m                 \u001b[0mprofile_name\u001b[0m \u001b[0;34m=\u001b[0m \u001b[0;34m\"Optimizer.step#{}.step\"\u001b[0m\u001b[0;34m.\u001b[0m\u001b[0mformat\u001b[0m\u001b[0;34m(\u001b[0m\u001b[0mobj\u001b[0m\u001b[0;34m.\u001b[0m\u001b[0m__class__\u001b[0m\u001b[0;34m.\u001b[0m\u001b[0m__name__\u001b[0m\u001b[0;34m)\u001b[0m\u001b[0;34m\u001b[0m\u001b[0;34m\u001b[0m\u001b[0m\n\u001b[1;32m     87\u001b[0m                 \u001b[0;32mwith\u001b[0m \u001b[0mtorch\u001b[0m\u001b[0;34m.\u001b[0m\u001b[0mautograd\u001b[0m\u001b[0;34m.\u001b[0m\u001b[0mprofiler\u001b[0m\u001b[0;34m.\u001b[0m\u001b[0mrecord_function\u001b[0m\u001b[0;34m(\u001b[0m\u001b[0mprofile_name\u001b[0m\u001b[0;34m)\u001b[0m\u001b[0;34m:\u001b[0m\u001b[0;34m\u001b[0m\u001b[0;34m\u001b[0m\u001b[0m\n\u001b[0;32m---> 88\u001b[0;31m                     \u001b[0;32mreturn\u001b[0m \u001b[0mfunc\u001b[0m\u001b[0;34m(\u001b[0m\u001b[0;34m*\u001b[0m\u001b[0margs\u001b[0m\u001b[0;34m,\u001b[0m \u001b[0;34m**\u001b[0m\u001b[0mkwargs\u001b[0m\u001b[0;34m)\u001b[0m\u001b[0;34m\u001b[0m\u001b[0;34m\u001b[0m\u001b[0m\n\u001b[0m\u001b[1;32m     89\u001b[0m             \u001b[0;32mreturn\u001b[0m \u001b[0mwrapper\u001b[0m\u001b[0;34m\u001b[0m\u001b[0;34m\u001b[0m\u001b[0m\n\u001b[1;32m     90\u001b[0m \u001b[0;34m\u001b[0m\u001b[0m\n",
            "\u001b[0;32m/usr/local/lib/python3.7/dist-packages/torch/autograd/grad_mode.py\u001b[0m in \u001b[0;36mdecorate_context\u001b[0;34m(*args, **kwargs)\u001b[0m\n\u001b[1;32m     26\u001b[0m         \u001b[0;32mdef\u001b[0m \u001b[0mdecorate_context\u001b[0m\u001b[0;34m(\u001b[0m\u001b[0;34m*\u001b[0m\u001b[0margs\u001b[0m\u001b[0;34m,\u001b[0m \u001b[0;34m**\u001b[0m\u001b[0mkwargs\u001b[0m\u001b[0;34m)\u001b[0m\u001b[0;34m:\u001b[0m\u001b[0;34m\u001b[0m\u001b[0;34m\u001b[0m\u001b[0m\n\u001b[1;32m     27\u001b[0m             \u001b[0;32mwith\u001b[0m \u001b[0mself\u001b[0m\u001b[0;34m.\u001b[0m\u001b[0m__class__\u001b[0m\u001b[0;34m(\u001b[0m\u001b[0;34m)\u001b[0m\u001b[0;34m:\u001b[0m\u001b[0;34m\u001b[0m\u001b[0;34m\u001b[0m\u001b[0m\n\u001b[0;32m---> 28\u001b[0;31m                 \u001b[0;32mreturn\u001b[0m \u001b[0mfunc\u001b[0m\u001b[0;34m(\u001b[0m\u001b[0;34m*\u001b[0m\u001b[0margs\u001b[0m\u001b[0;34m,\u001b[0m \u001b[0;34m**\u001b[0m\u001b[0mkwargs\u001b[0m\u001b[0;34m)\u001b[0m\u001b[0;34m\u001b[0m\u001b[0;34m\u001b[0m\u001b[0m\n\u001b[0m\u001b[1;32m     29\u001b[0m         \u001b[0;32mreturn\u001b[0m \u001b[0mcast\u001b[0m\u001b[0;34m(\u001b[0m\u001b[0mF\u001b[0m\u001b[0;34m,\u001b[0m \u001b[0mdecorate_context\u001b[0m\u001b[0;34m)\u001b[0m\u001b[0;34m\u001b[0m\u001b[0;34m\u001b[0m\u001b[0m\n\u001b[1;32m     30\u001b[0m \u001b[0;34m\u001b[0m\u001b[0m\n",
            "\u001b[0;32m/usr/local/lib/python3.7/dist-packages/torch/optim/adamw.py\u001b[0m in \u001b[0;36mstep\u001b[0;34m(self, closure)\u001b[0m\n\u001b[1;32m    119\u001b[0m                     \u001b[0mlr\u001b[0m\u001b[0;34m=\u001b[0m\u001b[0mgroup\u001b[0m\u001b[0;34m[\u001b[0m\u001b[0;34m'lr'\u001b[0m\u001b[0;34m]\u001b[0m\u001b[0;34m,\u001b[0m\u001b[0;34m\u001b[0m\u001b[0;34m\u001b[0m\u001b[0m\n\u001b[1;32m    120\u001b[0m                     \u001b[0mweight_decay\u001b[0m\u001b[0;34m=\u001b[0m\u001b[0mgroup\u001b[0m\u001b[0;34m[\u001b[0m\u001b[0;34m'weight_decay'\u001b[0m\u001b[0;34m]\u001b[0m\u001b[0;34m,\u001b[0m\u001b[0;34m\u001b[0m\u001b[0;34m\u001b[0m\u001b[0m\n\u001b[0;32m--> 121\u001b[0;31m                     eps=group['eps'])\n\u001b[0m\u001b[1;32m    122\u001b[0m \u001b[0;34m\u001b[0m\u001b[0m\n\u001b[1;32m    123\u001b[0m         \u001b[0;32mreturn\u001b[0m \u001b[0mloss\u001b[0m\u001b[0;34m\u001b[0m\u001b[0;34m\u001b[0m\u001b[0m\n",
            "\u001b[0;32m/usr/local/lib/python3.7/dist-packages/torch/optim/_functional.py\u001b[0m in \u001b[0;36madamw\u001b[0;34m(params, grads, exp_avgs, exp_avg_sqs, max_exp_avg_sqs, state_steps, amsgrad, beta1, beta2, lr, weight_decay, eps)\u001b[0m\n\u001b[1;32m    130\u001b[0m         \u001b[0;31m# Decay the first and second moment running average coefficient\u001b[0m\u001b[0;34m\u001b[0m\u001b[0;34m\u001b[0m\u001b[0;34m\u001b[0m\u001b[0m\n\u001b[1;32m    131\u001b[0m         \u001b[0mexp_avg\u001b[0m\u001b[0;34m.\u001b[0m\u001b[0mmul_\u001b[0m\u001b[0;34m(\u001b[0m\u001b[0mbeta1\u001b[0m\u001b[0;34m)\u001b[0m\u001b[0;34m.\u001b[0m\u001b[0madd_\u001b[0m\u001b[0;34m(\u001b[0m\u001b[0mgrad\u001b[0m\u001b[0;34m,\u001b[0m \u001b[0malpha\u001b[0m\u001b[0;34m=\u001b[0m\u001b[0;36m1\u001b[0m \u001b[0;34m-\u001b[0m \u001b[0mbeta1\u001b[0m\u001b[0;34m)\u001b[0m\u001b[0;34m\u001b[0m\u001b[0;34m\u001b[0m\u001b[0m\n\u001b[0;32m--> 132\u001b[0;31m         \u001b[0mexp_avg_sq\u001b[0m\u001b[0;34m.\u001b[0m\u001b[0mmul_\u001b[0m\u001b[0;34m(\u001b[0m\u001b[0mbeta2\u001b[0m\u001b[0;34m)\u001b[0m\u001b[0;34m.\u001b[0m\u001b[0maddcmul_\u001b[0m\u001b[0;34m(\u001b[0m\u001b[0mgrad\u001b[0m\u001b[0;34m,\u001b[0m \u001b[0mgrad\u001b[0m\u001b[0;34m,\u001b[0m \u001b[0mvalue\u001b[0m\u001b[0;34m=\u001b[0m\u001b[0;36m1\u001b[0m \u001b[0;34m-\u001b[0m \u001b[0mbeta2\u001b[0m\u001b[0;34m)\u001b[0m\u001b[0;34m\u001b[0m\u001b[0;34m\u001b[0m\u001b[0m\n\u001b[0m\u001b[1;32m    133\u001b[0m         \u001b[0;32mif\u001b[0m \u001b[0mamsgrad\u001b[0m\u001b[0;34m:\u001b[0m\u001b[0;34m\u001b[0m\u001b[0;34m\u001b[0m\u001b[0m\n\u001b[1;32m    134\u001b[0m             \u001b[0;31m# Maintains the maximum of all 2nd moment running avg. till now\u001b[0m\u001b[0;34m\u001b[0m\u001b[0;34m\u001b[0m\u001b[0;34m\u001b[0m\u001b[0m\n",
            "\u001b[0;31mKeyboardInterrupt\u001b[0m: "
          ]
        }
      ]
    },
    {
      "cell_type": "code",
      "metadata": {
        "colab": {
          "base_uri": "https://localhost:8080/",
          "height": 375
        },
        "id": "AZB_tAmj9S3y",
        "outputId": "7de46431-9f9e-43ef-f3f0-6203f41e7ca9"
      },
      "source": [
        "count = 200 # number of runs to execute\n",
        "wandb.agent(\"krankile/weight-net/axkrro43\", function=train, count=count)"
      ],
      "execution_count": null,
      "outputs": [
        {
          "output_type": "stream",
          "name": "stderr",
          "text": [
            "\u001b[34m\u001b[1mwandb\u001b[0m: Agent Starting Run: ltvjqu3k with config:\n",
            "\u001b[34m\u001b[1mwandb\u001b[0m: \tarchitecture: weight_net\n",
            "\u001b[34m\u001b[1mwandb\u001b[0m: \tbatch_size: 2048\n",
            "\u001b[34m\u001b[1mwandb\u001b[0m: \tdataartifact: m4_meta_am_train:v1\n",
            "\u001b[34m\u001b[1mwandb\u001b[0m: \tdropout_1: 0.8117179030072911\n",
            "\u001b[34m\u001b[1mwandb\u001b[0m: \tdropout_2: 0.2713107313614934\n",
            "\u001b[34m\u001b[1mwandb\u001b[0m: \tearly_stop: False\n",
            "\u001b[34m\u001b[1mwandb\u001b[0m: \tepochs: 500\n",
            "\u001b[34m\u001b[1mwandb\u001b[0m: \thidden_dim1: 256\n",
            "\u001b[34m\u001b[1mwandb\u001b[0m: \thidden_dim2: 128\n",
            "\u001b[34m\u001b[1mwandb\u001b[0m: \tlearning_rate: 0.001765928949130826\n",
            "\u001b[34m\u001b[1mwandb\u001b[0m: \tloss_func: sm\n",
            "\u001b[34m\u001b[1mwandb\u001b[0m: \tmanual_or_auto_toggle: a\n",
            "\u001b[34m\u001b[1mwandb\u001b[0m: \tnormalize_data: minmax\n",
            "\u001b[34m\u001b[1mwandb\u001b[0m: \toptimizer: sgd\n",
            "\u001b[34m\u001b[1mwandb\u001b[0m: \tweight_decay: 0.039110068704798544\n"
          ]
        },
        {
          "output_type": "display_data",
          "data": {
            "text/html": [
              "\n",
              "                    Syncing run <strong><a href=\"https://wandb.ai/krankile/weight-net/runs/ltvjqu3k\" target=\"_blank\">restful-sweep-1</a></strong> to <a href=\"https://wandb.ai/krankile/weight-net\" target=\"_blank\">Weights & Biases</a> (<a href=\"https://docs.wandb.com/integrations/jupyter.html\" target=\"_blank\">docs</a>).<br/>\n",
              "Sweep page: <a href=\"https://wandb.ai/krankile/weight-net/sweeps/axkrro43\" target=\"_blank\">https://wandb.ai/krankile/weight-net/sweeps/axkrro43</a><br/>\n",
              "\n",
              "                "
            ],
            "text/plain": [
              "<IPython.core.display.HTML object>"
            ]
          },
          "metadata": {}
        },
        {
          "output_type": "stream",
          "name": "stdout",
          "text": [
            "Input shape torch.Size([90000, 32])\n",
            "Input shape torch.Size([9995, 32])\n",
            "Moving model to device: cuda:0\n"
          ]
        },
        {
          "output_type": "stream",
          "name": "stderr",
          "text": [
            "  6%|▌         | 28/500 [01:37<27:14,  3.46s/it, train_loss=0.121, val_loss=0.119]"
          ]
        }
      ]
    },
    {
      "cell_type": "markdown",
      "metadata": {
        "id": "z9qWiol8h6A1"
      },
      "source": [
        "#Outdated "
      ]
    },
    {
      "cell_type": "code",
      "metadata": {
        "colab": {
          "base_uri": "https://localhost:8080/",
          "height": 1000
        },
        "id": "h6aWSJUPG6tH",
        "outputId": "277adaa8-2687-4166-8abe-12b422b4645c"
      },
      "source": [
        "net_untrained = Dense_net(42,9)\n",
        "plt.rcParams[\"figure.figsize\"] = (16,8)\n",
        "def plot_some_forecast_and_actuals(net, n_plots):\n",
        "    \n",
        "    for i in random.sample(range(5000), k=n_plots): \n",
        "      \n",
        "      inputs, forecasts, actuals, mask = feature_extractor(meta_train.iloc[[i]], \"m\", \"minmax\")\n",
        "      y_pred = net(inputs).unsqueeze(2)\n",
        "      y_pred_2 = net_untrained(inputs).unsqueeze(2)\n",
        "      \n",
        "      #print(\"trained\", y_pred)\n",
        "      #print(\"untrained\", y_pred_2)\n",
        "\n",
        "      \n",
        "      method_forecast_tup = []\n",
        "\n",
        "      predictions = torch.matmul(forecasts, y_pred).squeeze(2)\n",
        "      predictions_un = torch.matmul(forecasts, y_pred_2).squeeze(2)\n",
        "\n",
        "      plt.title(i)\n",
        "      plt.plot(predictions.detach().numpy()[0], label=\"prediction\")\n",
        "      plt.plot(predictions_un.detach().numpy()[0], label=\"Untrained prediction\")\n",
        "      plt.plot(actuals.detach().numpy()[0], label=\"actual\")\n",
        "      plt.legend()\n",
        "      plt.show()\n",
        "\n",
        "plot_some_forecast_and_actuals(net, 3)"
      ],
      "execution_count": null,
      "outputs": [
        {
          "output_type": "display_data",
          "data": {
            "image/png": "[encoded data removed]",
            "text/plain": [
              "<Figure size 1152x576 with 1 Axes>"
            ]
          },
          "metadata": {
            "needs_background": "light"
          }
        },
        {
          "output_type": "display_data",
          "data": {
            "image/png": "[encoded data removed]",
            "text/plain": [
              "<Figure size 1152x576 with 1 Axes>"
            ]
          },
          "metadata": {
            "needs_background": "light"
          }
        },
        {
          "output_type": "display_data",
          "data": {
            "image/png": "[encoded data removed]",
            "text/plain": [
              "<Figure size 1152x576 with 1 Axes>"
            ]
          },
          "metadata": {
            "needs_background": "light"
          }
        }
      ]
    },
    {
      "cell_type": "code",
      "metadata": {
        "id": "nACPpjG0znMG"
      },
      "source": [
        ""
      ],
      "execution_count": null,
      "outputs": []
    }
  ]
}