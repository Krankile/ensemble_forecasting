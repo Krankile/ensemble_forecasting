{
  "nbformat": 4,
  "nbformat_minor": 0,
  "metadata": {
    "accelerator": "GPU",
    "colab": {
      "name": "LSTM_feature_extractor_sweep_v03.ipynb",
      "provenance": [],
      "collapsed_sections": [
        "Ucj1BmWBwFT5",
        "L0TVb41qtp2C",
        "9t_zHF7NtuFp",
        "PSkulmiYtw3S"
      ],
      "mount_file_id": "https://github.com/Krankile/ensemble-forcasting/blob/main/LSTM_feature_extractor.ipynb",
      "authorship_tag": "ABX9TyPx6U+AQ+5xixyE9DEm50m/",
      "include_colab_link": true
    },
    "kernelspec": {
      "display_name": "Python 3",
      "name": "python3"
    },
    "language_info": {
      "name": "python"
    },
    "widgets": {
      "application/vnd.jupyter.widget-state+json": {
        "fc63bc24927c47cf80b886cddb7a68e1": {
          "model_module": "@jupyter-widgets/controls",
          "model_name": "VBoxModel",
          "model_module_version": "1.5.0",
          "state": {
            "_view_name": "VBoxView",
            "_dom_classes": [],
            "_model_name": "VBoxModel",
            "_view_module": "@jupyter-widgets/controls",
            "_model_module_version": "1.5.0",
            "_view_count": null,
            "_view_module_version": "1.5.0",
            "box_style": "",
            "layout": "IPY_MODEL_3cad63594a5a4409a9b0449108995785",
            "_model_module": "@jupyter-widgets/controls",
            "children": [
              "IPY_MODEL_320bd5297e6949d5b973b0bfee9b206a",
              "IPY_MODEL_1cbd6b2a03f248758baa7639f1fff2e7"
            ]
          }
        },
        "3cad63594a5a4409a9b0449108995785": {
          "model_module": "@jupyter-widgets/base",
          "model_name": "LayoutModel",
          "model_module_version": "1.2.0",
          "state": {
            "_view_name": "LayoutView",
            "grid_template_rows": null,
            "right": null,
            "justify_content": null,
            "_view_module": "@jupyter-widgets/base",
            "overflow": null,
            "_model_module_version": "1.2.0",
            "_view_count": null,
            "flex_flow": null,
            "width": null,
            "min_width": null,
            "border": null,
            "align_items": null,
            "bottom": null,
            "_model_module": "@jupyter-widgets/base",
            "top": null,
            "grid_column": null,
            "overflow_y": null,
            "overflow_x": null,
            "grid_auto_flow": null,
            "grid_area": null,
            "grid_template_columns": null,
            "flex": null,
            "_model_name": "LayoutModel",
            "justify_items": null,
            "grid_row": null,
            "max_height": null,
            "align_content": null,
            "visibility": null,
            "align_self": null,
            "height": null,
            "min_height": null,
            "padding": null,
            "grid_auto_rows": null,
            "grid_gap": null,
            "max_width": null,
            "order": null,
            "_view_module_version": "1.2.0",
            "grid_template_areas": null,
            "object_position": null,
            "object_fit": null,
            "grid_auto_columns": null,
            "margin": null,
            "display": null,
            "left": null
          }
        },
        "320bd5297e6949d5b973b0bfee9b206a": {
          "model_module": "@jupyter-widgets/controls",
          "model_name": "LabelModel",
          "model_module_version": "1.5.0",
          "state": {
            "_view_name": "LabelView",
            "style": "IPY_MODEL_d17667dd04bd4121a3c3a54f9bb89404",
            "_dom_classes": [],
            "description": "",
            "_model_name": "LabelModel",
            "placeholder": "​",
            "_view_module": "@jupyter-widgets/controls",
            "_model_module_version": "1.5.0",
            "value": " 0.11MB of 0.11MB uploaded (0.00MB deduped)\r",
            "_view_count": null,
            "_view_module_version": "1.5.0",
            "description_tooltip": null,
            "_model_module": "@jupyter-widgets/controls",
            "layout": "IPY_MODEL_787a66495108401fa5fefa6856fd70ae"
          }
        },
        "1cbd6b2a03f248758baa7639f1fff2e7": {
          "model_module": "@jupyter-widgets/controls",
          "model_name": "FloatProgressModel",
          "model_module_version": "1.5.0",
          "state": {
            "_view_name": "ProgressView",
            "style": "IPY_MODEL_6d2f87f274d8445083c65f5f3562a35b",
            "_dom_classes": [],
            "description": "",
            "_model_name": "FloatProgressModel",
            "bar_style": "",
            "max": 1,
            "_view_module": "@jupyter-widgets/controls",
            "_model_module_version": "1.5.0",
            "value": 1,
            "_view_count": null,
            "_view_module_version": "1.5.0",
            "orientation": "horizontal",
            "min": 0,
            "description_tooltip": null,
            "_model_module": "@jupyter-widgets/controls",
            "layout": "IPY_MODEL_11a4f197f528415db1673f3aab3351c9"
          }
        },
        "d17667dd04bd4121a3c3a54f9bb89404": {
          "model_module": "@jupyter-widgets/controls",
          "model_name": "DescriptionStyleModel",
          "model_module_version": "1.5.0",
          "state": {
            "_view_name": "StyleView",
            "_model_name": "DescriptionStyleModel",
            "description_width": "",
            "_view_module": "@jupyter-widgets/base",
            "_model_module_version": "1.5.0",
            "_view_count": null,
            "_view_module_version": "1.2.0",
            "_model_module": "@jupyter-widgets/controls"
          }
        },
        "787a66495108401fa5fefa6856fd70ae": {
          "model_module": "@jupyter-widgets/base",
          "model_name": "LayoutModel",
          "model_module_version": "1.2.0",
          "state": {
            "_view_name": "LayoutView",
            "grid_template_rows": null,
            "right": null,
            "justify_content": null,
            "_view_module": "@jupyter-widgets/base",
            "overflow": null,
            "_model_module_version": "1.2.0",
            "_view_count": null,
            "flex_flow": null,
            "width": null,
            "min_width": null,
            "border": null,
            "align_items": null,
            "bottom": null,
            "_model_module": "@jupyter-widgets/base",
            "top": null,
            "grid_column": null,
            "overflow_y": null,
            "overflow_x": null,
            "grid_auto_flow": null,
            "grid_area": null,
            "grid_template_columns": null,
            "flex": null,
            "_model_name": "LayoutModel",
            "justify_items": null,
            "grid_row": null,
            "max_height": null,
            "align_content": null,
            "visibility": null,
            "align_self": null,
            "height": null,
            "min_height": null,
            "padding": null,
            "grid_auto_rows": null,
            "grid_gap": null,
            "max_width": null,
            "order": null,
            "_view_module_version": "1.2.0",
            "grid_template_areas": null,
            "object_position": null,
            "object_fit": null,
            "grid_auto_columns": null,
            "margin": null,
            "display": null,
            "left": null
          }
        },
        "6d2f87f274d8445083c65f5f3562a35b": {
          "model_module": "@jupyter-widgets/controls",
          "model_name": "ProgressStyleModel",
          "model_module_version": "1.5.0",
          "state": {
            "_view_name": "StyleView",
            "_model_name": "ProgressStyleModel",
            "description_width": "",
            "_view_module": "@jupyter-widgets/base",
            "_model_module_version": "1.5.0",
            "_view_count": null,
            "_view_module_version": "1.2.0",
            "bar_color": null,
            "_model_module": "@jupyter-widgets/controls"
          }
        },
        "11a4f197f528415db1673f3aab3351c9": {
          "model_module": "@jupyter-widgets/base",
          "model_name": "LayoutModel",
          "model_module_version": "1.2.0",
          "state": {
            "_view_name": "LayoutView",
            "grid_template_rows": null,
            "right": null,
            "justify_content": null,
            "_view_module": "@jupyter-widgets/base",
            "overflow": null,
            "_model_module_version": "1.2.0",
            "_view_count": null,
            "flex_flow": null,
            "width": null,
            "min_width": null,
            "border": null,
            "align_items": null,
            "bottom": null,
            "_model_module": "@jupyter-widgets/base",
            "top": null,
            "grid_column": null,
            "overflow_y": null,
            "overflow_x": null,
            "grid_auto_flow": null,
            "grid_area": null,
            "grid_template_columns": null,
            "flex": null,
            "_model_name": "LayoutModel",
            "justify_items": null,
            "grid_row": null,
            "max_height": null,
            "align_content": null,
            "visibility": null,
            "align_self": null,
            "height": null,
            "min_height": null,
            "padding": null,
            "grid_auto_rows": null,
            "grid_gap": null,
            "max_width": null,
            "order": null,
            "_view_module_version": "1.2.0",
            "grid_template_areas": null,
            "object_position": null,
            "object_fit": null,
            "grid_auto_columns": null,
            "margin": null,
            "display": null,
            "left": null
          }
        }
      }
    }
  },
  "cells": [
    {
      "cell_type": "markdown",
      "metadata": {
        "id": "view-in-github",
        "colab_type": "text"
      },
      "source": [
        "<a href=\"https://colab.research.google.com/github/Krankile/ensemble-forcasting/blob/main/LSTM_feature_extractor_sweep_v03.ipynb\" target=\"_parent\"><img src=\"https://colab.research.google.com/assets/colab-badge.svg\" alt=\"Open In Colab\"/></a>"
      ]
    },
    {
      "cell_type": "markdown",
      "metadata": {
        "id": "Ucj1BmWBwFT5"
      },
      "source": [
        "## Setup"
      ]
    },
    {
      "cell_type": "code",
      "metadata": {
        "id": "rflHmkkgMhbx"
      },
      "source": [
        "%%capture\n",
        "!pip install wandb --upgrade"
      ],
      "execution_count": 1,
      "outputs": []
    },
    {
      "cell_type": "code",
      "metadata": {
        "colab": {
          "base_uri": "https://localhost:8080/"
        },
        "id": "6NOjedVwhAX9",
        "outputId": "51728daa-7427-480a-db23-642a527d24da"
      },
      "source": [
        "import os\n",
        "import copy\n",
        "import random\n",
        "from datetime import datetime\n",
        "\n",
        "import numpy as np\n",
        "import matplotlib.pyplot as plt\n",
        "import pandas as pd\n",
        "from more_itertools import chunked\n",
        "\n",
        "from tqdm import tqdm\n",
        "\n",
        "import torch\n",
        "from torch import nn\n",
        "\n",
        "plt.rcParams[\"figure.figsize\"] = (12,4)\n",
        "\n",
        "device = torch.device(\"cuda\" if torch.cuda.is_available() else \"cpu\")\n",
        "device"
      ],
      "execution_count": 2,
      "outputs": [
        {
          "output_type": "execute_result",
          "data": {
            "text/plain": [
              "device(type='cuda')"
            ]
          },
          "metadata": {},
          "execution_count": 2
        }
      ]
    },
    {
      "cell_type": "code",
      "metadata": {
        "colab": {
          "base_uri": "https://localhost:8080/"
        },
        "id": "6mTMCp1g57Ku",
        "outputId": "a0f53f75-6d29-4b6c-aa9d-1b99e7136308"
      },
      "source": [
        "!nvidia-smi"
      ],
      "execution_count": 3,
      "outputs": [
        {
          "output_type": "stream",
          "name": "stdout",
          "text": [
            "Mon Oct 25 13:42:38 2021       \n",
            "+-----------------------------------------------------------------------------+\n",
            "| NVIDIA-SMI 470.74       Driver Version: 460.32.03    CUDA Version: 11.2     |\n",
            "|-------------------------------+----------------------+----------------------+\n",
            "| GPU  Name        Persistence-M| Bus-Id        Disp.A | Volatile Uncorr. ECC |\n",
            "| Fan  Temp  Perf  Pwr:Usage/Cap|         Memory-Usage | GPU-Util  Compute M. |\n",
            "|                               |                      |               MIG M. |\n",
            "|===============================+======================+======================|\n",
            "|   0  Tesla P100-PCIE...  Off  | 00000000:00:04.0 Off |                    0 |\n",
            "| N/A   36C    P0    26W / 250W |      2MiB / 16280MiB |      0%      Default |\n",
            "|                               |                      |                  N/A |\n",
            "+-------------------------------+----------------------+----------------------+\n",
            "                                                                               \n",
            "+-----------------------------------------------------------------------------+\n",
            "| Processes:                                                                  |\n",
            "|  GPU   GI   CI        PID   Type   Process name                  GPU Memory |\n",
            "|        ID   ID                                                   Usage      |\n",
            "|=============================================================================|\n",
            "|  No running processes found                                                 |\n",
            "+-----------------------------------------------------------------------------+\n"
          ]
        }
      ]
    },
    {
      "cell_type": "code",
      "metadata": {
        "colab": {
          "base_uri": "https://localhost:8080/",
          "height": 71
        },
        "id": "XTzPsbLuMnWB",
        "outputId": "a60b7eec-4e74-4de1-e3f2-fde7107ca579"
      },
      "source": [
        "import wandb\n",
        "\n",
        "wandb.login()"
      ],
      "execution_count": 4,
      "outputs": [
        {
          "output_type": "display_data",
          "data": {
            "application/javascript": [
              "\n",
              "        window._wandbApiKey = new Promise((resolve, reject) => {\n",
              "            function loadScript(url) {\n",
              "            return new Promise(function(resolve, reject) {\n",
              "                let newScript = document.createElement(\"script\");\n",
              "                newScript.onerror = reject;\n",
              "                newScript.onload = resolve;\n",
              "                document.body.appendChild(newScript);\n",
              "                newScript.src = url;\n",
              "            });\n",
              "            }\n",
              "            loadScript(\"https://cdn.jsdelivr.net/npm/postmate/build/postmate.min.js\").then(() => {\n",
              "            const iframe = document.createElement('iframe')\n",
              "            iframe.style.cssText = \"width:0;height:0;border:none\"\n",
              "            document.body.appendChild(iframe)\n",
              "            const handshake = new Postmate({\n",
              "                container: iframe,\n",
              "                url: 'https://wandb.ai/authorize'\n",
              "            });\n",
              "            const timeout = setTimeout(() => reject(\"Couldn't auto authenticate\"), 5000)\n",
              "            handshake.then(function(child) {\n",
              "                child.on('authorize', data => {\n",
              "                    clearTimeout(timeout)\n",
              "                    resolve(data)\n",
              "                });\n",
              "            });\n",
              "            })\n",
              "        });\n",
              "    "
            ],
            "text/plain": [
              "<IPython.core.display.Javascript object>"
            ]
          },
          "metadata": {}
        },
        {
          "output_type": "stream",
          "name": "stderr",
          "text": [
            "\u001b[34m\u001b[1mwandb\u001b[0m: Appending key for api.wandb.ai to your netrc file: /root/.netrc\n"
          ]
        },
        {
          "output_type": "execute_result",
          "data": {
            "text/plain": [
              "True"
            ]
          },
          "metadata": {},
          "execution_count": 4
        }
      ]
    },
    {
      "cell_type": "code",
      "metadata": {
        "id": "jX29HghU7NNZ"
      },
      "source": [
        "if not os.path.exists(\"modelsaves\"):\n",
        "    os.makedirs(\"modelsaves\")"
      ],
      "execution_count": 5,
      "outputs": []
    },
    {
      "cell_type": "code",
      "metadata": {
        "id": "pXdUvIdwov-K"
      },
      "source": [
        "optimizers = {\n",
        "    \"adam\": torch.optim.Adam,\n",
        "    \"sgd\": torch.optim.SGD,\n",
        "    \"adamw\": torch.optim.AdamW,\n",
        "}"
      ],
      "execution_count": 7,
      "outputs": []
    },
    {
      "cell_type": "markdown",
      "metadata": {
        "id": "L0TVb41qtp2C"
      },
      "source": [
        "## Define models"
      ]
    },
    {
      "cell_type": "code",
      "metadata": {
        "id": "xHTU63O-mphv"
      },
      "source": [
        "class Encoder(nn.Module):\n",
        "\n",
        "  def __init__(self, seq_len, n_features, embedding_dim, hidden_dim):\n",
        "    super(Encoder, self).__init__()\n",
        "\n",
        "    self.seq_len, self.n_features = seq_len, n_features\n",
        "    self.embedding_dim = embedding_dim\n",
        "    self.hidden_dim = hidden_dim\n",
        "\n",
        "    self.rnn1 = nn.LSTM(\n",
        "      input_size=n_features,\n",
        "      hidden_size=self.hidden_dim,\n",
        "      num_layers=1,\n",
        "      batch_first=True\n",
        "    )\n",
        "    \n",
        "    self.rnn2 = nn.LSTM(\n",
        "      input_size=self.hidden_dim,\n",
        "      hidden_size=embedding_dim,\n",
        "      num_layers=1,\n",
        "      batch_first=True\n",
        "    )\n",
        "\n",
        "  def forward(self, x):\n",
        "    x = x.reshape((-1, self.seq_len, self.n_features))\n",
        "\n",
        "    x, (_, _) = self.rnn1(x)\n",
        "    x, (hidden_n, _) = self.rnn2(x)\n",
        "\n",
        "    return hidden_n.reshape((-1, self.n_features, self.embedding_dim))"
      ],
      "execution_count": 8,
      "outputs": []
    },
    {
      "cell_type": "code",
      "metadata": {
        "id": "xOb6k8p4x7Ck"
      },
      "source": [
        "class Decoder(nn.Module):\n",
        "\n",
        "  def __init__(self, seq_len, input_dim, hidden_dim, n_features):\n",
        "    super(Decoder, self).__init__()\n",
        "\n",
        "    self.seq_len = seq_len\n",
        "    self.input_dim = input_dim\n",
        "    self.hidden_dim = hidden_dim\n",
        "    self.n_features = n_features\n",
        "\n",
        "    self.rnn1 = nn.LSTM(\n",
        "      input_size=input_dim,\n",
        "      hidden_size=input_dim,\n",
        "      num_layers=1,\n",
        "      batch_first=True\n",
        "    )\n",
        "\n",
        "    self.rnn2 = nn.LSTM(\n",
        "      input_size=input_dim,\n",
        "      hidden_size=self.hidden_dim,\n",
        "      num_layers=1,\n",
        "      batch_first=True\n",
        "    )\n",
        "\n",
        "    self.output_layer = nn.Linear(self.hidden_dim, n_features)\n",
        "\n",
        "  def forward(self, x):\n",
        "    x = x.repeat(1, self.seq_len, 1)\n",
        "    #x = x.reshape((-1, self.n_features, self.seq_len, self.input_dim))\n",
        "\n",
        "    x, (hidden_n, cell_n) = self.rnn1(x)\n",
        "    x, (hidden_n, cell_n) = self.rnn2(x)\n",
        "    x = x.reshape((-1, self.seq_len, self.hidden_dim))\n",
        "\n",
        "    return self.output_layer(x)"
      ],
      "execution_count": 9,
      "outputs": []
    },
    {
      "cell_type": "code",
      "metadata": {
        "id": "M0cLmAB0yEXE"
      },
      "source": [
        "class RecurrentAutoencoder(nn.Module):\n",
        "\n",
        "  def __init__(self, seq_len, n_features, embedding_dim, hidden_dim):\n",
        "    super(RecurrentAutoencoder, self).__init__()\n",
        "\n",
        "    self.encoder = Encoder(seq_len, n_features, embedding_dim, hidden_dim).to(device)\n",
        "    self.decoder = Decoder(seq_len, embedding_dim, hidden_dim, n_features).to(device)\n",
        "\n",
        "  def forward(self, x):\n",
        "    x = self.encoder(x)\n",
        "    x = self.decoder(x)\n",
        "\n",
        "    return x"
      ],
      "execution_count": 10,
      "outputs": []
    },
    {
      "cell_type": "markdown",
      "metadata": {
        "id": "9t_zHF7NtuFp"
      },
      "source": [
        "## Define training loop"
      ]
    },
    {
      "cell_type": "code",
      "metadata": {
        "id": "fytZWUOhyMe0"
      },
      "source": [
        "def train_model(model, train_dataset, val_dataset, conf):\n",
        "    starttime = datetime.now()\n",
        "\n",
        "    optimizer = optimizers[conf.optimizer](model.parameters(), lr=conf.learning_rate)\n",
        "    # Test with sMAPE and MASE as well maybe\n",
        "\n",
        "    criterion = nn.L1Loss(reduction='sum').to(device)\n",
        "    wandb.watch(model, criterion, log=\"all\", log_freq=1)\n",
        "\n",
        "    history = dict(train=[], val=[])\n",
        "\n",
        "    best_model_wts = copy.deepcopy(model.state_dict())\n",
        "    best_loss = 10000.0\n",
        "\n",
        "    it = tqdm(range(1, conf.epochs + 1))\n",
        "\n",
        "    b_size = conf.batch_size\n",
        "\n",
        "    for epoch in it:\n",
        "        model = model.train()\n",
        "\n",
        "        train_losses = []\n",
        "        for i in range(0, len(train_dataset), b_size):\n",
        "            optimizer.zero_grad()\n",
        "            seq_true = train_dataset[i:i+b_size]\n",
        "            seq_true = seq_true.to(device)\n",
        "            seq_pred = model(seq_true)\n",
        "\n",
        "            loss = criterion(seq_pred, seq_true)\n",
        "\n",
        "            loss.backward()\n",
        "            optimizer.step()\n",
        "\n",
        "            train_losses.append(loss.item())\n",
        "\n",
        "        val_losses = []\n",
        "        model = model.eval()\n",
        "        with torch.no_grad():\n",
        "            for i in range(0, len(val_dataset), b_size):\n",
        "                seq_true = val_dataset[i:i+b_size]\n",
        "                seq_true = seq_true.to(device)\n",
        "                seq_pred = model(seq_true)\n",
        "\n",
        "                loss = criterion(seq_pred, seq_true)\n",
        "                val_losses.append(loss.item())\n",
        "\n",
        "        train_loss = np.mean(train_losses) / b_size\n",
        "        val_loss = np.mean(val_losses) / b_size\n",
        "\n",
        "        wandb.log({\"train_loss\": train_loss, \"val_loss\": val_loss}, step=epoch)\n",
        "\n",
        "        history['train'].append(train_loss)\n",
        "        history['val'].append(val_loss)\n",
        "\n",
        "        if val_loss < best_loss:\n",
        "            best_loss = val_loss\n",
        "            best_model_wts = copy.deepcopy(model.state_dict())\n",
        "\n",
        "            filepath = f\"modelsaves/model-{conf.dataset}.torch\"\n",
        "            torch.save(best_model_wts, filepath)\n",
        "            wandb.save(filepath)\n",
        "\n",
        "        it.set_postfix(\n",
        "            train_loss=train_loss,\n",
        "            val_loss=val_loss\n",
        "        )\n",
        "\n",
        "    model.load_state_dict(best_model_wts)\n",
        "    return model.eval(), history"
      ],
      "execution_count": 11,
      "outputs": []
    },
    {
      "cell_type": "markdown",
      "metadata": {
        "id": "PSkulmiYtw3S"
      },
      "source": [
        "## Create data"
      ]
    },
    {
      "cell_type": "code",
      "metadata": {
        "id": "0lvLS9bmnCuC"
      },
      "source": [
        "def prepare(data):\n",
        "    val_dataset = random.sample(data, k=int(0.1 * len(data)))\n",
        "\n",
        "    train_tensor = torch.Tensor(data).reshape((-1, 100, 1))\n",
        "    val_tensor = torch.Tensor(val_dataset).reshape((-1, 100, 1))\n",
        "\n",
        "    _, seq_len, n_features = train_tensor.shape\n",
        "\n",
        "    return train_tensor, val_tensor, seq_len, n_features\n",
        "\n",
        "def get_data_droso_3class_v01(n_series):\n",
        "    train_dataset = []\n",
        "\n",
        "    xs = np.linspace(-1, 1, int(n_series / 3))\n",
        "\n",
        "    for i in xs:\n",
        "        train_dataset.append(np.linspace(i, i, 100))\n",
        "        train_dataset.append(np.linspace(-i, i, 100))\n",
        "        train_dataset.append(-i*np.sin(np.linspace(-i*4*np.pi, i*4*np.pi, 100)))\n",
        "\n",
        "    return prepare(train_dataset)\n",
        "\n",
        "\n",
        "def get_data_droso_sine_v01(n_series):\n",
        "    train_dataset = []\n",
        "\n",
        "    for _ in range(n_series):\n",
        "        train_dataset.append(np.sin(np.linspace(-4*np.pi, 4*np.pi, 100)))\n",
        "\n",
        "    return prepare(train_dataset)\n",
        "\n",
        "def get_data_droso_sine_v02(n_series):\n",
        "    train_dataset = []\n",
        "\n",
        "    for _ in range(n_series // 2):\n",
        "        train_dataset.append(-0.5 + np.sin(np.linspace(-4*np.pi, 4*np.pi, 100)))\n",
        "        train_dataset.append(0.5 + np.sin(np.linspace(-4*np.pi, 4*np.pi, 100)))\n",
        "\n",
        "    return prepare(train_dataset)\n",
        "\n",
        "def get_data_droso_sine_v03(n_series):\n",
        "    train_dataset = []\n",
        "\n",
        "    for _ in range(n_series // 3):\n",
        "        train_dataset.append(-2 + np.sin(np.linspace(-4*np.pi, 4*np.pi, 100)))\n",
        "        train_dataset.append(0.0 + np.sin(np.linspace(-4*np.pi, 4*np.pi, 100)))\n",
        "        train_dataset.append(2.0 + np.sin(np.linspace(-4*np.pi, 4*np.pi, 100)))\n",
        "\n",
        "    return prepare(train_dataset)\n",
        "\n",
        "def get_data_droso_sine_v04(n_series):\n",
        "    train_dataset = []\n",
        "\n",
        "    for _ in range(n_series // 2):\n",
        "        train_dataset.append(np.sin(np.linspace(-4*np.pi, 4*np.pi, 100)))\n",
        "        train_dataset.append(2*np.sin(np.linspace(-4*np.pi, 4*np.pi, 100)))\n",
        "\n",
        "    return prepare(train_dataset)\n",
        "\n",
        "def get_data_droso_sine_v05(n_series):\n",
        "    train_dataset = []\n",
        "\n",
        "    for _ in range(n_series // 2):\n",
        "        train_dataset.append(np.sin(np.linspace(-4*np.pi, 4*np.pi, 100)))\n",
        "        train_dataset.append(np.sin(np.linspace(-2*np.pi, 2*np.pi, 100)))\n",
        "        train_dataset.append(np.sin(np.linspace(-1*np.pi, 1*np.pi, 100)))\n",
        "\n",
        "    return prepare(train_dataset)\n",
        "\n",
        "def get_data_droso_sine_v06(n_series):\n",
        "    train_dataset = []\n",
        "\n",
        "    for _ in range(n_series // 4):\n",
        "        train_dataset.append(np.sin(np.linspace(-4*np.pi, 4*np.pi, 100)))\n",
        "        train_dataset.append(np.sin(np.linspace(-2*np.pi, 2*np.pi, 100)))\n",
        "        train_dataset.append(np.sin(np.linspace(-1*np.pi, 1*np.pi, 100)))\n",
        "        train_dataset.append(1 + np.sin(np.linspace(-1*np.pi, 1*np.pi, 100)))\n",
        "\n",
        "    return prepare(train_dataset)\n",
        "\n",
        "def get_data_droso_sine_v07(n_series):\n",
        "    train_dataset = []\n",
        "\n",
        "    for _ in range(n_series // 6):\n",
        "        train_dataset.append(np.sin(np.linspace(-4*np.pi, 4*np.pi, 100)))\n",
        "        train_dataset.append(np.sin(np.linspace(-2*np.pi, 2*np.pi, 100)))\n",
        "        train_dataset.append(np.sin(np.linspace(-1*np.pi, 1*np.pi, 100)))\n",
        "        train_dataset.append(1 + np.sin(np.linspace(-1*np.pi, 1*np.pi, 100)))\n",
        "        train_dataset.append(-1 + np.sin(np.linspace(-1*np.pi, 1*np.pi, 100)))\n",
        "        train_dataset.append(1 - np.sin(np.linspace(-2*np.pi, 2*np.pi, 100)))\n",
        "\n",
        "    return prepare(train_dataset)\n",
        "\n",
        "def get_data_droso_sine_noise_v01(n_series):\n",
        "    train_dataset = []\n",
        "\n",
        "    for _ in range(n_series // 6):\n",
        "        train_dataset.append(np.sin(np.linspace(-4*np.pi, 4*np.pi, 100)) + np.random.normal(loc=0.0, scale=0.5, size=100))\n",
        "        train_dataset.append(np.sin(np.linspace(-2*np.pi, 2*np.pi, 100)) + np.random.normal(loc=0.0, scale=0.5, size=100))\n",
        "        train_dataset.append(np.sin(np.linspace(-1*np.pi, 1*np.pi, 100)) + np.random.normal(loc=0.0, scale=0.5, size=100))\n",
        "        train_dataset.append(1 + np.sin(np.linspace(-1*np.pi, 1*np.pi, 100)) + np.random.normal(loc=0.0, scale=0.5, size=100))\n",
        "        train_dataset.append(-1 + np.sin(np.linspace(-1*np.pi, 1*np.pi, 100)) + np.random.normal(loc=0.0, scale=0.5, size=100))\n",
        "        train_dataset.append(1 - np.sin(np.linspace(-2*np.pi, 2*np.pi, 100)) + np.random.normal(loc=0.0, scale=0.5, size=100))\n",
        "\n",
        "    return prepare(train_dataset)\n",
        "\n",
        "def get_data_droso_3class_noise_v01(n_series):\n",
        "    train_dataset = []\n",
        "\n",
        "    for _ in range(n_series // 8):\n",
        "        train_dataset.append(np.sin(np.linspace(-4*np.pi, 4*np.pi, 100)) + np.random.normal(loc=0.0, scale=0.2, size=100))\n",
        "        train_dataset.append(np.sin(np.linspace(-2*np.pi, 2*np.pi, 100)) + np.random.normal(loc=0.0, scale=0.2, size=100))\n",
        "        train_dataset.append(np.sin(np.linspace(-1*np.pi, 1*np.pi, 100)) + np.random.normal(loc=0.0, scale=0.2, size=100))\n",
        "        train_dataset.append(1 + np.sin(np.linspace(-1*np.pi, 1*np.pi, 100)) + np.random.normal(loc=0.0, scale=0.2, size=100))\n",
        "        train_dataset.append(-1 + np.sin(np.linspace(-1*np.pi, 1*np.pi, 100)) + np.random.normal(loc=0.0, scale=0.2, size=100))\n",
        "        train_dataset.append(1 - np.sin(np.linspace(-2*np.pi, 2*np.pi, 100)) + np.random.normal(loc=0.0, scale=0.2, size=100))\n",
        "\n",
        "        train_dataset.append(np.linspace(-1, 1, 100) + np.random.normal(loc=0.0, scale=0.2, size=100))\n",
        "        train_dataset.append(np.linspace(-0.5, 0.5, 100) + np.random.normal(loc=0.0, scale=0.2, size=100))\n",
        "\n",
        "    return prepare(train_dataset)\n",
        "\n",
        "get_data = {\n",
        "    \"droso-3class-v01\": get_data_droso_3class_v01,\n",
        "    \"droso-sine-v01\": get_data_droso_sine_v01,\n",
        "    \"droso-sine-v02\": get_data_droso_sine_v02,\n",
        "    \"droso-sine-v03\": get_data_droso_sine_v03,\n",
        "    \"droso-sine-v04\": get_data_droso_sine_v04,\n",
        "    \"droso-sine-v05\": get_data_droso_sine_v05,\n",
        "    \"droso-sine-v06\": get_data_droso_sine_v06,\n",
        "    \"droso-sine-v07\": get_data_droso_sine_v07,\n",
        "    \"droso-3class-noise-v01\": get_data_droso_3class_noise_v01,\n",
        "}"
      ],
      "execution_count": 12,
      "outputs": []
    },
    {
      "cell_type": "markdown",
      "metadata": {
        "id": "HVeue_WairST"
      },
      "source": [
        "## Run training"
      ]
    },
    {
      "cell_type": "code",
      "metadata": {
        "colab": {
          "background_save": true,
          "base_uri": "https://localhost:8080/",
          "height": 766,
          "referenced_widgets": [
            "fc63bc24927c47cf80b886cddb7a68e1",
            "3cad63594a5a4409a9b0449108995785",
            "320bd5297e6949d5b973b0bfee9b206a",
            "1cbd6b2a03f248758baa7639f1fff2e7",
            "d17667dd04bd4121a3c3a54f9bb89404",
            "787a66495108401fa5fefa6856fd70ae",
            "6d2f87f274d8445083c65f5f3562a35b",
            "11a4f197f528415db1673f3aab3351c9"
          ]
        },
        "id": "xYKa_AzAyWxE",
        "outputId": "16b1c0f7-f56a-463a-b08e-69e5a3725857"
      },
      "source": [
        "def train():    \n",
        "    with wandb.init():\n",
        "        conf = wandb.config\n",
        "\n",
        "        train_tensor, val_tensor, seq_len, n_features = get_data[conf.dataset](conf.n_series)\n",
        "\n",
        "        model = RecurrentAutoencoder(\n",
        "            seq_len=seq_len,\n",
        "            n_features=n_features,\n",
        "            embedding_dim=conf.embedding_dim,\n",
        "            hidden_dim=conf.hidden_dim,\n",
        "        )\n",
        "        print(f\"Moving model to device: {device}\")\n",
        "        model = model.to(device)\n",
        "\n",
        "        model, history = train_model(\n",
        "            model,\n",
        "            train_tensor,\n",
        "            val_tensor,\n",
        "            conf=conf,\n",
        "        )\n",
        "\n",
        "count = 10 # number of runs to execute\n",
        "wandb.agent(\"krankile/lstm-vae/4sh5xv6d\", function=train, count=count)"
      ],
      "execution_count": null,
      "outputs": [
        {
          "output_type": "stream",
          "name": "stderr",
          "text": [
            "\u001b[34m\u001b[1mwandb\u001b[0m: Agent Starting Run: lm6xg9t1 with config:\n",
            "\u001b[34m\u001b[1mwandb\u001b[0m: \tarchitecture: LSTM\n",
            "\u001b[34m\u001b[1mwandb\u001b[0m: \tbatch_size: 228\n",
            "\u001b[34m\u001b[1mwandb\u001b[0m: \tdataset: droso-3class-noise-v01\n",
            "\u001b[34m\u001b[1mwandb\u001b[0m: \tembedding_dim: 7\n",
            "\u001b[34m\u001b[1mwandb\u001b[0m: \tepochs: 183\n",
            "\u001b[34m\u001b[1mwandb\u001b[0m: \thidden_dim: 31\n",
            "\u001b[34m\u001b[1mwandb\u001b[0m: \tlearning_rate: 0.0010230847243823935\n",
            "\u001b[34m\u001b[1mwandb\u001b[0m: \tn_series: 2644\n",
            "\u001b[34m\u001b[1mwandb\u001b[0m: \toptimizer: adam\n",
            "\u001b[34m\u001b[1mwandb\u001b[0m: Currently logged in as: \u001b[33mkrankile\u001b[0m (use `wandb login --relogin` to force relogin)\n"
          ]
        },
        {
          "output_type": "display_data",
          "data": {
            "text/html": [
              "\n",
              "                    Syncing run <strong><a href=\"https://wandb.ai/krankile/lstm-vae/runs/lm6xg9t1\" target=\"_blank\">true-sweep-1</a></strong> to <a href=\"https://wandb.ai/krankile/lstm-vae\" target=\"_blank\">Weights & Biases</a> (<a href=\"https://docs.wandb.com/integrations/jupyter.html\" target=\"_blank\">docs</a>).<br/>\n",
              "Sweep page: <a href=\"https://wandb.ai/krankile/lstm-vae/sweeps/4sh5xv6d\" target=\"_blank\">https://wandb.ai/krankile/lstm-vae/sweeps/4sh5xv6d</a><br/>\n",
              "\n",
              "                "
            ],
            "text/plain": [
              "<IPython.core.display.HTML object>"
            ]
          },
          "metadata": {}
        },
        {
          "output_type": "stream",
          "name": "stdout",
          "text": [
            "Moving model to device: cuda\n"
          ]
        },
        {
          "output_type": "stream",
          "name": "stderr",
          "text": [
            "100%|██████████| 183/183 [01:15<00:00,  2.44it/s, train_loss=28, val_loss=15.8]\n"
          ]
        },
        {
          "output_type": "display_data",
          "data": {
            "text/html": [
              "<br/>Waiting for W&B process to finish, PID 164... <strong style=\"color:green\">(success).</strong>"
            ],
            "text/plain": [
              "<IPython.core.display.HTML object>"
            ]
          },
          "metadata": {}
        },
        {
          "output_type": "display_data",
          "data": {
            "application/vnd.jupyter.widget-view+json": {
              "model_id": "fc63bc24927c47cf80b886cddb7a68e1",
              "version_minor": 0,
              "version_major": 2
            },
            "text/plain": [
              "VBox(children=(Label(value=' 0.00MB of 0.04MB uploaded (0.00MB deduped)\\r'), FloatProgress(value=0.01481134685…"
            ]
          },
          "metadata": {}
        },
        {
          "output_type": "display_data",
          "data": {
            "text/html": [
              "<style>\n",
              "    table.wandb td:nth-child(1) { padding: 0 10px; text-align: right }\n",
              "    .wandb-row { display: flex; flex-direction: row; flex-wrap: wrap; width: 100% }\n",
              "    .wandb-col { display: flex; flex-direction: column; flex-basis: 100%; flex: 1; padding: 10px; }\n",
              "    </style>\n",
              "<div class=\"wandb-row\"><div class=\"wandb-col\">\n",
              "<h3>Run history:</h3><br/><table class=\"wandb\"><tr><td>train_loss</td><td>█▆▆▅▄▄▄▄▄▃▃▃▂▂▃▂▂▂▂▂▂▂▁▁▁▁▁▁▁▁▁▁▁▁▁▁▁▁▁▁</td></tr><tr><td>val_loss</td><td>█▇▆▅▄▄▄▄▄▃▃▃▂▂▃▂▂▂▂▂▁▂▁▁▁▁▁▁▁▁▁▁▁▁▁▁▁▁▁▁</td></tr></table><br/></div><div class=\"wandb-col\">\n",
              "<h3>Run summary:</h3><br/><table class=\"wandb\"><tr><td>train_loss</td><td>28.03115</td></tr><tr><td>val_loss</td><td>15.75363</td></tr></table>\n",
              "</div></div>\n",
              "Synced 5 W&B file(s), 0 media file(s), 0 artifact file(s) and 1 other file(s)\n",
              "<br/>Synced <strong style=\"color:#cdcd00\">true-sweep-1</strong>: <a href=\"https://wandb.ai/krankile/lstm-vae/runs/lm6xg9t1\" target=\"_blank\">https://wandb.ai/krankile/lstm-vae/runs/lm6xg9t1</a><br/>\n",
              "Find logs at: <code>./wandb/run-20211025_134259-lm6xg9t1/logs</code><br/>\n"
            ],
            "text/plain": [
              "<IPython.core.display.HTML object>"
            ]
          },
          "metadata": {}
        },
        {
          "output_type": "stream",
          "name": "stderr",
          "text": [
            "\u001b[34m\u001b[1mwandb\u001b[0m: Agent Starting Run: seixwd7d with config:\n",
            "\u001b[34m\u001b[1mwandb\u001b[0m: \tarchitecture: LSTM\n",
            "\u001b[34m\u001b[1mwandb\u001b[0m: \tbatch_size: 143\n",
            "\u001b[34m\u001b[1mwandb\u001b[0m: \tdataset: droso-3class-noise-v01\n",
            "\u001b[34m\u001b[1mwandb\u001b[0m: \tembedding_dim: 100\n",
            "\u001b[34m\u001b[1mwandb\u001b[0m: \tepochs: 212\n",
            "\u001b[34m\u001b[1mwandb\u001b[0m: \thidden_dim: 272\n",
            "\u001b[34m\u001b[1mwandb\u001b[0m: \tlearning_rate: 0.00114467310037853\n",
            "\u001b[34m\u001b[1mwandb\u001b[0m: \tn_series: 8659\n",
            "\u001b[34m\u001b[1mwandb\u001b[0m: \toptimizer: adamw\n"
          ]
        },
        {
          "output_type": "display_data",
          "data": {
            "text/html": [
              "\n",
              "                    Syncing run <strong><a href=\"https://wandb.ai/krankile/lstm-vae/runs/seixwd7d\" target=\"_blank\">misty-sweep-2</a></strong> to <a href=\"https://wandb.ai/krankile/lstm-vae\" target=\"_blank\">Weights & Biases</a> (<a href=\"https://docs.wandb.com/integrations/jupyter.html\" target=\"_blank\">docs</a>).<br/>\n",
              "Sweep page: <a href=\"https://wandb.ai/krankile/lstm-vae/sweeps/4sh5xv6d\" target=\"_blank\">https://wandb.ai/krankile/lstm-vae/sweeps/4sh5xv6d</a><br/>\n",
              "\n",
              "                "
            ],
            "text/plain": [
              "<IPython.core.display.HTML object>"
            ]
          },
          "metadata": {}
        },
        {
          "output_type": "stream",
          "name": "stdout",
          "text": [
            "Moving model to device: cuda\n"
          ]
        },
        {
          "output_type": "stream",
          "name": "stderr",
          "text": [
            " 88%|████████▊ | 186/212 [16:45<02:20,  5.39s/it, train_loss=15.4, val_loss=13.2]"
          ]
        }
      ]
    },
    {
      "cell_type": "markdown",
      "metadata": {
        "id": "mEyXxfwcDAry"
      },
      "source": [
        "## Check results"
      ]
    },
    {
      "cell_type": "code",
      "metadata": {
        "colab": {
          "base_uri": "https://localhost:8080/"
        },
        "id": "XCMnTA7tkkBs",
        "outputId": "da61d80a-4bd0-4c4a-fcfe-1bb17e1b375e"
      },
      "source": [
        "filepath = f\"modelsaves/model-{conf.dataset}.torch\"\n",
        "print(filepath)\n",
        "model.load_state_dict(torch.load(filepath))\n",
        "\n",
        "model = model.eval().cpu()"
      ],
      "execution_count": null,
      "outputs": [
        {
          "name": "stdout",
          "output_type": "stream",
          "text": [
            "modelsaves/model-droso-sine-noise-v01.torch\n"
          ]
        }
      ]
    },
    {
      "cell_type": "code",
      "metadata": {
        "colab": {
          "base_uri": "https://localhost:8080/",
          "height": 265
        },
        "id": "w5xQi-9-r2t9",
        "outputId": "9127d10f-a2ed-4bd4-ac6d-36026579b5c2"
      },
      "source": [
        "series = 2\n",
        "\n",
        "for n, i in enumerate(range(0, series), start=1):\n",
        "    plt.plot(np.linspace(0, 1, 100), train_tensor[i], label=f\"Original {n}\");\n",
        "    plt.plot(\n",
        "        np.linspace(0, 1, 100),\n",
        "        model(train_tensor[i]).reshape((-1)).detach().numpy(),\n",
        "        label=f\"Reconstructed {n}\",\n",
        "        linestyle=\"-.\"\n",
        "    )\n",
        "plt.legend();"
      ],
      "execution_count": null,
      "outputs": [
        {
          "data": {
            "image/png": "[encoded data removed]",
            "text/plain": [
              "<Figure size 864x288 with 1 Axes>"
            ]
          },
          "metadata": {},
          "output_type": "display_data"
        }
      ]
    },
    {
      "cell_type": "markdown",
      "metadata": {
        "id": "lAZnjUUJkEoe"
      },
      "source": [
        "# Archive"
      ]
    },
    {
      "cell_type": "code",
      "metadata": {
        "colab": {
          "base_uri": "https://localhost:8080/",
          "height": 265
        },
        "id": "UXQrp9GqDF6Y",
        "outputId": "5e25e77c-3308-470e-b3d3-749135a8740e"
      },
      "source": [
        "# Plot training data\n",
        "logspath = \"/content/drive/MyDrive/# 9. Semester/Prosjektoppgave_runs-logs-2021-10-20 15:58:18.177512\"\n",
        "\n",
        "logs = pd.read_csv(logspath, sep=\";\").set_index(\"Epoch\")\n",
        "logs[\"tloss_smooth\"] = logs[\"Train_loss\"].rolling(10).mean()\n",
        "logs[\"vloss_smooth\"] = logs[\"Val_loss\"].rolling(10).mean()\n",
        "plt.plot(logs[\"tloss_smooth\"]);\n",
        "plt.plot(logs[\"vloss_smooth\"]);"
      ],
      "execution_count": null,
      "outputs": [
        {
          "data": {
            "image/png": "[encoded data removed]",
            "text/plain": [
              "<Figure size 432x288 with 1 Axes>"
            ]
          },
          "metadata": {},
          "output_type": "display_data"
        }
      ]
    },
    {
      "cell_type": "code",
      "metadata": {
        "id": "m1OgursHwQLU"
      },
      "source": [
        "# Not used in a sweep\n",
        "config = dict(\n",
        "    epochs=75,\n",
        "    n_series=8000,\n",
        "    embedding_dim=128,\n",
        "    hidden_dim=256,\n",
        "    learning_rate=1e-3,\n",
        "    dataset=\"droso-3class-noise-v01\",\n",
        "    dataclass=\"droso-3class-noise\",\n",
        "    architecture=\"LSTM\",\n",
        "    batch_size=100,\n",
        "    optimizer=\"adamw\",\n",
        ")"
      ],
      "execution_count": null,
      "outputs": []
    }
  ]
}