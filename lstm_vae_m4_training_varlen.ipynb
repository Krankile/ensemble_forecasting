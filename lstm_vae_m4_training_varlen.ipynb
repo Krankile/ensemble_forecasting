{
  "nbformat": 4,
  "nbformat_minor": 0,
  "metadata": {
    "colab": {
      "name": "lstm-vae-m4-training-varlen_v04.ipynb",
      "provenance": [],
      "collapsed_sections": [
        "h1bMprrhc3JP",
        "xyHlj3v4XyWU",
        "mEyXxfwcDAry",
        "lAZnjUUJkEoe"
      ],
      "machine_shape": "hm",
      "include_colab_link": true
    },
    "kernelspec": {
      "display_name": "Python 3",
      "name": "python3"
    },
    "language_info": {
      "name": "python"
    },
    "accelerator": "GPU",
    "widgets": {
      "application/vnd.jupyter.widget-state+json": {
        "a1ed54d570354cf28b905e0cdeb55171": {
          "model_module": "@jupyter-widgets/controls",
          "model_name": "HBoxModel",
          "model_module_version": "1.5.0",
          "state": {
            "_view_name": "HBoxView",
            "_dom_classes": [],
            "_model_name": "HBoxModel",
            "_view_module": "@jupyter-widgets/controls",
            "_model_module_version": "1.5.0",
            "_view_count": null,
            "_view_module_version": "1.5.0",
            "box_style": "",
            "layout": "IPY_MODEL_70e83282e767405f839f68cacc9f6563",
            "_model_module": "@jupyter-widgets/controls",
            "children": [
              "IPY_MODEL_1f155723841046cfb3434ce16b8703d3",
              "IPY_MODEL_7f5714ea44b9405998556ad54ff2f887",
              "IPY_MODEL_3416463348e7479281897ea75c538c9a"
            ]
          }
        },
        "70e83282e767405f839f68cacc9f6563": {
          "model_module": "@jupyter-widgets/base",
          "model_name": "LayoutModel",
          "model_module_version": "1.2.0",
          "state": {
            "_view_name": "LayoutView",
            "grid_template_rows": null,
            "right": null,
            "justify_content": null,
            "_view_module": "@jupyter-widgets/base",
            "overflow": null,
            "_model_module_version": "1.2.0",
            "_view_count": null,
            "flex_flow": null,
            "width": null,
            "min_width": null,
            "border": null,
            "align_items": null,
            "bottom": null,
            "_model_module": "@jupyter-widgets/base",
            "top": null,
            "grid_column": null,
            "overflow_y": null,
            "overflow_x": null,
            "grid_auto_flow": null,
            "grid_area": null,
            "grid_template_columns": null,
            "flex": null,
            "_model_name": "LayoutModel",
            "justify_items": null,
            "grid_row": null,
            "max_height": null,
            "align_content": null,
            "visibility": null,
            "align_self": null,
            "height": null,
            "min_height": null,
            "padding": null,
            "grid_auto_rows": null,
            "grid_gap": null,
            "max_width": null,
            "order": null,
            "_view_module_version": "1.2.0",
            "grid_template_areas": null,
            "object_position": null,
            "object_fit": null,
            "grid_auto_columns": null,
            "margin": null,
            "display": null,
            "left": null
          }
        },
        "1f155723841046cfb3434ce16b8703d3": {
          "model_module": "@jupyter-widgets/controls",
          "model_name": "HTMLModel",
          "model_module_version": "1.5.0",
          "state": {
            "_view_name": "HTMLView",
            "style": "IPY_MODEL_49462fb442674b238d02e12736b3e46a",
            "_dom_classes": [],
            "description": "",
            "_model_name": "HTMLModel",
            "placeholder": "​",
            "_view_module": "@jupyter-widgets/controls",
            "_model_module_version": "1.5.0",
            "value": " 63%",
            "_view_count": null,
            "_view_module_version": "1.5.0",
            "description_tooltip": null,
            "_model_module": "@jupyter-widgets/controls",
            "layout": "IPY_MODEL_9f56ac6d8da448438c717fc2773f6de5"
          }
        },
        "7f5714ea44b9405998556ad54ff2f887": {
          "model_module": "@jupyter-widgets/controls",
          "model_name": "FloatProgressModel",
          "model_module_version": "1.5.0",
          "state": {
            "_view_name": "ProgressView",
            "style": "IPY_MODEL_4bc482ae0e2b4a8d93f17e8c6efe24ff",
            "_dom_classes": [],
            "description": "",
            "_model_name": "FloatProgressModel",
            "bar_style": "",
            "max": 1000,
            "_view_module": "@jupyter-widgets/controls",
            "_model_module_version": "1.5.0",
            "value": 626,
            "_view_count": null,
            "_view_module_version": "1.5.0",
            "orientation": "horizontal",
            "min": 0,
            "description_tooltip": null,
            "_model_module": "@jupyter-widgets/controls",
            "layout": "IPY_MODEL_7bae95bb7b47490f8c4627fc29144a61"
          }
        },
        "3416463348e7479281897ea75c538c9a": {
          "model_module": "@jupyter-widgets/controls",
          "model_name": "HTMLModel",
          "model_module_version": "1.5.0",
          "state": {
            "_view_name": "HTMLView",
            "style": "IPY_MODEL_bda352a7c0d04d989555c29fe4053d24",
            "_dom_classes": [],
            "description": "",
            "_model_name": "HTMLModel",
            "placeholder": "​",
            "_view_module": "@jupyter-widgets/controls",
            "_model_module_version": "1.5.0",
            "value": " 626/1000 [5:32:37&lt;3:19:58, 32.08s/it, lr=4.34e-04, train_loss=0.446, val_loss=0.479]",
            "_view_count": null,
            "_view_module_version": "1.5.0",
            "description_tooltip": null,
            "_model_module": "@jupyter-widgets/controls",
            "layout": "IPY_MODEL_a0bdfab69bb5461ea48da3a5b96050e3"
          }
        },
        "49462fb442674b238d02e12736b3e46a": {
          "model_module": "@jupyter-widgets/controls",
          "model_name": "DescriptionStyleModel",
          "model_module_version": "1.5.0",
          "state": {
            "_view_name": "StyleView",
            "_model_name": "DescriptionStyleModel",
            "description_width": "",
            "_view_module": "@jupyter-widgets/base",
            "_model_module_version": "1.5.0",
            "_view_count": null,
            "_view_module_version": "1.2.0",
            "_model_module": "@jupyter-widgets/controls"
          }
        },
        "9f56ac6d8da448438c717fc2773f6de5": {
          "model_module": "@jupyter-widgets/base",
          "model_name": "LayoutModel",
          "model_module_version": "1.2.0",
          "state": {
            "_view_name": "LayoutView",
            "grid_template_rows": null,
            "right": null,
            "justify_content": null,
            "_view_module": "@jupyter-widgets/base",
            "overflow": null,
            "_model_module_version": "1.2.0",
            "_view_count": null,
            "flex_flow": null,
            "width": null,
            "min_width": null,
            "border": null,
            "align_items": null,
            "bottom": null,
            "_model_module": "@jupyter-widgets/base",
            "top": null,
            "grid_column": null,
            "overflow_y": null,
            "overflow_x": null,
            "grid_auto_flow": null,
            "grid_area": null,
            "grid_template_columns": null,
            "flex": null,
            "_model_name": "LayoutModel",
            "justify_items": null,
            "grid_row": null,
            "max_height": null,
            "align_content": null,
            "visibility": null,
            "align_self": null,
            "height": null,
            "min_height": null,
            "padding": null,
            "grid_auto_rows": null,
            "grid_gap": null,
            "max_width": null,
            "order": null,
            "_view_module_version": "1.2.0",
            "grid_template_areas": null,
            "object_position": null,
            "object_fit": null,
            "grid_auto_columns": null,
            "margin": null,
            "display": null,
            "left": null
          }
        },
        "4bc482ae0e2b4a8d93f17e8c6efe24ff": {
          "model_module": "@jupyter-widgets/controls",
          "model_name": "ProgressStyleModel",
          "model_module_version": "1.5.0",
          "state": {
            "_view_name": "StyleView",
            "_model_name": "ProgressStyleModel",
            "description_width": "",
            "_view_module": "@jupyter-widgets/base",
            "_model_module_version": "1.5.0",
            "_view_count": null,
            "_view_module_version": "1.2.0",
            "bar_color": null,
            "_model_module": "@jupyter-widgets/controls"
          }
        },
        "7bae95bb7b47490f8c4627fc29144a61": {
          "model_module": "@jupyter-widgets/base",
          "model_name": "LayoutModel",
          "model_module_version": "1.2.0",
          "state": {
            "_view_name": "LayoutView",
            "grid_template_rows": null,
            "right": null,
            "justify_content": null,
            "_view_module": "@jupyter-widgets/base",
            "overflow": null,
            "_model_module_version": "1.2.0",
            "_view_count": null,
            "flex_flow": null,
            "width": null,
            "min_width": null,
            "border": null,
            "align_items": null,
            "bottom": null,
            "_model_module": "@jupyter-widgets/base",
            "top": null,
            "grid_column": null,
            "overflow_y": null,
            "overflow_x": null,
            "grid_auto_flow": null,
            "grid_area": null,
            "grid_template_columns": null,
            "flex": null,
            "_model_name": "LayoutModel",
            "justify_items": null,
            "grid_row": null,
            "max_height": null,
            "align_content": null,
            "visibility": null,
            "align_self": null,
            "height": null,
            "min_height": null,
            "padding": null,
            "grid_auto_rows": null,
            "grid_gap": null,
            "max_width": null,
            "order": null,
            "_view_module_version": "1.2.0",
            "grid_template_areas": null,
            "object_position": null,
            "object_fit": null,
            "grid_auto_columns": null,
            "margin": null,
            "display": null,
            "left": null
          }
        },
        "bda352a7c0d04d989555c29fe4053d24": {
          "model_module": "@jupyter-widgets/controls",
          "model_name": "DescriptionStyleModel",
          "model_module_version": "1.5.0",
          "state": {
            "_view_name": "StyleView",
            "_model_name": "DescriptionStyleModel",
            "description_width": "",
            "_view_module": "@jupyter-widgets/base",
            "_model_module_version": "1.5.0",
            "_view_count": null,
            "_view_module_version": "1.2.0",
            "_model_module": "@jupyter-widgets/controls"
          }
        },
        "a0bdfab69bb5461ea48da3a5b96050e3": {
          "model_module": "@jupyter-widgets/base",
          "model_name": "LayoutModel",
          "model_module_version": "1.2.0",
          "state": {
            "_view_name": "LayoutView",
            "grid_template_rows": null,
            "right": null,
            "justify_content": null,
            "_view_module": "@jupyter-widgets/base",
            "overflow": null,
            "_model_module_version": "1.2.0",
            "_view_count": null,
            "flex_flow": null,
            "width": null,
            "min_width": null,
            "border": null,
            "align_items": null,
            "bottom": null,
            "_model_module": "@jupyter-widgets/base",
            "top": null,
            "grid_column": null,
            "overflow_y": null,
            "overflow_x": null,
            "grid_auto_flow": null,
            "grid_area": null,
            "grid_template_columns": null,
            "flex": null,
            "_model_name": "LayoutModel",
            "justify_items": null,
            "grid_row": null,
            "max_height": null,
            "align_content": null,
            "visibility": null,
            "align_self": null,
            "height": null,
            "min_height": null,
            "padding": null,
            "grid_auto_rows": null,
            "grid_gap": null,
            "max_width": null,
            "order": null,
            "_view_module_version": "1.2.0",
            "grid_template_areas": null,
            "object_position": null,
            "object_fit": null,
            "grid_auto_columns": null,
            "margin": null,
            "display": null,
            "left": null
          }
        }
      }
    }
  },
  "cells": [
    {
      "cell_type": "markdown",
      "metadata": {
        "id": "view-in-github",
        "colab_type": "text"
      },
      "source": [
        "<a href=\"https://colab.research.google.com/github/Krankile/ensemble_forecasting/blob/main/lstm_vae_m4_training_varlen.ipynb\" target=\"_parent\"><img src=\"https://colab.research.google.com/assets/colab-badge.svg\" alt=\"Open In Colab\"/></a>"
      ]
    },
    {
      "cell_type": "markdown",
      "metadata": {
        "id": "Ucj1BmWBwFT5"
      },
      "source": [
        "## Setup"
      ]
    },
    {
      "cell_type": "code",
      "metadata": {
        "id": "rflHmkkgMhbx",
        "colab": {
          "base_uri": "https://localhost:8080/",
          "height": 128
        },
        "outputId": "322ce6a5-ecfe-45c2-9ed9-369bd878005f"
      },
      "source": [
        "%%capture\n",
        "!pip install wandb kora\n",
        "\n",
        "import wandb\n",
        "from kora import drive\n",
        "\n",
        "wandb.login()\n",
        "drive.link_nbs()"
      ],
      "execution_count": 1,
      "outputs": [
        {
          "name": "stdout",
          "output_type": "stream",
          "text": [
            "wandb: Paste an API key from your profile and hit enter, or press ctrl+c to quit: ··········\n",
            "Go to this URL in a browser: https://accounts.google.com/o/oauth2/auth?client_id=947318989803-6bn6qk8qdgf4n4g3pfee6491hc0brc4i.apps.googleusercontent.com&redirect_uri=urn%3aietf%3awg%3aoauth%3a2.0%3aoob&scope=email%20https%3a%2f%2fwww.googleapis.com%2fauth%2fdocs.test%20https%3a%2f%2fwww.googleapis.com%2fauth%2fdrive%20https%3a%2f%2fwww.googleapis.com%2fauth%2fdrive.photos.readonly%20https%3a%2f%2fwww.googleapis.com%2fauth%2fpeopleapi.readonly%20https%3a%2f%2fwww.googleapis.com%2fauth%2fdrive.activity.readonly%20https%3a%2f%2fwww.googleapis.com%2fauth%2fexperimentsandconfigs%20https%3a%2f%2fwww.googleapis.com%2fauth%2fphotos.native&response_type=code\n",
            "\n",
            "Enter your authorization code:\n",
            "4/1AX4XfWh7b_i63KxgAP-HbyGT15Jx9FTNc6kseM-7vOwP2f3CFx3rrV_G7g0\n"
          ]
        }
      ]
    },
    {
      "cell_type": "code",
      "metadata": {
        "id": "EYb53K3aB2yD"
      },
      "source": [
        "from pathlib import Path\n",
        "\n",
        "ROOT = Path(\"/content/drive/MyDrive/12 – Master, Ankile og Krange\")"
      ],
      "execution_count": 2,
      "outputs": []
    },
    {
      "cell_type": "code",
      "metadata": {
        "id": "V0k94pZ1CpDb"
      },
      "source": [
        "knownhosts = ROOT / \"Keys\""
      ],
      "execution_count": 3,
      "outputs": []
    },
    {
      "cell_type": "code",
      "metadata": {
        "id": "6nIjNDb6B4c6"
      },
      "source": [
        "%%capture\n",
        "!mkdir ~/.ssh/\n",
        "!cp -r \"{knownhosts}/\"* ~/.ssh/\n",
        "!ssh-keyscan -t rsa github.com >> ~/.ssh/known_hosts"
      ],
      "execution_count": 4,
      "outputs": []
    },
    {
      "cell_type": "code",
      "metadata": {
        "id": "dPKY1kp6Ekna"
      },
      "source": [
        "%%capture\n",
        "!cat /root/.ssh/id_rsa.pub"
      ],
      "execution_count": 5,
      "outputs": []
    },
    {
      "cell_type": "code",
      "metadata": {
        "id": "ZPWztpjG_UUc"
      },
      "source": [
        "%%capture\n",
        "!git clone \"git@github.com:Krankile/ensemble_forecasting.git\"\n",
        "!cd ensemble_forecasting && git pull"
      ],
      "execution_count": 17,
      "outputs": []
    },
    {
      "cell_type": "code",
      "metadata": {
        "id": "6NOjedVwhAX9",
        "colab": {
          "base_uri": "https://localhost:8080/"
        },
        "outputId": "2d3c32af-86d2-4007-f375-0709044f8f7d"
      },
      "source": [
        "import os\n",
        "import copy\n",
        "import random\n",
        "from datetime import datetime as dt\n",
        "import psutil\n",
        "from collections import defaultdict\n",
        "from pathlib import Path\n",
        "import json\n",
        "from importlib import reload\n",
        "\n",
        "import numpy as np\n",
        "import matplotlib.pyplot as plt\n",
        "import pandas as pd\n",
        "\n",
        "from sklearn.preprocessing import MinMaxScaler, StandardScaler\n",
        "\n",
        "from tqdm.notebook import tqdm\n",
        "\n",
        "import torch\n",
        "from torch.utils.data import Dataset, DataLoader, random_split\n",
        "from torch import nn\n",
        "from torch.optim import lr_scheduler\n",
        "\n",
        "from torch.nn.utils.rnn import pack_sequence, pack_padded_sequence, pad_packed_sequence, pad_sequence, PackedSequence\n",
        "\n",
        "import ensemble_forecasting\n",
        "from ensemble_forecasting.models.lstm_ae import model_versions\n",
        "from ensemble_forecasting.utils.normalizers import normalizers\n",
        "from ensemble_forecasting.utils.optimizers import optimizers\n",
        "\n",
        "plt.rcParams[\"figure.figsize\"] = (16, 8)\n",
        "\n",
        "DATA_ROOT = ROOT / \"Data\"\n",
        "\n",
        "reload(ensemble_forecasting.models)\n",
        "\n",
        "device = torch.device(\"cuda\" if torch.cuda.is_available() else \"cpu\")\n",
        "device"
      ],
      "execution_count": 27,
      "outputs": [
        {
          "output_type": "execute_result",
          "data": {
            "text/plain": [
              "device(type='cuda')"
            ]
          },
          "metadata": {},
          "execution_count": 27
        }
      ]
    },
    {
      "cell_type": "code",
      "metadata": {
        "colab": {
          "base_uri": "https://localhost:8080/"
        },
        "id": "fJ5mZAyUSsfF",
        "outputId": "7979a896-ba8d-48de-cee1-e779a246e9ea"
      },
      "source": [
        "model_versions"
      ],
      "execution_count": 28,
      "outputs": [
        {
          "output_type": "execute_result",
          "data": {
            "text/plain": [
              "{'RecurrentAutoencoderV2': ensemble_forecasting.models.lstm_ae.RecurrentAutoencoderV2,\n",
              " 'RecurrentAutoencoderV3': ensemble_forecasting.models.lstm_ae.RecurrentAutoencoderV3,\n",
              " 'RecurrentAutoencoderV4': ensemble_forecasting.models.lstm_ae.RecurrentAutoencoderV4}"
            ]
          },
          "metadata": {},
          "execution_count": 28
        }
      ]
    },
    {
      "cell_type": "code",
      "metadata": {
        "colab": {
          "base_uri": "https://localhost:8080/"
        },
        "id": "6mTMCp1g57Ku",
        "outputId": "0d5e2dac-6a7b-4d3e-a602-78f353a4126a"
      },
      "source": [
        "!nvidia-smi"
      ],
      "execution_count": 8,
      "outputs": [
        {
          "output_type": "stream",
          "name": "stdout",
          "text": [
            "Tue Nov 23 09:56:47 2021       \n",
            "+-----------------------------------------------------------------------------+\n",
            "| NVIDIA-SMI 495.44       Driver Version: 460.32.03    CUDA Version: 11.2     |\n",
            "|-------------------------------+----------------------+----------------------+\n",
            "| GPU  Name        Persistence-M| Bus-Id        Disp.A | Volatile Uncorr. ECC |\n",
            "| Fan  Temp  Perf  Pwr:Usage/Cap|         Memory-Usage | GPU-Util  Compute M. |\n",
            "|                               |                      |               MIG M. |\n",
            "|===============================+======================+======================|\n",
            "|   0  Tesla P100-PCIE...  Off  | 00000000:00:04.0 Off |                    0 |\n",
            "| N/A   31C    P0    26W / 250W |      2MiB / 16280MiB |      0%      Default |\n",
            "|                               |                      |                  N/A |\n",
            "+-------------------------------+----------------------+----------------------+\n",
            "                                                                               \n",
            "+-----------------------------------------------------------------------------+\n",
            "| Processes:                                                                  |\n",
            "|  GPU   GI   CI        PID   Type   Process name                  GPU Memory |\n",
            "|        ID   ID                                                   Usage      |\n",
            "|=============================================================================|\n",
            "|  No running processes found                                                 |\n",
            "+-----------------------------------------------------------------------------+\n"
          ]
        }
      ]
    },
    {
      "cell_type": "markdown",
      "metadata": {
        "id": "ELqh_7mWsYZB"
      },
      "source": [
        "## Define data functions"
      ]
    },
    {
      "cell_type": "markdown",
      "metadata": {
        "id": "OVh0sXDlh2fj"
      },
      "source": [
        "### Variable sequence length"
      ]
    },
    {
      "cell_type": "markdown",
      "metadata": {
        "id": "VHxpC7itl5oV"
      },
      "source": [
        "#### Load and prepare"
      ]
    },
    {
      "cell_type": "code",
      "metadata": {
        "id": "ml2kOvLgl9iV"
      },
      "source": [
        "class VectorizeData(Dataset):\n",
        "    def __init__(self, df_path, maxlen=500, nexamples=None, normalize=\"minmax\"):\n",
        "        self.maxlen = maxlen\n",
        "        data = pd.read_feather(df_path).set_index(\"st\").iloc[:nexamples, :]\n",
        "         \n",
        "        self.index = data.index.values\n",
        "\n",
        "        self.lens = data.n.to_list()\n",
        "        data = data.drop(columns=[\"n\", \"type\", \"period\"]).to_numpy()\n",
        "        self.clamped_lens = torch.IntTensor(self.lens).clamp(max=maxlen)\n",
        "        self.normalize = normalize\n",
        "        self.data = self.pad_data(data)\n",
        "\n",
        "    def pad_data(self, series):\n",
        "        mlen = self.maxlen\n",
        "        norm = normalizers[self.normalize]\n",
        "\n",
        "        data = np.zeros((series.shape[0], mlen, 1), dtype=np.float32)\n",
        "\n",
        "        for i, (l, s) in enumerate(zip(self.lens, series)):\n",
        "            l = min(mlen, l)\n",
        "            s = s[max(0, l-mlen):l]\n",
        "            s = s.reshape((-1, 1))\n",
        "\n",
        "            s = norm()(s)\n",
        "            \n",
        "            data[i, :l] = s\n",
        "\n",
        "        return data\n",
        "\n",
        "    def __len__(self):\n",
        "        return self.data.shape[0]\n",
        "\n",
        "    def __getitem__(self, idx):\n",
        "        x = self.data[idx]\n",
        "        lens = self.clamped_lens[idx]\n",
        "        index = self.index[idx]\n",
        "        return x, lens, index"
      ],
      "execution_count": 9,
      "outputs": []
    },
    {
      "cell_type": "code",
      "metadata": {
        "id": "K2nIMZbYsp2K"
      },
      "source": [
        "def get_dataloaders(run, train_path, val_path, test_path=None):\n",
        "    conf = run.config\n",
        "    cpus = psutil.cpu_count()\n",
        "\n",
        "    print(f\"Using {cpus} CPUs in dataloaders\")\n",
        "    \n",
        "    train_data = VectorizeData(train_path, maxlen=conf.maxlen, nexamples=conf.n_train, normalize=conf.normalize_data)\n",
        "    val_data = VectorizeData(val_path, maxlen=conf.maxlen, nexamples=conf.n_val, normalize=conf.normalize_data)\n",
        "\n",
        "    train_loader = DataLoader(train_data, batch_size=conf.batch_size, shuffle=True, num_workers=cpus, pin_memory=True)\n",
        "    val_loader = DataLoader(val_data, batch_size=conf.batch_size, shuffle=False, num_workers=cpus, pin_memory=True)\n",
        "\n",
        "    seq_len, num_features = conf.maxlen, 1\n",
        "\n",
        "    if test_path is not None:\n",
        "        test_data = VectorizeData(test_path, maxlen=conf.maxlen, normalize=conf.normalize_data)\n",
        "        test_loader = DataLoader(test_data, batch_size=conf.batch_size, shuffle=True, num_workers=cpus, pin_memory=True)\n",
        "\n",
        "        return train_loader, val_loader, test_loader, seq_len, num_features    \n",
        "\n",
        "    return train_loader, val_loader, seq_len, num_features"
      ],
      "execution_count": 10,
      "outputs": []
    },
    {
      "cell_type": "markdown",
      "metadata": {
        "id": "j818Y_QiLPbR"
      },
      "source": [
        "## Define plotting functions"
      ]
    },
    {
      "cell_type": "code",
      "metadata": {
        "id": "wsev6aMaTkwu"
      },
      "source": [
        "def plot(ax, d1, d2, idx):\n",
        "    ax.xaxis.set_major_locator(plt.MaxNLocator(3))\n",
        "    ax.plot(d1, label=f'Original')\n",
        "    ax.plot(d2, label=f'Reconstructed')\n",
        "    ax.legend()\n",
        "\n",
        "def plot_examples(figurepath,\n",
        "                  data1,\n",
        "                  example_packed,\n",
        "                  model,\n",
        "                  lens,\n",
        "                  epoch,\n",
        "                  conf,\n",
        "                  rows=3,\n",
        "                  cols=3,\n",
        "                  size=(16, 8),\n",
        "                  show=False,):\n",
        "    data2 = pad_packed_sequence(model(example_packed.to(device), lens), batch_first=True, total_length=conf.maxlen)[0].detach().cpu().numpy()\n",
        "    plt.style.use('seaborn-pastel')\n",
        "    figs = np.array(range(rows*cols)).reshape((rows, cols))\n",
        "    fig, axs = plt.subplots(nrows=rows, ncols=cols, figsize=size)\n",
        "    meta = {\n",
        "        \"epoch\": epoch,\n",
        "        \"ed\": conf.embedding_dim,\n",
        "        \"hd\": conf.hidden_dim,\n",
        "        \"drop\": conf.dropout,\n",
        "        \"opt\": conf.optimizer,\n",
        "        \"batch\": conf.batch_size,\n",
        "        \"maxlen\": conf.maxlen,\n",
        "        \"normal\": conf.normalize_data,\n",
        "    }\n",
        "    \n",
        "    fig.suptitle(f\"Results on val data ({meta})\", size=14)\n",
        "\n",
        "    idx = 0\n",
        "\n",
        "    for rfig, rdat in zip(axs, figs):\n",
        "        for ax, r in zip(rfig, rdat):\n",
        "            plot(ax, data1[r], data2[r], idx=idx)\n",
        "            # plot(ax, data1[r][:lens[r]], data2[r][:lens[r]], idx=idx)\n",
        "            idx += 1\n",
        "\n",
        "    fig.tight_layout()\n",
        "    fig.subplots_adjust(top=0.92)\n",
        "    \n",
        "    plt.savefig(figurepath)\n",
        "    if not show:\n",
        "        plt.close(fig)"
      ],
      "execution_count": 11,
      "outputs": []
    },
    {
      "cell_type": "markdown",
      "metadata": {
        "id": "9VuoO57OAyhS"
      },
      "source": [
        "## Define training helper functions"
      ]
    },
    {
      "cell_type": "code",
      "metadata": {
        "id": "OqziOGpD8D-7"
      },
      "source": [
        "def early_stop(hi, ma1=5, ma2=20, em=1.05):\n",
        "    val_ma1 = np.mean(hi[\"val\"][-ma1:])\n",
        "    val_ma2 = np.mean(hi[\"val\"][-ma2:])*em\n",
        "    \n",
        "    if val_ma2 < val_ma1 and hi[\"val\"][-1] > hi[\"train\"][-1]:\n",
        "        return True\n",
        "\n",
        "    return False"
      ],
      "execution_count": 12,
      "outputs": []
    },
    {
      "cell_type": "markdown",
      "metadata": {
        "id": "9t_zHF7NtuFp"
      },
      "source": [
        "## Define training loop"
      ]
    },
    {
      "cell_type": "code",
      "metadata": {
        "id": "fytZWUOhyMe0"
      },
      "source": [
        "def train_model(model, train_loader, val_loader, conf):\n",
        "\n",
        "    optimizer = optimizers[conf.optimizer](model.parameters(), lr=conf.learning_rate, weight_decay=conf.weight_decay)\n",
        "    criterion = nn.L1Loss(reduction=\"mean\").to(device)\n",
        "    scheduler = lr_scheduler.ExponentialLR(optimizer, conf.scheduler_decay_rate)\n",
        "\n",
        "    scaler = torch.cuda.amp.GradScaler()\n",
        "\n",
        "\n",
        "    best_loss = float(\"inf\")\n",
        "    b_size = conf.batch_size\n",
        "    step = 0\n",
        "    example_data, example_lens, _ = next(iter(val_loader))\n",
        "    example_packed = pack_padded_sequence(example_data, example_lens, batch_first=True, enforce_sorted=False)\n",
        "    history = dict(train=[], val=[])\n",
        "\n",
        "    it = tqdm(range(1, conf.epochs + 1))\n",
        "    for epoch in it:\n",
        "        \n",
        "        # Training part of epoch\n",
        "        model = model.train()\n",
        "        train_losses = []\n",
        "        for seq_true, lens, _ in train_loader:\n",
        "            optimizer.zero_grad()\n",
        "            packed_true = pack_padded_sequence(seq_true, lens, batch_first=True, enforce_sorted=False).to(device)\n",
        "            seq_true = seq_true.to(device)\n",
        "\n",
        "            with torch.cuda.amp.autocast():\n",
        "                seq_pred = model(packed_true, lens)\n",
        "                loss = criterion(seq_pred.data, packed_true.data)\n",
        "\n",
        "            scaler.scale(loss).backward()\n",
        "            scaler.step(optimizer)\n",
        "            scaler.update()\n",
        "\n",
        "            train_losses.append(loss.item())\n",
        "\n",
        "            step += 1\n",
        "\n",
        "        # Validation part of epoch\n",
        "        val_losses = []\n",
        "        model = model.eval()\n",
        "        with torch.no_grad():\n",
        "            for seq_true, lens, _ in val_loader:\n",
        "                seq_true = seq_true.to(device)\n",
        "                packed_true = pack_padded_sequence(seq_true, lens, batch_first=True, enforce_sorted=False).to(device)\n",
        "                seq_pred = model(packed_true, lens)\n",
        "                \n",
        "                loss = criterion(seq_pred.data, packed_true.data)\n",
        "                val_losses.append(loss.item())\n",
        "\n",
        "        train_loss = np.mean(train_losses)\n",
        "        val_loss = np.mean(val_losses)\n",
        "\n",
        "        scheduler.step()\n",
        "\n",
        "        history[\"train\"].append(train_loss)\n",
        "        history[\"val\"].append(val_loss)\n",
        "\n",
        "        wandb.log({\"train_loss\": train_loss, \"val_loss\": val_loss, \"epoch\": epoch, \"examples\": step*b_size, \"lr\": optimizer.param_groups[0][\"lr\"]}, step=step)\n",
        "\n",
        "        if val_loss < best_loss:\n",
        "            best_loss = val_loss\n",
        "            best_model_wts = copy.deepcopy(model.state_dict())\n",
        "\n",
        "            filepath = \"model.torch\"\n",
        "            torch.save(best_model_wts, filepath)\n",
        "            wandb.save(filepath)\n",
        "\n",
        "            figurepath = \"best_val_plot.png\"\n",
        "            plot_examples(\n",
        "                figurepath,\n",
        "                example_data,\n",
        "                example_packed,\n",
        "                model,\n",
        "                lens=example_lens,\n",
        "                epoch=epoch,\n",
        "                conf=conf,\n",
        "            )\n",
        "            wandb.log({\"best_val_expl\": wandb.Image(figurepath), \"epoch\": epoch}, step=step)\n",
        "\n",
        "        if (epoch + 1) % 10 == 0:\n",
        "            figurepath = \"periodic_val_plot.png\"\n",
        "            plot_examples(\n",
        "                figurepath,\n",
        "                example_data,\n",
        "                example_packed,\n",
        "                model,\n",
        "                lens=example_lens,\n",
        "                epoch=epoch,\n",
        "                conf=conf,\n",
        "            )\n",
        "            wandb.log({\"periodic_val_expl\": wandb.Image(figurepath), \"epoch\": epoch}, step=step)\n",
        "\n",
        "\n",
        "        it.set_postfix(\n",
        "            train_loss=train_loss,\n",
        "            val_loss=val_loss,\n",
        "            lr=f\"{optimizer.param_groups[0]['lr']:.2e}\",\n",
        "        )\n",
        "\n",
        "        # Code for early stopping\n",
        "        if conf.early_stop and early_stop(history, ma1=5, ma2=20, em=1.05):\n",
        "            wandb.log({\"early_stop\": True, \"epoch\": epoch}, step=step)\n",
        "            break\n",
        "\n",
        "    model.load_state_dict(best_model_wts)\n",
        "    return model.eval(), filepath"
      ],
      "execution_count": 13,
      "outputs": []
    },
    {
      "cell_type": "markdown",
      "metadata": {
        "id": "HVeue_WairST"
      },
      "source": [
        "## Run training"
      ]
    },
    {
      "cell_type": "markdown",
      "metadata": {
        "id": "8Xj1P37cLFxi"
      },
      "source": [
        "### Setup and start training loop"
      ]
    },
    {
      "cell_type": "code",
      "metadata": {
        "id": "xYKa_AzAyWxE"
      },
      "source": [
        "def train(config=None, project=None, entity=None, enablewb=True):\n",
        "    mode = \"online\" if enablewb else \"disabled\"\n",
        "    with wandb.init(config=config, project=project, entity=entity, job_type=\"training\", mode=mode) as run:\n",
        "        conf = wandb.config\n",
        "\n",
        "        train_path = DATA_ROOT / \"Series/m4_series_n4_f32_train.feather\"\n",
        "        val_path = DATA_ROOT / \"Series/m4_series_n4_f32_val.feather\"\n",
        "\n",
        "        (train_loader,\n",
        "         val_loader,\n",
        "         seq_len,\n",
        "         n_features) = get_dataloaders(run, train_path, val_path)\n",
        "\n",
        "        model = model_versions[conf.architecture](\n",
        "            seq_len=seq_len,\n",
        "            n_features=n_features,\n",
        "            embedding_dim=conf.embedding_dim,\n",
        "            hidden_dim=conf.hidden_dim,\n",
        "            dropout=conf.dropout,\n",
        "            num_layers=conf.num_layers,\n",
        "        )\n",
        "\n",
        "        print(f\"Moving model {conf.architecture} to device: {device}\")\n",
        "        model = model.to(device)\n",
        "\n",
        "        model, savepath = train_model(\n",
        "            model,\n",
        "            train_loader,\n",
        "            val_loader,\n",
        "            conf=conf,\n",
        "        )\n",
        "\n",
        "        artifact = wandb.Artifact(conf.architecture, type='lstm-ae-model', metadata={\"config\": json.dumps(dict(conf))})\n",
        "        # Add a file to the artifact's contents\n",
        "        artifact.add_file(savepath)\n",
        "        # Save the artifact version to W&B and mark it as the output of this run\n",
        "        run.log_artifact(artifact)\n",
        "    return model\n",
        "    "
      ],
      "execution_count": 31,
      "outputs": []
    },
    {
      "cell_type": "markdown",
      "metadata": {
        "id": "etegyX2aucFF"
      },
      "source": [
        "### Standalone training"
      ]
    },
    {
      "cell_type": "markdown",
      "metadata": {
        "id": "vJm3PHSqCN2X"
      },
      "source": [
        "#### Config"
      ]
    },
    {
      "cell_type": "code",
      "metadata": {
        "id": "RYlijeB9ug1d"
      },
      "source": [
        "config = dict(\n",
        "    epochs=1_000,\n",
        "    n_train=100_000,\n",
        "    n_val=10_000,\n",
        "    embedding_dim=32,\n",
        "    hidden_dim=128,\n",
        "    learning_rate=0.01,\n",
        "    architecture=\"RecurrentAutoencoderV4\",\n",
        "    num_layers=3,\n",
        "    batch_size=2*2048,\n",
        "    optimizer=\"adamw\",\n",
        "    dropout=0.2,\n",
        "    variable_len=True,\n",
        "    maxlen=2_000,\n",
        "    early_stop=False,\n",
        "    normalize_data=\"minmax\",\n",
        "    weight_decay=0.01,\n",
        "    scheduler=\"ExponentialLR\",\n",
        "    scheduler_decay_rate=0.995,\n",
        ")"
      ],
      "execution_count": 32,
      "outputs": []
    },
    {
      "cell_type": "markdown",
      "metadata": {
        "id": "fYFXrRwzCPtI"
      },
      "source": [
        "#### Start"
      ]
    },
    {
      "cell_type": "code",
      "metadata": {
        "id": "-iZHRgzWu8yF",
        "colab": {
          "base_uri": "https://localhost:8080/",
          "height": 103,
          "referenced_widgets": [
            "a1ed54d570354cf28b905e0cdeb55171",
            "70e83282e767405f839f68cacc9f6563",
            "1f155723841046cfb3434ce16b8703d3",
            "7f5714ea44b9405998556ad54ff2f887",
            "3416463348e7479281897ea75c538c9a",
            "49462fb442674b238d02e12736b3e46a",
            "9f56ac6d8da448438c717fc2773f6de5",
            "4bc482ae0e2b4a8d93f17e8c6efe24ff",
            "7bae95bb7b47490f8c4627fc29144a61",
            "bda352a7c0d04d989555c29fe4053d24",
            "a0bdfab69bb5461ea48da3a5b96050e3"
          ]
        },
        "outputId": "861c5771-6f41-48ce-8161-82533e45eeb9"
      },
      "source": [
        "enablewb = True\n",
        "sweep = False\n",
        "sweepid = \"krankile/lstm-vae/4hwgg3ba\"\n",
        "\n",
        "if sweep:\n",
        "    count = 100 # number of runs to execute\n",
        "    wandb.agent(sweepid, function=train, count=count)\n",
        "else:\n",
        "    model = train(config=config, project=\"lstm-vae\", entity=\"krankile\", enablewb=enablewb)"
      ],
      "execution_count": null,
      "outputs": [
        {
          "output_type": "display_data",
          "data": {
            "text/html": [
              "\n",
              "                    Syncing run <strong><a href=\"https://wandb.ai/krankile/lstm-vae/runs/28hqn0br\" target=\"_blank\">jumping-bee-567</a></strong> to <a href=\"https://wandb.ai/krankile/lstm-vae\" target=\"_blank\">Weights & Biases</a> (<a href=\"https://docs.wandb.com/integrations/jupyter.html\" target=\"_blank\">docs</a>).<br/>\n",
              "\n",
              "                "
            ],
            "text/plain": [
              "<IPython.core.display.HTML object>"
            ]
          },
          "metadata": {}
        },
        {
          "output_type": "stream",
          "name": "stdout",
          "text": [
            "Using 4 CPUs in dataloaders\n",
            "Moving model RecurrentAutoencoderV4 to device: cuda\n"
          ]
        },
        {
          "output_type": "display_data",
          "data": {
            "application/vnd.jupyter.widget-view+json": {
              "model_id": "a1ed54d570354cf28b905e0cdeb55171",
              "version_minor": 0,
              "version_major": 2
            },
            "text/plain": [
              "  0%|          | 0/1000 [00:00<?, ?it/s]"
            ]
          },
          "metadata": {}
        }
      ]
    },
    {
      "cell_type": "markdown",
      "metadata": {
        "id": "h1bMprrhc3JP"
      },
      "source": [
        "## Generate features from trained network"
      ]
    },
    {
      "cell_type": "code",
      "metadata": {
        "colab": {
          "base_uri": "https://localhost:8080/"
        },
        "id": "_IiT7IxUiy3B",
        "outputId": "9b02ea15-971d-420e-ded8-2cf4d63a31c6"
      },
      "source": [
        "root = \"/content/drive/MyDrive/## Master, Ankile og Krange/\"\n",
        "\n",
        "runpath = \"Models/211107_lstm_n50k_hd64/\"\n",
        "modelpath = root + runpath + \"model.torch\"\n",
        "configpath = root + runpath + \"config.yaml\"\n",
        "\n",
        "train_path = root + \"Data/Series/m4_series_n4_f32_train.feather\"\n",
        "val_path = root + \"Data/Series/m4_series_n4_f32_val.feather\"\n",
        "test_path = root + \"Data/Series/m4_series_n4_f32_test.feather\"\n",
        "\n",
        "params = dict(\n",
        "    config=configpath,\n",
        "    project=\"lstm-vae\",\n",
        "    entity=\"krankile\",\n",
        "    job_type=\"generate_features\",\n",
        "    mode=\"disabled\",\n",
        ")\n",
        "\n",
        "with wandb.init(**params) as run:\n",
        "\n",
        "    wandb.config.update({\n",
        "        \"n_train\": 100_000,\n",
        "        \"n_val\": 10_000,\n",
        "    }, allow_val_change=True)\n",
        "\n",
        "    conf = run.config\n",
        "    (train_loader,\n",
        "     val_loader,\n",
        "     test_loader,\n",
        "     seq_len,\n",
        "     n_features) = get_dataloaders(run, train_path, val_path, test_path)\n",
        "\n",
        "     loaders = dict(\n",
        "         train=train_loader,\n",
        "         val=val_loader,\n",
        "         test=test_loader,\n",
        "     )\n",
        "\n",
        "    model = RecurrentAutoencoder2(\n",
        "        seq_len=seq_len,\n",
        "        n_features=n_features,\n",
        "        embedding_dim=conf.embedding_dim,\n",
        "        hidden_dim=conf.hidden_dim,\n",
        "        dropout=conf.dropout,\n",
        "    )\n",
        "    \n",
        "    print(modelpath)\n",
        "    model.load_state_dict(torch.load(modelpath))\n",
        "\n",
        "    encoder = model.eval().encoder\n",
        "    print(encoder)\n",
        "\n",
        "    features = defaultdict(list)\n",
        "    idxs = defaultdict(list)\n",
        "\n",
        "    with torch.no_grad():\n",
        "        for setname, loader in loaders.items():\n",
        "            for seq_true, lens, idx in tqdm(loader, desc=f\"Processing {setname} data\"):\n",
        "                    packed_true = pack_padded_sequence(seq_true, lens, batch_first=True, enforce_sorted=False)\n",
        "                    feat = encoder(packed_true)\n",
        "                    features[setname].append(feat)\n",
        "                    idxs[setname].extend(idx)\n",
        "\n",
        "for setname in tqdm(loaders, desc=\"Writing sets to files\"):\n",
        "    # Set the batches together\n",
        "    fs = torch.cat(features[train_loader], dim=0).squeeze(1).cpu().numpy()\n",
        "\n",
        "    # Write files\n",
        "    df = pd.DataFrame(fs, index=idxs[train_loader], columns=[f\"lstm_{i}\" for i in range(fs.shape[1])])\n",
        "    df.reset_index().to_feather(root + f\"Data/lstm-features/lstm-features-100k-{setname}.feather\")\n",
        "    df.reset_index().to_csv(root + f\"Data/lstm-features/lstm-features-100k-{setname}.csv\")\n"
      ],
      "execution_count": null,
      "outputs": [
        {
          "output_type": "stream",
          "name": "stdout",
          "text": [
            "Shape of dataset: (90000, 1000, 1)\n",
            "Shape of dataset: (9995, 1000, 1)\n",
            "/content/drive/MyDrive/## Master, Ankile og Krange/Models/211107_lstm_n50k_hd64/model.torch\n",
            "Encoder2(\n",
            "  (lstm1): LSTM(1, 64, proj_size=32, num_layers=2, batch_first=True, dropout=0.12728007430864388)\n",
            ")\n"
          ]
        },
        {
          "output_type": "stream",
          "name": "stderr",
          "text": [
            "100%|██████████| 352/352 [01:02<00:00,  5.62it/s]\n",
            "100%|██████████| 40/40 [00:07<00:00,  5.42it/s]\n"
          ]
        }
      ]
    },
    {
      "cell_type": "code",
      "metadata": {
        "colab": {
          "base_uri": "https://localhost:8080/"
        },
        "id": "QJqzGyporXqu",
        "outputId": "deb8c0e9-f45b-42f0-aa8b-28da10401dfd"
      },
      "source": [
        "with wandb.init(config=config, project=\"lstm-vae\", entity=\"krankile\", job_type=\"generate_features\", mode=\"disabled\") as run:\n",
        "    # train_loader, val_loader, seq_len, num_features = get_dataloaders_traval(run, traindata, valdata)\n",
        "\n",
        "    features = []\n",
        "    idxs = []\n",
        "\n",
        "    with torch.no_grad():\n",
        "        for seq_true, lens, _, idx in tqdm(train_loader):\n",
        "                packed_true = pack_padded_sequence(seq_true, lens, batch_first=True, enforce_sorted=False).to(device)\n",
        "                feat, _ = model(packed_true)\n",
        "                features.append(feat)\n",
        "                idxs.extend(idx)\n",
        "    \n"
      ],
      "execution_count": null,
      "outputs": [
        {
          "output_type": "stream",
          "name": "stderr",
          "text": [
            "100%|██████████| 20/20 [00:00<00:00, 22.65it/s]\n"
          ]
        }
      ]
    },
    {
      "cell_type": "code",
      "metadata": {
        "id": "MgTZpn7l1SUp"
      },
      "source": [
        "fs = torch.cat(features, dim=0).squeeze(1).cpu().numpy()\n",
        "\n",
        "df = pd.DataFrame(fs, index=idxs, columns=[f\"lstm_{i}\" for i in range(fs.shape[1])])\n",
        "df.reset_index().to_feather(root + \"Data/lstm-features.feather\")"
      ],
      "execution_count": null,
      "outputs": []
    },
    {
      "cell_type": "markdown",
      "metadata": {
        "id": "xyHlj3v4XyWU"
      },
      "source": [
        "## Visualize the model itself"
      ]
    },
    {
      "cell_type": "code",
      "metadata": {
        "colab": {
          "base_uri": "https://localhost:8080/"
        },
        "id": "U0dHJn9EXxPE",
        "outputId": "30fe4b10-9ad5-4052-d81c-da571a2b8d75"
      },
      "source": [
        "model = RecurrentAutoencoder(\n",
        "    seq_len=1000,\n",
        "    n_features=1,\n",
        "    embedding_dim=32,\n",
        "    hidden_dim=64,\n",
        "    dropout=0.13,\n",
        ")\n",
        "\n",
        "print(model)"
      ],
      "execution_count": null,
      "outputs": [
        {
          "output_type": "stream",
          "name": "stdout",
          "text": [
            "RecurrentAutoencoder(\n",
            "  (encoder): Encoder2(\n",
            "    (lstm1): LSTM(1, 64, proj_size=32, num_layers=2, batch_first=True, dropout=0.13)\n",
            "  )\n",
            "  (decoder): Decoder2(\n",
            "    (rnn1): LSTM(32, 64, proj_size=1, num_layers=2, batch_first=True)\n",
            "  )\n",
            ")\n"
          ]
        }
      ]
    },
    {
      "cell_type": "markdown",
      "metadata": {
        "id": "mEyXxfwcDAry"
      },
      "source": [
        "## Check results"
      ]
    },
    {
      "cell_type": "code",
      "metadata": {
        "colab": {
          "base_uri": "https://localhost:8080/"
        },
        "id": "XCMnTA7tkkBs",
        "outputId": "da61d80a-4bd0-4c4a-fcfe-1bb17e1b375e"
      },
      "source": [
        "filepath = f\"modelsaves/model-{conf.dataset}.torch\"\n",
        "print(filepath)\n",
        "model.load_state_dict(torch.load(filepath))\n",
        "\n",
        "model = model.eval().cpu()"
      ],
      "execution_count": null,
      "outputs": [
        {
          "name": "stdout",
          "output_type": "stream",
          "text": [
            "modelsaves/model-droso-sine-noise-v01.torch\n"
          ]
        }
      ]
    },
    {
      "cell_type": "code",
      "metadata": {
        "colab": {
          "base_uri": "https://localhost:8080/",
          "height": 265
        },
        "id": "w5xQi-9-r2t9",
        "outputId": "9127d10f-a2ed-4bd4-ac6d-36026579b5c2"
      },
      "source": [
        "series = 2\n",
        "\n",
        "for n, i in enumerate(range(0, series), start=1):\n",
        "    plt.plot(np.linspace(0, 1, 100), train_tensor[i], label=f\"Original {n}\");\n",
        "    plt.plot(\n",
        "        np.linspace(0, 1, 100),\n",
        "        model(train_tensor[i]).reshape((-1)).detach().numpy(),\n",
        "        label=f\"Reconstructed {n}\",\n",
        "        linestyle=\"-.\"\n",
        "    )\n",
        "plt.legend();"
      ],
      "execution_count": null,
      "outputs": [
        {
          "data": {
            "image/png": "[encoded data removed]",
            "text/plain": [
              "<Figure size 864x288 with 1 Axes>"
            ]
          },
          "metadata": {},
          "output_type": "display_data"
        }
      ]
    },
    {
      "cell_type": "markdown",
      "metadata": {
        "id": "lAZnjUUJkEoe"
      },
      "source": [
        "# Archive"
      ]
    },
    {
      "cell_type": "code",
      "metadata": {
        "colab": {
          "base_uri": "https://localhost:8080/",
          "height": 265
        },
        "id": "UXQrp9GqDF6Y",
        "outputId": "5e25e77c-3308-470e-b3d3-749135a8740e"
      },
      "source": [
        "# Plot training data\n",
        "logspath = \"/content/drive/MyDrive/# 9. Semester/Prosjektoppgave_runs-logs-2021-10-20 15:58:18.177512\"\n",
        "\n",
        "logs = pd.read_csv(logspath, sep=\";\").set_index(\"Epoch\")\n",
        "logs[\"tloss_smooth\"] = logs[\"Train_loss\"].rolling(10).mean()\n",
        "logs[\"vloss_smooth\"] = logs[\"Val_loss\"].rolling(10).mean()\n",
        "plt.plot(logs[\"tloss_smooth\"]);\n",
        "plt.plot(logs[\"vloss_smooth\"]);"
      ],
      "execution_count": null,
      "outputs": [
        {
          "data": {
            "image/png": "[encoded data removed]",
            "text/plain": [
              "<Figure size 432x288 with 1 Axes>"
            ]
          },
          "metadata": {},
          "output_type": "display_data"
        }
      ]
    },
    {
      "cell_type": "code",
      "metadata": {
        "id": "m1OgursHwQLU"
      },
      "source": [
        "# Not used in a sweep\n",
        "config = dict(\n",
        "    epochs=75,\n",
        "    n_series=8000,\n",
        "    embedding_dim=128,\n",
        "    hidden_dim=256,\n",
        "    learning_rate=1e-3,\n",
        "    dataset=\"droso-3class-noise-v01\",\n",
        "    dataclass=\"droso-3class-noise\",\n",
        "    architecture=\"LSTM\",\n",
        "    batch_size=100,\n",
        "    optimizer=\"adamw\",\n",
        ")"
      ],
      "execution_count": null,
      "outputs": []
    },
    {
      "cell_type": "code",
      "metadata": {
        "id": "6A0aMw5d5aN4"
      },
      "source": [
        "columnlist = ['step',\n",
        " 'step__MIN',\n",
        " 'step__MAX',\n",
        " 'train_loss',\n",
        " 'train_loss__MIN',\n",
        " 'train_loss__MAX',\n",
        " 'val_loss',\n",
        " 'val_loss__MIN',\n",
        " 'val_loss__MAX']\n",
        "tdf = pd.read_csv(\"/content/wandb_export_1.csv\").set_index(\"epoch\")\n",
        "tdf.columns = columnlist"
      ],
      "execution_count": null,
      "outputs": []
    },
    {
      "cell_type": "code",
      "metadata": {
        "colab": {
          "base_uri": "https://localhost:8080/",
          "height": 483
        },
        "id": "Rqwy_hT-6EKx",
        "outputId": "7b8a0585-2902-4fd8-a204-009ffc5c355d"
      },
      "source": [
        "ma1 = 5\n",
        "ma2 = 20\n",
        "\n",
        "tdf[f\"val_ma{ma1}\"] = tdf[\"val_loss\"].rolling(window=ma1).mean()\n",
        "tdf[f\"val_ma{ma2}\"] = tdf[\"val_loss\"].rolling(window=ma2).mean()*1.05\n",
        "\n",
        "plt.plot(tdf[\"train_loss\"], label=\"Train\")\n",
        "plt.plot(tdf[\"val_loss\"], label=\"Val\")\n",
        "plt.plot(tdf[f\"val_ma{ma1}\"], label=f\"Val ma {ma1}\")\n",
        "plt.plot(tdf[f\"val_ma{ma2}\"], label=f\"Val ma {ma2}\")\n",
        "plt.legend();"
      ],
      "execution_count": null,
      "outputs": [
        {
          "output_type": "display_data",
          "data": {
            "image/png": "[encoded data removed]",
            "text/plain": [
              "<Figure size 1152x576 with 1 Axes>"
            ]
          },
          "metadata": {
            "needs_background": "light"
          }
        }
      ]
    },
    {
      "cell_type": "code",
      "metadata": {
        "id": "sdZj1IK38Smf"
      },
      "source": [
        "class M4Monthly(Dataset):\n",
        "    def __init__(self, filepath, n_series=None):\n",
        "        self.series = pd.read_feather(filepath).set_index(\"Name\").astype(\"float32\")\n",
        "\n",
        "        self.shape = self.series.shape + (1, )\n",
        "\n",
        "        if n_series:\n",
        "            self.series = self.series.sample(n=n_series, replace=False)\n",
        "\n",
        "    def __len__(self):\n",
        "        return len(self.series)\n",
        "\n",
        "    def __getitem__(self, idx):\n",
        "        return self.series.iloc[idx, :].to_numpy().reshape(self.shape[1:])"
      ],
      "execution_count": null,
      "outputs": []
    },
    {
      "cell_type": "code",
      "metadata": {
        "id": "TNyP0vom8Smf"
      },
      "source": [
        "def get_dataloaders(run):\n",
        "    defpath = \"/content/artifacts/m4-month-40:v3/m4-month-40.feather\"\n",
        "    # Query W&B for an artifact and mark it as input to this run\n",
        "    conf = run.config\n",
        "    artifact = run.use_artifact(conf.dataartifact)\n",
        "    # Download the artifact's contents\n",
        "    artifact_path = artifact.get_path(f\"{conf.dataartifact.split(':')[0]}.feather\").download()\n",
        "    artifact_path = artifact_path if len(artifact_path) > 1 else defpath\n",
        "\n",
        "    m4dataset = M4Monthly(artifact_path, n_series=conf.n_series)\n",
        "    l = len(m4dataset)\n",
        "    split = (l - l // 10, l // 10)\n",
        "    train_data, val_data = random_split(m4dataset, lengths=split)\n",
        "\n",
        "    train_loader = DataLoader(train_data, batch_size=conf.batch_size, shuffle=True)\n",
        "    val_loader = DataLoader(val_data, batch_size=conf.batch_size, shuffle=True)\n",
        "\n",
        "    seq_len, num_features = m4dataset.shape[1:]\n",
        "\n",
        "    return train_loader, val_loader, seq_len, num_features"
      ],
      "execution_count": null,
      "outputs": []
    }
  ]
}