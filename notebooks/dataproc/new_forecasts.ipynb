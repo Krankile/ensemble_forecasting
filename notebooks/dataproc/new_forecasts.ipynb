{
  "nbformat": 4,
  "nbformat_minor": 0,
  "metadata": {
    "colab": {
      "name": "new_forecasts.ipynb",
      "provenance": [],
      "authorship_tag": "ABX9TyMYrLDAIR/6p4xJkZWapI/8",
      "include_colab_link": true
    },
    "kernelspec": {
      "name": "python3",
      "display_name": "Python 3"
    },
    "language_info": {
      "name": "python"
    }
  },
  "cells": [
    {
      "cell_type": "markdown",
      "metadata": {
        "id": "view-in-github",
        "colab_type": "text"
      },
      "source": [
        "<a href=\"https://colab.research.google.com/github/Krankile/ensemble_forecasting/blob/main/notebooks/dataproc/new_forecasts.ipynb\" target=\"_parent\"><img src=\"https://colab.research.google.com/assets/colab-badge.svg\" alt=\"Open In Colab\"/></a>"
      ]
    },
    {
      "cell_type": "code",
      "metadata": {
        "id": "jJ5beSy1AoK5"
      },
      "source": [
        "%%capture\n",
        "!pip install kora"
      ],
      "execution_count": 23,
      "outputs": []
    },
    {
      "cell_type": "code",
      "metadata": {
        "id": "Nx43gGIsAqCj"
      },
      "source": [
        "from kora import drive\n",
        "drive.link_nbs()\n",
        "import pandas as pd\n",
        "import numpy as np\n",
        "import matplotlib.pyplot as plt\n",
        "from pathlib import Path"
      ],
      "execution_count": 24,
      "outputs": []
    },
    {
      "cell_type": "code",
      "metadata": {
        "id": "p02Lg7l_5hXy"
      },
      "source": [
        "ROOT = Path(\"/content/drive/MyDrive/Master, Ankile og Krange/Data\")"
      ],
      "execution_count": 25,
      "outputs": []
    },
    {
      "cell_type": "code",
      "metadata": {
        "id": "7b3r0-m3A4rr"
      },
      "source": [
        "forecast_train = pd.read_feather(ROOT / \"Forecasts/5_methods_train.feather\").set_index(\"st\")\n",
        "meta_train = pd.read_feather(ROOT / \"Meta/Hyndman/m4_meta_am_train.feather\").set_index(\"index\")\n",
        "\n",
        "forecast_val = pd.read_feather(ROOT / \"Forecasts/5_methods_val.feather\").set_index(\"st\")\n",
        "meta_val = pd.read_feather(ROOT / \"Meta/Hyndman/m4_meta_am_val.feather\").set_index(\"index\")"
      ],
      "execution_count": 26,
      "outputs": []
    },
    {
      "cell_type": "code",
      "metadata": {
        "id": "xC7ItXcw_aHc"
      },
      "source": [
        "forecast_train = forecast_train.astype(np.float32)\n",
        "\n",
        "forecast_val = forecast_val.astype(np.float32)"
      ],
      "execution_count": 32,
      "outputs": []
    },
    {
      "cell_type": "code",
      "metadata": {
        "id": "KxWBZihc0Z4S"
      },
      "source": [
        "meta_train = meta_train.merge(forecast_train, left_index=True, right_index=True)\n",
        "meta_train = meta_train.replace(to_replace=np.nan, value=0)\n",
        "\n",
        "meta_val = meta_val.merge(forecast_val, left_index=True, right_index=True)\n",
        "meta_val = meta_val.replace(to_replace=np.nan, value=0)"
      ],
      "execution_count": null,
      "outputs": []
    },
    {
      "cell_type": "code",
      "metadata": {
        "id": "F2XXOdyy-pGh"
      },
      "source": [
        "meta_train.reset_index().to_feather(ROOT / \"Meta/m4_meta_am_train_14m.feather\")\n",
        "\n",
        "meta_val.reset_index().to_feather(ROOT / \"Meta/m4_meta_am_val_14m.feather\")"
      ],
      "execution_count": 34,
      "outputs": []
    }
  ]
}