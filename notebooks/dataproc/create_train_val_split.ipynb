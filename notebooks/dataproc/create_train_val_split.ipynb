{
 "cells": [
  {
   "cell_type": "markdown",
   "metadata": {},
   "source": [
    "# Final step of data cleaning pipeline\n",
    "\n",
    "The first part is done in R because the data is packaged as a .Rdata-file from Montero-Manso et al"
   ]
  },
  {
   "cell_type": "markdown",
   "metadata": {},
   "source": [
    "## Install and import packages"
   ]
  },
  {
   "cell_type": "code",
   "execution_count": 1,
   "metadata": {},
   "outputs": [
    {
     "name": "stdout",
     "output_type": "stream",
     "text": [
      "^C\n"
     ]
    }
   ],
   "source": [
    "!jupyter notebook --generate-config"
   ]
  },
  {
   "cell_type": "code",
   "execution_count": 1,
   "metadata": {},
   "outputs": [],
   "source": [
    "%%capture\n",
    "!pip install pyarrow"
   ]
  },
  {
   "cell_type": "code",
   "execution_count": 2,
   "metadata": {
    "colab": {
     "base_uri": "https://localhost:8080/"
    },
    "id": "6NOjedVwhAX9",
    "outputId": "9c2656c2-bd78-40ab-b378-5ca02f0246a0"
   },
   "outputs": [],
   "source": [
    "import os\n",
    "import copy\n",
    "import random\n",
    "from datetime import datetime\n",
    "from collections import Counter\n",
    "from operator import itemgetter\n",
    "from datetime import datetime as dt\n",
    "import numpy as np\n",
    "import matplotlib.pyplot as plt\n",
    "import pandas as pd\n",
    "from sklearn import utils"
   ]
  },
  {
   "cell_type": "code",
   "execution_count": 3,
   "metadata": {},
   "outputs": [],
   "source": [
    "DATA_DIR = \"data\""
   ]
  },
  {
   "cell_type": "code",
   "execution_count": 4,
   "metadata": {},
   "outputs": [],
   "source": [
    "def mem(df: pd.DataFrame, div=1e9) -> float:\n",
    "    return df.memory_usage().sum() / div"
   ]
  },
  {
   "cell_type": "markdown",
   "metadata": {},
   "source": [
    "## Process the meta data for the meta model"
   ]
  },
  {
   "cell_type": "code",
   "execution_count": 40,
   "metadata": {},
   "outputs": [],
   "source": [
    "mdf = pd.read_feather(os.path.join(DATA_DIR, \"m4_meta_cleaned.feather\")).set_index(\"st\")\n",
    "index = mdf.index"
   ]
  },
  {
   "cell_type": "code",
   "execution_count": 23,
   "metadata": {},
   "outputs": [
    {
     "data": {
      "text/html": [
       "<div>\n",
       "<style scoped>\n",
       "    .dataframe tbody tr th:only-of-type {\n",
       "        vertical-align: middle;\n",
       "    }\n",
       "\n",
       "    .dataframe tbody tr th {\n",
       "        vertical-align: top;\n",
       "    }\n",
       "\n",
       "    .dataframe thead th {\n",
       "        text-align: right;\n",
       "    }\n",
       "</style>\n",
       "<table border=\"1\" class=\"dataframe\">\n",
       "  <thead>\n",
       "    <tr style=\"text-align: right;\">\n",
       "      <th></th>\n",
       "      <th>n</th>\n",
       "      <th>h</th>\n",
       "      <th>type</th>\n",
       "      <th>period</th>\n",
       "      <th>x_acf1</th>\n",
       "      <th>x_acf10</th>\n",
       "      <th>diff1_acf1</th>\n",
       "      <th>diff1_acf10</th>\n",
       "      <th>diff2_acf1</th>\n",
       "      <th>diff2_acf10</th>\n",
       "      <th>...</th>\n",
       "      <th>snaive_forec_38</th>\n",
       "      <th>snaive_forec_39</th>\n",
       "      <th>snaive_forec_40</th>\n",
       "      <th>snaive_forec_41</th>\n",
       "      <th>snaive_forec_42</th>\n",
       "      <th>snaive_forec_43</th>\n",
       "      <th>snaive_forec_44</th>\n",
       "      <th>snaive_forec_45</th>\n",
       "      <th>snaive_forec_46</th>\n",
       "      <th>snaive_forec_47</th>\n",
       "    </tr>\n",
       "    <tr>\n",
       "      <th>st</th>\n",
       "      <th></th>\n",
       "      <th></th>\n",
       "      <th></th>\n",
       "      <th></th>\n",
       "      <th></th>\n",
       "      <th></th>\n",
       "      <th></th>\n",
       "      <th></th>\n",
       "      <th></th>\n",
       "      <th></th>\n",
       "      <th></th>\n",
       "      <th></th>\n",
       "      <th></th>\n",
       "      <th></th>\n",
       "      <th></th>\n",
       "      <th></th>\n",
       "      <th></th>\n",
       "      <th></th>\n",
       "      <th></th>\n",
       "      <th></th>\n",
       "      <th></th>\n",
       "    </tr>\n",
       "  </thead>\n",
       "  <tbody>\n",
       "    <tr>\n",
       "      <th>D1</th>\n",
       "      <td>992</td>\n",
       "      <td>14</td>\n",
       "      <td>4</td>\n",
       "      <td>1</td>\n",
       "      <td>0.997053752897978</td>\n",
       "      <td>9.68357824826554</td>\n",
       "      <td>-0.0254630143470145</td>\n",
       "      <td>0.00746004211146147</td>\n",
       "      <td>-0.517816826939318</td>\n",
       "      <td>0.271950927725247</td>\n",
       "      <td>...</td>\n",
       "      <td></td>\n",
       "      <td></td>\n",
       "      <td></td>\n",
       "      <td></td>\n",
       "      <td></td>\n",
       "      <td></td>\n",
       "      <td></td>\n",
       "      <td></td>\n",
       "      <td></td>\n",
       "      <td></td>\n",
       "    </tr>\n",
       "    <tr>\n",
       "      <th>D2</th>\n",
       "      <td>992</td>\n",
       "      <td>14</td>\n",
       "      <td>4</td>\n",
       "      <td>1</td>\n",
       "      <td>0.99725257328261</td>\n",
       "      <td>9.69910847843249</td>\n",
       "      <td>-0.00607359950061665</td>\n",
       "      <td>0.00455320174435376</td>\n",
       "      <td>-0.523351255720483</td>\n",
       "      <td>0.28357479566569</td>\n",
       "      <td>...</td>\n",
       "      <td></td>\n",
       "      <td></td>\n",
       "      <td></td>\n",
       "      <td></td>\n",
       "      <td></td>\n",
       "      <td></td>\n",
       "      <td></td>\n",
       "      <td></td>\n",
       "      <td></td>\n",
       "      <td></td>\n",
       "    </tr>\n",
       "    <tr>\n",
       "      <th>D3</th>\n",
       "      <td>116</td>\n",
       "      <td>14</td>\n",
       "      <td>4</td>\n",
       "      <td>1</td>\n",
       "      <td>0.873705150792433</td>\n",
       "      <td>2.25628261690727</td>\n",
       "      <td>-0.01473533463979</td>\n",
       "      <td>0.00243863311725713</td>\n",
       "      <td>-0.498711468899847</td>\n",
       "      <td>0.248715064357758</td>\n",
       "      <td>...</td>\n",
       "      <td></td>\n",
       "      <td></td>\n",
       "      <td></td>\n",
       "      <td></td>\n",
       "      <td></td>\n",
       "      <td></td>\n",
       "      <td></td>\n",
       "      <td></td>\n",
       "      <td></td>\n",
       "      <td></td>\n",
       "    </tr>\n",
       "    <tr>\n",
       "      <th>D4</th>\n",
       "      <td>155</td>\n",
       "      <td>14</td>\n",
       "      <td>4</td>\n",
       "      <td>1</td>\n",
       "      <td>0.669916065287868</td>\n",
       "      <td>0.894052875278264</td>\n",
       "      <td>-0.0685662900777497</td>\n",
       "      <td>0.0530404397555249</td>\n",
       "      <td>-0.449965398047466</td>\n",
       "      <td>0.221508474043687</td>\n",
       "      <td>...</td>\n",
       "      <td></td>\n",
       "      <td></td>\n",
       "      <td></td>\n",
       "      <td></td>\n",
       "      <td></td>\n",
       "      <td></td>\n",
       "      <td></td>\n",
       "      <td></td>\n",
       "      <td></td>\n",
       "      <td></td>\n",
       "    </tr>\n",
       "    <tr>\n",
       "      <th>D5</th>\n",
       "      <td>142</td>\n",
       "      <td>14</td>\n",
       "      <td>4</td>\n",
       "      <td>1</td>\n",
       "      <td>0.970663132644678</td>\n",
       "      <td>6.86899804233521</td>\n",
       "      <td>0.110999885559159</td>\n",
       "      <td>0.122275832257416</td>\n",
       "      <td>-0.477236480594683</td>\n",
       "      <td>0.381033490348058</td>\n",
       "      <td>...</td>\n",
       "      <td></td>\n",
       "      <td></td>\n",
       "      <td></td>\n",
       "      <td></td>\n",
       "      <td></td>\n",
       "      <td></td>\n",
       "      <td></td>\n",
       "      <td></td>\n",
       "      <td></td>\n",
       "      <td></td>\n",
       "    </tr>\n",
       "  </tbody>\n",
       "</table>\n",
       "<p>5 rows × 526 columns</p>\n",
       "</div>"
      ],
      "text/plain": [
       "      n   h type period             x_acf1            x_acf10  \\\n",
       "st                                                              \n",
       "D1  992  14    4      1  0.997053752897978   9.68357824826554   \n",
       "D2  992  14    4      1   0.99725257328261   9.69910847843249   \n",
       "D3  116  14    4      1  0.873705150792433   2.25628261690727   \n",
       "D4  155  14    4      1  0.669916065287868  0.894052875278264   \n",
       "D5  142  14    4      1  0.970663132644678   6.86899804233521   \n",
       "\n",
       "              diff1_acf1          diff1_acf10          diff2_acf1  \\\n",
       "st                                                                  \n",
       "D1   -0.0254630143470145  0.00746004211146147  -0.517816826939318   \n",
       "D2  -0.00607359950061665  0.00455320174435376  -0.523351255720483   \n",
       "D3     -0.01473533463979  0.00243863311725713  -0.498711468899847   \n",
       "D4   -0.0685662900777497   0.0530404397555249  -0.449965398047466   \n",
       "D5     0.110999885559159    0.122275832257416  -0.477236480594683   \n",
       "\n",
       "          diff2_acf10  ... snaive_forec_38 snaive_forec_39 snaive_forec_40  \\\n",
       "st                     ...                                                   \n",
       "D1  0.271950927725247  ...                                                   \n",
       "D2   0.28357479566569  ...                                                   \n",
       "D3  0.248715064357758  ...                                                   \n",
       "D4  0.221508474043687  ...                                                   \n",
       "D5  0.381033490348058  ...                                                   \n",
       "\n",
       "   snaive_forec_41 snaive_forec_42 snaive_forec_43 snaive_forec_44  \\\n",
       "st                                                                   \n",
       "D1                                                                   \n",
       "D2                                                                   \n",
       "D3                                                                   \n",
       "D4                                                                   \n",
       "D5                                                                   \n",
       "\n",
       "   snaive_forec_45 snaive_forec_46 snaive_forec_47  \n",
       "st                                                  \n",
       "D1                                                  \n",
       "D2                                                  \n",
       "D3                                                  \n",
       "D4                                                  \n",
       "D5                                                  \n",
       "\n",
       "[5 rows x 526 columns]"
      ]
     },
     "execution_count": 23,
     "metadata": {},
     "output_type": "execute_result"
    }
   ],
   "source": [
    "mdf.head(n=2)"
   ]
  },
  {
   "cell_type": "code",
   "execution_count": 24,
   "metadata": {},
   "outputs": [
    {
     "data": {
      "text/plain": [
       "n                    int32\n",
       "h                    int32\n",
       "type                 int32\n",
       "period               int32\n",
       "x_acf1              object\n",
       "                    ...   \n",
       "snaive_forec_43    float32\n",
       "snaive_forec_44    float32\n",
       "snaive_forec_45    float32\n",
       "snaive_forec_46    float32\n",
       "snaive_forec_47    float32\n",
       "Length: 526, dtype: object"
      ]
     },
     "execution_count": 24,
     "metadata": {},
     "output_type": "execute_result"
    }
   ],
   "source": [
    "mdf[[\"n\", \"h\", \"type\", \"period\"]] = mdf[[\"n\", \"h\", \"type\", \"period\"]].astype(int)\n",
    "mdf.iloc[:, 5:] = mdf.iloc[:, 5:].replace(r'^\\s*$', np.NaN, regex=True).astype(np.float32)\n",
    "mdf.dtypes"
   ]
  },
  {
   "cell_type": "code",
   "execution_count": 25,
   "metadata": {},
   "outputs": [],
   "source": [
    "mdf.type = mdf.type.astype(\"category\").cat.rename_categories([\"Demographic\", \"Finance\", \"Industry\", \"Macro\", \"Micro\", \"Other\"])"
   ]
  },
  {
   "cell_type": "code",
   "execution_count": 26,
   "metadata": {},
   "outputs": [],
   "source": [
    "mdf.period = mdf.period.astype(\"category\").cat.rename_categories([\"Daily\", \"Hourly\", \"Monthly\", \"Quarterly\", \"Weekly\", \"Yearly\"])"
   ]
  },
  {
   "cell_type": "code",
   "execution_count": 35,
   "metadata": {
    "scrolled": true
   },
   "outputs": [
    {
     "name": "stdout",
     "output_type": "stream",
     "text": [
      "(90000, 526) (9995, 526)\n"
     ]
    }
   ],
   "source": [
    "# Create validation set here\n",
    "share_val = 0.1\n",
    "mdf_shuf = utils.shuffle(mdf)\n",
    "\n",
    "tras = []\n",
    "vals = []\n",
    "\n",
    "for p in mdf.period.unique():\n",
    "    rows = mdf_shuf[mdf_shuf.period == p]\n",
    "    s = int(rows.shape[0] * share_val)\n",
    "    tras.append(rows.iloc[:-s, ])\n",
    "    vals.append(rows.iloc[-s:, ])\n",
    "    \n",
    "mtradf = pd.concat(tras, axis=0)\n",
    "mvaldf = pd.concat(vals, axis=0)\n",
    "\n",
    "print(mtradf.shape, mvaldf.shape)"
   ]
  },
  {
   "cell_type": "code",
   "execution_count": 43,
   "metadata": {},
   "outputs": [],
   "source": [
    "mtradf.reset_index().to_feather(os.path.join(DATA_DIR, \"m4_meta_train.feather\"))\n",
    "mvaldf.reset_index().to_feather(os.path.join(DATA_DIR, \"m4_meta_val.feather\"))"
   ]
  },
  {
   "cell_type": "markdown",
   "metadata": {},
   "source": [
    "## Process the raw training timeseries for LSTM-AE"
   ]
  },
  {
   "cell_type": "code",
   "execution_count": 59,
   "metadata": {},
   "outputs": [
    {
     "data": {
      "text/plain": [
       "((90000, 526), (9995, 526), 189.54044, 21.04991)"
      ]
     },
     "execution_count": 59,
     "metadata": {},
     "output_type": "execute_result"
    }
   ],
   "source": [
    "mtradf = pd.read_feather(os.path.join(DATA_DIR, \"m4_meta_train.feather\")).set_index(\"st\")\n",
    "mvaldf = pd.read_feather(os.path.join(DATA_DIR, \"m4_meta_val.feather\")).set_index(\"st\")\n",
    "\n",
    "mtradf.shape, mvaldf.shape, mem(mtradf, div=1e6), mem(mvaldf, div=1e6)"
   ]
  },
  {
   "cell_type": "code",
   "execution_count": 17,
   "metadata": {},
   "outputs": [
    {
     "data": {
      "text/html": [
       "<div>\n",
       "<style scoped>\n",
       "    .dataframe tbody tr th:only-of-type {\n",
       "        vertical-align: middle;\n",
       "    }\n",
       "\n",
       "    .dataframe tbody tr th {\n",
       "        vertical-align: top;\n",
       "    }\n",
       "\n",
       "    .dataframe thead th {\n",
       "        text-align: right;\n",
       "    }\n",
       "</style>\n",
       "<table border=\"1\" class=\"dataframe\">\n",
       "  <thead>\n",
       "    <tr style=\"text-align: right;\">\n",
       "      <th></th>\n",
       "      <th>V1</th>\n",
       "      <th>V2</th>\n",
       "      <th>V3</th>\n",
       "      <th>V4</th>\n",
       "      <th>V5</th>\n",
       "      <th>V6</th>\n",
       "      <th>V7</th>\n",
       "      <th>V8</th>\n",
       "      <th>V9</th>\n",
       "      <th>V10</th>\n",
       "      <th>...</th>\n",
       "      <th>V9896</th>\n",
       "      <th>V9897</th>\n",
       "      <th>V9898</th>\n",
       "      <th>V9899</th>\n",
       "      <th>V9900</th>\n",
       "      <th>V9901</th>\n",
       "      <th>V9902</th>\n",
       "      <th>V9903</th>\n",
       "      <th>V9904</th>\n",
       "      <th>V9905</th>\n",
       "    </tr>\n",
       "    <tr>\n",
       "      <th>st</th>\n",
       "      <th></th>\n",
       "      <th></th>\n",
       "      <th></th>\n",
       "      <th></th>\n",
       "      <th></th>\n",
       "      <th></th>\n",
       "      <th></th>\n",
       "      <th></th>\n",
       "      <th></th>\n",
       "      <th></th>\n",
       "      <th></th>\n",
       "      <th></th>\n",
       "      <th></th>\n",
       "      <th></th>\n",
       "      <th></th>\n",
       "      <th></th>\n",
       "      <th></th>\n",
       "      <th></th>\n",
       "      <th></th>\n",
       "      <th></th>\n",
       "      <th></th>\n",
       "    </tr>\n",
       "  </thead>\n",
       "  <tbody>\n",
       "    <tr>\n",
       "      <th>D1</th>\n",
       "      <td>1017.1</td>\n",
       "      <td>1019.3</td>\n",
       "      <td>1017.0</td>\n",
       "      <td>1019.2</td>\n",
       "      <td>1018.7</td>\n",
       "      <td>1015.6</td>\n",
       "      <td>1018.5</td>\n",
       "      <td>1018.3</td>\n",
       "      <td>1018.4</td>\n",
       "      <td>1021.5</td>\n",
       "      <td>...</td>\n",
       "      <td>0.0</td>\n",
       "      <td>0.0</td>\n",
       "      <td>0.0</td>\n",
       "      <td>0.0</td>\n",
       "      <td>0.0</td>\n",
       "      <td>0.0</td>\n",
       "      <td>0.0</td>\n",
       "      <td>0.0</td>\n",
       "      <td>0.0</td>\n",
       "      <td>0.0</td>\n",
       "    </tr>\n",
       "    <tr>\n",
       "      <th>D2</th>\n",
       "      <td>2793.7</td>\n",
       "      <td>2793.8</td>\n",
       "      <td>2803.7</td>\n",
       "      <td>2805.8</td>\n",
       "      <td>2802.3</td>\n",
       "      <td>2795.0</td>\n",
       "      <td>2806.4</td>\n",
       "      <td>2782.2</td>\n",
       "      <td>2780.3</td>\n",
       "      <td>2781.4</td>\n",
       "      <td>...</td>\n",
       "      <td>0.0</td>\n",
       "      <td>0.0</td>\n",
       "      <td>0.0</td>\n",
       "      <td>0.0</td>\n",
       "      <td>0.0</td>\n",
       "      <td>0.0</td>\n",
       "      <td>0.0</td>\n",
       "      <td>0.0</td>\n",
       "      <td>0.0</td>\n",
       "      <td>0.0</td>\n",
       "    </tr>\n",
       "  </tbody>\n",
       "</table>\n",
       "<p>2 rows × 9905 columns</p>\n",
       "</div>"
      ],
      "text/plain": [
       "        V1      V2      V3      V4      V5      V6      V7      V8      V9  \\\n",
       "st                                                                           \n",
       "D1  1017.1  1019.3  1017.0  1019.2  1018.7  1015.6  1018.5  1018.3  1018.4   \n",
       "D2  2793.7  2793.8  2803.7  2805.8  2802.3  2795.0  2806.4  2782.2  2780.3   \n",
       "\n",
       "       V10  ...  V9896  V9897  V9898  V9899  V9900  V9901  V9902  V9903  \\\n",
       "st          ...                                                           \n",
       "D1  1021.5  ...    0.0    0.0    0.0    0.0    0.0    0.0    0.0    0.0   \n",
       "D2  2781.4  ...    0.0    0.0    0.0    0.0    0.0    0.0    0.0    0.0   \n",
       "\n",
       "    V9904  V9905  \n",
       "st                \n",
       "D1    0.0    0.0  \n",
       "D2    0.0    0.0  \n",
       "\n",
       "[2 rows x 9905 columns]"
      ]
     },
     "execution_count": 17,
     "metadata": {},
     "output_type": "execute_result"
    }
   ],
   "source": [
    "rdf = pd.read_feather(os.path.join(DATA_DIR, \"m4_series_cleaned.feather\")).set_index(\"st\")\n",
    "columns = rdf.columns\n",
    "index = rdf.index\n",
    "rdf = rdf.replace(np.nan, 0)\n",
    "rdf.head(n=2)"
   ]
  },
  {
   "cell_type": "code",
   "execution_count": 18,
   "metadata": {},
   "outputs": [],
   "source": [
    "rdf = pd.DataFrame(rdf.to_numpy(dtype=np.float32))"
   ]
  },
  {
   "cell_type": "code",
   "execution_count": 39,
   "metadata": {},
   "outputs": [
    {
     "ename": "NameError",
     "evalue": "name 'index' is not defined",
     "output_type": "error",
     "traceback": [
      "\u001b[1;31m---------------------------------------------------------------------------\u001b[0m",
      "\u001b[1;31mNameError\u001b[0m                                 Traceback (most recent call last)",
      "\u001b[1;32m<ipython-input-39-d036765c2f4f>\u001b[0m in \u001b[0;36m<module>\u001b[1;34m\u001b[0m\n\u001b[1;32m----> 1\u001b[1;33m \u001b[0mrdf\u001b[0m\u001b[1;33m.\u001b[0m\u001b[0mindex\u001b[0m \u001b[1;33m=\u001b[0m \u001b[0mindex\u001b[0m\u001b[1;33m;\u001b[0m \u001b[0mrdf\u001b[0m\u001b[1;33m.\u001b[0m\u001b[0mcolumns\u001b[0m \u001b[1;33m=\u001b[0m \u001b[0mcolumns\u001b[0m\u001b[1;33m\u001b[0m\u001b[1;33m\u001b[0m\u001b[0m\n\u001b[0m",
      "\u001b[1;31mNameError\u001b[0m: name 'index' is not defined"
     ]
    }
   ],
   "source": [
    "rdf.index = index; rdf.columns = columns"
   ]
  },
  {
   "cell_type": "code",
   "execution_count": 20,
   "metadata": {},
   "outputs": [],
   "source": [
    "rdf.insert(0, column=\"n\", value=None)\n",
    "rdf.insert(1, column=\"type\", value=None)\n",
    "rdf.insert(2, column=\"period\", value=None)"
   ]
  },
  {
   "cell_type": "code",
   "execution_count": 28,
   "metadata": {},
   "outputs": [],
   "source": [
    "rdf.n = mdf.n.astype(np.uint16)\n",
    "rdf.type = mdf.type\n",
    "rdf.period = mdf.period"
   ]
  },
  {
   "cell_type": "code",
   "execution_count": 29,
   "metadata": {},
   "outputs": [],
   "source": [
    "# Save the converted df for later\n",
    "rdf.reset_index().to_feather(os.path.join(DATA_DIR, \"m4_series_f32_aug.feather\"))"
   ]
  },
  {
   "cell_type": "code",
   "execution_count": 30,
   "metadata": {},
   "outputs": [
    {
     "data": {
      "text/plain": [
       "((90000, 9908), (9995, 9908))"
      ]
     },
     "execution_count": 30,
     "metadata": {},
     "output_type": "execute_result"
    }
   ],
   "source": [
    "# Make sure the training and validation sets are the same for all parts of the system\n",
    "rtradf = rdf.loc[mtradf.index, :]\n",
    "rvaldf = rdf.loc[mvaldf.index, :]\n",
    "rtradf.shape, rvaldf.shape"
   ]
  },
  {
   "cell_type": "code",
   "execution_count": 31,
   "metadata": {},
   "outputs": [],
   "source": [
    "rtradf.reset_index().to_feather(os.path.join(DATA_DIR, \"m4_series_train.feather\"))\n",
    "rvaldf.reset_index().to_feather(os.path.join(DATA_DIR, \"m4_series_val.feather\"))"
   ]
  },
  {
   "cell_type": "markdown",
   "metadata": {},
   "source": [
    "## Analyze sparsity of matrix"
   ]
  },
  {
   "cell_type": "code",
   "execution_count": 49,
   "metadata": {},
   "outputs": [],
   "source": [
    "# Load fullsize, converted df from file\n",
    "rdf = pd.read_feather(os.path.join(DATA_DIR, \"m4_series_f32_aug.feather\")).set_index(\"st\")\n",
    "columns = rdf.columns"
   ]
  },
  {
   "cell_type": "code",
   "execution_count": 11,
   "metadata": {},
   "outputs": [],
   "source": [
    "lencount = Counter(rdf.n)"
   ]
  },
  {
   "cell_type": "code",
   "execution_count": 12,
   "metadata": {},
   "outputs": [
    {
     "data": {
      "image/png": "[encoded data removed]",
      "text/plain": [
       "<Figure size 720x432 with 1 Axes>"
      ]
     },
     "metadata": {
      "needs_background": "light"
     },
     "output_type": "display_data"
    }
   ],
   "source": [
    "freqs = list(sorted(lencount.items(), key=itemgetter(0)))\n",
    "\n",
    "x, h = zip(*freqs)\n",
    "cum = np.array(h).cumsum() / rdf.shape[0]\n",
    "\n",
    "fig = plt.figure(figsize=(10, 6))\n",
    "ax = fig.add_subplot(1, 1, 1)\n",
    "# ax.axhline(y=1, linestyle='-.', linewidth=1)\n",
    "ax.plot(x, cum, label=\"% of series\", color=\"navy\")\n",
    "ax.axhline(y=0.99, color=\"cornflowerblue\", linestyle='-.', linewidth=2, alpha=.5, label=\"99% of series\")\n",
    "ax.axvline(x=4e3, color=\"lightsteelblue\", linestyle='--', linewidth=2, alpha=.5, label=\"Length 4 000\")\n",
    "ax.set_xscale('log')\n",
    "\n",
    "ax.legend();"
   ]
  },
  {
   "cell_type": "markdown",
   "metadata": {},
   "source": [
    "## Truncate time-series to last 4000 observations"
   ]
  },
  {
   "cell_type": "code",
   "execution_count": 13,
   "metadata": {},
   "outputs": [],
   "source": [
    "length = 4000\n",
    "data = rdf.iloc[:, 3:].to_numpy()"
   ]
  },
  {
   "cell_type": "code",
   "execution_count": 15,
   "metadata": {},
   "outputs": [
    {
     "data": {
      "text/plain": [
       "dtype('float32')"
      ]
     },
     "execution_count": 15,
     "metadata": {},
     "output_type": "execute_result"
    }
   ],
   "source": [
    "data.dtype"
   ]
  },
  {
   "cell_type": "code",
   "execution_count": 16,
   "metadata": {},
   "outputs": [],
   "source": [
    "out = np.zeros((data.shape[0], length), dtype=np.float32)"
   ]
  },
  {
   "cell_type": "code",
   "execution_count": 17,
   "metadata": {},
   "outputs": [
    {
     "data": {
      "text/plain": [
       "((99995, 4000), dtype('float32'))"
      ]
     },
     "execution_count": 17,
     "metadata": {},
     "output_type": "execute_result"
    }
   ],
   "source": [
    "out.shape, out.dtype"
   ]
  },
  {
   "cell_type": "code",
   "execution_count": 18,
   "metadata": {},
   "outputs": [],
   "source": [
    "ns = rdf.n.values"
   ]
  },
  {
   "cell_type": "code",
   "execution_count": 34,
   "metadata": {},
   "outputs": [],
   "source": [
    "for i, (n, d) in enumerate(zip(ns, data)):\n",
    "    out[i, :n] = d[max(0, n-length):n]"
   ]
  },
  {
   "cell_type": "code",
   "execution_count": 55,
   "metadata": {},
   "outputs": [
    {
     "data": {
      "text/plain": [
       "(99995, 4000)"
      ]
     },
     "execution_count": 55,
     "metadata": {},
     "output_type": "execute_result"
    }
   ],
   "source": [
    "rdf4 = pd.DataFrame(out, index=index, columns=columns[3:length+3])\n",
    "rdf4.shape"
   ]
  },
  {
   "cell_type": "code",
   "execution_count": 56,
   "metadata": {},
   "outputs": [],
   "source": [
    "rdf4 = pd.concat([rdf.iloc[:, :3], rdf4], axis=1)"
   ]
  },
  {
   "cell_type": "code",
   "execution_count": 57,
   "metadata": {},
   "outputs": [
    {
     "data": {
      "text/html": [
       "<div>\n",
       "<style scoped>\n",
       "    .dataframe tbody tr th:only-of-type {\n",
       "        vertical-align: middle;\n",
       "    }\n",
       "\n",
       "    .dataframe tbody tr th {\n",
       "        vertical-align: top;\n",
       "    }\n",
       "\n",
       "    .dataframe thead th {\n",
       "        text-align: right;\n",
       "    }\n",
       "</style>\n",
       "<table border=\"1\" class=\"dataframe\">\n",
       "  <thead>\n",
       "    <tr style=\"text-align: right;\">\n",
       "      <th></th>\n",
       "      <th>n</th>\n",
       "      <th>type</th>\n",
       "      <th>period</th>\n",
       "      <th>V1</th>\n",
       "      <th>V2</th>\n",
       "      <th>V3</th>\n",
       "      <th>V4</th>\n",
       "      <th>V5</th>\n",
       "      <th>V6</th>\n",
       "      <th>V7</th>\n",
       "      <th>...</th>\n",
       "      <th>V3991</th>\n",
       "      <th>V3992</th>\n",
       "      <th>V3993</th>\n",
       "      <th>V3994</th>\n",
       "      <th>V3995</th>\n",
       "      <th>V3996</th>\n",
       "      <th>V3997</th>\n",
       "      <th>V3998</th>\n",
       "      <th>V3999</th>\n",
       "      <th>V4000</th>\n",
       "    </tr>\n",
       "    <tr>\n",
       "      <th>st</th>\n",
       "      <th></th>\n",
       "      <th></th>\n",
       "      <th></th>\n",
       "      <th></th>\n",
       "      <th></th>\n",
       "      <th></th>\n",
       "      <th></th>\n",
       "      <th></th>\n",
       "      <th></th>\n",
       "      <th></th>\n",
       "      <th></th>\n",
       "      <th></th>\n",
       "      <th></th>\n",
       "      <th></th>\n",
       "      <th></th>\n",
       "      <th></th>\n",
       "      <th></th>\n",
       "      <th></th>\n",
       "      <th></th>\n",
       "      <th></th>\n",
       "      <th></th>\n",
       "    </tr>\n",
       "  </thead>\n",
       "  <tbody>\n",
       "    <tr>\n",
       "      <th>D1</th>\n",
       "      <td>992</td>\n",
       "      <td>Macro</td>\n",
       "      <td>Daily</td>\n",
       "      <td>1017.099976</td>\n",
       "      <td>1019.299988</td>\n",
       "      <td>1017.000000</td>\n",
       "      <td>1019.200012</td>\n",
       "      <td>1018.700012</td>\n",
       "      <td>1015.599976</td>\n",
       "      <td>1018.500000</td>\n",
       "      <td>...</td>\n",
       "      <td>1974.099976</td>\n",
       "      <td>1968.099976</td>\n",
       "      <td>1979.500000</td>\n",
       "      <td>1991.199951</td>\n",
       "      <td>1997.699951</td>\n",
       "      <td>1996.099976</td>\n",
       "      <td>2003.500000</td>\n",
       "      <td>2001.099976</td>\n",
       "      <td>2002.699951</td>\n",
       "      <td>2004.099976</td>\n",
       "    </tr>\n",
       "    <tr>\n",
       "      <th>D2</th>\n",
       "      <td>992</td>\n",
       "      <td>Macro</td>\n",
       "      <td>Daily</td>\n",
       "      <td>2793.699951</td>\n",
       "      <td>2793.800049</td>\n",
       "      <td>2803.699951</td>\n",
       "      <td>2805.800049</td>\n",
       "      <td>2802.300049</td>\n",
       "      <td>2795.000000</td>\n",
       "      <td>2806.399902</td>\n",
       "      <td>...</td>\n",
       "      <td>2963.600098</td>\n",
       "      <td>2970.500000</td>\n",
       "      <td>3005.399902</td>\n",
       "      <td>3010.000000</td>\n",
       "      <td>3065.300049</td>\n",
       "      <td>3082.100098</td>\n",
       "      <td>3048.600098</td>\n",
       "      <td>3042.699951</td>\n",
       "      <td>3053.699951</td>\n",
       "      <td>3074.899902</td>\n",
       "    </tr>\n",
       "    <tr>\n",
       "      <th>D3</th>\n",
       "      <td>116</td>\n",
       "      <td>Macro</td>\n",
       "      <td>Daily</td>\n",
       "      <td>1091.300049</td>\n",
       "      <td>1088.500000</td>\n",
       "      <td>1085.699951</td>\n",
       "      <td>1082.900024</td>\n",
       "      <td>1080.099976</td>\n",
       "      <td>1077.300049</td>\n",
       "      <td>1074.500000</td>\n",
       "      <td>...</td>\n",
       "      <td>969.599976</td>\n",
       "      <td>966.700012</td>\n",
       "      <td>1182.300049</td>\n",
       "      <td>1179.500000</td>\n",
       "      <td>1176.699951</td>\n",
       "      <td>1173.900024</td>\n",
       "      <td>1171.099976</td>\n",
       "      <td>1168.300049</td>\n",
       "      <td>1165.500000</td>\n",
       "      <td>1162.699951</td>\n",
       "    </tr>\n",
       "    <tr>\n",
       "      <th>D4</th>\n",
       "      <td>155</td>\n",
       "      <td>Macro</td>\n",
       "      <td>Daily</td>\n",
       "      <td>1092.000000</td>\n",
       "      <td>1078.000000</td>\n",
       "      <td>1064.000000</td>\n",
       "      <td>1050.000000</td>\n",
       "      <td>1036.000000</td>\n",
       "      <td>1022.000000</td>\n",
       "      <td>1008.000000</td>\n",
       "      <td>...</td>\n",
       "      <td>770.000000</td>\n",
       "      <td>742.000000</td>\n",
       "      <td>1260.000000</td>\n",
       "      <td>1232.000000</td>\n",
       "      <td>1204.000000</td>\n",
       "      <td>1176.000000</td>\n",
       "      <td>1148.000000</td>\n",
       "      <td>1120.000000</td>\n",
       "      <td>1092.000000</td>\n",
       "      <td>1610.000000</td>\n",
       "    </tr>\n",
       "    <tr>\n",
       "      <th>D5</th>\n",
       "      <td>142</td>\n",
       "      <td>Macro</td>\n",
       "      <td>Daily</td>\n",
       "      <td>2938.629883</td>\n",
       "      <td>2956.439941</td>\n",
       "      <td>2964.409912</td>\n",
       "      <td>2972.409912</td>\n",
       "      <td>3014.969971</td>\n",
       "      <td>3014.229980</td>\n",
       "      <td>3024.080078</td>\n",
       "      <td>...</td>\n",
       "      <td>5619.819824</td>\n",
       "      <td>5622.310059</td>\n",
       "      <td>5649.759766</td>\n",
       "      <td>5659.839844</td>\n",
       "      <td>5662.810059</td>\n",
       "      <td>5665.259766</td>\n",
       "      <td>5667.779785</td>\n",
       "      <td>5698.640137</td>\n",
       "      <td>5701.330078</td>\n",
       "      <td>5703.520020</td>\n",
       "    </tr>\n",
       "  </tbody>\n",
       "</table>\n",
       "<p>5 rows × 4003 columns</p>\n",
       "</div>"
      ],
      "text/plain": [
       "      n   type period           V1           V2           V3           V4  \\\n",
       "st                                                                          \n",
       "D1  992  Macro  Daily  1017.099976  1019.299988  1017.000000  1019.200012   \n",
       "D2  992  Macro  Daily  2793.699951  2793.800049  2803.699951  2805.800049   \n",
       "D3  116  Macro  Daily  1091.300049  1088.500000  1085.699951  1082.900024   \n",
       "D4  155  Macro  Daily  1092.000000  1078.000000  1064.000000  1050.000000   \n",
       "D5  142  Macro  Daily  2938.629883  2956.439941  2964.409912  2972.409912   \n",
       "\n",
       "             V5           V6           V7  ...        V3991        V3992  \\\n",
       "st                                         ...                             \n",
       "D1  1018.700012  1015.599976  1018.500000  ...  1974.099976  1968.099976   \n",
       "D2  2802.300049  2795.000000  2806.399902  ...  2963.600098  2970.500000   \n",
       "D3  1080.099976  1077.300049  1074.500000  ...   969.599976   966.700012   \n",
       "D4  1036.000000  1022.000000  1008.000000  ...   770.000000   742.000000   \n",
       "D5  3014.969971  3014.229980  3024.080078  ...  5619.819824  5622.310059   \n",
       "\n",
       "          V3993        V3994        V3995        V3996        V3997  \\\n",
       "st                                                                    \n",
       "D1  1979.500000  1991.199951  1997.699951  1996.099976  2003.500000   \n",
       "D2  3005.399902  3010.000000  3065.300049  3082.100098  3048.600098   \n",
       "D3  1182.300049  1179.500000  1176.699951  1173.900024  1171.099976   \n",
       "D4  1260.000000  1232.000000  1204.000000  1176.000000  1148.000000   \n",
       "D5  5649.759766  5659.839844  5662.810059  5665.259766  5667.779785   \n",
       "\n",
       "          V3998        V3999        V4000  \n",
       "st                                         \n",
       "D1  2001.099976  2002.699951  2004.099976  \n",
       "D2  3042.699951  3053.699951  3074.899902  \n",
       "D3  1168.300049  1165.500000  1162.699951  \n",
       "D4  1120.000000  1092.000000  1610.000000  \n",
       "D5  5698.640137  5701.330078  5703.520020  \n",
       "\n",
       "[5 rows x 4003 columns]"
      ]
     },
     "execution_count": 57,
     "metadata": {},
     "output_type": "execute_result"
    }
   ],
   "source": [
    "mem(rdf4)\n",
    "rdf4.head()"
   ]
  },
  {
   "cell_type": "code",
   "execution_count": 58,
   "metadata": {
    "scrolled": false
   },
   "outputs": [],
   "source": [
    "rdf4.reset_index().to_feather(os.path.join(DATA_DIR, \"m4_series_n4_f32.feather\"))"
   ]
  },
  {
   "cell_type": "code",
   "execution_count": 60,
   "metadata": {},
   "outputs": [
    {
     "data": {
      "text/plain": [
       "((90000, 4003), (9995, 4003))"
      ]
     },
     "execution_count": 60,
     "metadata": {},
     "output_type": "execute_result"
    }
   ],
   "source": [
    "# Make sure the training and validation sets are the same for all parts of the system\n",
    "rtradf4 = rdf4.loc[mtradf.index, :]\n",
    "rvaldf4 = rdf4.loc[mvaldf.index, :]\n",
    "rtradf4.shape, rvaldf4.shape"
   ]
  },
  {
   "cell_type": "code",
   "execution_count": 61,
   "metadata": {},
   "outputs": [],
   "source": [
    "rtradf4.reset_index().to_feather(os.path.join(DATA_DIR, \"m4_series_n4_f32_train.feather\"))\n",
    "rvaldf4.reset_index().to_feather(os.path.join(DATA_DIR, \"m4_series_n4_f32_val.feather\"))"
   ]
  },
  {
   "cell_type": "markdown",
   "metadata": {},
   "source": [
    "## Plot lengths of different series per period type"
   ]
  },
  {
   "cell_type": "code",
   "execution_count": 46,
   "metadata": {
    "scrolled": false
   },
   "outputs": [
    {
     "data": {
      "image/png": "[encoded data removed]",
      "text/plain": [
       "<Figure size 864x576 with 6 Axes>"
      ]
     },
     "metadata": {
      "needs_background": "light"
     },
     "output_type": "display_data"
    }
   ],
   "source": [
    "from collections import Counter\n",
    "\n",
    "fig = plt.figure(figsize=(12, 8))\n",
    "\n",
    "for i, p in enumerate(df.period.cat.categories, start=1):\n",
    "    c = Counter()\n",
    "\n",
    "    for x in df[df.period == p].n.values:\n",
    "        c[int(x)] += 1\n",
    "        \n",
    "    ns = df[df.period == p].n.values\n",
    "            \n",
    "    ax = fig.add_subplot(2, 3, i)\n",
    "\n",
    "    _, bins, patches = ax.hist(list(ns), label=p, bins=50, alpha=0.5, color=\"orange\")\n",
    "    r = patches[-1]\n",
    "    # plt.text(r.xy[0] + r.get_width() / 2, r.xy[1] + r.get_height()+20, \">100\", ha=\"center\")\n",
    "    # ax.legend()\n",
    "    ax.grid()\n",
    "    ax.set_title(f\"{p} ({len(ns)} total)\")\n",
    "\n",
    "fig.suptitle(f\"Distribution of series length of time series across period types ({df.shape[0]} total)\")\n",
    "fig.tight_layout()"
   ]
  },
  {
   "cell_type": "code",
   "execution_count": null,
   "metadata": {},
   "outputs": [],
   "source": []
  }
 ],
 "metadata": {
  "accelerator": "GPU",
  "colab": {
   "collapsed_sections": [],
   "name": "LSTM_feature_extractor_sweep_v02.ipynb",
   "provenance": []
  },
  "kernelspec": {
   "display_name": "Python 3",
   "language": "python",
   "name": "python3"
  },
  "language_info": {
   "codemirror_mode": {
    "name": "ipython",
    "version": 3
   },
   "file_extension": ".py",
   "mimetype": "text/x-python",
   "name": "python",
   "nbconvert_exporter": "python",
   "pygments_lexer": "ipython3",
   "version": "3.8.8"
  }
 },
 "nbformat": 4,
 "nbformat_minor": 1
}
