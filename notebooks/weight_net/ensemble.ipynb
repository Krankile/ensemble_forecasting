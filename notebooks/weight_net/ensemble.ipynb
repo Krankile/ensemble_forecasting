{
  "nbformat": 4,
  "nbformat_minor": 0,
  "metadata": {
    "colab": {
      "name": "ensemble.ipynb",
      "provenance": [],
      "collapsed_sections": [],
      "authorship_tag": "ABX9TyOpfGLnme4OBTeIefR00ygY",
      "include_colab_link": true
    },
    "kernelspec": {
      "name": "python3",
      "display_name": "Python 3"
    },
    "language_info": {
      "name": "python"
    }
  },
  "cells": [
    {
      "cell_type": "markdown",
      "metadata": {
        "id": "view-in-github",
        "colab_type": "text"
      },
      "source": [
        "<a href=\"https://colab.research.google.com/github/Krankile/ensemble-forecasting/blob/main/ensemble.ipynb\" target=\"_parent\"><img src=\"https://colab.research.google.com/assets/colab-badge.svg\" alt=\"Open In Colab\"/></a>"
      ]
    },
    {
      "cell_type": "markdown",
      "metadata": {
        "id": "26ouQkv_qK7V"
      },
      "source": [
        "#setup"
      ]
    },
    {
      "cell_type": "code",
      "metadata": {
        "colab": {
          "base_uri": "https://localhost:8080/"
        },
        "id": "QncYitRjdwT1",
        "outputId": "334691aa-0b11-4f0a-eaac-51737b7d398a"
      },
      "source": [
        "!pip install --upgrade statsmodels\n",
        "!pip install pmdarima\n",
        "!pip install tbats"
      ],
      "execution_count": null,
      "outputs": [
        {
          "output_type": "stream",
          "name": "stdout",
          "text": [
            "Requirement already satisfied: statsmodels in /usr/local/lib/python3.7/dist-packages (0.13.0)\n",
            "Requirement already satisfied: scipy>=1.3 in /usr/local/lib/python3.7/dist-packages (from statsmodels) (1.4.1)\n",
            "Requirement already satisfied: patsy>=0.5.2 in /usr/local/lib/python3.7/dist-packages (from statsmodels) (0.5.2)\n",
            "Requirement already satisfied: numpy>=1.17 in /usr/local/lib/python3.7/dist-packages (from statsmodels) (1.19.5)\n",
            "Requirement already satisfied: pandas>=0.25 in /usr/local/lib/python3.7/dist-packages (from statsmodels) (1.1.5)\n",
            "Requirement already satisfied: pytz>=2017.2 in /usr/local/lib/python3.7/dist-packages (from pandas>=0.25->statsmodels) (2018.9)\n",
            "Requirement already satisfied: python-dateutil>=2.7.3 in /usr/local/lib/python3.7/dist-packages (from pandas>=0.25->statsmodels) (2.8.2)\n",
            "Requirement already satisfied: six in /usr/local/lib/python3.7/dist-packages (from patsy>=0.5.2->statsmodels) (1.15.0)\n",
            "Requirement already satisfied: pmdarima in /usr/local/lib/python3.7/dist-packages (1.8.3)\n",
            "Requirement already satisfied: scikit-learn>=0.22 in /usr/local/lib/python3.7/dist-packages (from pmdarima) (0.22.2.post1)\n",
            "Requirement already satisfied: scipy>=1.3.2 in /usr/local/lib/python3.7/dist-packages (from pmdarima) (1.4.1)\n",
            "Requirement already satisfied: setuptools!=50.0.0,>=38.6.0 in /usr/local/lib/python3.7/dist-packages (from pmdarima) (57.4.0)\n",
            "Requirement already satisfied: pandas>=0.19 in /usr/local/lib/python3.7/dist-packages (from pmdarima) (1.1.5)\n",
            "Requirement already satisfied: urllib3 in /usr/local/lib/python3.7/dist-packages (from pmdarima) (1.24.3)\n",
            "Requirement already satisfied: Cython!=0.29.18,>=0.29 in /usr/local/lib/python3.7/dist-packages (from pmdarima) (0.29.24)\n",
            "Requirement already satisfied: joblib>=0.11 in /usr/local/lib/python3.7/dist-packages (from pmdarima) (1.0.1)\n",
            "Requirement already satisfied: numpy>=1.19.3 in /usr/local/lib/python3.7/dist-packages (from pmdarima) (1.19.5)\n",
            "Requirement already satisfied: statsmodels!=0.12.0,>=0.11 in /usr/local/lib/python3.7/dist-packages (from pmdarima) (0.13.0)\n",
            "Requirement already satisfied: pytz>=2017.2 in /usr/local/lib/python3.7/dist-packages (from pandas>=0.19->pmdarima) (2018.9)\n",
            "Requirement already satisfied: python-dateutil>=2.7.3 in /usr/local/lib/python3.7/dist-packages (from pandas>=0.19->pmdarima) (2.8.2)\n",
            "Requirement already satisfied: six>=1.5 in /usr/local/lib/python3.7/dist-packages (from python-dateutil>=2.7.3->pandas>=0.19->pmdarima) (1.15.0)\n",
            "Requirement already satisfied: patsy>=0.5.2 in /usr/local/lib/python3.7/dist-packages (from statsmodels!=0.12.0,>=0.11->pmdarima) (0.5.2)\n",
            "Requirement already satisfied: tbats in /usr/local/lib/python3.7/dist-packages (1.1.0)\n",
            "Requirement already satisfied: pmdarima in /usr/local/lib/python3.7/dist-packages (from tbats) (1.8.3)\n",
            "Requirement already satisfied: numpy in /usr/local/lib/python3.7/dist-packages (from tbats) (1.19.5)\n",
            "Requirement already satisfied: scipy in /usr/local/lib/python3.7/dist-packages (from tbats) (1.4.1)\n",
            "Requirement already satisfied: scikit-learn in /usr/local/lib/python3.7/dist-packages (from tbats) (0.22.2.post1)\n",
            "Requirement already satisfied: Cython!=0.29.18,>=0.29 in /usr/local/lib/python3.7/dist-packages (from pmdarima->tbats) (0.29.24)\n",
            "Requirement already satisfied: pandas>=0.19 in /usr/local/lib/python3.7/dist-packages (from pmdarima->tbats) (1.1.5)\n",
            "Requirement already satisfied: setuptools!=50.0.0,>=38.6.0 in /usr/local/lib/python3.7/dist-packages (from pmdarima->tbats) (57.4.0)\n",
            "Requirement already satisfied: statsmodels!=0.12.0,>=0.11 in /usr/local/lib/python3.7/dist-packages (from pmdarima->tbats) (0.13.0)\n",
            "Requirement already satisfied: urllib3 in /usr/local/lib/python3.7/dist-packages (from pmdarima->tbats) (1.24.3)\n",
            "Requirement already satisfied: joblib>=0.11 in /usr/local/lib/python3.7/dist-packages (from pmdarima->tbats) (1.0.1)\n",
            "Requirement already satisfied: pytz>=2017.2 in /usr/local/lib/python3.7/dist-packages (from pandas>=0.19->pmdarima->tbats) (2018.9)\n",
            "Requirement already satisfied: python-dateutil>=2.7.3 in /usr/local/lib/python3.7/dist-packages (from pandas>=0.19->pmdarima->tbats) (2.8.2)\n",
            "Requirement already satisfied: six>=1.5 in /usr/local/lib/python3.7/dist-packages (from python-dateutil>=2.7.3->pandas>=0.19->pmdarima->tbats) (1.15.0)\n",
            "Requirement already satisfied: patsy>=0.5.2 in /usr/local/lib/python3.7/dist-packages (from statsmodels!=0.12.0,>=0.11->pmdarima->tbats) (0.5.2)\n"
          ]
        }
      ]
    },
    {
      "cell_type": "code",
      "metadata": {
        "id": "R_ts59XBeJDH"
      },
      "source": [
        "import statsmodels.api as sm\n",
        "import pmdarima as pm #this is for AutoArima\n",
        "import matplotlib.pyplot as plt\n",
        "import pandas as pd\n",
        "import numpy as np\n",
        "import random\n",
        "import pickle\n",
        "from tbats import BATS, TBATS\n",
        "from statsmodels.tsa.holtwinters import SimpleExpSmoothing\n",
        "from math import sin\n",
        "from math import pi\n",
        "from statsmodels.tsa.forecasting.theta import ThetaModel \n",
        "from statsmodels.tsa.api import STLForecast\n",
        "from statsmodels.tsa.arima.model import ARIMA\n",
        "from statsmodels.tsa.ar_model import AutoReg, ar_select_order\n"
      ],
      "execution_count": null,
      "outputs": []
    },
    {
      "cell_type": "markdown",
      "metadata": {
        "id": "7oj00NlFsxh5"
      },
      "source": [
        "#Building an ensamble time series forecasting model"
      ]
    },
    {
      "cell_type": "markdown",
      "metadata": {
        "id": "MB3TKaByqP0D"
      },
      "source": [
        "Create some test timeseries"
      ]
    },
    {
      "cell_type": "code",
      "metadata": {
        "id": "Hxh5gd4uqZo1"
      },
      "source": [
        "def time_series_creator(amount_of_series, max_length_of_time_series, random_noise):\n",
        "  sin_lst = []\n",
        "  linear_lst = []\n",
        "  random_drift = []\n",
        "  #log_curve = [] Possibly implement this later \n",
        "\n",
        "\n",
        "  for serie in range(int(1000/3)):\n",
        "    single_sin = []\n",
        "    single_linear = []\n",
        "    single_random_drift = [0]\n",
        "\n",
        "\n",
        "    linear_trend = 5*(1-2*random.random())\n",
        "    length_of_timeseries = random.randint(10,max_length_of_time_series) \n",
        "\n",
        "    for t in range(length_of_timeseries):\n",
        "      single_sin.append(sin(64*t/(pi*length_of_timeseries)) + 0.3*random_noise*2*(0.5-random.random()) )\n",
        "      single_linear.append(linear_trend*t + 5*random_noise*2*(0.5-random.random()))\n",
        "      single_random_drift.append(single_random_drift[-1]  + 2*(0.5-random.random()))\n",
        "    \n",
        "    sin_lst.append(single_sin)\n",
        "    linear_lst.append(single_linear)\n",
        "    random_drift.append(single_random_drift[1:])\n",
        "  return sin_lst, linear_lst, random_drift"
      ],
      "execution_count": null,
      "outputs": []
    },
    {
      "cell_type": "code",
      "metadata": {
        "id": "Qwf5c7vvu9VZ"
      },
      "source": [
        "amount_of_series = 1000\n",
        "max_length_of_time_series = 250\n",
        "random_noise = True \n",
        "\n",
        "sines, linear, random_drift = time_series_creator(amount_of_series, max_length_of_time_series,random_noise)"
      ],
      "execution_count": null,
      "outputs": []
    },
    {
      "cell_type": "markdown",
      "metadata": {
        "id": "q5m_KMd4veKY"
      },
      "source": [
        "Visualise some series, good forcasting algorithms should be able to find trend in sines and linear series. f_1 = y_{t-1} should be best for random drift "
      ]
    },
    {
      "cell_type": "code",
      "metadata": {
        "colab": {
          "base_uri": "https://localhost:8080/",
          "height": 809
        },
        "id": "OE542-cnvatP",
        "outputId": "1ab781f7-7a4f-4069-a795-2b5ea8431352"
      },
      "source": [
        "#pick three random series and save index for later forcast\n",
        "\n",
        "sine_example = sines[random.randint(1, len(sines) -1)]\n",
        "linear_example = linear[random.randint(1, len(linear) -1)]\n",
        "random_drift_example = random_drift[random.randint(1, len(random_drift) - 1)]\n",
        "noise_string = \" with noise\" if random_noise == True else \" without noise\"\n",
        "def plot_series(run):\n",
        "  if run:\n",
        "    plt.plot(sine_example)\n",
        "    plt.title(f\"Sine curve{noise_string}\")\n",
        "    plt.show()\n",
        "    plt.plot(linear_example)\n",
        "    plt.title(f\"Linear trend{noise_string}\")\n",
        "    plt.show()\n",
        "    plt.plot(random_drift_example)\n",
        "    plt.title(\"Random drift\")\n",
        "    plt.show()"
      ],
      "execution_count": null,
      "outputs": [
        {
          "output_type": "display_data",
          "data": {
            "image/png": "[encoded data removed]",
            "text/plain": [
              "<Figure size 432x288 with 1 Axes>"
            ]
          },
          "metadata": {
            "needs_background": "light"
          }
        },
        {
          "output_type": "display_data",
          "data": {
            "image/png": "[encoded data removed]",
            "text/plain": [
              "<Figure size 432x288 with 1 Axes>"
            ]
          },
          "metadata": {
            "needs_background": "light"
          }
        },
        {
          "output_type": "display_data",
          "data": {
            "image/png": "[encoded data removed]",
            "text/plain": [
              "<Figure size 432x288 with 1 Axes>"
            ]
          },
          "metadata": {
            "needs_background": "light"
          }
        }
      ]
    },
    {
      "cell_type": "markdown",
      "metadata": {
        "id": "SXFfvJjoyYct"
      },
      "source": [
        "Implement models as in Montero-Manso et al. "
      ]
    },
    {
      "cell_type": "markdown",
      "metadata": {
        "id": "XsxymYB23wJY"
      },
      "source": [
        "Start by implementing all models which already is part of stmodels "
      ]
    },
    {
      "cell_type": "markdown",
      "metadata": {
        "id": "DhVANA_D4FxY"
      },
      "source": [
        "1) Implement naive"
      ]
    },
    {
      "cell_type": "markdown",
      "metadata": {
        "id": "UWd4Rg69vfMs"
      },
      "source": [
        "Test:"
      ]
    },
    {
      "cell_type": "code",
      "metadata": {
        "id": "lWWflo9dvhUE"
      },
      "source": [
        "def naive(time_series, forecast_horizon=1):\n",
        "  return [time_series[-1]]*forecast_horizon"
      ],
      "execution_count": null,
      "outputs": []
    },
    {
      "cell_type": "markdown",
      "metadata": {
        "id": "gHBAH4-ivgY9"
      },
      "source": [
        "Class:"
      ]
    },
    {
      "cell_type": "code",
      "metadata": {
        "id": "ZdoqPeRg4GiR"
      },
      "source": [
        "class Naive:\n",
        "  \n",
        "  def __init__(self):\n",
        "    self.time_series = []\n",
        "  \n",
        "  def fit(self,time_series, seasonality=None):\n",
        "    self.time_series = time_series\n",
        "\n",
        "  def forecast(self, forecast_horizon=1):\n",
        "    if self.time_series == []:\n",
        "      raise Exception(\"Tried forecast without fitting\")\n",
        "    return [self.time_series[-1]]*forecast_horizon\n",
        "  \n",
        "  def __str__(self):\n",
        "    return \"Naive\""
      ],
      "execution_count": null,
      "outputs": []
    },
    {
      "cell_type": "markdown",
      "metadata": {
        "id": "47UzuXro5sf9"
      },
      "source": [
        "2) Implement random walk with drift "
      ]
    },
    {
      "cell_type": "markdown",
      "metadata": {
        "id": "pfFHAcSzvM6r"
      },
      "source": [
        "Test:\n"
      ]
    },
    {
      "cell_type": "code",
      "metadata": {
        "id": "cwfW0KhQvRvp"
      },
      "source": [
        "def random_walk_with_drift(time_series, forecast_horizon=1):\n",
        "  ts = [i for i in range(len(time_series))]\n",
        "  model = sm.OLS(np.array(time_series),np.array(ts))\n",
        "  model = model.fit()\n",
        "  trend = model.fittedvalues\n",
        "  a = (trend[-1] - trend[0])/len(trend)\n",
        "\n",
        "  sigma = np.std(np.array(time_series) - np.array([a*i for i in range(len(time_series))]) )\n",
        "  y_t = [time_series[-1]]\n",
        "  \n",
        "  for t in range(forecast_horizon):\n",
        "    y_t.append(y_t[-1] + a + np.random.normal(0, sigma))\n",
        "  return y_t"
      ],
      "execution_count": null,
      "outputs": []
    },
    {
      "cell_type": "markdown",
      "metadata": {
        "id": "4YZF30_IvQwE"
      },
      "source": [
        "Class:"
      ]
    },
    {
      "cell_type": "code",
      "metadata": {
        "id": "z5xMz-dx5vpt"
      },
      "source": [
        "class Random_walk_with_drift:\n",
        "  \n",
        "  def __init__(self):\n",
        "    self.time_series = []\n",
        "  \n",
        "  def fit(self,time_series, seasonality=None):\n",
        "    self.time_series = time_series\n",
        "\n",
        "  def forecast(self, forecast_horizon=1):\n",
        "    ts = [i for i in range(len(self.time_series))]\n",
        "    model = sm.OLS(np.array(self.time_series),np.array(ts))\n",
        "    model = model.fit()\n",
        "    trend = model.fittedvalues\n",
        "    a = (trend[-1] - trend[0])/len(trend)\n",
        "\n",
        "    sigma = np.std(np.array(self.time_series) - np.array([a*i for i in range(len(self.time_series))]) )\n",
        "    y_t = [self.time_series[-1]]\n",
        "    \n",
        "    for t in range(forecast_horizon):\n",
        "      y_t.append(y_t[-1] + a + np.random.normal(0, sigma))\n",
        "    \n",
        "    return y_t[1:]\n",
        "  def __str__(self):\n",
        "    return \"Random walk with drift\"\n"
      ],
      "execution_count": null,
      "outputs": []
    },
    {
      "cell_type": "markdown",
      "metadata": {
        "id": "efmIplNi1DwA"
      },
      "source": [
        "3) Implement seasonal naive"
      ]
    },
    {
      "cell_type": "markdown",
      "metadata": {
        "id": "oHnQglu-z7Ap"
      },
      "source": [
        "Code for seasonal naive, as its not a part of statmodels, author:   Author: Sandeep Pawar, collected 21.10.21\n",
        "from: https://pawarbi.github.io/blog/forecasting/r/python/rpy2/altair/fbprophet/ensemble_forecast/uncertainty/simulation/2020/04/21/timeseries-part2.html#Seasonal-Naive\n"
      ]
    },
    {
      "cell_type": "code",
      "metadata": {
        "id": "2LLiOozIz0hQ"
      },
      "source": [
        "def pysnaive(train_series,seasonal_periods,forecast_horizon):\n",
        "    '''\n",
        "    Python implementation of Seasonal Naive Forecast. \n",
        "    This should work similar to https://otexts.com/fpp2/simple-methods.html\n",
        "    Returns two arrays\n",
        "     > fitted: Values fitted to the training dataset\n",
        "     > fcast: seasonal naive forecast\n",
        "    \n",
        "    Author: Sandeep Pawar\n",
        "    \n",
        "    Date: Apr 9, 2020\n",
        "    \n",
        "    Ver: 1.0\n",
        "    \n",
        "    train_series: Pandas Series\n",
        "        Training Series to be used for forecasting. This should be a valid Pandas Series. \n",
        "        Length of the Training set should be greater than or equal to number of seasonal periods\n",
        "        \n",
        "    Seasonal_periods: int\n",
        "        No of seasonal periods\n",
        "        Yearly=1\n",
        "        Quarterly=4\n",
        "        Monthly=12\n",
        "        Weekly=52\n",
        "        \n",
        "\n",
        "    Forecast_horizon: int\n",
        "        Number of values to forecast into the future\n",
        "    \n",
        "    e.g. \n",
        "    fitted_values = pysnaive(train,12,12)[0]\n",
        "    fcast_values = pysnaive(train,12,12)[1]\n",
        "    '''\n",
        "    \n",
        "    if len(train_series)>= seasonal_periods: #checking if there are enough observations in the training data\n",
        "        \n",
        "        last_season=train_series.iloc[-seasonal_periods:]\n",
        "        \n",
        "        reps=np.int(np.ceil(forecast_horizon/seasonal_periods))\n",
        "        \n",
        "        fcarray=np.tile(last_season,reps)\n",
        "        \n",
        "        fcast=pd.Series(fcarray[:forecast_horizon])\n",
        "        \n",
        "        fitted = train_series.shift(seasonal_periods)\n",
        "        \n",
        "    else:\n",
        "        fcast=print(\"Length of the trainining set must be greater than number of seasonal periods\") \n",
        "    \n",
        "    return fitted, fcast\n",
        "\n"
      ],
      "execution_count": null,
      "outputs": []
    },
    {
      "cell_type": "markdown",
      "metadata": {
        "id": "o_dBQT8GhF0l"
      },
      "source": [
        "Make a wrapper around pysnaive to handle input and output types"
      ]
    },
    {
      "cell_type": "markdown",
      "metadata": {
        "id": "G5foLWX-uvQ5"
      },
      "source": [
        "Test:"
      ]
    },
    {
      "cell_type": "code",
      "metadata": {
        "id": "IXc5KcaNuyVA"
      },
      "source": [
        "def snaive(time_series,forecast_horizon=1, seasonality=None):\n",
        "  if seasonality == None:\n",
        "      seasonality = forecast_horizon\n",
        "    # Add this inside list below to make forcast and seasonality fit+ (-time_series[-seasonality]+time_series[-1])\n",
        "  return list(pysnaive(pd.Series(time_series),forecast_horizon,seasonality)[1]) \n"
      ],
      "execution_count": null,
      "outputs": []
    },
    {
      "cell_type": "markdown",
      "metadata": {
        "id": "1QltioTluxHT"
      },
      "source": [
        "Class:"
      ]
    },
    {
      "cell_type": "code",
      "metadata": {
        "id": "UqMQQMulhEPj"
      },
      "source": [
        "class Snaive:\n",
        "  def __init__(self):\n",
        "    self.time_series = []\n",
        "  \n",
        "  def fit(self, time_series, seasonality=None):\n",
        "    self.time_series = time_series\n",
        "    self.seasonality = None\n",
        "\n",
        "  def forecast(self, forecast_horizon=1):\n",
        "    if self.seasonality == None:\n",
        "      self.seasonality = forecast_horizon\n",
        "    # Add this inside list below to make forcast and seasonality fit+ (-time_series[-seasonality]+time_series[-1])\n",
        "    return list(pysnaive(pd.Series(self.time_series),forecast_horizon, forecast_horizon)[1]) #TODO: last self.forecast_horizon is hardcoded like in FFORMA\n",
        "  \n",
        "  def __str__(self):\n",
        "    return \"Snaive\""
      ],
      "execution_count": null,
      "outputs": []
    },
    {
      "cell_type": "markdown",
      "metadata": {
        "id": "sDL2_IeW1pq_"
      },
      "source": [
        "4) Implement theta method"
      ]
    },
    {
      "cell_type": "markdown",
      "metadata": {
        "id": "5BTKrWjluPb6"
      },
      "source": [
        "Test:"
      ]
    },
    {
      "cell_type": "code",
      "metadata": {
        "id": "Gfs4Pt2puXx5"
      },
      "source": [
        "def theta(time_series, seasonality=10, forecast_horizon=1):\n",
        "    model = ThetaModel(np.array(time_series),period=seasonality)\n",
        "    model = model.fit()\n",
        "    return model.forecast(forecast_horizon, 2).tolist()"
      ],
      "execution_count": null,
      "outputs": []
    },
    {
      "cell_type": "markdown",
      "metadata": {
        "id": "tc7q_hJ5uR7p"
      },
      "source": [
        "class:"
      ]
    },
    {
      "cell_type": "code",
      "metadata": {
        "id": "VfxFhsZ-1uDt"
      },
      "source": [
        "class Theta:   #https://www.rdocumentation.org/packages/forecast/versions/8.15/topics/findfrequency this model uses spectral decomposition and finds the maxima. Current theta implementation assumes many seasonalities. \n",
        "  def __init__(self):\n",
        "    self.time_series = []\n",
        "    self.model = \"\"\n",
        "  \n",
        "  def fit(self,time_series, seasonality=None):\n",
        "    seasonality = 10\n",
        "    self.time_series = time_series\n",
        "    model = ThetaModel(np.array(time_series),period=seasonality)\n",
        "    self.model = model.fit()\n",
        "\n",
        "  def forecast(self, forecast_horizon=1):\n",
        "    return self.model.forecast(forecast_horizon, 2).tolist()\n",
        "  \n",
        "  def __str__(self):\n",
        "    return \"Theta\""
      ],
      "execution_count": null,
      "outputs": []
    },
    {
      "cell_type": "markdown",
      "metadata": {
        "id": "HSj4yqVmmyoT"
      },
      "source": [
        "5) Implement AutoArima from pm"
      ]
    },
    {
      "cell_type": "markdown",
      "metadata": {
        "id": "nzorMtM1pNQo"
      },
      "source": [
        "Test:"
      ]
    },
    {
      "cell_type": "code",
      "metadata": {
        "id": "EL39hpv2m2pN"
      },
      "source": [
        "def auto_arima(time_series, forecast_horizon):\n",
        "  model = pm.auto_arima(time_series, stepwise=False).fit(time_series) #TODO: M4 #2 has approximation = False to improve runtimes. \n",
        "  return model.predict(forecast_horizon).tolist()"
      ],
      "execution_count": null,
      "outputs": []
    },
    {
      "cell_type": "markdown",
      "metadata": {
        "id": "HfsY_pIkpO9o"
      },
      "source": [
        "class:"
      ]
    },
    {
      "cell_type": "code",
      "metadata": {
        "id": "n8wuIpG8pQit"
      },
      "source": [
        " class Auto_Arima:\n",
        "  def __init__(self):\n",
        "      self.time_series = []\n",
        "      self.model = \"\"\n",
        "  \n",
        "  def fit(self,time_series, seasonality=None):\n",
        "    self.time_series = time_series\n",
        "    self.model = pm.auto_arima(time_series, stepwise=False).fit(time_series)\n",
        "\n",
        "  def forecast(self, forecast_horizon=1):\n",
        "    return self.model.predict(forecast_horizon).tolist()\n",
        "  \n",
        "  def __str__(self):\n",
        "    return \"Auto Arima\""
      ],
      "execution_count": null,
      "outputs": []
    },
    {
      "cell_type": "markdown",
      "metadata": {
        "id": "z2d7YNoy1eXV"
      },
      "source": [
        "6) Implement Exponential Smoothing"
      ]
    },
    {
      "cell_type": "markdown",
      "metadata": {
        "id": "Sj2kzw_np2GQ"
      },
      "source": [
        "Test:"
      ]
    },
    {
      "cell_type": "code",
      "metadata": {
        "id": "84gLfFyU3iv3"
      },
      "source": [
        "def eps(time_series, forecasting_horizon): #This should be implemented as AutoEts later from the R package\n",
        "  model = SimpleExpSmoothing(time_series)\n",
        "  model_fit = model.fit()\n",
        "  return list(model_fit.predict(len(time_series) - forecast_horizon))\n",
        "\n",
        "#plt.(auto_eps(sine_example, 40))\n"
      ],
      "execution_count": null,
      "outputs": []
    },
    {
      "cell_type": "markdown",
      "metadata": {
        "id": "j0S-lZtipz84"
      },
      "source": [
        "class:"
      ]
    },
    {
      "cell_type": "code",
      "metadata": {
        "id": "WCjWWs6ypzG4"
      },
      "source": [
        "class Eps: #This should be implemented as AutoEts later from the R package\n",
        "  \n",
        "  def __init__(self):\n",
        "      self.time_series = []\n",
        "      self.model = \"\"\n",
        "  \n",
        "  def fit(self,time_series, seasonality=None):\n",
        "    self.time_series = time_series\n",
        "    model = SimpleExpSmoothing(time_series)\n",
        "    self.model = model.fit()\n",
        "\n",
        "  def forecast(self, forecast_horizon=1):\n",
        "    return list(self.model.forecast(forecast_horizon))\n",
        "  \n",
        "  def __str__(self):\n",
        "    return \"Eps\""
      ],
      "execution_count": null,
      "outputs": []
    },
    {
      "cell_type": "markdown",
      "metadata": {
        "id": "cSi50YNG1NOz"
      },
      "source": [
        "7) implement TBATS"
      ]
    },
    {
      "cell_type": "markdown",
      "metadata": {
        "id": "cPTjd1Xzsav0"
      },
      "source": [
        "Implement tbats model from intive-dataScience https://github.com/intive-DataScience/tbats"
      ]
    },
    {
      "cell_type": "markdown",
      "metadata": {
        "id": "qoa2vueeqa2J"
      },
      "source": [
        "Test:"
      ]
    },
    {
      "cell_type": "code",
      "metadata": {
        "id": "FjR6xvfhsi0e"
      },
      "source": [
        "def tbats(time_series,forecast_horizon,seasonality=None): #As per now implemented with boxcox and armaerrors = false for quicker runtimes\n",
        "  if seasonality == None:\n",
        "    seasonality = forecast_horizon\n",
        "  model = TBATS(seasonal_periods=[seasonality],use_arma_errors=False, use_box_cox=False)\n",
        "  fitted_model = model.fit(time_series)\n",
        "  return list(fitted_model.forecast(steps=forecast_horizon))\n",
        " "
      ],
      "execution_count": null,
      "outputs": []
    },
    {
      "cell_type": "markdown",
      "metadata": {
        "id": "k8uaRuwBqb9a"
      },
      "source": [
        "Class:"
      ]
    },
    {
      "cell_type": "code",
      "metadata": {
        "id": "gGbt-_-MqdsY"
      },
      "source": [
        "class Tbats: \n",
        "  \"\"\"NB: TBATS needs to be fit to current forecast horizon if seasonality is not given\"\"\"\n",
        "  \n",
        "  def __init__(self):\n",
        "      self.time_series = []\n",
        "      self.model = \"\"\n",
        "      self.delayed_fit = False\n",
        "\n",
        "  \n",
        "  def fit(self,time_series, seasonality=None):\n",
        "    if seasonality == None:\n",
        "      self.delayed_fit = True      \n",
        "    else:  \n",
        "      seasonality = forecast_horizon\n",
        "      model = TBATS(seasonal_periods=[seasonality],use_arma_errors=False, use_box_cox=False) #TODO: as per now this is hardcoded to be like M4 #2\n",
        "      self.model = model.fit(time_series)\n",
        "    \n",
        "  def forecast(self, forecast_horizon=2):\n",
        "    if self.delayed_fit: \n",
        "      seasonality = forecast_horizon\n",
        "      model = TBATS(seasonal_periods=[seasonality],use_arma_errors=False, use_box_cox=False)\n",
        "      self.model = model.fit(time_series)\n",
        "\n",
        "    return list(self.model.forecast(steps=forecast_horizon))\n",
        "  \n",
        "  def __str__(self):\n",
        "    return \"Tbats\""
      ],
      "execution_count": null,
      "outputs": []
    },
    {
      "cell_type": "markdown",
      "metadata": {
        "id": "7c_P7oqi1UTr"
      },
      "source": [
        "8) Implement STLM-AR"
      ]
    },
    {
      "cell_type": "markdown",
      "metadata": {
        "id": "yRc586_4slof"
      },
      "source": [
        "Test:"
      ]
    },
    {
      "cell_type": "code",
      "metadata": {
        "id": "uRB0SrI4ETgH"
      },
      "source": [
        "def stlm_ar(time_series, forecast_horizon, seasonality=None):\n",
        "  seasonality = 10 #TODO: Fix this\n",
        "  sel = ar_select_order(time_series,seasonality) #https://www.statsmodels.org/stable/examples/notebooks/generated/autoregressions.html\n",
        "  lags = sel.ar_lags\n",
        "  time_series = pd.Series(time_series)\n",
        "  stlf = STLForecast(time_series, AutoReg, period=seasonality, model_kwargs=({\"lags\":lags})) #https://www.statsmodels.org/stable/generated/statsmodels.tsa.forecasting.stl.STLForecast.html\n",
        "  predictor = stlf.fit()\n",
        "  return predictor.forecast(forecast_horizon).tolist()\n"
      ],
      "execution_count": null,
      "outputs": []
    },
    {
      "cell_type": "code",
      "metadata": {
        "id": "lSP2I-PGsnRO"
      },
      "source": [
        "\"\"\"NB: This is an example where we should look into an intelligent handling of seasonality in timeseries\"\"\"\n",
        "class STLM_AR:\n",
        "   \n",
        "  def __init__(self):\n",
        "    self.time_series = []\n",
        "    self.model = \"\"\n",
        "    self.delayed_fit = False\n",
        "\n",
        "  def fit(self,time_series, seasonality=None):#This is set to 10 as is the standard in th R forecast library \n",
        "    seasonality = 10\n",
        "    sel = ar_select_order(time_series,seasonality) #https://www.statsmodels.org/stable/examples/notebooks/generated/autoregressions.html\n",
        "    lags = sel.ar_lags\n",
        "    time_series = pd.Series(time_series)\n",
        "    stlf = STLForecast(time_series, AutoReg, period=seasonality, model_kwargs=({\"lags\":lags})) #https://www.statsmodels.org/stable/generated/statsmodels.tsa.forecasting.stl.STLForecast.html\n",
        "    self.model = stlf.fit()\n",
        "    \n",
        "  def forecast(self, forecast_horizon=1):\n",
        "    return self.model.forecast(forecast_horizon).tolist()\n",
        "  \n",
        "  def __str__(self):\n",
        "    return \"STLM AR\"\n"
      ],
      "execution_count": null,
      "outputs": []
    },
    {
      "cell_type": "code",
      "metadata": {
        "id": "8jPa8jsVcoYB"
      },
      "source": [
        "def nnetar_equivialent(time_series, forecast_horizon):\n",
        "  pass"
      ],
      "execution_count": null,
      "outputs": []
    },
    {
      "cell_type": "markdown",
      "metadata": {
        "id": "yedG1P5MODCX"
      },
      "source": [
        "Make a function to handle forecastplotting"
      ]
    },
    {
      "cell_type": "code",
      "metadata": {
        "id": "YLdSR9JLOLAW"
      },
      "source": [
        "def forecast_plotter(original_time_series, forecast, label, show_historic_data=True):\n",
        "  if show_historic_data:\n",
        "      plt.plot(original_time_series)\n",
        "      plt.plot(len(original_time_series)*[None] + forecast,label=label)\n",
        "  else:\n",
        "    plt.plot(forecast,label=label)"
      ],
      "execution_count": null,
      "outputs": []
    },
    {
      "cell_type": "markdown",
      "metadata": {
        "id": "YbIWW9EVKktx"
      },
      "source": [
        "# Time to test some forcasting techniques"
      ]
    },
    {
      "cell_type": "code",
      "metadata": {
        "colab": {
          "base_uri": "https://localhost:8080/",
          "height": 38
        },
        "id": "ChlMFX9pLou7",
        "outputId": "a70f37d8-77cb-454d-b741-7d7a1d4c92c7"
      },
      "source": [
        "%%html\n",
        "<marquee style='width: 30%; color: blue;'><b>Time to test som forcasting techniques!</b></marquee>"
      ],
      "execution_count": null,
      "outputs": [
        {
          "output_type": "display_data",
          "data": {
            "text/html": [
              "<marquee style='width: 30%; color: blue;'><b>Time to test som forcasting techniques!</b></marquee>"
            ],
            "text/plain": [
              "<IPython.core.display.HTML object>"
            ]
          },
          "metadata": {}
        }
      ]
    },
    {
      "cell_type": "code",
      "metadata": {
        "colab": {
          "base_uri": "https://localhost:8080/",
          "height": 764
        },
        "id": "q4rg9H5dLCAR",
        "outputId": "a0a0f1de-81e2-479c-ff86-46d962d7c98d"
      },
      "source": [
        "forecast_horizon = 40\n",
        "seasonality = 14\n",
        "\n",
        "examples = [sine_example,linear_example,random_drift_example]\n",
        "\n",
        "def run_forcast_plotter(run):\n",
        "  if run:\n",
        "    for example in examples: \n",
        "\n",
        "      forecast_plotter(example,  naive(example, forecast_horizon), \"naive forecast\")\n",
        "\n",
        "      forecast_plotter(example,  random_walk_with_drift(example, forecast_horizon), \"random walk with drift\")\n",
        "\n",
        "      forecast_plotter(example, theta(example,forecast_horizon), \"theta\")\n",
        "      \n",
        "      forecast_plotter(example, snaive(example,forecast_horizon), \"seasonal naive\")\n",
        "\n",
        "      forecast_plotter(example, auto_arima(example,forecast_horizon), \"Auto Arima\")\n",
        "\n",
        "      forecast_plotter(example, eps(example,forecast_horizon), \"auto exponential smoothing\")\n",
        "\n",
        "      forecast_plotter(example, tbats(example,forecast_horizon), \"tbats\")\n",
        "\n",
        "      forecast_plotter(example, stlm_ar(example, 40), \"STLM AR\")\n",
        "\n",
        "    \n",
        "\n",
        "      \n",
        "      plt.legend(loc=\"lower left\")\n",
        "      plt.show()\n",
        "run_forcast_plotter(False)"
      ],
      "execution_count": null,
      "outputs": [
        {
          "output_type": "display_data",
          "data": {
            "image/png": "[encoded data removed]",
            "text/plain": [
              "<Figure size 432x288 with 1 Axes>"
            ]
          },
          "metadata": {
            "needs_background": "light"
          }
        },
        {
          "output_type": "display_data",
          "data": {
            "image/png": "[encoded data removed]",
            "text/plain": [
              "<Figure size 432x288 with 1 Axes>"
            ]
          },
          "metadata": {
            "needs_background": "light"
          }
        },
        {
          "output_type": "display_data",
          "data": {
            "image/png": "[encoded data removed]",
            "text/plain": [
              "<Figure size 432x288 with 1 Axes>"
            ]
          },
          "metadata": {
            "needs_background": "light"
          }
        }
      ]
    },
    {
      "cell_type": "markdown",
      "metadata": {
        "id": "I7jwddBJ3o6u"
      },
      "source": [
        "#Implement all models as part of a emsemble class"
      ]
    },
    {
      "cell_type": "code",
      "metadata": {
        "id": "TAn6kb_kyk-k"
      },
      "source": [
        "#Returns list of forecast over forcast horizon for all 8 implemented models \n",
        "class Ensemble:  \n",
        "  #list of models \n",
        "  #time_series\n",
        "  #model_fitted\n",
        "  def _reset_models(self):\n",
        "    self.models = []\n",
        "\n",
        "    for key in self.keys:\n",
        "      self.models.append(self.model_library[key])\n",
        "    self.forecasts = None\n",
        "    self.models_fitted = False\n",
        "\n",
        "  def __init__(self, lst_with_input_strings):\n",
        "    self.model_library = {\"Random_walk_with_drift\":Random_walk_with_drift(),\"Naive\":Naive(), \"Snaive\":Snaive(), \"Tbats\":Tbats(), \"Theta\":Theta(),\"Auto_Arima\":Auto_Arima(),\"Auto_Eps\":Eps(),\"STLM_AR\": STLM_AR()}\n",
        "    self.keys = lst_with_input_strings\n",
        "\n",
        "    self._reset_models()\n",
        "\n",
        "  def fit(self, time_series, seasonality):\n",
        "    if self.models_fitted == True:\n",
        "      self._reset_models()\n",
        "      \n",
        "    for model in self.models:\n",
        "      model.fit(time_series, seasonality)\n",
        "    \n",
        "    self.time_series = time_series\n",
        "    self.models_fitted = True\n",
        "\n",
        "  \"\"\"Returns a list of forecasts\"\"\"\n",
        "  def forecast(self, forecast_horizon):\n",
        "    \"\"\"Returns list of tuples (forecast, forcasting_model_name)\"\"\"\n",
        "    \n",
        "    if not self.models_fitted:\n",
        "      raise Exception(\"Tried forecasting without fitting models\") \n",
        "    forecasts = []\n",
        "    for model in self.models:\n",
        "      forecasts.append( ( model.forecast(forecast_horizon), str(model)))\n",
        "    self.forecasts = forecasts\n",
        "    return forecasts \n",
        "  \n",
        "  def plot(self, show_historic_data=False):\n",
        "    if self.forecasts == None:\n",
        "      raise Exception(\"Tried plotting without forecasting\")\n",
        "    \n",
        "    for forecast in self.forecasts:\n",
        "      forecast_plotter(self.time_series, forecast[0], forecast[1],show_historic_data)\n",
        "    plt.legend()\n",
        "    plt.show()"
      ],
      "execution_count": null,
      "outputs": []
    },
    {
      "cell_type": "markdown",
      "metadata": {
        "id": "frJxuTcL41FD"
      },
      "source": [
        "#Test the ensemble class"
      ]
    },
    {
      "cell_type": "code",
      "metadata": {
        "id": "Osi9BKdI40T7"
      },
      "source": [
        "models = [\"Random_walk_with_drift\",\"Naive\",\"Snaive\", \"Tbats\", \"Theta\", \"Auto_Arima\", \"Auto_Eps\", \"STLM_AR\"] \n",
        "\n",
        "full_ensemble = Ensemble(models)\n",
        "\n",
        "time_series1 = sine_example[:-11]\n",
        "time_series2 = linear_example[:-11]\n",
        "time_series3 = random_drift_example[:-11]\n",
        "\n",
        "time_series = [time_series1, time_series2, time_series3]\n",
        "forecast_horizon = 10\n",
        "seasonality = 10\n",
        "\n",
        "def run_ensembles(run):\n",
        "  if run:\n",
        "    for time_series in time_series:\n",
        "      full_ensemble.fit(time_series,  seasonality)\n",
        "      full_ensemble.forecast(20)\n",
        "      full_ensemble.plot(True)\n",
        "run_ensembles(False)"
      ],
      "execution_count": null,
      "outputs": []
    },
    {
      "cell_type": "markdown",
      "metadata": {
        "id": "Y32qwcJXrRyw"
      },
      "source": [
        "## Save trained models to file"
      ]
    },
    {
      "cell_type": "code",
      "metadata": {
        "colab": {
          "base_uri": "https://localhost:8080/",
          "height": 286
        },
        "id": "Y-QfMElAXQVT",
        "outputId": "3645d0f9-dfa6-4ed6-ea8e-c105b0c3e809"
      },
      "source": [
        "\"\"\"import pandas as pd\n",
        "\n",
        "df = pd.read_csv(\"Monthly-train.csv\").set_index(\"V1\") \n",
        "df.head()     \n",
        "\"\"\"\n",
        "\n",
        "\n",
        "  "
      ],
      "execution_count": null,
      "outputs": [
        {
          "output_type": "execute_result",
          "data": {
            "text/html": [
              "<div>\n",
              "<style scoped>\n",
              "    .dataframe tbody tr th:only-of-type {\n",
              "        vertical-align: middle;\n",
              "    }\n",
              "\n",
              "    .dataframe tbody tr th {\n",
              "        vertical-align: top;\n",
              "    }\n",
              "\n",
              "    .dataframe thead th {\n",
              "        text-align: right;\n",
              "    }\n",
              "</style>\n",
              "<table border=\"1\" class=\"dataframe\">\n",
              "  <thead>\n",
              "    <tr style=\"text-align: right;\">\n",
              "      <th></th>\n",
              "      <th>V2</th>\n",
              "      <th>V3</th>\n",
              "      <th>V4</th>\n",
              "      <th>V5</th>\n",
              "      <th>V6</th>\n",
              "      <th>V7</th>\n",
              "      <th>V8</th>\n",
              "      <th>V9</th>\n",
              "      <th>V10</th>\n",
              "      <th>V11</th>\n",
              "      <th>V12</th>\n",
              "      <th>V13</th>\n",
              "      <th>V14</th>\n",
              "      <th>V15</th>\n",
              "      <th>V16</th>\n",
              "      <th>V17</th>\n",
              "      <th>V18</th>\n",
              "      <th>V19</th>\n",
              "      <th>V20</th>\n",
              "      <th>V21</th>\n",
              "      <th>V22</th>\n",
              "      <th>V23</th>\n",
              "      <th>V24</th>\n",
              "      <th>V25</th>\n",
              "      <th>V26</th>\n",
              "      <th>V27</th>\n",
              "      <th>V28</th>\n",
              "      <th>V29</th>\n",
              "      <th>V30</th>\n",
              "      <th>V31</th>\n",
              "      <th>V32</th>\n",
              "      <th>V33</th>\n",
              "      <th>V34</th>\n",
              "      <th>V35</th>\n",
              "      <th>V36</th>\n",
              "      <th>V37</th>\n",
              "      <th>V38</th>\n",
              "      <th>V39</th>\n",
              "      <th>V40</th>\n",
              "      <th>V41</th>\n",
              "      <th>...</th>\n",
              "      <th>V2756</th>\n",
              "      <th>V2757</th>\n",
              "      <th>V2758</th>\n",
              "      <th>V2759</th>\n",
              "      <th>V2760</th>\n",
              "      <th>V2761</th>\n",
              "      <th>V2762</th>\n",
              "      <th>V2763</th>\n",
              "      <th>V2764</th>\n",
              "      <th>V2765</th>\n",
              "      <th>V2766</th>\n",
              "      <th>V2767</th>\n",
              "      <th>V2768</th>\n",
              "      <th>V2769</th>\n",
              "      <th>V2770</th>\n",
              "      <th>V2771</th>\n",
              "      <th>V2772</th>\n",
              "      <th>V2773</th>\n",
              "      <th>V2774</th>\n",
              "      <th>V2775</th>\n",
              "      <th>V2776</th>\n",
              "      <th>V2777</th>\n",
              "      <th>V2778</th>\n",
              "      <th>V2779</th>\n",
              "      <th>V2780</th>\n",
              "      <th>V2781</th>\n",
              "      <th>V2782</th>\n",
              "      <th>V2783</th>\n",
              "      <th>V2784</th>\n",
              "      <th>V2785</th>\n",
              "      <th>V2786</th>\n",
              "      <th>V2787</th>\n",
              "      <th>V2788</th>\n",
              "      <th>V2789</th>\n",
              "      <th>V2790</th>\n",
              "      <th>V2791</th>\n",
              "      <th>V2792</th>\n",
              "      <th>V2793</th>\n",
              "      <th>V2794</th>\n",
              "      <th>V2795</th>\n",
              "    </tr>\n",
              "    <tr>\n",
              "      <th>V1</th>\n",
              "      <th></th>\n",
              "      <th></th>\n",
              "      <th></th>\n",
              "      <th></th>\n",
              "      <th></th>\n",
              "      <th></th>\n",
              "      <th></th>\n",
              "      <th></th>\n",
              "      <th></th>\n",
              "      <th></th>\n",
              "      <th></th>\n",
              "      <th></th>\n",
              "      <th></th>\n",
              "      <th></th>\n",
              "      <th></th>\n",
              "      <th></th>\n",
              "      <th></th>\n",
              "      <th></th>\n",
              "      <th></th>\n",
              "      <th></th>\n",
              "      <th></th>\n",
              "      <th></th>\n",
              "      <th></th>\n",
              "      <th></th>\n",
              "      <th></th>\n",
              "      <th></th>\n",
              "      <th></th>\n",
              "      <th></th>\n",
              "      <th></th>\n",
              "      <th></th>\n",
              "      <th></th>\n",
              "      <th></th>\n",
              "      <th></th>\n",
              "      <th></th>\n",
              "      <th></th>\n",
              "      <th></th>\n",
              "      <th></th>\n",
              "      <th></th>\n",
              "      <th></th>\n",
              "      <th></th>\n",
              "      <th></th>\n",
              "      <th></th>\n",
              "      <th></th>\n",
              "      <th></th>\n",
              "      <th></th>\n",
              "      <th></th>\n",
              "      <th></th>\n",
              "      <th></th>\n",
              "      <th></th>\n",
              "      <th></th>\n",
              "      <th></th>\n",
              "      <th></th>\n",
              "      <th></th>\n",
              "      <th></th>\n",
              "      <th></th>\n",
              "      <th></th>\n",
              "      <th></th>\n",
              "      <th></th>\n",
              "      <th></th>\n",
              "      <th></th>\n",
              "      <th></th>\n",
              "      <th></th>\n",
              "      <th></th>\n",
              "      <th></th>\n",
              "      <th></th>\n",
              "      <th></th>\n",
              "      <th></th>\n",
              "      <th></th>\n",
              "      <th></th>\n",
              "      <th></th>\n",
              "      <th></th>\n",
              "      <th></th>\n",
              "      <th></th>\n",
              "      <th></th>\n",
              "      <th></th>\n",
              "      <th></th>\n",
              "      <th></th>\n",
              "      <th></th>\n",
              "      <th></th>\n",
              "      <th></th>\n",
              "      <th></th>\n",
              "    </tr>\n",
              "  </thead>\n",
              "  <tbody>\n",
              "    <tr>\n",
              "      <th>M1</th>\n",
              "      <td>8000.0</td>\n",
              "      <td>8350.0</td>\n",
              "      <td>8570.0</td>\n",
              "      <td>7700.0</td>\n",
              "      <td>7080.0</td>\n",
              "      <td>6520.0</td>\n",
              "      <td>6070.0</td>\n",
              "      <td>6650.0</td>\n",
              "      <td>6830.0</td>\n",
              "      <td>5710.0</td>\n",
              "      <td>5260.0</td>\n",
              "      <td>5470.0</td>\n",
              "      <td>7870.0</td>\n",
              "      <td>7360.0</td>\n",
              "      <td>8470.0</td>\n",
              "      <td>7880.0</td>\n",
              "      <td>6750.0</td>\n",
              "      <td>6860.0</td>\n",
              "      <td>6220.0</td>\n",
              "      <td>6650.0</td>\n",
              "      <td>5450.0</td>\n",
              "      <td>5280.0</td>\n",
              "      <td>4970.0</td>\n",
              "      <td>5550.0</td>\n",
              "      <td>7750.0</td>\n",
              "      <td>7760.0</td>\n",
              "      <td>7190.0</td>\n",
              "      <td>7440.0</td>\n",
              "      <td>6590.0</td>\n",
              "      <td>6210.0</td>\n",
              "      <td>6010.0</td>\n",
              "      <td>6390.0</td>\n",
              "      <td>5780.0</td>\n",
              "      <td>5700.0</td>\n",
              "      <td>4680.0</td>\n",
              "      <td>4970.0</td>\n",
              "      <td>6850.0</td>\n",
              "      <td>6740.0</td>\n",
              "      <td>7490.0</td>\n",
              "      <td>6250.0</td>\n",
              "      <td>...</td>\n",
              "      <td>NaN</td>\n",
              "      <td>NaN</td>\n",
              "      <td>NaN</td>\n",
              "      <td>NaN</td>\n",
              "      <td>NaN</td>\n",
              "      <td>NaN</td>\n",
              "      <td>NaN</td>\n",
              "      <td>NaN</td>\n",
              "      <td>NaN</td>\n",
              "      <td>NaN</td>\n",
              "      <td>NaN</td>\n",
              "      <td>NaN</td>\n",
              "      <td>NaN</td>\n",
              "      <td>NaN</td>\n",
              "      <td>NaN</td>\n",
              "      <td>NaN</td>\n",
              "      <td>NaN</td>\n",
              "      <td>NaN</td>\n",
              "      <td>NaN</td>\n",
              "      <td>NaN</td>\n",
              "      <td>NaN</td>\n",
              "      <td>NaN</td>\n",
              "      <td>NaN</td>\n",
              "      <td>NaN</td>\n",
              "      <td>NaN</td>\n",
              "      <td>NaN</td>\n",
              "      <td>NaN</td>\n",
              "      <td>NaN</td>\n",
              "      <td>NaN</td>\n",
              "      <td>NaN</td>\n",
              "      <td>NaN</td>\n",
              "      <td>NaN</td>\n",
              "      <td>NaN</td>\n",
              "      <td>NaN</td>\n",
              "      <td>NaN</td>\n",
              "      <td>NaN</td>\n",
              "      <td>NaN</td>\n",
              "      <td>NaN</td>\n",
              "      <td>NaN</td>\n",
              "      <td>NaN</td>\n",
              "    </tr>\n",
              "    <tr>\n",
              "      <th>M2</th>\n",
              "      <td>2440.0</td>\n",
              "      <td>2490.0</td>\n",
              "      <td>2710.0</td>\n",
              "      <td>2290.0</td>\n",
              "      <td>1960.0</td>\n",
              "      <td>1990.0</td>\n",
              "      <td>1960.0</td>\n",
              "      <td>2530.0</td>\n",
              "      <td>2640.0</td>\n",
              "      <td>2650.0</td>\n",
              "      <td>2150.0</td>\n",
              "      <td>1910.0</td>\n",
              "      <td>2510.0</td>\n",
              "      <td>2100.0</td>\n",
              "      <td>1840.0</td>\n",
              "      <td>2330.0</td>\n",
              "      <td>1830.0</td>\n",
              "      <td>2290.0</td>\n",
              "      <td>2090.0</td>\n",
              "      <td>2340.0</td>\n",
              "      <td>2420.0</td>\n",
              "      <td>1850.0</td>\n",
              "      <td>1960.0</td>\n",
              "      <td>2000.0</td>\n",
              "      <td>2300.0</td>\n",
              "      <td>2160.0</td>\n",
              "      <td>1730.0</td>\n",
              "      <td>2090.0</td>\n",
              "      <td>1890.0</td>\n",
              "      <td>2180.0</td>\n",
              "      <td>1950.0</td>\n",
              "      <td>2020.0</td>\n",
              "      <td>1770.0</td>\n",
              "      <td>1960.0</td>\n",
              "      <td>1860.0</td>\n",
              "      <td>1340.0</td>\n",
              "      <td>2150.0</td>\n",
              "      <td>2180.0</td>\n",
              "      <td>2030.0</td>\n",
              "      <td>1730.0</td>\n",
              "      <td>...</td>\n",
              "      <td>NaN</td>\n",
              "      <td>NaN</td>\n",
              "      <td>NaN</td>\n",
              "      <td>NaN</td>\n",
              "      <td>NaN</td>\n",
              "      <td>NaN</td>\n",
              "      <td>NaN</td>\n",
              "      <td>NaN</td>\n",
              "      <td>NaN</td>\n",
              "      <td>NaN</td>\n",
              "      <td>NaN</td>\n",
              "      <td>NaN</td>\n",
              "      <td>NaN</td>\n",
              "      <td>NaN</td>\n",
              "      <td>NaN</td>\n",
              "      <td>NaN</td>\n",
              "      <td>NaN</td>\n",
              "      <td>NaN</td>\n",
              "      <td>NaN</td>\n",
              "      <td>NaN</td>\n",
              "      <td>NaN</td>\n",
              "      <td>NaN</td>\n",
              "      <td>NaN</td>\n",
              "      <td>NaN</td>\n",
              "      <td>NaN</td>\n",
              "      <td>NaN</td>\n",
              "      <td>NaN</td>\n",
              "      <td>NaN</td>\n",
              "      <td>NaN</td>\n",
              "      <td>NaN</td>\n",
              "      <td>NaN</td>\n",
              "      <td>NaN</td>\n",
              "      <td>NaN</td>\n",
              "      <td>NaN</td>\n",
              "      <td>NaN</td>\n",
              "      <td>NaN</td>\n",
              "      <td>NaN</td>\n",
              "      <td>NaN</td>\n",
              "      <td>NaN</td>\n",
              "      <td>NaN</td>\n",
              "    </tr>\n",
              "    <tr>\n",
              "      <th>M3</th>\n",
              "      <td>2670.0</td>\n",
              "      <td>2590.0</td>\n",
              "      <td>2784.0</td>\n",
              "      <td>2816.0</td>\n",
              "      <td>2888.0</td>\n",
              "      <td>2906.0</td>\n",
              "      <td>2839.0</td>\n",
              "      <td>2860.0</td>\n",
              "      <td>2798.0</td>\n",
              "      <td>2795.0</td>\n",
              "      <td>2796.0</td>\n",
              "      <td>2858.0</td>\n",
              "      <td>2782.0</td>\n",
              "      <td>2801.0</td>\n",
              "      <td>2907.0</td>\n",
              "      <td>2919.0</td>\n",
              "      <td>2937.0</td>\n",
              "      <td>2878.0</td>\n",
              "      <td>2841.0</td>\n",
              "      <td>2967.0</td>\n",
              "      <td>3050.0</td>\n",
              "      <td>2981.0</td>\n",
              "      <td>3076.0</td>\n",
              "      <td>3033.0</td>\n",
              "      <td>2936.0</td>\n",
              "      <td>2927.0</td>\n",
              "      <td>2929.0</td>\n",
              "      <td>2987.0</td>\n",
              "      <td>2777.0</td>\n",
              "      <td>2760.0</td>\n",
              "      <td>2769.0</td>\n",
              "      <td>2830.0</td>\n",
              "      <td>2861.0</td>\n",
              "      <td>2991.0</td>\n",
              "      <td>3063.0</td>\n",
              "      <td>3134.0</td>\n",
              "      <td>3020.0</td>\n",
              "      <td>2947.0</td>\n",
              "      <td>3026.0</td>\n",
              "      <td>3060.0</td>\n",
              "      <td>...</td>\n",
              "      <td>NaN</td>\n",
              "      <td>NaN</td>\n",
              "      <td>NaN</td>\n",
              "      <td>NaN</td>\n",
              "      <td>NaN</td>\n",
              "      <td>NaN</td>\n",
              "      <td>NaN</td>\n",
              "      <td>NaN</td>\n",
              "      <td>NaN</td>\n",
              "      <td>NaN</td>\n",
              "      <td>NaN</td>\n",
              "      <td>NaN</td>\n",
              "      <td>NaN</td>\n",
              "      <td>NaN</td>\n",
              "      <td>NaN</td>\n",
              "      <td>NaN</td>\n",
              "      <td>NaN</td>\n",
              "      <td>NaN</td>\n",
              "      <td>NaN</td>\n",
              "      <td>NaN</td>\n",
              "      <td>NaN</td>\n",
              "      <td>NaN</td>\n",
              "      <td>NaN</td>\n",
              "      <td>NaN</td>\n",
              "      <td>NaN</td>\n",
              "      <td>NaN</td>\n",
              "      <td>NaN</td>\n",
              "      <td>NaN</td>\n",
              "      <td>NaN</td>\n",
              "      <td>NaN</td>\n",
              "      <td>NaN</td>\n",
              "      <td>NaN</td>\n",
              "      <td>NaN</td>\n",
              "      <td>NaN</td>\n",
              "      <td>NaN</td>\n",
              "      <td>NaN</td>\n",
              "      <td>NaN</td>\n",
              "      <td>NaN</td>\n",
              "      <td>NaN</td>\n",
              "      <td>NaN</td>\n",
              "    </tr>\n",
              "    <tr>\n",
              "      <th>M4</th>\n",
              "      <td>7264.0</td>\n",
              "      <td>7215.0</td>\n",
              "      <td>7022.0</td>\n",
              "      <td>7040.0</td>\n",
              "      <td>6966.0</td>\n",
              "      <td>6984.0</td>\n",
              "      <td>7025.0</td>\n",
              "      <td>7082.0</td>\n",
              "      <td>6956.0</td>\n",
              "      <td>7014.0</td>\n",
              "      <td>7067.0</td>\n",
              "      <td>7099.0</td>\n",
              "      <td>7046.0</td>\n",
              "      <td>7139.0</td>\n",
              "      <td>7011.0</td>\n",
              "      <td>7022.0</td>\n",
              "      <td>7084.0</td>\n",
              "      <td>7036.0</td>\n",
              "      <td>7098.0</td>\n",
              "      <td>7083.0</td>\n",
              "      <td>7045.0</td>\n",
              "      <td>7057.0</td>\n",
              "      <td>6986.0</td>\n",
              "      <td>6937.0</td>\n",
              "      <td>6927.0</td>\n",
              "      <td>6953.0</td>\n",
              "      <td>7007.0</td>\n",
              "      <td>6949.0</td>\n",
              "      <td>6930.0</td>\n",
              "      <td>6925.0</td>\n",
              "      <td>6956.0</td>\n",
              "      <td>6946.0</td>\n",
              "      <td>6866.0</td>\n",
              "      <td>6814.0</td>\n",
              "      <td>6806.0</td>\n",
              "      <td>6806.0</td>\n",
              "      <td>6855.0</td>\n",
              "      <td>6951.0</td>\n",
              "      <td>6898.0</td>\n",
              "      <td>6898.0</td>\n",
              "      <td>...</td>\n",
              "      <td>NaN</td>\n",
              "      <td>NaN</td>\n",
              "      <td>NaN</td>\n",
              "      <td>NaN</td>\n",
              "      <td>NaN</td>\n",
              "      <td>NaN</td>\n",
              "      <td>NaN</td>\n",
              "      <td>NaN</td>\n",
              "      <td>NaN</td>\n",
              "      <td>NaN</td>\n",
              "      <td>NaN</td>\n",
              "      <td>NaN</td>\n",
              "      <td>NaN</td>\n",
              "      <td>NaN</td>\n",
              "      <td>NaN</td>\n",
              "      <td>NaN</td>\n",
              "      <td>NaN</td>\n",
              "      <td>NaN</td>\n",
              "      <td>NaN</td>\n",
              "      <td>NaN</td>\n",
              "      <td>NaN</td>\n",
              "      <td>NaN</td>\n",
              "      <td>NaN</td>\n",
              "      <td>NaN</td>\n",
              "      <td>NaN</td>\n",
              "      <td>NaN</td>\n",
              "      <td>NaN</td>\n",
              "      <td>NaN</td>\n",
              "      <td>NaN</td>\n",
              "      <td>NaN</td>\n",
              "      <td>NaN</td>\n",
              "      <td>NaN</td>\n",
              "      <td>NaN</td>\n",
              "      <td>NaN</td>\n",
              "      <td>NaN</td>\n",
              "      <td>NaN</td>\n",
              "      <td>NaN</td>\n",
              "      <td>NaN</td>\n",
              "      <td>NaN</td>\n",
              "      <td>NaN</td>\n",
              "    </tr>\n",
              "    <tr>\n",
              "      <th>M5</th>\n",
              "      <td>4210.0</td>\n",
              "      <td>4290.0</td>\n",
              "      <td>4250.0</td>\n",
              "      <td>4320.0</td>\n",
              "      <td>4320.0</td>\n",
              "      <td>4330.0</td>\n",
              "      <td>4320.0</td>\n",
              "      <td>4260.0</td>\n",
              "      <td>4220.0</td>\n",
              "      <td>4260.0</td>\n",
              "      <td>4180.0</td>\n",
              "      <td>4230.0</td>\n",
              "      <td>4270.0</td>\n",
              "      <td>4500.0</td>\n",
              "      <td>4410.0</td>\n",
              "      <td>4440.0</td>\n",
              "      <td>4430.0</td>\n",
              "      <td>4440.0</td>\n",
              "      <td>4540.0</td>\n",
              "      <td>4450.0</td>\n",
              "      <td>4420.0</td>\n",
              "      <td>4410.0</td>\n",
              "      <td>4300.0</td>\n",
              "      <td>4300.0</td>\n",
              "      <td>4420.0</td>\n",
              "      <td>4350.0</td>\n",
              "      <td>4340.0</td>\n",
              "      <td>4410.0</td>\n",
              "      <td>4340.0</td>\n",
              "      <td>4400.0</td>\n",
              "      <td>4360.0</td>\n",
              "      <td>4420.0</td>\n",
              "      <td>4470.0</td>\n",
              "      <td>4310.0</td>\n",
              "      <td>4280.0</td>\n",
              "      <td>4220.0</td>\n",
              "      <td>4190.0</td>\n",
              "      <td>4120.0</td>\n",
              "      <td>4150.0</td>\n",
              "      <td>4190.0</td>\n",
              "      <td>...</td>\n",
              "      <td>NaN</td>\n",
              "      <td>NaN</td>\n",
              "      <td>NaN</td>\n",
              "      <td>NaN</td>\n",
              "      <td>NaN</td>\n",
              "      <td>NaN</td>\n",
              "      <td>NaN</td>\n",
              "      <td>NaN</td>\n",
              "      <td>NaN</td>\n",
              "      <td>NaN</td>\n",
              "      <td>NaN</td>\n",
              "      <td>NaN</td>\n",
              "      <td>NaN</td>\n",
              "      <td>NaN</td>\n",
              "      <td>NaN</td>\n",
              "      <td>NaN</td>\n",
              "      <td>NaN</td>\n",
              "      <td>NaN</td>\n",
              "      <td>NaN</td>\n",
              "      <td>NaN</td>\n",
              "      <td>NaN</td>\n",
              "      <td>NaN</td>\n",
              "      <td>NaN</td>\n",
              "      <td>NaN</td>\n",
              "      <td>NaN</td>\n",
              "      <td>NaN</td>\n",
              "      <td>NaN</td>\n",
              "      <td>NaN</td>\n",
              "      <td>NaN</td>\n",
              "      <td>NaN</td>\n",
              "      <td>NaN</td>\n",
              "      <td>NaN</td>\n",
              "      <td>NaN</td>\n",
              "      <td>NaN</td>\n",
              "      <td>NaN</td>\n",
              "      <td>NaN</td>\n",
              "      <td>NaN</td>\n",
              "      <td>NaN</td>\n",
              "      <td>NaN</td>\n",
              "      <td>NaN</td>\n",
              "    </tr>\n",
              "  </tbody>\n",
              "</table>\n",
              "<p>5 rows × 2794 columns</p>\n",
              "</div>"
            ],
            "text/plain": [
              "        V2      V3      V4      V5      V6  ...  V2791  V2792  V2793  V2794  V2795\n",
              "V1                                          ...                                   \n",
              "M1  8000.0  8350.0  8570.0  7700.0  7080.0  ...    NaN    NaN    NaN    NaN    NaN\n",
              "M2  2440.0  2490.0  2710.0  2290.0  1960.0  ...    NaN    NaN    NaN    NaN    NaN\n",
              "M3  2670.0  2590.0  2784.0  2816.0  2888.0  ...    NaN    NaN    NaN    NaN    NaN\n",
              "M4  7264.0  7215.0  7022.0  7040.0  6966.0  ...    NaN    NaN    NaN    NaN    NaN\n",
              "M5  4210.0  4290.0  4250.0  4320.0  4320.0  ...    NaN    NaN    NaN    NaN    NaN\n",
              "\n",
              "[5 rows x 2794 columns]"
            ]
          },
          "metadata": {},
          "execution_count": 309
        }
      ]
    },
    {
      "cell_type": "code",
      "metadata": {
        "colab": {
          "base_uri": "https://localhost:8080/"
        },
        "id": "RWcaLjarut00",
        "outputId": "e282aefd-3f53-49ec-fbd4-5281d8b38af9"
      },
      "source": [
        "\"\"\"models = {}\n",
        "for idx, row in df.iterrows(): \n",
        "  ensemble = Ensemble([\"Random_walk_with_drift\",\"Naive\",\"Snaive\", \"Tbats\", \"Theta\", \"Auto_Arima\", \"Auto_Eps\", \"STLM_AR\"] )\n",
        "  ensemble.fit(row.dropna().to_list(), None)\n",
        "\n",
        "  models[idx] = ensemble\n",
        "  break\n",
        "\n",
        "with open('ensembles.pickle', 'wb') as handle:\n",
        "    pickle.dump(models, handle, protocol=pickle.HIGHEST_PROTOCOL)\n",
        " \"\"\""
      ],
      "execution_count": null,
      "outputs": [
        {
          "output_type": "stream",
          "name": "stderr",
          "text": [
            "/usr/local/lib/python3.7/dist-packages/statsmodels/tsa/holtwinters/model.py:917: ConvergenceWarning: Optimization failed to converge. Check mle_retvals.\n",
            "  ConvergenceWarning,\n"
          ]
        }
      ]
    },
    {
      "cell_type": "code",
      "metadata": {
        "colab": {
          "base_uri": "https://localhost:8080/",
          "height": 265
        },
        "id": "a0GR4uFXykAs",
        "outputId": "a51eb33d-a7e7-44d5-b31a-ae1b18ca2a77"
      },
      "source": [
        "\"\"\"with open('ensembles.pickle', 'rb') as handle:\n",
        "    b = pickle.load(handle)\n",
        "b[\"M1\"].forecast(20)\n",
        "b[\"M1\"].plot(True)\"\"\""
      ],
      "execution_count": null,
      "outputs": [
        {
          "output_type": "display_data",
          "data": {
            "image/png": "[encoded data removed]",
            "text/plain": [
              "<Figure size 432x288 with 1 Axes>"
            ]
          },
          "metadata": {
            "needs_background": "light"
          }
        }
      ]
    },
    {
      "cell_type": "markdown",
      "metadata": {
        "id": "ceYiJ06Aqc0N"
      },
      "source": [
        "##**KLADD: Implement all set of models **"
      ]
    },
    {
      "cell_type": "code",
      "metadata": {
        "colab": {
          "base_uri": "https://localhost:8080/"
        },
        "id": "3N7kE344gPoh",
        "outputId": "5eb4c1bc-91ba-443f-b917-fb3cc336f884"
      },
      "source": [
        "\"\"\"#SETUP tests data\n",
        "def model_results(x,y):\n",
        "  models = []\n",
        "  \n",
        "  OLS = sm.regression.linear_model.OLS(y,x)\n",
        "  models.append(OLS)\n",
        "  \n",
        "  GLS = sm.regression.linear_model.GLS(y,x)\n",
        "  models.append(GLS)\n",
        "  \n",
        "  quant_reg = sm.QuantReg(y,x)\n",
        "  models.append(quant_reg)\n",
        "\n",
        "  ARIMA = sm.tsa.ARIMA(y.to_numpy().reshape((-1,1)), order=(1,0,1)) #ARIMA(x, order=(1,0,0) how to set order?\n",
        "  models.append(ARIMA)\n",
        "  \n",
        "  AARIMA = pm.auto_arima(y) #q = order of moving average p = order of autoregression \n",
        "  models.append(AARIMA)\n",
        "  \n",
        "  results = []\n",
        "  for i in range(len(models)):\n",
        "    #make sure aarima is fitted appropriately \n",
        "    if i == len(models)-1:\n",
        "      print(\"\\t\\t  ============== AUTO ARIMA ==============\")\n",
        "      res = models[i].fit(y)\n",
        "    else:\n",
        "      res = models[i].fit()\n",
        "    \n",
        "    print(res.summary())\n",
        "    results.append(res)\n",
        "    \n",
        "  return results\n",
        "\n",
        "def main():\n",
        "  duncan_prestige = sm.datasets.get_rdataset(\"Duncan\", \"carData\")\n",
        "  Y = duncan_prestige.data['income']\n",
        "  X = duncan_prestige.data['education']\n",
        "  #X = sm.add_constant(X)\n",
        "  print(X.shape)\n",
        "  print(Y.shape)\n",
        "  print(model_results(X,Y))\n",
        "\n",
        "main()\n",
        "\"\"\"  "
      ],
      "execution_count": null,
      "outputs": [
        {
          "output_type": "stream",
          "name": "stdout",
          "text": [
            "(45,)\n",
            "(45,)\n",
            "                                 OLS Regression Results                                \n",
            "=======================================================================================\n",
            "Dep. Variable:                 income   R-squared (uncentered):                   0.870\n",
            "Model:                            OLS   Adj. R-squared (uncentered):              0.867\n",
            "Method:                 Least Squares   F-statistic:                              294.0\n",
            "Date:                Wed, 27 Oct 2021   Prob (F-statistic):                    4.24e-21\n",
            "Time:                        17:07:19   Log-Likelihood:                         -192.50\n",
            "No. Observations:                  45   AIC:                                      387.0\n",
            "Df Residuals:                      44   BIC:                                      388.8\n",
            "Df Model:                           1                                                  \n",
            "Covariance Type:            nonrobust                                                  \n",
            "==============================================================================\n",
            "                 coef    std err          t      P>|t|      [0.025      0.975]\n",
            "------------------------------------------------------------------------------\n",
            "education      0.7485      0.044     17.146      0.000       0.660       0.836\n",
            "==============================================================================\n",
            "Omnibus:                       12.254   Durbin-Watson:                   1.631\n",
            "Prob(Omnibus):                  0.002   Jarque-Bera (JB):               17.388\n",
            "Skew:                           0.795   Prob(JB):                     0.000168\n",
            "Kurtosis:                       5.597   Cond. No.                         1.00\n",
            "==============================================================================\n",
            "\n",
            "Notes:\n",
            "[1] R² is computed without centering (uncentered) since the model does not contain a constant.\n",
            "[2] Standard Errors assume that the covariance matrix of the errors is correctly specified.\n",
            "                                 GLS Regression Results                                \n",
            "=======================================================================================\n",
            "Dep. Variable:                 income   R-squared (uncentered):                   0.870\n",
            "Model:                            GLS   Adj. R-squared (uncentered):              0.867\n",
            "Method:                 Least Squares   F-statistic:                              294.0\n",
            "Date:                Wed, 27 Oct 2021   Prob (F-statistic):                    4.24e-21\n",
            "Time:                        17:07:19   Log-Likelihood:                         -192.50\n",
            "No. Observations:                  45   AIC:                                      387.0\n",
            "Df Residuals:                      44   BIC:                                      388.8\n",
            "Df Model:                           1                                                  \n",
            "Covariance Type:            nonrobust                                                  \n",
            "==============================================================================\n",
            "                 coef    std err          t      P>|t|      [0.025      0.975]\n",
            "------------------------------------------------------------------------------\n",
            "education      0.7485      0.044     17.146      0.000       0.660       0.836\n",
            "==============================================================================\n",
            "Omnibus:                       12.254   Durbin-Watson:                   1.631\n",
            "Prob(Omnibus):                  0.002   Jarque-Bera (JB):               17.388\n",
            "Skew:                           0.795   Prob(JB):                     0.000168\n",
            "Kurtosis:                       5.597   Cond. No.                         1.00\n",
            "==============================================================================\n",
            "\n",
            "Notes:\n",
            "[1] R² is computed without centering (uncentered) since the model does not contain a constant.\n",
            "[2] Standard Errors assume that the covariance matrix of the errors is correctly specified.\n",
            "                         QuantReg Regression Results                          \n",
            "==============================================================================\n",
            "Dep. Variable:                 income   Pseudo R-squared:               0.4297\n",
            "Model:                       QuantReg   Bandwidth:                       17.28\n",
            "Method:                 Least Squares   Sparsity:                        38.28\n",
            "Date:                Wed, 27 Oct 2021   No. Observations:                   45\n",
            "Time:                        17:07:19   Df Residuals:                       44\n",
            "                                        Df Model:                            1\n",
            "==============================================================================\n",
            "                 coef    std err          t      P>|t|      [0.025      0.975]\n",
            "------------------------------------------------------------------------------\n",
            "education      0.7701      0.047     16.260      0.000       0.675       0.866\n",
            "==============================================================================\n",
            "                               SARIMAX Results                                \n",
            "==============================================================================\n",
            "Dep. Variable:                      y   No. Observations:                   45\n",
            "Model:                 ARIMA(1, 0, 1)   Log Likelihood                -193.860\n",
            "Date:                Wed, 27 Oct 2021   AIC                            395.721\n",
            "Time:                        17:07:19   BIC                            402.947\n",
            "Sample:                             0   HQIC                           398.415\n",
            "                                 - 45                                         \n",
            "Covariance Type:                  opg                                         \n",
            "==============================================================================\n",
            "                 coef    std err          z      P>|z|      [0.025      0.975]\n",
            "------------------------------------------------------------------------------\n",
            "const         40.5410     24.725      1.640      0.101      -7.919      89.001\n",
            "ar.L1          0.9759      0.051     18.992      0.000       0.875       1.077\n",
            "ma.L1         -0.7406      0.155     -4.774      0.000      -1.045      -0.437\n",
            "sigma2       314.1436     87.973      3.571      0.000     141.719     486.568\n",
            "===================================================================================\n",
            "Ljung-Box (L1) (Q):                   0.74   Jarque-Bera (JB):                 0.73\n",
            "Prob(Q):                              0.39   Prob(JB):                         0.69\n",
            "Heteroskedasticity (H):               0.65   Skew:                             0.12\n",
            "Prob(H) (two-sided):                  0.42   Kurtosis:                         2.42\n",
            "===================================================================================\n",
            "\n",
            "Warnings:\n",
            "[1] Covariance matrix calculated using the outer product of gradients (complex-step).\n",
            "\t\t  ============== AUTO ARIMA ==============\n",
            "                               SARIMAX Results                                \n",
            "==============================================================================\n",
            "Dep. Variable:                      y   No. Observations:                   45\n",
            "Model:               SARIMAX(2, 1, 1)   Log Likelihood                -188.083\n",
            "Date:                Wed, 27 Oct 2021   AIC                            384.167\n",
            "Time:                        17:07:19   BIC                            391.304\n",
            "Sample:                             0   HQIC                           386.813\n",
            "                                 - 45                                         \n",
            "Covariance Type:                  opg                                         \n",
            "==============================================================================\n",
            "                 coef    std err          z      P>|z|      [0.025      0.975]\n",
            "------------------------------------------------------------------------------\n",
            "ar.L1         -0.2721      0.265     -1.028      0.304      -0.791       0.247\n",
            "ar.L2         -0.2767      0.238     -1.164      0.245      -0.743       0.189\n",
            "ma.L1         -0.5941      0.207     -2.868      0.004      -1.000      -0.188\n",
            "sigma2       294.8081     65.030      4.533      0.000     167.352     422.264\n",
            "===================================================================================\n",
            "Ljung-Box (L1) (Q):                   0.39   Jarque-Bera (JB):                 0.12\n",
            "Prob(Q):                              0.53   Prob(JB):                         0.94\n",
            "Heteroskedasticity (H):               0.62   Skew:                            -0.03\n",
            "Prob(H) (two-sided):                  0.36   Kurtosis:                         3.25\n",
            "===================================================================================\n",
            "\n",
            "Warnings:\n",
            "[1] Covariance matrix calculated using the outer product of gradients (complex-step).\n",
            "[<statsmodels.regression.linear_model.RegressionResultsWrapper object at 0x7faef8442610>, <statsmodels.regression.linear_model.RegressionResultsWrapper object at 0x7faeec02cd50>, <statsmodels.regression.linear_model.RegressionResultsWrapper object at 0x7faef8438910>, <statsmodels.tsa.arima.model.ARIMAResultsWrapper object at 0x7faeeb50d050>, ARIMA(maxiter=50, method='lbfgs', order=(2, 1, 1), out_of_sample_size=0,\n",
            "      scoring='mse', scoring_args={}, seasonal_order=(0, 0, 0, 0),\n",
            "      start_params=None, suppress_warnings=True, trend=None,\n",
            "      with_intercept=False)]\n"
          ]
        },
        {
          "output_type": "stream",
          "name": "stderr",
          "text": [
            "/usr/local/lib/python3.7/dist-packages/statsmodels/tsa/statespace/sarimax.py:966: UserWarning: Non-stationary starting autoregressive parameters found. Using zeros as starting parameters.\n",
            "  warn('Non-stationary starting autoregressive parameters'\n"
          ]
        }
      ]
    },
    {
      "cell_type": "code",
      "metadata": {
        "id": "ru3hp23qyWDi"
      },
      "source": [
        ""
      ],
      "execution_count": null,
      "outputs": []
    }
  ]
}