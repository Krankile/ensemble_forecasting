{
  "nbformat": 4,
  "nbformat_minor": 0,
  "metadata": {
    "accelerator": "GPU",
    "colab": {
      "name": "weight_net_v05.ipynb",
      "provenance": [],
      "collapsed_sections": [
        "z9qWiol8h6A1"
      ],
      "include_colab_link": true
    },
    "kernelspec": {
      "display_name": "Python 3",
      "name": "python3"
    },
    "language_info": {
      "name": "python"
    }
  },
  "cells": [
    {
      "cell_type": "markdown",
      "metadata": {
        "id": "view-in-github",
        "colab_type": "text"
      },
      "source": [
        "<a href=\"https://colab.research.google.com/github/Krankile/ensemble_forecasting/blob/main/notebooks/weight_net/weight_net.ipynb\" target=\"_parent\"><img src=\"https://colab.research.google.com/assets/colab-badge.svg\" alt=\"Open In Colab\"/></a>"
      ]
    },
    {
      "cell_type": "markdown",
      "metadata": {
        "id": "Ad2rmI-1IBOy"
      },
      "source": [
        "##Setup"
      ]
    },
    {
      "cell_type": "code",
      "metadata": {
        "id": "rbUYg-ygNho7"
      },
      "source": [
        "%%capture\n",
        "!pip install pytorch-forecasting kora wandb"
      ],
      "execution_count": 35,
      "outputs": []
    },
    {
      "cell_type": "markdown",
      "metadata": {
        "id": "Cs7aB3tB1uMl"
      },
      "source": [
        "Go here to find wandb API key:\n",
        "\n",
        "[https://wandb.ai/settings](https://wandb.ai/settings)"
      ]
    },
    {
      "cell_type": "code",
      "metadata": {
        "colab": {
          "base_uri": "https://localhost:8080/"
        },
        "id": "nbiRr31H-t9b",
        "outputId": "a8341137-fdb9-4824-f1e6-b997ccb6847a"
      },
      "source": [
        "import wandb\n",
        "wandb.login()\n",
        "\n",
        "from kora import drive\n",
        "drive.link_nbs()"
      ],
      "execution_count": 36,
      "outputs": [
        {
          "output_type": "stream",
          "name": "stderr",
          "text": [
            "\u001b[34m\u001b[1mwandb\u001b[0m: \u001b[33mWARNING\u001b[0m Calling wandb.login() after wandb.init() has no effect.\n"
          ]
        }
      ]
    },
    {
      "cell_type": "code",
      "metadata": {
        "id": "-Oo7lgF2HeDZ"
      },
      "source": [
        "import os\n",
        "import copy\n",
        "import math\n",
        "import random\n",
        "from multiprocessing import cpu_count\n",
        "from pathlib import Path\n",
        "from collections import namedtuple\n",
        "\n",
        "import numpy as np\n",
        "import pandas as pd\n",
        "\n",
        "from tqdm import tqdm\n",
        "from sklearn.utils import shuffle\n",
        "from sklearn.preprocessing import MinMaxScaler , minmax_scale, StandardScaler\n",
        "import matplotlib.pyplot as plt\n",
        "\n",
        "import torch\n",
        "from torch import nn, optim\n",
        "import torch.nn.functional as F\n",
        "from torch.utils.data import Dataset, DataLoader\n",
        "\n",
        "from pytorch_forecasting.metrics import SMAPE"
      ],
      "execution_count": 37,
      "outputs": []
    },
    {
      "cell_type": "code",
      "metadata": {
        "colab": {
          "base_uri": "https://localhost:8080/"
        },
        "id": "eisYRCr-rqs8",
        "outputId": "631c37d6-f53c-4425-d978-161b80c8263e"
      },
      "source": [
        "ROOT = Path(\"/content/drive/MyDrive/Master, Ankile og Krange\")\n",
        "ROOT"
      ],
      "execution_count": 38,
      "outputs": [
        {
          "output_type": "execute_result",
          "data": {
            "text/plain": [
              "PosixPath('/content/drive/MyDrive/Master, Ankile og Krange')"
            ]
          },
          "metadata": {},
          "execution_count": 38
        }
      ]
    },
    {
      "cell_type": "code",
      "metadata": {
        "colab": {
          "base_uri": "https://localhost:8080/"
        },
        "id": "HbGDaQzgSr7y",
        "outputId": "c16c7bef-ce6f-4810-af3f-2e97855ea409"
      },
      "source": [
        "device = torch.device(\"cuda\" if torch.cuda.is_available() else \"cpu\")\n",
        "device"
      ],
      "execution_count": 39,
      "outputs": [
        {
          "output_type": "execute_result",
          "data": {
            "text/plain": [
              "device(type='cuda')"
            ]
          },
          "metadata": {},
          "execution_count": 39
        }
      ]
    },
    {
      "cell_type": "markdown",
      "metadata": {
        "id": "ObdD3c7cVo0e"
      },
      "source": [
        "## Define loss functions"
      ]
    },
    {
      "cell_type": "code",
      "metadata": {
        "id": "1VNeSqUjnh1J"
      },
      "source": [
        "def mase(pred, actual, *args):\n",
        "    divs, *_ = args\n",
        "    return torch.div(nn.functional.l1_loss(pred, actual, reduction=\"none\").sum(1), divs).mean()\n",
        "\n",
        "def smape(pred, actual, *args):\n",
        "    *_, h = args\n",
        "    return 200 * torch.div(((pred - actual).abs() / (pred.abs() + actual.abs() + 1e-40)).sum(1), h).mean()\n",
        "\n",
        "def owa(pred, actual, *args):\n",
        "    _, n_smape, n_mase, __ = args\n",
        "    return 0.5*(torch.div(smape(pred, actual, *args), n_smape.mean()) + torch.div(mase(pred, actual, *args), n_mase.mean()))\n",
        "\n",
        "class NoneScheduler:\n",
        "    def __init__(self, *args, **kwargs):\n",
        "        pass\n",
        "    \n",
        "    def step(self):\n",
        "        pass\n",
        "\n",
        "activations = {\n",
        "    \"relu\": nn.ReLU, \n",
        "    \"elu\": nn.ELU, \n",
        "    \"leaky\": nn.LeakyReLU, \n",
        "}\n",
        "\n",
        "optimizers = {\n",
        "    \"adam\": torch.optim.Adam,\n",
        "    \"sgd\": torch.optim.SGD,\n",
        "    \"adamw\": torch.optim.AdamW,\n",
        "}\n",
        "\n",
        "loss_functions = {\n",
        "    \"smape\": smape,\n",
        "    \"mse\": nn.MSELoss().to(device),\n",
        "    \"mase\": mase,\n",
        "    \"owa\": owa,\n",
        "}\n",
        "\n",
        "schedulers = {\n",
        "    \"onecyclelr\": optim.lr_scheduler.OneCycleLR,\n",
        "    None: NoneScheduler\n",
        "}\n",
        "\n",
        "scalers = {\n",
        "    \"minmax\": MinMaxScaler(feature_range=(-1,1)),\n",
        "    \"standard\": StandardScaler(),\n",
        "}"
      ],
      "execution_count": 40,
      "outputs": []
    },
    {
      "cell_type": "markdown",
      "metadata": {
        "id": "FllsF0c6IEIq"
      },
      "source": [
        "#Build net"
      ]
    },
    {
      "cell_type": "code",
      "metadata": {
        "id": "lZr84jKdIsVk"
      },
      "source": [
        "class WeightNet(nn.Module):\n",
        "\n",
        "    def __init__(self, num_cont, out_size, n_hidden, hidden_dim, dropout, bn, activation, emb_dims):\n",
        "        super().__init__()\n",
        "\n",
        "        self.embeddings = nn.ModuleList([nn.Embedding(x, y) for x, y in emb_dims])\n",
        "        self.num_embs = sum([y for x, y in emb_dims])\n",
        "        self.num_cont = num_cont\n",
        "\n",
        "        layers = [nn.Linear(self.num_embs + self.num_cont, hidden_dim)]\n",
        "\n",
        "        self.first_bn = nn.BatchNorm1d(self.num_cont)\n",
        "\n",
        "        for i in range(n_hidden):\n",
        "            layers.extend(\n",
        "                [nn.Dropout(p=dropout)]\n",
        "                +[nn.BatchNorm1d(hidden_dim)] if bn else []\n",
        "                +[activations[activation]()]\n",
        "            )\n",
        "            if i == (n_hidden - 1):\n",
        "                layers.append(nn.Linear(hidden_dim, out_size))\n",
        "            else:\n",
        "                layers.append(nn.Linear(hidden_dim, hidden_dim))\n",
        "\n",
        "        self.fc = nn.Sequential(*layers)\n",
        "        self.softmax = nn.Softmax(dim=1)\n",
        "\n",
        "    def forward(self, cat, cont):\n",
        "        x = [emb(cat[:, i]) for i, emb in enumerate(self.embeddings)]\n",
        "        x = torch.cat(x, 1)\n",
        "\n",
        "        cont = self.first_bn(cont)\n",
        "        \n",
        "        x = torch.cat([x, cont], 1) \n",
        "        x = self.fc(x)\n",
        "        x = self.softmax(x)\n",
        "        return x"
      ],
      "execution_count": 41,
      "outputs": []
    },
    {
      "cell_type": "markdown",
      "metadata": {
        "id": "FhZaI8E_IGcJ"
      },
      "source": [
        "#Create training loop"
      ]
    },
    {
      "cell_type": "markdown",
      "metadata": {
        "id": "yboW4zVraNz7"
      },
      "source": [
        "## Feature extractor\n",
        "Load the training dataframe of size 90,000 x 527"
      ]
    },
    {
      "cell_type": "code",
      "metadata": {
        "id": "2FNQINPvmWXl"
      },
      "source": [
        " def feature_extractor(df, manual_auto_tp_toggle, normalization, n_models):\n",
        "     \n",
        "    batch_size = df.shape[0]\n",
        "    idxs = df.index.to_numpy()\n",
        "\n",
        "    #Get forecasts\n",
        "    forecasts = df.loc[:, \"auto_arima_forec_0\":\"quant_99_reg_47\"]\n",
        "\n",
        "    #Get feature inputs \n",
        "    if manual_auto_tp_toggle == \"\":\n",
        "        raise Exception(\"Manual_or_auto_toggle needs to cointain either m or a for input to be non-empty\")\n",
        "\n",
        "\n",
        "    inputs_start = \"x_acf1\" if \"m\" in manual_auto_tp_toggle.lower() else \"lstm_0\"\n",
        "    inputs_end = \"lstm_31\" if \"a\" in manual_auto_tp_toggle.lower() else \"series_length\"\n",
        "    \n",
        "    inputs = df.loc[:, inputs_start:inputs_end]\n",
        "    \n",
        "    inputs_cat = df.loc[:, ['type', 'period']].astype(\"category\")\n",
        "    emb_dims = [(x, min(x // 2, 50)) for x in map(lambda y: len(inputs_cat[y].cat.categories), inputs_cat)]\n",
        "    \n",
        "    for col in inputs_cat:\n",
        "        inputs_cat[col] = inputs_cat[col].cat.codes\n",
        "\n",
        "    inputs_cat = torch.as_tensor(inputs_cat.to_numpy(), dtype=torch.long)\n",
        "\n",
        "    scaler = scalers[normalization]\n",
        "    inputs_normalized = scaler.fit_transform(inputs.to_numpy())\n",
        "\n",
        "    #Get actuals \n",
        "    actuals = df.loc[:, \"actual_0\":\"actual_47\"].to_numpy()\n",
        "    forecasts = forecasts.to_numpy().reshape((batch_size, n_models, 48)).swapaxes(1, 2)\n",
        "\n",
        "    return (inputs_cat, emb_dims), inputs_normalized, forecasts, actuals"
      ],
      "execution_count": 42,
      "outputs": []
    },
    {
      "cell_type": "markdown",
      "metadata": {
        "id": "1gr3144xh25N"
      },
      "source": [
        "## Dataset"
      ]
    },
    {
      "cell_type": "code",
      "metadata": {
        "id": "5nUjLCeqpPOQ"
      },
      "source": [
        "class M4Data(Dataset):\n",
        "    \n",
        "    def __init__(self, meta_path, loss_path, manual_or_auto_toggle, n_models, type_of_normalization=\"standard\"):\n",
        "        meta_df = pd.read_feather(meta_path).set_index(\"index\").replace(np.nan, 0)\n",
        "        loss_df = pd.read_feather(loss_path).set_index(\"st\").loc[meta_df.index]\n",
        "\n",
        "        self.h = meta_df[\"h\"].astype(np.int16)\n",
        "        self.divs = loss_df[\"mase_divisor\"]\n",
        "        self.n_smape = loss_df[\"naive2_smape\"]\n",
        "        self.n_mase = loss_df[\"naive2_mase\"]\n",
        "\n",
        "        self.index = meta_df.index.values\n",
        "        self.length = meta_df.shape[0]\n",
        "  \n",
        "        (self.cats, emb_dims), self.input, self.forecast, self.actuals = feature_extractor(meta_df, manual_or_auto_toggle, type_of_normalization, n_models)\n",
        "\n",
        "        self.num_cont = self.input.shape[1]\n",
        "        self.emb_dims = emb_dims\n",
        "\n",
        "    def __len__(self):\n",
        "        return self.length\n",
        "    \n",
        "    def __getitem__(self, idx):\n",
        "        return self.cats[idx], self.input[idx], self.forecast[idx], self.actuals[idx], self.divs[idx], self.n_smape[idx], self.n_mase[idx], self.h[idx]"
      ],
      "execution_count": 43,
      "outputs": []
    },
    {
      "cell_type": "code",
      "metadata": {
        "id": "4Z3BeYoaqwLL"
      },
      "source": [
        "def get_dataloaders(train_path, val_path, loss_train_path, loss_val_path, batch_size, manual_or_auto_toggle, n_models, normalize=\"standard\"):\n",
        "    \n",
        "    cpus = cpu_count()\n",
        "    print(f\"CPU count: {cpus}\")\n",
        "    train_data = M4Data(train_path, loss_train_path, manual_or_auto_toggle, n_models, normalize)\n",
        "    val_data = M4Data(val_path, loss_val_path, manual_or_auto_toggle, n_models, normalize)\n",
        "\n",
        "    train_loader = DataLoader(train_data, batch_size=batch_size, shuffle=True, num_workers=cpus, drop_last=True)\n",
        "    val_loader = DataLoader(val_data, batch_size=batch_size, shuffle=False, num_workers=cpus)\n",
        "\n",
        "    return train_loader, val_loader, train_data.emb_dims, train_data.num_cont, train_data.length"
      ],
      "execution_count": 44,
      "outputs": []
    },
    {
      "cell_type": "markdown",
      "metadata": {
        "id": "OJJhNFTgq2YF"
      },
      "source": [
        "## Training loop"
      ]
    },
    {
      "cell_type": "code",
      "metadata": {
        "id": "HafRiXtVZ80M"
      },
      "source": [
        "def train_model(model, train_loader, val_loader, num_examples, conf):    \n",
        "    batch_size = conf.batch_size\n",
        "\n",
        "    optimizer = optimizers[conf.optimizer](model.parameters(), lr=conf.learning_rate, weight_decay=conf.weight_decay)\n",
        "    scheduler = schedulers[conf.schedule](\n",
        "        optimizer, conf.learning_rate,\n",
        "        epochs=conf.epochs,\n",
        "        steps_per_epoch=math.ceil(num_examples / batch_size),\n",
        "    )\n",
        "\n",
        "    loss_func = loss_functions[conf.loss_func]\n",
        "    train_loss_plot = []\n",
        "    val_loss_plot = []\n",
        "    it = tqdm(range(1, conf.epochs+1))\n",
        "    \n",
        "    best_loss = float(\"inf\")\n",
        "    step = 0\n",
        "\n",
        "    for epoch in it:\n",
        "\n",
        "        #Each epoch has a training and validation phase\n",
        "        train_losses = []\n",
        "        val_losses = []\n",
        "        for phase in ['train','val']:\n",
        "            if phase == 'train':\n",
        "                model.train()  # Set model to training mode\n",
        "                batches = train_loader\n",
        "            else:\n",
        "                model.eval()  # Set model to evaluate mode\n",
        "                batches = val_loader\n",
        "            for i, tensors in enumerate(batches):\n",
        "                cats, inputs, forecasts, actuals, *loss_args = map(lambda x: x.to(device), tensors)\n",
        "                optimizer.zero_grad()\n",
        "\n",
        "                y_pred = model(cats, inputs).unsqueeze(2)\n",
        "\n",
        "                prediction = torch.matmul(forecasts, y_pred).squeeze(2)\n",
        "                loss = loss_func(prediction, actuals, *loss_args)\n",
        "                if phase == 'train':\n",
        "                    train_losses.append(loss.item())\n",
        "                    loss.backward()\n",
        "\n",
        "                    optimizer.step()\n",
        "                    scheduler.step()\n",
        "                    \n",
        "                    step += 1\n",
        "                else:\n",
        "                    val_losses.append(loss.item())\n",
        "\n",
        "        train_loss = np.mean(train_losses)\n",
        "        val_loss = np.mean(val_losses)\n",
        "\n",
        "        if val_loss < best_loss: \n",
        "            best_loss = val_loss\n",
        "            best_model_wts = copy.deepcopy(model.state_dict())\n",
        "\n",
        "            filepath = \"model.torch\"\n",
        "            torch.save(best_model_wts, filepath)\n",
        "            wandb.save(filepath)\n",
        "\n",
        "        train_mean = np.mean(train_loss)\n",
        "        val_mean = np.mean(val_loss)\n",
        "        wandb.log({\"train_loss\": train_loss, \"val_loss\": val_loss, \"epoch\": epoch, \"best_loss\": best_loss, \"n_examples\":batch_size*step, \"lr\": optimizer.param_groups[0][\"lr\"]}, step=step)\n",
        "        it.set_postfix({\"train_loss\": train_mean, \"val_loss\": val_mean, \"best_loss\": best_loss, \"lr\": f'{optimizer.param_groups[0][\"lr\"]:.2e}'})\n",
        "        \n",
        "        train_loss_plot.append(train_mean)\n",
        "        val_loss_plot.append(val_mean)\n",
        "\n",
        "    model.load_state_dict(best_model_wts)\n",
        "    return model.eval()"
      ],
      "execution_count": 45,
      "outputs": []
    },
    {
      "cell_type": "markdown",
      "metadata": {
        "id": "h7-FhB-RV27-"
      },
      "source": [
        "##Begin training"
      ]
    },
    {
      "cell_type": "code",
      "metadata": {
        "id": "RXNHySSwjXyY"
      },
      "source": [
        "def train(config=None, project=None, entity=None, enablewb=True):\n",
        "    mode = \"online\" if enablewb else \"disabled\"\n",
        "    config = config if config is not None else defaultconfig\n",
        "    with wandb.init(config=config, project=project, entity=entity, job_type=\"training\", mode=mode) as run:\n",
        "        confdict = {**config, **wandb.config}\n",
        "        conf = namedtuple(\"Config\", confdict.keys())(*confdict.values())\n",
        "        print(conf)\n",
        "\n",
        "        train_path = ROOT / 'Data/Meta/m4_meta_am_train_14m.feather'\n",
        "        val_path = ROOT / 'Data/Meta/m4_meta_am_val_14m.feather'\n",
        "        loss_train_path = ROOT / 'Data/loss_functions/loss_func_train.feather'\n",
        "        loss_val_path = ROOT / 'Data/loss_functions/loss_func_val.feather'\n",
        "\n",
        "        (train_loader,\n",
        "         val_loader,\n",
        "         emb_dims,\n",
        "         num_cont,\n",
        "         num_examples) = get_dataloaders(train_path,val_path,\n",
        "                                         loss_train_path, loss_val_path,\n",
        "                                         conf.batch_size, conf.manual_or_auto_toggle,\n",
        "                                         conf.num_models, conf.normalize_data)\n",
        "\n",
        "        model = WeightNet(\n",
        "            num_cont=num_cont,\n",
        "            out_size=conf.num_models,\n",
        "            n_hidden=conf.n_hidden,\n",
        "            hidden_dim=conf.hidden_dim,\n",
        "            dropout=conf.dropout,\n",
        "            bn=conf.bn,\n",
        "            activation=conf.act,\n",
        "            emb_dims=emb_dims,\n",
        "        )\n",
        "\n",
        "        print(f\"Moving model to device: {device}\")\n",
        "        model = model.to(device)\n",
        "\n",
        "        model = train_model(\n",
        "            model,\n",
        "            train_loader,\n",
        "            val_loader,\n",
        "            num_examples,\n",
        "            conf=conf,\n",
        "        )\n",
        "    return model\n",
        "    "
      ],
      "execution_count": 46,
      "outputs": []
    },
    {
      "cell_type": "markdown",
      "metadata": {
        "id": "txgaemzlh9DO"
      },
      "source": [
        "## Run config"
      ]
    },
    {
      "cell_type": "code",
      "metadata": {
        "id": "MyJs3OK-iAxs"
      },
      "source": [
        "defaultconfig = dict(\n",
        "    epochs=500,\n",
        "    hidden_dim=512,\n",
        "    learning_rate=2e-3,\n",
        "    architecture=\"weight_net_v04\",\n",
        "    batch_size=2048,\n",
        "    optimizer=\"adamw\",\n",
        "    loss_func=\"owa\",\n",
        "    dropout=0.6,\n",
        "    manual_or_auto_toggle=\"ma\",\n",
        "    normalize_data=\"standard\",\n",
        "    weight_decay=0.05,\n",
        "    act=\"relu\",\n",
        "    bn=False,\n",
        "    n_hidden=3,\n",
        "    num_models=14,\n",
        "    schedule=None,\n",
        "    categorical_vars=True,\n",
        "    meta_vars=True,\n",
        ")"
      ],
      "execution_count": 47,
      "outputs": []
    },
    {
      "cell_type": "markdown",
      "metadata": {
        "id": "JnxXZCSOiCnW"
      },
      "source": [
        "## Start run"
      ]
    },
    {
      "cell_type": "code",
      "metadata": {
        "colab": {
          "base_uri": "https://localhost:8080/",
          "height": 434
        },
        "id": "wE0qbeQFwyk0",
        "outputId": "fc90b0ee-d924-4973-bf30-6525af4f3b9c"
      },
      "source": [
        "sweep = False\n",
        "\n",
        "if sweep:\n",
        "    count = 500 # number of runs to execute\n",
        "    wandb.agent(\"krankile/weight-net/qvmej9jx\", function=train, count=count)\n",
        "else:\n",
        "    train(config=defaultconfig, project=\"weight-net\", entity=\"Krankile\", enablewb=False)"
      ],
      "execution_count": 48,
      "outputs": [
        {
          "output_type": "stream",
          "name": "stdout",
          "text": [
            "Config(epochs=500, hidden_dim=512, learning_rate=0.002, architecture='weight_net_v04', batch_size=2048, optimizer='adamw', loss_func='owa', dropout=0.6, manual_or_auto_toggle='ma', normalize_data='standard', weight_decay=0.05, act='relu', bn=False, n_hidden=3, num_models=14, schedule=None, categorical_vars=True, meta_vars=True)\n",
            "CPU count: 2\n",
            "Moving model to device: cuda\n"
          ]
        },
        {
          "output_type": "stream",
          "name": "stderr",
          "text": [
            "  2%|▏         | 8/500 [00:42<43:14,  5.27s/it, train_loss=0.763, val_loss=0.796, best_loss=0.793, lr=2.00e-03]\n"
          ]
        },
        {
          "output_type": "error",
          "ename": "KeyboardInterrupt",
          "evalue": "ignored",
          "traceback": [
            "\u001b[0;31m---------------------------------------------------------------------------\u001b[0m",
            "\u001b[0;31mKeyboardInterrupt\u001b[0m                         Traceback (most recent call last)",
            "\u001b[0;32m<ipython-input-48-5f1bb60a90df>\u001b[0m in \u001b[0;36m<module>\u001b[0;34m()\u001b[0m\n\u001b[1;32m      5\u001b[0m     \u001b[0mwandb\u001b[0m\u001b[0;34m.\u001b[0m\u001b[0magent\u001b[0m\u001b[0;34m(\u001b[0m\u001b[0;34m\"krankile/weight-net/n7140nxz\"\u001b[0m\u001b[0;34m,\u001b[0m \u001b[0mfunction\u001b[0m\u001b[0;34m=\u001b[0m\u001b[0mtrain\u001b[0m\u001b[0;34m,\u001b[0m \u001b[0mcount\u001b[0m\u001b[0;34m=\u001b[0m\u001b[0mcount\u001b[0m\u001b[0;34m)\u001b[0m\u001b[0;34m\u001b[0m\u001b[0;34m\u001b[0m\u001b[0m\n\u001b[1;32m      6\u001b[0m \u001b[0;32melse\u001b[0m\u001b[0;34m:\u001b[0m\u001b[0;34m\u001b[0m\u001b[0;34m\u001b[0m\u001b[0m\n\u001b[0;32m----> 7\u001b[0;31m     \u001b[0mtrain\u001b[0m\u001b[0;34m(\u001b[0m\u001b[0mconfig\u001b[0m\u001b[0;34m=\u001b[0m\u001b[0mdefaultconfig\u001b[0m\u001b[0;34m,\u001b[0m \u001b[0mproject\u001b[0m\u001b[0;34m=\u001b[0m\u001b[0;34m\"weight-net\"\u001b[0m\u001b[0;34m,\u001b[0m \u001b[0mentity\u001b[0m\u001b[0;34m=\u001b[0m\u001b[0;34m\"Krankile\"\u001b[0m\u001b[0;34m,\u001b[0m \u001b[0menablewb\u001b[0m\u001b[0;34m=\u001b[0m\u001b[0;32mFalse\u001b[0m\u001b[0;34m)\u001b[0m\u001b[0;34m\u001b[0m\u001b[0;34m\u001b[0m\u001b[0m\n\u001b[0m",
            "\u001b[0;32m<ipython-input-46-f34a968578be>\u001b[0m in \u001b[0;36mtrain\u001b[0;34m(config, project, entity, enablewb)\u001b[0m\n\u001b[1;32m     40\u001b[0m             \u001b[0mval_loader\u001b[0m\u001b[0;34m,\u001b[0m\u001b[0;34m\u001b[0m\u001b[0;34m\u001b[0m\u001b[0m\n\u001b[1;32m     41\u001b[0m             \u001b[0mnum_examples\u001b[0m\u001b[0;34m,\u001b[0m\u001b[0;34m\u001b[0m\u001b[0;34m\u001b[0m\u001b[0m\n\u001b[0;32m---> 42\u001b[0;31m             \u001b[0mconf\u001b[0m\u001b[0;34m=\u001b[0m\u001b[0mconf\u001b[0m\u001b[0;34m,\u001b[0m\u001b[0;34m\u001b[0m\u001b[0;34m\u001b[0m\u001b[0m\n\u001b[0m\u001b[1;32m     43\u001b[0m         )\n\u001b[1;32m     44\u001b[0m     \u001b[0;32mreturn\u001b[0m \u001b[0mmodel\u001b[0m\u001b[0;34m\u001b[0m\u001b[0;34m\u001b[0m\u001b[0m\n",
            "\u001b[0;32m<ipython-input-45-416aea44eabd>\u001b[0m in \u001b[0;36mtrain_model\u001b[0;34m(model, train_loader, val_loader, num_examples, conf)\u001b[0m\n\u001b[1;32m     29\u001b[0m                 \u001b[0mmodel\u001b[0m\u001b[0;34m.\u001b[0m\u001b[0meval\u001b[0m\u001b[0;34m(\u001b[0m\u001b[0;34m)\u001b[0m  \u001b[0;31m# Set model to evaluate mode\u001b[0m\u001b[0;34m\u001b[0m\u001b[0;34m\u001b[0m\u001b[0m\n\u001b[1;32m     30\u001b[0m                 \u001b[0mbatches\u001b[0m \u001b[0;34m=\u001b[0m \u001b[0mval_loader\u001b[0m\u001b[0;34m\u001b[0m\u001b[0;34m\u001b[0m\u001b[0m\n\u001b[0;32m---> 31\u001b[0;31m             \u001b[0;32mfor\u001b[0m \u001b[0mi\u001b[0m\u001b[0;34m,\u001b[0m \u001b[0mtensors\u001b[0m \u001b[0;32min\u001b[0m \u001b[0menumerate\u001b[0m\u001b[0;34m(\u001b[0m\u001b[0mbatches\u001b[0m\u001b[0;34m)\u001b[0m\u001b[0;34m:\u001b[0m\u001b[0;34m\u001b[0m\u001b[0;34m\u001b[0m\u001b[0m\n\u001b[0m\u001b[1;32m     32\u001b[0m                 \u001b[0mcats\u001b[0m\u001b[0;34m,\u001b[0m \u001b[0minputs\u001b[0m\u001b[0;34m,\u001b[0m \u001b[0mforecasts\u001b[0m\u001b[0;34m,\u001b[0m \u001b[0mactuals\u001b[0m\u001b[0;34m,\u001b[0m \u001b[0;34m*\u001b[0m\u001b[0mloss_args\u001b[0m \u001b[0;34m=\u001b[0m \u001b[0mmap\u001b[0m\u001b[0;34m(\u001b[0m\u001b[0;32mlambda\u001b[0m \u001b[0mx\u001b[0m\u001b[0;34m:\u001b[0m \u001b[0mx\u001b[0m\u001b[0;34m.\u001b[0m\u001b[0mto\u001b[0m\u001b[0;34m(\u001b[0m\u001b[0mdevice\u001b[0m\u001b[0;34m)\u001b[0m\u001b[0;34m,\u001b[0m \u001b[0mtensors\u001b[0m\u001b[0;34m)\u001b[0m\u001b[0;34m\u001b[0m\u001b[0;34m\u001b[0m\u001b[0m\n\u001b[1;32m     33\u001b[0m                 \u001b[0moptimizer\u001b[0m\u001b[0;34m.\u001b[0m\u001b[0mzero_grad\u001b[0m\u001b[0;34m(\u001b[0m\u001b[0;34m)\u001b[0m\u001b[0;34m\u001b[0m\u001b[0;34m\u001b[0m\u001b[0m\n",
            "\u001b[0;32m/usr/local/lib/python3.7/dist-packages/torch/utils/data/dataloader.py\u001b[0m in \u001b[0;36m__next__\u001b[0;34m(self)\u001b[0m\n\u001b[1;32m    519\u001b[0m             \u001b[0;32mif\u001b[0m \u001b[0mself\u001b[0m\u001b[0;34m.\u001b[0m\u001b[0m_sampler_iter\u001b[0m \u001b[0;32mis\u001b[0m \u001b[0;32mNone\u001b[0m\u001b[0;34m:\u001b[0m\u001b[0;34m\u001b[0m\u001b[0;34m\u001b[0m\u001b[0m\n\u001b[1;32m    520\u001b[0m                 \u001b[0mself\u001b[0m\u001b[0;34m.\u001b[0m\u001b[0m_reset\u001b[0m\u001b[0;34m(\u001b[0m\u001b[0;34m)\u001b[0m\u001b[0;34m\u001b[0m\u001b[0;34m\u001b[0m\u001b[0m\n\u001b[0;32m--> 521\u001b[0;31m             \u001b[0mdata\u001b[0m \u001b[0;34m=\u001b[0m \u001b[0mself\u001b[0m\u001b[0;34m.\u001b[0m\u001b[0m_next_data\u001b[0m\u001b[0;34m(\u001b[0m\u001b[0;34m)\u001b[0m\u001b[0;34m\u001b[0m\u001b[0;34m\u001b[0m\u001b[0m\n\u001b[0m\u001b[1;32m    522\u001b[0m             \u001b[0mself\u001b[0m\u001b[0;34m.\u001b[0m\u001b[0m_num_yielded\u001b[0m \u001b[0;34m+=\u001b[0m \u001b[0;36m1\u001b[0m\u001b[0;34m\u001b[0m\u001b[0;34m\u001b[0m\u001b[0m\n\u001b[1;32m    523\u001b[0m             \u001b[0;32mif\u001b[0m \u001b[0mself\u001b[0m\u001b[0;34m.\u001b[0m\u001b[0m_dataset_kind\u001b[0m \u001b[0;34m==\u001b[0m \u001b[0m_DatasetKind\u001b[0m\u001b[0;34m.\u001b[0m\u001b[0mIterable\u001b[0m \u001b[0;32mand\u001b[0m\u001b[0;31m \u001b[0m\u001b[0;31m\\\u001b[0m\u001b[0;34m\u001b[0m\u001b[0;34m\u001b[0m\u001b[0m\n",
            "\u001b[0;32m/usr/local/lib/python3.7/dist-packages/torch/utils/data/dataloader.py\u001b[0m in \u001b[0;36m_next_data\u001b[0;34m(self)\u001b[0m\n\u001b[1;32m   1184\u001b[0m \u001b[0;34m\u001b[0m\u001b[0m\n\u001b[1;32m   1185\u001b[0m             \u001b[0;32massert\u001b[0m \u001b[0;32mnot\u001b[0m \u001b[0mself\u001b[0m\u001b[0;34m.\u001b[0m\u001b[0m_shutdown\u001b[0m \u001b[0;32mand\u001b[0m \u001b[0mself\u001b[0m\u001b[0;34m.\u001b[0m\u001b[0m_tasks_outstanding\u001b[0m \u001b[0;34m>\u001b[0m \u001b[0;36m0\u001b[0m\u001b[0;34m\u001b[0m\u001b[0;34m\u001b[0m\u001b[0m\n\u001b[0;32m-> 1186\u001b[0;31m             \u001b[0midx\u001b[0m\u001b[0;34m,\u001b[0m \u001b[0mdata\u001b[0m \u001b[0;34m=\u001b[0m \u001b[0mself\u001b[0m\u001b[0;34m.\u001b[0m\u001b[0m_get_data\u001b[0m\u001b[0;34m(\u001b[0m\u001b[0;34m)\u001b[0m\u001b[0;34m\u001b[0m\u001b[0;34m\u001b[0m\u001b[0m\n\u001b[0m\u001b[1;32m   1187\u001b[0m             \u001b[0mself\u001b[0m\u001b[0;34m.\u001b[0m\u001b[0m_tasks_outstanding\u001b[0m \u001b[0;34m-=\u001b[0m \u001b[0;36m1\u001b[0m\u001b[0;34m\u001b[0m\u001b[0;34m\u001b[0m\u001b[0m\n\u001b[1;32m   1188\u001b[0m             \u001b[0;32mif\u001b[0m \u001b[0mself\u001b[0m\u001b[0;34m.\u001b[0m\u001b[0m_dataset_kind\u001b[0m \u001b[0;34m==\u001b[0m \u001b[0m_DatasetKind\u001b[0m\u001b[0;34m.\u001b[0m\u001b[0mIterable\u001b[0m\u001b[0;34m:\u001b[0m\u001b[0;34m\u001b[0m\u001b[0;34m\u001b[0m\u001b[0m\n",
            "\u001b[0;32m/usr/local/lib/python3.7/dist-packages/torch/utils/data/dataloader.py\u001b[0m in \u001b[0;36m_get_data\u001b[0;34m(self)\u001b[0m\n\u001b[1;32m   1150\u001b[0m         \u001b[0;32melse\u001b[0m\u001b[0;34m:\u001b[0m\u001b[0;34m\u001b[0m\u001b[0;34m\u001b[0m\u001b[0m\n\u001b[1;32m   1151\u001b[0m             \u001b[0;32mwhile\u001b[0m \u001b[0;32mTrue\u001b[0m\u001b[0;34m:\u001b[0m\u001b[0;34m\u001b[0m\u001b[0;34m\u001b[0m\u001b[0m\n\u001b[0;32m-> 1152\u001b[0;31m                 \u001b[0msuccess\u001b[0m\u001b[0;34m,\u001b[0m \u001b[0mdata\u001b[0m \u001b[0;34m=\u001b[0m \u001b[0mself\u001b[0m\u001b[0;34m.\u001b[0m\u001b[0m_try_get_data\u001b[0m\u001b[0;34m(\u001b[0m\u001b[0;34m)\u001b[0m\u001b[0;34m\u001b[0m\u001b[0;34m\u001b[0m\u001b[0m\n\u001b[0m\u001b[1;32m   1153\u001b[0m                 \u001b[0;32mif\u001b[0m \u001b[0msuccess\u001b[0m\u001b[0;34m:\u001b[0m\u001b[0;34m\u001b[0m\u001b[0;34m\u001b[0m\u001b[0m\n\u001b[1;32m   1154\u001b[0m                     \u001b[0;32mreturn\u001b[0m \u001b[0mdata\u001b[0m\u001b[0;34m\u001b[0m\u001b[0;34m\u001b[0m\u001b[0m\n",
            "\u001b[0;32m/usr/local/lib/python3.7/dist-packages/torch/utils/data/dataloader.py\u001b[0m in \u001b[0;36m_try_get_data\u001b[0;34m(self, timeout)\u001b[0m\n\u001b[1;32m    988\u001b[0m         \u001b[0;31m#   (bool: whether successfully get data, any: data if successful else None)\u001b[0m\u001b[0;34m\u001b[0m\u001b[0;34m\u001b[0m\u001b[0;34m\u001b[0m\u001b[0m\n\u001b[1;32m    989\u001b[0m         \u001b[0;32mtry\u001b[0m\u001b[0;34m:\u001b[0m\u001b[0;34m\u001b[0m\u001b[0;34m\u001b[0m\u001b[0m\n\u001b[0;32m--> 990\u001b[0;31m             \u001b[0mdata\u001b[0m \u001b[0;34m=\u001b[0m \u001b[0mself\u001b[0m\u001b[0;34m.\u001b[0m\u001b[0m_data_queue\u001b[0m\u001b[0;34m.\u001b[0m\u001b[0mget\u001b[0m\u001b[0;34m(\u001b[0m\u001b[0mtimeout\u001b[0m\u001b[0;34m=\u001b[0m\u001b[0mtimeout\u001b[0m\u001b[0;34m)\u001b[0m\u001b[0;34m\u001b[0m\u001b[0;34m\u001b[0m\u001b[0m\n\u001b[0m\u001b[1;32m    991\u001b[0m             \u001b[0;32mreturn\u001b[0m \u001b[0;34m(\u001b[0m\u001b[0;32mTrue\u001b[0m\u001b[0;34m,\u001b[0m \u001b[0mdata\u001b[0m\u001b[0;34m)\u001b[0m\u001b[0;34m\u001b[0m\u001b[0;34m\u001b[0m\u001b[0m\n\u001b[1;32m    992\u001b[0m         \u001b[0;32mexcept\u001b[0m \u001b[0mException\u001b[0m \u001b[0;32mas\u001b[0m \u001b[0me\u001b[0m\u001b[0;34m:\u001b[0m\u001b[0;34m\u001b[0m\u001b[0;34m\u001b[0m\u001b[0m\n",
            "\u001b[0;32m/usr/lib/python3.7/multiprocessing/queues.py\u001b[0m in \u001b[0;36mget\u001b[0;34m(self, block, timeout)\u001b[0m\n\u001b[1;32m    102\u001b[0m                 \u001b[0;32mif\u001b[0m \u001b[0mblock\u001b[0m\u001b[0;34m:\u001b[0m\u001b[0;34m\u001b[0m\u001b[0;34m\u001b[0m\u001b[0m\n\u001b[1;32m    103\u001b[0m                     \u001b[0mtimeout\u001b[0m \u001b[0;34m=\u001b[0m \u001b[0mdeadline\u001b[0m \u001b[0;34m-\u001b[0m \u001b[0mtime\u001b[0m\u001b[0;34m.\u001b[0m\u001b[0mmonotonic\u001b[0m\u001b[0;34m(\u001b[0m\u001b[0;34m)\u001b[0m\u001b[0;34m\u001b[0m\u001b[0;34m\u001b[0m\u001b[0m\n\u001b[0;32m--> 104\u001b[0;31m                     \u001b[0;32mif\u001b[0m \u001b[0;32mnot\u001b[0m \u001b[0mself\u001b[0m\u001b[0;34m.\u001b[0m\u001b[0m_poll\u001b[0m\u001b[0;34m(\u001b[0m\u001b[0mtimeout\u001b[0m\u001b[0;34m)\u001b[0m\u001b[0;34m:\u001b[0m\u001b[0;34m\u001b[0m\u001b[0;34m\u001b[0m\u001b[0m\n\u001b[0m\u001b[1;32m    105\u001b[0m                         \u001b[0;32mraise\u001b[0m \u001b[0mEmpty\u001b[0m\u001b[0;34m\u001b[0m\u001b[0;34m\u001b[0m\u001b[0m\n\u001b[1;32m    106\u001b[0m                 \u001b[0;32melif\u001b[0m \u001b[0;32mnot\u001b[0m \u001b[0mself\u001b[0m\u001b[0;34m.\u001b[0m\u001b[0m_poll\u001b[0m\u001b[0;34m(\u001b[0m\u001b[0;34m)\u001b[0m\u001b[0;34m:\u001b[0m\u001b[0;34m\u001b[0m\u001b[0;34m\u001b[0m\u001b[0m\n",
            "\u001b[0;32m/usr/lib/python3.7/multiprocessing/connection.py\u001b[0m in \u001b[0;36mpoll\u001b[0;34m(self, timeout)\u001b[0m\n\u001b[1;32m    255\u001b[0m         \u001b[0mself\u001b[0m\u001b[0;34m.\u001b[0m\u001b[0m_check_closed\u001b[0m\u001b[0;34m(\u001b[0m\u001b[0;34m)\u001b[0m\u001b[0;34m\u001b[0m\u001b[0;34m\u001b[0m\u001b[0m\n\u001b[1;32m    256\u001b[0m         \u001b[0mself\u001b[0m\u001b[0;34m.\u001b[0m\u001b[0m_check_readable\u001b[0m\u001b[0;34m(\u001b[0m\u001b[0;34m)\u001b[0m\u001b[0;34m\u001b[0m\u001b[0;34m\u001b[0m\u001b[0m\n\u001b[0;32m--> 257\u001b[0;31m         \u001b[0;32mreturn\u001b[0m \u001b[0mself\u001b[0m\u001b[0;34m.\u001b[0m\u001b[0m_poll\u001b[0m\u001b[0;34m(\u001b[0m\u001b[0mtimeout\u001b[0m\u001b[0;34m)\u001b[0m\u001b[0;34m\u001b[0m\u001b[0;34m\u001b[0m\u001b[0m\n\u001b[0m\u001b[1;32m    258\u001b[0m \u001b[0;34m\u001b[0m\u001b[0m\n\u001b[1;32m    259\u001b[0m     \u001b[0;32mdef\u001b[0m \u001b[0m__enter__\u001b[0m\u001b[0;34m(\u001b[0m\u001b[0mself\u001b[0m\u001b[0;34m)\u001b[0m\u001b[0;34m:\u001b[0m\u001b[0;34m\u001b[0m\u001b[0;34m\u001b[0m\u001b[0m\n",
            "\u001b[0;32m/usr/lib/python3.7/multiprocessing/connection.py\u001b[0m in \u001b[0;36m_poll\u001b[0;34m(self, timeout)\u001b[0m\n\u001b[1;32m    412\u001b[0m \u001b[0;34m\u001b[0m\u001b[0m\n\u001b[1;32m    413\u001b[0m     \u001b[0;32mdef\u001b[0m \u001b[0m_poll\u001b[0m\u001b[0;34m(\u001b[0m\u001b[0mself\u001b[0m\u001b[0;34m,\u001b[0m \u001b[0mtimeout\u001b[0m\u001b[0;34m)\u001b[0m\u001b[0;34m:\u001b[0m\u001b[0;34m\u001b[0m\u001b[0;34m\u001b[0m\u001b[0m\n\u001b[0;32m--> 414\u001b[0;31m         \u001b[0mr\u001b[0m \u001b[0;34m=\u001b[0m \u001b[0mwait\u001b[0m\u001b[0;34m(\u001b[0m\u001b[0;34m[\u001b[0m\u001b[0mself\u001b[0m\u001b[0;34m]\u001b[0m\u001b[0;34m,\u001b[0m \u001b[0mtimeout\u001b[0m\u001b[0;34m)\u001b[0m\u001b[0;34m\u001b[0m\u001b[0;34m\u001b[0m\u001b[0m\n\u001b[0m\u001b[1;32m    415\u001b[0m         \u001b[0;32mreturn\u001b[0m \u001b[0mbool\u001b[0m\u001b[0;34m(\u001b[0m\u001b[0mr\u001b[0m\u001b[0;34m)\u001b[0m\u001b[0;34m\u001b[0m\u001b[0;34m\u001b[0m\u001b[0m\n\u001b[1;32m    416\u001b[0m \u001b[0;34m\u001b[0m\u001b[0m\n",
            "\u001b[0;32m/usr/lib/python3.7/multiprocessing/connection.py\u001b[0m in \u001b[0;36mwait\u001b[0;34m(object_list, timeout)\u001b[0m\n\u001b[1;32m    919\u001b[0m \u001b[0;34m\u001b[0m\u001b[0m\n\u001b[1;32m    920\u001b[0m             \u001b[0;32mwhile\u001b[0m \u001b[0;32mTrue\u001b[0m\u001b[0;34m:\u001b[0m\u001b[0;34m\u001b[0m\u001b[0;34m\u001b[0m\u001b[0m\n\u001b[0;32m--> 921\u001b[0;31m                 \u001b[0mready\u001b[0m \u001b[0;34m=\u001b[0m \u001b[0mselector\u001b[0m\u001b[0;34m.\u001b[0m\u001b[0mselect\u001b[0m\u001b[0;34m(\u001b[0m\u001b[0mtimeout\u001b[0m\u001b[0;34m)\u001b[0m\u001b[0;34m\u001b[0m\u001b[0;34m\u001b[0m\u001b[0m\n\u001b[0m\u001b[1;32m    922\u001b[0m                 \u001b[0;32mif\u001b[0m \u001b[0mready\u001b[0m\u001b[0;34m:\u001b[0m\u001b[0;34m\u001b[0m\u001b[0;34m\u001b[0m\u001b[0m\n\u001b[1;32m    923\u001b[0m                     \u001b[0;32mreturn\u001b[0m \u001b[0;34m[\u001b[0m\u001b[0mkey\u001b[0m\u001b[0;34m.\u001b[0m\u001b[0mfileobj\u001b[0m \u001b[0;32mfor\u001b[0m \u001b[0;34m(\u001b[0m\u001b[0mkey\u001b[0m\u001b[0;34m,\u001b[0m \u001b[0mevents\u001b[0m\u001b[0;34m)\u001b[0m \u001b[0;32min\u001b[0m \u001b[0mready\u001b[0m\u001b[0;34m]\u001b[0m\u001b[0;34m\u001b[0m\u001b[0;34m\u001b[0m\u001b[0m\n",
            "\u001b[0;32m/usr/lib/python3.7/selectors.py\u001b[0m in \u001b[0;36mselect\u001b[0;34m(self, timeout)\u001b[0m\n\u001b[1;32m    413\u001b[0m         \u001b[0mready\u001b[0m \u001b[0;34m=\u001b[0m \u001b[0;34m[\u001b[0m\u001b[0;34m]\u001b[0m\u001b[0;34m\u001b[0m\u001b[0;34m\u001b[0m\u001b[0m\n\u001b[1;32m    414\u001b[0m         \u001b[0;32mtry\u001b[0m\u001b[0;34m:\u001b[0m\u001b[0;34m\u001b[0m\u001b[0;34m\u001b[0m\u001b[0m\n\u001b[0;32m--> 415\u001b[0;31m             \u001b[0mfd_event_list\u001b[0m \u001b[0;34m=\u001b[0m \u001b[0mself\u001b[0m\u001b[0;34m.\u001b[0m\u001b[0m_selector\u001b[0m\u001b[0;34m.\u001b[0m\u001b[0mpoll\u001b[0m\u001b[0;34m(\u001b[0m\u001b[0mtimeout\u001b[0m\u001b[0;34m)\u001b[0m\u001b[0;34m\u001b[0m\u001b[0;34m\u001b[0m\u001b[0m\n\u001b[0m\u001b[1;32m    416\u001b[0m         \u001b[0;32mexcept\u001b[0m \u001b[0mInterruptedError\u001b[0m\u001b[0;34m:\u001b[0m\u001b[0;34m\u001b[0m\u001b[0;34m\u001b[0m\u001b[0m\n\u001b[1;32m    417\u001b[0m             \u001b[0;32mreturn\u001b[0m \u001b[0mready\u001b[0m\u001b[0;34m\u001b[0m\u001b[0;34m\u001b[0m\u001b[0m\n",
            "\u001b[0;31mKeyboardInterrupt\u001b[0m: "
          ]
        }
      ]
    },
    {
      "cell_type": "markdown",
      "metadata": {
        "id": "abEao3pTz7FS"
      },
      "source": [
        "#Run a net over test data and get sMAPE, OWA, and MAE loss"
      ]
    },
    {
      "cell_type": "markdown",
      "metadata": {
        "id": "Yn3Voft10Hmr"
      },
      "source": [
        "Load test data"
      ]
    },
    {
      "cell_type": "code",
      "metadata": {
        "id": "WpSfNdbvz6VA"
      },
      "source": [
        "test_df = pd.read_feather(\"/content/drive/MyDrive/Master, Ankile og Krange/Data/Meta/m4_meta_am_test.feather\")"
      ],
      "execution_count": null,
      "outputs": []
    },
    {
      "cell_type": "markdown",
      "metadata": {
        "id": "DcKI5fJq0ioE"
      },
      "source": [
        "Load the net from wandb"
      ]
    },
    {
      "cell_type": "code",
      "metadata": {
        "id": "EU4v32i_0nus"
      },
      "source": [
        "\n"
      ],
      "execution_count": null,
      "outputs": []
    },
    {
      "cell_type": "markdown",
      "metadata": {
        "id": "npwDo9MM0ow8"
      },
      "source": [
        "Make the loss loop "
      ]
    },
    {
      "cell_type": "code",
      "metadata": {
        "id": "kgdLTK7q0lvk"
      },
      "source": [
        "def test_loss(df, runpath, loss_function, use_meta):\n",
        "    root = \"/content/drive/MyDrive/Master, Ankile og Krange/\"\n",
        "\n",
        "    modelpath = root + runpath + \"model.torch\"\n",
        "    configpath = root + runpath + \"config.yaml\"\n",
        "\n",
        "    params = dict(\n",
        "        config=configpath,\n",
        "        project=\"lstm-vae\",\n",
        "        entity=\"krankile\",\n",
        "        job_type=\"smape-testset\",\n",
        "        mode=\"disabled\",\n",
        "    )\n",
        "\n",
        "    inputs, forecasts, actuals, mask = feature_extractor(df, \"am\", \"standard\", use_meta=use_meta)\n",
        "\n",
        "    with wandb.init(**params) as run:\n",
        "        conf = run.config\n",
        "\n",
        "        model = Dense_net(\n",
        "            in_size=inputs.shape[1],\n",
        "            out_size=9, #len(config.models),\n",
        "            dropout_1=conf.dropout_1,\n",
        "            dropout_2=conf.dropout_2,\n",
        "            hidden_dim1=conf.hidden_dim1,\n",
        "            hidden_dim2=conf.hidden_dim2,\n",
        "        )\n",
        "\n",
        "    print(modelpath)\n",
        "    model.load_state_dict(torch.load(modelpath))\n",
        "    model = model.eval()\n",
        "    print(model)\n",
        "\n",
        "\n",
        "    model = model.to(device)\n",
        "    \n",
        "    inputs = torch.Tensor(inputs).to(device)\n",
        "    forecasts = torch.Tensor(forecasts).to(device)\n",
        "    actuals = torch.Tensor(actuals).to(device)\n",
        "    mask = mask.to(device)\n",
        "\n",
        "    y_pred = model(inputs).unsqueeze(2)  # Array containing tensors of weighted average for all forecasts\n",
        "\n",
        "    normalization_weights = actuals[:,0:1]\n",
        "\n",
        "    normalized_actuals = actuals / normalization_weights\n",
        "\n",
        "    prediction = torch.matmul(forecasts, y_pred).squeeze(2) / normalization_weights\n",
        "\n",
        "    loss = loss_function(prediction.masked_select(mask), normalized_actuals.masked_select(mask))\n",
        "\n",
        "    return loss"
      ],
      "execution_count": null,
      "outputs": []
    },
    {
      "cell_type": "code",
      "metadata": {
        "id": "Tw_xAsDZ4wle"
      },
      "source": [
        "runpath = \"Models/211109_weightnet_robust_sweep_97/\"\n",
        "\n",
        "loss_function = loss_functions[\"sm\"]\n",
        "\n",
        "losses = test_loss(test_df, runpath, loss_function, use_meta=True)"
      ],
      "execution_count": null,
      "outputs": []
    },
    {
      "cell_type": "code",
      "metadata": {
        "id": "tHIrz2DY7RMB"
      },
      "source": [
        "losses.mean().item() * 100"
      ],
      "execution_count": null,
      "outputs": []
    },
    {
      "cell_type": "markdown",
      "metadata": {
        "id": "ici5RH9--cdO"
      },
      "source": [
        "robust smape 11.787387728691101\n",
        "desert smape"
      ]
    },
    {
      "cell_type": "markdown",
      "metadata": {
        "id": "z9qWiol8h6A1"
      },
      "source": [
        "#Outdated "
      ]
    },
    {
      "cell_type": "code",
      "metadata": {
        "id": "h6aWSJUPG6tH"
      },
      "source": [
        "net_untrained = Dense_net(42,9)\n",
        "plt.rcParams[\"figure.figsize\"] = (16,8)\n",
        "def plot_some_forecast_and_actuals(net, n_plots):\n",
        "    \n",
        "    for i in random.sample(range(5000), k=n_plots): \n",
        "      \n",
        "      inputs, forecasts, actuals, mask = feature_extractor(meta_train.iloc[[i]], \"m\", \"minmax\")\n",
        "      y_pred = net(inputs).unsqueeze(2)\n",
        "      y_pred_2 = net_untrained(inputs).unsqueeze(2)\n",
        "      \n",
        "      #print(\"trained\", y_pred)\n",
        "      #print(\"untrained\", y_pred_2)\n",
        "\n",
        "      \n",
        "      method_forecast_tup = []\n",
        "\n",
        "      predictions = torch.matmul(forecasts, y_pred).squeeze(2)\n",
        "      predictions_un = torch.matmul(forecasts, y_pred_2).squeeze(2)\n",
        "\n",
        "      plt.title(i)\n",
        "      plt.plot(predictions.detach().numpy()[0], label=\"prediction\")\n",
        "      plt.plot(predictions_un.detach().numpy()[0], label=\"Untrained prediction\")\n",
        "      plt.plot(actuals.detach().numpy()[0], label=\"actual\")\n",
        "      plt.legend()\n",
        "      plt.show()\n",
        "\n",
        "plot_some_forecast_and_actuals(net, 3)"
      ],
      "execution_count": null,
      "outputs": []
    },
    {
      "cell_type": "code",
      "metadata": {
        "id": "nACPpjG0znMG"
      },
      "source": [
        ""
      ],
      "execution_count": null,
      "outputs": []
    }
  ]
}