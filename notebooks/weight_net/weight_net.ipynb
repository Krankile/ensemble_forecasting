{
  "cells": [
    {
      "cell_type": "markdown",
      "metadata": {
        "colab_type": "text",
        "id": "view-in-github"
      },
      "source": [
        "<a href=\"https://colab.research.google.com/github/Krankile/ensemble-forecasting/blob/main/weight_net.ipynb\" target=\"_parent\"><img src=\"https://colab.research.google.com/assets/colab-badge.svg\" alt=\"Open In Colab\"/></a>"
      ]
    },
    {
      "cell_type": "markdown",
      "metadata": {
        "id": "Ad2rmI-1IBOy"
      },
      "source": [
        "##Setup"
      ]
    },
    {
      "cell_type": "code",
      "execution_count": 1,
      "metadata": {
        "id": "rbUYg-ygNho7"
      },
      "outputs": [],
      "source": [
        "%%capture\n",
        "!pip install pytorch-forecasting kora wandb"
      ]
    },
    {
      "cell_type": "markdown",
      "metadata": {
        "id": "Cs7aB3tB1uMl"
      },
      "source": [
        "Go here to find wandb API key:\n",
        "\n",
        "[https://wandb.ai/settings](https://wandb.ai/settings)"
      ]
    },
    {
      "cell_type": "code",
      "execution_count": 2,
      "metadata": {
        "colab": {
          "base_uri": "https://localhost:8080/",
          "height": 69
        },
        "id": "nbiRr31H-t9b",
        "outputId": "eb1fff2b-c52f-4084-9ae6-5ee954788dc1"
      },
      "outputs": [
        {
          "data": {
            "application/javascript": "\n        window._wandbApiKey = new Promise((resolve, reject) => {\n            function loadScript(url) {\n            return new Promise(function(resolve, reject) {\n                let newScript = document.createElement(\"script\");\n                newScript.onerror = reject;\n                newScript.onload = resolve;\n                document.body.appendChild(newScript);\n                newScript.src = url;\n            });\n            }\n            loadScript(\"https://cdn.jsdelivr.net/npm/postmate/build/postmate.min.js\").then(() => {\n            const iframe = document.createElement('iframe')\n            iframe.style.cssText = \"width:0;height:0;border:none\"\n            document.body.appendChild(iframe)\n            const handshake = new Postmate({\n                container: iframe,\n                url: 'https://wandb.ai/authorize'\n            });\n            const timeout = setTimeout(() => reject(\"Couldn't auto authenticate\"), 5000)\n            handshake.then(function(child) {\n                child.on('authorize', data => {\n                    clearTimeout(timeout)\n                    resolve(data)\n                });\n            });\n            })\n        });\n    ",
            "text/plain": [
              "<IPython.core.display.Javascript object>"
            ]
          },
          "metadata": {},
          "output_type": "display_data"
        },
        {
          "name": "stderr",
          "output_type": "stream",
          "text": [
            "\u001b[34m\u001b[1mwandb\u001b[0m: Appending key for api.wandb.ai to your netrc file: /root/.netrc\n"
          ]
        },
        {
          "name": "stdout",
          "output_type": "stream",
          "text": [
            "Mounted at /content/drive\n"
          ]
        }
      ],
      "source": [
        "import wandb\n",
        "wandb.login()\n",
        "\n",
        "from kora import drive\n",
        "drive.link_nbs()"
      ]
    },
    {
      "cell_type": "code",
      "execution_count": 3,
      "metadata": {
        "id": "-Oo7lgF2HeDZ"
      },
      "outputs": [],
      "source": [
        "import os\n",
        "import copy\n",
        "import math\n",
        "import random\n",
        "from multiprocessing import cpu_count\n",
        "from pathlib import Path\n",
        "from collections import namedtuple\n",
        "\n",
        "import numpy as np\n",
        "import pandas as pd\n",
        "\n",
        "from tqdm.notebook import tqdm\n",
        "from sklearn.utils import shuffle\n",
        "from sklearn.preprocessing import MinMaxScaler , minmax_scale, StandardScaler\n",
        "import matplotlib.pyplot as plt\n",
        "\n",
        "import torch\n",
        "from torch import nn, optim\n",
        "import torch.nn.functional as F\n",
        "from torch.utils.data import Dataset, DataLoader\n",
        "\n",
        "from pytorch_forecasting.metrics import SMAPE, MAPE, MASE"
      ]
    },
    {
      "cell_type": "code",
      "execution_count": 4,
      "metadata": {
        "colab": {
          "base_uri": "https://localhost:8080/"
        },
        "id": "eisYRCr-rqs8",
        "outputId": "6fdb23dd-862d-45b2-ece7-5a5526f03b1c"
      },
      "outputs": [
        {
          "data": {
            "text/plain": [
              "PosixPath('/content/drive/MyDrive/12 – Master, Ankile og Krange')"
            ]
          },
          "execution_count": 4,
          "metadata": {},
          "output_type": "execute_result"
        }
      ],
      "source": [
        "ROOT = Path(\"/content/drive/MyDrive/12 – Master, Ankile og Krange\")\n",
        "ROOT"
      ]
    },
    {
      "cell_type": "code",
      "execution_count": 5,
      "metadata": {
        "colab": {
          "base_uri": "https://localhost:8080/"
        },
        "id": "HbGDaQzgSr7y",
        "outputId": "c010a462-d831-455f-e811-4f2205922aa7"
      },
      "outputs": [
        {
          "data": {
            "text/plain": [
              "device(type='cuda')"
            ]
          },
          "execution_count": 5,
          "metadata": {},
          "output_type": "execute_result"
        }
      ],
      "source": [
        "device = torch.device(\"cuda\" if torch.cuda.is_available() else \"cpu\")\n",
        "device"
      ]
    },
    {
      "cell_type": "markdown",
      "metadata": {
        "id": "FllsF0c6IEIq"
      },
      "source": [
        "#Build net"
      ]
    },
    {
      "cell_type": "code",
      "execution_count": 6,
      "metadata": {
        "id": "MSft8neuj42H"
      },
      "outputs": [],
      "source": [
        "class NoneScheduler:\n",
        "    def __init__(self, *args, **kwargs):\n",
        "        pass\n",
        "    \n",
        "    def step(self):\n",
        "        pass"
      ]
    },
    {
      "cell_type": "code",
      "execution_count": 7,
      "metadata": {
        "id": "P6v-ynYBpCYK"
      },
      "outputs": [],
      "source": [
        "activations = {\n",
        "    \"relu\": nn.ReLU, \n",
        "    \"elu\": nn.ELU, \n",
        "    \"leaky\": nn.LeakyReLU, \n",
        "}\n",
        "\n",
        "optimizers = {\n",
        "    \"adam\": torch.optim.Adam,\n",
        "    \"sgd\": torch.optim.SGD,\n",
        "    \"adamw\": torch.optim.AdamW,\n",
        "}\n",
        "\n",
        "loss_functions = {\n",
        "    \"sm\":SMAPE(reduction=\"mean\").loss,\n",
        "    \"c\":nn.CrossEntropyLoss().to(device),\n",
        "    \"mse\":nn.MSELoss().to(device),\n",
        "    \"mase\":MASE(reduction=\"mean\").loss,\n",
        "}\n",
        "\n",
        "schedulers = {\n",
        "    \"onecyclelr\": optim.lr_scheduler.OneCycleLR,\n",
        "    None: NoneScheduler\n",
        "}\n",
        "\n",
        "scalers = {\n",
        "    \"minmax\": MinMaxScaler(feature_range=(-1,1)),\n",
        "    \"standard\": StandardScaler(),\n",
        "}"
      ]
    },
    {
      "cell_type": "code",
      "execution_count": 8,
      "metadata": {
        "id": "lZr84jKdIsVk"
      },
      "outputs": [],
      "source": [
        "class WeightNet(nn.Module):\n",
        "\n",
        "    def __init__(self, num_cont, out_size, n_hidden, hidden_dim, dropout, bn, activation, emb_dims):\n",
        "        super().__init__()\n",
        "\n",
        "        self.embeddings = nn.ModuleList([nn.Embedding(x, y) for x, y in emb_dims])\n",
        "        self.num_embs = sum([y for x, y in emb_dims])\n",
        "        self.num_cont = num_cont\n",
        "\n",
        "        layers = [nn.Linear(self.num_embs + self.num_cont, hidden_dim)]\n",
        "\n",
        "        self.first_bn = nn.BatchNorm1d(self.num_cont)\n",
        "\n",
        "        for i in range(n_hidden):\n",
        "            layers.extend(\n",
        "                [nn.Dropout(p=dropout)]\n",
        "                +[nn.BatchNorm1d(hidden_dim)] if bn else []\n",
        "                +[activations[activation]()]\n",
        "            )\n",
        "            if i == (n_hidden - 1):\n",
        "                layers.append(nn.Linear(hidden_dim, out_size))\n",
        "            else:\n",
        "                layers.append(nn.Linear(hidden_dim, hidden_dim))\n",
        "\n",
        "        self.fc = nn.Sequential(*layers)\n",
        "        self.softmax = nn.Softmax(dim=1)\n",
        "\n",
        "    def forward(self, cat, cont):\n",
        "        x = [emb(cat[:, i]) for i, emb in enumerate(self.embeddings)]\n",
        "        x = torch.cat(x, 1)\n",
        "\n",
        "        cont = self.first_bn(cont)\n",
        "        \n",
        "        x = torch.cat([x, cont], 1) \n",
        "        x = self.fc(x)\n",
        "        x = self.softmax(x)\n",
        "        return x"
      ]
    },
    {
      "cell_type": "markdown",
      "metadata": {
        "id": "FhZaI8E_IGcJ"
      },
      "source": [
        "#Create training loop"
      ]
    },
    {
      "cell_type": "markdown",
      "metadata": {
        "id": "ObdD3c7cVo0e"
      },
      "source": [
        "Define the OWA loss function from the M4 competition"
      ]
    },
    {
      "cell_type": "code",
      "execution_count": 9,
      "metadata": {
        "id": "oL_us9RlL75u"
      },
      "outputs": [],
      "source": [
        "def OWA(naive_pred, actual): #Creates a new metric object which has the .loss(y_pred, actual) as a function\n",
        "  OwA = 0.5*(SMAPE()/SMAPE().loss(naive_pred, actual) + MAPE()/MAPE().loss(naive_pred, actual))\n",
        "  return OwA"
      ]
    },
    {
      "cell_type": "markdown",
      "metadata": {
        "id": "yboW4zVraNz7"
      },
      "source": [
        "Load the training dataframe of size 90,000 x 527"
      ]
    },
    {
      "cell_type": "code",
      "execution_count": 10,
      "metadata": {
        "id": "2FNQINPvmWXl"
      },
      "outputs": [],
      "source": [
        "def feature_extractor(df, manual_auto_tp_toggle, normalization):\n",
        "\n",
        "    batch_size = df.shape[0]\n",
        "\n",
        "      mask = []\n",
        "       for h in df.h:\n",
        "            mask.append([1]*int(h) + [0]*(48-int(h)))\n",
        "        mask = torch.BoolTensor(mask)\n",
        "\n",
        "        # Get forecasts\n",
        "        forecasts = df.loc[:, \"auto_arima_forec_0\":\"snaive_forec_47\"]\n",
        "\n",
        "        # Get feature inputs\n",
        "        if manual_auto_tp_toggle == \"\":\n",
        "            raise Exception(\n",
        "                \"Manual_or_auto_toggle needs to cointain either m or a for input to be non-empty\")\n",
        "\n",
        "        inputs_start = \"x_acf1\" if \"m\" in manual_auto_tp_toggle.lower() else \"lstm_0\"\n",
        "        inputs_end = \"lstm_31\" if \"a\" in manual_auto_tp_toggle.lower() else \"series_length\"\n",
        "\n",
        "        inputs = df.loc[:, inputs_start:inputs_end]\n",
        "\n",
        "        inputs_cat = df.loc[:, ['type', 'period']].astype(\"category\")\n",
        "        emb_dims = [(x, min(x // 2, 50))\n",
        "                    for x in map(lambda y: len(inputs_cat[y].cat.categories), inputs_cat)]\n",
        "\n",
        "        for col in inputs_cat:\n",
        "            inputs_cat[col] = inputs_cat[col].cat.codes\n",
        "\n",
        "        inputs_cat = torch.as_tensor(inputs_cat.to_numpy(), dtype=torch.long)\n",
        "\n",
        "        scaler = scalers[normalization]\n",
        "        inputs_normalized = scaler.fit_transform(inputs.to_numpy())\n",
        "\n",
        "        # Get actuals\n",
        "        actuals = df.loc[:, \"actual_0\":\"actual_47\"].to_numpy()\n",
        "        del df\n",
        "        forecasts = forecasts.to_numpy().reshape((batch_size, 9, 48)).swapaxes(1, 2)\n",
        "\n",
        "        # TODO: This is hard coded to (9,48)\n",
        "        return (inputs_cat, emb_dims), inputs_normalized, forecasts, actuals, mask\n"
      ]
    },
    {
      "cell_type": "markdown",
      "metadata": {
        "id": "1gr3144xh25N"
      },
      "source": [
        "## Dataset"
      ]
    },
    {
      "cell_type": "code",
      "execution_count": 11,
      "metadata": {
        "id": "5nUjLCeqpPOQ"
      },
      "outputs": [],
      "source": [
        "class M4Data(Dataset):\n",
        "    \n",
        "    def __init__(self, path, manual_or_auto_toggle,type_of_normalization=\"standard\"):\n",
        "        df = pd.read_feather(path).set_index(\"index\").replace(np.nan, 0)\n",
        "        self.index = df.index.values      \n",
        "        self.length = df.shape[0]\n",
        "  \n",
        "        (self.cats, emb_dims), self.input, self.forecast, self.actuals, self.mask = feature_extractor(df, manual_or_auto_toggle, type_of_normalization)\n",
        "\n",
        "        self.num_cont = self.input.shape[1]\n",
        "        self.emb_dims = emb_dims\n",
        "\n",
        "    def __len__(self):\n",
        "        return self.length\n",
        "    \n",
        "    def __getitem__(self, idx):\n",
        "        return self.cats[idx], self.input[idx], self.forecast[idx], self.actuals[idx], self.mask[idx]"
      ]
    },
    {
      "cell_type": "code",
      "execution_count": 28,
      "metadata": {
        "id": "4Z3BeYoaqwLL"
      },
      "outputs": [],
      "source": [
        "def get_dataloaders(train_path, val_path, batch_size, manual_or_auto_toggle, normalize=\"standard\"):\n",
        "    \n",
        "    cpus = cpu_count()\n",
        "    print(f\"CPU count: {cpus}\")\n",
        "    train_data = M4Data(train_path, manual_or_auto_toggle,normalize)\n",
        "    val_data = M4Data(val_path, manual_or_auto_toggle, normalize)\n",
        "\n",
        "    train_loader = DataLoader(train_data, batch_size=batch_size, shuffle=True, num_workers=cpus, drop_last=True)\n",
        "    val_loader = DataLoader(val_data, batch_size=batch_size, shuffle=False, num_workers=cpus)\n",
        "\n",
        "    return train_loader, val_loader, train_data.emb_dims, train_data.num_cont, train_data.length"
      ]
    },
    {
      "cell_type": "markdown",
      "metadata": {
        "id": "OJJhNFTgq2YF"
      },
      "source": [
        "## Training loop"
      ]
    },
    {
      "cell_type": "code",
      "execution_count": 13,
      "metadata": {
        "id": "HafRiXtVZ80M"
      },
      "outputs": [],
      "source": [
        "def train_model(model, train_loader, val_loader, num_examples, conf):    \n",
        "    batch_size = conf.batch_size\n",
        "\n",
        "    optimizer = optimizers[conf.optimizer](model.parameters(), lr=conf.learning_rate, weight_decay=conf.weight_decay)\n",
        "    scheduler = schedulers[conf.schedule](\n",
        "        optimizer, conf.learning_rate,\n",
        "        epochs=conf.epochs,\n",
        "        steps_per_epoch=math.ceil(num_examples / batch_size),\n",
        "    )\n",
        "\n",
        "    loss_func = loss_functions[conf.loss_func]\n",
        "    train_loss_plot = []\n",
        "    val_loss_plot = []\n",
        "    it = tqdm(range(1, conf.epochs+1))\n",
        "    \n",
        "    best_loss = float(\"inf\")\n",
        "    step = 0\n",
        "\n",
        "    for epoch in it:\n",
        "\n",
        "        #Each epoch has a training and validation phase\n",
        "        train_losses = []\n",
        "        val_losses = []\n",
        "        for phase in ['train','val']:\n",
        "            if phase == 'train':\n",
        "                model.train()  # Set model to training mode\n",
        "                batches = train_loader\n",
        "            else:\n",
        "                model.eval()  # Set model to evaluate mode\n",
        "                batches = val_loader\n",
        "            for i, (cats, inputs, forecasts, actuals, mask) in enumerate(batches):\n",
        "                cats = cats.to(device)\n",
        "                inputs = inputs.to(device)\n",
        "                forecasts = forecasts.to(device)\n",
        "                actuals = actuals.to(device)    \n",
        "                mask = mask.to(device)\n",
        "                \n",
        "                optimizer.zero_grad()\n",
        "\n",
        "                y_pred = model(cats, inputs).unsqueeze(2) #Array containing tensors of weighted average for all forecasts\n",
        "                normalization_weights = actuals[:,0:1]\n",
        "                normalized_actuals = actuals/normalization_weights\n",
        "                prediction = torch.matmul(forecasts, y_pred).squeeze(2) / normalization_weights\n",
        "                loss = loss_func(prediction.masked_select(mask), normalized_actuals.masked_select(mask)).mean()\n",
        "                \n",
        "                if phase == 'train':\n",
        "                    train_losses.append(loss.item())\n",
        "                    loss.backward()\n",
        "\n",
        "                    optimizer.step()\n",
        "                    scheduler.step()\n",
        "                    \n",
        "                    step += 1\n",
        "                else:\n",
        "                    val_losses.append(loss.item())\n",
        "\n",
        "        train_loss = np.mean(train_losses)\n",
        "        val_loss = np.mean(val_losses)\n",
        "\n",
        "        if val_loss < best_loss: \n",
        "            best_loss = val_loss\n",
        "            best_model_wts = copy.deepcopy(model.state_dict())\n",
        "\n",
        "            filepath = \"model.torch\"\n",
        "            torch.save(best_model_wts, filepath)\n",
        "            wandb.save(filepath)\n",
        "\n",
        "        train_mean = np.mean(train_loss)\n",
        "        val_mean = np.mean(val_loss)\n",
        "        wandb.log({\"train_loss\": train_loss, \"val_loss\": val_loss, \"epoch\": epoch, \"best_loss\": best_loss, \"n_examples\":batch_size*step, \"lr\": optimizer.param_groups[0][\"lr\"]}, step=step)\n",
        "        it.set_postfix({\"train_loss\": train_mean, \"val_loss\": val_mean, \"best_loss\": best_loss, \"lr\": f'{optimizer.param_groups[0][\"lr\"]:.2e}'})\n",
        "        \n",
        "        train_loss_plot.append(train_mean)\n",
        "        val_loss_plot.append(val_mean)\n",
        "\n",
        "    model.load_state_dict(best_model_wts)\n",
        "    return model.eval()"
      ]
    },
    {
      "cell_type": "markdown",
      "metadata": {
        "id": "h7-FhB-RV27-"
      },
      "source": [
        "##Begin training"
      ]
    },
    {
      "cell_type": "code",
      "execution_count": 14,
      "metadata": {
        "id": "RXNHySSwjXyY"
      },
      "outputs": [],
      "source": [
        "def train(config=None, project=None, entity=None, enablewb=True):\n",
        "    mode = \"online\" if enablewb else \"disabled\"\n",
        "    config = config if config is not None else defaultconfig\n",
        "    with wandb.init(config=config, project=project, entity=entity, job_type=\"training\", mode=mode) as run:\n",
        "        confdict = {**config, **wandb.config}\n",
        "        conf = namedtuple(\"Config\", confdict.keys())(*confdict.values())\n",
        "        print(conf)\n",
        "\n",
        "        train_path = ROOT / 'Data/Meta/m4_meta_am_train.feather'\n",
        "        val_path = ROOT / 'Data/Meta/m4_meta_am_val.feather'\n",
        "\n",
        "        (train_loader,\n",
        "         val_loader,\n",
        "         emb_dims,\n",
        "         num_cont,\n",
        "         num_examples) = get_dataloaders(train_path, val_path, conf.batch_size, conf.manual_or_auto_toggle, conf.normalize_data)\n",
        "        \n",
        "        wandb.log({\"meta_variables\": True}, step=0)\n",
        "\n",
        "        model = WeightNet(\n",
        "            num_cont=num_cont,\n",
        "            out_size=9,\n",
        "            n_hidden=conf.n_hidden,\n",
        "            hidden_dim=conf.hidden_dim,\n",
        "            dropout=conf.dropout,\n",
        "            bn=conf.bn,\n",
        "            activation=conf.act,\n",
        "            emb_dims=emb_dims,\n",
        "        )\n",
        "\n",
        "        print(f\"Moving model to device: {device}\")\n",
        "        model = model.to(device)\n",
        "\n",
        "        model = train_model(\n",
        "            model,\n",
        "            train_loader,\n",
        "            val_loader,\n",
        "            num_examples,\n",
        "            conf=conf,\n",
        "        )\n",
        "    return model\n",
        "    "
      ]
    },
    {
      "cell_type": "markdown",
      "metadata": {
        "id": "txgaemzlh9DO"
      },
      "source": [
        "## Run config"
      ]
    },
    {
      "cell_type": "code",
      "execution_count": 29,
      "metadata": {
        "id": "MyJs3OK-iAxs"
      },
      "outputs": [],
      "source": [
        "defaultconfig = dict(\n",
        "    epochs=2_000,\n",
        "    hidden_dim=512,\n",
        "    learning_rate=2e-3,\n",
        "    dataartifact=\"m4_meta_am_train:v1\",\n",
        "    architecture=\"weight_net_v03\",\n",
        "    batch_size=2048,\n",
        "    optimizer=\"adamw\",\n",
        "    loss_func=\"sm\",\n",
        "    dropout=0.6,\n",
        "    early_stop=False,\n",
        "    manual_or_auto_toggle=\"ma\",\n",
        "    normalize_data=\"standard\",\n",
        "    weight_decay=0.05,\n",
        "    act=\"relu\",\n",
        "    bn=True,\n",
        "    n_hidden=3,\n",
        "    schedule=\"onecyclelr\",\n",
        "    pct_start=0.3,\n",
        "    cycle_momentum=True,\n",
        "    categorical_vars=True,\n",
        "    three_phase=False,\n",
        ")"
      ]
    },
    {
      "cell_type": "markdown",
      "metadata": {
        "id": "JnxXZCSOiCnW"
      },
      "source": [
        "## Start run"
      ]
    },
    {
      "cell_type": "code",
      "execution_count": null,
      "metadata": {
        "colab": {
          "base_uri": "https://localhost:8080/",
          "height": 381,
          "referenced_widgets": [
            "2c9dcbced39d4e8ab274f5ffca6f0827",
            "414c8dfc3d904d0896cd1c5da2c2d0e3",
            "f9ffd615f32e4ece9c8a7a6d1dcb2542",
            "e5e1f7c3f8e84de8bf5da01c7f699af4",
            "b252e76510954d6ba06df3ee76526d2f",
            "ce2b40b952b147a4a757c14cf8451369",
            "a17d6ac3bf5c492ab3d528ce5e42ccc1",
            "c54c21da5b8b402d9121257e49657a79",
            "db9a388247284d6bbaca487c8edad3c2",
            "ee7b4ee677a848bf85542f82648ec273",
            "b2d7f539a0954ee7ba65f5652a2e19a2"
          ]
        },
        "id": "wE0qbeQFwyk0",
        "outputId": "c6500f94-dd04-4b95-99e7-8c97d2922b65"
      },
      "outputs": [
        {
          "name": "stderr",
          "output_type": "stream",
          "text": [
            "\u001b[34m\u001b[1mwandb\u001b[0m: \u001b[33mWARNING\u001b[0m Calling wandb.login() after wandb.init() has no effect.\n",
            "\u001b[34m\u001b[1mwandb\u001b[0m: Agent Starting Run: rfy0srlj with config:\n",
            "\u001b[34m\u001b[1mwandb\u001b[0m: \tbatch_size: 4096\n",
            "\u001b[34m\u001b[1mwandb\u001b[0m: \tbn: False\n",
            "\u001b[34m\u001b[1mwandb\u001b[0m: \tcategorical_vars: True\n",
            "\u001b[34m\u001b[1mwandb\u001b[0m: \tcycle_momentum: True\n",
            "\u001b[34m\u001b[1mwandb\u001b[0m: \tdropout: 0.256588000459846\n",
            "\u001b[34m\u001b[1mwandb\u001b[0m: \thidden_dim: 64\n",
            "\u001b[34m\u001b[1mwandb\u001b[0m: \tlearning_rate: 0.004055140191379214\n",
            "\u001b[34m\u001b[1mwandb\u001b[0m: \tn_hidden: 4\n",
            "\u001b[34m\u001b[1mwandb\u001b[0m: \tpct_start: 0.3\n",
            "\u001b[34m\u001b[1mwandb\u001b[0m: \tthree_phase: True\n",
            "\u001b[34m\u001b[1mwandb\u001b[0m: \tweight_decay: 0.05137334673863219\n"
          ]
        },
        {
          "data": {
            "text/html": [
              "\n",
              "                    Syncing run <strong><a href=\"https://wandb.ai/krankile/weight-net/runs/rfy0srlj\" target=\"_blank\">sparkling-sweep-1</a></strong> to <a href=\"https://wandb.ai/krankile/weight-net\" target=\"_blank\">Weights & Biases</a> (<a href=\"https://docs.wandb.com/integrations/jupyter.html\" target=\"_blank\">docs</a>).<br/>\n",
              "Sweep page: <a href=\"https://wandb.ai/krankile/weight-net/sweeps/b8i0flha\" target=\"_blank\">https://wandb.ai/krankile/weight-net/sweeps/b8i0flha</a><br/>\n",
              "\n",
              "                "
            ],
            "text/plain": [
              "<IPython.core.display.HTML object>"
            ]
          },
          "metadata": {},
          "output_type": "display_data"
        },
        {
          "name": "stdout",
          "output_type": "stream",
          "text": [
            "Config(epochs=2000, hidden_dim=64, learning_rate=0.004055140191379214, dataartifact='m4_meta_am_train:v1', architecture='weight_net_v03', batch_size=4096, optimizer='adamw', loss_func='sm', dropout=0.256588000459846, early_stop=False, manual_or_auto_toggle='ma', normalize_data='standard', weight_decay=0.05137334673863219, act='relu', bn=False, n_hidden=4, schedule='onecyclelr', pct_start=0.3, cycle_momentum=True, categorical_vars=True, three_phase=True)\n",
            "CPU count: 4\n",
            "Moving model to device: cuda\n"
          ]
        },
        {
          "data": {
            "application/vnd.jupyter.widget-view+json": {
              "model_id": "2c9dcbced39d4e8ab274f5ffca6f0827",
              "version_major": 2,
              "version_minor": 0
            },
            "text/plain": [
              "  0%|          | 0/2000 [00:00<?, ?it/s]"
            ]
          },
          "metadata": {},
          "output_type": "display_data"
        }
      ],
      "source": [
        "sweep = True\n",
        "\n",
        "if sweep:\n",
        "    count = 500 # number of runs to execute\n",
        "    wandb.agent(\"krankile/weight-net/b8i0flha\", function=train, count=count)\n",
        "else:\n",
        "    train(config=defaultconfig, project=\"weight-net\", entity=\"Krankile\", enablewb=False)"
      ]
    },
    {
      "cell_type": "markdown",
      "metadata": {
        "id": "abEao3pTz7FS"
      },
      "source": [
        "#Run a net over test data and get sMAPE, OWA, and MAE loss"
      ]
    },
    {
      "cell_type": "markdown",
      "metadata": {
        "id": "Yn3Voft10Hmr"
      },
      "source": [
        "Load test data"
      ]
    },
    {
      "cell_type": "code",
      "execution_count": null,
      "metadata": {
        "id": "WpSfNdbvz6VA"
      },
      "outputs": [],
      "source": [
        "test_df = pd.read_feather(\"/content/drive/MyDrive/Master, Ankile og Krange/Data/Meta/m4_meta_am_test.feather\")"
      ]
    },
    {
      "cell_type": "markdown",
      "metadata": {
        "id": "DcKI5fJq0ioE"
      },
      "source": [
        "Load the net from wandb"
      ]
    },
    {
      "cell_type": "code",
      "execution_count": null,
      "metadata": {
        "id": "EU4v32i_0nus"
      },
      "outputs": [],
      "source": [
        "\n"
      ]
    },
    {
      "cell_type": "markdown",
      "metadata": {
        "id": "npwDo9MM0ow8"
      },
      "source": [
        "Make the loss loop "
      ]
    },
    {
      "cell_type": "code",
      "execution_count": null,
      "metadata": {
        "id": "kgdLTK7q0lvk"
      },
      "outputs": [],
      "source": [
        "def test_loss(df, runpath, loss_function, use_meta):\n",
        "    root = \"/content/drive/MyDrive/Master, Ankile og Krange/\"\n",
        "\n",
        "    modelpath = root + runpath + \"model.torch\"\n",
        "    configpath = root + runpath + \"config.yaml\"\n",
        "\n",
        "    params = dict(\n",
        "        config=configpath,\n",
        "        project=\"lstm-vae\",\n",
        "        entity=\"krankile\",\n",
        "        job_type=\"smape-testset\",\n",
        "        mode=\"disabled\",\n",
        "    )\n",
        "\n",
        "    inputs, forecasts, actuals, mask = feature_extractor(df, \"am\", \"standard\", use_meta=use_meta)\n",
        "\n",
        "    with wandb.init(**params) as run:\n",
        "        conf = run.config\n",
        "\n",
        "        model = Dense_net(\n",
        "            in_size=inputs.shape[1],\n",
        "            out_size=9, #len(config.models),\n",
        "            dropout_1=conf.dropout_1,\n",
        "            dropout_2=conf.dropout_2,\n",
        "            hidden_dim1=conf.hidden_dim1,\n",
        "            hidden_dim2=conf.hidden_dim2,\n",
        "        )\n",
        "\n",
        "    print(modelpath)\n",
        "    model.load_state_dict(torch.load(modelpath))\n",
        "    model = model.eval()\n",
        "    print(model)\n",
        "\n",
        "\n",
        "    model = model.to(device)\n",
        "    \n",
        "    inputs = torch.Tensor(inputs).to(device)\n",
        "    forecasts = torch.Tensor(forecasts).to(device)\n",
        "    actuals = torch.Tensor(actuals).to(device)\n",
        "    mask = mask.to(device)\n",
        "\n",
        "    y_pred = model(inputs).unsqueeze(2)  # Array containing tensors of weighted average for all forecasts\n",
        "\n",
        "    normalization_weights = actuals[:,0:1]\n",
        "\n",
        "    normalized_actuals = actuals / normalization_weights\n",
        "\n",
        "    prediction = torch.matmul(forecasts, y_pred).squeeze(2) / normalization_weights\n",
        "\n",
        "    loss = loss_function(prediction.masked_select(mask), normalized_actuals.masked_select(mask))\n",
        "\n",
        "    return loss"
      ]
    },
    {
      "cell_type": "code",
      "execution_count": null,
      "metadata": {
        "id": "Tw_xAsDZ4wle"
      },
      "outputs": [],
      "source": [
        "runpath = \"Models/211109_weightnet_robust_sweep_97/\"\n",
        "\n",
        "loss_function = loss_functions[\"sm\"]\n",
        "\n",
        "losses = test_loss(test_df, runpath, loss_function, use_meta=True)"
      ]
    },
    {
      "cell_type": "code",
      "execution_count": null,
      "metadata": {
        "id": "tHIrz2DY7RMB"
      },
      "outputs": [],
      "source": [
        "losses.mean().item() * 100"
      ]
    },
    {
      "cell_type": "markdown",
      "metadata": {
        "id": "ici5RH9--cdO"
      },
      "source": [
        "robust smape 11.787387728691101\n",
        "desert smape"
      ]
    },
    {
      "cell_type": "markdown",
      "metadata": {
        "id": "z9qWiol8h6A1"
      },
      "source": [
        "#Outdated "
      ]
    },
    {
      "cell_type": "code",
      "execution_count": null,
      "metadata": {
        "id": "h6aWSJUPG6tH"
      },
      "outputs": [],
      "source": [
        "net_untrained = Dense_net(42,9)\n",
        "plt.rcParams[\"figure.figsize\"] = (16,8)\n",
        "def plot_some_forecast_and_actuals(net, n_plots):\n",
        "    \n",
        "    for i in random.sample(range(5000), k=n_plots): \n",
        "      \n",
        "      inputs, forecasts, actuals, mask = feature_extractor(meta_train.iloc[[i]], \"m\", \"minmax\")\n",
        "      y_pred = net(inputs).unsqueeze(2)\n",
        "      y_pred_2 = net_untrained(inputs).unsqueeze(2)\n",
        "      \n",
        "      #print(\"trained\", y_pred)\n",
        "      #print(\"untrained\", y_pred_2)\n",
        "\n",
        "      \n",
        "      method_forecast_tup = []\n",
        "\n",
        "      predictions = torch.matmul(forecasts, y_pred).squeeze(2)\n",
        "      predictions_un = torch.matmul(forecasts, y_pred_2).squeeze(2)\n",
        "\n",
        "      plt.title(i)\n",
        "      plt.plot(predictions.detach().numpy()[0], label=\"prediction\")\n",
        "      plt.plot(predictions_un.detach().numpy()[0], label=\"Untrained prediction\")\n",
        "      plt.plot(actuals.detach().numpy()[0], label=\"actual\")\n",
        "      plt.legend()\n",
        "      plt.show()\n",
        "\n",
        "plot_some_forecast_and_actuals(net, 3)"
      ]
    },
    {
      "cell_type": "code",
      "execution_count": null,
      "metadata": {
        "id": "nACPpjG0znMG"
      },
      "outputs": [],
      "source": []
    }
  ],
  "metadata": {
    "accelerator": "GPU",
    "colab": {
      "collapsed_sections": [
        "z9qWiol8h6A1"
      ],
      "include_colab_link": true,
      "machine_shape": "hm",
      "name": "weight_net_v03.ipynb",
      "provenance": []
    },
    "kernelspec": {
      "display_name": "Python 3",
      "name": "python3"
    },
    "language_info": {
      "name": "python"
    },
    "widgets": {
      "application/vnd.jupyter.widget-state+json": {
        "2c9dcbced39d4e8ab274f5ffca6f0827": {
          "model_module": "@jupyter-widgets/controls",
          "model_module_version": "1.5.0",
          "model_name": "HBoxModel",
          "state": {
            "_dom_classes": [],
            "_model_module": "@jupyter-widgets/controls",
            "_model_module_version": "1.5.0",
            "_model_name": "HBoxModel",
            "_view_count": null,
            "_view_module": "@jupyter-widgets/controls",
            "_view_module_version": "1.5.0",
            "_view_name": "HBoxView",
            "box_style": "",
            "children": [
              "IPY_MODEL_f9ffd615f32e4ece9c8a7a6d1dcb2542",
              "IPY_MODEL_e5e1f7c3f8e84de8bf5da01c7f699af4",
              "IPY_MODEL_b252e76510954d6ba06df3ee76526d2f"
            ],
            "layout": "IPY_MODEL_414c8dfc3d904d0896cd1c5da2c2d0e3"
          }
        },
        "414c8dfc3d904d0896cd1c5da2c2d0e3": {
          "model_module": "@jupyter-widgets/base",
          "model_module_version": "1.2.0",
          "model_name": "LayoutModel",
          "state": {
            "_model_module": "@jupyter-widgets/base",
            "_model_module_version": "1.2.0",
            "_model_name": "LayoutModel",
            "_view_count": null,
            "_view_module": "@jupyter-widgets/base",
            "_view_module_version": "1.2.0",
            "_view_name": "LayoutView",
            "align_content": null,
            "align_items": null,
            "align_self": null,
            "border": null,
            "bottom": null,
            "display": null,
            "flex": null,
            "flex_flow": null,
            "grid_area": null,
            "grid_auto_columns": null,
            "grid_auto_flow": null,
            "grid_auto_rows": null,
            "grid_column": null,
            "grid_gap": null,
            "grid_row": null,
            "grid_template_areas": null,
            "grid_template_columns": null,
            "grid_template_rows": null,
            "height": null,
            "justify_content": null,
            "justify_items": null,
            "left": null,
            "margin": null,
            "max_height": null,
            "max_width": null,
            "min_height": null,
            "min_width": null,
            "object_fit": null,
            "object_position": null,
            "order": null,
            "overflow": null,
            "overflow_x": null,
            "overflow_y": null,
            "padding": null,
            "right": null,
            "top": null,
            "visibility": null,
            "width": null
          }
        },
        "a17d6ac3bf5c492ab3d528ce5e42ccc1": {
          "model_module": "@jupyter-widgets/base",
          "model_module_version": "1.2.0",
          "model_name": "LayoutModel",
          "state": {
            "_model_module": "@jupyter-widgets/base",
            "_model_module_version": "1.2.0",
            "_model_name": "LayoutModel",
            "_view_count": null,
            "_view_module": "@jupyter-widgets/base",
            "_view_module_version": "1.2.0",
            "_view_name": "LayoutView",
            "align_content": null,
            "align_items": null,
            "align_self": null,
            "border": null,
            "bottom": null,
            "display": null,
            "flex": null,
            "flex_flow": null,
            "grid_area": null,
            "grid_auto_columns": null,
            "grid_auto_flow": null,
            "grid_auto_rows": null,
            "grid_column": null,
            "grid_gap": null,
            "grid_row": null,
            "grid_template_areas": null,
            "grid_template_columns": null,
            "grid_template_rows": null,
            "height": null,
            "justify_content": null,
            "justify_items": null,
            "left": null,
            "margin": null,
            "max_height": null,
            "max_width": null,
            "min_height": null,
            "min_width": null,
            "object_fit": null,
            "object_position": null,
            "order": null,
            "overflow": null,
            "overflow_x": null,
            "overflow_y": null,
            "padding": null,
            "right": null,
            "top": null,
            "visibility": null,
            "width": null
          }
        },
        "b252e76510954d6ba06df3ee76526d2f": {
          "model_module": "@jupyter-widgets/controls",
          "model_module_version": "1.5.0",
          "model_name": "HTMLModel",
          "state": {
            "_dom_classes": [],
            "_model_module": "@jupyter-widgets/controls",
            "_model_module_version": "1.5.0",
            "_model_name": "HTMLModel",
            "_view_count": null,
            "_view_module": "@jupyter-widgets/controls",
            "_view_module_version": "1.5.0",
            "_view_name": "HTMLView",
            "description": "",
            "description_tooltip": null,
            "layout": "IPY_MODEL_b2d7f539a0954ee7ba65f5652a2e19a2",
            "placeholder": "​",
            "style": "IPY_MODEL_ee7b4ee677a848bf85542f82648ec273",
            "value": " 46/2000 [01:30&lt;1:04:22,  1.98s/it, train_loss=0.11, val_loss=0.11, best_loss=0.11, lr=2.13e-04]"
          }
        },
        "b2d7f539a0954ee7ba65f5652a2e19a2": {
          "model_module": "@jupyter-widgets/base",
          "model_module_version": "1.2.0",
          "model_name": "LayoutModel",
          "state": {
            "_model_module": "@jupyter-widgets/base",
            "_model_module_version": "1.2.0",
            "_model_name": "LayoutModel",
            "_view_count": null,
            "_view_module": "@jupyter-widgets/base",
            "_view_module_version": "1.2.0",
            "_view_name": "LayoutView",
            "align_content": null,
            "align_items": null,
            "align_self": null,
            "border": null,
            "bottom": null,
            "display": null,
            "flex": null,
            "flex_flow": null,
            "grid_area": null,
            "grid_auto_columns": null,
            "grid_auto_flow": null,
            "grid_auto_rows": null,
            "grid_column": null,
            "grid_gap": null,
            "grid_row": null,
            "grid_template_areas": null,
            "grid_template_columns": null,
            "grid_template_rows": null,
            "height": null,
            "justify_content": null,
            "justify_items": null,
            "left": null,
            "margin": null,
            "max_height": null,
            "max_width": null,
            "min_height": null,
            "min_width": null,
            "object_fit": null,
            "object_position": null,
            "order": null,
            "overflow": null,
            "overflow_x": null,
            "overflow_y": null,
            "padding": null,
            "right": null,
            "top": null,
            "visibility": null,
            "width": null
          }
        },
        "c54c21da5b8b402d9121257e49657a79": {
          "model_module": "@jupyter-widgets/controls",
          "model_module_version": "1.5.0",
          "model_name": "ProgressStyleModel",
          "state": {
            "_model_module": "@jupyter-widgets/controls",
            "_model_module_version": "1.5.0",
            "_model_name": "ProgressStyleModel",
            "_view_count": null,
            "_view_module": "@jupyter-widgets/base",
            "_view_module_version": "1.2.0",
            "_view_name": "StyleView",
            "bar_color": null,
            "description_width": ""
          }
        },
        "ce2b40b952b147a4a757c14cf8451369": {
          "model_module": "@jupyter-widgets/controls",
          "model_module_version": "1.5.0",
          "model_name": "DescriptionStyleModel",
          "state": {
            "_model_module": "@jupyter-widgets/controls",
            "_model_module_version": "1.5.0",
            "_model_name": "DescriptionStyleModel",
            "_view_count": null,
            "_view_module": "@jupyter-widgets/base",
            "_view_module_version": "1.2.0",
            "_view_name": "StyleView",
            "description_width": ""
          }
        },
        "db9a388247284d6bbaca487c8edad3c2": {
          "model_module": "@jupyter-widgets/base",
          "model_module_version": "1.2.0",
          "model_name": "LayoutModel",
          "state": {
            "_model_module": "@jupyter-widgets/base",
            "_model_module_version": "1.2.0",
            "_model_name": "LayoutModel",
            "_view_count": null,
            "_view_module": "@jupyter-widgets/base",
            "_view_module_version": "1.2.0",
            "_view_name": "LayoutView",
            "align_content": null,
            "align_items": null,
            "align_self": null,
            "border": null,
            "bottom": null,
            "display": null,
            "flex": null,
            "flex_flow": null,
            "grid_area": null,
            "grid_auto_columns": null,
            "grid_auto_flow": null,
            "grid_auto_rows": null,
            "grid_column": null,
            "grid_gap": null,
            "grid_row": null,
            "grid_template_areas": null,
            "grid_template_columns": null,
            "grid_template_rows": null,
            "height": null,
            "justify_content": null,
            "justify_items": null,
            "left": null,
            "margin": null,
            "max_height": null,
            "max_width": null,
            "min_height": null,
            "min_width": null,
            "object_fit": null,
            "object_position": null,
            "order": null,
            "overflow": null,
            "overflow_x": null,
            "overflow_y": null,
            "padding": null,
            "right": null,
            "top": null,
            "visibility": null,
            "width": null
          }
        },
        "e5e1f7c3f8e84de8bf5da01c7f699af4": {
          "model_module": "@jupyter-widgets/controls",
          "model_module_version": "1.5.0",
          "model_name": "FloatProgressModel",
          "state": {
            "_dom_classes": [],
            "_model_module": "@jupyter-widgets/controls",
            "_model_module_version": "1.5.0",
            "_model_name": "FloatProgressModel",
            "_view_count": null,
            "_view_module": "@jupyter-widgets/controls",
            "_view_module_version": "1.5.0",
            "_view_name": "ProgressView",
            "bar_style": "",
            "description": "",
            "description_tooltip": null,
            "layout": "IPY_MODEL_db9a388247284d6bbaca487c8edad3c2",
            "max": 2000,
            "min": 0,
            "orientation": "horizontal",
            "style": "IPY_MODEL_c54c21da5b8b402d9121257e49657a79",
            "value": 46
          }
        },
        "ee7b4ee677a848bf85542f82648ec273": {
          "model_module": "@jupyter-widgets/controls",
          "model_module_version": "1.5.0",
          "model_name": "DescriptionStyleModel",
          "state": {
            "_model_module": "@jupyter-widgets/controls",
            "_model_module_version": "1.5.0",
            "_model_name": "DescriptionStyleModel",
            "_view_count": null,
            "_view_module": "@jupyter-widgets/base",
            "_view_module_version": "1.2.0",
            "_view_name": "StyleView",
            "description_width": ""
          }
        },
        "f9ffd615f32e4ece9c8a7a6d1dcb2542": {
          "model_module": "@jupyter-widgets/controls",
          "model_module_version": "1.5.0",
          "model_name": "HTMLModel",
          "state": {
            "_dom_classes": [],
            "_model_module": "@jupyter-widgets/controls",
            "_model_module_version": "1.5.0",
            "_model_name": "HTMLModel",
            "_view_count": null,
            "_view_module": "@jupyter-widgets/controls",
            "_view_module_version": "1.5.0",
            "_view_name": "HTMLView",
            "description": "",
            "description_tooltip": null,
            "layout": "IPY_MODEL_a17d6ac3bf5c492ab3d528ce5e42ccc1",
            "placeholder": "​",
            "style": "IPY_MODEL_ce2b40b952b147a4a757c14cf8451369",
            "value": "  2%"
          }
        }
      }
    }
  },
  "nbformat": 4,
  "nbformat_minor": 0
}
