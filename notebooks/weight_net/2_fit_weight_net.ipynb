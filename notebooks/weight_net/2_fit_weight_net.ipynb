{
  "cells": [
    {
      "cell_type": "markdown",
      "metadata": {
        "id": "view-in-github",
        "colab_type": "text"
      },
      "source": [
        "<a href=\"https://colab.research.google.com/github/Krankile/ensemble_forecasting/blob/main/notebooks/weight_net/2_fit_weight_net.ipynb\" target=\"_parent\"><img src=\"https://colab.research.google.com/assets/colab-badge.svg\" alt=\"Open In Colab\"/></a>"
      ]
    },
    {
      "cell_type": "markdown",
      "metadata": {
        "id": "Ad2rmI-1IBOy"
      },
      "source": [
        "##Setup"
      ]
    },
    {
      "cell_type": "markdown",
      "source": [
        "**Note:** Data set classes expect data to be normalized"
      ],
      "metadata": {
        "id": "Aydik2Y7JSCm"
      }
    },
    {
      "cell_type": "code",
      "execution_count": 1,
      "metadata": {
        "id": "3adfcnQXtr4x"
      },
      "outputs": [],
      "source": [
        "%load_ext autoreload\n",
        "%autoreload 2"
      ]
    },
    {
      "cell_type": "code",
      "execution_count": 2,
      "metadata": {
        "id": "rbUYg-ygNho7"
      },
      "outputs": [],
      "source": [
        "%%capture\n",
        "!pip install wandb"
      ]
    },
    {
      "cell_type": "markdown",
      "metadata": {
        "id": "Cs7aB3tB1uMl"
      },
      "source": [
        "Go here to find wandb API key:\n",
        "\n",
        "[https://wandb.ai/settings](https://wandb.ai/settings)"
      ]
    },
    {
      "cell_type": "code",
      "execution_count": 3,
      "metadata": {
        "colab": {
          "base_uri": "https://localhost:8080/"
        },
        "id": "nbiRr31H-t9b",
        "outputId": "036ea416-d3b4-4eda-eb6e-893964a0397f"
      },
      "outputs": [
        {
          "output_type": "stream",
          "name": "stderr",
          "text": [
            "\u001b[34m\u001b[1mwandb\u001b[0m: Currently logged in as: \u001b[33mkrankile\u001b[0m (use `wandb login --relogin` to force relogin)\n"
          ]
        },
        {
          "output_type": "execute_result",
          "data": {
            "text/plain": [
              "True"
            ]
          },
          "metadata": {},
          "execution_count": 3
        }
      ],
      "source": [
        "import wandb as wb\n",
        "wb.login()\n"
      ]
    },
    {
      "cell_type": "code",
      "execution_count": 4,
      "metadata": {
        "id": "L6jIfYgytp_w"
      },
      "outputs": [],
      "source": [
        "%%capture\n",
        "!git clone https://github.com/Krankile/ensemble_forecasting.git\n",
        "!mv ensemble_forecasting ef"
      ]
    },
    {
      "cell_type": "code",
      "execution_count": 5,
      "metadata": {
        "id": "sjj7i6KDsrRa"
      },
      "outputs": [],
      "source": [
        "%%capture\n",
        "!cd ef && git pull"
      ]
    },
    {
      "cell_type": "code",
      "execution_count": 6,
      "metadata": {
        "id": "-Oo7lgF2HeDZ"
      },
      "outputs": [],
      "source": [
        "import os\n",
        "import copy\n",
        "import math\n",
        "import random\n",
        "from multiprocessing import cpu_count\n",
        "from pathlib import Path\n",
        "from collections import namedtuple\n",
        "from functools import partial\n",
        "\n",
        "import numpy as np\n",
        "import pandas as pd\n",
        "\n",
        "from tqdm import tqdm\n",
        "from sklearn.utils import shuffle\n",
        "from sklearn.preprocessing import StandardScaler\n",
        "import matplotlib.pyplot as plt\n",
        "\n",
        "import torch\n",
        "from torch import nn, optim\n",
        "import torch.nn.functional as F\n",
        "\n",
        "from ef.models import weightnets\n",
        "from ef.utils import loss_functions, activations, optimizers, schedulers, scalers\n",
        "\n",
        "from ef.data import ensemble_loaders, ensemble_loaders_kfold"
      ]
    },
    {
      "cell_type": "code",
      "execution_count": 7,
      "metadata": {
        "colab": {
          "base_uri": "https://localhost:8080/"
        },
        "id": "HbGDaQzgSr7y",
        "outputId": "1e868ff8-9fdc-428f-b002-36c8f75cab03"
      },
      "outputs": [
        {
          "output_type": "execute_result",
          "data": {
            "text/plain": [
              "device(type='cuda')"
            ]
          },
          "metadata": {},
          "execution_count": 7
        }
      ],
      "source": [
        "device = torch.device(\"cuda\" if torch.cuda.is_available() else \"cpu\")\n",
        "device"
      ]
    },
    {
      "cell_type": "code",
      "source": [
        "def artifact_to_path(run, art_name, *, root=\"krankile/data-processing/\"):\n",
        "    art = run.use_artifact(root + art_name); art.download()\n",
        "    return art.file()"
      ],
      "metadata": {
        "id": "uUQ_KlYfK3KN"
      },
      "execution_count": 8,
      "outputs": []
    },
    {
      "cell_type": "markdown",
      "source": [
        "# Debug area"
      ],
      "metadata": {
        "id": "KMfvZQ5aMnPu"
      }
    },
    {
      "cell_type": "markdown",
      "metadata": {
        "id": "FhZaI8E_IGcJ"
      },
      "source": [
        "# Training loop"
      ]
    },
    {
      "cell_type": "markdown",
      "metadata": {
        "id": "OJJhNFTgq2YF"
      },
      "source": [
        "## Normal train-val split"
      ]
    },
    {
      "cell_type": "code",
      "execution_count": 9,
      "metadata": {
        "id": "HafRiXtVZ80M"
      },
      "outputs": [],
      "source": [
        "def train_model(model, train_loader, val_loader, num_examples, conf):    \n",
        "    batch_size = conf.batch_size\n",
        "\n",
        "    optimizer = optimizers[conf.optimizer](model.parameters(), lr=conf.learning_rate, weight_decay=conf.weight_decay)\n",
        "    scheduler = schedulers[conf.schedule](\n",
        "        optimizer, conf.learning_rate,\n",
        "        epochs=conf.epochs,\n",
        "        steps_per_epoch=math.ceil(num_examples / batch_size),\n",
        "    )\n",
        "\n",
        "    loss_func = loss_functions[conf.loss_func]\n",
        "    it = tqdm(range(1, conf.epochs+1))\n",
        "    \n",
        "    best_loss = float(\"inf\")\n",
        "    step = 0\n",
        "\n",
        "    for epoch in it:\n",
        "\n",
        "        #Each epoch has a training and validation phase\n",
        "        train_losses = []\n",
        "        val_losses = []\n",
        "        for phase in ['train','val']:\n",
        "            if phase == 'train':\n",
        "                model.train()  # Set model to training mode\n",
        "                batches = train_loader\n",
        "            else:\n",
        "                model.eval()  # Set model to evaluate mode\n",
        "                batches = val_loader\n",
        "            for i, tensors in enumerate(batches):\n",
        "                cats, inputs, forecasts, actuals, *loss_args = map(lambda x: x.to(device), tensors)\n",
        "                optimizer.zero_grad()\n",
        "\n",
        "                y_pred = model(cats, inputs.float()).unsqueeze(2)\n",
        "\n",
        "                prediction = torch.matmul(forecasts, y_pred).squeeze(2)\n",
        "                loss = loss_func(prediction, actuals, *loss_args)\n",
        "                if phase == 'train':\n",
        "                    train_losses.append(loss.item())\n",
        "                    loss.backward()\n",
        "\n",
        "                    optimizer.step()\n",
        "                    scheduler.step()\n",
        "                    \n",
        "                    step += 1\n",
        "                else:\n",
        "                    val_losses.append(loss.item())\n",
        "\n",
        "        train_loss = np.mean(train_losses)\n",
        "        val_loss = np.mean(val_losses)\n",
        "\n",
        "        if val_loss < best_loss: \n",
        "            best_loss = val_loss\n",
        "            best_model_wts = copy.deepcopy(model.state_dict())\n",
        "\n",
        "            filepath = \"model.pth\"\n",
        "            torch.save(best_model_wts, filepath)\n",
        "            wb.save(filepath)\n",
        "\n",
        "        wb.log({\"train_loss\": train_loss, \"val_loss\": val_loss, \"epoch\": epoch, \"best_loss\": best_loss, \"n_examples\":batch_size*step, \"lr\": optimizer.param_groups[0][\"lr\"]}, step=step)\n",
        "        it.set_postfix({\"train_loss\": train_loss, \"val_loss\": val_loss, \"best_loss\": best_loss, \"lr\": f'{optimizer.param_groups[0][\"lr\"]:.2e}'})\n",
        "        \n",
        "    model.load_state_dict(best_model_wts)\n",
        "    return model.eval()"
      ]
    },
    {
      "cell_type": "code",
      "execution_count": 10,
      "metadata": {
        "id": "RXNHySSwjXyY"
      },
      "outputs": [],
      "source": [
        "def train(config=None, project=None, entity=None, enablewb=True):\n",
        "    mode = \"online\" if enablewb else \"online\"\n",
        "    with wb.init(config=config, project=project, entity=entity, job_type=\"training\", mode=mode) as run:\n",
        "        conf = run.config\n",
        "        print(conf)\n",
        "\n",
        "        datapath = artifact_to_path(run, conf.data)\n",
        "        splitpath = artifact_to_path(run, conf.data_split)\n",
        "\n",
        "        (\n",
        "            train_loader,\n",
        "            val_loader,\n",
        "            emb_dims,\n",
        "            num_cont,\n",
        "            num_examples,\n",
        "        ) = ensemble_loaders(\n",
        "                    datapath=datapath, splitpath=splitpath,\n",
        "                    batch_size=conf.batch_size,\n",
        "                    feature_set=conf.feature_set,\n",
        "                    n_models=conf.num_models,)\n",
        "        \n",
        "        model = weightnets[conf.architecture](\n",
        "            num_cont=num_cont,\n",
        "            out_size=conf.num_models,\n",
        "            n_hidden=conf.n_hidden,\n",
        "            hidden_dim=conf.hidden_dim,\n",
        "            dropout=conf.dropout,\n",
        "            bn=conf.bn,\n",
        "            activation=conf.act,\n",
        "            emb_dims=emb_dims,\n",
        "        )\n",
        "\n",
        "        print(f\"Moving model to device: {device}\")\n",
        "        model = model.float().to(device)\n",
        "\n",
        "        model = train_model(\n",
        "            model,\n",
        "            train_loader,\n",
        "            val_loader,\n",
        "            num_examples,\n",
        "            conf=conf,\n",
        "        )\n",
        "    return model\n",
        "    "
      ]
    },
    {
      "cell_type": "markdown",
      "metadata": {
        "id": "fqffydneAXUC"
      },
      "source": [
        "## Training over all train data with final hyperparameters"
      ]
    },
    {
      "cell_type": "code",
      "execution_count": null,
      "metadata": {
        "id": "WM6PCmXFAXUI"
      },
      "outputs": [],
      "source": [
        "def train_model_final(model, train_loader, num_examples, conf):    \n",
        "    batch_size = conf.batch_size\n",
        "\n",
        "    optimizer = optimizers[conf.optimizer](model.parameters(), lr=conf.learning_rate, weight_decay=conf.weight_decay)\n",
        "    scheduler = schedulers[conf.schedule](\n",
        "        optimizer, conf.learning_rate,\n",
        "        epochs=conf.epochs,\n",
        "        steps_per_epoch=math.ceil(num_examples / batch_size),\n",
        "    )\n",
        "\n",
        "    loss_func = loss_functions[conf.loss_func]\n",
        "    it = tqdm(range(1, conf.epochs+1))\n",
        "    steps = 0\n",
        "\n",
        "    for epoch in it:\n",
        "\n",
        "        train_losses = []\n",
        "        model.train()\n",
        "\n",
        "        for i, tensors in enumerate(train_loader):\n",
        "            cats, inputs, forecasts, actuals, *loss_args = map(lambda x: x.to(device), tensors)\n",
        "            optimizer.zero_grad()\n",
        "\n",
        "            y_pred = model(cats, inputs.float()).unsqueeze(2)\n",
        "\n",
        "            prediction = torch.matmul(forecasts, y_pred).squeeze(2)\n",
        "            loss = loss_func(prediction, actuals, *loss_args)\n",
        "            train_losses.append(loss.item())\n",
        "            loss.backward()\n",
        "\n",
        "            optimizer.step()\n",
        "            scheduler.step()\n",
        "            step += 1\n",
        "\n",
        "        train_loss = np.mean(train_losses)\n",
        "\n",
        "        wb.log({\"train_loss\": train_loss, \"epoch\": epoch, \"n_examples\":batch_size*step, \"lr\": optimizer.param_groups[0][\"lr\"]}, step=step)\n",
        "        it.set_postfix({\"train_loss\": train_loss, \"lr\": f'{optimizer.param_groups[0][\"lr\"]:.2e}'})\n",
        "        \n",
        "    model.load_state_dict(best_model_wts)\n",
        "    return model.eval()"
      ]
    },
    {
      "cell_type": "code",
      "execution_count": null,
      "metadata": {
        "id": "sNJ5OSJ9AXUJ"
      },
      "outputs": [],
      "source": [
        "def train_final(config=None, project=None, entity=None, enablewb=True):\n",
        "    mode = \"online\" if enablewb else \"online\"\n",
        "    with wb.init(config=config, project=project, entity=entity, job_type=\"training\", mode=mode) as run:\n",
        "        conf = run.config\n",
        "        print(conf)\n",
        "\n",
        "        datapath = artifact_to_path(run, conf.data)\n",
        "\n",
        "        (\n",
        "            train_loader,\n",
        "            emb_dims,\n",
        "            num_cont,\n",
        "            num_examples,\n",
        "        ) = ensemble_loaders(\n",
        "                    datapath=datapath,\n",
        "                    batch_size=conf.batch_size,\n",
        "                    feature_set=conf.feature_set,\n",
        "                    n_models=conf.num_models,)\n",
        "        \n",
        "        model = weightnets[conf.architecture](\n",
        "            num_cont=num_cont,\n",
        "            out_size=conf.num_models,\n",
        "            n_hidden=conf.n_hidden,\n",
        "            hidden_dim=conf.hidden_dim,\n",
        "            dropout=conf.dropout,\n",
        "            bn=conf.bn,\n",
        "            activation=conf.act,\n",
        "            emb_dims=emb_dims,\n",
        "        )\n",
        "\n",
        "        print(f\"Moving model to device: {device}\")\n",
        "        model = model.float().to(device)\n",
        "\n",
        "        model = train_model(\n",
        "            model,\n",
        "            train_loader,\n",
        "            num_examples,\n",
        "            conf=conf,\n",
        "        )\n",
        "\n",
        "        filepath = \"model.pth\"\n",
        "        torch.save(model.state_dict(), filepath)\n",
        "        wb.save(filepath)\n",
        "\n",
        "        return model\n",
        "    "
      ]
    },
    {
      "cell_type": "markdown",
      "metadata": {
        "id": "h7-FhB-RV27-"
      },
      "source": [
        "## Train with k-fold cross-validation"
      ]
    },
    {
      "cell_type": "code",
      "execution_count": 32,
      "metadata": {
        "id": "pVWsTIPWdMPa"
      },
      "outputs": [],
      "source": [
        "def train_model_kfold(model, train_loader, val_loader, num_examples, conf, fold_num):    \n",
        "    batch_size = conf.batch_size\n",
        "\n",
        "    optimizer = optimizers[conf.optimizer](model.parameters(), lr=conf.learning_rate, weight_decay=conf.weight_decay)\n",
        "    scheduler = schedulers[conf.schedule](\n",
        "        optimizer, conf.learning_rate,\n",
        "        epochs=conf.epochs,\n",
        "        steps_per_epoch=math.ceil(num_examples / batch_size),\n",
        "    )\n",
        "\n",
        "    loss_func = loss_functions[conf.loss_func]\n",
        "    it = tqdm(range(1, conf.epochs+1), desc=f\"Fold {fold_num+1} of {conf.k*len(conf.shuffle_seeds)}\")\n",
        "    \n",
        "    for epoch in it:\n",
        "\n",
        "        #Each epoch has a training and validation phase\n",
        "        train_losses = []\n",
        "        val_losses = []\n",
        "        for phase in ['train','val']:\n",
        "            if phase == 'train':\n",
        "                model.train()  # Set model to training mode\n",
        "                batches = train_loader\n",
        "            else:\n",
        "                model.eval()  # Set model to evaluate mode\n",
        "                batches = val_loader\n",
        "            for i, tensors in enumerate(batches):\n",
        "                cats, inputs, forecasts, actuals, *loss_args = map(lambda x: x.to(device), tensors)\n",
        "                optimizer.zero_grad()\n",
        "\n",
        "                y_pred = model(cats, inputs.float()).unsqueeze(2)\n",
        "\n",
        "                prediction = torch.matmul(forecasts, y_pred).squeeze(2)\n",
        "                loss = loss_func(prediction, actuals, *loss_args)\n",
        "                if phase == 'train':\n",
        "                    train_losses.append(loss.item())\n",
        "                    loss.backward()\n",
        "\n",
        "                    optimizer.step()\n",
        "                    scheduler.step()\n",
        "                else:\n",
        "                    val_losses.append(loss.item())\n",
        "\n",
        "        train_loss = np.mean(train_losses)\n",
        "        val_loss = np.mean(val_losses)\n",
        "\n",
        "        wb.log({f\"train_loss/{fold_num}\": train_loss, f\"val_loss/{fold_num}\": val_loss, \"epoch\": epoch, \"lr\": optimizer.param_groups[0]['lr']})\n",
        "        it.set_postfix({\"train_loss\": train_loss, \"val_loss\": val_loss, \"lr\": f\"{optimizer.param_groups[0]['lr']:.2e}\"})\n",
        "\n",
        "    return val_loss"
      ]
    },
    {
      "cell_type": "code",
      "source": [
        "def standardize(df, scaler=None):\n",
        "    feats = df.loc[:, \"x_acf1\":\"lstm_31\"]\n",
        "    if scaler is None:\n",
        "        scaler = StandardScaler().fit(feats)\n",
        "\n",
        "    index, columns = feats.index, feats.columns\n",
        "    df.loc[:, \"x_acf1\":\"lstm_31\"] = pd.DataFrame(scaler.transform(feats), index=index, columns=columns)\n",
        "\n",
        "    return df, scaler"
      ],
      "metadata": {
        "id": "2f5mYe86yWLZ"
      },
      "execution_count": 33,
      "outputs": []
    },
    {
      "cell_type": "code",
      "execution_count": 40,
      "metadata": {
        "id": "kciUFMSKTqBH"
      },
      "outputs": [],
      "source": [
        "def train_kfold(config=None, project=None, entity=None, enablewb=True):\n",
        "    mode = \"online\" if enablewb else \"online\"\n",
        "    with wb.init(config=config, project=project, entity=entity, job_type=\"training\", mode=mode) as run:\n",
        "        conf = run.config\n",
        "        print(conf)\n",
        "\n",
        "        rnd_seed = np.random.randint(1e9)\n",
        "        run.log({\"random_seed\": rnd_seed})\n",
        "        datapath = artifact_to_path(run, conf.data)\n",
        "\n",
        "        df = pd.read_feather(datapath).set_index(\"m4id\")\n",
        "        \n",
        "        outer_losses = []\n",
        "        for s, seed in enumerate(conf.shuffle_seeds):\n",
        "            df = shuffle(df, random_state=seed)\n",
        "            folds = np.array_split(df, conf.k)\n",
        "            losses = []\n",
        "            for i, val in enumerate(folds, start=(s*conf.k)):\n",
        "                data = pd.concat(folds[:i] + folds[(i+1):], axis=0)\n",
        "                data, scaler = standardize(data, scaler=None)\n",
        "                val, _ = standardize(val, scaler=scaler)\n",
        "\n",
        "                (\n",
        "                    train_loader,\n",
        "                    val_loader,\n",
        "                    emb_dims,\n",
        "                    num_cont,\n",
        "                    num_examples,\n",
        "                ) = ensemble_loaders_kfold(\n",
        "                            data=data, val=val,\n",
        "                            batch_size=conf.batch_size,\n",
        "                            feature_set=conf.feature_set,\n",
        "                            n_models=conf.num_models,\n",
        "                            cpus=None,)\n",
        "\n",
        "                torch.manual_seed(rnd_seed)\n",
        "                model = weightnets[conf.architecture](\n",
        "                    num_cont=num_cont,\n",
        "                    out_size=conf.num_models,\n",
        "                    n_hidden=conf.n_hidden,\n",
        "                    hidden_dim=conf.hidden_dim,\n",
        "                    dropout=conf.dropout,\n",
        "                    bn=conf.bn,\n",
        "                    activation=conf.act,\n",
        "                    emb_dims=emb_dims,\n",
        "                )\n",
        "\n",
        "                print(f\"Moving model to device: {device}\")\n",
        "                model = model.float().to(device)\n",
        "\n",
        "                loss = train_model_kfold(\n",
        "                    model,\n",
        "                    train_loader,\n",
        "                    val_loader,\n",
        "                    num_examples,\n",
        "                    conf=conf,\n",
        "                    fold_num=i,\n",
        "                )\n",
        "\n",
        "                losses.append(loss)\n",
        "\n",
        "        overall_loss = np.mean(losses)\n",
        "        run.log({\"overall_loss\": overall_loss})\n",
        "\n",
        "    return overall_loss"
      ]
    },
    {
      "cell_type": "markdown",
      "metadata": {
        "id": "txgaemzlh9DO"
      },
      "source": [
        "## Run config"
      ]
    },
    {
      "cell_type": "markdown",
      "source": [
        "### Normal config"
      ],
      "metadata": {
        "id": "i4OdXZWW6hzs"
      }
    },
    {
      "cell_type": "code",
      "execution_count": 36,
      "metadata": {
        "id": "MyJs3OK-iAxs"
      },
      "outputs": [],
      "source": [
        "norm_config = dict(\n",
        "    epochs=20,\n",
        "    hidden_dim=256,\n",
        "    n_hidden=2,\n",
        "    learning_rate=2e-3,\n",
        "    optimizer=\"adamw\",\n",
        "    architecture=\"WeightNetV4\",\n",
        "    data=\"ensemble_traval:standard\",\n",
        "    data_split=\"traval_split_80_20:v0\",\n",
        "    batch_size=1024,\n",
        "    loss_func=\"owa\",\n",
        "    dropout=0.5,\n",
        "    weight_decay=0.05,\n",
        "    bn=False,\n",
        "    feature_set=\"ma\",\n",
        "    act=\"leaky\",\n",
        "    num_models=14,\n",
        "    schedule=None,\n",
        ")"
      ]
    },
    {
      "cell_type": "markdown",
      "source": [
        "### K-fold config"
      ],
      "metadata": {
        "id": "F3uSVjLO6c20"
      }
    },
    {
      "cell_type": "code",
      "source": [
        "kfold_config = dict(\n",
        "    k=5,\n",
        "    shuffle_seeds=[69, 420, 666]\n",
        "    epochs=5,\n",
        "    hidden_dim=256,\n",
        "    n_hidden=2,\n",
        "    learning_rate=2e-3,\n",
        "    optimizer=\"adamw\",\n",
        "    architecture=\"WeightNetV4\",\n",
        "    data=\"ensemble_traval:non-standard\",\n",
        "    batch_size=1024,\n",
        "    loss_func=\"owa\",\n",
        "    dropout=0.5,\n",
        "    weight_decay=0.05,\n",
        "    bn=False,\n",
        "    feature_set=\"ma\",\n",
        "    act=\"leaky\",\n",
        "    num_models=14,\n",
        "    schedule=None,\n",
        ")"
      ],
      "metadata": {
        "id": "w7_Pzse86cOO"
      },
      "execution_count": 37,
      "outputs": []
    },
    {
      "cell_type": "markdown",
      "metadata": {
        "id": "JnxXZCSOiCnW"
      },
      "source": [
        "## Start run"
      ]
    },
    {
      "cell_type": "code",
      "source": [
        "# For final training\n",
        "enablewb = True\n",
        "project = \"weight-net-tmp\"\n",
        "\n",
        "train_func(config=norm_config, project=project, entity=\"krankile\", enablewb=enablewb)"
      ],
      "metadata": {
        "id": "rtEW4hBTBvCI"
      },
      "execution_count": null,
      "outputs": []
    },
    {
      "cell_type": "code",
      "execution_count": null,
      "metadata": {
        "colab": {
          "base_uri": "https://localhost:8080/",
          "height": 1000,
          "referenced_widgets": [
            "e7f83a1c27064c4b98c2132c4cc6cf71",
            "d5bda7085bd64a33aa92e5fd1ddf02f5",
            "528b7118a5b943439596214bc8e0ef8b",
            "f12239c99075485785b0f31bdee8a9d6",
            "4ddf9141cc3d4dd6a0e6edc8536e7696",
            "9a5b09ce87ec4f459a316ab882768c45",
            "c54f1f3c915b4dd29fe7201c0766f6b1",
            "c2fb62d2e33342a0aed4e151124b7634",
            "ab2d51711990422f81f3adfa165335c3",
            "425c509d86794efda15365dba169075a",
            "5682fdd04b8540a380de83e0879354e7",
            "ec3a2379e2ef4959a25dab771283b03e",
            "e1552bc88d1942b6a6439cd329e20eba",
            "d41734af971147cda90653e9b26d2f50",
            "f93be78fed2a4127b0f1dcd357a9bed8",
            "a9a1f64ee4f4435281d2c2a1a9290220",
            "2381cc8ae9ce48bf9e49232fe5ca9b77",
            "b593d73afa2346e386f0c32663f778c8",
            "1172c95962e14ce7befe7d998f178b08",
            "a3de2fed7345463588d3564bdbe703e6",
            "7885814a8a4b4753a0a81ae4808adfb6",
            "0b2b9c9250c14ab58162eeed92efaf8c",
            "185ce7983cfa43d5803787d4d6eb24be",
            "061f47d08b7240f980f3ce3c5e90dacd",
            "d2d2c6586b154ee78cbad3563d23b885",
            "561ba1ebc3fa42348e6702a314b6c846",
            "5d5f9644dc4f4bf88adb6a49094c659a",
            "d65b3d770ac1417ba37686fd0563d4fa",
            "e718c1ec8ad940b19066e8980eebdab2",
            "d32d5035e086486085c917eb88f7d791",
            "d9acfb3fc9b84d0cbcd6bf086224f92d",
            "e7d8b9126dbd464496c648261c69868f",
            "9e6fb147b4a047ffbc572c59e18fd660",
            "97564f5bc48240f283b7360c3ec012d1",
            "0d46e91a33154565a1e15f0039a68e72",
            "4126913519154cbb97e6e7ab70033100",
            "824f814d130a4f24a37a641e100f2b39",
            "3ab00260de19487b9a901a78df62e70e",
            "eae9a41f7c4f4c5e89bd73f8e596bb86",
            "6ad71e82271548c9a4918818dd50bcf4",
            "50b8255b7758421e8cfbd79e7d6592e0",
            "ab6dcd48b3e84b7da382889f3cad97e8",
            "62c7dafe12e842dea48f37f1ae035f51",
            "4edb669031124c1c9160d4de22748402",
            "68c5fc5b61cf41249c7705d6767bb611",
            "6fe52ffdeb59487c979eedac4661dd61",
            "26933df22d514d02843f1e5de101a5ff",
            "bf7073add4e24c90b681e41606bb4e9c",
            "89e5d1bc215c41a4a70aa3f0e4cf1d10",
            "679094698e4d42b291150813f19c225c",
            "682e964fb9734ba79f12b13981a62b03",
            "e3fad85673f94636be6ba1d820f37a2f",
            "824b85d5c295409e9b4aff28e7554e81",
            "9201a6977b114e1d907cd19df95b2418",
            "4e47c73a95f64ec6a47e1da702ffa402",
            "4a0d3f89d5314b14807bbddbf5d30375",
            "81635ca4d465447c8920ca29bd2b5334",
            "11185e38a7b546debb9ef5c26e1c2570",
            "1454197420794cc1a4d33007aa5625fb",
            "d75387cd146641e3b09bd2695c91a716",
            "787245ff04d5483cb32ba2d265c93422",
            "5118e16c2d1a4ed8b3d7ee238327bf85",
            "91f70a77ff4d4a84862bc19a2c31b053",
            "2fa9dd090e2b4ef2a96b7870409442e7",
            "161de5a5433443f8acda866600957b31",
            "478f76c8f3db453586231a7476fd5531",
            "2d8886e6c9b9407c96df8f1c9948e147",
            "93a0f76732d54ade8e6b1f8be5244097",
            "e1783f4ab7e04a70954940698a5d0385",
            "d4634d9268a34264837b80de6bd8c1e6",
            "71694b5e264145e8854c24c592084619",
            "eed0627445fd4e0aa1a154c0d193be79",
            "e3e9c98b92774aa4b80457efad4992db",
            "1849864e80724ae0915e5fae74b98ce7",
            "86c6309b0b0f422f877d7be91dc07635",
            "71c5b7e76fb2469ba20ba6eb14cab23f",
            "7a2d80a2fac64c5a8b4552cfdd764799",
            "c957491aa5c3419f88b1ec07d6d14cdb",
            "a6f71f621d0940a7b8f2f6779e33809b",
            "5084c9c53ab144a19e9876ec2b0a0325",
            "8dc3a3abdbb9466c841eeed26d911328",
            "cf10e5852dab45d49d397fa36e9ca383",
            "2baecaed34944c2788b57d2e30ac27f9",
            "f95ece5eedcb4f55a2e75941e01b1642",
            "d5dc41851eb34267aaedeb651ea15e53",
            "bdf327ddabb64a63aedd2325c7744ba1",
            "acdfb3cc091145f5ab17ebc5b1ec1000",
            "637ec2e150f949d89102b21ffcfdfb77",
            "aa93be4b2ee24d9eb0c6feea891ff5a5",
            "e535d2d3a5b0448387dc48cf65fc4e5b",
            "d00923a87d7f4292a56a2ec4391f6737",
            "ebb272e7b55946b29190763018e31152",
            "e6a850105d8c46298b14fe29b57ffbe6",
            "26ebd92df8b24b4cb974f34d8c1ec0c2",
            "6acd9602e9de4ee789797e4dd902dfde",
            "7ac604f2845a4a809e038f4bb11862a4",
            "c937471fd694454581ea6682c4e5b3d2",
            "147bc6afc27747c4addab23fbda5a381",
            "10193ebaa00a467c8bc2ef1394ee5a9b",
            "aaafb44824914333970a53e57da2623f",
            "4c8bed73ccf142a99ac500c603f4473e",
            "aa567aa97f5b47b09873ffe82be0f8fd",
            "9191221d5c064da0927e91b0651e5f95",
            "29e844ed6ff54876826a7e5a47d38171"
          ]
        },
        "id": "wE0qbeQFwyk0",
        "outputId": "6503456a-c9d1-442d-a380-04da6e1a0444"
      },
      "outputs": [
        {
          "output_type": "stream",
          "name": "stderr",
          "text": [
            "\u001b[34m\u001b[1mwandb\u001b[0m: Agent Starting Run: 2h2oz37b with config:\n",
            "\u001b[34m\u001b[1mwandb\u001b[0m: \tbatch_size: 128\n",
            "\u001b[34m\u001b[1mwandb\u001b[0m: \tdropout: 0.4495462534810624\n",
            "\u001b[34m\u001b[1mwandb\u001b[0m: \tepochs: 11\n",
            "\u001b[34m\u001b[1mwandb\u001b[0m: \thidden_dim: 64\n",
            "\u001b[34m\u001b[1mwandb\u001b[0m: \tlearning_rate: 0.0022238325304523507\n",
            "\u001b[34m\u001b[1mwandb\u001b[0m: \tn_hidden: 2\n",
            "\u001b[34m\u001b[1mwandb\u001b[0m: \tweight_decay: 0.032496945846470844\n"
          ]
        },
        {
          "output_type": "display_data",
          "data": {
            "text/html": [
              "\n",
              "                    Syncing run <strong><a href=\"https://wandb.ai/krankile/weight-net/runs/2h2oz37b\" target=\"_blank\">effortless-sweep-1</a></strong> to <a href=\"https://wandb.ai/krankile/weight-net\" target=\"_blank\">Weights & Biases</a> (<a href=\"https://docs.wandb.com/integrations/jupyter.html\" target=\"_blank\">docs</a>).<br/>\n",
              "Sweep page: <a href=\"https://wandb.ai/krankile/weight-net/sweeps/4r44tbf3\" target=\"_blank\">https://wandb.ai/krankile/weight-net/sweeps/4r44tbf3</a><br/>\n",
              "\n",
              "                "
            ],
            "text/plain": [
              "<IPython.core.display.HTML object>"
            ]
          },
          "metadata": {}
        },
        {
          "output_type": "stream",
          "name": "stdout",
          "text": [
            "{'batch_size': 128, 'dropout': 0.4495462534810624, 'epochs': 11, 'hidden_dim': 64, 'learning_rate': 0.0022238325304523507, 'n_hidden': 2, 'weight_decay': 0.032496945846470844, 'k': 5, 'optimizer': 'adamw', 'architecture': 'WeightNetV4', 'data': 'ensemble_traval:non-standard', 'data_split': 'traval_split_80_20:v0', 'loss_func': 'owa', 'bn': False, 'feature_set': 'ma', 'act': 'leaky', 'num_models': 14, 'schedule': None}\n"
          ]
        },
        {
          "output_type": "stream",
          "name": "stderr",
          "text": [
            "\u001b[34m\u001b[1mwandb\u001b[0m: Downloading large artifact ensemble_traval:non-standard, 119.61MB. 1 files... Done. 0:0:0\n"
          ]
        },
        {
          "output_type": "stream",
          "name": "stdout",
          "text": [
            "CPU count: 2\n",
            "Loaded df of shape (79996, 801)\n",
            "Loaded df of shape (19999, 801)\n",
            "Moving model to device: cuda\n"
          ]
        },
        {
          "output_type": "stream",
          "name": "stderr",
          "text": [
            "Fold 1 of 5: 100%|██████████| 11/11 [01:30<00:00,  8.25s/it, train_loss=0.767, val_loss=0.775, lr=2.22e-03]\n"
          ]
        },
        {
          "output_type": "stream",
          "name": "stdout",
          "text": [
            "CPU count: 2\n",
            "Loaded df of shape (79996, 801)\n",
            "Loaded df of shape (19999, 801)\n",
            "Moving model to device: cuda\n"
          ]
        },
        {
          "output_type": "stream",
          "name": "stderr",
          "text": [
            "Fold 2 of 5: 100%|██████████| 11/11 [01:31<00:00,  8.36s/it, train_loss=0.771, val_loss=0.777, lr=2.22e-03]\n"
          ]
        },
        {
          "output_type": "stream",
          "name": "stdout",
          "text": [
            "CPU count: 2\n",
            "Loaded df of shape (79996, 801)\n",
            "Loaded df of shape (19999, 801)\n",
            "Moving model to device: cuda\n"
          ]
        },
        {
          "output_type": "stream",
          "name": "stderr",
          "text": [
            "Fold 3 of 5: 100%|██████████| 11/11 [01:29<00:00,  8.15s/it, train_loss=0.773, val_loss=0.776, lr=2.22e-03]\n"
          ]
        },
        {
          "output_type": "stream",
          "name": "stdout",
          "text": [
            "CPU count: 2\n",
            "Loaded df of shape (79996, 801)\n",
            "Loaded df of shape (19999, 801)\n",
            "Moving model to device: cuda\n"
          ]
        },
        {
          "output_type": "stream",
          "name": "stderr",
          "text": [
            "Fold 4 of 5: 100%|██████████| 11/11 [01:32<00:00,  8.44s/it, train_loss=0.773, val_loss=0.778, lr=2.22e-03]\n"
          ]
        },
        {
          "output_type": "stream",
          "name": "stdout",
          "text": [
            "CPU count: 2\n",
            "Loaded df of shape (79996, 801)\n",
            "Loaded df of shape (19999, 801)\n",
            "Moving model to device: cuda\n"
          ]
        },
        {
          "output_type": "stream",
          "name": "stderr",
          "text": [
            "Fold 5 of 5: 100%|██████████| 11/11 [01:32<00:00,  8.39s/it, train_loss=0.77, val_loss=0.824, lr=2.22e-03]\n"
          ]
        },
        {
          "output_type": "stream",
          "name": "stdout",
          "text": [
            "CPU count: 2\n",
            "Loaded df of shape (99995, 801)\n",
            "Loaded df of shape (19999, 801)\n",
            "Moving model to device: cuda\n"
          ]
        },
        {
          "output_type": "stream",
          "name": "stderr",
          "text": [
            "Fold 6 of 5: 100%|██████████| 11/11 [01:51<00:00, 10.14s/it, train_loss=0.767, val_loss=0.759, lr=2.22e-03]\n"
          ]
        },
        {
          "output_type": "stream",
          "name": "stdout",
          "text": [
            "CPU count: 2\n",
            "Loaded df of shape (99995, 801)\n",
            "Loaded df of shape (19999, 801)\n",
            "Moving model to device: cuda\n"
          ]
        },
        {
          "output_type": "stream",
          "name": "stderr",
          "text": [
            "Fold 7 of 5: 100%|██████████| 11/11 [01:51<00:00, 10.17s/it, train_loss=0.77, val_loss=0.768, lr=2.22e-03]\n"
          ]
        },
        {
          "output_type": "stream",
          "name": "stdout",
          "text": [
            "CPU count: 2\n",
            "Loaded df of shape (99995, 801)\n",
            "Loaded df of shape (19999, 801)\n",
            "Moving model to device: cuda\n"
          ]
        },
        {
          "output_type": "stream",
          "name": "stderr",
          "text": [
            "Fold 8 of 5: 100%|██████████| 11/11 [01:53<00:00, 10.27s/it, train_loss=0.772, val_loss=0.772, lr=2.22e-03]\n"
          ]
        },
        {
          "output_type": "stream",
          "name": "stdout",
          "text": [
            "CPU count: 2\n",
            "Loaded df of shape (99995, 801)\n",
            "Loaded df of shape (19999, 801)\n",
            "Moving model to device: cuda\n"
          ]
        },
        {
          "output_type": "stream",
          "name": "stderr",
          "text": [
            "Fold 9 of 5: 100%|██████████| 11/11 [01:51<00:00, 10.13s/it, train_loss=0.773, val_loss=0.773, lr=2.22e-03]\n"
          ]
        },
        {
          "output_type": "stream",
          "name": "stdout",
          "text": [
            "CPU count: 2\n",
            "Loaded df of shape (99995, 801)\n",
            "Loaded df of shape (19999, 801)\n",
            "Moving model to device: cuda\n"
          ]
        },
        {
          "output_type": "stream",
          "name": "stderr",
          "text": [
            "Fold 10 of 5: 100%|██████████| 11/11 [01:51<00:00, 10.16s/it, train_loss=0.773, val_loss=0.777, lr=2.22e-03]\n"
          ]
        },
        {
          "output_type": "stream",
          "name": "stdout",
          "text": [
            "CPU count: 2\n",
            "Loaded df of shape (99995, 801)\n",
            "Loaded df of shape (19999, 801)\n",
            "Moving model to device: cuda\n"
          ]
        },
        {
          "output_type": "stream",
          "name": "stderr",
          "text": [
            "Fold 11 of 5: 100%|██████████| 11/11 [01:48<00:00,  9.87s/it, train_loss=0.768, val_loss=0.763, lr=2.22e-03]\n"
          ]
        },
        {
          "output_type": "stream",
          "name": "stdout",
          "text": [
            "CPU count: 2\n",
            "Loaded df of shape (99995, 801)\n",
            "Loaded df of shape (19999, 801)\n",
            "Moving model to device: cuda\n"
          ]
        },
        {
          "output_type": "stream",
          "name": "stderr",
          "text": [
            "Fold 12 of 5: 100%|██████████| 11/11 [01:53<00:00, 10.34s/it, train_loss=0.768, val_loss=0.763, lr=2.22e-03]\n"
          ]
        },
        {
          "output_type": "stream",
          "name": "stdout",
          "text": [
            "CPU count: 2\n",
            "Loaded df of shape (99995, 801)\n",
            "Loaded df of shape (19999, 801)\n",
            "Moving model to device: cuda\n"
          ]
        },
        {
          "output_type": "stream",
          "name": "stderr",
          "text": [
            "Fold 13 of 5: 100%|██████████| 11/11 [01:51<00:00, 10.12s/it, train_loss=0.768, val_loss=0.767, lr=2.22e-03]\n"
          ]
        },
        {
          "output_type": "stream",
          "name": "stdout",
          "text": [
            "CPU count: 2\n",
            "Loaded df of shape (99995, 801)\n",
            "Loaded df of shape (19999, 801)\n",
            "Moving model to device: cuda\n"
          ]
        },
        {
          "output_type": "stream",
          "name": "stderr",
          "text": [
            "Fold 14 of 5: 100%|██████████| 11/11 [01:51<00:00, 10.17s/it, train_loss=0.77, val_loss=0.769, lr=2.22e-03]\n"
          ]
        },
        {
          "output_type": "stream",
          "name": "stdout",
          "text": [
            "CPU count: 2\n",
            "Loaded df of shape (99995, 801)\n",
            "Loaded df of shape (19999, 801)\n",
            "Moving model to device: cuda\n"
          ]
        },
        {
          "output_type": "stream",
          "name": "stderr",
          "text": [
            "Fold 15 of 5: 100%|██████████| 11/11 [01:53<00:00, 10.28s/it, train_loss=0.77, val_loss=0.772, lr=2.22e-03]\n"
          ]
        },
        {
          "output_type": "display_data",
          "data": {
            "text/html": [
              "<br/>Waiting for W&B process to finish, PID 30099... <strong style=\"color:green\">(success).</strong>"
            ],
            "text/plain": [
              "<IPython.core.display.HTML object>"
            ]
          },
          "metadata": {}
        },
        {
          "output_type": "display_data",
          "data": {
            "application/vnd.jupyter.widget-view+json": {
              "model_id": "e7f83a1c27064c4b98c2132c4cc6cf71",
              "version_minor": 0,
              "version_major": 2
            },
            "text/plain": [
              "VBox(children=(Label(value=' 0.00MB of 0.00MB uploaded (0.00MB deduped)\\r'), FloatProgress(value=1.0, max=1.0)…"
            ]
          },
          "metadata": {}
        },
        {
          "output_type": "display_data",
          "data": {
            "text/html": [
              "<style>\n",
              "    table.wandb td:nth-child(1) { padding: 0 10px; text-align: right }\n",
              "    .wandb-row { display: flex; flex-direction: row; flex-wrap: wrap; width: 100% }\n",
              "    .wandb-col { display: flex; flex-direction: column; flex-basis: 100%; flex: 1; padding: 10px; }\n",
              "    </style>\n",
              "<div class=\"wandb-row\"><div class=\"wandb-col\">\n",
              "<h3>Run history:</h3><br/><table class=\"wandb\"><tr><td>epoch</td><td>▂▅▇▂▅█▃▆▁▄▇▂▅▁▄▇▂▅▇▂▅█▃▆▁▄█▃▆▁▄▇▂▅▇▂▅█▃▇</td></tr><tr><td>lr</td><td>▁▁▁▁▁▁▁▁▁▁▁▁▁▁▁▁▁▁▁▁▁▁▁▁▁▁▁▁▁▁▁▁▁▁▁▁▁▁▁▁</td></tr><tr><td>overall_loss</td><td>▁</td></tr><tr><td>random_seed</td><td>▁</td></tr><tr><td>train_loss/0</td><td>█▂▂▂▂▁▁▁▁▁▁</td></tr><tr><td>train_loss/1</td><td>█▃▂▂▂▂▁▁▁▁▁</td></tr><tr><td>train_loss/10</td><td>█▄▃▃▂▂▂▂▁▁▁</td></tr><tr><td>train_loss/11</td><td>█▄▄▃▃▂▂▂▂▁▁</td></tr><tr><td>train_loss/12</td><td>█▄▃▃▂▂▂▂▁▁▁</td></tr><tr><td>train_loss/13</td><td>█▃▃▂▂▂▂▁▁▁▁</td></tr><tr><td>train_loss/14</td><td>█▃▃▂▂▂▁▂▁▁▁</td></tr><tr><td>train_loss/2</td><td>█▂▂▂▂▁▁▁▁▁▁</td></tr><tr><td>train_loss/3</td><td>█▂▂▂▂▁▁▁▁▁▁</td></tr><tr><td>train_loss/4</td><td>█▂▂▂▂▁▁▁▁▁▁</td></tr><tr><td>train_loss/5</td><td>█▂▂▂▂▁▁▁▁▁▁</td></tr><tr><td>train_loss/6</td><td>█▂▂▁▁▁▁▁▁▁▁</td></tr><tr><td>train_loss/7</td><td>█▁▁▁▁▁▁▁▁▁▁</td></tr><tr><td>train_loss/8</td><td>█▁▁▁▁▁▁▁▁▁▁</td></tr><tr><td>train_loss/9</td><td>█▁▁▁▁▁▁▁▁▁▁</td></tr><tr><td>val_loss/0</td><td>█▇▅▄▃▂▂▂▁▁▁</td></tr><tr><td>val_loss/1</td><td>█▆▄▄▃▃▂▃▁▃▁</td></tr><tr><td>val_loss/10</td><td>█▆▅▄▃▄▂▂▂▁▁</td></tr><tr><td>val_loss/11</td><td>█▆▆▅▄▃▃▃▂▂▁</td></tr><tr><td>val_loss/12</td><td>█▆▅▄▄▃▂▂▂▁▁</td></tr><tr><td>val_loss/13</td><td>█▆▄▄▃▃▃▂▁▁▁</td></tr><tr><td>val_loss/14</td><td>█▆▅▅▄▂▂▂▂▂▁</td></tr><tr><td>val_loss/2</td><td>█▆▅▄▄▃▂▂▂▁▁</td></tr><tr><td>val_loss/3</td><td>█▅▄▄▃▃▂▂▁▃▁</td></tr><tr><td>val_loss/4</td><td>▂▂▁▂▁█▂▂▂█▁</td></tr><tr><td>val_loss/5</td><td>█▇▅▄▄▃▃▂▁▁▁</td></tr><tr><td>val_loss/6</td><td>█▆▅▅▄▄▄▂▂▁▁</td></tr><tr><td>val_loss/7</td><td>█▆▅▄▃▃▃▃▂▂▁</td></tr><tr><td>val_loss/8</td><td>█▆▆▄▃▃▃▂▁▁▁</td></tr><tr><td>val_loss/9</td><td>█▆▆▄▃▃▆▂▂▁▁</td></tr></table><br/></div><div class=\"wandb-col\">\n",
              "<h3>Run summary:</h3><br/><table class=\"wandb\"><tr><td>epoch</td><td>11</td></tr><tr><td>lr</td><td>0.00222</td></tr><tr><td>overall_loss</td><td>0.76699</td></tr><tr><td>random_seed</td><td>513762933</td></tr><tr><td>train_loss/0</td><td>0.76664</td></tr><tr><td>train_loss/1</td><td>0.77106</td></tr><tr><td>train_loss/10</td><td>0.76808</td></tr><tr><td>train_loss/11</td><td>0.76826</td></tr><tr><td>train_loss/12</td><td>0.76842</td></tr><tr><td>train_loss/13</td><td>0.77002</td></tr><tr><td>train_loss/14</td><td>0.77022</td></tr><tr><td>train_loss/2</td><td>0.77268</td></tr><tr><td>train_loss/3</td><td>0.77286</td></tr><tr><td>train_loss/4</td><td>0.77037</td></tr><tr><td>train_loss/5</td><td>0.76715</td></tr><tr><td>train_loss/6</td><td>0.76973</td></tr><tr><td>train_loss/7</td><td>0.7724</td></tr><tr><td>train_loss/8</td><td>0.77288</td></tr><tr><td>train_loss/9</td><td>0.7729</td></tr><tr><td>val_loss/0</td><td>0.77504</td></tr><tr><td>val_loss/1</td><td>0.77665</td></tr><tr><td>val_loss/10</td><td>0.76344</td></tr><tr><td>val_loss/11</td><td>0.76307</td></tr><tr><td>val_loss/12</td><td>0.76727</td></tr><tr><td>val_loss/13</td><td>0.76937</td></tr><tr><td>val_loss/14</td><td>0.77179</td></tr><tr><td>val_loss/2</td><td>0.77589</td></tr><tr><td>val_loss/3</td><td>0.77838</td></tr><tr><td>val_loss/4</td><td>0.82421</td></tr><tr><td>val_loss/5</td><td>0.75851</td></tr><tr><td>val_loss/6</td><td>0.76787</td></tr><tr><td>val_loss/7</td><td>0.77199</td></tr><tr><td>val_loss/8</td><td>0.77321</td></tr><tr><td>val_loss/9</td><td>0.77745</td></tr></table>\n",
              "</div></div>\n",
              "Synced 5 W&B file(s), 0 media file(s), 0 artifact file(s) and 0 other file(s)\n",
              "<br/>Synced <strong style=\"color:#cdcd00\">effortless-sweep-1</strong>: <a href=\"https://wandb.ai/krankile/weight-net/runs/2h2oz37b\" target=\"_blank\">https://wandb.ai/krankile/weight-net/runs/2h2oz37b</a><br/>\n",
              "Find logs at: <code>./wandb/run-20211211_204949-2h2oz37b/logs</code><br/>\n"
            ],
            "text/plain": [
              "<IPython.core.display.HTML object>"
            ]
          },
          "metadata": {}
        },
        {
          "output_type": "stream",
          "name": "stderr",
          "text": [
            "\u001b[34m\u001b[1mwandb\u001b[0m: Agent Starting Run: 11ipmfka with config:\n",
            "\u001b[34m\u001b[1mwandb\u001b[0m: \tbatch_size: 128\n",
            "\u001b[34m\u001b[1mwandb\u001b[0m: \tdropout: 0.5425306950557668\n",
            "\u001b[34m\u001b[1mwandb\u001b[0m: \tepochs: 9\n",
            "\u001b[34m\u001b[1mwandb\u001b[0m: \thidden_dim: 64\n",
            "\u001b[34m\u001b[1mwandb\u001b[0m: \tlearning_rate: 0.0008020849127072686\n",
            "\u001b[34m\u001b[1mwandb\u001b[0m: \tn_hidden: 3\n",
            "\u001b[34m\u001b[1mwandb\u001b[0m: \tweight_decay: 0.01927442922471968\n"
          ]
        },
        {
          "output_type": "display_data",
          "data": {
            "text/html": [
              "\n",
              "                    Syncing run <strong><a href=\"https://wandb.ai/krankile/weight-net/runs/11ipmfka\" target=\"_blank\">lilac-sweep-7</a></strong> to <a href=\"https://wandb.ai/krankile/weight-net\" target=\"_blank\">Weights & Biases</a> (<a href=\"https://docs.wandb.com/integrations/jupyter.html\" target=\"_blank\">docs</a>).<br/>\n",
              "Sweep page: <a href=\"https://wandb.ai/krankile/weight-net/sweeps/4r44tbf3\" target=\"_blank\">https://wandb.ai/krankile/weight-net/sweeps/4r44tbf3</a><br/>\n",
              "\n",
              "                "
            ],
            "text/plain": [
              "<IPython.core.display.HTML object>"
            ]
          },
          "metadata": {}
        },
        {
          "output_type": "stream",
          "name": "stdout",
          "text": [
            "{'batch_size': 128, 'dropout': 0.5425306950557668, 'epochs': 9, 'hidden_dim': 64, 'learning_rate': 0.0008020849127072686, 'n_hidden': 3, 'weight_decay': 0.01927442922471968, 'k': 5, 'optimizer': 'adamw', 'architecture': 'WeightNetV4', 'data': 'ensemble_traval:non-standard', 'data_split': 'traval_split_80_20:v0', 'loss_func': 'owa', 'bn': False, 'feature_set': 'ma', 'act': 'leaky', 'num_models': 14, 'schedule': None}\n"
          ]
        },
        {
          "output_type": "stream",
          "name": "stderr",
          "text": [
            "\u001b[34m\u001b[1mwandb\u001b[0m: Downloading large artifact ensemble_traval:non-standard, 119.61MB. 1 files... Done. 0:0:0\n"
          ]
        },
        {
          "output_type": "stream",
          "name": "stdout",
          "text": [
            "CPU count: 2\n",
            "Loaded df of shape (79996, 801)\n",
            "Loaded df of shape (19999, 801)\n",
            "Moving model to device: cuda\n"
          ]
        },
        {
          "output_type": "stream",
          "name": "stderr",
          "text": [
            "Fold 1 of 5: 100%|██████████| 9/9 [01:17<00:00,  8.63s/it, train_loss=0.774, val_loss=0.78, lr=8.02e-04]\n"
          ]
        },
        {
          "output_type": "stream",
          "name": "stdout",
          "text": [
            "CPU count: 2\n",
            "Loaded df of shape (79996, 801)\n",
            "Loaded df of shape (19999, 801)\n",
            "Moving model to device: cuda\n"
          ]
        },
        {
          "output_type": "stream",
          "name": "stderr",
          "text": [
            "Fold 2 of 5: 100%|██████████| 9/9 [01:16<00:00,  8.50s/it, train_loss=0.779, val_loss=0.782, lr=8.02e-04]\n"
          ]
        },
        {
          "output_type": "stream",
          "name": "stdout",
          "text": [
            "CPU count: 2\n",
            "Loaded df of shape (79996, 801)\n",
            "Loaded df of shape (19999, 801)\n",
            "Moving model to device: cuda\n"
          ]
        },
        {
          "output_type": "stream",
          "name": "stderr",
          "text": [
            "Fold 3 of 5: 100%|██████████| 9/9 [01:16<00:00,  8.46s/it, train_loss=0.78, val_loss=0.783, lr=8.02e-04]\n"
          ]
        },
        {
          "output_type": "stream",
          "name": "stdout",
          "text": [
            "CPU count: 2\n",
            "Loaded df of shape (79996, 801)\n",
            "Loaded df of shape (19999, 801)\n",
            "Moving model to device: cuda\n"
          ]
        },
        {
          "output_type": "stream",
          "name": "stderr",
          "text": [
            "Fold 4 of 5: 100%|██████████| 9/9 [01:18<00:00,  8.72s/it, train_loss=0.779, val_loss=0.782, lr=8.02e-04]\n"
          ]
        },
        {
          "output_type": "stream",
          "name": "stdout",
          "text": [
            "CPU count: 2\n",
            "Loaded df of shape (79996, 801)\n",
            "Loaded df of shape (19999, 801)\n",
            "Moving model to device: cuda\n"
          ]
        },
        {
          "output_type": "stream",
          "name": "stderr",
          "text": [
            "Fold 5 of 5: 100%|██████████| 9/9 [01:19<00:00,  8.83s/it, train_loss=0.778, val_loss=0.834, lr=8.02e-04]\n"
          ]
        },
        {
          "output_type": "stream",
          "name": "stdout",
          "text": [
            "CPU count: 2\n",
            "Loaded df of shape (99995, 801)\n",
            "Loaded df of shape (19999, 801)\n",
            "Moving model to device: cuda\n"
          ]
        },
        {
          "output_type": "stream",
          "name": "stderr",
          "text": [
            "Fold 6 of 5: 100%|██████████| 9/9 [01:32<00:00, 10.23s/it, train_loss=0.776, val_loss=0.769, lr=8.02e-04]\n"
          ]
        },
        {
          "output_type": "stream",
          "name": "stdout",
          "text": [
            "CPU count: 2\n",
            "Loaded df of shape (99995, 801)\n",
            "Loaded df of shape (19999, 801)\n",
            "Moving model to device: cuda\n"
          ]
        },
        {
          "output_type": "stream",
          "name": "stderr",
          "text": [
            "Fold 7 of 5: 100%|██████████| 9/9 [01:35<00:00, 10.60s/it, train_loss=0.781, val_loss=0.78, lr=8.02e-04]\n"
          ]
        },
        {
          "output_type": "stream",
          "name": "stdout",
          "text": [
            "CPU count: 2\n",
            "Loaded df of shape (99995, 801)\n",
            "Loaded df of shape (19999, 801)\n",
            "Moving model to device: cuda\n"
          ]
        },
        {
          "output_type": "stream",
          "name": "stderr",
          "text": [
            "Fold 8 of 5: 100%|██████████| 9/9 [01:34<00:00, 10.47s/it, train_loss=0.781, val_loss=0.781, lr=8.02e-04]\n"
          ]
        },
        {
          "output_type": "stream",
          "name": "stdout",
          "text": [
            "CPU count: 2\n",
            "Loaded df of shape (99995, 801)\n",
            "Loaded df of shape (19999, 801)\n",
            "Moving model to device: cuda\n"
          ]
        },
        {
          "output_type": "stream",
          "name": "stderr",
          "text": [
            "Fold 9 of 5: 100%|██████████| 9/9 [01:34<00:00, 10.50s/it, train_loss=0.78, val_loss=0.783, lr=8.02e-04]\n"
          ]
        },
        {
          "output_type": "stream",
          "name": "stdout",
          "text": [
            "CPU count: 2\n",
            "Loaded df of shape (99995, 801)\n",
            "Loaded df of shape (19999, 801)\n",
            "Moving model to device: cuda\n"
          ]
        },
        {
          "output_type": "stream",
          "name": "stderr",
          "text": [
            "Fold 10 of 5: 100%|██████████| 9/9 [01:31<00:00, 10.21s/it, train_loss=0.779, val_loss=0.782, lr=8.02e-04]\n"
          ]
        },
        {
          "output_type": "stream",
          "name": "stdout",
          "text": [
            "CPU count: 2\n",
            "Loaded df of shape (99995, 801)\n",
            "Loaded df of shape (19999, 801)\n",
            "Moving model to device: cuda\n"
          ]
        },
        {
          "output_type": "stream",
          "name": "stderr",
          "text": [
            "Fold 11 of 5: 100%|██████████| 9/9 [01:33<00:00, 10.33s/it, train_loss=0.771, val_loss=0.767, lr=8.02e-04]\n"
          ]
        },
        {
          "output_type": "stream",
          "name": "stdout",
          "text": [
            "CPU count: 2\n",
            "Loaded df of shape (99995, 801)\n",
            "Loaded df of shape (19999, 801)\n",
            "Moving model to device: cuda\n"
          ]
        },
        {
          "output_type": "stream",
          "name": "stderr",
          "text": [
            "Fold 12 of 5: 100%|██████████| 9/9 [01:35<00:00, 10.58s/it, train_loss=0.775, val_loss=0.77, lr=8.02e-04]\n"
          ]
        },
        {
          "output_type": "stream",
          "name": "stdout",
          "text": [
            "CPU count: 2\n",
            "Loaded df of shape (99995, 801)\n",
            "Loaded df of shape (19999, 801)\n",
            "Moving model to device: cuda\n"
          ]
        },
        {
          "output_type": "stream",
          "name": "stderr",
          "text": [
            "Fold 13 of 5: 100%|██████████| 9/9 [01:36<00:00, 10.73s/it, train_loss=0.777, val_loss=0.777, lr=8.02e-04]\n"
          ]
        },
        {
          "output_type": "stream",
          "name": "stdout",
          "text": [
            "CPU count: 2\n",
            "Loaded df of shape (99995, 801)\n",
            "Loaded df of shape (19999, 801)\n",
            "Moving model to device: cuda\n"
          ]
        },
        {
          "output_type": "stream",
          "name": "stderr",
          "text": [
            "Fold 14 of 5: 100%|██████████| 9/9 [01:33<00:00, 10.37s/it, train_loss=0.776, val_loss=0.775, lr=8.02e-04]\n"
          ]
        },
        {
          "output_type": "stream",
          "name": "stdout",
          "text": [
            "CPU count: 2\n",
            "Loaded df of shape (99995, 801)\n",
            "Loaded df of shape (19999, 801)\n",
            "Moving model to device: cuda\n"
          ]
        },
        {
          "output_type": "stream",
          "name": "stderr",
          "text": [
            "Fold 15 of 5: 100%|██████████| 9/9 [01:34<00:00, 10.53s/it, train_loss=0.777, val_loss=0.778, lr=8.02e-04]\n"
          ]
        },
        {
          "output_type": "display_data",
          "data": {
            "text/html": [
              "<br/>Waiting for W&B process to finish, PID 33536... <strong style=\"color:green\">(success).</strong>"
            ],
            "text/plain": [
              "<IPython.core.display.HTML object>"
            ]
          },
          "metadata": {}
        },
        {
          "output_type": "display_data",
          "data": {
            "application/vnd.jupyter.widget-view+json": {
              "model_id": "ab2d51711990422f81f3adfa165335c3",
              "version_minor": 0,
              "version_major": 2
            },
            "text/plain": [
              "VBox(children=(Label(value=' 0.00MB of 0.00MB uploaded (0.00MB deduped)\\r'), FloatProgress(value=1.0, max=1.0)…"
            ]
          },
          "metadata": {}
        },
        {
          "output_type": "display_data",
          "data": {
            "text/html": [
              "<style>\n",
              "    table.wandb td:nth-child(1) { padding: 0 10px; text-align: right }\n",
              "    .wandb-row { display: flex; flex-direction: row; flex-wrap: wrap; width: 100% }\n",
              "    .wandb-col { display: flex; flex-direction: column; flex-basis: 100%; flex: 1; padding: 10px; }\n",
              "    </style>\n",
              "<div class=\"wandb-row\"><div class=\"wandb-col\">\n",
              "<h3>Run history:</h3><br/><table class=\"wandb\"><tr><td>epoch</td><td>▂▄▇▃▅█▄▅▁▅▆▂▅▁▃▆▂▄▇▃▅█▄▅▁▅█▂▅▁▃▆▂▄▇▃▅█▄▇</td></tr><tr><td>lr</td><td>▁▁▁▁▁▁▁▁▁▁▁▁▁▁▁▁▁▁▁▁▁▁▁▁▁▁▁▁▁▁▁▁▁▁▁▁▁▁▁▁</td></tr><tr><td>overall_loss</td><td>▁</td></tr><tr><td>random_seed</td><td>▁</td></tr><tr><td>train_loss/0</td><td>█▂▂▂▁▁▁▁▁</td></tr><tr><td>train_loss/1</td><td>█▂▂▂▂▁▁▁▁</td></tr><tr><td>train_loss/10</td><td>█▃▃▂▂▂▁▁▁</td></tr><tr><td>train_loss/11</td><td>█▃▃▂▂▂▂▁▁</td></tr><tr><td>train_loss/12</td><td>█▃▃▂▂▂▁▁▁</td></tr><tr><td>train_loss/13</td><td>█▃▃▂▂▂▁▁▁</td></tr><tr><td>train_loss/14</td><td>█▂▂▂▂▁▁▁▁</td></tr><tr><td>train_loss/2</td><td>█▂▂▂▂▁▁▁▁</td></tr><tr><td>train_loss/3</td><td>█▃▂▂▂▁▁▁▁</td></tr><tr><td>train_loss/4</td><td>█▃▂▂▂▁▁▁▁</td></tr><tr><td>train_loss/5</td><td>█▁▁▁▁▁▁▁▁</td></tr><tr><td>train_loss/6</td><td>█▁▁▁▁▁▁▁▁</td></tr><tr><td>train_loss/7</td><td>█▁▁▁▁▁▁▁▁</td></tr><tr><td>train_loss/8</td><td>█▁▁▁▁▁▁▁▁</td></tr><tr><td>train_loss/9</td><td>█▁▁▁▁▁▁▁▁</td></tr><tr><td>val_loss/0</td><td>█▆▅▄▃▃▂▁▁</td></tr><tr><td>val_loss/1</td><td>█▅▄▃▂▂▁▂▁</td></tr><tr><td>val_loss/10</td><td>█▇▆▄▄▃▂▂▁</td></tr><tr><td>val_loss/11</td><td>█▆▅▄▃▃▂▂▁</td></tr><tr><td>val_loss/12</td><td>█▆▆▄▃▃▂▁▁</td></tr><tr><td>val_loss/13</td><td>█▆▅▃▄▄▂▁▁</td></tr><tr><td>val_loss/14</td><td>█▇▅▄▄▄▂▁▁</td></tr><tr><td>val_loss/2</td><td>█▅▄▃▃▂▂▁▁</td></tr><tr><td>val_loss/3</td><td>█▅▄▄▃▂▂▂▁</td></tr><tr><td>val_loss/4</td><td>▁▁▄▆█▆▁▄▅</td></tr><tr><td>val_loss/5</td><td>█▆▅▄▃▂▂▂▁</td></tr><tr><td>val_loss/6</td><td>█▅▄▃▃▂▁▁▁</td></tr><tr><td>val_loss/7</td><td>█▅▄▃▂▂▁▁▁</td></tr><tr><td>val_loss/8</td><td>█▅▅▄▂▂▁▁▁</td></tr><tr><td>val_loss/9</td><td>█▅▅▅▃▂▂▂▁</td></tr></table><br/></div><div class=\"wandb-col\">\n",
              "<h3>Run summary:</h3><br/><table class=\"wandb\"><tr><td>epoch</td><td>9</td></tr><tr><td>lr</td><td>0.0008</td></tr><tr><td>overall_loss</td><td>0.77333</td></tr><tr><td>random_seed</td><td>541052347</td></tr><tr><td>train_loss/0</td><td>0.7736</td></tr><tr><td>train_loss/1</td><td>0.77936</td></tr><tr><td>train_loss/10</td><td>0.77116</td></tr><tr><td>train_loss/11</td><td>0.7752</td></tr><tr><td>train_loss/12</td><td>0.77705</td></tr><tr><td>train_loss/13</td><td>0.77594</td></tr><tr><td>train_loss/14</td><td>0.77664</td></tr><tr><td>train_loss/2</td><td>0.78018</td></tr><tr><td>train_loss/3</td><td>0.77896</td></tr><tr><td>train_loss/4</td><td>0.77786</td></tr><tr><td>train_loss/5</td><td>0.77637</td></tr><tr><td>train_loss/6</td><td>0.78133</td></tr><tr><td>train_loss/7</td><td>0.78083</td></tr><tr><td>train_loss/8</td><td>0.78005</td></tr><tr><td>train_loss/9</td><td>0.77941</td></tr><tr><td>val_loss/0</td><td>0.78007</td></tr><tr><td>val_loss/1</td><td>0.78248</td></tr><tr><td>val_loss/10</td><td>0.76737</td></tr><tr><td>val_loss/11</td><td>0.77013</td></tr><tr><td>val_loss/12</td><td>0.77666</td></tr><tr><td>val_loss/13</td><td>0.77496</td></tr><tr><td>val_loss/14</td><td>0.77751</td></tr><tr><td>val_loss/2</td><td>0.78255</td></tr><tr><td>val_loss/3</td><td>0.78239</td></tr><tr><td>val_loss/4</td><td>0.83397</td></tr><tr><td>val_loss/5</td><td>0.7687</td></tr><tr><td>val_loss/6</td><td>0.78018</td></tr><tr><td>val_loss/7</td><td>0.78082</td></tr><tr><td>val_loss/8</td><td>0.78294</td></tr><tr><td>val_loss/9</td><td>0.78238</td></tr></table>\n",
              "</div></div>\n",
              "Synced 5 W&B file(s), 0 media file(s), 0 artifact file(s) and 0 other file(s)\n",
              "<br/>Synced <strong style=\"color:#cdcd00\">lilac-sweep-7</strong>: <a href=\"https://wandb.ai/krankile/weight-net/runs/11ipmfka\" target=\"_blank\">https://wandb.ai/krankile/weight-net/runs/11ipmfka</a><br/>\n",
              "Find logs at: <code>./wandb/run-20211211_212150-11ipmfka/logs</code><br/>\n"
            ],
            "text/plain": [
              "<IPython.core.display.HTML object>"
            ]
          },
          "metadata": {}
        },
        {
          "output_type": "stream",
          "name": "stderr",
          "text": [
            "\u001b[34m\u001b[1mwandb\u001b[0m: Agent Starting Run: i51e1yj3 with config:\n",
            "\u001b[34m\u001b[1mwandb\u001b[0m: \tbatch_size: 128\n",
            "\u001b[34m\u001b[1mwandb\u001b[0m: \tdropout: 0.7005490669203649\n",
            "\u001b[34m\u001b[1mwandb\u001b[0m: \tepochs: 6\n",
            "\u001b[34m\u001b[1mwandb\u001b[0m: \thidden_dim: 192\n",
            "\u001b[34m\u001b[1mwandb\u001b[0m: \tlearning_rate: 0.00011567503363432715\n",
            "\u001b[34m\u001b[1mwandb\u001b[0m: \tn_hidden: 1\n",
            "\u001b[34m\u001b[1mwandb\u001b[0m: \tweight_decay: 0.0035087095615373605\n"
          ]
        },
        {
          "output_type": "display_data",
          "data": {
            "text/html": [
              "\n",
              "                    Syncing run <strong><a href=\"https://wandb.ai/krankile/weight-net/runs/i51e1yj3\" target=\"_blank\">driven-sweep-13</a></strong> to <a href=\"https://wandb.ai/krankile/weight-net\" target=\"_blank\">Weights & Biases</a> (<a href=\"https://docs.wandb.com/integrations/jupyter.html\" target=\"_blank\">docs</a>).<br/>\n",
              "Sweep page: <a href=\"https://wandb.ai/krankile/weight-net/sweeps/4r44tbf3\" target=\"_blank\">https://wandb.ai/krankile/weight-net/sweeps/4r44tbf3</a><br/>\n",
              "\n",
              "                "
            ],
            "text/plain": [
              "<IPython.core.display.HTML object>"
            ]
          },
          "metadata": {}
        },
        {
          "output_type": "stream",
          "name": "stdout",
          "text": [
            "{'batch_size': 128, 'dropout': 0.7005490669203649, 'epochs': 6, 'hidden_dim': 192, 'learning_rate': 0.00011567503363432715, 'n_hidden': 1, 'weight_decay': 0.0035087095615373605, 'k': 5, 'optimizer': 'adamw', 'architecture': 'WeightNetV4', 'data': 'ensemble_traval:non-standard', 'data_split': 'traval_split_80_20:v0', 'loss_func': 'owa', 'bn': False, 'feature_set': 'ma', 'act': 'leaky', 'num_models': 14, 'schedule': None}\n"
          ]
        },
        {
          "output_type": "stream",
          "name": "stderr",
          "text": [
            "\u001b[34m\u001b[1mwandb\u001b[0m: Downloading large artifact ensemble_traval:non-standard, 119.61MB. 1 files... Done. 0:0:0\n"
          ]
        },
        {
          "output_type": "stream",
          "name": "stdout",
          "text": [
            "CPU count: 2\n",
            "Loaded df of shape (79996, 801)\n",
            "Loaded df of shape (19999, 801)\n",
            "Moving model to device: cuda\n"
          ]
        },
        {
          "output_type": "stream",
          "name": "stderr",
          "text": [
            "Fold 1 of 5: 100%|██████████| 6/6 [00:50<00:00,  8.40s/it, train_loss=0.798, val_loss=0.838, lr=1.16e-04]\n"
          ]
        },
        {
          "output_type": "stream",
          "name": "stdout",
          "text": [
            "CPU count: 2\n",
            "Loaded df of shape (79996, 801)\n",
            "Loaded df of shape (19999, 801)\n",
            "Moving model to device: cuda\n"
          ]
        },
        {
          "output_type": "stream",
          "name": "stderr",
          "text": [
            "Fold 2 of 5: 100%|██████████| 6/6 [00:50<00:00,  8.49s/it, train_loss=0.822, val_loss=0.803, lr=1.16e-04]\n"
          ]
        },
        {
          "output_type": "stream",
          "name": "stdout",
          "text": [
            "CPU count: 2\n",
            "Loaded df of shape (79996, 801)\n",
            "Loaded df of shape (19999, 801)\n",
            "Moving model to device: cuda\n"
          ]
        },
        {
          "output_type": "stream",
          "name": "stderr",
          "text": [
            "Fold 3 of 5: 100%|██████████| 6/6 [00:47<00:00,  7.98s/it, train_loss=0.824, val_loss=0.801, lr=1.16e-04]\n"
          ]
        },
        {
          "output_type": "stream",
          "name": "stdout",
          "text": [
            "CPU count: 2\n",
            "Loaded df of shape (79996, 801)\n",
            "Loaded df of shape (19999, 801)\n",
            "Moving model to device: cuda\n"
          ]
        },
        {
          "output_type": "stream",
          "name": "stderr",
          "text": [
            "Fold 4 of 5: 100%|██████████| 6/6 [00:50<00:00,  8.40s/it, train_loss=0.82, val_loss=0.803, lr=1.16e-04]\n"
          ]
        },
        {
          "output_type": "stream",
          "name": "stdout",
          "text": [
            "CPU count: 2\n",
            "Loaded df of shape (79996, 801)\n",
            "Loaded df of shape (19999, 801)\n",
            "Moving model to device: cuda\n"
          ]
        },
        {
          "output_type": "stream",
          "name": "stderr",
          "text": [
            "Fold 5 of 5: 100%|██████████| 6/6 [00:49<00:00,  8.25s/it, train_loss=0.804, val_loss=0.829, lr=1.16e-04]\n"
          ]
        },
        {
          "output_type": "stream",
          "name": "stdout",
          "text": [
            "CPU count: 2\n",
            "Loaded df of shape (99995, 801)\n",
            "Loaded df of shape (19999, 801)\n",
            "Moving model to device: cuda\n"
          ]
        },
        {
          "output_type": "stream",
          "name": "stderr",
          "text": [
            "Fold 6 of 5: 100%|██████████| 6/6 [01:00<00:00, 10.15s/it, train_loss=0.791, val_loss=0.785, lr=1.16e-04]\n"
          ]
        },
        {
          "output_type": "stream",
          "name": "stdout",
          "text": [
            "CPU count: 2\n",
            "Loaded df of shape (99995, 801)\n",
            "Loaded df of shape (19999, 801)\n",
            "Moving model to device: cuda\n"
          ]
        },
        {
          "output_type": "stream",
          "name": "stderr",
          "text": [
            "Fold 7 of 5: 100%|██████████| 6/6 [01:00<00:00, 10.10s/it, train_loss=0.803, val_loss=0.812, lr=1.16e-04]\n"
          ]
        },
        {
          "output_type": "stream",
          "name": "stdout",
          "text": [
            "CPU count: 2\n",
            "Loaded df of shape (99995, 801)\n",
            "Loaded df of shape (19999, 801)\n",
            "Moving model to device: cuda\n"
          ]
        },
        {
          "output_type": "stream",
          "name": "stderr",
          "text": [
            "Fold 8 of 5: 100%|██████████| 6/6 [01:00<00:00, 10.11s/it, train_loss=0.805, val_loss=0.795, lr=1.16e-04]\n"
          ]
        },
        {
          "output_type": "stream",
          "name": "stdout",
          "text": [
            "CPU count: 2\n",
            "Loaded df of shape (99995, 801)\n",
            "Loaded df of shape (19999, 801)\n",
            "Moving model to device: cuda\n"
          ]
        },
        {
          "output_type": "stream",
          "name": "stderr",
          "text": [
            "Fold 9 of 5: 100%|██████████| 6/6 [00:58<00:00,  9.73s/it, train_loss=0.805, val_loss=0.798, lr=1.16e-04]\n"
          ]
        },
        {
          "output_type": "stream",
          "name": "stdout",
          "text": [
            "CPU count: 2\n",
            "Loaded df of shape (99995, 801)\n",
            "Loaded df of shape (19999, 801)\n",
            "Moving model to device: cuda\n"
          ]
        },
        {
          "output_type": "stream",
          "name": "stderr",
          "text": [
            "Fold 10 of 5: 100%|██████████| 6/6 [01:00<00:00, 10.14s/it, train_loss=0.804, val_loss=0.802, lr=1.16e-04]\n"
          ]
        },
        {
          "output_type": "stream",
          "name": "stdout",
          "text": [
            "CPU count: 2\n",
            "Loaded df of shape (99995, 801)\n",
            "Loaded df of shape (19999, 801)\n",
            "Moving model to device: cuda\n"
          ]
        },
        {
          "output_type": "stream",
          "name": "stderr",
          "text": [
            "Fold 11 of 5: 100%|██████████| 6/6 [01:00<00:00, 10.07s/it, train_loss=0.793, val_loss=0.788, lr=1.16e-04]\n"
          ]
        },
        {
          "output_type": "stream",
          "name": "stdout",
          "text": [
            "CPU count: 2\n",
            "Loaded df of shape (99995, 801)\n",
            "Loaded df of shape (19999, 801)\n",
            "Moving model to device: cuda\n"
          ]
        },
        {
          "output_type": "stream",
          "name": "stderr",
          "text": [
            "Fold 12 of 5: 100%|██████████| 6/6 [00:59<00:00,  9.93s/it, train_loss=0.797, val_loss=0.791, lr=1.16e-04]\n"
          ]
        },
        {
          "output_type": "stream",
          "name": "stdout",
          "text": [
            "CPU count: 2\n",
            "Loaded df of shape (99995, 801)\n",
            "Loaded df of shape (19999, 801)\n",
            "Moving model to device: cuda\n"
          ]
        },
        {
          "output_type": "stream",
          "name": "stderr",
          "text": [
            "Fold 13 of 5: 100%|██████████| 6/6 [01:00<00:00, 10.17s/it, train_loss=0.796, val_loss=0.794, lr=1.16e-04]\n"
          ]
        },
        {
          "output_type": "stream",
          "name": "stdout",
          "text": [
            "CPU count: 2\n",
            "Loaded df of shape (99995, 801)\n",
            "Loaded df of shape (19999, 801)\n",
            "Moving model to device: cuda\n"
          ]
        },
        {
          "output_type": "stream",
          "name": "stderr",
          "text": [
            "Fold 14 of 5: 100%|██████████| 6/6 [01:01<00:00, 10.24s/it, train_loss=0.794, val_loss=0.801, lr=1.16e-04]\n"
          ]
        },
        {
          "output_type": "stream",
          "name": "stdout",
          "text": [
            "CPU count: 2\n",
            "Loaded df of shape (99995, 801)\n",
            "Loaded df of shape (19999, 801)\n",
            "Moving model to device: cuda\n"
          ]
        },
        {
          "output_type": "stream",
          "name": "stderr",
          "text": [
            "Fold 15 of 5: 100%|██████████| 6/6 [00:59<00:00,  9.86s/it, train_loss=0.803, val_loss=0.795, lr=1.16e-04]\n"
          ]
        },
        {
          "output_type": "display_data",
          "data": {
            "text/html": [
              "<br/>Waiting for W&B process to finish, PID 36307... <strong style=\"color:green\">(success).</strong>"
            ],
            "text/plain": [
              "<IPython.core.display.HTML object>"
            ]
          },
          "metadata": {}
        },
        {
          "output_type": "display_data",
          "data": {
            "application/vnd.jupyter.widget-view+json": {
              "model_id": "2381cc8ae9ce48bf9e49232fe5ca9b77",
              "version_minor": 0,
              "version_major": 2
            },
            "text/plain": [
              "VBox(children=(Label(value=' 0.00MB of 0.00MB uploaded (0.00MB deduped)\\r'), FloatProgress(value=1.0, max=1.0)…"
            ]
          },
          "metadata": {}
        },
        {
          "output_type": "display_data",
          "data": {
            "text/html": [
              "<style>\n",
              "    table.wandb td:nth-child(1) { padding: 0 10px; text-align: right }\n",
              "    .wandb-row { display: flex; flex-direction: row; flex-wrap: wrap; width: 100% }\n",
              "    .wandb-col { display: flex; flex-direction: column; flex-basis: 100%; flex: 1; padding: 10px; }\n",
              "    </style>\n",
              "<div class=\"wandb-row\"><div class=\"wandb-col\">\n",
              "<h3>Run history:</h3><br/><table class=\"wandb\"><tr><td>epoch</td><td>▁▄▇▁▅█▂▅▁▄▇▂▅█▂▇▁▄█▂▅█▄▇▁▅█▂▅▁▄▇▂▅█▂▇▁▄█</td></tr><tr><td>lr</td><td>▁▁▁▁▁▁▁▁▁▁▁▁▁▁▁▁▁▁▁▁▁▁▁▁▁▁▁▁▁▁▁▁▁▁▁▁▁▁▁▁</td></tr><tr><td>overall_loss</td><td>▁</td></tr><tr><td>random_seed</td><td>▁</td></tr><tr><td>train_loss/0</td><td>█▄▃▂▁▁</td></tr><tr><td>train_loss/1</td><td>█▃▂▁▁▁</td></tr><tr><td>train_loss/10</td><td>█▃▂▁▁▁</td></tr><tr><td>train_loss/11</td><td>█▃▂▁▁▁</td></tr><tr><td>train_loss/12</td><td>█▃▂▁▁▁</td></tr><tr><td>train_loss/13</td><td>█▃▂▁▁▁</td></tr><tr><td>train_loss/14</td><td>█▄▂▂▁▁</td></tr><tr><td>train_loss/2</td><td>█▃▂▂▁▁</td></tr><tr><td>train_loss/3</td><td>█▃▂▁▁▁</td></tr><tr><td>train_loss/4</td><td>█▂▂▂▁▁</td></tr><tr><td>train_loss/5</td><td>█▂▂▁▁▁</td></tr><tr><td>train_loss/6</td><td>█▃▂▂▁▁</td></tr><tr><td>train_loss/7</td><td>█▃▂▂▁▁</td></tr><tr><td>train_loss/8</td><td>█▃▂▂▁▁</td></tr><tr><td>train_loss/9</td><td>█▃▂▂▁▁</td></tr><tr><td>val_loss/0</td><td>█▅▂▂▁▁</td></tr><tr><td>val_loss/1</td><td>█▅▃▂▂▁</td></tr><tr><td>val_loss/10</td><td>█▆▄▃▂▁</td></tr><tr><td>val_loss/11</td><td>█▅▄▃▂▁</td></tr><tr><td>val_loss/12</td><td>█▅▄▃▂▁</td></tr><tr><td>val_loss/13</td><td>█▄▂▁▁▁</td></tr><tr><td>val_loss/14</td><td>█▆▄▃▂▁</td></tr><tr><td>val_loss/2</td><td>█▆▄▃▂▁</td></tr><tr><td>val_loss/3</td><td>█▆▄▃▂▁</td></tr><tr><td>val_loss/4</td><td>██▆▄▂▁</td></tr><tr><td>val_loss/5</td><td>█▅▃▂▁▁</td></tr><tr><td>val_loss/6</td><td>█▅▃▂▁▁</td></tr><tr><td>val_loss/7</td><td>█▅▄▃▂▁</td></tr><tr><td>val_loss/8</td><td>█▅▄▃▂▁</td></tr><tr><td>val_loss/9</td><td>█▆▄▃▂▁</td></tr></table><br/></div><div class=\"wandb-col\">\n",
              "<h3>Run summary:</h3><br/><table class=\"wandb\"><tr><td>epoch</td><td>6</td></tr><tr><td>lr</td><td>0.00012</td></tr><tr><td>overall_loss</td><td>0.79371</td></tr><tr><td>random_seed</td><td>366594996</td></tr><tr><td>train_loss/0</td><td>0.79815</td></tr><tr><td>train_loss/1</td><td>0.82184</td></tr><tr><td>train_loss/10</td><td>0.79258</td></tr><tr><td>train_loss/11</td><td>0.7969</td></tr><tr><td>train_loss/12</td><td>0.79558</td></tr><tr><td>train_loss/13</td><td>0.79374</td></tr><tr><td>train_loss/14</td><td>0.80261</td></tr><tr><td>train_loss/2</td><td>0.82363</td></tr><tr><td>train_loss/3</td><td>0.82022</td></tr><tr><td>train_loss/4</td><td>0.80377</td></tr><tr><td>train_loss/5</td><td>0.79122</td></tr><tr><td>train_loss/6</td><td>0.80308</td></tr><tr><td>train_loss/7</td><td>0.80541</td></tr><tr><td>train_loss/8</td><td>0.80513</td></tr><tr><td>train_loss/9</td><td>0.80421</td></tr><tr><td>val_loss/0</td><td>0.83754</td></tr><tr><td>val_loss/1</td><td>0.80329</td></tr><tr><td>val_loss/10</td><td>0.7883</td></tr><tr><td>val_loss/11</td><td>0.79057</td></tr><tr><td>val_loss/12</td><td>0.79359</td></tr><tr><td>val_loss/13</td><td>0.80088</td></tr><tr><td>val_loss/14</td><td>0.79518</td></tr><tr><td>val_loss/2</td><td>0.80109</td></tr><tr><td>val_loss/3</td><td>0.80314</td></tr><tr><td>val_loss/4</td><td>0.82905</td></tr><tr><td>val_loss/5</td><td>0.78536</td></tr><tr><td>val_loss/6</td><td>0.81245</td></tr><tr><td>val_loss/7</td><td>0.79544</td></tr><tr><td>val_loss/8</td><td>0.79811</td></tr><tr><td>val_loss/9</td><td>0.80177</td></tr></table>\n",
              "</div></div>\n",
              "Synced 5 W&B file(s), 0 media file(s), 0 artifact file(s) and 0 other file(s)\n",
              "<br/>Synced <strong style=\"color:#cdcd00\">driven-sweep-13</strong>: <a href=\"https://wandb.ai/krankile/weight-net/runs/i51e1yj3\" target=\"_blank\">https://wandb.ai/krankile/weight-net/runs/i51e1yj3</a><br/>\n",
              "Find logs at: <code>./wandb/run-20211211_214948-i51e1yj3/logs</code><br/>\n"
            ],
            "text/plain": [
              "<IPython.core.display.HTML object>"
            ]
          },
          "metadata": {}
        },
        {
          "output_type": "stream",
          "name": "stderr",
          "text": [
            "\u001b[34m\u001b[1mwandb\u001b[0m: Agent Starting Run: di41y936 with config:\n",
            "\u001b[34m\u001b[1mwandb\u001b[0m: \tbatch_size: 128\n",
            "\u001b[34m\u001b[1mwandb\u001b[0m: \tdropout: 0.5401790374545598\n",
            "\u001b[34m\u001b[1mwandb\u001b[0m: \tepochs: 17\n",
            "\u001b[34m\u001b[1mwandb\u001b[0m: \thidden_dim: 128\n",
            "\u001b[34m\u001b[1mwandb\u001b[0m: \tlearning_rate: 0.010849026320638867\n",
            "\u001b[34m\u001b[1mwandb\u001b[0m: \tn_hidden: 4\n",
            "\u001b[34m\u001b[1mwandb\u001b[0m: \tweight_decay: 0.032349410427108434\n"
          ]
        },
        {
          "output_type": "display_data",
          "data": {
            "text/html": [
              "\n",
              "                    Syncing run <strong><a href=\"https://wandb.ai/krankile/weight-net/runs/di41y936\" target=\"_blank\">lively-sweep-15</a></strong> to <a href=\"https://wandb.ai/krankile/weight-net\" target=\"_blank\">Weights & Biases</a> (<a href=\"https://docs.wandb.com/integrations/jupyter.html\" target=\"_blank\">docs</a>).<br/>\n",
              "Sweep page: <a href=\"https://wandb.ai/krankile/weight-net/sweeps/4r44tbf3\" target=\"_blank\">https://wandb.ai/krankile/weight-net/sweeps/4r44tbf3</a><br/>\n",
              "\n",
              "                "
            ],
            "text/plain": [
              "<IPython.core.display.HTML object>"
            ]
          },
          "metadata": {}
        },
        {
          "output_type": "stream",
          "name": "stdout",
          "text": [
            "{'batch_size': 128, 'dropout': 0.5401790374545598, 'epochs': 17, 'hidden_dim': 128, 'learning_rate': 0.010849026320638867, 'n_hidden': 4, 'weight_decay': 0.032349410427108434, 'k': 5, 'optimizer': 'adamw', 'architecture': 'WeightNetV4', 'data': 'ensemble_traval:non-standard', 'data_split': 'traval_split_80_20:v0', 'loss_func': 'owa', 'bn': False, 'feature_set': 'ma', 'act': 'leaky', 'num_models': 14, 'schedule': None}\n"
          ]
        },
        {
          "output_type": "stream",
          "name": "stderr",
          "text": [
            "\u001b[34m\u001b[1mwandb\u001b[0m: Downloading large artifact ensemble_traval:non-standard, 119.61MB. 1 files... Done. 0:0:0\n"
          ]
        },
        {
          "output_type": "stream",
          "name": "stdout",
          "text": [
            "CPU count: 2\n",
            "Loaded df of shape (79996, 801)\n",
            "Loaded df of shape (19999, 801)\n",
            "Moving model to device: cuda\n"
          ]
        },
        {
          "output_type": "stream",
          "name": "stderr",
          "text": [
            "Fold 1 of 5: 100%|██████████| 17/17 [02:30<00:00,  8.83s/it, train_loss=0.874, val_loss=0.877, lr=1.08e-02]\n"
          ]
        },
        {
          "output_type": "stream",
          "name": "stdout",
          "text": [
            "CPU count: 2\n",
            "Loaded df of shape (79996, 801)\n",
            "Loaded df of shape (19999, 801)\n",
            "Moving model to device: cuda\n"
          ]
        },
        {
          "output_type": "stream",
          "name": "stderr",
          "text": [
            "Fold 2 of 5: 100%|██████████| 17/17 [02:27<00:00,  8.68s/it, train_loss=0.901, val_loss=0.876, lr=1.08e-02]\n"
          ]
        },
        {
          "output_type": "stream",
          "name": "stdout",
          "text": [
            "CPU count: 2\n",
            "Loaded df of shape (79996, 801)\n",
            "Loaded df of shape (19999, 801)\n",
            "Moving model to device: cuda\n"
          ]
        },
        {
          "output_type": "stream",
          "name": "stderr",
          "text": [
            "Fold 3 of 5: 100%|██████████| 17/17 [02:25<00:00,  8.57s/it, train_loss=0.856, val_loss=0.856, lr=1.08e-02]\n"
          ]
        },
        {
          "output_type": "stream",
          "name": "stdout",
          "text": [
            "CPU count: 2\n",
            "Loaded df of shape (79996, 801)\n",
            "Loaded df of shape (19999, 801)\n",
            "Moving model to device: cuda\n"
          ]
        },
        {
          "output_type": "stream",
          "name": "stderr",
          "text": [
            "Fold 4 of 5: 100%|██████████| 17/17 [02:28<00:00,  8.71s/it, train_loss=1.06, val_loss=1.06, lr=1.08e-02]\n"
          ]
        },
        {
          "output_type": "stream",
          "name": "stdout",
          "text": [
            "CPU count: 2\n",
            "Loaded df of shape (79996, 801)\n",
            "Loaded df of shape (19999, 801)\n",
            "Moving model to device: cuda\n"
          ]
        },
        {
          "output_type": "stream",
          "name": "stderr",
          "text": [
            "Fold 5 of 5: 100%|██████████| 17/17 [02:26<00:00,  8.64s/it, train_loss=0.874, val_loss=0.876, lr=1.08e-02]\n"
          ]
        },
        {
          "output_type": "stream",
          "name": "stdout",
          "text": [
            "CPU count: 2\n",
            "Loaded df of shape (99995, 801)\n",
            "Loaded df of shape (19999, 801)\n",
            "Moving model to device: cuda\n"
          ]
        },
        {
          "output_type": "stream",
          "name": "stderr",
          "text": [
            "Fold 6 of 5: 100%|██████████| 17/17 [03:01<00:00, 10.65s/it, train_loss=1.07, val_loss=1.07, lr=1.08e-02]\n"
          ]
        },
        {
          "output_type": "stream",
          "name": "stdout",
          "text": [
            "CPU count: 2\n",
            "Loaded df of shape (99995, 801)\n",
            "Loaded df of shape (19999, 801)\n",
            "Moving model to device: cuda\n"
          ]
        },
        {
          "output_type": "stream",
          "name": "stderr",
          "text": [
            "Fold 7 of 5: 100%|██████████| 17/17 [02:58<00:00, 10.47s/it, train_loss=3.43, val_loss=22.9, lr=1.08e-02]\n"
          ]
        },
        {
          "output_type": "stream",
          "name": "stdout",
          "text": [
            "CPU count: 2\n",
            "Loaded df of shape (99995, 801)\n",
            "Loaded df of shape (19999, 801)\n",
            "Moving model to device: cuda\n"
          ]
        },
        {
          "output_type": "stream",
          "name": "stderr",
          "text": [
            "Fold 8 of 5: 100%|██████████| 17/17 [02:57<00:00, 10.44s/it, train_loss=1.09, val_loss=1.09, lr=1.08e-02]\n"
          ]
        },
        {
          "output_type": "stream",
          "name": "stdout",
          "text": [
            "CPU count: 2\n",
            "Loaded df of shape (99995, 801)\n",
            "Loaded df of shape (19999, 801)\n",
            "Moving model to device: cuda\n"
          ]
        },
        {
          "output_type": "stream",
          "name": "stderr",
          "text": [
            "Fold 9 of 5: 100%|██████████| 17/17 [02:57<00:00, 10.47s/it, train_loss=0.994, val_loss=0.998, lr=1.08e-02]\n"
          ]
        },
        {
          "output_type": "stream",
          "name": "stdout",
          "text": [
            "CPU count: 2\n",
            "Loaded df of shape (99995, 801)\n",
            "Loaded df of shape (19999, 801)\n",
            "Moving model to device: cuda\n"
          ]
        },
        {
          "output_type": "stream",
          "name": "stderr",
          "text": [
            "Fold 10 of 5: 100%|██████████| 17/17 [02:57<00:00, 10.44s/it, train_loss=0.925, val_loss=0.928, lr=1.08e-02]\n"
          ]
        },
        {
          "output_type": "stream",
          "name": "stdout",
          "text": [
            "CPU count: 2\n",
            "Loaded df of shape (99995, 801)\n",
            "Loaded df of shape (19999, 801)\n",
            "Moving model to device: cuda\n"
          ]
        },
        {
          "output_type": "stream",
          "name": "stderr",
          "text": [
            "Fold 11 of 5: 100%|██████████| 17/17 [02:59<00:00, 10.57s/it, train_loss=1.07, val_loss=1.07, lr=1.08e-02]\n"
          ]
        },
        {
          "output_type": "stream",
          "name": "stdout",
          "text": [
            "CPU count: 2\n",
            "Loaded df of shape (99995, 801)\n",
            "Loaded df of shape (19999, 801)\n",
            "Moving model to device: cuda\n"
          ]
        },
        {
          "output_type": "stream",
          "name": "stderr",
          "text": [
            "Fold 12 of 5: 100%|██████████| 17/17 [02:56<00:00, 10.36s/it, train_loss=1.06, val_loss=1.09, lr=1.08e-02]\n"
          ]
        },
        {
          "output_type": "stream",
          "name": "stdout",
          "text": [
            "CPU count: 2\n",
            "Loaded df of shape (99995, 801)\n",
            "Loaded df of shape (19999, 801)\n",
            "Moving model to device: cuda\n"
          ]
        },
        {
          "output_type": "stream",
          "name": "stderr",
          "text": [
            "Fold 13 of 5: 100%|██████████| 17/17 [02:58<00:00, 10.48s/it, train_loss=0.879, val_loss=0.875, lr=1.08e-02]\n"
          ]
        },
        {
          "output_type": "stream",
          "name": "stdout",
          "text": [
            "CPU count: 2\n",
            "Loaded df of shape (99995, 801)\n",
            "Loaded df of shape (19999, 801)\n",
            "Moving model to device: cuda\n"
          ]
        },
        {
          "output_type": "stream",
          "name": "stderr",
          "text": [
            "Fold 14 of 5: 100%|██████████| 17/17 [02:55<00:00, 10.31s/it, train_loss=0.995, val_loss=0.991, lr=1.08e-02]\n"
          ]
        },
        {
          "output_type": "stream",
          "name": "stdout",
          "text": [
            "CPU count: 2\n",
            "Loaded df of shape (99995, 801)\n",
            "Loaded df of shape (19999, 801)\n",
            "Moving model to device: cuda\n"
          ]
        },
        {
          "output_type": "stream",
          "name": "stderr",
          "text": [
            "Fold 15 of 5: 100%|██████████| 17/17 [02:59<00:00, 10.57s/it, train_loss=0.879, val_loss=0.876, lr=1.08e-02]\n"
          ]
        },
        {
          "output_type": "display_data",
          "data": {
            "text/html": [
              "<br/>Waiting for W&B process to finish, PID 38177... <strong style=\"color:green\">(success).</strong>"
            ],
            "text/plain": [
              "<IPython.core.display.HTML object>"
            ]
          },
          "metadata": {}
        },
        {
          "output_type": "display_data",
          "data": {
            "application/vnd.jupyter.widget-view+json": {
              "model_id": "d2d2c6586b154ee78cbad3563d23b885",
              "version_minor": 0,
              "version_major": 2
            },
            "text/plain": [
              "VBox(children=(Label(value=' 0.00MB of 0.00MB uploaded (0.00MB deduped)\\r'), FloatProgress(value=1.0, max=1.0)…"
            ]
          },
          "metadata": {}
        },
        {
          "output_type": "display_data",
          "data": {
            "text/html": [
              "<style>\n",
              "    table.wandb td:nth-child(1) { padding: 0 10px; text-align: right }\n",
              "    .wandb-row { display: flex; flex-direction: row; flex-wrap: wrap; width: 100% }\n",
              "    .wandb-col { display: flex; flex-direction: column; flex-basis: 100%; flex: 1; padding: 10px; }\n",
              "    </style>\n",
              "<div class=\"wandb-row\"><div class=\"wandb-col\">\n",
              "<h3>Run history:</h3><br/><table class=\"wandb\"><tr><td>epoch</td><td>▁▄▇▂▅█▃▆▁▅▇▂▅▁▄▆▁▄█▃▅█▄▇▂▅█▃▆▁▄▇▂▅█▄▆▁▄█</td></tr><tr><td>lr</td><td>▁▁▁▁▁▁▁▁▁▁▁▁▁▁▁▁▁▁▁▁▁▁▁▁▁▁▁▁▁▁▁▁▁▁▁▁▁▁▁▁</td></tr><tr><td>overall_loss</td><td>▁</td></tr><tr><td>random_seed</td><td>▁</td></tr><tr><td>train_loss/0</td><td>▁▁▁▁▁▁█▇█▁▁▁▁▁▁▁▁</td></tr><tr><td>train_loss/1</td><td>▁▁▄████████▇▃▃▃▃▂</td></tr><tr><td>train_loss/10</td><td>▁▁▁▁▂▂▂▂▂▂▂▂▃▃▄██</td></tr><tr><td>train_loss/11</td><td>▁▂▂▂▂▂▂▂▂▂▂▁▁▁▁▂█</td></tr><tr><td>train_loss/12</td><td>▁▂▁▁▁▃███████████</td></tr><tr><td>train_loss/13</td><td>▁▁▁▁▁▁▁▁▁▄██▇▂▂▂▂</td></tr><tr><td>train_loss/14</td><td>▅▃█▁▁▁▁▆▆▆▆▂▁▁▁▁▁</td></tr><tr><td>train_loss/2</td><td>▁█▅▅▅▅▅▅▅▅▅▅▅▅▅▅▅</td></tr><tr><td>train_loss/3</td><td>▆▁█▇█▄▆▅▁▁▁▁▁▁▁▁▁</td></tr><tr><td>train_loss/4</td><td>▁█▇▇▇▇▇▇▇▇▇▇▇▇█▇▇</td></tr><tr><td>train_loss/5</td><td>▁▁▁▁▁▁▁▁▁▁▁▁██▇▂▂</td></tr><tr><td>train_loss/6</td><td>▁▇▁▁▁▁▁▁▁▁▁▁▁▁▁▁█</td></tr><tr><td>train_loss/7</td><td>▁▁▁██▇▁▁▁▁▁▁▁▁▁▁▁</td></tr><tr><td>train_loss/8</td><td>▁▃▃▃▃▃▃▂▂▂▂▂█████</td></tr><tr><td>train_loss/9</td><td>▁▂▂▂▂▂▂▆█████████</td></tr><tr><td>val_loss/0</td><td>▁▁▁▁▁▁██▁▁▁▁▁▁▁▁▁</td></tr><tr><td>val_loss/1</td><td>▁▁█████████▃▃▃▃▃▂</td></tr><tr><td>val_loss/10</td><td>▁▁▁▂▂▂▂▂▂▂▂▃▃▃███</td></tr><tr><td>val_loss/11</td><td>▂▂▂▂▂▂▂▂▂▂▂▁▁▁▁▃█</td></tr><tr><td>val_loss/12</td><td>▁▁▁▁▁████████████</td></tr><tr><td>val_loss/13</td><td>▁▁▁▁▁▁▁▁▁███▂▂▂▂▂</td></tr><tr><td>val_loss/14</td><td>█▁▁▁▁▁▆▆▆▆▆▁▁▁▁▁▁</td></tr><tr><td>val_loss/2</td><td>▁████████████████</td></tr><tr><td>val_loss/3</td><td>▄▄▄▄▁▁▁▁▁█▇▇▇▇▇▇▇</td></tr><tr><td>val_loss/4</td><td>▁████████████████</td></tr><tr><td>val_loss/5</td><td>▁▁▁▁▁▁▁▁▁▁▁▁██▂▂▂</td></tr><tr><td>val_loss/6</td><td>▁▁▁▁▁▁▁▁▁▁▁▁▁▁▁▁█</td></tr><tr><td>val_loss/7</td><td>▂▂▄▄▄▄▁▁▁▃▃▃▃▃▃██</td></tr><tr><td>val_loss/8</td><td>▁▄▄▂▄▄▃▃▃▃▃▃█████</td></tr><tr><td>val_loss/9</td><td>▁▁▁▁▁▁▁██████████</td></tr></table><br/></div><div class=\"wandb-col\">\n",
              "<h3>Run summary:</h3><br/><table class=\"wandb\"><tr><td>epoch</td><td>17</td></tr><tr><td>lr</td><td>0.01085</td></tr><tr><td>overall_loss</td><td>0.98068</td></tr><tr><td>random_seed</td><td>503676275</td></tr><tr><td>train_loss/0</td><td>0.87362</td></tr><tr><td>train_loss/1</td><td>0.90055</td></tr><tr><td>train_loss/10</td><td>1.07094</td></tr><tr><td>train_loss/11</td><td>1.058</td></tr><tr><td>train_loss/12</td><td>0.87909</td></tr><tr><td>train_loss/13</td><td>0.99464</td></tr><tr><td>train_loss/14</td><td>0.87909</td></tr><tr><td>train_loss/2</td><td>0.8559</td></tr><tr><td>train_loss/3</td><td>1.05793</td></tr><tr><td>train_loss/4</td><td>0.87391</td></tr><tr><td>train_loss/5</td><td>1.07056</td></tr><tr><td>train_loss/6</td><td>3.43135</td></tr><tr><td>train_loss/7</td><td>1.08588</td></tr><tr><td>train_loss/8</td><td>0.9941</td></tr><tr><td>train_loss/9</td><td>0.92452</td></tr><tr><td>val_loss/0</td><td>0.87694</td></tr><tr><td>val_loss/1</td><td>0.87582</td></tr><tr><td>val_loss/10</td><td>1.0744</td></tr><tr><td>val_loss/11</td><td>1.08728</td></tr><tr><td>val_loss/12</td><td>0.87475</td></tr><tr><td>val_loss/13</td><td>0.99066</td></tr><tr><td>val_loss/14</td><td>0.8763</td></tr><tr><td>val_loss/2</td><td>0.85577</td></tr><tr><td>val_loss/3</td><td>1.05878</td></tr><tr><td>val_loss/4</td><td>0.87597</td></tr><tr><td>val_loss/5</td><td>1.07405</td></tr><tr><td>val_loss/6</td><td>22.9493</td></tr><tr><td>val_loss/7</td><td>1.08639</td></tr><tr><td>val_loss/8</td><td>0.99759</td></tr><tr><td>val_loss/9</td><td>0.92816</td></tr></table>\n",
              "</div></div>\n",
              "Synced 5 W&B file(s), 0 media file(s), 0 artifact file(s) and 0 other file(s)\n",
              "<br/>Synced <strong style=\"color:#cdcd00\">lively-sweep-15</strong>: <a href=\"https://wandb.ai/krankile/weight-net/runs/di41y936\" target=\"_blank\">https://wandb.ai/krankile/weight-net/runs/di41y936</a><br/>\n",
              "Find logs at: <code>./wandb/run-20211211_220951-di41y936/logs</code><br/>\n"
            ],
            "text/plain": [
              "<IPython.core.display.HTML object>"
            ]
          },
          "metadata": {}
        },
        {
          "output_type": "stream",
          "name": "stderr",
          "text": [
            "\u001b[34m\u001b[1mwandb\u001b[0m: Agent Starting Run: pm2sp55v with config:\n",
            "\u001b[34m\u001b[1mwandb\u001b[0m: \tbatch_size: 128\n",
            "\u001b[34m\u001b[1mwandb\u001b[0m: \tdropout: 0.5888886928892211\n",
            "\u001b[34m\u001b[1mwandb\u001b[0m: \tepochs: 10\n",
            "\u001b[34m\u001b[1mwandb\u001b[0m: \thidden_dim: 128\n",
            "\u001b[34m\u001b[1mwandb\u001b[0m: \tlearning_rate: 0.0005923001635025975\n",
            "\u001b[34m\u001b[1mwandb\u001b[0m: \tn_hidden: 3\n",
            "\u001b[34m\u001b[1mwandb\u001b[0m: \tweight_decay: 0.0018247296209669744\n"
          ]
        },
        {
          "output_type": "display_data",
          "data": {
            "text/html": [
              "\n",
              "                    Syncing run <strong><a href=\"https://wandb.ai/krankile/weight-net/runs/pm2sp55v\" target=\"_blank\">magic-sweep-22</a></strong> to <a href=\"https://wandb.ai/krankile/weight-net\" target=\"_blank\">Weights & Biases</a> (<a href=\"https://docs.wandb.com/integrations/jupyter.html\" target=\"_blank\">docs</a>).<br/>\n",
              "Sweep page: <a href=\"https://wandb.ai/krankile/weight-net/sweeps/4r44tbf3\" target=\"_blank\">https://wandb.ai/krankile/weight-net/sweeps/4r44tbf3</a><br/>\n",
              "\n",
              "                "
            ],
            "text/plain": [
              "<IPython.core.display.HTML object>"
            ]
          },
          "metadata": {}
        },
        {
          "output_type": "stream",
          "name": "stdout",
          "text": [
            "{'batch_size': 128, 'dropout': 0.5888886928892211, 'epochs': 10, 'hidden_dim': 128, 'learning_rate': 0.0005923001635025975, 'n_hidden': 3, 'weight_decay': 0.0018247296209669744, 'k': 5, 'optimizer': 'adamw', 'architecture': 'WeightNetV4', 'data': 'ensemble_traval:non-standard', 'data_split': 'traval_split_80_20:v0', 'loss_func': 'owa', 'bn': False, 'feature_set': 'ma', 'act': 'leaky', 'num_models': 14, 'schedule': None}\n"
          ]
        },
        {
          "output_type": "stream",
          "name": "stderr",
          "text": [
            "\u001b[34m\u001b[1mwandb\u001b[0m: Downloading large artifact ensemble_traval:non-standard, 119.61MB. 1 files... Done. 0:0:0\n"
          ]
        },
        {
          "output_type": "stream",
          "name": "stdout",
          "text": [
            "CPU count: 2\n",
            "Loaded df of shape (79996, 801)\n",
            "Loaded df of shape (19999, 801)\n",
            "Moving model to device: cuda\n"
          ]
        },
        {
          "output_type": "stream",
          "name": "stderr",
          "text": [
            "Fold 1 of 5: 100%|██████████| 10/10 [01:23<00:00,  8.34s/it, train_loss=0.767, val_loss=0.776, lr=5.92e-04]\n"
          ]
        },
        {
          "output_type": "stream",
          "name": "stdout",
          "text": [
            "CPU count: 2\n",
            "Loaded df of shape (79996, 801)\n",
            "Loaded df of shape (19999, 801)\n",
            "Moving model to device: cuda\n"
          ]
        },
        {
          "output_type": "stream",
          "name": "stderr",
          "text": [
            "Fold 2 of 5: 100%|██████████| 10/10 [01:24<00:00,  8.43s/it, train_loss=0.776, val_loss=0.781, lr=5.92e-04]\n"
          ]
        },
        {
          "output_type": "stream",
          "name": "stdout",
          "text": [
            "CPU count: 2\n",
            "Loaded df of shape (79996, 801)\n",
            "Loaded df of shape (19999, 801)\n",
            "Moving model to device: cuda\n"
          ]
        },
        {
          "output_type": "stream",
          "name": "stderr",
          "text": [
            "Fold 3 of 5: 100%|██████████| 10/10 [01:23<00:00,  8.38s/it, train_loss=0.776, val_loss=0.781, lr=5.92e-04]\n"
          ]
        },
        {
          "output_type": "stream",
          "name": "stdout",
          "text": [
            "CPU count: 2\n",
            "Loaded df of shape (79996, 801)\n",
            "Loaded df of shape (19999, 801)\n",
            "Moving model to device: cuda\n"
          ]
        },
        {
          "output_type": "stream",
          "name": "stderr",
          "text": [
            "Fold 4 of 5: 100%|██████████| 10/10 [01:26<00:00,  8.61s/it, train_loss=0.775, val_loss=0.781, lr=5.92e-04]\n"
          ]
        },
        {
          "output_type": "stream",
          "name": "stdout",
          "text": [
            "CPU count: 2\n",
            "Loaded df of shape (79996, 801)\n",
            "Loaded df of shape (19999, 801)\n",
            "Moving model to device: cuda\n"
          ]
        },
        {
          "output_type": "stream",
          "name": "stderr",
          "text": [
            "Fold 5 of 5: 100%|██████████| 10/10 [01:25<00:00,  8.55s/it, train_loss=0.771, val_loss=0.834, lr=5.92e-04]\n"
          ]
        },
        {
          "output_type": "stream",
          "name": "stdout",
          "text": [
            "CPU count: 2\n",
            "Loaded df of shape (99995, 801)\n",
            "Loaded df of shape (19999, 801)\n",
            "Moving model to device: cuda\n"
          ]
        },
        {
          "output_type": "stream",
          "name": "stderr",
          "text": [
            "Fold 6 of 5: 100%|██████████| 10/10 [01:46<00:00, 10.65s/it, train_loss=0.767, val_loss=0.759, lr=5.92e-04]\n"
          ]
        },
        {
          "output_type": "stream",
          "name": "stdout",
          "text": [
            "CPU count: 2\n",
            "Loaded df of shape (99995, 801)\n",
            "Loaded df of shape (19999, 801)\n",
            "Moving model to device: cuda\n"
          ]
        },
        {
          "output_type": "stream",
          "name": "stderr",
          "text": [
            "Fold 7 of 5: 100%|██████████| 10/10 [01:44<00:00, 10.49s/it, train_loss=0.769, val_loss=0.769, lr=5.92e-04]\n"
          ]
        },
        {
          "output_type": "stream",
          "name": "stdout",
          "text": [
            "CPU count: 2\n",
            "Loaded df of shape (99995, 801)\n",
            "Loaded df of shape (19999, 801)\n",
            "Moving model to device: cuda\n"
          ]
        },
        {
          "output_type": "stream",
          "name": "stderr",
          "text": [
            "Fold 8 of 5: 100%|██████████| 10/10 [01:44<00:00, 10.41s/it, train_loss=0.773, val_loss=0.775, lr=5.92e-04]\n"
          ]
        },
        {
          "output_type": "stream",
          "name": "stdout",
          "text": [
            "CPU count: 2\n",
            "Loaded df of shape (99995, 801)\n",
            "Loaded df of shape (19999, 801)\n",
            "Moving model to device: cuda\n"
          ]
        },
        {
          "output_type": "stream",
          "name": "stderr",
          "text": [
            "Fold 9 of 5: 100%|██████████| 10/10 [01:45<00:00, 10.58s/it, train_loss=0.773, val_loss=0.774, lr=5.92e-04]\n"
          ]
        },
        {
          "output_type": "stream",
          "name": "stdout",
          "text": [
            "CPU count: 2\n",
            "Loaded df of shape (99995, 801)\n",
            "Loaded df of shape (19999, 801)\n",
            "Moving model to device: cuda\n"
          ]
        },
        {
          "output_type": "stream",
          "name": "stderr",
          "text": [
            "Fold 10 of 5: 100%|██████████| 10/10 [01:44<00:00, 10.43s/it, train_loss=0.773, val_loss=0.777, lr=5.92e-04]\n"
          ]
        },
        {
          "output_type": "stream",
          "name": "stdout",
          "text": [
            "CPU count: 2\n",
            "Loaded df of shape (99995, 801)\n",
            "Loaded df of shape (19999, 801)\n",
            "Moving model to device: cuda\n"
          ]
        },
        {
          "output_type": "stream",
          "name": "stderr",
          "text": [
            "Fold 11 of 5: 100%|██████████| 10/10 [01:47<00:00, 10.71s/it, train_loss=0.766, val_loss=0.763, lr=5.92e-04]\n"
          ]
        },
        {
          "output_type": "stream",
          "name": "stdout",
          "text": [
            "CPU count: 2\n",
            "Loaded df of shape (99995, 801)\n",
            "Loaded df of shape (19999, 801)\n",
            "Moving model to device: cuda\n"
          ]
        },
        {
          "output_type": "stream",
          "name": "stderr",
          "text": [
            "Fold 12 of 5: 100%|██████████| 10/10 [01:43<00:00, 10.40s/it, train_loss=0.769, val_loss=0.764, lr=5.92e-04]\n"
          ]
        },
        {
          "output_type": "stream",
          "name": "stdout",
          "text": [
            "CPU count: 2\n",
            "Loaded df of shape (99995, 801)\n",
            "Loaded df of shape (19999, 801)\n",
            "Moving model to device: cuda\n"
          ]
        },
        {
          "output_type": "stream",
          "name": "stderr",
          "text": [
            "Fold 13 of 5: 100%|██████████| 10/10 [01:48<00:00, 10.83s/it, train_loss=0.77, val_loss=0.769, lr=5.92e-04]\n"
          ]
        },
        {
          "output_type": "stream",
          "name": "stdout",
          "text": [
            "CPU count: 2\n",
            "Loaded df of shape (99995, 801)\n",
            "Loaded df of shape (19999, 801)\n",
            "Moving model to device: cuda\n"
          ]
        },
        {
          "output_type": "stream",
          "name": "stderr",
          "text": [
            "Fold 14 of 5: 100%|██████████| 10/10 [01:44<00:00, 10.42s/it, train_loss=0.772, val_loss=0.769, lr=5.92e-04]\n"
          ]
        },
        {
          "output_type": "stream",
          "name": "stdout",
          "text": [
            "CPU count: 2\n",
            "Loaded df of shape (99995, 801)\n",
            "Loaded df of shape (19999, 801)\n",
            "Moving model to device: cuda\n"
          ]
        },
        {
          "output_type": "stream",
          "name": "stderr",
          "text": [
            "Fold 15 of 5: 100%|██████████| 10/10 [01:44<00:00, 10.41s/it, train_loss=0.772, val_loss=0.769, lr=5.92e-04]\n"
          ]
        },
        {
          "output_type": "display_data",
          "data": {
            "text/html": [
              "<br/>Waiting for W&B process to finish, PID 43347... <strong style=\"color:green\">(success).</strong>"
            ],
            "text/plain": [
              "<IPython.core.display.HTML object>"
            ]
          },
          "metadata": {}
        },
        {
          "output_type": "display_data",
          "data": {
            "application/vnd.jupyter.widget-view+json": {
              "model_id": "9e6fb147b4a047ffbc572c59e18fd660",
              "version_minor": 0,
              "version_major": 2
            },
            "text/plain": [
              "VBox(children=(Label(value=' 0.00MB of 0.00MB uploaded (0.00MB deduped)\\r'), FloatProgress(value=1.0, max=1.0)…"
            ]
          },
          "metadata": {}
        },
        {
          "output_type": "display_data",
          "data": {
            "text/html": [
              "<style>\n",
              "    table.wandb td:nth-child(1) { padding: 0 10px; text-align: right }\n",
              "    .wandb-row { display: flex; flex-direction: row; flex-wrap: wrap; width: 100% }\n",
              "    .wandb-col { display: flex; flex-direction: column; flex-basis: 100%; flex: 1; padding: 10px; }\n",
              "    </style>\n",
              "<div class=\"wandb-row\"><div class=\"wandb-col\">\n",
              "<h3>Run history:</h3><br/><table class=\"wandb\"><tr><td>epoch</td><td>▁▃▆▁▅█▃▆▁▅▆▁▅█▃▆▁▅█▃▅█▃▆▁▅█▃▆▁▃▆▁▅█▃▆▁▅█</td></tr><tr><td>lr</td><td>▁▁▁▁▁▁▁▁▁▁▁▁▁▁▁▁▁▁▁▁▁▁▁▁▁▁▁▁▁▁▁▁▁▁▁▁▁▁▁▁</td></tr><tr><td>overall_loss</td><td>▁</td></tr><tr><td>random_seed</td><td>▁</td></tr><tr><td>train_loss/0</td><td>█▃▃▂▂▂▂▁▁▁</td></tr><tr><td>train_loss/1</td><td>█▁▁▁▁▁▁▁▁▁</td></tr><tr><td>train_loss/10</td><td>█▄▃▃▂▂▂▁▁▁</td></tr><tr><td>train_loss/11</td><td>█▄▃▃▂▂▂▁▁▁</td></tr><tr><td>train_loss/12</td><td>█▃▃▂▂▂▂▁▁▁</td></tr><tr><td>train_loss/13</td><td>█▃▃▂▂▂▁▁▁▁</td></tr><tr><td>train_loss/14</td><td>█▂▂▂▁▁▁▁▁▁</td></tr><tr><td>train_loss/2</td><td>█▁▁▁▁▁▁▁▁▁</td></tr><tr><td>train_loss/3</td><td>█▂▁▁▁▁▁▁▁▁</td></tr><tr><td>train_loss/4</td><td>█▂▂▂▂▁▁▁▁▁</td></tr><tr><td>train_loss/5</td><td>█▂▂▂▂▁▁▁▁▁</td></tr><tr><td>train_loss/6</td><td>█▂▂▂▂▂▁▁▁▁</td></tr><tr><td>train_loss/7</td><td>█▂▁▁▁▁▁▁▁▁</td></tr><tr><td>train_loss/8</td><td>█▂▁▁▁▁▁▁▁▁</td></tr><tr><td>train_loss/9</td><td>█▂▁▁▁▁▁▁▁▁</td></tr><tr><td>val_loss/0</td><td>█▆▅▄▃▃▂▁▂▁</td></tr><tr><td>val_loss/1</td><td>█▆▅▄▃▃▂▂▂▁</td></tr><tr><td>val_loss/10</td><td>█▇▆▄▄▃▂▂▁▁</td></tr><tr><td>val_loss/11</td><td>█▆▅▄▄▃▃▂▂▁</td></tr><tr><td>val_loss/12</td><td>█▇▅▄▄▃▃▂▂▁</td></tr><tr><td>val_loss/13</td><td>█▇▅▄▄▃▃▂▂▁</td></tr><tr><td>val_loss/14</td><td>█▆▅▄▅▃▄▂▂▁</td></tr><tr><td>val_loss/2</td><td>█▆▆▃▃▂▂▁▂▁</td></tr><tr><td>val_loss/3</td><td>█▅▄▃▃▂▂▂▁▁</td></tr><tr><td>val_loss/4</td><td>▃▁▁▄▄▃▂▂▇█</td></tr><tr><td>val_loss/5</td><td>█▆▅▅▄▃▂▂▁▁</td></tr><tr><td>val_loss/6</td><td>█▆▅▄▄▃▂▂▁▁</td></tr><tr><td>val_loss/7</td><td>█▆▅▄▄▃▂▂▁▁</td></tr><tr><td>val_loss/8</td><td>█▆▅▄▄▃▂▂▁▁</td></tr><tr><td>val_loss/9</td><td>█▆▄▄▄▃▂▂▂▁</td></tr></table><br/></div><div class=\"wandb-col\">\n",
              "<h3>Run summary:</h3><br/><table class=\"wandb\"><tr><td>epoch</td><td>10</td></tr><tr><td>lr</td><td>0.00059</td></tr><tr><td>overall_loss</td><td>0.7667</td></tr><tr><td>random_seed</td><td>257752589</td></tr><tr><td>train_loss/0</td><td>0.76693</td></tr><tr><td>train_loss/1</td><td>0.77593</td></tr><tr><td>train_loss/10</td><td>0.76588</td></tr><tr><td>train_loss/11</td><td>0.76877</td></tr><tr><td>train_loss/12</td><td>0.7702</td></tr><tr><td>train_loss/13</td><td>0.77175</td></tr><tr><td>train_loss/14</td><td>0.77218</td></tr><tr><td>train_loss/2</td><td>0.77582</td></tr><tr><td>train_loss/3</td><td>0.77495</td></tr><tr><td>train_loss/4</td><td>0.77102</td></tr><tr><td>train_loss/5</td><td>0.76661</td></tr><tr><td>train_loss/6</td><td>0.76917</td></tr><tr><td>train_loss/7</td><td>0.77333</td></tr><tr><td>train_loss/8</td><td>0.77264</td></tr><tr><td>train_loss/9</td><td>0.77254</td></tr><tr><td>val_loss/0</td><td>0.77615</td></tr><tr><td>val_loss/1</td><td>0.78121</td></tr><tr><td>val_loss/10</td><td>0.76262</td></tr><tr><td>val_loss/11</td><td>0.7635</td></tr><tr><td>val_loss/12</td><td>0.76885</td></tr><tr><td>val_loss/13</td><td>0.76906</td></tr><tr><td>val_loss/14</td><td>0.76945</td></tr><tr><td>val_loss/2</td><td>0.78084</td></tr><tr><td>val_loss/3</td><td>0.78148</td></tr><tr><td>val_loss/4</td><td>0.83404</td></tr><tr><td>val_loss/5</td><td>0.75925</td></tr><tr><td>val_loss/6</td><td>0.76924</td></tr><tr><td>val_loss/7</td><td>0.77452</td></tr><tr><td>val_loss/8</td><td>0.77418</td></tr><tr><td>val_loss/9</td><td>0.77681</td></tr></table>\n",
              "</div></div>\n",
              "Synced 5 W&B file(s), 0 media file(s), 0 artifact file(s) and 0 other file(s)\n",
              "<br/>Synced <strong style=\"color:#cdcd00\">magic-sweep-22</strong>: <a href=\"https://wandb.ai/krankile/weight-net/runs/pm2sp55v\" target=\"_blank\">https://wandb.ai/krankile/weight-net/runs/pm2sp55v</a><br/>\n",
              "Find logs at: <code>./wandb/run-20211211_225732-pm2sp55v/logs</code><br/>\n"
            ],
            "text/plain": [
              "<IPython.core.display.HTML object>"
            ]
          },
          "metadata": {}
        },
        {
          "output_type": "stream",
          "name": "stderr",
          "text": [
            "\u001b[34m\u001b[1mwandb\u001b[0m: Agent Starting Run: s8mu310k with config:\n",
            "\u001b[34m\u001b[1mwandb\u001b[0m: \tbatch_size: 256\n",
            "\u001b[34m\u001b[1mwandb\u001b[0m: \tdropout: 0.4558714671336193\n",
            "\u001b[34m\u001b[1mwandb\u001b[0m: \tepochs: 17\n",
            "\u001b[34m\u001b[1mwandb\u001b[0m: \thidden_dim: 128\n",
            "\u001b[34m\u001b[1mwandb\u001b[0m: \tlearning_rate: 0.00024053354275206288\n",
            "\u001b[34m\u001b[1mwandb\u001b[0m: \tn_hidden: 3\n",
            "\u001b[34m\u001b[1mwandb\u001b[0m: \tweight_decay: 0.0018449144920539072\n"
          ]
        },
        {
          "output_type": "display_data",
          "data": {
            "text/html": [
              "\n",
              "                    Syncing run <strong><a href=\"https://wandb.ai/krankile/weight-net/runs/s8mu310k\" target=\"_blank\">clean-sweep-26</a></strong> to <a href=\"https://wandb.ai/krankile/weight-net\" target=\"_blank\">Weights & Biases</a> (<a href=\"https://docs.wandb.com/integrations/jupyter.html\" target=\"_blank\">docs</a>).<br/>\n",
              "Sweep page: <a href=\"https://wandb.ai/krankile/weight-net/sweeps/4r44tbf3\" target=\"_blank\">https://wandb.ai/krankile/weight-net/sweeps/4r44tbf3</a><br/>\n",
              "\n",
              "                "
            ],
            "text/plain": [
              "<IPython.core.display.HTML object>"
            ]
          },
          "metadata": {}
        },
        {
          "output_type": "stream",
          "name": "stdout",
          "text": [
            "{'batch_size': 256, 'dropout': 0.4558714671336193, 'epochs': 17, 'hidden_dim': 128, 'learning_rate': 0.00024053354275206288, 'n_hidden': 3, 'weight_decay': 0.0018449144920539072, 'k': 5, 'optimizer': 'adamw', 'architecture': 'WeightNetV4', 'data': 'ensemble_traval:non-standard', 'data_split': 'traval_split_80_20:v0', 'loss_func': 'owa', 'bn': False, 'feature_set': 'ma', 'act': 'leaky', 'num_models': 14, 'schedule': None}\n"
          ]
        },
        {
          "output_type": "stream",
          "name": "stderr",
          "text": [
            "\u001b[34m\u001b[1mwandb\u001b[0m: Downloading large artifact ensemble_traval:non-standard, 119.61MB. 1 files... Done. 0:0:0\n"
          ]
        },
        {
          "output_type": "stream",
          "name": "stdout",
          "text": [
            "CPU count: 2\n",
            "Loaded df of shape (79996, 801)\n",
            "Loaded df of shape (19999, 801)\n",
            "Moving model to device: cuda\n"
          ]
        },
        {
          "output_type": "stream",
          "name": "stderr",
          "text": [
            "Fold 1 of 5: 100%|██████████| 17/17 [01:44<00:00,  6.13s/it, train_loss=0.772, val_loss=0.78, lr=2.41e-04]\n"
          ]
        },
        {
          "output_type": "stream",
          "name": "stdout",
          "text": [
            "CPU count: 2\n",
            "Loaded df of shape (79996, 801)\n",
            "Loaded df of shape (19999, 801)\n",
            "Moving model to device: cuda\n"
          ]
        },
        {
          "output_type": "stream",
          "name": "stderr",
          "text": [
            "Fold 2 of 5: 100%|██████████| 17/17 [01:45<00:00,  6.22s/it, train_loss=0.779, val_loss=0.783, lr=2.41e-04]\n"
          ]
        },
        {
          "output_type": "stream",
          "name": "stdout",
          "text": [
            "CPU count: 2\n",
            "Loaded df of shape (79996, 801)\n",
            "Loaded df of shape (19999, 801)\n",
            "Moving model to device: cuda\n"
          ]
        },
        {
          "output_type": "stream",
          "name": "stderr",
          "text": [
            "Fold 3 of 5: 100%|██████████| 17/17 [01:41<00:00,  5.99s/it, train_loss=0.78, val_loss=0.783, lr=2.41e-04]\n"
          ]
        },
        {
          "output_type": "stream",
          "name": "stdout",
          "text": [
            "CPU count: 2\n",
            "Loaded df of shape (79996, 801)\n",
            "Loaded df of shape (19999, 801)\n",
            "Moving model to device: cuda\n"
          ]
        },
        {
          "output_type": "stream",
          "name": "stderr",
          "text": [
            "Fold 4 of 5: 100%|██████████| 17/17 [01:49<00:00,  6.41s/it, train_loss=0.78, val_loss=0.785, lr=2.41e-04]\n"
          ]
        },
        {
          "output_type": "stream",
          "name": "stdout",
          "text": [
            "CPU count: 2\n",
            "Loaded df of shape (79996, 801)\n",
            "Loaded df of shape (19999, 801)\n",
            "Moving model to device: cuda\n"
          ]
        },
        {
          "output_type": "stream",
          "name": "stderr",
          "text": [
            "Fold 5 of 5: 100%|██████████| 17/17 [01:48<00:00,  6.39s/it, train_loss=0.776, val_loss=0.827, lr=2.41e-04]\n"
          ]
        },
        {
          "output_type": "stream",
          "name": "stdout",
          "text": [
            "CPU count: 2\n",
            "Loaded df of shape (99995, 801)\n",
            "Loaded df of shape (19999, 801)\n",
            "Moving model to device: cuda\n"
          ]
        },
        {
          "output_type": "stream",
          "name": "stderr",
          "text": [
            "Fold 6 of 5: 100%|██████████| 17/17 [02:10<00:00,  7.68s/it, train_loss=0.769, val_loss=0.762, lr=2.41e-04]\n"
          ]
        },
        {
          "output_type": "stream",
          "name": "stdout",
          "text": [
            "CPU count: 2\n",
            "Loaded df of shape (99995, 801)\n",
            "Loaded df of shape (19999, 801)\n",
            "Moving model to device: cuda\n"
          ]
        },
        {
          "output_type": "stream",
          "name": "stderr",
          "text": [
            "Fold 7 of 5: 100%|██████████| 17/17 [02:09<00:00,  7.62s/it, train_loss=0.773, val_loss=0.774, lr=2.41e-04]\n"
          ]
        },
        {
          "output_type": "stream",
          "name": "stdout",
          "text": [
            "CPU count: 2\n",
            "Loaded df of shape (99995, 801)\n",
            "Loaded df of shape (19999, 801)\n",
            "Moving model to device: cuda\n"
          ]
        },
        {
          "output_type": "stream",
          "name": "stderr",
          "text": [
            "Fold 8 of 5: 100%|██████████| 17/17 [02:10<00:00,  7.66s/it, train_loss=0.775, val_loss=0.776, lr=2.41e-04]\n"
          ]
        },
        {
          "output_type": "stream",
          "name": "stdout",
          "text": [
            "CPU count: 2\n",
            "Loaded df of shape (99995, 801)\n",
            "Loaded df of shape (19999, 801)\n",
            "Moving model to device: cuda\n"
          ]
        },
        {
          "output_type": "stream",
          "name": "stderr",
          "text": [
            "Fold 9 of 5: 100%|██████████| 17/17 [02:10<00:00,  7.70s/it, train_loss=0.775, val_loss=0.778, lr=2.41e-04]\n"
          ]
        },
        {
          "output_type": "stream",
          "name": "stdout",
          "text": [
            "CPU count: 2\n",
            "Loaded df of shape (99995, 801)\n",
            "Loaded df of shape (19999, 801)\n",
            "Moving model to device: cuda\n"
          ]
        },
        {
          "output_type": "stream",
          "name": "stderr",
          "text": [
            "Fold 10 of 5: 100%|██████████| 17/17 [02:15<00:00,  7.96s/it, train_loss=0.774, val_loss=0.779, lr=2.41e-04]\n"
          ]
        },
        {
          "output_type": "stream",
          "name": "stdout",
          "text": [
            "CPU count: 2\n",
            "Loaded df of shape (99995, 801)\n",
            "Loaded df of shape (19999, 801)\n",
            "Moving model to device: cuda\n"
          ]
        },
        {
          "output_type": "stream",
          "name": "stderr",
          "text": [
            "Fold 11 of 5: 100%|██████████| 17/17 [02:16<00:00,  8.05s/it, train_loss=0.777, val_loss=0.775, lr=2.41e-04]\n"
          ]
        },
        {
          "output_type": "stream",
          "name": "stdout",
          "text": [
            "CPU count: 2\n",
            "Loaded df of shape (99995, 801)\n",
            "Loaded df of shape (19999, 801)\n",
            "Moving model to device: cuda\n"
          ]
        },
        {
          "output_type": "stream",
          "name": "stderr",
          "text": [
            "Fold 12 of 5: 100%|██████████| 17/17 [02:12<00:00,  7.81s/it, train_loss=0.78, val_loss=0.778, lr=2.41e-04]\n"
          ]
        },
        {
          "output_type": "stream",
          "name": "stdout",
          "text": [
            "CPU count: 2\n",
            "Loaded df of shape (99995, 801)\n",
            "Loaded df of shape (19999, 801)\n",
            "Moving model to device: cuda\n"
          ]
        },
        {
          "output_type": "stream",
          "name": "stderr",
          "text": [
            "Fold 13 of 5: 100%|██████████| 17/17 [02:17<00:00,  8.10s/it, train_loss=0.781, val_loss=0.783, lr=2.41e-04]\n"
          ]
        },
        {
          "output_type": "stream",
          "name": "stdout",
          "text": [
            "CPU count: 2\n",
            "Loaded df of shape (99995, 801)\n",
            "Loaded df of shape (19999, 801)\n",
            "Moving model to device: cuda\n"
          ]
        },
        {
          "output_type": "stream",
          "name": "stderr",
          "text": [
            "Fold 14 of 5: 100%|██████████| 17/17 [02:16<00:00,  8.04s/it, train_loss=0.78, val_loss=0.778, lr=2.41e-04]\n"
          ]
        },
        {
          "output_type": "stream",
          "name": "stdout",
          "text": [
            "CPU count: 2\n",
            "Loaded df of shape (99995, 801)\n",
            "Loaded df of shape (19999, 801)\n",
            "Moving model to device: cuda\n"
          ]
        },
        {
          "output_type": "stream",
          "name": "stderr",
          "text": [
            "Fold 15 of 5: 100%|██████████| 17/17 [02:18<00:00,  8.14s/it, train_loss=0.781, val_loss=0.782, lr=2.41e-04]\n"
          ]
        },
        {
          "output_type": "display_data",
          "data": {
            "text/html": [
              "<br/>Waiting for W&B process to finish, PID 46417... <strong style=\"color:green\">(success).</strong>"
            ],
            "text/plain": [
              "<IPython.core.display.HTML object>"
            ]
          },
          "metadata": {}
        },
        {
          "output_type": "display_data",
          "data": {
            "application/vnd.jupyter.widget-view+json": {
              "model_id": "50b8255b7758421e8cfbd79e7d6592e0",
              "version_minor": 0,
              "version_major": 2
            },
            "text/plain": [
              "VBox(children=(Label(value=' 0.00MB of 0.00MB uploaded (0.00MB deduped)\\r'), FloatProgress(value=1.0, max=1.0)…"
            ]
          },
          "metadata": {}
        },
        {
          "output_type": "display_data",
          "data": {
            "text/html": [
              "<style>\n",
              "    table.wandb td:nth-child(1) { padding: 0 10px; text-align: right }\n",
              "    .wandb-row { display: flex; flex-direction: row; flex-wrap: wrap; width: 100% }\n",
              "    .wandb-col { display: flex; flex-direction: column; flex-basis: 100%; flex: 1; padding: 10px; }\n",
              "    </style>\n",
              "<div class=\"wandb-row\"><div class=\"wandb-col\">\n",
              "<h3>Run history:</h3><br/><table class=\"wandb\"><tr><td>epoch</td><td>▁▄▇▂▅█▃▆▁▅▇▂▅▁▄▆▁▄█▃▅█▄▇▂▅█▃▆▁▄▇▂▅█▄▆▁▄█</td></tr><tr><td>lr</td><td>▁▁▁▁▁▁▁▁▁▁▁▁▁▁▁▁▁▁▁▁▁▁▁▁▁▁▁▁▁▁▁▁▁▁▁▁▁▁▁▁</td></tr><tr><td>overall_loss</td><td>▁</td></tr><tr><td>random_seed</td><td>▁</td></tr><tr><td>train_loss/0</td><td>█▃▃▂▂▂▂▂▂▂▁▁▁▁▁▁▁</td></tr><tr><td>train_loss/1</td><td>█▂▂▂▁▁▁▁▁▁▁▁▁▁▁▁▁</td></tr><tr><td>train_loss/10</td><td>█▂▁▁▁▁▁▁▁▁▁▁▁▁▁▁▁</td></tr><tr><td>train_loss/11</td><td>█▂▁▁▁▁▁▁▁▁▁▁▁▁▁▁▁</td></tr><tr><td>train_loss/12</td><td>█▂▁▁▁▁▁▁▁▁▁▁▁▁▁▁▁</td></tr><tr><td>train_loss/13</td><td>█▂▁▁▁▁▁▁▁▁▁▁▁▁▁▁▁</td></tr><tr><td>train_loss/14</td><td>█▂▁▁▁▁▁▁▁▁▁▁▁▁▁▁▁</td></tr><tr><td>train_loss/2</td><td>█▂▂▂▁▁▁▁▁▁▁▁▁▁▁▁▁</td></tr><tr><td>train_loss/3</td><td>█▂▂▂▂▁▁▁▁▁▁▁▁▁▁▁▁</td></tr><tr><td>train_loss/4</td><td>█▂▂▂▂▂▂▁▁▁▁▁▁▁▁▁▁</td></tr><tr><td>train_loss/5</td><td>█▄▃▃▃▂▂▂▂▂▂▁▁▁▁▁▁</td></tr><tr><td>train_loss/6</td><td>█▃▃▂▂▂▂▂▂▂▂▁▁▁▁▁▁</td></tr><tr><td>train_loss/7</td><td>█▃▃▂▂▂▂▂▂▂▁▁▁▁▁▁▁</td></tr><tr><td>train_loss/8</td><td>█▃▃▂▂▂▂▂▂▂▂▁▁▁▁▁▁</td></tr><tr><td>train_loss/9</td><td>█▃▃▃▂▂▂▂▂▂▂▁▁▁▁▁▁</td></tr><tr><td>val_loss/0</td><td>█▆▅▄▄▃▃▃▂▂▂▂▁▁▁▁▁</td></tr><tr><td>val_loss/1</td><td>█▆▆▅▄▄▃▃▂▂▂▂▁▁▁▁▁</td></tr><tr><td>val_loss/10</td><td>█▆▅▅▄▃▃▃▃▂▂▂▂▂▁▁▁</td></tr><tr><td>val_loss/11</td><td>█▆▅▅▄▃▃▃▂▂▂▂▂▁▁▁▁</td></tr><tr><td>val_loss/12</td><td>█▆▅▄▄▃▃▂▂▂▂▂▂▁▁▁▁</td></tr><tr><td>val_loss/13</td><td>█▂▁▁▁▁▁▁▁▁▁▁▁▁▁▁▁</td></tr><tr><td>val_loss/14</td><td>█▇▅▄▄▃▃▂▂▂▂▂▁▁▁▁▁</td></tr><tr><td>val_loss/2</td><td>█▆▅▄▃▃▂▂▂▂▂▂▁▁▁▁▁</td></tr><tr><td>val_loss/3</td><td>█▆▅▄▃▃▃▂▃▂▂▂▂▁▁▁▁</td></tr><tr><td>val_loss/4</td><td>▅▂▃▁▃█▅▅▅▂▁▅▃▃▄▃▃</td></tr><tr><td>val_loss/5</td><td>█▆▆▅▅▅▄▄▃▃▃▃▃▂▂▁▁</td></tr><tr><td>val_loss/6</td><td>█▆▅▄▄▃▃▃▃▂▂▂▂▁▁▁▁</td></tr><tr><td>val_loss/7</td><td>█▆▅▄▄▃▃▃▃▂▂▂▂▁▁▁▁</td></tr><tr><td>val_loss/8</td><td>█▆▅▄▄▃▃▃▃▂▂▂▂▁▁▁▁</td></tr><tr><td>val_loss/9</td><td>█▆▅▄▃▃▃▂▂▂▂▂▂▁▁▁▁</td></tr></table><br/></div><div class=\"wandb-col\">\n",
              "<h3>Run summary:</h3><br/><table class=\"wandb\"><tr><td>epoch</td><td>17</td></tr><tr><td>lr</td><td>0.00024</td></tr><tr><td>overall_loss</td><td>0.779</td></tr><tr><td>random_seed</td><td>48662687</td></tr><tr><td>train_loss/0</td><td>0.77211</td></tr><tr><td>train_loss/1</td><td>0.77942</td></tr><tr><td>train_loss/10</td><td>0.7767</td></tr><tr><td>train_loss/11</td><td>0.77995</td></tr><tr><td>train_loss/12</td><td>0.78095</td></tr><tr><td>train_loss/13</td><td>0.77998</td></tr><tr><td>train_loss/14</td><td>0.78053</td></tr><tr><td>train_loss/2</td><td>0.78041</td></tr><tr><td>train_loss/3</td><td>0.77999</td></tr><tr><td>train_loss/4</td><td>0.77641</td></tr><tr><td>train_loss/5</td><td>0.76883</td></tr><tr><td>train_loss/6</td><td>0.7735</td></tr><tr><td>train_loss/7</td><td>0.77509</td></tr><tr><td>train_loss/8</td><td>0.77499</td></tr><tr><td>train_loss/9</td><td>0.77368</td></tr><tr><td>val_loss/0</td><td>0.77954</td></tr><tr><td>val_loss/1</td><td>0.78264</td></tr><tr><td>val_loss/10</td><td>0.77451</td></tr><tr><td>val_loss/11</td><td>0.778</td></tr><tr><td>val_loss/12</td><td>0.78263</td></tr><tr><td>val_loss/13</td><td>0.7781</td></tr><tr><td>val_loss/14</td><td>0.78176</td></tr><tr><td>val_loss/2</td><td>0.78346</td></tr><tr><td>val_loss/3</td><td>0.78465</td></tr><tr><td>val_loss/4</td><td>0.82718</td></tr><tr><td>val_loss/5</td><td>0.76173</td></tr><tr><td>val_loss/6</td><td>0.77423</td></tr><tr><td>val_loss/7</td><td>0.77638</td></tr><tr><td>val_loss/8</td><td>0.77791</td></tr><tr><td>val_loss/9</td><td>0.77941</td></tr></table>\n",
              "</div></div>\n",
              "Synced 5 W&B file(s), 0 media file(s), 0 artifact file(s) and 0 other file(s)\n",
              "<br/>Synced <strong style=\"color:#cdcd00\">clean-sweep-26</strong>: <a href=\"https://wandb.ai/krankile/weight-net/runs/s8mu310k\" target=\"_blank\">https://wandb.ai/krankile/weight-net/runs/s8mu310k</a><br/>\n",
              "Find logs at: <code>./wandb/run-20211211_232757-s8mu310k/logs</code><br/>\n"
            ],
            "text/plain": [
              "<IPython.core.display.HTML object>"
            ]
          },
          "metadata": {}
        },
        {
          "output_type": "stream",
          "name": "stderr",
          "text": [
            "\u001b[34m\u001b[1mwandb\u001b[0m: Agent Starting Run: n17hfs20 with config:\n",
            "\u001b[34m\u001b[1mwandb\u001b[0m: \tbatch_size: 512\n",
            "\u001b[34m\u001b[1mwandb\u001b[0m: \tdropout: 0.6409094123022885\n",
            "\u001b[34m\u001b[1mwandb\u001b[0m: \tepochs: 6\n",
            "\u001b[34m\u001b[1mwandb\u001b[0m: \thidden_dim: 192\n",
            "\u001b[34m\u001b[1mwandb\u001b[0m: \tlearning_rate: 0.00020269149158930335\n",
            "\u001b[34m\u001b[1mwandb\u001b[0m: \tn_hidden: 4\n",
            "\u001b[34m\u001b[1mwandb\u001b[0m: \tweight_decay: 0.0026710394666937583\n"
          ]
        },
        {
          "output_type": "display_data",
          "data": {
            "text/html": [
              "\n",
              "                    Syncing run <strong><a href=\"https://wandb.ai/krankile/weight-net/runs/n17hfs20\" target=\"_blank\">zany-sweep-32</a></strong> to <a href=\"https://wandb.ai/krankile/weight-net\" target=\"_blank\">Weights & Biases</a> (<a href=\"https://docs.wandb.com/integrations/jupyter.html\" target=\"_blank\">docs</a>).<br/>\n",
              "Sweep page: <a href=\"https://wandb.ai/krankile/weight-net/sweeps/4r44tbf3\" target=\"_blank\">https://wandb.ai/krankile/weight-net/sweeps/4r44tbf3</a><br/>\n",
              "\n",
              "                "
            ],
            "text/plain": [
              "<IPython.core.display.HTML object>"
            ]
          },
          "metadata": {}
        },
        {
          "output_type": "stream",
          "name": "stdout",
          "text": [
            "{'batch_size': 512, 'dropout': 0.6409094123022885, 'epochs': 6, 'hidden_dim': 192, 'learning_rate': 0.00020269149158930335, 'n_hidden': 4, 'weight_decay': 0.0026710394666937583, 'k': 5, 'optimizer': 'adamw', 'architecture': 'WeightNetV4', 'data': 'ensemble_traval:non-standard', 'data_split': 'traval_split_80_20:v0', 'loss_func': 'owa', 'bn': False, 'feature_set': 'ma', 'act': 'leaky', 'num_models': 14, 'schedule': None}\n"
          ]
        },
        {
          "output_type": "stream",
          "name": "stderr",
          "text": [
            "\u001b[34m\u001b[1mwandb\u001b[0m: Downloading large artifact ensemble_traval:non-standard, 119.61MB. 1 files... Done. 0:0:0\n"
          ]
        },
        {
          "output_type": "stream",
          "name": "stdout",
          "text": [
            "CPU count: 2\n",
            "Loaded df of shape (79996, 801)\n",
            "Loaded df of shape (19999, 801)\n",
            "Moving model to device: cuda\n"
          ]
        },
        {
          "output_type": "stream",
          "name": "stderr",
          "text": [
            "Fold 1 of 5: 100%|██████████| 6/6 [00:35<00:00,  5.86s/it, train_loss=0.791, val_loss=0.791, lr=2.03e-04]\n"
          ]
        },
        {
          "output_type": "stream",
          "name": "stdout",
          "text": [
            "CPU count: 2\n",
            "Loaded df of shape (79996, 801)\n",
            "Loaded df of shape (19999, 801)\n",
            "Moving model to device: cuda\n"
          ]
        },
        {
          "output_type": "stream",
          "name": "stderr",
          "text": [
            "Fold 2 of 5: 100%|██████████| 6/6 [00:35<00:00,  5.87s/it, train_loss=0.801, val_loss=0.8, lr=2.03e-04]\n"
          ]
        },
        {
          "output_type": "stream",
          "name": "stdout",
          "text": [
            "CPU count: 2\n",
            "Loaded df of shape (79996, 801)\n",
            "Loaded df of shape (19999, 801)\n",
            "Moving model to device: cuda\n"
          ]
        },
        {
          "output_type": "stream",
          "name": "stderr",
          "text": [
            "Fold 3 of 5: 100%|██████████| 6/6 [00:35<00:00,  5.88s/it, train_loss=0.802, val_loss=0.799, lr=2.03e-04]\n"
          ]
        },
        {
          "output_type": "stream",
          "name": "stdout",
          "text": [
            "CPU count: 2\n",
            "Loaded df of shape (79996, 801)\n",
            "Loaded df of shape (19999, 801)\n",
            "Moving model to device: cuda\n"
          ]
        },
        {
          "output_type": "stream",
          "name": "stderr",
          "text": [
            "Fold 4 of 5: 100%|██████████| 6/6 [00:35<00:00,  5.97s/it, train_loss=0.799, val_loss=0.802, lr=2.03e-04]\n"
          ]
        },
        {
          "output_type": "stream",
          "name": "stdout",
          "text": [
            "CPU count: 2\n",
            "Loaded df of shape (79996, 801)\n",
            "Loaded df of shape (19999, 801)\n",
            "Moving model to device: cuda\n"
          ]
        },
        {
          "output_type": "stream",
          "name": "stderr",
          "text": [
            "Fold 5 of 5: 100%|██████████| 6/6 [00:34<00:00,  5.82s/it, train_loss=0.792, val_loss=0.827, lr=2.03e-04]\n"
          ]
        },
        {
          "output_type": "stream",
          "name": "stdout",
          "text": [
            "CPU count: 2\n",
            "Loaded df of shape (99995, 801)\n",
            "Loaded df of shape (19999, 801)\n",
            "Moving model to device: cuda\n"
          ]
        },
        {
          "output_type": "stream",
          "name": "stderr",
          "text": [
            "Fold 6 of 5: 100%|██████████| 6/6 [00:41<00:00,  6.88s/it, train_loss=0.792, val_loss=0.785, lr=2.03e-04]\n"
          ]
        },
        {
          "output_type": "stream",
          "name": "stdout",
          "text": [
            "CPU count: 2\n",
            "Loaded df of shape (99995, 801)\n",
            "Loaded df of shape (19999, 801)\n",
            "Moving model to device: cuda\n"
          ]
        },
        {
          "output_type": "stream",
          "name": "stderr",
          "text": [
            "Fold 7 of 5: 100%|██████████| 6/6 [00:41<00:00,  6.85s/it, train_loss=0.797, val_loss=0.796, lr=2.03e-04]\n"
          ]
        },
        {
          "output_type": "stream",
          "name": "stdout",
          "text": [
            "CPU count: 2\n",
            "Loaded df of shape (99995, 801)\n",
            "Loaded df of shape (19999, 801)\n",
            "Moving model to device: cuda\n"
          ]
        },
        {
          "output_type": "stream",
          "name": "stderr",
          "text": [
            "Fold 8 of 5: 100%|██████████| 6/6 [00:42<00:00,  7.03s/it, train_loss=0.797, val_loss=0.796, lr=2.03e-04]\n"
          ]
        },
        {
          "output_type": "stream",
          "name": "stdout",
          "text": [
            "CPU count: 2\n",
            "Loaded df of shape (99995, 801)\n",
            "Loaded df of shape (19999, 801)\n",
            "Moving model to device: cuda\n"
          ]
        },
        {
          "output_type": "stream",
          "name": "stderr",
          "text": [
            "Fold 9 of 5: 100%|██████████| 6/6 [00:41<00:00,  6.96s/it, train_loss=0.797, val_loss=0.803, lr=2.03e-04]\n"
          ]
        },
        {
          "output_type": "stream",
          "name": "stdout",
          "text": [
            "CPU count: 2\n",
            "Loaded df of shape (99995, 801)\n",
            "Loaded df of shape (19999, 801)\n",
            "Moving model to device: cuda\n"
          ]
        },
        {
          "output_type": "stream",
          "name": "stderr",
          "text": [
            "Fold 10 of 5: 100%|██████████| 6/6 [00:42<00:00,  7.11s/it, train_loss=0.796, val_loss=0.803, lr=2.03e-04]\n"
          ]
        },
        {
          "output_type": "stream",
          "name": "stdout",
          "text": [
            "CPU count: 2\n",
            "Loaded df of shape (99995, 801)\n",
            "Loaded df of shape (19999, 801)\n",
            "Moving model to device: cuda\n"
          ]
        },
        {
          "output_type": "stream",
          "name": "stderr",
          "text": [
            "Fold 11 of 5: 100%|██████████| 6/6 [00:41<00:00,  6.89s/it, train_loss=0.787, val_loss=0.782, lr=2.03e-04]\n"
          ]
        },
        {
          "output_type": "stream",
          "name": "stdout",
          "text": [
            "CPU count: 2\n",
            "Loaded df of shape (99995, 801)\n",
            "Loaded df of shape (19999, 801)\n",
            "Moving model to device: cuda\n"
          ]
        },
        {
          "output_type": "stream",
          "name": "stderr",
          "text": [
            "Fold 12 of 5: 100%|██████████| 6/6 [00:38<00:00,  6.43s/it, train_loss=0.79, val_loss=0.789, lr=2.03e-04]\n"
          ]
        },
        {
          "output_type": "stream",
          "name": "stdout",
          "text": [
            "CPU count: 2\n",
            "Loaded df of shape (99995, 801)\n",
            "Loaded df of shape (19999, 801)\n",
            "Moving model to device: cuda\n"
          ]
        },
        {
          "output_type": "stream",
          "name": "stderr",
          "text": [
            "Fold 13 of 5: 100%|██████████| 6/6 [00:37<00:00,  6.17s/it, train_loss=0.79, val_loss=0.793, lr=2.03e-04]\n"
          ]
        },
        {
          "output_type": "stream",
          "name": "stdout",
          "text": [
            "CPU count: 2\n",
            "Loaded df of shape (99995, 801)\n",
            "Loaded df of shape (19999, 801)\n",
            "Moving model to device: cuda\n"
          ]
        },
        {
          "output_type": "stream",
          "name": "stderr",
          "text": [
            "Fold 14 of 5: 100%|██████████| 6/6 [00:37<00:00,  6.24s/it, train_loss=0.79, val_loss=0.789, lr=2.03e-04]\n"
          ]
        },
        {
          "output_type": "stream",
          "name": "stdout",
          "text": [
            "CPU count: 2\n",
            "Loaded df of shape (99995, 801)\n",
            "Loaded df of shape (19999, 801)\n",
            "Moving model to device: cuda\n"
          ]
        },
        {
          "output_type": "stream",
          "name": "stderr",
          "text": [
            "Fold 15 of 5: 100%|██████████| 6/6 [00:37<00:00,  6.22s/it, train_loss=0.791, val_loss=0.789, lr=2.03e-04]\n"
          ]
        },
        {
          "output_type": "display_data",
          "data": {
            "text/html": [
              "<br/>Waiting for W&B process to finish, PID 51587... <strong style=\"color:green\">(success).</strong>"
            ],
            "text/plain": [
              "<IPython.core.display.HTML object>"
            ]
          },
          "metadata": {}
        },
        {
          "output_type": "display_data",
          "data": {
            "application/vnd.jupyter.widget-view+json": {
              "model_id": "89e5d1bc215c41a4a70aa3f0e4cf1d10",
              "version_minor": 0,
              "version_major": 2
            },
            "text/plain": [
              "VBox(children=(Label(value=' 0.00MB of 0.00MB uploaded (0.00MB deduped)\\r'), FloatProgress(value=1.0, max=1.0)…"
            ]
          },
          "metadata": {}
        },
        {
          "output_type": "display_data",
          "data": {
            "text/html": [
              "<style>\n",
              "    table.wandb td:nth-child(1) { padding: 0 10px; text-align: right }\n",
              "    .wandb-row { display: flex; flex-direction: row; flex-wrap: wrap; width: 100% }\n",
              "    .wandb-col { display: flex; flex-direction: column; flex-basis: 100%; flex: 1; padding: 10px; }\n",
              "    </style>\n",
              "<div class=\"wandb-row\"><div class=\"wandb-col\">\n",
              "<h3>Run history:</h3><br/><table class=\"wandb\"><tr><td>epoch</td><td>▁▄▇▁▅█▂▅▁▄▇▂▅█▂▇▁▄█▂▅█▄▇▁▅█▂▅▁▄▇▂▅█▂▇▁▄█</td></tr><tr><td>lr</td><td>▁▁▁▁▁▁▁▁▁▁▁▁▁▁▁▁▁▁▁▁▁▁▁▁▁▁▁▁▁▁▁▁▁▁▁▁▁▁▁▁</td></tr><tr><td>overall_loss</td><td>▁</td></tr><tr><td>random_seed</td><td>▁</td></tr><tr><td>train_loss/0</td><td>█▃▁▁▁▁</td></tr><tr><td>train_loss/1</td><td>█▂▁▁▁▁</td></tr><tr><td>train_loss/10</td><td>█▂▂▁▁▁</td></tr><tr><td>train_loss/11</td><td>█▂▂▁▁▁</td></tr><tr><td>train_loss/12</td><td>█▂▂▁▁▁</td></tr><tr><td>train_loss/13</td><td>█▂▂▁▁▁</td></tr><tr><td>train_loss/14</td><td>█▂▁▁▁▁</td></tr><tr><td>train_loss/2</td><td>█▂▁▁▁▁</td></tr><tr><td>train_loss/3</td><td>█▂▁▁▁▁</td></tr><tr><td>train_loss/4</td><td>█▂▁▁▁▁</td></tr><tr><td>train_loss/5</td><td>█▂▁▁▁▁</td></tr><tr><td>train_loss/6</td><td>█▂▁▁▁▁</td></tr><tr><td>train_loss/7</td><td>█▂▁▁▁▁</td></tr><tr><td>train_loss/8</td><td>█▂▁▁▁▁</td></tr><tr><td>train_loss/9</td><td>█▂▁▁▁▁</td></tr><tr><td>val_loss/0</td><td>█▁▁▁▁▁</td></tr><tr><td>val_loss/1</td><td>██▇▄▂▁</td></tr><tr><td>val_loss/10</td><td>█▅▃▂▁▁</td></tr><tr><td>val_loss/11</td><td>█▅▃▃▂▁</td></tr><tr><td>val_loss/12</td><td>█▅▃▂▁▁</td></tr><tr><td>val_loss/13</td><td>█▅▃▂▂▁</td></tr><tr><td>val_loss/14</td><td>█▆▃▂▁▁</td></tr><tr><td>val_loss/2</td><td>██▇▅▂▁</td></tr><tr><td>val_loss/3</td><td>██▇▃▂▁</td></tr><tr><td>val_loss/4</td><td>█▃▁▅▅▂</td></tr><tr><td>val_loss/5</td><td>█▁▁▁▁▁</td></tr><tr><td>val_loss/6</td><td>█▁▁▁▁▁</td></tr><tr><td>val_loss/7</td><td>█▇▅▃▂▁</td></tr><tr><td>val_loss/8</td><td>█▇▅▄▂▁</td></tr><tr><td>val_loss/9</td><td>█▇▅▄▂▁</td></tr></table><br/></div><div class=\"wandb-col\">\n",
              "<h3>Run summary:</h3><br/><table class=\"wandb\"><tr><td>epoch</td><td>6</td></tr><tr><td>lr</td><td>0.0002</td></tr><tr><td>overall_loss</td><td>0.7883</td></tr><tr><td>random_seed</td><td>836584454</td></tr><tr><td>train_loss/0</td><td>0.79116</td></tr><tr><td>train_loss/1</td><td>0.80073</td></tr><tr><td>train_loss/10</td><td>0.7866</td></tr><tr><td>train_loss/11</td><td>0.78998</td></tr><tr><td>train_loss/12</td><td>0.79039</td></tr><tr><td>train_loss/13</td><td>0.79011</td></tr><tr><td>train_loss/14</td><td>0.79143</td></tr><tr><td>train_loss/2</td><td>0.80195</td></tr><tr><td>train_loss/3</td><td>0.79926</td></tr><tr><td>train_loss/4</td><td>0.7925</td></tr><tr><td>train_loss/5</td><td>0.79165</td></tr><tr><td>train_loss/6</td><td>0.79669</td></tr><tr><td>train_loss/7</td><td>0.7973</td></tr><tr><td>train_loss/8</td><td>0.79724</td></tr><tr><td>train_loss/9</td><td>0.79607</td></tr><tr><td>val_loss/0</td><td>0.79095</td></tr><tr><td>val_loss/1</td><td>0.80001</td></tr><tr><td>val_loss/10</td><td>0.78153</td></tr><tr><td>val_loss/11</td><td>0.78874</td></tr><tr><td>val_loss/12</td><td>0.79255</td></tr><tr><td>val_loss/13</td><td>0.78934</td></tr><tr><td>val_loss/14</td><td>0.78937</td></tr><tr><td>val_loss/2</td><td>0.79875</td></tr><tr><td>val_loss/3</td><td>0.80168</td></tr><tr><td>val_loss/4</td><td>0.82728</td></tr><tr><td>val_loss/5</td><td>0.78516</td></tr><tr><td>val_loss/6</td><td>0.79649</td></tr><tr><td>val_loss/7</td><td>0.79626</td></tr><tr><td>val_loss/8</td><td>0.80277</td></tr><tr><td>val_loss/9</td><td>0.80294</td></tr></table>\n",
              "</div></div>\n",
              "Synced 5 W&B file(s), 0 media file(s), 0 artifact file(s) and 0 other file(s)\n",
              "<br/>Synced <strong style=\"color:#cdcd00\">zany-sweep-32</strong>: <a href=\"https://wandb.ai/krankile/weight-net/runs/n17hfs20\" target=\"_blank\">https://wandb.ai/krankile/weight-net/runs/n17hfs20</a><br/>\n",
              "Find logs at: <code>./wandb/run-20211212_000452-n17hfs20/logs</code><br/>\n"
            ],
            "text/plain": [
              "<IPython.core.display.HTML object>"
            ]
          },
          "metadata": {}
        },
        {
          "output_type": "stream",
          "name": "stderr",
          "text": [
            "\u001b[34m\u001b[1mwandb\u001b[0m: Agent Starting Run: ed5ql5o5 with config:\n",
            "\u001b[34m\u001b[1mwandb\u001b[0m: \tbatch_size: 512\n",
            "\u001b[34m\u001b[1mwandb\u001b[0m: \tdropout: 0.6662019520450536\n",
            "\u001b[34m\u001b[1mwandb\u001b[0m: \tepochs: 10\n",
            "\u001b[34m\u001b[1mwandb\u001b[0m: \thidden_dim: 128\n",
            "\u001b[34m\u001b[1mwandb\u001b[0m: \tlearning_rate: 0.0005048064339536675\n",
            "\u001b[34m\u001b[1mwandb\u001b[0m: \tn_hidden: 3\n",
            "\u001b[34m\u001b[1mwandb\u001b[0m: \tweight_decay: 0.000766144030180305\n"
          ]
        },
        {
          "output_type": "display_data",
          "data": {
            "text/html": [
              "\n",
              "                    Syncing run <strong><a href=\"https://wandb.ai/krankile/weight-net/runs/ed5ql5o5\" target=\"_blank\">cosmic-sweep-35</a></strong> to <a href=\"https://wandb.ai/krankile/weight-net\" target=\"_blank\">Weights & Biases</a> (<a href=\"https://docs.wandb.com/integrations/jupyter.html\" target=\"_blank\">docs</a>).<br/>\n",
              "Sweep page: <a href=\"https://wandb.ai/krankile/weight-net/sweeps/4r44tbf3\" target=\"_blank\">https://wandb.ai/krankile/weight-net/sweeps/4r44tbf3</a><br/>\n",
              "\n",
              "                "
            ],
            "text/plain": [
              "<IPython.core.display.HTML object>"
            ]
          },
          "metadata": {}
        },
        {
          "output_type": "stream",
          "name": "stdout",
          "text": [
            "{'batch_size': 512, 'dropout': 0.6662019520450536, 'epochs': 10, 'hidden_dim': 128, 'learning_rate': 0.0005048064339536675, 'n_hidden': 3, 'weight_decay': 0.000766144030180305, 'k': 5, 'optimizer': 'adamw', 'architecture': 'WeightNetV4', 'data': 'ensemble_traval:non-standard', 'data_split': 'traval_split_80_20:v0', 'loss_func': 'owa', 'bn': False, 'feature_set': 'ma', 'act': 'leaky', 'num_models': 14, 'schedule': None}\n"
          ]
        },
        {
          "output_type": "stream",
          "name": "stderr",
          "text": [
            "\u001b[34m\u001b[1mwandb\u001b[0m: Downloading large artifact ensemble_traval:non-standard, 119.61MB. 1 files... Done. 0:0:0\n"
          ]
        },
        {
          "output_type": "stream",
          "name": "stdout",
          "text": [
            "CPU count: 2\n",
            "Loaded df of shape (79996, 801)\n",
            "Loaded df of shape (19999, 801)\n",
            "Moving model to device: cuda\n"
          ]
        },
        {
          "output_type": "stream",
          "name": "stderr",
          "text": [
            "Fold 1 of 5: 100%|██████████| 10/10 [00:50<00:00,  5.04s/it, train_loss=0.774, val_loss=0.779, lr=5.05e-04]\n"
          ]
        },
        {
          "output_type": "stream",
          "name": "stdout",
          "text": [
            "CPU count: 2\n",
            "Loaded df of shape (79996, 801)\n",
            "Loaded df of shape (19999, 801)\n",
            "Moving model to device: cuda\n"
          ]
        },
        {
          "output_type": "stream",
          "name": "stderr",
          "text": [
            "Fold 2 of 5: 100%|██████████| 10/10 [00:52<00:00,  5.27s/it, train_loss=0.788, val_loss=0.788, lr=5.05e-04]\n"
          ]
        },
        {
          "output_type": "stream",
          "name": "stdout",
          "text": [
            "CPU count: 2\n",
            "Loaded df of shape (79996, 801)\n",
            "Loaded df of shape (19999, 801)\n",
            "Moving model to device: cuda\n"
          ]
        },
        {
          "output_type": "stream",
          "name": "stderr",
          "text": [
            "Fold 3 of 5: 100%|██████████| 10/10 [00:51<00:00,  5.19s/it, train_loss=0.789, val_loss=0.788, lr=5.05e-04]\n"
          ]
        },
        {
          "output_type": "stream",
          "name": "stdout",
          "text": [
            "CPU count: 2\n",
            "Loaded df of shape (79996, 801)\n",
            "Loaded df of shape (19999, 801)\n",
            "Moving model to device: cuda\n"
          ]
        },
        {
          "output_type": "stream",
          "name": "stderr",
          "text": [
            "Fold 4 of 5: 100%|██████████| 10/10 [00:50<00:00,  5.07s/it, train_loss=0.787, val_loss=0.791, lr=5.05e-04]\n"
          ]
        },
        {
          "output_type": "stream",
          "name": "stdout",
          "text": [
            "CPU count: 2\n",
            "Loaded df of shape (79996, 801)\n",
            "Loaded df of shape (19999, 801)\n",
            "Moving model to device: cuda\n"
          ]
        },
        {
          "output_type": "stream",
          "name": "stderr",
          "text": [
            "Fold 5 of 5: 100%|██████████| 10/10 [00:50<00:00,  5.05s/it, train_loss=0.784, val_loss=0.836, lr=5.05e-04]\n"
          ]
        },
        {
          "output_type": "stream",
          "name": "stdout",
          "text": [
            "CPU count: 2\n",
            "Loaded df of shape (99995, 801)\n",
            "Loaded df of shape (19999, 801)\n",
            "Moving model to device: cuda\n"
          ]
        },
        {
          "output_type": "stream",
          "name": "stderr",
          "text": [
            "Fold 6 of 5: 100%|██████████| 10/10 [01:03<00:00,  6.33s/it, train_loss=0.774, val_loss=0.768, lr=5.05e-04]\n"
          ]
        },
        {
          "output_type": "stream",
          "name": "stdout",
          "text": [
            "CPU count: 2\n",
            "Loaded df of shape (99995, 801)\n",
            "Loaded df of shape (19999, 801)\n",
            "Moving model to device: cuda\n"
          ]
        },
        {
          "output_type": "stream",
          "name": "stderr",
          "text": [
            "Fold 7 of 5: 100%|██████████| 10/10 [01:00<00:00,  6.09s/it, train_loss=0.779, val_loss=0.78, lr=5.05e-04]\n"
          ]
        },
        {
          "output_type": "stream",
          "name": "stdout",
          "text": [
            "CPU count: 2\n",
            "Loaded df of shape (99995, 801)\n",
            "Loaded df of shape (19999, 801)\n",
            "Moving model to device: cuda\n"
          ]
        },
        {
          "output_type": "stream",
          "name": "stderr",
          "text": [
            "Fold 8 of 5: 100%|██████████| 10/10 [01:01<00:00,  6.11s/it, train_loss=0.781, val_loss=0.781, lr=5.05e-04]\n"
          ]
        },
        {
          "output_type": "stream",
          "name": "stdout",
          "text": [
            "CPU count: 2\n",
            "Loaded df of shape (99995, 801)\n",
            "Loaded df of shape (19999, 801)\n",
            "Moving model to device: cuda\n"
          ]
        },
        {
          "output_type": "stream",
          "name": "stderr",
          "text": [
            "Fold 9 of 5: 100%|██████████| 10/10 [01:00<00:00,  6.07s/it, train_loss=0.781, val_loss=0.787, lr=5.05e-04]\n"
          ]
        },
        {
          "output_type": "stream",
          "name": "stdout",
          "text": [
            "CPU count: 2\n",
            "Loaded df of shape (99995, 801)\n",
            "Loaded df of shape (19999, 801)\n",
            "Moving model to device: cuda\n"
          ]
        },
        {
          "output_type": "stream",
          "name": "stderr",
          "text": [
            "Fold 10 of 5: 100%|██████████| 10/10 [01:00<00:00,  6.00s/it, train_loss=0.779, val_loss=0.784, lr=5.05e-04]\n"
          ]
        },
        {
          "output_type": "stream",
          "name": "stdout",
          "text": [
            "CPU count: 2\n",
            "Loaded df of shape (99995, 801)\n",
            "Loaded df of shape (19999, 801)\n",
            "Moving model to device: cuda\n"
          ]
        },
        {
          "output_type": "stream",
          "name": "stderr",
          "text": [
            "Fold 11 of 5: 100%|██████████| 10/10 [00:59<00:00,  5.92s/it, train_loss=0.773, val_loss=0.767, lr=5.05e-04]\n"
          ]
        },
        {
          "output_type": "stream",
          "name": "stdout",
          "text": [
            "CPU count: 2\n",
            "Loaded df of shape (99995, 801)\n",
            "Loaded df of shape (19999, 801)\n",
            "Moving model to device: cuda\n"
          ]
        },
        {
          "output_type": "stream",
          "name": "stderr",
          "text": [
            "Fold 12 of 5: 100%|██████████| 10/10 [00:58<00:00,  5.86s/it, train_loss=0.778, val_loss=0.777, lr=5.05e-04]\n"
          ]
        },
        {
          "output_type": "stream",
          "name": "stdout",
          "text": [
            "CPU count: 2\n",
            "Loaded df of shape (99995, 801)\n",
            "Loaded df of shape (19999, 801)\n",
            "Moving model to device: cuda\n"
          ]
        },
        {
          "output_type": "stream",
          "name": "stderr",
          "text": [
            "Fold 13 of 5: 100%|██████████| 10/10 [01:00<00:00,  6.01s/it, train_loss=0.778, val_loss=0.78, lr=5.05e-04]\n"
          ]
        },
        {
          "output_type": "stream",
          "name": "stdout",
          "text": [
            "CPU count: 2\n",
            "Loaded df of shape (99995, 801)\n",
            "Loaded df of shape (19999, 801)\n",
            "Moving model to device: cuda\n"
          ]
        },
        {
          "output_type": "stream",
          "name": "stderr",
          "text": [
            "Fold 14 of 5: 100%|██████████| 10/10 [00:59<00:00,  5.92s/it, train_loss=0.779, val_loss=0.776, lr=5.05e-04]\n"
          ]
        },
        {
          "output_type": "stream",
          "name": "stdout",
          "text": [
            "CPU count: 2\n",
            "Loaded df of shape (99995, 801)\n",
            "Loaded df of shape (19999, 801)\n",
            "Moving model to device: cuda\n"
          ]
        },
        {
          "output_type": "stream",
          "name": "stderr",
          "text": [
            "Fold 15 of 5: 100%|██████████| 10/10 [00:59<00:00,  5.94s/it, train_loss=0.779, val_loss=0.778, lr=5.05e-04]\n"
          ]
        },
        {
          "output_type": "display_data",
          "data": {
            "text/html": [
              "<br/>Waiting for W&B process to finish, PID 53457... <strong style=\"color:green\">(success).</strong>"
            ],
            "text/plain": [
              "<IPython.core.display.HTML object>"
            ]
          },
          "metadata": {}
        },
        {
          "output_type": "display_data",
          "data": {
            "application/vnd.jupyter.widget-view+json": {
              "model_id": "81635ca4d465447c8920ca29bd2b5334",
              "version_minor": 0,
              "version_major": 2
            },
            "text/plain": [
              "VBox(children=(Label(value=' 0.00MB of 0.00MB uploaded (0.00MB deduped)\\r'), FloatProgress(value=1.0, max=1.0)…"
            ]
          },
          "metadata": {}
        },
        {
          "output_type": "display_data",
          "data": {
            "text/html": [
              "<style>\n",
              "    table.wandb td:nth-child(1) { padding: 0 10px; text-align: right }\n",
              "    .wandb-row { display: flex; flex-direction: row; flex-wrap: wrap; width: 100% }\n",
              "    .wandb-col { display: flex; flex-direction: column; flex-basis: 100%; flex: 1; padding: 10px; }\n",
              "    </style>\n",
              "<div class=\"wandb-row\"><div class=\"wandb-col\">\n",
              "<h3>Run history:</h3><br/><table class=\"wandb\"><tr><td>epoch</td><td>▁▃▆▁▅█▃▆▁▅▆▁▅█▃▆▁▅█▃▅█▃▆▁▅█▃▆▁▃▆▁▅█▃▆▁▅█</td></tr><tr><td>lr</td><td>▁▁▁▁▁▁▁▁▁▁▁▁▁▁▁▁▁▁▁▁▁▁▁▁▁▁▁▁▁▁▁▁▁▁▁▁▁▁▁▁</td></tr><tr><td>overall_loss</td><td>▁</td></tr><tr><td>random_seed</td><td>▁</td></tr><tr><td>train_loss/0</td><td>█▃▂▂▂▂▁▁▁▁</td></tr><tr><td>train_loss/1</td><td>█▂▁▁▁▁▁▁▁▁</td></tr><tr><td>train_loss/10</td><td>█▃▂▂▂▂▁▁▁▁</td></tr><tr><td>train_loss/11</td><td>█▃▂▂▂▂▁▁▁▁</td></tr><tr><td>train_loss/12</td><td>█▃▂▂▂▁▁▁▁▁</td></tr><tr><td>train_loss/13</td><td>█▂▂▂▂▁▁▁▁▁</td></tr><tr><td>train_loss/14</td><td>█▂▂▁▁▁▁▁▁▁</td></tr><tr><td>train_loss/2</td><td>█▂▁▁▁▁▁▁▁▁</td></tr><tr><td>train_loss/3</td><td>█▂▁▁▁▁▁▁▁▁</td></tr><tr><td>train_loss/4</td><td>█▂▁▁▁▁▁▁▁▁</td></tr><tr><td>train_loss/5</td><td>█▂▂▂▂▂▁▁▁▁</td></tr><tr><td>train_loss/6</td><td>█▂▂▂▁▁▁▁▁▁</td></tr><tr><td>train_loss/7</td><td>█▂▁▁▁▁▁▁▁▁</td></tr><tr><td>train_loss/8</td><td>█▂▁▁▁▁▁▁▁▁</td></tr><tr><td>train_loss/9</td><td>█▂▁▁▁▁▁▁▁▁</td></tr><tr><td>val_loss/0</td><td>█▆▅▄▃▃▂▂▂▁</td></tr><tr><td>val_loss/1</td><td>█▆▅▄▃▂▂▂▁▁</td></tr><tr><td>val_loss/10</td><td>█▇▅▄▄▃▂▂▂▁</td></tr><tr><td>val_loss/11</td><td>█▆▄▄▃▃▂▂▂▁</td></tr><tr><td>val_loss/12</td><td>█▅▄▄▃▃▂▂▁▁</td></tr><tr><td>val_loss/13</td><td>█▆▄▄▃▃▂▁▁▁</td></tr><tr><td>val_loss/14</td><td>█▆▄▄▃▂▂▂▁▁</td></tr><tr><td>val_loss/2</td><td>█▆▄▃▂▂▂▁▁▁</td></tr><tr><td>val_loss/3</td><td>█▆▄▃▃▂▂▁▁▁</td></tr><tr><td>val_loss/4</td><td>▂▁▃▃▆█▇▃▃▃</td></tr><tr><td>val_loss/5</td><td>█▆▅▄▃▃▃▂▁▁</td></tr><tr><td>val_loss/6</td><td>█▆▄▄▃▂▂▂▂▁</td></tr><tr><td>val_loss/7</td><td>█▅▄▃▃▂▂▂▂▁</td></tr><tr><td>val_loss/8</td><td>█▆▅▄▃▂▂▂▂▁</td></tr><tr><td>val_loss/9</td><td>█▆▅▄▃▂▂▁▂▁</td></tr></table><br/></div><div class=\"wandb-col\">\n",
              "<h3>Run summary:</h3><br/><table class=\"wandb\"><tr><td>epoch</td><td>10</td></tr><tr><td>lr</td><td>0.0005</td></tr><tr><td>overall_loss</td><td>0.77536</td></tr><tr><td>random_seed</td><td>277850414</td></tr><tr><td>train_loss/0</td><td>0.77442</td></tr><tr><td>train_loss/1</td><td>0.78821</td></tr><tr><td>train_loss/10</td><td>0.77255</td></tr><tr><td>train_loss/11</td><td>0.77752</td></tr><tr><td>train_loss/12</td><td>0.77828</td></tr><tr><td>train_loss/13</td><td>0.7785</td></tr><tr><td>train_loss/14</td><td>0.77871</td></tr><tr><td>train_loss/2</td><td>0.78908</td></tr><tr><td>train_loss/3</td><td>0.78733</td></tr><tr><td>train_loss/4</td><td>0.78413</td></tr><tr><td>train_loss/5</td><td>0.77399</td></tr><tr><td>train_loss/6</td><td>0.77925</td></tr><tr><td>train_loss/7</td><td>0.78107</td></tr><tr><td>train_loss/8</td><td>0.78077</td></tr><tr><td>train_loss/9</td><td>0.77921</td></tr><tr><td>val_loss/0</td><td>0.7787</td></tr><tr><td>val_loss/1</td><td>0.78822</td></tr><tr><td>val_loss/10</td><td>0.76657</td></tr><tr><td>val_loss/11</td><td>0.77653</td></tr><tr><td>val_loss/12</td><td>0.78011</td></tr><tr><td>val_loss/13</td><td>0.7758</td></tr><tr><td>val_loss/14</td><td>0.77779</td></tr><tr><td>val_loss/2</td><td>0.78838</td></tr><tr><td>val_loss/3</td><td>0.79128</td></tr><tr><td>val_loss/4</td><td>0.83598</td></tr><tr><td>val_loss/5</td><td>0.76817</td></tr><tr><td>val_loss/6</td><td>0.78018</td></tr><tr><td>val_loss/7</td><td>0.78104</td></tr><tr><td>val_loss/8</td><td>0.78659</td></tr><tr><td>val_loss/9</td><td>0.78389</td></tr></table>\n",
              "</div></div>\n",
              "Synced 5 W&B file(s), 0 media file(s), 0 artifact file(s) and 0 other file(s)\n",
              "<br/>Synced <strong style=\"color:#cdcd00\">cosmic-sweep-35</strong>: <a href=\"https://wandb.ai/krankile/weight-net/runs/ed5ql5o5\" target=\"_blank\">https://wandb.ai/krankile/weight-net/runs/ed5ql5o5</a><br/>\n",
              "Find logs at: <code>./wandb/run-20211212_002027-ed5ql5o5/logs</code><br/>\n"
            ],
            "text/plain": [
              "<IPython.core.display.HTML object>"
            ]
          },
          "metadata": {}
        },
        {
          "output_type": "stream",
          "name": "stderr",
          "text": [
            "\u001b[34m\u001b[1mwandb\u001b[0m: Agent Starting Run: prdgos95 with config:\n",
            "\u001b[34m\u001b[1mwandb\u001b[0m: \tbatch_size: 256\n",
            "\u001b[34m\u001b[1mwandb\u001b[0m: \tdropout: 0.7457999395056188\n",
            "\u001b[34m\u001b[1mwandb\u001b[0m: \tepochs: 19\n",
            "\u001b[34m\u001b[1mwandb\u001b[0m: \thidden_dim: 64\n",
            "\u001b[34m\u001b[1mwandb\u001b[0m: \tlearning_rate: 0.00019750630394272184\n",
            "\u001b[34m\u001b[1mwandb\u001b[0m: \tn_hidden: 2\n",
            "\u001b[34m\u001b[1mwandb\u001b[0m: \tweight_decay: 0.0002412609602244394\n"
          ]
        },
        {
          "output_type": "display_data",
          "data": {
            "text/html": [
              "\n",
              "                    Syncing run <strong><a href=\"https://wandb.ai/krankile/weight-net/runs/prdgos95\" target=\"_blank\">wandering-sweep-37</a></strong> to <a href=\"https://wandb.ai/krankile/weight-net\" target=\"_blank\">Weights & Biases</a> (<a href=\"https://docs.wandb.com/integrations/jupyter.html\" target=\"_blank\">docs</a>).<br/>\n",
              "Sweep page: <a href=\"https://wandb.ai/krankile/weight-net/sweeps/4r44tbf3\" target=\"_blank\">https://wandb.ai/krankile/weight-net/sweeps/4r44tbf3</a><br/>\n",
              "\n",
              "                "
            ],
            "text/plain": [
              "<IPython.core.display.HTML object>"
            ]
          },
          "metadata": {}
        },
        {
          "output_type": "stream",
          "name": "stdout",
          "text": [
            "{'batch_size': 256, 'dropout': 0.7457999395056188, 'epochs': 19, 'hidden_dim': 64, 'learning_rate': 0.00019750630394272184, 'n_hidden': 2, 'weight_decay': 0.0002412609602244394, 'k': 5, 'optimizer': 'adamw', 'architecture': 'WeightNetV4', 'data': 'ensemble_traval:non-standard', 'data_split': 'traval_split_80_20:v0', 'loss_func': 'owa', 'bn': False, 'feature_set': 'ma', 'act': 'leaky', 'num_models': 14, 'schedule': None}\n"
          ]
        },
        {
          "output_type": "stream",
          "name": "stderr",
          "text": [
            "\u001b[34m\u001b[1mwandb\u001b[0m: Downloading large artifact ensemble_traval:non-standard, 119.61MB. 1 files... Done. 0:0:0\n"
          ]
        },
        {
          "output_type": "stream",
          "name": "stdout",
          "text": [
            "CPU count: 2\n",
            "Loaded df of shape (79996, 801)\n",
            "Loaded df of shape (19999, 801)\n",
            "Moving model to device: cuda\n"
          ]
        },
        {
          "output_type": "stream",
          "name": "stderr",
          "text": [
            "Fold 1 of 5: 100%|██████████| 19/19 [01:55<00:00,  6.10s/it, train_loss=0.782, val_loss=0.787, lr=1.98e-04]\n"
          ]
        },
        {
          "output_type": "stream",
          "name": "stdout",
          "text": [
            "CPU count: 2\n",
            "Loaded df of shape (79996, 801)\n",
            "Loaded df of shape (19999, 801)\n",
            "Moving model to device: cuda\n"
          ]
        },
        {
          "output_type": "stream",
          "name": "stderr",
          "text": [
            "Fold 2 of 5: 100%|██████████| 19/19 [01:56<00:00,  6.15s/it, train_loss=0.793, val_loss=0.794, lr=1.98e-04]\n"
          ]
        },
        {
          "output_type": "stream",
          "name": "stdout",
          "text": [
            "CPU count: 2\n",
            "Loaded df of shape (79996, 801)\n",
            "Loaded df of shape (19999, 801)\n",
            "Moving model to device: cuda\n"
          ]
        },
        {
          "output_type": "stream",
          "name": "stderr",
          "text": [
            "Fold 3 of 5: 100%|██████████| 19/19 [01:54<00:00,  6.04s/it, train_loss=0.794, val_loss=0.792, lr=1.98e-04]\n"
          ]
        },
        {
          "output_type": "stream",
          "name": "stdout",
          "text": [
            "CPU count: 2\n",
            "Loaded df of shape (79996, 801)\n",
            "Loaded df of shape (19999, 801)\n",
            "Moving model to device: cuda\n"
          ]
        },
        {
          "output_type": "stream",
          "name": "stderr",
          "text": [
            "Fold 4 of 5: 100%|██████████| 19/19 [01:55<00:00,  6.06s/it, train_loss=0.791, val_loss=0.794, lr=1.98e-04]\n"
          ]
        },
        {
          "output_type": "stream",
          "name": "stdout",
          "text": [
            "CPU count: 2\n",
            "Loaded df of shape (79996, 801)\n",
            "Loaded df of shape (19999, 801)\n",
            "Moving model to device: cuda\n"
          ]
        },
        {
          "output_type": "stream",
          "name": "stderr",
          "text": [
            "Fold 5 of 5: 100%|██████████| 19/19 [01:54<00:00,  6.00s/it, train_loss=0.788, val_loss=0.827, lr=1.98e-04]\n"
          ]
        },
        {
          "output_type": "stream",
          "name": "stdout",
          "text": [
            "CPU count: 2\n",
            "Loaded df of shape (99995, 801)\n",
            "Loaded df of shape (19999, 801)\n",
            "Moving model to device: cuda\n"
          ]
        },
        {
          "output_type": "stream",
          "name": "stderr",
          "text": [
            "Fold 6 of 5: 100%|██████████| 19/19 [02:21<00:00,  7.47s/it, train_loss=0.783, val_loss=0.778, lr=1.98e-04]\n"
          ]
        },
        {
          "output_type": "stream",
          "name": "stdout",
          "text": [
            "CPU count: 2\n",
            "Loaded df of shape (99995, 801)\n",
            "Loaded df of shape (19999, 801)\n",
            "Moving model to device: cuda\n"
          ]
        },
        {
          "output_type": "stream",
          "name": "stderr",
          "text": [
            "Fold 7 of 5: 100%|██████████| 19/19 [02:18<00:00,  7.31s/it, train_loss=0.788, val_loss=0.788, lr=1.98e-04]\n"
          ]
        },
        {
          "output_type": "stream",
          "name": "stdout",
          "text": [
            "CPU count: 2\n",
            "Loaded df of shape (99995, 801)\n",
            "Loaded df of shape (19999, 801)\n",
            "Moving model to device: cuda\n"
          ]
        },
        {
          "output_type": "stream",
          "name": "stderr",
          "text": [
            "Fold 8 of 5: 100%|██████████| 19/19 [02:18<00:00,  7.31s/it, train_loss=0.788, val_loss=0.788, lr=1.98e-04]\n"
          ]
        },
        {
          "output_type": "stream",
          "name": "stdout",
          "text": [
            "CPU count: 2\n",
            "Loaded df of shape (99995, 801)\n",
            "Loaded df of shape (19999, 801)\n",
            "Moving model to device: cuda\n"
          ]
        },
        {
          "output_type": "stream",
          "name": "stderr",
          "text": [
            "Fold 9 of 5: 100%|██████████| 19/19 [02:18<00:00,  7.29s/it, train_loss=0.789, val_loss=0.793, lr=1.98e-04]\n"
          ]
        },
        {
          "output_type": "stream",
          "name": "stdout",
          "text": [
            "CPU count: 2\n",
            "Loaded df of shape (99995, 801)\n",
            "Loaded df of shape (19999, 801)\n",
            "Moving model to device: cuda\n"
          ]
        },
        {
          "output_type": "stream",
          "name": "stderr",
          "text": [
            "Fold 10 of 5: 100%|██████████| 19/19 [02:19<00:00,  7.32s/it, train_loss=0.787, val_loss=0.793, lr=1.98e-04]\n"
          ]
        },
        {
          "output_type": "stream",
          "name": "stdout",
          "text": [
            "CPU count: 2\n",
            "Loaded df of shape (99995, 801)\n",
            "Loaded df of shape (19999, 801)\n",
            "Moving model to device: cuda\n"
          ]
        },
        {
          "output_type": "stream",
          "name": "stderr",
          "text": [
            "Fold 11 of 5: 100%|██████████| 19/19 [02:24<00:00,  7.59s/it, train_loss=0.784, val_loss=0.782, lr=1.98e-04]\n"
          ]
        },
        {
          "output_type": "stream",
          "name": "stdout",
          "text": [
            "CPU count: 2\n",
            "Loaded df of shape (99995, 801)\n",
            "Loaded df of shape (19999, 801)\n",
            "Moving model to device: cuda\n"
          ]
        },
        {
          "output_type": "stream",
          "name": "stderr",
          "text": [
            "Fold 12 of 5: 100%|██████████| 19/19 [02:19<00:00,  7.33s/it, train_loss=0.787, val_loss=0.786, lr=1.98e-04]\n"
          ]
        },
        {
          "output_type": "stream",
          "name": "stdout",
          "text": [
            "CPU count: 2\n",
            "Loaded df of shape (99995, 801)\n",
            "Loaded df of shape (19999, 801)\n",
            "Moving model to device: cuda\n"
          ]
        },
        {
          "output_type": "stream",
          "name": "stderr",
          "text": [
            "Fold 13 of 5: 100%|██████████| 19/19 [02:22<00:00,  7.52s/it, train_loss=0.788, val_loss=0.789, lr=1.98e-04]\n"
          ]
        },
        {
          "output_type": "stream",
          "name": "stdout",
          "text": [
            "CPU count: 2\n",
            "Loaded df of shape (99995, 801)\n",
            "Loaded df of shape (19999, 801)\n",
            "Moving model to device: cuda\n"
          ]
        },
        {
          "output_type": "stream",
          "name": "stderr",
          "text": [
            "Fold 14 of 5: 100%|██████████| 19/19 [02:30<00:00,  7.93s/it, train_loss=0.787, val_loss=0.788, lr=1.98e-04]\n"
          ]
        },
        {
          "output_type": "stream",
          "name": "stdout",
          "text": [
            "CPU count: 2\n",
            "Loaded df of shape (99995, 801)\n",
            "Loaded df of shape (19999, 801)\n",
            "Moving model to device: cuda\n"
          ]
        },
        {
          "output_type": "stream",
          "name": "stderr",
          "text": [
            "Fold 15 of 5: 100%|██████████| 19/19 [02:25<00:00,  7.67s/it, train_loss=0.786, val_loss=0.787, lr=1.98e-04]\n"
          ]
        },
        {
          "output_type": "display_data",
          "data": {
            "text/html": [
              "<br/>Waiting for W&B process to finish, PID 56527... <strong style=\"color:green\">(success).</strong>"
            ],
            "text/plain": [
              "<IPython.core.display.HTML object>"
            ]
          },
          "metadata": {}
        },
        {
          "output_type": "display_data",
          "data": {
            "application/vnd.jupyter.widget-view+json": {
              "model_id": "161de5a5433443f8acda866600957b31",
              "version_minor": 0,
              "version_major": 2
            },
            "text/plain": [
              "VBox(children=(Label(value=' 0.00MB of 0.00MB uploaded (0.00MB deduped)\\r'), FloatProgress(value=1.0, max=1.0)…"
            ]
          },
          "metadata": {}
        },
        {
          "output_type": "display_data",
          "data": {
            "text/html": [
              "<style>\n",
              "    table.wandb td:nth-child(1) { padding: 0 10px; text-align: right }\n",
              "    .wandb-row { display: flex; flex-direction: row; flex-wrap: wrap; width: 100% }\n",
              "    .wandb-col { display: flex; flex-direction: column; flex-basis: 100%; flex: 1; padding: 10px; }\n",
              "    </style>\n",
              "<div class=\"wandb-row\"><div class=\"wandb-col\">\n",
              "<h3>Run history:</h3><br/><table class=\"wandb\"><tr><td>epoch</td><td>▂▄▇▃▆▇▃▆▂▅▆▂▅▁▄▆▁▅█▃▅█▄▇▃▄▇▃▆▂▃▆▂▅▁▃▆▁▅█</td></tr><tr><td>lr</td><td>▁▁▁▁▁▁▁▁▁▁▁▁▁▁▁▁▁▁▁▁▁▁▁▁▁▁▁▁▁▁▁▁▁▁▁▁▁▁▁▁</td></tr><tr><td>overall_loss</td><td>▁</td></tr><tr><td>random_seed</td><td>▁</td></tr><tr><td>train_loss/0</td><td>█▄▂▂▂▁▁▁▁▁▁▁▁▁▁▁▁▁▁</td></tr><tr><td>train_loss/1</td><td>█▅▃▂▂▁▁▁▁▁▁▁▁▁▁▁▁▁▁</td></tr><tr><td>train_loss/10</td><td>█▃▂▁▁▁▁▁▁▁▁▁▁▁▁▁▁▁▁</td></tr><tr><td>train_loss/11</td><td>█▄▂▁▁▁▁▁▁▁▁▁▁▁▁▁▁▁▁</td></tr><tr><td>train_loss/12</td><td>█▄▂▁▁▁▁▁▁▁▁▁▁▁▁▁▁▁▁</td></tr><tr><td>train_loss/13</td><td>█▄▂▁▁▁▁▁▁▁▁▁▁▁▁▁▁▁▁</td></tr><tr><td>train_loss/14</td><td>█▄▂▁▁▁▁▁▁▁▁▁▁▁▁▁▁▁▁</td></tr><tr><td>train_loss/2</td><td>█▄▃▂▂▁▁▁▁▁▁▁▁▁▁▁▁▁▁</td></tr><tr><td>train_loss/3</td><td>█▅▃▂▁▁▁▁▁▁▁▁▁▁▁▁▁▁▁</td></tr><tr><td>train_loss/4</td><td>█▆▄▂▂▁▁▁▁▁▁▁▁▁▁▁▁▁▁</td></tr><tr><td>train_loss/5</td><td>█▃▂▁▁▁▁▁▁▁▁▁▁▁▁▁▁▁▁</td></tr><tr><td>train_loss/6</td><td>█▄▂▂▁▁▁▁▁▁▁▁▁▁▁▁▁▁▁</td></tr><tr><td>train_loss/7</td><td>█▄▂▂▁▁▁▁▁▁▁▁▁▁▁▁▁▁▁</td></tr><tr><td>train_loss/8</td><td>█▄▂▂▁▁▁▁▁▁▁▁▁▁▁▁▁▁▁</td></tr><tr><td>train_loss/9</td><td>█▄▂▂▁▁▁▁▁▁▁▁▁▁▁▁▁▁▁</td></tr><tr><td>val_loss/0</td><td>█▄▃▂▂▁▁▁▁▁▁▁▁▁▁▁▁▁▁</td></tr><tr><td>val_loss/1</td><td>█▆▅▄▄▃▃▃▂▂▂▂▂▂▁▁▁▁▁</td></tr><tr><td>val_loss/10</td><td>█▆▄▄▃▃▃▃▂▂▂▂▂▂▁▁▁▁▁</td></tr><tr><td>val_loss/11</td><td>█▆▄▄▃▃▃▂▂▂▂▂▂▂▁▁▁▁▁</td></tr><tr><td>val_loss/12</td><td>█▆▅▄▄▃▃▃▃▂▂▂▂▂▂▁▁▁▁</td></tr><tr><td>val_loss/13</td><td>█▃▁▁▁▁▁▁▁▁▁▁▁▁▁▁▁▁▁</td></tr><tr><td>val_loss/14</td><td>█▇▆▅▄▃▃▃▃▂▂▂▂▂▂▁▁▁▁</td></tr><tr><td>val_loss/2</td><td>█▆▅▄▄▃▃▃▂▂▂▂▂▂▁▁▁▁▁</td></tr><tr><td>val_loss/3</td><td>█▆▅▄▃▃▃▃▂▂▂▂▂▂▁▁▁▁▁</td></tr><tr><td>val_loss/4</td><td>█▂▃▄▅▆▆▆▅▅▅▄▄▃▂▂▂▁▁</td></tr><tr><td>val_loss/5</td><td>█▃▂▂▁▁▁▁▁▁▁▁▁▁▁▁▁▁▁</td></tr><tr><td>val_loss/6</td><td>█▄▂▂▁▁▁▁▁▁▁▁▁▁▁▁▁▁▁</td></tr><tr><td>val_loss/7</td><td>█▆▅▄▄▃▃▃▃▂▂▂▂▂▁▁▁▁▁</td></tr><tr><td>val_loss/8</td><td>█▆▅▄▄▃▃▃▃▂▂▂▂▂▂▁▁▁▁</td></tr><tr><td>val_loss/9</td><td>█▆▅▅▄▄▄▃▃▃▂▂▂▂▂▁▁▁▁</td></tr></table><br/></div><div class=\"wandb-col\">\n",
              "<h3>Run summary:</h3><br/><table class=\"wandb\"><tr><td>epoch</td><td>19</td></tr><tr><td>lr</td><td>0.0002</td></tr><tr><td>overall_loss</td><td>0.78653</td></tr><tr><td>random_seed</td><td>819207338</td></tr><tr><td>train_loss/0</td><td>0.78196</td></tr><tr><td>train_loss/1</td><td>0.79294</td></tr><tr><td>train_loss/10</td><td>0.78446</td></tr><tr><td>train_loss/11</td><td>0.78745</td></tr><tr><td>train_loss/12</td><td>0.78815</td></tr><tr><td>train_loss/13</td><td>0.78742</td></tr><tr><td>train_loss/14</td><td>0.78638</td></tr><tr><td>train_loss/2</td><td>0.79352</td></tr><tr><td>train_loss/3</td><td>0.79144</td></tr><tr><td>train_loss/4</td><td>0.78813</td></tr><tr><td>train_loss/5</td><td>0.78301</td></tr><tr><td>train_loss/6</td><td>0.78806</td></tr><tr><td>train_loss/7</td><td>0.78793</td></tr><tr><td>train_loss/8</td><td>0.78864</td></tr><tr><td>train_loss/9</td><td>0.78741</td></tr><tr><td>val_loss/0</td><td>0.78736</td></tr><tr><td>val_loss/1</td><td>0.79402</td></tr><tr><td>val_loss/10</td><td>0.78229</td></tr><tr><td>val_loss/11</td><td>0.78586</td></tr><tr><td>val_loss/12</td><td>0.78906</td></tr><tr><td>val_loss/13</td><td>0.78817</td></tr><tr><td>val_loss/14</td><td>0.7873</td></tr><tr><td>val_loss/2</td><td>0.79246</td></tr><tr><td>val_loss/3</td><td>0.79378</td></tr><tr><td>val_loss/4</td><td>0.82741</td></tr><tr><td>val_loss/5</td><td>0.77829</td></tr><tr><td>val_loss/6</td><td>0.78755</td></tr><tr><td>val_loss/7</td><td>0.78764</td></tr><tr><td>val_loss/8</td><td>0.79269</td></tr><tr><td>val_loss/9</td><td>0.793</td></tr></table>\n",
              "</div></div>\n",
              "Synced 5 W&B file(s), 0 media file(s), 0 artifact file(s) and 0 other file(s)\n",
              "<br/>Synced <strong style=\"color:#cdcd00\">wandering-sweep-37</strong>: <a href=\"https://wandb.ai/krankile/weight-net/runs/prdgos95\" target=\"_blank\">https://wandb.ai/krankile/weight-net/runs/prdgos95</a><br/>\n",
              "Find logs at: <code>./wandb/run-20211212_004036-prdgos95/logs</code><br/>\n"
            ],
            "text/plain": [
              "<IPython.core.display.HTML object>"
            ]
          },
          "metadata": {}
        },
        {
          "output_type": "stream",
          "name": "stderr",
          "text": [
            "\u001b[34m\u001b[1mwandb\u001b[0m: Agent Starting Run: 75vrwma4 with config:\n",
            "\u001b[34m\u001b[1mwandb\u001b[0m: \tbatch_size: 256\n",
            "\u001b[34m\u001b[1mwandb\u001b[0m: \tdropout: 0.6976958098349837\n",
            "\u001b[34m\u001b[1mwandb\u001b[0m: \tepochs: 20\n",
            "\u001b[34m\u001b[1mwandb\u001b[0m: \thidden_dim: 192\n",
            "\u001b[34m\u001b[1mwandb\u001b[0m: \tlearning_rate: 0.0007644261041089425\n",
            "\u001b[34m\u001b[1mwandb\u001b[0m: \tn_hidden: 2\n",
            "\u001b[34m\u001b[1mwandb\u001b[0m: \tweight_decay: 0.007759780501493042\n"
          ]
        },
        {
          "output_type": "display_data",
          "data": {
            "text/html": [
              "\n",
              "                    Syncing run <strong><a href=\"https://wandb.ai/krankile/weight-net/runs/75vrwma4\" target=\"_blank\">glamorous-sweep-40</a></strong> to <a href=\"https://wandb.ai/krankile/weight-net\" target=\"_blank\">Weights & Biases</a> (<a href=\"https://docs.wandb.com/integrations/jupyter.html\" target=\"_blank\">docs</a>).<br/>\n",
              "Sweep page: <a href=\"https://wandb.ai/krankile/weight-net/sweeps/4r44tbf3\" target=\"_blank\">https://wandb.ai/krankile/weight-net/sweeps/4r44tbf3</a><br/>\n",
              "\n",
              "                "
            ],
            "text/plain": [
              "<IPython.core.display.HTML object>"
            ]
          },
          "metadata": {}
        },
        {
          "output_type": "stream",
          "name": "stdout",
          "text": [
            "{'batch_size': 256, 'dropout': 0.6976958098349837, 'epochs': 20, 'hidden_dim': 192, 'learning_rate': 0.0007644261041089425, 'n_hidden': 2, 'weight_decay': 0.007759780501493042, 'k': 5, 'optimizer': 'adamw', 'architecture': 'WeightNetV4', 'data': 'ensemble_traval:non-standard', 'data_split': 'traval_split_80_20:v0', 'loss_func': 'owa', 'bn': False, 'feature_set': 'ma', 'act': 'leaky', 'num_models': 14, 'schedule': None}\n"
          ]
        },
        {
          "output_type": "stream",
          "name": "stderr",
          "text": [
            "\u001b[34m\u001b[1mwandb\u001b[0m: Downloading large artifact ensemble_traval:non-standard, 119.61MB. 1 files... Done. 0:0:0\n"
          ]
        },
        {
          "output_type": "stream",
          "name": "stdout",
          "text": [
            "CPU count: 2\n",
            "Loaded df of shape (79996, 801)\n",
            "Loaded df of shape (19999, 801)\n",
            "Moving model to device: cuda\n"
          ]
        },
        {
          "output_type": "stream",
          "name": "stderr",
          "text": [
            "Fold 1 of 5: 100%|██████████| 20/20 [02:14<00:00,  6.73s/it, train_loss=0.751, val_loss=0.768, lr=7.64e-04]\n"
          ]
        },
        {
          "output_type": "stream",
          "name": "stdout",
          "text": [
            "CPU count: 2\n",
            "Loaded df of shape (79996, 801)\n",
            "Loaded df of shape (19999, 801)\n",
            "Moving model to device: cuda\n"
          ]
        },
        {
          "output_type": "stream",
          "name": "stderr",
          "text": [
            "Fold 2 of 5: 100%|██████████| 20/20 [02:11<00:00,  6.57s/it, train_loss=0.757, val_loss=0.772, lr=7.64e-04]\n"
          ]
        },
        {
          "output_type": "stream",
          "name": "stdout",
          "text": [
            "CPU count: 2\n",
            "Loaded df of shape (79996, 801)\n",
            "Loaded df of shape (19999, 801)\n",
            "Moving model to device: cuda\n"
          ]
        },
        {
          "output_type": "stream",
          "name": "stderr",
          "text": [
            "Fold 3 of 5: 100%|██████████| 20/20 [02:14<00:00,  6.72s/it, train_loss=0.76, val_loss=0.774, lr=7.64e-04]\n"
          ]
        },
        {
          "output_type": "stream",
          "name": "stdout",
          "text": [
            "CPU count: 2\n",
            "Loaded df of shape (79996, 801)\n",
            "Loaded df of shape (19999, 801)\n",
            "Moving model to device: cuda\n"
          ]
        },
        {
          "output_type": "stream",
          "name": "stderr",
          "text": [
            "Fold 4 of 5: 100%|██████████| 20/20 [02:17<00:00,  6.90s/it, train_loss=0.757, val_loss=0.778, lr=7.64e-04]\n"
          ]
        },
        {
          "output_type": "stream",
          "name": "stdout",
          "text": [
            "CPU count: 2\n",
            "Loaded df of shape (79996, 801)\n",
            "Loaded df of shape (19999, 801)\n",
            "Moving model to device: cuda\n"
          ]
        },
        {
          "output_type": "stream",
          "name": "stderr",
          "text": [
            "Fold 5 of 5: 100%|██████████| 20/20 [02:19<00:00,  6.98s/it, train_loss=0.758, val_loss=0.824, lr=7.64e-04]\n"
          ]
        },
        {
          "output_type": "stream",
          "name": "stdout",
          "text": [
            "CPU count: 2\n",
            "Loaded df of shape (99995, 801)\n",
            "Loaded df of shape (19999, 801)\n",
            "Moving model to device: cuda\n"
          ]
        },
        {
          "output_type": "stream",
          "name": "stderr",
          "text": [
            "Fold 6 of 5: 100%|██████████| 20/20 [02:43<00:00,  8.16s/it, train_loss=0.749, val_loss=0.74, lr=7.64e-04]\n"
          ]
        },
        {
          "output_type": "stream",
          "name": "stdout",
          "text": [
            "CPU count: 2\n",
            "Loaded df of shape (99995, 801)\n",
            "Loaded df of shape (19999, 801)\n",
            "Moving model to device: cuda\n"
          ]
        },
        {
          "output_type": "stream",
          "name": "stderr",
          "text": [
            "Fold 7 of 5: 100%|██████████| 20/20 [02:44<00:00,  8.23s/it, train_loss=0.756, val_loss=0.755, lr=7.64e-04]\n"
          ]
        },
        {
          "output_type": "stream",
          "name": "stdout",
          "text": [
            "CPU count: 2\n",
            "Loaded df of shape (99995, 801)\n",
            "Loaded df of shape (19999, 801)\n",
            "Moving model to device: cuda\n"
          ]
        },
        {
          "output_type": "stream",
          "name": "stderr",
          "text": [
            "Fold 8 of 5: 100%|██████████| 20/20 [02:45<00:00,  8.30s/it, train_loss=0.756, val_loss=0.759, lr=7.64e-04]\n"
          ]
        },
        {
          "output_type": "stream",
          "name": "stdout",
          "text": [
            "CPU count: 2\n",
            "Loaded df of shape (99995, 801)\n",
            "Loaded df of shape (19999, 801)\n",
            "Moving model to device: cuda\n"
          ]
        },
        {
          "output_type": "stream",
          "name": "stderr",
          "text": [
            "Fold 9 of 5: 100%|██████████| 20/20 [02:42<00:00,  8.15s/it, train_loss=0.755, val_loss=0.76, lr=7.64e-04]\n"
          ]
        },
        {
          "output_type": "stream",
          "name": "stdout",
          "text": [
            "CPU count: 2\n",
            "Loaded df of shape (99995, 801)\n",
            "Loaded df of shape (19999, 801)\n",
            "Moving model to device: cuda\n"
          ]
        },
        {
          "output_type": "stream",
          "name": "stderr",
          "text": [
            "Fold 10 of 5: 100%|██████████| 20/20 [02:44<00:00,  8.22s/it, train_loss=0.754, val_loss=0.757, lr=7.64e-04]\n"
          ]
        },
        {
          "output_type": "stream",
          "name": "stdout",
          "text": [
            "CPU count: 2\n",
            "Loaded df of shape (99995, 801)\n",
            "Loaded df of shape (19999, 801)\n",
            "Moving model to device: cuda\n"
          ]
        },
        {
          "output_type": "stream",
          "name": "stderr",
          "text": [
            "Fold 11 of 5: 100%|██████████| 20/20 [02:42<00:00,  8.15s/it, train_loss=0.753, val_loss=0.749, lr=7.64e-04]\n"
          ]
        },
        {
          "output_type": "stream",
          "name": "stdout",
          "text": [
            "CPU count: 2\n",
            "Loaded df of shape (99995, 801)\n",
            "Loaded df of shape (19999, 801)\n",
            "Moving model to device: cuda\n"
          ]
        },
        {
          "output_type": "stream",
          "name": "stderr",
          "text": [
            "Fold 12 of 5: 100%|██████████| 20/20 [02:42<00:00,  8.14s/it, train_loss=0.757, val_loss=0.755, lr=7.64e-04]\n"
          ]
        },
        {
          "output_type": "stream",
          "name": "stdout",
          "text": [
            "CPU count: 2\n",
            "Loaded df of shape (99995, 801)\n",
            "Loaded df of shape (19999, 801)\n",
            "Moving model to device: cuda\n"
          ]
        },
        {
          "output_type": "stream",
          "name": "stderr",
          "text": [
            "Fold 13 of 5: 100%|██████████| 20/20 [02:39<00:00,  7.99s/it, train_loss=0.758, val_loss=0.759, lr=7.64e-04]\n"
          ]
        },
        {
          "output_type": "stream",
          "name": "stdout",
          "text": [
            "CPU count: 2\n",
            "Loaded df of shape (99995, 801)\n",
            "Loaded df of shape (19999, 801)\n",
            "Moving model to device: cuda\n"
          ]
        },
        {
          "output_type": "stream",
          "name": "stderr",
          "text": [
            "Fold 14 of 5: 100%|██████████| 20/20 [02:43<00:00,  8.17s/it, train_loss=0.759, val_loss=0.758, lr=7.64e-04]\n"
          ]
        },
        {
          "output_type": "stream",
          "name": "stdout",
          "text": [
            "CPU count: 2\n",
            "Loaded df of shape (99995, 801)\n",
            "Loaded df of shape (19999, 801)\n",
            "Moving model to device: cuda\n"
          ]
        },
        {
          "output_type": "stream",
          "name": "stderr",
          "text": [
            "Fold 15 of 5: 100%|██████████| 20/20 [02:40<00:00,  8.02s/it, train_loss=0.758, val_loss=0.758, lr=7.64e-04]\n"
          ]
        },
        {
          "output_type": "display_data",
          "data": {
            "text/html": [
              "<br/>Waiting for W&B process to finish, PID 62297... <strong style=\"color:green\">(success).</strong>"
            ],
            "text/plain": [
              "<IPython.core.display.HTML object>"
            ]
          },
          "metadata": {}
        },
        {
          "output_type": "display_data",
          "data": {
            "application/vnd.jupyter.widget-view+json": {
              "model_id": "e3e9c98b92774aa4b80457efad4992db",
              "version_minor": 0,
              "version_major": 2
            },
            "text/plain": [
              "VBox(children=(Label(value=' 0.00MB of 0.00MB uploaded (0.00MB deduped)\\r'), FloatProgress(value=1.0, max=1.0)…"
            ]
          },
          "metadata": {}
        },
        {
          "output_type": "display_data",
          "data": {
            "text/html": [
              "<style>\n",
              "    table.wandb td:nth-child(1) { padding: 0 10px; text-align: right }\n",
              "    .wandb-row { display: flex; flex-direction: row; flex-wrap: wrap; width: 100% }\n",
              "    .wandb-col { display: flex; flex-direction: column; flex-basis: 100%; flex: 1; padding: 10px; }\n",
              "    </style>\n",
              "<div class=\"wandb-row\"><div class=\"wandb-col\">\n",
              "<h3>Run history:</h3><br/><table class=\"wandb\"><tr><td>epoch</td><td>▁▃▆▁▅█▃▆▁▅▆▁▅█▃▆▁▅█▃▅█▃▆▁▅█▃▆▁▃▆▁▅█▃▆▁▅█</td></tr><tr><td>lr</td><td>▁▁▁▁▁▁▁▁▁▁▁▁▁▁▁▁▁▁▁▁▁▁▁▁▁▁▁▁▁▁▁▁▁▁▁▁▁▁▁▁</td></tr><tr><td>overall_loss</td><td>▁</td></tr><tr><td>random_seed</td><td>▁</td></tr><tr><td>train_loss/0</td><td>█▄▄▄▃▃▃▃▃▂▂▂▂▂▂▂▁▁▁▁</td></tr><tr><td>train_loss/1</td><td>█▂▂▂▂▂▂▁▁▁▁▁▁▁▁▁▁▁▁▁</td></tr><tr><td>train_loss/10</td><td>█▂▂▂▂▂▁▁▁▁▁▁▁▁▁▁▁▁▁▁</td></tr><tr><td>train_loss/11</td><td>█▂▂▂▁▁▁▁▁▁▁▁▁▁▁▁▁▁▁▁</td></tr><tr><td>train_loss/12</td><td>█▂▂▂▁▁▁▁▁▁▁▁▁▁▁▁▁▁▁▁</td></tr><tr><td>train_loss/13</td><td>█▂▂▂▂▁▁▁▁▁▁▁▁▁▁▁▁▁▁▁</td></tr><tr><td>train_loss/14</td><td>█▂▁▁▁▁▁▁▁▁▁▁▁▁▁▁▁▁▁▁</td></tr><tr><td>train_loss/2</td><td>█▂▂▂▂▁▁▁▁▁▁▁▁▁▁▁▁▁▁▁</td></tr><tr><td>train_loss/3</td><td>█▂▂▂▂▂▂▂▂▁▁▁▁▁▁▁▁▁▁▁</td></tr><tr><td>train_loss/4</td><td>█▂▂▂▂▂▂▁▁▁▁▁▁▁▁▁▁▁▁▁</td></tr><tr><td>train_loss/5</td><td>█▄▄▄▃▃▃▃▃▂▂▂▂▂▂▂▁▁▁▁</td></tr><tr><td>train_loss/6</td><td>█▃▃▃▂▂▂▂▂▂▂▂▂▁▁▁▁▁▁▁</td></tr><tr><td>train_loss/7</td><td>█▄▃▃▃▃▂▂▂▂▂▂▂▂▁▁▁▁▁▁</td></tr><tr><td>train_loss/8</td><td>█▄▃▃▃▃▃▂▂▂▂▂▂▂▂▁▁▁▁▁</td></tr><tr><td>train_loss/9</td><td>█▄▄▃▃▃▃▃▂▂▂▂▂▂▂▁▁▁▁▁</td></tr><tr><td>val_loss/0</td><td>█▆▅▅▄▃▃▃▂▂▂▂▂▃▁▁▂▁▁▁</td></tr><tr><td>val_loss/1</td><td>█▇▆▅▄▄▃▃▃▃▂▃▂▃▁▂▁▁▃▁</td></tr><tr><td>val_loss/10</td><td>█▇▆▆▅▅▄▄▃▄▃▃▂▂▂▂▁▁▁▁</td></tr><tr><td>val_loss/11</td><td>█▇▆▆▅▅▄▄▄▄▃▃▃▂▂▂▁▁▁▁</td></tr><tr><td>val_loss/12</td><td>█▇▆▅▅▅▄▄▄▄▃▃▃▃▂▂▂▁▁▁</td></tr><tr><td>val_loss/13</td><td>█▆▅▅▄▄▄▃▃▃▃▃▂▂▂▂▁▁▁▁</td></tr><tr><td>val_loss/14</td><td>█▇▆▆▅▅▄▄▄▄▃▃▃▃▂▂▂▁▁▁</td></tr><tr><td>val_loss/2</td><td>█▆▅▅▄▄▃▃▃▂▂▃▂▂▁▁▁▂▂▁</td></tr><tr><td>val_loss/3</td><td>█▆▆▅▅▄▄▃▃▄▃▂▃▂▂▂▁▂▁▂</td></tr><tr><td>val_loss/4</td><td>▄▃▃▄▃▃█▁▂▁▅▁▄▃▄▄▃▂▃▃</td></tr><tr><td>val_loss/5</td><td>█▇▆▆▅▅▅▄▄▄▃▃▃▃▂▂▂▂▁▁</td></tr><tr><td>val_loss/6</td><td>█▇▆▆▅▅▄▄▄▃▃▃▃▂▂▂▁▂▁▁</td></tr><tr><td>val_loss/7</td><td>██▆▆▅▅▄▄▃▃▃▃▃▂▂▂▁▁▁▁</td></tr><tr><td>val_loss/8</td><td>██▆▆▅▅▄▄▃▃▃▃▃▂▂▂▁▁▁▁</td></tr><tr><td>val_loss/9</td><td>▇█▅▅▅▄▄▄▃▃▃▃▃▂▂▂▂▂▁▁</td></tr></table><br/></div><div class=\"wandb-col\">\n",
              "<h3>Run summary:</h3><br/><table class=\"wandb\"><tr><td>epoch</td><td>20</td></tr><tr><td>lr</td><td>0.00076</td></tr><tr><td>overall_loss</td><td>0.75576</td></tr><tr><td>random_seed</td><td>315195991</td></tr><tr><td>train_loss/0</td><td>0.75085</td></tr><tr><td>train_loss/1</td><td>0.75739</td></tr><tr><td>train_loss/10</td><td>0.75262</td></tr><tr><td>train_loss/11</td><td>0.75722</td></tr><tr><td>train_loss/12</td><td>0.75831</td></tr><tr><td>train_loss/13</td><td>0.75903</td></tr><tr><td>train_loss/14</td><td>0.75787</td></tr><tr><td>train_loss/2</td><td>0.76026</td></tr><tr><td>train_loss/3</td><td>0.75702</td></tr><tr><td>train_loss/4</td><td>0.75786</td></tr><tr><td>train_loss/5</td><td>0.74877</td></tr><tr><td>train_loss/6</td><td>0.75605</td></tr><tr><td>train_loss/7</td><td>0.75557</td></tr><tr><td>train_loss/8</td><td>0.75489</td></tr><tr><td>train_loss/9</td><td>0.75372</td></tr><tr><td>val_loss/0</td><td>0.76803</td></tr><tr><td>val_loss/1</td><td>0.77202</td></tr><tr><td>val_loss/10</td><td>0.74926</td></tr><tr><td>val_loss/11</td><td>0.75482</td></tr><tr><td>val_loss/12</td><td>0.75926</td></tr><tr><td>val_loss/13</td><td>0.75782</td></tr><tr><td>val_loss/14</td><td>0.75766</td></tr><tr><td>val_loss/2</td><td>0.77353</td></tr><tr><td>val_loss/3</td><td>0.77771</td></tr><tr><td>val_loss/4</td><td>0.82443</td></tr><tr><td>val_loss/5</td><td>0.7402</td></tr><tr><td>val_loss/6</td><td>0.75538</td></tr><tr><td>val_loss/7</td><td>0.75932</td></tr><tr><td>val_loss/8</td><td>0.75957</td></tr><tr><td>val_loss/9</td><td>0.75738</td></tr></table>\n",
              "</div></div>\n",
              "Synced 5 W&B file(s), 0 media file(s), 0 artifact file(s) and 0 other file(s)\n",
              "<br/>Synced <strong style=\"color:#cdcd00\">glamorous-sweep-40</strong>: <a href=\"https://wandb.ai/krankile/weight-net/runs/75vrwma4\" target=\"_blank\">https://wandb.ai/krankile/weight-net/runs/75vrwma4</a><br/>\n",
              "Find logs at: <code>./wandb/run-20211212_011939-75vrwma4/logs</code><br/>\n"
            ],
            "text/plain": [
              "<IPython.core.display.HTML object>"
            ]
          },
          "metadata": {}
        },
        {
          "output_type": "stream",
          "name": "stderr",
          "text": [
            "\u001b[34m\u001b[1mwandb\u001b[0m: Agent Starting Run: sus12a23 with config:\n",
            "\u001b[34m\u001b[1mwandb\u001b[0m: \tbatch_size: 128\n",
            "\u001b[34m\u001b[1mwandb\u001b[0m: \tdropout: 0.6418573613848797\n",
            "\u001b[34m\u001b[1mwandb\u001b[0m: \tepochs: 28\n",
            "\u001b[34m\u001b[1mwandb\u001b[0m: \thidden_dim: 256\n",
            "\u001b[34m\u001b[1mwandb\u001b[0m: \tlearning_rate: 0.00013267973604969187\n",
            "\u001b[34m\u001b[1mwandb\u001b[0m: \tn_hidden: 2\n",
            "\u001b[34m\u001b[1mwandb\u001b[0m: \tweight_decay: 0.013440107383436869\n"
          ]
        },
        {
          "output_type": "display_data",
          "data": {
            "text/html": [
              "\n",
              "                    Syncing run <strong><a href=\"https://wandb.ai/krankile/weight-net/runs/sus12a23\" target=\"_blank\">happy-sweep-44</a></strong> to <a href=\"https://wandb.ai/krankile/weight-net\" target=\"_blank\">Weights & Biases</a> (<a href=\"https://docs.wandb.com/integrations/jupyter.html\" target=\"_blank\">docs</a>).<br/>\n",
              "Sweep page: <a href=\"https://wandb.ai/krankile/weight-net/sweeps/4r44tbf3\" target=\"_blank\">https://wandb.ai/krankile/weight-net/sweeps/4r44tbf3</a><br/>\n",
              "\n",
              "                "
            ],
            "text/plain": [
              "<IPython.core.display.HTML object>"
            ]
          },
          "metadata": {}
        },
        {
          "output_type": "stream",
          "name": "stdout",
          "text": [
            "{'batch_size': 128, 'dropout': 0.6418573613848797, 'epochs': 28, 'hidden_dim': 256, 'learning_rate': 0.00013267973604969187, 'n_hidden': 2, 'weight_decay': 0.013440107383436869, 'k': 5, 'optimizer': 'adamw', 'architecture': 'WeightNetV4', 'data': 'ensemble_traval:non-standard', 'data_split': 'traval_split_80_20:v0', 'loss_func': 'owa', 'bn': False, 'feature_set': 'ma', 'act': 'leaky', 'num_models': 14, 'schedule': None}\n"
          ]
        },
        {
          "output_type": "stream",
          "name": "stderr",
          "text": [
            "\u001b[34m\u001b[1mwandb\u001b[0m: Downloading large artifact ensemble_traval:non-standard, 119.61MB. 1 files... Done. 0:0:0\n"
          ]
        },
        {
          "output_type": "stream",
          "name": "stdout",
          "text": [
            "CPU count: 2\n",
            "Loaded df of shape (79996, 801)\n",
            "Loaded df of shape (19999, 801)\n",
            "Moving model to device: cuda\n"
          ]
        },
        {
          "output_type": "stream",
          "name": "stderr",
          "text": [
            "Fold 1 of 5: 100%|██████████| 28/28 [03:55<00:00,  8.42s/it, train_loss=0.759, val_loss=0.772, lr=1.33e-04]\n"
          ]
        },
        {
          "output_type": "stream",
          "name": "stdout",
          "text": [
            "CPU count: 2\n",
            "Loaded df of shape (79996, 801)\n",
            "Loaded df of shape (19999, 801)\n",
            "Moving model to device: cuda\n"
          ]
        },
        {
          "output_type": "stream",
          "name": "stderr",
          "text": [
            "Fold 2 of 5: 100%|██████████| 28/28 [04:11<00:00,  8.99s/it, train_loss=0.768, val_loss=0.777, lr=1.33e-04]\n"
          ]
        },
        {
          "output_type": "stream",
          "name": "stdout",
          "text": [
            "CPU count: 2\n",
            "Loaded df of shape (79996, 801)\n",
            "Loaded df of shape (19999, 801)\n",
            "Moving model to device: cuda\n"
          ]
        },
        {
          "output_type": "stream",
          "name": "stderr",
          "text": [
            "Fold 3 of 5: 100%|██████████| 28/28 [04:04<00:00,  8.73s/it, train_loss=0.768, val_loss=0.776, lr=1.33e-04]\n"
          ]
        },
        {
          "output_type": "stream",
          "name": "stdout",
          "text": [
            "CPU count: 2\n",
            "Loaded df of shape (79996, 801)\n",
            "Loaded df of shape (19999, 801)\n",
            "Moving model to device: cuda\n"
          ]
        },
        {
          "output_type": "stream",
          "name": "stderr",
          "text": [
            "Fold 4 of 5: 100%|██████████| 28/28 [04:09<00:00,  8.92s/it, train_loss=0.767, val_loss=0.778, lr=1.33e-04]\n"
          ]
        },
        {
          "output_type": "stream",
          "name": "stdout",
          "text": [
            "CPU count: 2\n",
            "Loaded df of shape (79996, 801)\n",
            "Loaded df of shape (19999, 801)\n",
            "Moving model to device: cuda\n"
          ]
        },
        {
          "output_type": "stream",
          "name": "stderr",
          "text": [
            "Fold 5 of 5: 100%|██████████| 28/28 [04:08<00:00,  8.88s/it, train_loss=0.764, val_loss=0.835, lr=1.33e-04]\n"
          ]
        },
        {
          "output_type": "stream",
          "name": "stdout",
          "text": [
            "CPU count: 2\n",
            "Loaded df of shape (99995, 801)\n",
            "Loaded df of shape (19999, 801)\n",
            "Moving model to device: cuda\n"
          ]
        },
        {
          "output_type": "stream",
          "name": "stderr",
          "text": [
            "Fold 6 of 5: 100%|██████████| 28/28 [04:54<00:00, 10.52s/it, train_loss=0.76, val_loss=0.753, lr=1.33e-04]\n"
          ]
        },
        {
          "output_type": "stream",
          "name": "stdout",
          "text": [
            "CPU count: 2\n",
            "Loaded df of shape (99995, 801)\n",
            "Loaded df of shape (19999, 801)\n",
            "Moving model to device: cuda\n"
          ]
        },
        {
          "output_type": "stream",
          "name": "stderr",
          "text": [
            "Fold 7 of 5: 100%|██████████| 28/28 [04:53<00:00, 10.49s/it, train_loss=0.765, val_loss=0.766, lr=1.33e-04]\n"
          ]
        },
        {
          "output_type": "stream",
          "name": "stdout",
          "text": [
            "CPU count: 2\n",
            "Loaded df of shape (99995, 801)\n",
            "Loaded df of shape (19999, 801)\n",
            "Moving model to device: cuda\n"
          ]
        },
        {
          "output_type": "stream",
          "name": "stderr",
          "text": [
            "Fold 8 of 5: 100%|██████████| 28/28 [04:52<00:00, 10.46s/it, train_loss=0.765, val_loss=0.767, lr=1.33e-04]\n"
          ]
        },
        {
          "output_type": "stream",
          "name": "stdout",
          "text": [
            "CPU count: 2\n",
            "Loaded df of shape (99995, 801)\n",
            "Loaded df of shape (19999, 801)\n",
            "Moving model to device: cuda\n"
          ]
        },
        {
          "output_type": "stream",
          "name": "stderr",
          "text": [
            "Fold 9 of 5: 100%|██████████| 28/28 [04:56<00:00, 10.58s/it, train_loss=0.765, val_loss=0.767, lr=1.33e-04]\n"
          ]
        },
        {
          "output_type": "stream",
          "name": "stdout",
          "text": [
            "CPU count: 2\n",
            "Loaded df of shape (99995, 801)\n",
            "Loaded df of shape (19999, 801)\n",
            "Moving model to device: cuda\n"
          ]
        },
        {
          "output_type": "stream",
          "name": "stderr",
          "text": [
            "Fold 10 of 5: 100%|██████████| 28/28 [04:58<00:00, 10.66s/it, train_loss=0.765, val_loss=0.77, lr=1.33e-04]\n"
          ]
        },
        {
          "output_type": "stream",
          "name": "stdout",
          "text": [
            "CPU count: 2\n",
            "Loaded df of shape (99995, 801)\n",
            "Loaded df of shape (19999, 801)\n",
            "Moving model to device: cuda\n"
          ]
        },
        {
          "output_type": "stream",
          "name": "stderr",
          "text": [
            "Fold 11 of 5: 100%|██████████| 28/28 [04:58<00:00, 10.67s/it, train_loss=0.758, val_loss=0.756, lr=1.33e-04]\n"
          ]
        },
        {
          "output_type": "stream",
          "name": "stdout",
          "text": [
            "CPU count: 2\n",
            "Loaded df of shape (99995, 801)\n",
            "Loaded df of shape (19999, 801)\n",
            "Moving model to device: cuda\n"
          ]
        },
        {
          "output_type": "stream",
          "name": "stderr",
          "text": [
            "Fold 12 of 5: 100%|██████████| 28/28 [04:56<00:00, 10.58s/it, train_loss=0.763, val_loss=0.762, lr=1.33e-04]\n"
          ]
        },
        {
          "output_type": "stream",
          "name": "stdout",
          "text": [
            "CPU count: 2\n",
            "Loaded df of shape (99995, 801)\n",
            "Loaded df of shape (19999, 801)\n",
            "Moving model to device: cuda\n"
          ]
        },
        {
          "output_type": "stream",
          "name": "stderr",
          "text": [
            "Fold 13 of 5: 100%|██████████| 28/28 [04:54<00:00, 10.51s/it, train_loss=0.763, val_loss=0.766, lr=1.33e-04]\n"
          ]
        },
        {
          "output_type": "stream",
          "name": "stdout",
          "text": [
            "CPU count: 2\n",
            "Loaded df of shape (99995, 801)\n",
            "Loaded df of shape (19999, 801)\n",
            "Moving model to device: cuda\n"
          ]
        },
        {
          "output_type": "stream",
          "name": "stderr",
          "text": [
            "Fold 14 of 5: 100%|██████████| 28/28 [04:57<00:00, 10.61s/it, train_loss=0.763, val_loss=0.764, lr=1.33e-04]\n"
          ]
        },
        {
          "output_type": "stream",
          "name": "stdout",
          "text": [
            "CPU count: 2\n",
            "Loaded df of shape (99995, 801)\n",
            "Loaded df of shape (19999, 801)\n",
            "Moving model to device: cuda\n"
          ]
        },
        {
          "output_type": "stream",
          "name": "stderr",
          "text": [
            "Fold 15 of 5: 100%|██████████| 28/28 [04:51<00:00, 10.41s/it, train_loss=0.763, val_loss=0.766, lr=1.33e-04]\n"
          ]
        },
        {
          "output_type": "display_data",
          "data": {
            "text/html": [
              "<br/>Waiting for W&B process to finish, PID 68367... <strong style=\"color:green\">(success).</strong>"
            ],
            "text/plain": [
              "<IPython.core.display.HTML object>"
            ]
          },
          "metadata": {}
        },
        {
          "output_type": "display_data",
          "data": {
            "application/vnd.jupyter.widget-view+json": {
              "model_id": "8dc3a3abdbb9466c841eeed26d911328",
              "version_minor": 0,
              "version_major": 2
            },
            "text/plain": [
              "VBox(children=(Label(value=' 0.00MB of 0.00MB uploaded (0.00MB deduped)\\r'), FloatProgress(value=1.0, max=1.0)…"
            ]
          },
          "metadata": {}
        },
        {
          "output_type": "display_data",
          "data": {
            "text/html": [
              "<style>\n",
              "    table.wandb td:nth-child(1) { padding: 0 10px; text-align: right }\n",
              "    .wandb-row { display: flex; flex-direction: row; flex-wrap: wrap; width: 100% }\n",
              "    .wandb-col { display: flex; flex-direction: column; flex-basis: 100%; flex: 1; padding: 10px; }\n",
              "    </style>\n",
              "<div class=\"wandb-row\"><div class=\"wandb-col\">\n",
              "<h3>Run history:</h3><br/><table class=\"wandb\"><tr><td>epoch</td><td>▁▃▇▂▅█▃▆▁▅▇▂▆█▃▇▁▅█▂▆▁▃▇▂▅█▃▆▁▅▇▂▆█▃▇▁▅█</td></tr><tr><td>lr</td><td>▁▁▁▁▁▁▁▁▁▁▁▁▁▁▁▁▁▁▁▁▁▁▁▁▁▁▁▁▁▁▁▁▁▁▁▁▁▁▁▁</td></tr><tr><td>overall_loss</td><td>▁</td></tr><tr><td>random_seed</td><td>▁</td></tr><tr><td>train_loss/0</td><td>█▃▃▃▃▂▂▂▂▂▂▂▂▂▂▂▂▂▁▁▁▁▁▁▁▁▁▁</td></tr><tr><td>train_loss/1</td><td>█▂▂▂▂▁▁▁▁▁▁▁▁▁▁▁▁▁▁▁▁▁▁▁▁▁▁▁</td></tr><tr><td>train_loss/10</td><td>█▃▃▂▂▂▂▂▂▂▂▂▂▂▂▁▁▁▁▁▁▁▁▁▁▁▁▁</td></tr><tr><td>train_loss/11</td><td>█▃▂▂▂▂▂▂▂▂▂▂▂▂▂▁▁▁▁▁▁▁▁▁▁▁▁▁</td></tr><tr><td>train_loss/12</td><td>█▃▂▂▂▂▂▂▂▂▂▂▂▂▁▁▁▁▁▁▁▁▁▁▁▁▁▁</td></tr><tr><td>train_loss/13</td><td>█▃▂▂▂▂▂▂▂▂▂▂▂▂▁▁▁▁▁▁▁▁▁▁▁▁▁▁</td></tr><tr><td>train_loss/14</td><td>█▂▂▂▂▂▂▂▂▁▁▁▁▁▁▁▁▁▁▁▁▁▁▁▁▁▁▁</td></tr><tr><td>train_loss/2</td><td>█▂▂▂▂▁▁▁▁▁▁▁▁▁▁▁▁▁▁▁▁▁▁▁▁▁▁▁</td></tr><tr><td>train_loss/3</td><td>█▂▂▂▂▂▁▁▁▁▁▁▁▁▁▁▁▁▁▁▁▁▁▁▁▁▁▁</td></tr><tr><td>train_loss/4</td><td>█▂▂▂▂▂▂▂▁▁▁▁▁▁▁▁▁▁▁▁▁▁▁▁▁▁▁▁</td></tr><tr><td>train_loss/5</td><td>█▃▁▁▁▁▁▁▁▁▁▁▁▁▁▁▁▁▁▁▁▁▁▁▁▁▁▁</td></tr><tr><td>train_loss/6</td><td>█▄▂▁▁▁▁▁▁▁▁▁▁▁▁▁▁▁▁▁▁▁▁▁▁▁▁▁</td></tr><tr><td>train_loss/7</td><td>█▄▂▁▁▁▁▁▁▁▁▁▁▁▁▁▁▁▁▁▁▁▁▁▁▁▁▁</td></tr><tr><td>train_loss/8</td><td>█▄▂▁▁▁▁▁▁▁▁▁▁▁▁▁▁▁▁▁▁▁▁▁▁▁▁▁</td></tr><tr><td>train_loss/9</td><td>█▄▂▁▁▁▁▁▁▁▁▁▁▁▁▁▁▁▁▁▁▁▁▁▁▁▁▁</td></tr><tr><td>val_loss/0</td><td>█▆▆▅▄▄▄▃▃▃▃▃▃▂▂▂▂▂▂▂▂▁▁▁▁▁▁▁</td></tr><tr><td>val_loss/1</td><td>█▇▆▅▅▄▄▄▄▃▃▃▃▃▂▂▂▂▂▂▂▂▁▁▁▁▁▁</td></tr><tr><td>val_loss/10</td><td>█▇▇▆▆▅▅▅▅▄▄▄▄▃▃▃▃▃▂▂▂▂▂▂▁▁▁▁</td></tr><tr><td>val_loss/11</td><td>█▇▆▆▅▅▅▄▄▄▄▃▃▃▃▃▂▂▂▂▂▂▂▁▁▁▁▁</td></tr><tr><td>val_loss/12</td><td>█▇▆▅▅▅▄▄▄▄▄▃▃▃▃▃▂▂▂▂▂▂▁▁▁▁▁▁</td></tr><tr><td>val_loss/13</td><td>█▅▄▄▃▃▃▃▃▂▂▂▂▂▂▂▂▂▂▁▁▁▁▁▁▁▁▁</td></tr><tr><td>val_loss/14</td><td>█▇▆▅▅▅▅▄▄▄▄▄▄▃▃▃▃▃▂▂▂▂▁▂▁▁▁▁</td></tr><tr><td>val_loss/2</td><td>█▆▅▅▄▄▄▄▃▃▃▃▃▃▂▂▂▂▂▂▂▂▂▁▁▁▁▁</td></tr><tr><td>val_loss/3</td><td>█▆▅▅▄▄▄▄▃▃▃▃▃▃▂▂▂▂▂▂▂▂▂▁▁▁▁▁</td></tr><tr><td>val_loss/4</td><td>▅▅▄▃▆▆▃▄▃▂▅▄▄▂▁▃▂▄▆▆▃▆▄▅▅▅▄█</td></tr><tr><td>val_loss/5</td><td>█▂▂▂▂▂▂▁▁▁▁▁▁▁▁▁▁▁▁▁▁▁▁▁▁▁▁▁</td></tr><tr><td>val_loss/6</td><td>█▂▁▁▁▁▁▁▁▁▁▁▁▁▁▁▁▁▁▁▁▁▁▁▁▁▁▁</td></tr><tr><td>val_loss/7</td><td>█▆▆▅▅▅▄▄▄▄▄▃▃▃▃▃▃▂▂▂▂▂▂▂▂▁▁▁</td></tr><tr><td>val_loss/8</td><td>█▆▆▅▅▅▅▄▄▄▄▄▃▃▃▃▃▃▂▂▂▂▂▂▁▁▁▁</td></tr><tr><td>val_loss/9</td><td>█▇▆▆▅▅▄▄▄▄▄▃▃▃▃▃▂▃▂▂▂▂▁▁▁▁▁▁</td></tr></table><br/></div><div class=\"wandb-col\">\n",
              "<h3>Run summary:</h3><br/><table class=\"wandb\"><tr><td>epoch</td><td>28</td></tr><tr><td>lr</td><td>0.00013</td></tr><tr><td>overall_loss</td><td>0.76265</td></tr><tr><td>random_seed</td><td>499445768</td></tr><tr><td>train_loss/0</td><td>0.75901</td></tr><tr><td>train_loss/1</td><td>0.76758</td></tr><tr><td>train_loss/10</td><td>0.75768</td></tr><tr><td>train_loss/11</td><td>0.76266</td></tr><tr><td>train_loss/12</td><td>0.76304</td></tr><tr><td>train_loss/13</td><td>0.76296</td></tr><tr><td>train_loss/14</td><td>0.76284</td></tr><tr><td>train_loss/2</td><td>0.76849</td></tr><tr><td>train_loss/3</td><td>0.76655</td></tr><tr><td>train_loss/4</td><td>0.7643</td></tr><tr><td>train_loss/5</td><td>0.75999</td></tr><tr><td>train_loss/6</td><td>0.76482</td></tr><tr><td>train_loss/7</td><td>0.76542</td></tr><tr><td>train_loss/8</td><td>0.76542</td></tr><tr><td>train_loss/9</td><td>0.76469</td></tr><tr><td>val_loss/0</td><td>0.77234</td></tr><tr><td>val_loss/1</td><td>0.7768</td></tr><tr><td>val_loss/10</td><td>0.75562</td></tr><tr><td>val_loss/11</td><td>0.76191</td></tr><tr><td>val_loss/12</td><td>0.76587</td></tr><tr><td>val_loss/13</td><td>0.76391</td></tr><tr><td>val_loss/14</td><td>0.76595</td></tr><tr><td>val_loss/2</td><td>0.77646</td></tr><tr><td>val_loss/3</td><td>0.77814</td></tr><tr><td>val_loss/4</td><td>0.83492</td></tr><tr><td>val_loss/5</td><td>0.75291</td></tr><tr><td>val_loss/6</td><td>0.76551</td></tr><tr><td>val_loss/7</td><td>0.76728</td></tr><tr><td>val_loss/8</td><td>0.76698</td></tr><tr><td>val_loss/9</td><td>0.76989</td></tr></table>\n",
              "</div></div>\n",
              "Synced 5 W&B file(s), 0 media file(s), 0 artifact file(s) and 0 other file(s)\n",
              "<br/>Synced <strong style=\"color:#cdcd00\">happy-sweep-44</strong>: <a href=\"https://wandb.ai/krankile/weight-net/runs/sus12a23\" target=\"_blank\">https://wandb.ai/krankile/weight-net/runs/sus12a23</a><br/>\n",
              "Find logs at: <code>./wandb/run-20211212_020402-sus12a23/logs</code><br/>\n"
            ],
            "text/plain": [
              "<IPython.core.display.HTML object>"
            ]
          },
          "metadata": {}
        },
        {
          "output_type": "stream",
          "name": "stderr",
          "text": [
            "\u001b[34m\u001b[1mwandb\u001b[0m: Sweep Agent: Waiting for job.\n",
            "\u001b[34m\u001b[1mwandb\u001b[0m: Job received.\n",
            "\u001b[34m\u001b[1mwandb\u001b[0m: Agent Starting Run: 9safxeb4 with config:\n",
            "\u001b[34m\u001b[1mwandb\u001b[0m: \tbatch_size: 512\n",
            "\u001b[34m\u001b[1mwandb\u001b[0m: \tdropout: 0.750391715489802\n",
            "\u001b[34m\u001b[1mwandb\u001b[0m: \tepochs: 23\n",
            "\u001b[34m\u001b[1mwandb\u001b[0m: \thidden_dim: 192\n",
            "\u001b[34m\u001b[1mwandb\u001b[0m: \tlearning_rate: 0.0029944988030013793\n",
            "\u001b[34m\u001b[1mwandb\u001b[0m: \tn_hidden: 3\n",
            "\u001b[34m\u001b[1mwandb\u001b[0m: \tweight_decay: 0.0007846034434177841\n"
          ]
        },
        {
          "output_type": "display_data",
          "data": {
            "text/html": [
              "\n",
              "                    Syncing run <strong><a href=\"https://wandb.ai/krankile/weight-net/runs/9safxeb4\" target=\"_blank\">radiant-sweep-48</a></strong> to <a href=\"https://wandb.ai/krankile/weight-net\" target=\"_blank\">Weights & Biases</a> (<a href=\"https://docs.wandb.com/integrations/jupyter.html\" target=\"_blank\">docs</a>).<br/>\n",
              "Sweep page: <a href=\"https://wandb.ai/krankile/weight-net/sweeps/4r44tbf3\" target=\"_blank\">https://wandb.ai/krankile/weight-net/sweeps/4r44tbf3</a><br/>\n",
              "\n",
              "                "
            ],
            "text/plain": [
              "<IPython.core.display.HTML object>"
            ]
          },
          "metadata": {}
        },
        {
          "output_type": "stream",
          "name": "stdout",
          "text": [
            "{'batch_size': 512, 'dropout': 0.750391715489802, 'epochs': 23, 'hidden_dim': 192, 'learning_rate': 0.0029944988030013793, 'n_hidden': 3, 'weight_decay': 0.0007846034434177841, 'k': 5, 'optimizer': 'adamw', 'architecture': 'WeightNetV4', 'data': 'ensemble_traval:non-standard', 'data_split': 'traval_split_80_20:v0', 'loss_func': 'owa', 'bn': False, 'feature_set': 'ma', 'act': 'leaky', 'num_models': 14, 'schedule': None}\n"
          ]
        },
        {
          "output_type": "stream",
          "name": "stderr",
          "text": [
            "\u001b[34m\u001b[1mwandb\u001b[0m: Downloading large artifact ensemble_traval:non-standard, 119.61MB. 1 files... Done. 0:0:0\n"
          ]
        },
        {
          "output_type": "stream",
          "name": "stdout",
          "text": [
            "CPU count: 2\n",
            "Loaded df of shape (79996, 801)\n",
            "Loaded df of shape (19999, 801)\n",
            "Moving model to device: cuda\n"
          ]
        },
        {
          "output_type": "stream",
          "name": "stderr",
          "text": [
            "Fold 1 of 5: 100%|██████████| 23/23 [01:59<00:00,  5.21s/it, train_loss=0.732, val_loss=0.772, lr=2.99e-03]\n"
          ]
        },
        {
          "output_type": "stream",
          "name": "stdout",
          "text": [
            "CPU count: 2\n",
            "Loaded df of shape (79996, 801)\n",
            "Loaded df of shape (19999, 801)\n",
            "Moving model to device: cuda\n"
          ]
        },
        {
          "output_type": "stream",
          "name": "stderr",
          "text": [
            "Fold 2 of 5: 100%|██████████| 23/23 [02:00<00:00,  5.24s/it, train_loss=0.738, val_loss=0.774, lr=2.99e-03]\n"
          ]
        },
        {
          "output_type": "stream",
          "name": "stdout",
          "text": [
            "CPU count: 2\n",
            "Loaded df of shape (79996, 801)\n",
            "Loaded df of shape (19999, 801)\n",
            "Moving model to device: cuda\n"
          ]
        },
        {
          "output_type": "stream",
          "name": "stderr",
          "text": [
            "Fold 3 of 5: 100%|██████████| 23/23 [01:56<00:00,  5.05s/it, train_loss=0.741, val_loss=0.77, lr=2.99e-03]\n"
          ]
        },
        {
          "output_type": "stream",
          "name": "stdout",
          "text": [
            "CPU count: 2\n",
            "Loaded df of shape (79996, 801)\n",
            "Loaded df of shape (19999, 801)\n",
            "Moving model to device: cuda\n"
          ]
        },
        {
          "output_type": "stream",
          "name": "stderr",
          "text": [
            "Fold 4 of 5: 100%|██████████| 23/23 [02:02<00:00,  5.34s/it, train_loss=0.741, val_loss=0.777, lr=2.99e-03]\n"
          ]
        },
        {
          "output_type": "stream",
          "name": "stdout",
          "text": [
            "CPU count: 2\n",
            "Loaded df of shape (79996, 801)\n",
            "Loaded df of shape (19999, 801)\n",
            "Moving model to device: cuda\n"
          ]
        },
        {
          "output_type": "stream",
          "name": "stderr",
          "text": [
            "Fold 5 of 5: 100%|██████████| 23/23 [02:02<00:00,  5.33s/it, train_loss=0.73, val_loss=0.853, lr=2.99e-03]\n"
          ]
        },
        {
          "output_type": "stream",
          "name": "stdout",
          "text": [
            "CPU count: 2\n",
            "Loaded df of shape (99995, 801)\n",
            "Loaded df of shape (19999, 801)\n",
            "Moving model to device: cuda\n"
          ]
        },
        {
          "output_type": "stream",
          "name": "stderr",
          "text": [
            "Fold 6 of 5: 100%|██████████| 23/23 [02:29<00:00,  6.51s/it, train_loss=0.737, val_loss=0.724, lr=2.99e-03]\n"
          ]
        },
        {
          "output_type": "stream",
          "name": "stdout",
          "text": [
            "CPU count: 2\n",
            "Loaded df of shape (99995, 801)\n",
            "Loaded df of shape (19999, 801)\n",
            "Moving model to device: cuda\n"
          ]
        },
        {
          "output_type": "stream",
          "name": "stderr",
          "text": [
            "Fold 7 of 5: 100%|██████████| 23/23 [02:32<00:00,  6.65s/it, train_loss=0.746, val_loss=0.743, lr=2.99e-03]\n"
          ]
        },
        {
          "output_type": "stream",
          "name": "stdout",
          "text": [
            "CPU count: 2\n",
            "Loaded df of shape (99995, 801)\n",
            "Loaded df of shape (19999, 801)\n",
            "Moving model to device: cuda\n"
          ]
        },
        {
          "output_type": "stream",
          "name": "stderr",
          "text": [
            "Fold 8 of 5: 100%|██████████| 23/23 [02:33<00:00,  6.69s/it, train_loss=0.745, val_loss=0.747, lr=2.99e-03]\n"
          ]
        },
        {
          "output_type": "stream",
          "name": "stdout",
          "text": [
            "CPU count: 2\n",
            "Loaded df of shape (99995, 801)\n",
            "Loaded df of shape (19999, 801)\n",
            "Moving model to device: cuda\n"
          ]
        },
        {
          "output_type": "stream",
          "name": "stderr",
          "text": [
            "Fold 9 of 5: 100%|██████████| 23/23 [02:36<00:00,  6.80s/it, train_loss=0.745, val_loss=0.748, lr=2.99e-03]\n"
          ]
        },
        {
          "output_type": "stream",
          "name": "stdout",
          "text": [
            "CPU count: 2\n",
            "Loaded df of shape (99995, 801)\n",
            "Loaded df of shape (19999, 801)\n",
            "Moving model to device: cuda\n"
          ]
        },
        {
          "output_type": "stream",
          "name": "stderr",
          "text": [
            "Fold 10 of 5: 100%|██████████| 23/23 [02:36<00:00,  6.78s/it, train_loss=0.742, val_loss=0.748, lr=2.99e-03]\n"
          ]
        },
        {
          "output_type": "stream",
          "name": "stdout",
          "text": [
            "CPU count: 2\n",
            "Loaded df of shape (99995, 801)\n",
            "Loaded df of shape (19999, 801)\n",
            "Moving model to device: cuda\n"
          ]
        },
        {
          "output_type": "stream",
          "name": "stderr",
          "text": [
            "Fold 11 of 5: 100%|██████████| 23/23 [02:35<00:00,  6.75s/it, train_loss=0.73, val_loss=0.721, lr=2.99e-03]\n"
          ]
        },
        {
          "output_type": "stream",
          "name": "stdout",
          "text": [
            "CPU count: 2\n",
            "Loaded df of shape (99995, 801)\n",
            "Loaded df of shape (19999, 801)\n",
            "Moving model to device: cuda\n"
          ]
        },
        {
          "output_type": "stream",
          "name": "stderr",
          "text": [
            "Fold 12 of 5: 100%|██████████| 23/23 [02:35<00:00,  6.77s/it, train_loss=0.737, val_loss=0.734, lr=2.99e-03]\n"
          ]
        },
        {
          "output_type": "stream",
          "name": "stdout",
          "text": [
            "CPU count: 2\n",
            "Loaded df of shape (99995, 801)\n",
            "Loaded df of shape (19999, 801)\n",
            "Moving model to device: cuda\n"
          ]
        },
        {
          "output_type": "stream",
          "name": "stderr",
          "text": [
            "Fold 13 of 5: 100%|██████████| 23/23 [02:42<00:00,  7.08s/it, train_loss=0.739, val_loss=0.74, lr=2.99e-03]\n"
          ]
        },
        {
          "output_type": "stream",
          "name": "stdout",
          "text": [
            "CPU count: 2\n",
            "Loaded df of shape (99995, 801)\n",
            "Loaded df of shape (19999, 801)\n",
            "Moving model to device: cuda\n"
          ]
        },
        {
          "output_type": "stream",
          "name": "stderr",
          "text": [
            "Fold 14 of 5: 100%|██████████| 23/23 [02:40<00:00,  7.00s/it, train_loss=0.735, val_loss=0.73, lr=2.99e-03]\n"
          ]
        },
        {
          "output_type": "stream",
          "name": "stdout",
          "text": [
            "CPU count: 2\n",
            "Loaded df of shape (99995, 801)\n",
            "Loaded df of shape (19999, 801)\n",
            "Moving model to device: cuda\n"
          ]
        },
        {
          "output_type": "stream",
          "name": "stderr",
          "text": [
            "Fold 15 of 5: 100%|██████████| 23/23 [02:43<00:00,  7.11s/it, train_loss=0.764, val_loss=0.754, lr=2.99e-03]\n"
          ]
        },
        {
          "output_type": "display_data",
          "data": {
            "text/html": [
              "<br/>Waiting for W&B process to finish, PID 76837... <strong style=\"color:green\">(success).</strong>"
            ],
            "text/plain": [
              "<IPython.core.display.HTML object>"
            ]
          },
          "metadata": {}
        },
        {
          "output_type": "display_data",
          "data": {
            "application/vnd.jupyter.widget-view+json": {
              "model_id": "aa93be4b2ee24d9eb0c6feea891ff5a5",
              "version_minor": 0,
              "version_major": 2
            },
            "text/plain": [
              "VBox(children=(Label(value=' 0.00MB of 0.00MB uploaded (0.00MB deduped)\\r'), FloatProgress(value=1.0, max=1.0)…"
            ]
          },
          "metadata": {}
        },
        {
          "output_type": "display_data",
          "data": {
            "text/html": [
              "<style>\n",
              "    table.wandb td:nth-child(1) { padding: 0 10px; text-align: right }\n",
              "    .wandb-row { display: flex; flex-direction: row; flex-wrap: wrap; width: 100% }\n",
              "    .wandb-col { display: flex; flex-direction: column; flex-basis: 100%; flex: 1; padding: 10px; }\n",
              "    </style>\n",
              "<div class=\"wandb-row\"><div class=\"wandb-col\">\n",
              "<h3>Run history:</h3><br/><table class=\"wandb\"><tr><td>epoch</td><td>▂▅▇▂▅▇▄▆▂▄▇▂▆▁▄▆▁▅█▃▅█▃▇▂▅▇▃▆▂▄▇▂▅▁▄▆▁▄▆</td></tr><tr><td>lr</td><td>▁▁▁▁▁▁▁▁▁▁▁▁▁▁▁▁▁▁▁▁▁▁▁▁▁▁▁▁▁▁▁▁▁▁▁▁▁▁▁▁</td></tr><tr><td>overall_loss</td><td>▁</td></tr><tr><td>random_seed</td><td>▁</td></tr><tr><td>train_loss/0</td><td>█▅▅▅▄▄▄▄▃▃▃▃▃▂▂▂▂▂▂▂▁▁▁</td></tr><tr><td>train_loss/1</td><td>█▆▅▅▅▅▄▄▄▃▃▃▃▃▂▂▂▂▂▂▁▁▁</td></tr><tr><td>train_loss/10</td><td>█▆▅▅▅▄▄▄▄▄▃▃▃▃▂▂▂▂▂▁▁▁▁</td></tr><tr><td>train_loss/11</td><td>█▆▅▅▅▄▄▄▄▄▃▃▃▃▃▂▂▂▂▂▂▁▁</td></tr><tr><td>train_loss/12</td><td>█▆▅▅▅▄▄▄▄▃▃▃▃▃▂▂▂▂▂▂▁▁▁</td></tr><tr><td>train_loss/13</td><td>█▆▅▅▅▄▄▄▄▄▃▃▃▃▃▂▂▂▂▂▁▁▁</td></tr><tr><td>train_loss/14</td><td>█▆▅▅▄▄▄▃▃▃▃▃▂▂▂▂▂▂▁▁▁▁▃</td></tr><tr><td>train_loss/2</td><td>█▅▄▄▄▄▃▃▃▃▃▃▂▂▂▂▂▂▂▁▁▁▁</td></tr><tr><td>train_loss/3</td><td>█▄▄▃▃▃▃▃▃▂▂▂▂▂▂▂▂▂▁▁▁▁▁</td></tr><tr><td>train_loss/4</td><td>█▆▆▆▅▅▅▄▄▄▄▃▃▃▃▃▂▂▂▂▂▁▁</td></tr><tr><td>train_loss/5</td><td>█▄▄▄▃▃▃▃▃▃▂▃▂▂▂▂▂▂▁▁▁▁▁</td></tr><tr><td>train_loss/6</td><td>█▄▃▃▃▃▃▂▂▂▃▂▂▂▂▂▂▁▁▁▁▁▁</td></tr><tr><td>train_loss/7</td><td>█▄▄▃▃▃▃▃▃▂▂▂▂▂▂▂▂▂▂▁▁▁▁</td></tr><tr><td>train_loss/8</td><td>█▅▄▄▃▃▃▃▃▃▂▂▂▂▂▂▂▁▁▁▁▁▁</td></tr><tr><td>train_loss/9</td><td>█▅▄▄▄▃▃▃▃▃▂▂▂▂▂▂▂▂▂▁▁▁▁</td></tr><tr><td>val_loss/0</td><td>█▆▄▃▄▃▃▃▂▂▂▁▁▂▂▁▁▂▁▂▂▁▂</td></tr><tr><td>val_loss/1</td><td>█▆▅▄▄▃▃▂▂▂▂▂▂▂▂▁▁▁▂▁▁▂▂</td></tr><tr><td>val_loss/10</td><td>█▇▇▆▅▅▅▅▄▄▄▄▃▃▃▃▂▂▂▂▁▂▁</td></tr><tr><td>val_loss/11</td><td>█▇▇▆▆▅▅▅▅▄▄▄▃▃▃▃▃▃▂▂▂▁▁</td></tr><tr><td>val_loss/12</td><td>█▇▇▆▅▅▅▄▄▄▄▄▃▃▃▃▂▂▂▁▁▂▁</td></tr><tr><td>val_loss/13</td><td>█▇▆▆▆▅▅▅▅▄▄▃▃▃▃▃▂▂▂▁▁▁▁</td></tr><tr><td>val_loss/14</td><td>█▇▆▅▅▅▅▄▄▄▄▃▃▃▃▂▂▂▂▁▁█▃</td></tr><tr><td>val_loss/2</td><td>█▆▆▅▄▄▃▃▃▂▂▂▂▂▁▂▁▂▁▁▁▁▂</td></tr><tr><td>val_loss/3</td><td>█▆▅▅▄▃▃▄▃▂▂▂▂▃▂▂▁▁▁▁▂▂▁</td></tr><tr><td>val_loss/4</td><td>▂▂▁▁▁▁▂▂▂▂▂▂▂▃▂▂▂▂▁▁█▆▃</td></tr><tr><td>val_loss/5</td><td>█▇▆▆▅▅▅▄▄▄▅▄▃▃▃▃▃▂▂▂▂▂▁</td></tr><tr><td>val_loss/6</td><td>▆▅▅▄▄▄▄▄▃█▄▃▃▃▂▂▂▂▂▂▁▁▁</td></tr><tr><td>val_loss/7</td><td>█▇▆▆▅▅▄▄▄▄▄▃▃▃▂▂▂▂▂▁▁▁▁</td></tr><tr><td>val_loss/8</td><td>█▆▆▅▅▄▄▄▄▄▄▃▃▃▂▂▂▂▂▁▂▂▁</td></tr><tr><td>val_loss/9</td><td>█▆▅▅▅▄▄▄▄▃▃▃▃▂▂▂▂▂▂▁▁▁▁</td></tr></table><br/></div><div class=\"wandb-col\">\n",
              "<h3>Run summary:</h3><br/><table class=\"wandb\"><tr><td>epoch</td><td>23</td></tr><tr><td>lr</td><td>0.00299</td></tr><tr><td>overall_loss</td><td>0.73567</td></tr><tr><td>random_seed</td><td>532718768</td></tr><tr><td>train_loss/0</td><td>0.73176</td></tr><tr><td>train_loss/1</td><td>0.73811</td></tr><tr><td>train_loss/10</td><td>0.72991</td></tr><tr><td>train_loss/11</td><td>0.73738</td></tr><tr><td>train_loss/12</td><td>0.73897</td></tr><tr><td>train_loss/13</td><td>0.73497</td></tr><tr><td>train_loss/14</td><td>0.76354</td></tr><tr><td>train_loss/2</td><td>0.74051</td></tr><tr><td>train_loss/3</td><td>0.74116</td></tr><tr><td>train_loss/4</td><td>0.72975</td></tr><tr><td>train_loss/5</td><td>0.73715</td></tr><tr><td>train_loss/6</td><td>0.74614</td></tr><tr><td>train_loss/7</td><td>0.74464</td></tr><tr><td>train_loss/8</td><td>0.74521</td></tr><tr><td>train_loss/9</td><td>0.74171</td></tr><tr><td>val_loss/0</td><td>0.7722</td></tr><tr><td>val_loss/1</td><td>0.77384</td></tr><tr><td>val_loss/10</td><td>0.72078</td></tr><tr><td>val_loss/11</td><td>0.73399</td></tr><tr><td>val_loss/12</td><td>0.7397</td></tr><tr><td>val_loss/13</td><td>0.73009</td></tr><tr><td>val_loss/14</td><td>0.75379</td></tr><tr><td>val_loss/2</td><td>0.77041</td></tr><tr><td>val_loss/3</td><td>0.77737</td></tr><tr><td>val_loss/4</td><td>0.85318</td></tr><tr><td>val_loss/5</td><td>0.72415</td></tr><tr><td>val_loss/6</td><td>0.74255</td></tr><tr><td>val_loss/7</td><td>0.74709</td></tr><tr><td>val_loss/8</td><td>0.74768</td></tr><tr><td>val_loss/9</td><td>0.74835</td></tr></table>\n",
              "</div></div>\n",
              "Synced 5 W&B file(s), 0 media file(s), 0 artifact file(s) and 0 other file(s)\n",
              "<br/>Synced <strong style=\"color:#cdcd00\">radiant-sweep-48</strong>: <a href=\"https://wandb.ai/krankile/weight-net/runs/9safxeb4\" target=\"_blank\">https://wandb.ai/krankile/weight-net/runs/9safxeb4</a><br/>\n",
              "Find logs at: <code>./wandb/run-20211212_031950-9safxeb4/logs</code><br/>\n"
            ],
            "text/plain": [
              "<IPython.core.display.HTML object>"
            ]
          },
          "metadata": {}
        },
        {
          "output_type": "stream",
          "name": "stderr",
          "text": [
            "\u001b[34m\u001b[1mwandb\u001b[0m: Agent Starting Run: 67r5uq47 with config:\n",
            "\u001b[34m\u001b[1mwandb\u001b[0m: \tbatch_size: 128\n",
            "\u001b[34m\u001b[1mwandb\u001b[0m: \tdropout: 0.735336932978689\n",
            "\u001b[34m\u001b[1mwandb\u001b[0m: \tepochs: 60\n",
            "\u001b[34m\u001b[1mwandb\u001b[0m: \thidden_dim: 64\n",
            "\u001b[34m\u001b[1mwandb\u001b[0m: \tlearning_rate: 0.0005389725887901126\n",
            "\u001b[34m\u001b[1mwandb\u001b[0m: \tn_hidden: 2\n",
            "\u001b[34m\u001b[1mwandb\u001b[0m: \tweight_decay: 0.00394343008023824\n"
          ]
        },
        {
          "output_type": "display_data",
          "data": {
            "text/html": [
              "\n",
              "                    Syncing run <strong><a href=\"https://wandb.ai/krankile/weight-net/runs/67r5uq47\" target=\"_blank\">bright-sweep-51</a></strong> to <a href=\"https://wandb.ai/krankile/weight-net\" target=\"_blank\">Weights & Biases</a> (<a href=\"https://docs.wandb.com/integrations/jupyter.html\" target=\"_blank\">docs</a>).<br/>\n",
              "Sweep page: <a href=\"https://wandb.ai/krankile/weight-net/sweeps/4r44tbf3\" target=\"_blank\">https://wandb.ai/krankile/weight-net/sweeps/4r44tbf3</a><br/>\n",
              "\n",
              "                "
            ],
            "text/plain": [
              "<IPython.core.display.HTML object>"
            ]
          },
          "metadata": {}
        },
        {
          "output_type": "stream",
          "name": "stdout",
          "text": [
            "{'batch_size': 128, 'dropout': 0.735336932978689, 'epochs': 60, 'hidden_dim': 64, 'learning_rate': 0.0005389725887901126, 'n_hidden': 2, 'weight_decay': 0.00394343008023824, 'k': 5, 'optimizer': 'adamw', 'architecture': 'WeightNetV4', 'data': 'ensemble_traval:non-standard', 'data_split': 'traval_split_80_20:v0', 'loss_func': 'owa', 'bn': False, 'feature_set': 'ma', 'act': 'leaky', 'num_models': 14, 'schedule': None}\n"
          ]
        },
        {
          "output_type": "stream",
          "name": "stderr",
          "text": [
            "\u001b[34m\u001b[1mwandb\u001b[0m: Downloading large artifact ensemble_traval:non-standard, 119.61MB. 1 files... Done. 0:0:0\n"
          ]
        },
        {
          "output_type": "stream",
          "name": "stdout",
          "text": [
            "CPU count: 2\n",
            "Loaded df of shape (79996, 801)\n",
            "Loaded df of shape (19999, 801)\n",
            "Moving model to device: cuda\n"
          ]
        },
        {
          "output_type": "stream",
          "name": "stderr",
          "text": [
            "Fold 1 of 5: 100%|██████████| 60/60 [08:49<00:00,  8.82s/it, train_loss=0.743, val_loss=0.771, lr=5.39e-04]\n"
          ]
        },
        {
          "output_type": "stream",
          "name": "stdout",
          "text": [
            "CPU count: 2\n",
            "Loaded df of shape (79996, 801)\n",
            "Loaded df of shape (19999, 801)\n",
            "Moving model to device: cuda\n"
          ]
        },
        {
          "output_type": "stream",
          "name": "stderr",
          "text": [
            "Fold 2 of 5: 100%|██████████| 60/60 [08:51<00:00,  8.86s/it, train_loss=0.752, val_loss=0.773, lr=5.39e-04]\n"
          ]
        },
        {
          "output_type": "stream",
          "name": "stdout",
          "text": [
            "CPU count: 2\n",
            "Loaded df of shape (79996, 801)\n",
            "Loaded df of shape (19999, 801)\n",
            "Moving model to device: cuda\n"
          ]
        },
        {
          "output_type": "stream",
          "name": "stderr",
          "text": [
            "Fold 3 of 5: 100%|██████████| 60/60 [08:44<00:00,  8.74s/it, train_loss=0.754, val_loss=0.772, lr=5.39e-04]\n"
          ]
        },
        {
          "output_type": "stream",
          "name": "stdout",
          "text": [
            "CPU count: 2\n",
            "Loaded df of shape (79996, 801)\n",
            "Loaded df of shape (19999, 801)\n",
            "Moving model to device: cuda\n"
          ]
        },
        {
          "output_type": "stream",
          "name": "stderr",
          "text": [
            "Fold 4 of 5: 100%|██████████| 60/60 [08:38<00:00,  8.65s/it, train_loss=0.751, val_loss=0.776, lr=5.39e-04]\n"
          ]
        },
        {
          "output_type": "stream",
          "name": "stdout",
          "text": [
            "CPU count: 2\n",
            "Loaded df of shape (79996, 801)\n",
            "Loaded df of shape (19999, 801)\n",
            "Moving model to device: cuda\n"
          ]
        },
        {
          "output_type": "stream",
          "name": "stderr",
          "text": [
            "Fold 5 of 5: 100%|██████████| 60/60 [08:44<00:00,  8.75s/it, train_loss=0.749, val_loss=0.935, lr=5.39e-04]\n"
          ]
        },
        {
          "output_type": "stream",
          "name": "stdout",
          "text": [
            "CPU count: 2\n",
            "Loaded df of shape (99995, 801)\n",
            "Loaded df of shape (19999, 801)\n",
            "Moving model to device: cuda\n"
          ]
        },
        {
          "output_type": "stream",
          "name": "stderr",
          "text": [
            "Fold 6 of 5: 100%|██████████| 60/60 [10:39<00:00, 10.65s/it, train_loss=0.745, val_loss=0.738, lr=5.39e-04]\n"
          ]
        },
        {
          "output_type": "stream",
          "name": "stdout",
          "text": [
            "CPU count: 2\n",
            "Loaded df of shape (99995, 801)\n",
            "Loaded df of shape (19999, 801)\n",
            "Moving model to device: cuda\n"
          ]
        },
        {
          "output_type": "stream",
          "name": "stderr",
          "text": [
            "Fold 7 of 5: 100%|██████████| 60/60 [10:30<00:00, 10.51s/it, train_loss=0.749, val_loss=0.749, lr=5.39e-04]\n"
          ]
        },
        {
          "output_type": "stream",
          "name": "stdout",
          "text": [
            "CPU count: 2\n",
            "Loaded df of shape (99995, 801)\n",
            "Loaded df of shape (19999, 801)\n",
            "Moving model to device: cuda\n"
          ]
        },
        {
          "output_type": "stream",
          "name": "stderr",
          "text": [
            "Fold 8 of 5: 100%|██████████| 60/60 [10:43<00:00, 10.73s/it, train_loss=0.751, val_loss=0.753, lr=5.39e-04]\n"
          ]
        },
        {
          "output_type": "stream",
          "name": "stdout",
          "text": [
            "CPU count: 2\n",
            "Loaded df of shape (99995, 801)\n",
            "Loaded df of shape (19999, 801)\n",
            "Moving model to device: cuda\n"
          ]
        },
        {
          "output_type": "stream",
          "name": "stderr",
          "text": [
            "Fold 9 of 5: 100%|██████████| 60/60 [10:28<00:00, 10.48s/it, train_loss=0.75, val_loss=0.754, lr=5.39e-04]\n"
          ]
        },
        {
          "output_type": "stream",
          "name": "stdout",
          "text": [
            "CPU count: 2\n",
            "Loaded df of shape (99995, 801)\n",
            "Loaded df of shape (19999, 801)\n",
            "Moving model to device: cuda\n"
          ]
        },
        {
          "output_type": "stream",
          "name": "stderr",
          "text": [
            "Fold 10 of 5: 100%|██████████| 60/60 [10:22<00:00, 10.38s/it, train_loss=0.748, val_loss=0.752, lr=5.39e-04]\n"
          ]
        },
        {
          "output_type": "stream",
          "name": "stdout",
          "text": [
            "CPU count: 2\n",
            "Loaded df of shape (99995, 801)\n",
            "Loaded df of shape (19999, 801)\n",
            "Moving model to device: cuda\n"
          ]
        },
        {
          "output_type": "stream",
          "name": "stderr",
          "text": [
            "Fold 11 of 5: 100%|██████████| 60/60 [10:24<00:00, 10.41s/it, train_loss=0.745, val_loss=0.742, lr=5.39e-04]\n"
          ]
        },
        {
          "output_type": "stream",
          "name": "stdout",
          "text": [
            "CPU count: 2\n",
            "Loaded df of shape (99995, 801)\n",
            "Loaded df of shape (19999, 801)\n",
            "Moving model to device: cuda\n"
          ]
        },
        {
          "output_type": "stream",
          "name": "stderr",
          "text": [
            "Fold 12 of 5: 100%|██████████| 60/60 [10:34<00:00, 10.58s/it, train_loss=0.749, val_loss=0.747, lr=5.39e-04]\n"
          ]
        },
        {
          "output_type": "stream",
          "name": "stdout",
          "text": [
            "CPU count: 2\n",
            "Loaded df of shape (99995, 801)\n",
            "Loaded df of shape (19999, 801)\n",
            "Moving model to device: cuda\n"
          ]
        },
        {
          "output_type": "stream",
          "name": "stderr",
          "text": [
            "Fold 13 of 5: 100%|██████████| 60/60 [10:24<00:00, 10.41s/it, train_loss=0.749, val_loss=0.752, lr=5.39e-04]\n"
          ]
        },
        {
          "output_type": "stream",
          "name": "stdout",
          "text": [
            "CPU count: 2\n",
            "Loaded df of shape (99995, 801)\n",
            "Loaded df of shape (19999, 801)\n",
            "Moving model to device: cuda\n"
          ]
        },
        {
          "output_type": "stream",
          "name": "stderr",
          "text": [
            "Fold 14 of 5: 100%|██████████| 60/60 [10:30<00:00, 10.50s/it, train_loss=0.75, val_loss=0.751, lr=5.39e-04]\n"
          ]
        },
        {
          "output_type": "stream",
          "name": "stdout",
          "text": [
            "CPU count: 2\n",
            "Loaded df of shape (99995, 801)\n",
            "Loaded df of shape (19999, 801)\n",
            "Moving model to device: cuda\n"
          ]
        },
        {
          "output_type": "stream",
          "name": "stderr",
          "text": [
            "Fold 15 of 5: 100%|██████████| 60/60 [10:18<00:00, 10.30s/it, train_loss=0.749, val_loss=0.75, lr=5.39e-04]\n"
          ]
        },
        {
          "output_type": "display_data",
          "data": {
            "text/html": [
              "<br/>Waiting for W&B process to finish, PID 83807... <strong style=\"color:green\">(success).</strong>"
            ],
            "text/plain": [
              "<IPython.core.display.HTML object>"
            ]
          },
          "metadata": {}
        },
        {
          "output_type": "display_data",
          "data": {
            "application/vnd.jupyter.widget-view+json": {
              "model_id": "c937471fd694454581ea6682c4e5b3d2",
              "version_minor": 0,
              "version_major": 2
            },
            "text/plain": [
              "VBox(children=(Label(value=' 0.00MB of 0.00MB uploaded (0.00MB deduped)\\r'), FloatProgress(value=1.0, max=1.0)…"
            ]
          },
          "metadata": {}
        },
        {
          "output_type": "display_data",
          "data": {
            "text/html": [
              "<style>\n",
              "    table.wandb td:nth-child(1) { padding: 0 10px; text-align: right }\n",
              "    .wandb-row { display: flex; flex-direction: row; flex-wrap: wrap; width: 100% }\n",
              "    .wandb-col { display: flex; flex-direction: column; flex-basis: 100%; flex: 1; padding: 10px; }\n",
              "    </style>\n",
              "<div class=\"wandb-row\"><div class=\"wandb-col\">\n",
              "<h3>Run history:</h3><br/><table class=\"wandb\"><tr><td>epoch</td><td>▁▃▇▂▅█▃▅▁▄▇▃▅▁▃▆▁▅▇▃▅█▃▇▂▅█▃▅▁▄▇▃▅▇▃▆▁▅▇</td></tr><tr><td>lr</td><td>▁▁▁▁▁▁▁▁▁▁▁▁▁▁▁▁▁▁▁▁▁▁▁▁▁▁▁▁▁▁▁▁▁▁▁▁▁▁▁▁</td></tr><tr><td>overall_loss</td><td>▁</td></tr><tr><td>random_seed</td><td>▁</td></tr><tr><td>train_loss/0</td><td>█▄▃▃▃▃▃▃▃▂▂▂▂▂▂▂▂▂▂▂▂▂▂▂▂▂▁▁▁▁▁▁▁▁▁▁▁▁▁▁</td></tr><tr><td>train_loss/1</td><td>█▃▁▁▁▁▁▁▁▁▁▁▁▁▁▁▁▁▁▁▁▁▁▁▁▁▁▁▁▁▁▁▁▁▁▁▁▁▁▁</td></tr><tr><td>train_loss/10</td><td>█▃▃▃▂▂▂▂▂▂▂▂▂▂▂▂▂▂▂▂▁▁▁▁▁▁▁▁▁▁▁▁▁▁▁▁▁▁▁▁</td></tr><tr><td>train_loss/11</td><td>█▃▃▃▃▃▂▂▂▂▂▂▂▂▂▂▂▂▂▂▂▂▁▁▁▁▁▁▁▁▁▁▁▁▁▁▁▁▁▁</td></tr><tr><td>train_loss/12</td><td>█▃▃▃▂▂▂▂▂▂▂▂▂▂▂▂▂▂▂▂▁▁▁▁▁▁▁▁▁▁▁▁▁▁▁▁▁▁▁▁</td></tr><tr><td>train_loss/13</td><td>█▃▃▂▂▂▂▂▂▂▂▂▂▂▂▂▂▂▂▂▁▁▁▁▁▁▁▁▁▁▁▁▁▁▁▁▁▁▁▁</td></tr><tr><td>train_loss/14</td><td>█▃▂▂▂▂▂▂▂▂▂▂▂▂▂▂▂▂▁▁▁▁▁▁▁▁▁▁▁▁▁▁▁▁▁▁▁▁▁▁</td></tr><tr><td>train_loss/2</td><td>█▃▁▁▁▁▁▁▁▁▁▁▁▁▁▁▁▁▁▁▁▁▁▁▁▁▁▁▁▁▁▁▁▁▁▁▁▁▁▁</td></tr><tr><td>train_loss/3</td><td>█▃▁▁▁▁▁▁▁▁▁▁▁▁▁▁▁▁▁▁▁▁▁▁▁▁▁▁▁▁▁▁▁▁▁▁▁▁▁▁</td></tr><tr><td>train_loss/4</td><td>█▃▁▁▁▁▁▁▁▁▁▁▁▁▁▁▁▁▁▁▁▁▁▁▁▁▁▁▁▁▁▁▁▁▁▁▁▁▁▁</td></tr><tr><td>train_loss/5</td><td>█▃▃▃▃▃▂▂▂▂▂▂▂▂▂▂▂▂▂▂▂▂▂▂▁▁▁▁▁▁▁▁▁▁▁▁▁▁▁▁</td></tr><tr><td>train_loss/6</td><td>█▃▃▂▂▂▂▂▂▂▂▂▂▂▂▂▂▂▂▂▁▁▁▁▁▁▁▁▁▁▁▁▁▁▁▁▁▁▁▁</td></tr><tr><td>train_loss/7</td><td>█▃▃▃▂▂▂▂▂▂▂▂▂▂▂▂▂▂▂▂▁▁▁▁▁▁▁▁▁▁▁▁▁▁▁▁▁▁▁▁</td></tr><tr><td>train_loss/8</td><td>█▃▂▂▂▂▂▂▂▂▂▂▂▂▂▂▂▂▁▁▁▁▁▁▁▁▁▁▁▁▁▁▁▁▁▁▁▁▁▁</td></tr><tr><td>train_loss/9</td><td>█▃▃▃▂▂▂▂▂▂▂▂▂▂▂▂▂▂▂▂▁▁▁▁▁▁▁▁▁▁▁▁▁▁▁▁▁▁▁▁</td></tr><tr><td>val_loss/0</td><td>█▆▄▄▃▃▃▃▃▂▂▂▂▂▂▂▁▁▁▂▁▂▂▁▁▁▁▁▁▂▁▁▁▁▁▂▁▁▁▁</td></tr><tr><td>val_loss/1</td><td>█▇▅▅▄▄▃▃▃▃▃▃▂▂▂▂▂▂▂▂▁▂▂▂▁▁▁▁▁▂▂▁▁▁▁▁▁▁▁▁</td></tr><tr><td>val_loss/10</td><td>█▇▆▆▆▅▅▅▅▄▄▄▄▄▃▄▃▃▃▃▃▃▂▂▂▂▂▃▂▂▂▂▂▂▁▂▂▁▁▁</td></tr><tr><td>val_loss/11</td><td>█▇▆▆▅▅▅▅▅▄▄▄▄▄▃▃▃▃▃▃▃▂▂▂▂▂▂▂▂▂▂▂▂▁▁▁▁▁▁▁</td></tr><tr><td>val_loss/12</td><td>█▇▆▆▅▅▅▅▅▄▄▄▄▄▃▃▃▃▃▃▃▃▂▂▂▂▂▂▂▂▂▂▂▂▁▁▁▁▁▁</td></tr><tr><td>val_loss/13</td><td>█▇▆▅▅▅▅▄▄▄▄▄▃▃▃▃▃▃▃▃▃▃▂▂▂▂▂▂▂▁▂▁▁▁▁▁▁▁▁▁</td></tr><tr><td>val_loss/14</td><td>█▇▆▆▆▆▅▅▅▅▅▄▄▄▄▄▃▃▃▃▃▃▃▃▃▂▂▂▂▂▂▁▂▁▁▂▁▁▁▁</td></tr><tr><td>val_loss/2</td><td>█▇▅▅▄▄▃▃▃▃▃▃▃▂▂▂▂▂▂▂▂▂▂▂▁▁▁▁▁▁▁▁▁▁▁▁▁▁▁▁</td></tr><tr><td>val_loss/3</td><td>█▇▅▅▄▄▃▃▃▃▃▃▂▂▂▂▂▂▂▂▂▂▁▂▁▁▁▁▁▂▁▁▁▁▁▁▁▁▁▁</td></tr><tr><td>val_loss/4</td><td>▁▁▁▁▁▂▂▂▂▂▂▂▂▂▂▂▂▂▂▂▂▂▂▂▂▂▂▂▂▂▂▂▂▂▂▃▃▄▆█</td></tr><tr><td>val_loss/5</td><td>█▇▆▆▆▅▅▅▅▄▄▄▄▄▄▄▃▃▃▃▃▃▃▃▂▂▂▂▂▂▂▁▂▁▁▁▁▁▁▁</td></tr><tr><td>val_loss/6</td><td>█▇▇▆▆▆▅▅▅▅▄▄▄▄▃▄▃▄▃▃▃▃▃▂▂▂▂▂▂▂▂▂▂▂▁▁▁▁▁▁</td></tr><tr><td>val_loss/7</td><td>█▇▆▆▆▆▅▅▅▅▅▄▄▄▄▃▃▃▃▃▃▃▃▂▂▂▂▂▂▂▂▂▂▂▁▁▁▁▁▁</td></tr><tr><td>val_loss/8</td><td>█▇▆▆▆▆▅▅▅▄▄▄▄▃▃▃▃▃▃▃▃▃▂▂▂▂▂▂▂▂▂▂▁▁▁▁▁▁▁▁</td></tr><tr><td>val_loss/9</td><td>█▇▆▆▅▅▅▅▄▄▄▄▄▄▄▃▃▄▄▃▃▃▃▃▂▃▂▂▂▂▂▂▂▂▁▁▁▁▁▁</td></tr></table><br/></div><div class=\"wandb-col\">\n",
              "<h3>Run summary:</h3><br/><table class=\"wandb\"><tr><td>epoch</td><td>60</td></tr><tr><td>lr</td><td>0.00054</td></tr><tr><td>overall_loss</td><td>0.74854</td></tr><tr><td>random_seed</td><td>106932713</td></tr><tr><td>train_loss/0</td><td>0.7434</td></tr><tr><td>train_loss/1</td><td>0.7521</td></tr><tr><td>train_loss/10</td><td>0.74486</td></tr><tr><td>train_loss/11</td><td>0.74927</td></tr><tr><td>train_loss/12</td><td>0.74945</td></tr><tr><td>train_loss/13</td><td>0.75004</td></tr><tr><td>train_loss/14</td><td>0.74865</td></tr><tr><td>train_loss/2</td><td>0.75373</td></tr><tr><td>train_loss/3</td><td>0.75074</td></tr><tr><td>train_loss/4</td><td>0.74939</td></tr><tr><td>train_loss/5</td><td>0.74457</td></tr><tr><td>train_loss/6</td><td>0.74926</td></tr><tr><td>train_loss/7</td><td>0.75081</td></tr><tr><td>train_loss/8</td><td>0.75011</td></tr><tr><td>train_loss/9</td><td>0.74811</td></tr><tr><td>val_loss/0</td><td>0.77098</td></tr><tr><td>val_loss/1</td><td>0.77264</td></tr><tr><td>val_loss/10</td><td>0.74189</td></tr><tr><td>val_loss/11</td><td>0.74745</td></tr><tr><td>val_loss/12</td><td>0.75247</td></tr><tr><td>val_loss/13</td><td>0.75063</td></tr><tr><td>val_loss/14</td><td>0.75025</td></tr><tr><td>val_loss/2</td><td>0.77229</td></tr><tr><td>val_loss/3</td><td>0.77623</td></tr><tr><td>val_loss/4</td><td>0.93463</td></tr><tr><td>val_loss/5</td><td>0.73759</td></tr><tr><td>val_loss/6</td><td>0.74893</td></tr><tr><td>val_loss/7</td><td>0.75344</td></tr><tr><td>val_loss/8</td><td>0.75422</td></tr><tr><td>val_loss/9</td><td>0.75169</td></tr></table>\n",
              "</div></div>\n",
              "Synced 5 W&B file(s), 0 media file(s), 0 artifact file(s) and 0 other file(s)\n",
              "<br/>Synced <strong style=\"color:#cdcd00\">bright-sweep-51</strong>: <a href=\"https://wandb.ai/krankile/weight-net/runs/67r5uq47\" target=\"_blank\">https://wandb.ai/krankile/weight-net/runs/67r5uq47</a><br/>\n",
              "Find logs at: <code>./wandb/run-20211212_040153-67r5uq47/logs</code><br/>\n"
            ],
            "text/plain": [
              "<IPython.core.display.HTML object>"
            ]
          },
          "metadata": {}
        },
        {
          "output_type": "stream",
          "name": "stderr",
          "text": [
            "\u001b[34m\u001b[1mwandb\u001b[0m: Agent Starting Run: lgmx3aa6 with config:\n",
            "\u001b[34m\u001b[1mwandb\u001b[0m: \tbatch_size: 1024\n",
            "\u001b[34m\u001b[1mwandb\u001b[0m: \tdropout: 0.674445141536874\n",
            "\u001b[34m\u001b[1mwandb\u001b[0m: \tepochs: 148\n",
            "\u001b[34m\u001b[1mwandb\u001b[0m: \thidden_dim: 192\n",
            "\u001b[34m\u001b[1mwandb\u001b[0m: \tlearning_rate: 5.644574410837081e-05\n",
            "\u001b[34m\u001b[1mwandb\u001b[0m: \tn_hidden: 4\n",
            "\u001b[34m\u001b[1mwandb\u001b[0m: \tweight_decay: 0.0001309226140893589\n"
          ]
        },
        {
          "output_type": "display_data",
          "data": {
            "text/html": [
              "\n",
              "                    Syncing run <strong><a href=\"https://wandb.ai/krankile/weight-net/runs/lgmx3aa6\" target=\"_blank\">eager-sweep-56</a></strong> to <a href=\"https://wandb.ai/krankile/weight-net\" target=\"_blank\">Weights & Biases</a> (<a href=\"https://docs.wandb.com/integrations/jupyter.html\" target=\"_blank\">docs</a>).<br/>\n",
              "Sweep page: <a href=\"https://wandb.ai/krankile/weight-net/sweeps/4r44tbf3\" target=\"_blank\">https://wandb.ai/krankile/weight-net/sweeps/4r44tbf3</a><br/>\n",
              "\n",
              "                "
            ],
            "text/plain": [
              "<IPython.core.display.HTML object>"
            ]
          },
          "metadata": {}
        },
        {
          "output_type": "stream",
          "name": "stdout",
          "text": [
            "{'batch_size': 1024, 'dropout': 0.674445141536874, 'epochs': 148, 'hidden_dim': 192, 'learning_rate': 5.644574410837081e-05, 'n_hidden': 4, 'weight_decay': 0.0001309226140893589, 'k': 5, 'optimizer': 'adamw', 'architecture': 'WeightNetV4', 'data': 'ensemble_traval:non-standard', 'data_split': 'traval_split_80_20:v0', 'loss_func': 'owa', 'bn': False, 'feature_set': 'ma', 'act': 'leaky', 'num_models': 14, 'schedule': None}\n"
          ]
        },
        {
          "output_type": "stream",
          "name": "stderr",
          "text": [
            "\u001b[34m\u001b[1mwandb\u001b[0m: Downloading large artifact ensemble_traval:non-standard, 119.61MB. 1 files... Done. 0:0:0\n"
          ]
        },
        {
          "output_type": "stream",
          "name": "stdout",
          "text": [
            "CPU count: 2\n",
            "Loaded df of shape (79996, 801)\n",
            "Loaded df of shape (19999, 801)\n",
            "Moving model to device: cuda\n"
          ]
        },
        {
          "output_type": "stream",
          "name": "stderr",
          "text": [
            "Fold 1 of 5: 100%|██████████| 148/148 [12:57<00:00,  5.26s/it, train_loss=0.764, val_loss=0.779, lr=5.64e-05]\n"
          ]
        },
        {
          "output_type": "stream",
          "name": "stdout",
          "text": [
            "CPU count: 2\n",
            "Loaded df of shape (79996, 801)\n",
            "Loaded df of shape (19999, 801)\n",
            "Moving model to device: cuda\n"
          ]
        },
        {
          "output_type": "stream",
          "name": "stderr",
          "text": [
            "Fold 2 of 5: 100%|██████████| 148/148 [13:51<00:00,  5.62s/it, train_loss=0.771, val_loss=0.781, lr=5.64e-05]\n"
          ]
        },
        {
          "output_type": "stream",
          "name": "stdout",
          "text": [
            "CPU count: 2\n",
            "Loaded df of shape (79996, 801)\n",
            "Loaded df of shape (19999, 801)\n",
            "Moving model to device: cuda\n"
          ]
        },
        {
          "output_type": "stream",
          "name": "stderr",
          "text": [
            "Fold 3 of 5: 100%|██████████| 148/148 [14:05<00:00,  5.71s/it, train_loss=0.773, val_loss=0.781, lr=5.64e-05]\n"
          ]
        },
        {
          "output_type": "stream",
          "name": "stdout",
          "text": [
            "CPU count: 2\n",
            "Loaded df of shape (79996, 801)\n",
            "Loaded df of shape (19999, 801)\n",
            "Moving model to device: cuda\n"
          ]
        },
        {
          "output_type": "stream",
          "name": "stderr",
          "text": [
            "Fold 4 of 5: 100%|██████████| 148/148 [14:16<00:00,  5.79s/it, train_loss=0.773, val_loss=0.783, lr=5.64e-05]\n"
          ]
        },
        {
          "output_type": "stream",
          "name": "stdout",
          "text": [
            "CPU count: 2\n",
            "Loaded df of shape (79996, 801)\n",
            "Loaded df of shape (19999, 801)\n",
            "Moving model to device: cuda\n"
          ]
        },
        {
          "output_type": "stream",
          "name": "stderr",
          "text": [
            "Fold 5 of 5: 100%|██████████| 148/148 [13:56<00:00,  5.65s/it, train_loss=0.771, val_loss=0.846, lr=5.64e-05]\n"
          ]
        },
        {
          "output_type": "stream",
          "name": "stdout",
          "text": [
            "CPU count: 2\n",
            "Loaded df of shape (99995, 801)\n",
            "Loaded df of shape (19999, 801)\n",
            "Moving model to device: cuda\n"
          ]
        },
        {
          "output_type": "stream",
          "name": "stderr",
          "text": [
            "Fold 6 of 5: 100%|██████████| 148/148 [16:43<00:00,  6.78s/it, train_loss=0.761, val_loss=0.755, lr=5.64e-05]\n"
          ]
        },
        {
          "output_type": "stream",
          "name": "stdout",
          "text": [
            "CPU count: 2\n",
            "Loaded df of shape (99995, 801)\n",
            "Loaded df of shape (19999, 801)\n",
            "Moving model to device: cuda\n"
          ]
        },
        {
          "output_type": "stream",
          "name": "stderr",
          "text": [
            "Fold 7 of 5: 100%|██████████| 148/148 [16:04<00:00,  6.52s/it, train_loss=0.768, val_loss=0.769, lr=5.64e-05]\n"
          ]
        },
        {
          "output_type": "stream",
          "name": "stdout",
          "text": [
            "CPU count: 2\n",
            "Loaded df of shape (99995, 801)\n",
            "Loaded df of shape (19999, 801)\n",
            "Moving model to device: cuda\n"
          ]
        },
        {
          "output_type": "stream",
          "name": "stderr",
          "text": [
            "Fold 8 of 5: 100%|██████████| 148/148 [16:13<00:00,  6.57s/it, train_loss=0.769, val_loss=0.771, lr=5.64e-05]\n"
          ]
        },
        {
          "output_type": "stream",
          "name": "stdout",
          "text": [
            "CPU count: 2\n",
            "Loaded df of shape (99995, 801)\n",
            "Loaded df of shape (19999, 801)\n",
            "Moving model to device: cuda\n"
          ]
        },
        {
          "output_type": "stream",
          "name": "stderr",
          "text": [
            "Fold 9 of 5: 100%|██████████| 148/148 [15:43<00:00,  6.37s/it, train_loss=0.769, val_loss=0.772, lr=5.64e-05]\n"
          ]
        },
        {
          "output_type": "stream",
          "name": "stdout",
          "text": [
            "CPU count: 2\n",
            "Loaded df of shape (99995, 801)\n",
            "Loaded df of shape (19999, 801)\n",
            "Moving model to device: cuda\n"
          ]
        },
        {
          "output_type": "stream",
          "name": "stderr",
          "text": [
            "Fold 10 of 5: 100%|██████████| 148/148 [15:00<00:00,  6.08s/it, train_loss=0.768, val_loss=0.775, lr=5.64e-05]\n"
          ]
        },
        {
          "output_type": "stream",
          "name": "stdout",
          "text": [
            "CPU count: 2\n",
            "Loaded df of shape (99995, 801)\n",
            "Loaded df of shape (19999, 801)\n",
            "Moving model to device: cuda\n"
          ]
        },
        {
          "output_type": "stream",
          "name": "stderr",
          "text": [
            "Fold 11 of 5: 100%|██████████| 148/148 [15:04<00:00,  6.11s/it, train_loss=0.763, val_loss=0.763, lr=5.64e-05]\n"
          ]
        },
        {
          "output_type": "stream",
          "name": "stdout",
          "text": [
            "CPU count: 2\n",
            "Loaded df of shape (99995, 801)\n",
            "Loaded df of shape (19999, 801)\n",
            "Moving model to device: cuda\n"
          ]
        },
        {
          "output_type": "stream",
          "name": "stderr",
          "text": [
            "Fold 12 of 5: 100%|██████████| 148/148 [15:22<00:00,  6.23s/it, train_loss=0.768, val_loss=0.765, lr=5.64e-05]\n"
          ]
        },
        {
          "output_type": "stream",
          "name": "stdout",
          "text": [
            "CPU count: 2\n",
            "Loaded df of shape (99995, 801)\n",
            "Loaded df of shape (19999, 801)\n",
            "Moving model to device: cuda\n"
          ]
        },
        {
          "output_type": "stream",
          "name": "stderr",
          "text": [
            "Fold 13 of 5:  60%|██████    | 89/148 [09:11<06:12,  6.32s/it, train_loss=0.779, val_loss=0.783, lr=5.64e-05]"
          ]
        }
      ],
      "source": [
        "sweepid = \"krankile/weight-net/4r44tbf3\"\n",
        "enablewb = True\n",
        "project = \"weight-net\"\n",
        "usecv = True\n",
        "\n",
        "train_func, config = (train_kfold, kfold_config) if usecv else (train, norm_config)\n",
        "\n",
        "if sweepid:\n",
        "    count = 500 # number of runs to execute\n",
        "    wb.agent(sweepid, function=partial(train_func, config=config), count=count)\n",
        "else:\n",
        "    res = train_func(config=config, project=project, entity=\"krankile\", enablewb=enablewb)"
      ]
    },
    {
      "cell_type": "code",
      "execution_count": null,
      "metadata": {
        "colab": {
          "background_save": true
        },
        "id": "ZHSDEPVJ0Wno"
      },
      "outputs": [],
      "source": [
        ""
      ]
    }
  ],
  "metadata": {
    "accelerator": "GPU",
    "colab": {
      "collapsed_sections": [
        "KMfvZQ5aMnPu",
        "h7-FhB-RV27-"
      ],
      "name": "2_fit_weight_net.ipynb",
      "provenance": [],
      "include_colab_link": true
    },
    "kernelspec": {
      "display_name": "Python 3",
      "name": "python3"
    },
    "language_info": {
      "name": "python"
    },
    "widgets": {
      "application/vnd.jupyter.widget-state+json": {
        "e7f83a1c27064c4b98c2132c4cc6cf71": {
          "model_module": "@jupyter-widgets/controls",
          "model_name": "VBoxModel",
          "model_module_version": "1.5.0",
          "state": {
            "_view_name": "VBoxView",
            "_dom_classes": [],
            "_model_name": "VBoxModel",
            "_view_module": "@jupyter-widgets/controls",
            "_model_module_version": "1.5.0",
            "_view_count": null,
            "_view_module_version": "1.5.0",
            "box_style": "",
            "layout": "IPY_MODEL_d5bda7085bd64a33aa92e5fd1ddf02f5",
            "_model_module": "@jupyter-widgets/controls",
            "children": [
              "IPY_MODEL_528b7118a5b943439596214bc8e0ef8b",
              "IPY_MODEL_f12239c99075485785b0f31bdee8a9d6"
            ]
          }
        },
        "d5bda7085bd64a33aa92e5fd1ddf02f5": {
          "model_module": "@jupyter-widgets/base",
          "model_name": "LayoutModel",
          "model_module_version": "1.2.0",
          "state": {
            "_view_name": "LayoutView",
            "grid_template_rows": null,
            "right": null,
            "justify_content": null,
            "_view_module": "@jupyter-widgets/base",
            "overflow": null,
            "_model_module_version": "1.2.0",
            "_view_count": null,
            "flex_flow": null,
            "width": null,
            "min_width": null,
            "border": null,
            "align_items": null,
            "bottom": null,
            "_model_module": "@jupyter-widgets/base",
            "top": null,
            "grid_column": null,
            "overflow_y": null,
            "overflow_x": null,
            "grid_auto_flow": null,
            "grid_area": null,
            "grid_template_columns": null,
            "flex": null,
            "_model_name": "LayoutModel",
            "justify_items": null,
            "grid_row": null,
            "max_height": null,
            "align_content": null,
            "visibility": null,
            "align_self": null,
            "height": null,
            "min_height": null,
            "padding": null,
            "grid_auto_rows": null,
            "grid_gap": null,
            "max_width": null,
            "order": null,
            "_view_module_version": "1.2.0",
            "grid_template_areas": null,
            "object_position": null,
            "object_fit": null,
            "grid_auto_columns": null,
            "margin": null,
            "display": null,
            "left": null
          }
        },
        "528b7118a5b943439596214bc8e0ef8b": {
          "model_module": "@jupyter-widgets/controls",
          "model_name": "LabelModel",
          "model_module_version": "1.5.0",
          "state": {
            "_view_name": "LabelView",
            "style": "IPY_MODEL_4ddf9141cc3d4dd6a0e6edc8536e7696",
            "_dom_classes": [],
            "description": "",
            "_model_name": "LabelModel",
            "placeholder": "​",
            "_view_module": "@jupyter-widgets/controls",
            "_model_module_version": "1.5.0",
            "value": " 0.01MB of 0.01MB uploaded (0.00MB deduped)\r",
            "_view_count": null,
            "_view_module_version": "1.5.0",
            "description_tooltip": null,
            "_model_module": "@jupyter-widgets/controls",
            "layout": "IPY_MODEL_9a5b09ce87ec4f459a316ab882768c45"
          }
        },
        "f12239c99075485785b0f31bdee8a9d6": {
          "model_module": "@jupyter-widgets/controls",
          "model_name": "FloatProgressModel",
          "model_module_version": "1.5.0",
          "state": {
            "_view_name": "ProgressView",
            "style": "IPY_MODEL_c54f1f3c915b4dd29fe7201c0766f6b1",
            "_dom_classes": [],
            "description": "",
            "_model_name": "FloatProgressModel",
            "bar_style": "",
            "max": 1,
            "_view_module": "@jupyter-widgets/controls",
            "_model_module_version": "1.5.0",
            "value": 1,
            "_view_count": null,
            "_view_module_version": "1.5.0",
            "orientation": "horizontal",
            "min": 0,
            "description_tooltip": null,
            "_model_module": "@jupyter-widgets/controls",
            "layout": "IPY_MODEL_c2fb62d2e33342a0aed4e151124b7634"
          }
        },
        "4ddf9141cc3d4dd6a0e6edc8536e7696": {
          "model_module": "@jupyter-widgets/controls",
          "model_name": "DescriptionStyleModel",
          "model_module_version": "1.5.0",
          "state": {
            "_view_name": "StyleView",
            "_model_name": "DescriptionStyleModel",
            "description_width": "",
            "_view_module": "@jupyter-widgets/base",
            "_model_module_version": "1.5.0",
            "_view_count": null,
            "_view_module_version": "1.2.0",
            "_model_module": "@jupyter-widgets/controls"
          }
        },
        "9a5b09ce87ec4f459a316ab882768c45": {
          "model_module": "@jupyter-widgets/base",
          "model_name": "LayoutModel",
          "model_module_version": "1.2.0",
          "state": {
            "_view_name": "LayoutView",
            "grid_template_rows": null,
            "right": null,
            "justify_content": null,
            "_view_module": "@jupyter-widgets/base",
            "overflow": null,
            "_model_module_version": "1.2.0",
            "_view_count": null,
            "flex_flow": null,
            "width": null,
            "min_width": null,
            "border": null,
            "align_items": null,
            "bottom": null,
            "_model_module": "@jupyter-widgets/base",
            "top": null,
            "grid_column": null,
            "overflow_y": null,
            "overflow_x": null,
            "grid_auto_flow": null,
            "grid_area": null,
            "grid_template_columns": null,
            "flex": null,
            "_model_name": "LayoutModel",
            "justify_items": null,
            "grid_row": null,
            "max_height": null,
            "align_content": null,
            "visibility": null,
            "align_self": null,
            "height": null,
            "min_height": null,
            "padding": null,
            "grid_auto_rows": null,
            "grid_gap": null,
            "max_width": null,
            "order": null,
            "_view_module_version": "1.2.0",
            "grid_template_areas": null,
            "object_position": null,
            "object_fit": null,
            "grid_auto_columns": null,
            "margin": null,
            "display": null,
            "left": null
          }
        },
        "c54f1f3c915b4dd29fe7201c0766f6b1": {
          "model_module": "@jupyter-widgets/controls",
          "model_name": "ProgressStyleModel",
          "model_module_version": "1.5.0",
          "state": {
            "_view_name": "StyleView",
            "_model_name": "ProgressStyleModel",
            "description_width": "",
            "_view_module": "@jupyter-widgets/base",
            "_model_module_version": "1.5.0",
            "_view_count": null,
            "_view_module_version": "1.2.0",
            "bar_color": null,
            "_model_module": "@jupyter-widgets/controls"
          }
        },
        "c2fb62d2e33342a0aed4e151124b7634": {
          "model_module": "@jupyter-widgets/base",
          "model_name": "LayoutModel",
          "model_module_version": "1.2.0",
          "state": {
            "_view_name": "LayoutView",
            "grid_template_rows": null,
            "right": null,
            "justify_content": null,
            "_view_module": "@jupyter-widgets/base",
            "overflow": null,
            "_model_module_version": "1.2.0",
            "_view_count": null,
            "flex_flow": null,
            "width": null,
            "min_width": null,
            "border": null,
            "align_items": null,
            "bottom": null,
            "_model_module": "@jupyter-widgets/base",
            "top": null,
            "grid_column": null,
            "overflow_y": null,
            "overflow_x": null,
            "grid_auto_flow": null,
            "grid_area": null,
            "grid_template_columns": null,
            "flex": null,
            "_model_name": "LayoutModel",
            "justify_items": null,
            "grid_row": null,
            "max_height": null,
            "align_content": null,
            "visibility": null,
            "align_self": null,
            "height": null,
            "min_height": null,
            "padding": null,
            "grid_auto_rows": null,
            "grid_gap": null,
            "max_width": null,
            "order": null,
            "_view_module_version": "1.2.0",
            "grid_template_areas": null,
            "object_position": null,
            "object_fit": null,
            "grid_auto_columns": null,
            "margin": null,
            "display": null,
            "left": null
          }
        },
        "ab2d51711990422f81f3adfa165335c3": {
          "model_module": "@jupyter-widgets/controls",
          "model_name": "VBoxModel",
          "model_module_version": "1.5.0",
          "state": {
            "_view_name": "VBoxView",
            "_dom_classes": [],
            "_model_name": "VBoxModel",
            "_view_module": "@jupyter-widgets/controls",
            "_model_module_version": "1.5.0",
            "_view_count": null,
            "_view_module_version": "1.5.0",
            "box_style": "",
            "layout": "IPY_MODEL_425c509d86794efda15365dba169075a",
            "_model_module": "@jupyter-widgets/controls",
            "children": [
              "IPY_MODEL_5682fdd04b8540a380de83e0879354e7",
              "IPY_MODEL_ec3a2379e2ef4959a25dab771283b03e"
            ]
          }
        },
        "425c509d86794efda15365dba169075a": {
          "model_module": "@jupyter-widgets/base",
          "model_name": "LayoutModel",
          "model_module_version": "1.2.0",
          "state": {
            "_view_name": "LayoutView",
            "grid_template_rows": null,
            "right": null,
            "justify_content": null,
            "_view_module": "@jupyter-widgets/base",
            "overflow": null,
            "_model_module_version": "1.2.0",
            "_view_count": null,
            "flex_flow": null,
            "width": null,
            "min_width": null,
            "border": null,
            "align_items": null,
            "bottom": null,
            "_model_module": "@jupyter-widgets/base",
            "top": null,
            "grid_column": null,
            "overflow_y": null,
            "overflow_x": null,
            "grid_auto_flow": null,
            "grid_area": null,
            "grid_template_columns": null,
            "flex": null,
            "_model_name": "LayoutModel",
            "justify_items": null,
            "grid_row": null,
            "max_height": null,
            "align_content": null,
            "visibility": null,
            "align_self": null,
            "height": null,
            "min_height": null,
            "padding": null,
            "grid_auto_rows": null,
            "grid_gap": null,
            "max_width": null,
            "order": null,
            "_view_module_version": "1.2.0",
            "grid_template_areas": null,
            "object_position": null,
            "object_fit": null,
            "grid_auto_columns": null,
            "margin": null,
            "display": null,
            "left": null
          }
        },
        "5682fdd04b8540a380de83e0879354e7": {
          "model_module": "@jupyter-widgets/controls",
          "model_name": "LabelModel",
          "model_module_version": "1.5.0",
          "state": {
            "_view_name": "LabelView",
            "style": "IPY_MODEL_e1552bc88d1942b6a6439cd329e20eba",
            "_dom_classes": [],
            "description": "",
            "_model_name": "LabelModel",
            "placeholder": "​",
            "_view_module": "@jupyter-widgets/controls",
            "_model_module_version": "1.5.0",
            "value": " 0.01MB of 0.01MB uploaded (0.00MB deduped)\r",
            "_view_count": null,
            "_view_module_version": "1.5.0",
            "description_tooltip": null,
            "_model_module": "@jupyter-widgets/controls",
            "layout": "IPY_MODEL_d41734af971147cda90653e9b26d2f50"
          }
        },
        "ec3a2379e2ef4959a25dab771283b03e": {
          "model_module": "@jupyter-widgets/controls",
          "model_name": "FloatProgressModel",
          "model_module_version": "1.5.0",
          "state": {
            "_view_name": "ProgressView",
            "style": "IPY_MODEL_f93be78fed2a4127b0f1dcd357a9bed8",
            "_dom_classes": [],
            "description": "",
            "_model_name": "FloatProgressModel",
            "bar_style": "",
            "max": 1,
            "_view_module": "@jupyter-widgets/controls",
            "_model_module_version": "1.5.0",
            "value": 1,
            "_view_count": null,
            "_view_module_version": "1.5.0",
            "orientation": "horizontal",
            "min": 0,
            "description_tooltip": null,
            "_model_module": "@jupyter-widgets/controls",
            "layout": "IPY_MODEL_a9a1f64ee4f4435281d2c2a1a9290220"
          }
        },
        "e1552bc88d1942b6a6439cd329e20eba": {
          "model_module": "@jupyter-widgets/controls",
          "model_name": "DescriptionStyleModel",
          "model_module_version": "1.5.0",
          "state": {
            "_view_name": "StyleView",
            "_model_name": "DescriptionStyleModel",
            "description_width": "",
            "_view_module": "@jupyter-widgets/base",
            "_model_module_version": "1.5.0",
            "_view_count": null,
            "_view_module_version": "1.2.0",
            "_model_module": "@jupyter-widgets/controls"
          }
        },
        "d41734af971147cda90653e9b26d2f50": {
          "model_module": "@jupyter-widgets/base",
          "model_name": "LayoutModel",
          "model_module_version": "1.2.0",
          "state": {
            "_view_name": "LayoutView",
            "grid_template_rows": null,
            "right": null,
            "justify_content": null,
            "_view_module": "@jupyter-widgets/base",
            "overflow": null,
            "_model_module_version": "1.2.0",
            "_view_count": null,
            "flex_flow": null,
            "width": null,
            "min_width": null,
            "border": null,
            "align_items": null,
            "bottom": null,
            "_model_module": "@jupyter-widgets/base",
            "top": null,
            "grid_column": null,
            "overflow_y": null,
            "overflow_x": null,
            "grid_auto_flow": null,
            "grid_area": null,
            "grid_template_columns": null,
            "flex": null,
            "_model_name": "LayoutModel",
            "justify_items": null,
            "grid_row": null,
            "max_height": null,
            "align_content": null,
            "visibility": null,
            "align_self": null,
            "height": null,
            "min_height": null,
            "padding": null,
            "grid_auto_rows": null,
            "grid_gap": null,
            "max_width": null,
            "order": null,
            "_view_module_version": "1.2.0",
            "grid_template_areas": null,
            "object_position": null,
            "object_fit": null,
            "grid_auto_columns": null,
            "margin": null,
            "display": null,
            "left": null
          }
        },
        "f93be78fed2a4127b0f1dcd357a9bed8": {
          "model_module": "@jupyter-widgets/controls",
          "model_name": "ProgressStyleModel",
          "model_module_version": "1.5.0",
          "state": {
            "_view_name": "StyleView",
            "_model_name": "ProgressStyleModel",
            "description_width": "",
            "_view_module": "@jupyter-widgets/base",
            "_model_module_version": "1.5.0",
            "_view_count": null,
            "_view_module_version": "1.2.0",
            "bar_color": null,
            "_model_module": "@jupyter-widgets/controls"
          }
        },
        "a9a1f64ee4f4435281d2c2a1a9290220": {
          "model_module": "@jupyter-widgets/base",
          "model_name": "LayoutModel",
          "model_module_version": "1.2.0",
          "state": {
            "_view_name": "LayoutView",
            "grid_template_rows": null,
            "right": null,
            "justify_content": null,
            "_view_module": "@jupyter-widgets/base",
            "overflow": null,
            "_model_module_version": "1.2.0",
            "_view_count": null,
            "flex_flow": null,
            "width": null,
            "min_width": null,
            "border": null,
            "align_items": null,
            "bottom": null,
            "_model_module": "@jupyter-widgets/base",
            "top": null,
            "grid_column": null,
            "overflow_y": null,
            "overflow_x": null,
            "grid_auto_flow": null,
            "grid_area": null,
            "grid_template_columns": null,
            "flex": null,
            "_model_name": "LayoutModel",
            "justify_items": null,
            "grid_row": null,
            "max_height": null,
            "align_content": null,
            "visibility": null,
            "align_self": null,
            "height": null,
            "min_height": null,
            "padding": null,
            "grid_auto_rows": null,
            "grid_gap": null,
            "max_width": null,
            "order": null,
            "_view_module_version": "1.2.0",
            "grid_template_areas": null,
            "object_position": null,
            "object_fit": null,
            "grid_auto_columns": null,
            "margin": null,
            "display": null,
            "left": null
          }
        },
        "2381cc8ae9ce48bf9e49232fe5ca9b77": {
          "model_module": "@jupyter-widgets/controls",
          "model_name": "VBoxModel",
          "model_module_version": "1.5.0",
          "state": {
            "_view_name": "VBoxView",
            "_dom_classes": [],
            "_model_name": "VBoxModel",
            "_view_module": "@jupyter-widgets/controls",
            "_model_module_version": "1.5.0",
            "_view_count": null,
            "_view_module_version": "1.5.0",
            "box_style": "",
            "layout": "IPY_MODEL_b593d73afa2346e386f0c32663f778c8",
            "_model_module": "@jupyter-widgets/controls",
            "children": [
              "IPY_MODEL_1172c95962e14ce7befe7d998f178b08",
              "IPY_MODEL_a3de2fed7345463588d3564bdbe703e6"
            ]
          }
        },
        "b593d73afa2346e386f0c32663f778c8": {
          "model_module": "@jupyter-widgets/base",
          "model_name": "LayoutModel",
          "model_module_version": "1.2.0",
          "state": {
            "_view_name": "LayoutView",
            "grid_template_rows": null,
            "right": null,
            "justify_content": null,
            "_view_module": "@jupyter-widgets/base",
            "overflow": null,
            "_model_module_version": "1.2.0",
            "_view_count": null,
            "flex_flow": null,
            "width": null,
            "min_width": null,
            "border": null,
            "align_items": null,
            "bottom": null,
            "_model_module": "@jupyter-widgets/base",
            "top": null,
            "grid_column": null,
            "overflow_y": null,
            "overflow_x": null,
            "grid_auto_flow": null,
            "grid_area": null,
            "grid_template_columns": null,
            "flex": null,
            "_model_name": "LayoutModel",
            "justify_items": null,
            "grid_row": null,
            "max_height": null,
            "align_content": null,
            "visibility": null,
            "align_self": null,
            "height": null,
            "min_height": null,
            "padding": null,
            "grid_auto_rows": null,
            "grid_gap": null,
            "max_width": null,
            "order": null,
            "_view_module_version": "1.2.0",
            "grid_template_areas": null,
            "object_position": null,
            "object_fit": null,
            "grid_auto_columns": null,
            "margin": null,
            "display": null,
            "left": null
          }
        },
        "1172c95962e14ce7befe7d998f178b08": {
          "model_module": "@jupyter-widgets/controls",
          "model_name": "LabelModel",
          "model_module_version": "1.5.0",
          "state": {
            "_view_name": "LabelView",
            "style": "IPY_MODEL_7885814a8a4b4753a0a81ae4808adfb6",
            "_dom_classes": [],
            "description": "",
            "_model_name": "LabelModel",
            "placeholder": "​",
            "_view_module": "@jupyter-widgets/controls",
            "_model_module_version": "1.5.0",
            "value": " 0.01MB of 0.01MB uploaded (0.00MB deduped)\r",
            "_view_count": null,
            "_view_module_version": "1.5.0",
            "description_tooltip": null,
            "_model_module": "@jupyter-widgets/controls",
            "layout": "IPY_MODEL_0b2b9c9250c14ab58162eeed92efaf8c"
          }
        },
        "a3de2fed7345463588d3564bdbe703e6": {
          "model_module": "@jupyter-widgets/controls",
          "model_name": "FloatProgressModel",
          "model_module_version": "1.5.0",
          "state": {
            "_view_name": "ProgressView",
            "style": "IPY_MODEL_185ce7983cfa43d5803787d4d6eb24be",
            "_dom_classes": [],
            "description": "",
            "_model_name": "FloatProgressModel",
            "bar_style": "",
            "max": 1,
            "_view_module": "@jupyter-widgets/controls",
            "_model_module_version": "1.5.0",
            "value": 1,
            "_view_count": null,
            "_view_module_version": "1.5.0",
            "orientation": "horizontal",
            "min": 0,
            "description_tooltip": null,
            "_model_module": "@jupyter-widgets/controls",
            "layout": "IPY_MODEL_061f47d08b7240f980f3ce3c5e90dacd"
          }
        },
        "7885814a8a4b4753a0a81ae4808adfb6": {
          "model_module": "@jupyter-widgets/controls",
          "model_name": "DescriptionStyleModel",
          "model_module_version": "1.5.0",
          "state": {
            "_view_name": "StyleView",
            "_model_name": "DescriptionStyleModel",
            "description_width": "",
            "_view_module": "@jupyter-widgets/base",
            "_model_module_version": "1.5.0",
            "_view_count": null,
            "_view_module_version": "1.2.0",
            "_model_module": "@jupyter-widgets/controls"
          }
        },
        "0b2b9c9250c14ab58162eeed92efaf8c": {
          "model_module": "@jupyter-widgets/base",
          "model_name": "LayoutModel",
          "model_module_version": "1.2.0",
          "state": {
            "_view_name": "LayoutView",
            "grid_template_rows": null,
            "right": null,
            "justify_content": null,
            "_view_module": "@jupyter-widgets/base",
            "overflow": null,
            "_model_module_version": "1.2.0",
            "_view_count": null,
            "flex_flow": null,
            "width": null,
            "min_width": null,
            "border": null,
            "align_items": null,
            "bottom": null,
            "_model_module": "@jupyter-widgets/base",
            "top": null,
            "grid_column": null,
            "overflow_y": null,
            "overflow_x": null,
            "grid_auto_flow": null,
            "grid_area": null,
            "grid_template_columns": null,
            "flex": null,
            "_model_name": "LayoutModel",
            "justify_items": null,
            "grid_row": null,
            "max_height": null,
            "align_content": null,
            "visibility": null,
            "align_self": null,
            "height": null,
            "min_height": null,
            "padding": null,
            "grid_auto_rows": null,
            "grid_gap": null,
            "max_width": null,
            "order": null,
            "_view_module_version": "1.2.0",
            "grid_template_areas": null,
            "object_position": null,
            "object_fit": null,
            "grid_auto_columns": null,
            "margin": null,
            "display": null,
            "left": null
          }
        },
        "185ce7983cfa43d5803787d4d6eb24be": {
          "model_module": "@jupyter-widgets/controls",
          "model_name": "ProgressStyleModel",
          "model_module_version": "1.5.0",
          "state": {
            "_view_name": "StyleView",
            "_model_name": "ProgressStyleModel",
            "description_width": "",
            "_view_module": "@jupyter-widgets/base",
            "_model_module_version": "1.5.0",
            "_view_count": null,
            "_view_module_version": "1.2.0",
            "bar_color": null,
            "_model_module": "@jupyter-widgets/controls"
          }
        },
        "061f47d08b7240f980f3ce3c5e90dacd": {
          "model_module": "@jupyter-widgets/base",
          "model_name": "LayoutModel",
          "model_module_version": "1.2.0",
          "state": {
            "_view_name": "LayoutView",
            "grid_template_rows": null,
            "right": null,
            "justify_content": null,
            "_view_module": "@jupyter-widgets/base",
            "overflow": null,
            "_model_module_version": "1.2.0",
            "_view_count": null,
            "flex_flow": null,
            "width": null,
            "min_width": null,
            "border": null,
            "align_items": null,
            "bottom": null,
            "_model_module": "@jupyter-widgets/base",
            "top": null,
            "grid_column": null,
            "overflow_y": null,
            "overflow_x": null,
            "grid_auto_flow": null,
            "grid_area": null,
            "grid_template_columns": null,
            "flex": null,
            "_model_name": "LayoutModel",
            "justify_items": null,
            "grid_row": null,
            "max_height": null,
            "align_content": null,
            "visibility": null,
            "align_self": null,
            "height": null,
            "min_height": null,
            "padding": null,
            "grid_auto_rows": null,
            "grid_gap": null,
            "max_width": null,
            "order": null,
            "_view_module_version": "1.2.0",
            "grid_template_areas": null,
            "object_position": null,
            "object_fit": null,
            "grid_auto_columns": null,
            "margin": null,
            "display": null,
            "left": null
          }
        },
        "d2d2c6586b154ee78cbad3563d23b885": {
          "model_module": "@jupyter-widgets/controls",
          "model_name": "VBoxModel",
          "model_module_version": "1.5.0",
          "state": {
            "_view_name": "VBoxView",
            "_dom_classes": [],
            "_model_name": "VBoxModel",
            "_view_module": "@jupyter-widgets/controls",
            "_model_module_version": "1.5.0",
            "_view_count": null,
            "_view_module_version": "1.5.0",
            "box_style": "",
            "layout": "IPY_MODEL_561ba1ebc3fa42348e6702a314b6c846",
            "_model_module": "@jupyter-widgets/controls",
            "children": [
              "IPY_MODEL_5d5f9644dc4f4bf88adb6a49094c659a",
              "IPY_MODEL_d65b3d770ac1417ba37686fd0563d4fa"
            ]
          }
        },
        "561ba1ebc3fa42348e6702a314b6c846": {
          "model_module": "@jupyter-widgets/base",
          "model_name": "LayoutModel",
          "model_module_version": "1.2.0",
          "state": {
            "_view_name": "LayoutView",
            "grid_template_rows": null,
            "right": null,
            "justify_content": null,
            "_view_module": "@jupyter-widgets/base",
            "overflow": null,
            "_model_module_version": "1.2.0",
            "_view_count": null,
            "flex_flow": null,
            "width": null,
            "min_width": null,
            "border": null,
            "align_items": null,
            "bottom": null,
            "_model_module": "@jupyter-widgets/base",
            "top": null,
            "grid_column": null,
            "overflow_y": null,
            "overflow_x": null,
            "grid_auto_flow": null,
            "grid_area": null,
            "grid_template_columns": null,
            "flex": null,
            "_model_name": "LayoutModel",
            "justify_items": null,
            "grid_row": null,
            "max_height": null,
            "align_content": null,
            "visibility": null,
            "align_self": null,
            "height": null,
            "min_height": null,
            "padding": null,
            "grid_auto_rows": null,
            "grid_gap": null,
            "max_width": null,
            "order": null,
            "_view_module_version": "1.2.0",
            "grid_template_areas": null,
            "object_position": null,
            "object_fit": null,
            "grid_auto_columns": null,
            "margin": null,
            "display": null,
            "left": null
          }
        },
        "5d5f9644dc4f4bf88adb6a49094c659a": {
          "model_module": "@jupyter-widgets/controls",
          "model_name": "LabelModel",
          "model_module_version": "1.5.0",
          "state": {
            "_view_name": "LabelView",
            "style": "IPY_MODEL_e718c1ec8ad940b19066e8980eebdab2",
            "_dom_classes": [],
            "description": "",
            "_model_name": "LabelModel",
            "placeholder": "​",
            "_view_module": "@jupyter-widgets/controls",
            "_model_module_version": "1.5.0",
            "value": " 0.01MB of 0.01MB uploaded (0.00MB deduped)\r",
            "_view_count": null,
            "_view_module_version": "1.5.0",
            "description_tooltip": null,
            "_model_module": "@jupyter-widgets/controls",
            "layout": "IPY_MODEL_d32d5035e086486085c917eb88f7d791"
          }
        },
        "d65b3d770ac1417ba37686fd0563d4fa": {
          "model_module": "@jupyter-widgets/controls",
          "model_name": "FloatProgressModel",
          "model_module_version": "1.5.0",
          "state": {
            "_view_name": "ProgressView",
            "style": "IPY_MODEL_d9acfb3fc9b84d0cbcd6bf086224f92d",
            "_dom_classes": [],
            "description": "",
            "_model_name": "FloatProgressModel",
            "bar_style": "",
            "max": 1,
            "_view_module": "@jupyter-widgets/controls",
            "_model_module_version": "1.5.0",
            "value": 1,
            "_view_count": null,
            "_view_module_version": "1.5.0",
            "orientation": "horizontal",
            "min": 0,
            "description_tooltip": null,
            "_model_module": "@jupyter-widgets/controls",
            "layout": "IPY_MODEL_e7d8b9126dbd464496c648261c69868f"
          }
        },
        "e718c1ec8ad940b19066e8980eebdab2": {
          "model_module": "@jupyter-widgets/controls",
          "model_name": "DescriptionStyleModel",
          "model_module_version": "1.5.0",
          "state": {
            "_view_name": "StyleView",
            "_model_name": "DescriptionStyleModel",
            "description_width": "",
            "_view_module": "@jupyter-widgets/base",
            "_model_module_version": "1.5.0",
            "_view_count": null,
            "_view_module_version": "1.2.0",
            "_model_module": "@jupyter-widgets/controls"
          }
        },
        "d32d5035e086486085c917eb88f7d791": {
          "model_module": "@jupyter-widgets/base",
          "model_name": "LayoutModel",
          "model_module_version": "1.2.0",
          "state": {
            "_view_name": "LayoutView",
            "grid_template_rows": null,
            "right": null,
            "justify_content": null,
            "_view_module": "@jupyter-widgets/base",
            "overflow": null,
            "_model_module_version": "1.2.0",
            "_view_count": null,
            "flex_flow": null,
            "width": null,
            "min_width": null,
            "border": null,
            "align_items": null,
            "bottom": null,
            "_model_module": "@jupyter-widgets/base",
            "top": null,
            "grid_column": null,
            "overflow_y": null,
            "overflow_x": null,
            "grid_auto_flow": null,
            "grid_area": null,
            "grid_template_columns": null,
            "flex": null,
            "_model_name": "LayoutModel",
            "justify_items": null,
            "grid_row": null,
            "max_height": null,
            "align_content": null,
            "visibility": null,
            "align_self": null,
            "height": null,
            "min_height": null,
            "padding": null,
            "grid_auto_rows": null,
            "grid_gap": null,
            "max_width": null,
            "order": null,
            "_view_module_version": "1.2.0",
            "grid_template_areas": null,
            "object_position": null,
            "object_fit": null,
            "grid_auto_columns": null,
            "margin": null,
            "display": null,
            "left": null
          }
        },
        "d9acfb3fc9b84d0cbcd6bf086224f92d": {
          "model_module": "@jupyter-widgets/controls",
          "model_name": "ProgressStyleModel",
          "model_module_version": "1.5.0",
          "state": {
            "_view_name": "StyleView",
            "_model_name": "ProgressStyleModel",
            "description_width": "",
            "_view_module": "@jupyter-widgets/base",
            "_model_module_version": "1.5.0",
            "_view_count": null,
            "_view_module_version": "1.2.0",
            "bar_color": null,
            "_model_module": "@jupyter-widgets/controls"
          }
        },
        "e7d8b9126dbd464496c648261c69868f": {
          "model_module": "@jupyter-widgets/base",
          "model_name": "LayoutModel",
          "model_module_version": "1.2.0",
          "state": {
            "_view_name": "LayoutView",
            "grid_template_rows": null,
            "right": null,
            "justify_content": null,
            "_view_module": "@jupyter-widgets/base",
            "overflow": null,
            "_model_module_version": "1.2.0",
            "_view_count": null,
            "flex_flow": null,
            "width": null,
            "min_width": null,
            "border": null,
            "align_items": null,
            "bottom": null,
            "_model_module": "@jupyter-widgets/base",
            "top": null,
            "grid_column": null,
            "overflow_y": null,
            "overflow_x": null,
            "grid_auto_flow": null,
            "grid_area": null,
            "grid_template_columns": null,
            "flex": null,
            "_model_name": "LayoutModel",
            "justify_items": null,
            "grid_row": null,
            "max_height": null,
            "align_content": null,
            "visibility": null,
            "align_self": null,
            "height": null,
            "min_height": null,
            "padding": null,
            "grid_auto_rows": null,
            "grid_gap": null,
            "max_width": null,
            "order": null,
            "_view_module_version": "1.2.0",
            "grid_template_areas": null,
            "object_position": null,
            "object_fit": null,
            "grid_auto_columns": null,
            "margin": null,
            "display": null,
            "left": null
          }
        },
        "9e6fb147b4a047ffbc572c59e18fd660": {
          "model_module": "@jupyter-widgets/controls",
          "model_name": "VBoxModel",
          "model_module_version": "1.5.0",
          "state": {
            "_view_name": "VBoxView",
            "_dom_classes": [],
            "_model_name": "VBoxModel",
            "_view_module": "@jupyter-widgets/controls",
            "_model_module_version": "1.5.0",
            "_view_count": null,
            "_view_module_version": "1.5.0",
            "box_style": "",
            "layout": "IPY_MODEL_97564f5bc48240f283b7360c3ec012d1",
            "_model_module": "@jupyter-widgets/controls",
            "children": [
              "IPY_MODEL_0d46e91a33154565a1e15f0039a68e72",
              "IPY_MODEL_4126913519154cbb97e6e7ab70033100"
            ]
          }
        },
        "97564f5bc48240f283b7360c3ec012d1": {
          "model_module": "@jupyter-widgets/base",
          "model_name": "LayoutModel",
          "model_module_version": "1.2.0",
          "state": {
            "_view_name": "LayoutView",
            "grid_template_rows": null,
            "right": null,
            "justify_content": null,
            "_view_module": "@jupyter-widgets/base",
            "overflow": null,
            "_model_module_version": "1.2.0",
            "_view_count": null,
            "flex_flow": null,
            "width": null,
            "min_width": null,
            "border": null,
            "align_items": null,
            "bottom": null,
            "_model_module": "@jupyter-widgets/base",
            "top": null,
            "grid_column": null,
            "overflow_y": null,
            "overflow_x": null,
            "grid_auto_flow": null,
            "grid_area": null,
            "grid_template_columns": null,
            "flex": null,
            "_model_name": "LayoutModel",
            "justify_items": null,
            "grid_row": null,
            "max_height": null,
            "align_content": null,
            "visibility": null,
            "align_self": null,
            "height": null,
            "min_height": null,
            "padding": null,
            "grid_auto_rows": null,
            "grid_gap": null,
            "max_width": null,
            "order": null,
            "_view_module_version": "1.2.0",
            "grid_template_areas": null,
            "object_position": null,
            "object_fit": null,
            "grid_auto_columns": null,
            "margin": null,
            "display": null,
            "left": null
          }
        },
        "0d46e91a33154565a1e15f0039a68e72": {
          "model_module": "@jupyter-widgets/controls",
          "model_name": "LabelModel",
          "model_module_version": "1.5.0",
          "state": {
            "_view_name": "LabelView",
            "style": "IPY_MODEL_824f814d130a4f24a37a641e100f2b39",
            "_dom_classes": [],
            "description": "",
            "_model_name": "LabelModel",
            "placeholder": "​",
            "_view_module": "@jupyter-widgets/controls",
            "_model_module_version": "1.5.0",
            "value": " 0.01MB of 0.01MB uploaded (0.00MB deduped)\r",
            "_view_count": null,
            "_view_module_version": "1.5.0",
            "description_tooltip": null,
            "_model_module": "@jupyter-widgets/controls",
            "layout": "IPY_MODEL_3ab00260de19487b9a901a78df62e70e"
          }
        },
        "4126913519154cbb97e6e7ab70033100": {
          "model_module": "@jupyter-widgets/controls",
          "model_name": "FloatProgressModel",
          "model_module_version": "1.5.0",
          "state": {
            "_view_name": "ProgressView",
            "style": "IPY_MODEL_eae9a41f7c4f4c5e89bd73f8e596bb86",
            "_dom_classes": [],
            "description": "",
            "_model_name": "FloatProgressModel",
            "bar_style": "",
            "max": 1,
            "_view_module": "@jupyter-widgets/controls",
            "_model_module_version": "1.5.0",
            "value": 1,
            "_view_count": null,
            "_view_module_version": "1.5.0",
            "orientation": "horizontal",
            "min": 0,
            "description_tooltip": null,
            "_model_module": "@jupyter-widgets/controls",
            "layout": "IPY_MODEL_6ad71e82271548c9a4918818dd50bcf4"
          }
        },
        "824f814d130a4f24a37a641e100f2b39": {
          "model_module": "@jupyter-widgets/controls",
          "model_name": "DescriptionStyleModel",
          "model_module_version": "1.5.0",
          "state": {
            "_view_name": "StyleView",
            "_model_name": "DescriptionStyleModel",
            "description_width": "",
            "_view_module": "@jupyter-widgets/base",
            "_model_module_version": "1.5.0",
            "_view_count": null,
            "_view_module_version": "1.2.0",
            "_model_module": "@jupyter-widgets/controls"
          }
        },
        "3ab00260de19487b9a901a78df62e70e": {
          "model_module": "@jupyter-widgets/base",
          "model_name": "LayoutModel",
          "model_module_version": "1.2.0",
          "state": {
            "_view_name": "LayoutView",
            "grid_template_rows": null,
            "right": null,
            "justify_content": null,
            "_view_module": "@jupyter-widgets/base",
            "overflow": null,
            "_model_module_version": "1.2.0",
            "_view_count": null,
            "flex_flow": null,
            "width": null,
            "min_width": null,
            "border": null,
            "align_items": null,
            "bottom": null,
            "_model_module": "@jupyter-widgets/base",
            "top": null,
            "grid_column": null,
            "overflow_y": null,
            "overflow_x": null,
            "grid_auto_flow": null,
            "grid_area": null,
            "grid_template_columns": null,
            "flex": null,
            "_model_name": "LayoutModel",
            "justify_items": null,
            "grid_row": null,
            "max_height": null,
            "align_content": null,
            "visibility": null,
            "align_self": null,
            "height": null,
            "min_height": null,
            "padding": null,
            "grid_auto_rows": null,
            "grid_gap": null,
            "max_width": null,
            "order": null,
            "_view_module_version": "1.2.0",
            "grid_template_areas": null,
            "object_position": null,
            "object_fit": null,
            "grid_auto_columns": null,
            "margin": null,
            "display": null,
            "left": null
          }
        },
        "eae9a41f7c4f4c5e89bd73f8e596bb86": {
          "model_module": "@jupyter-widgets/controls",
          "model_name": "ProgressStyleModel",
          "model_module_version": "1.5.0",
          "state": {
            "_view_name": "StyleView",
            "_model_name": "ProgressStyleModel",
            "description_width": "",
            "_view_module": "@jupyter-widgets/base",
            "_model_module_version": "1.5.0",
            "_view_count": null,
            "_view_module_version": "1.2.0",
            "bar_color": null,
            "_model_module": "@jupyter-widgets/controls"
          }
        },
        "6ad71e82271548c9a4918818dd50bcf4": {
          "model_module": "@jupyter-widgets/base",
          "model_name": "LayoutModel",
          "model_module_version": "1.2.0",
          "state": {
            "_view_name": "LayoutView",
            "grid_template_rows": null,
            "right": null,
            "justify_content": null,
            "_view_module": "@jupyter-widgets/base",
            "overflow": null,
            "_model_module_version": "1.2.0",
            "_view_count": null,
            "flex_flow": null,
            "width": null,
            "min_width": null,
            "border": null,
            "align_items": null,
            "bottom": null,
            "_model_module": "@jupyter-widgets/base",
            "top": null,
            "grid_column": null,
            "overflow_y": null,
            "overflow_x": null,
            "grid_auto_flow": null,
            "grid_area": null,
            "grid_template_columns": null,
            "flex": null,
            "_model_name": "LayoutModel",
            "justify_items": null,
            "grid_row": null,
            "max_height": null,
            "align_content": null,
            "visibility": null,
            "align_self": null,
            "height": null,
            "min_height": null,
            "padding": null,
            "grid_auto_rows": null,
            "grid_gap": null,
            "max_width": null,
            "order": null,
            "_view_module_version": "1.2.0",
            "grid_template_areas": null,
            "object_position": null,
            "object_fit": null,
            "grid_auto_columns": null,
            "margin": null,
            "display": null,
            "left": null
          }
        },
        "50b8255b7758421e8cfbd79e7d6592e0": {
          "model_module": "@jupyter-widgets/controls",
          "model_name": "VBoxModel",
          "model_module_version": "1.5.0",
          "state": {
            "_view_name": "VBoxView",
            "_dom_classes": [],
            "_model_name": "VBoxModel",
            "_view_module": "@jupyter-widgets/controls",
            "_model_module_version": "1.5.0",
            "_view_count": null,
            "_view_module_version": "1.5.0",
            "box_style": "",
            "layout": "IPY_MODEL_ab6dcd48b3e84b7da382889f3cad97e8",
            "_model_module": "@jupyter-widgets/controls",
            "children": [
              "IPY_MODEL_62c7dafe12e842dea48f37f1ae035f51",
              "IPY_MODEL_4edb669031124c1c9160d4de22748402"
            ]
          }
        },
        "ab6dcd48b3e84b7da382889f3cad97e8": {
          "model_module": "@jupyter-widgets/base",
          "model_name": "LayoutModel",
          "model_module_version": "1.2.0",
          "state": {
            "_view_name": "LayoutView",
            "grid_template_rows": null,
            "right": null,
            "justify_content": null,
            "_view_module": "@jupyter-widgets/base",
            "overflow": null,
            "_model_module_version": "1.2.0",
            "_view_count": null,
            "flex_flow": null,
            "width": null,
            "min_width": null,
            "border": null,
            "align_items": null,
            "bottom": null,
            "_model_module": "@jupyter-widgets/base",
            "top": null,
            "grid_column": null,
            "overflow_y": null,
            "overflow_x": null,
            "grid_auto_flow": null,
            "grid_area": null,
            "grid_template_columns": null,
            "flex": null,
            "_model_name": "LayoutModel",
            "justify_items": null,
            "grid_row": null,
            "max_height": null,
            "align_content": null,
            "visibility": null,
            "align_self": null,
            "height": null,
            "min_height": null,
            "padding": null,
            "grid_auto_rows": null,
            "grid_gap": null,
            "max_width": null,
            "order": null,
            "_view_module_version": "1.2.0",
            "grid_template_areas": null,
            "object_position": null,
            "object_fit": null,
            "grid_auto_columns": null,
            "margin": null,
            "display": null,
            "left": null
          }
        },
        "62c7dafe12e842dea48f37f1ae035f51": {
          "model_module": "@jupyter-widgets/controls",
          "model_name": "LabelModel",
          "model_module_version": "1.5.0",
          "state": {
            "_view_name": "LabelView",
            "style": "IPY_MODEL_68c5fc5b61cf41249c7705d6767bb611",
            "_dom_classes": [],
            "description": "",
            "_model_name": "LabelModel",
            "placeholder": "​",
            "_view_module": "@jupyter-widgets/controls",
            "_model_module_version": "1.5.0",
            "value": " 0.01MB of 0.01MB uploaded (0.00MB deduped)\r",
            "_view_count": null,
            "_view_module_version": "1.5.0",
            "description_tooltip": null,
            "_model_module": "@jupyter-widgets/controls",
            "layout": "IPY_MODEL_6fe52ffdeb59487c979eedac4661dd61"
          }
        },
        "4edb669031124c1c9160d4de22748402": {
          "model_module": "@jupyter-widgets/controls",
          "model_name": "FloatProgressModel",
          "model_module_version": "1.5.0",
          "state": {
            "_view_name": "ProgressView",
            "style": "IPY_MODEL_26933df22d514d02843f1e5de101a5ff",
            "_dom_classes": [],
            "description": "",
            "_model_name": "FloatProgressModel",
            "bar_style": "",
            "max": 1,
            "_view_module": "@jupyter-widgets/controls",
            "_model_module_version": "1.5.0",
            "value": 1,
            "_view_count": null,
            "_view_module_version": "1.5.0",
            "orientation": "horizontal",
            "min": 0,
            "description_tooltip": null,
            "_model_module": "@jupyter-widgets/controls",
            "layout": "IPY_MODEL_bf7073add4e24c90b681e41606bb4e9c"
          }
        },
        "68c5fc5b61cf41249c7705d6767bb611": {
          "model_module": "@jupyter-widgets/controls",
          "model_name": "DescriptionStyleModel",
          "model_module_version": "1.5.0",
          "state": {
            "_view_name": "StyleView",
            "_model_name": "DescriptionStyleModel",
            "description_width": "",
            "_view_module": "@jupyter-widgets/base",
            "_model_module_version": "1.5.0",
            "_view_count": null,
            "_view_module_version": "1.2.0",
            "_model_module": "@jupyter-widgets/controls"
          }
        },
        "6fe52ffdeb59487c979eedac4661dd61": {
          "model_module": "@jupyter-widgets/base",
          "model_name": "LayoutModel",
          "model_module_version": "1.2.0",
          "state": {
            "_view_name": "LayoutView",
            "grid_template_rows": null,
            "right": null,
            "justify_content": null,
            "_view_module": "@jupyter-widgets/base",
            "overflow": null,
            "_model_module_version": "1.2.0",
            "_view_count": null,
            "flex_flow": null,
            "width": null,
            "min_width": null,
            "border": null,
            "align_items": null,
            "bottom": null,
            "_model_module": "@jupyter-widgets/base",
            "top": null,
            "grid_column": null,
            "overflow_y": null,
            "overflow_x": null,
            "grid_auto_flow": null,
            "grid_area": null,
            "grid_template_columns": null,
            "flex": null,
            "_model_name": "LayoutModel",
            "justify_items": null,
            "grid_row": null,
            "max_height": null,
            "align_content": null,
            "visibility": null,
            "align_self": null,
            "height": null,
            "min_height": null,
            "padding": null,
            "grid_auto_rows": null,
            "grid_gap": null,
            "max_width": null,
            "order": null,
            "_view_module_version": "1.2.0",
            "grid_template_areas": null,
            "object_position": null,
            "object_fit": null,
            "grid_auto_columns": null,
            "margin": null,
            "display": null,
            "left": null
          }
        },
        "26933df22d514d02843f1e5de101a5ff": {
          "model_module": "@jupyter-widgets/controls",
          "model_name": "ProgressStyleModel",
          "model_module_version": "1.5.0",
          "state": {
            "_view_name": "StyleView",
            "_model_name": "ProgressStyleModel",
            "description_width": "",
            "_view_module": "@jupyter-widgets/base",
            "_model_module_version": "1.5.0",
            "_view_count": null,
            "_view_module_version": "1.2.0",
            "bar_color": null,
            "_model_module": "@jupyter-widgets/controls"
          }
        },
        "bf7073add4e24c90b681e41606bb4e9c": {
          "model_module": "@jupyter-widgets/base",
          "model_name": "LayoutModel",
          "model_module_version": "1.2.0",
          "state": {
            "_view_name": "LayoutView",
            "grid_template_rows": null,
            "right": null,
            "justify_content": null,
            "_view_module": "@jupyter-widgets/base",
            "overflow": null,
            "_model_module_version": "1.2.0",
            "_view_count": null,
            "flex_flow": null,
            "width": null,
            "min_width": null,
            "border": null,
            "align_items": null,
            "bottom": null,
            "_model_module": "@jupyter-widgets/base",
            "top": null,
            "grid_column": null,
            "overflow_y": null,
            "overflow_x": null,
            "grid_auto_flow": null,
            "grid_area": null,
            "grid_template_columns": null,
            "flex": null,
            "_model_name": "LayoutModel",
            "justify_items": null,
            "grid_row": null,
            "max_height": null,
            "align_content": null,
            "visibility": null,
            "align_self": null,
            "height": null,
            "min_height": null,
            "padding": null,
            "grid_auto_rows": null,
            "grid_gap": null,
            "max_width": null,
            "order": null,
            "_view_module_version": "1.2.0",
            "grid_template_areas": null,
            "object_position": null,
            "object_fit": null,
            "grid_auto_columns": null,
            "margin": null,
            "display": null,
            "left": null
          }
        },
        "89e5d1bc215c41a4a70aa3f0e4cf1d10": {
          "model_module": "@jupyter-widgets/controls",
          "model_name": "VBoxModel",
          "model_module_version": "1.5.0",
          "state": {
            "_view_name": "VBoxView",
            "_dom_classes": [],
            "_model_name": "VBoxModel",
            "_view_module": "@jupyter-widgets/controls",
            "_model_module_version": "1.5.0",
            "_view_count": null,
            "_view_module_version": "1.5.0",
            "box_style": "",
            "layout": "IPY_MODEL_679094698e4d42b291150813f19c225c",
            "_model_module": "@jupyter-widgets/controls",
            "children": [
              "IPY_MODEL_682e964fb9734ba79f12b13981a62b03",
              "IPY_MODEL_e3fad85673f94636be6ba1d820f37a2f"
            ]
          }
        },
        "679094698e4d42b291150813f19c225c": {
          "model_module": "@jupyter-widgets/base",
          "model_name": "LayoutModel",
          "model_module_version": "1.2.0",
          "state": {
            "_view_name": "LayoutView",
            "grid_template_rows": null,
            "right": null,
            "justify_content": null,
            "_view_module": "@jupyter-widgets/base",
            "overflow": null,
            "_model_module_version": "1.2.0",
            "_view_count": null,
            "flex_flow": null,
            "width": null,
            "min_width": null,
            "border": null,
            "align_items": null,
            "bottom": null,
            "_model_module": "@jupyter-widgets/base",
            "top": null,
            "grid_column": null,
            "overflow_y": null,
            "overflow_x": null,
            "grid_auto_flow": null,
            "grid_area": null,
            "grid_template_columns": null,
            "flex": null,
            "_model_name": "LayoutModel",
            "justify_items": null,
            "grid_row": null,
            "max_height": null,
            "align_content": null,
            "visibility": null,
            "align_self": null,
            "height": null,
            "min_height": null,
            "padding": null,
            "grid_auto_rows": null,
            "grid_gap": null,
            "max_width": null,
            "order": null,
            "_view_module_version": "1.2.0",
            "grid_template_areas": null,
            "object_position": null,
            "object_fit": null,
            "grid_auto_columns": null,
            "margin": null,
            "display": null,
            "left": null
          }
        },
        "682e964fb9734ba79f12b13981a62b03": {
          "model_module": "@jupyter-widgets/controls",
          "model_name": "LabelModel",
          "model_module_version": "1.5.0",
          "state": {
            "_view_name": "LabelView",
            "style": "IPY_MODEL_824b85d5c295409e9b4aff28e7554e81",
            "_dom_classes": [],
            "description": "",
            "_model_name": "LabelModel",
            "placeholder": "​",
            "_view_module": "@jupyter-widgets/controls",
            "_model_module_version": "1.5.0",
            "value": " 0.01MB of 0.01MB uploaded (0.00MB deduped)\r",
            "_view_count": null,
            "_view_module_version": "1.5.0",
            "description_tooltip": null,
            "_model_module": "@jupyter-widgets/controls",
            "layout": "IPY_MODEL_9201a6977b114e1d907cd19df95b2418"
          }
        },
        "e3fad85673f94636be6ba1d820f37a2f": {
          "model_module": "@jupyter-widgets/controls",
          "model_name": "FloatProgressModel",
          "model_module_version": "1.5.0",
          "state": {
            "_view_name": "ProgressView",
            "style": "IPY_MODEL_4e47c73a95f64ec6a47e1da702ffa402",
            "_dom_classes": [],
            "description": "",
            "_model_name": "FloatProgressModel",
            "bar_style": "",
            "max": 1,
            "_view_module": "@jupyter-widgets/controls",
            "_model_module_version": "1.5.0",
            "value": 1,
            "_view_count": null,
            "_view_module_version": "1.5.0",
            "orientation": "horizontal",
            "min": 0,
            "description_tooltip": null,
            "_model_module": "@jupyter-widgets/controls",
            "layout": "IPY_MODEL_4a0d3f89d5314b14807bbddbf5d30375"
          }
        },
        "824b85d5c295409e9b4aff28e7554e81": {
          "model_module": "@jupyter-widgets/controls",
          "model_name": "DescriptionStyleModel",
          "model_module_version": "1.5.0",
          "state": {
            "_view_name": "StyleView",
            "_model_name": "DescriptionStyleModel",
            "description_width": "",
            "_view_module": "@jupyter-widgets/base",
            "_model_module_version": "1.5.0",
            "_view_count": null,
            "_view_module_version": "1.2.0",
            "_model_module": "@jupyter-widgets/controls"
          }
        },
        "9201a6977b114e1d907cd19df95b2418": {
          "model_module": "@jupyter-widgets/base",
          "model_name": "LayoutModel",
          "model_module_version": "1.2.0",
          "state": {
            "_view_name": "LayoutView",
            "grid_template_rows": null,
            "right": null,
            "justify_content": null,
            "_view_module": "@jupyter-widgets/base",
            "overflow": null,
            "_model_module_version": "1.2.0",
            "_view_count": null,
            "flex_flow": null,
            "width": null,
            "min_width": null,
            "border": null,
            "align_items": null,
            "bottom": null,
            "_model_module": "@jupyter-widgets/base",
            "top": null,
            "grid_column": null,
            "overflow_y": null,
            "overflow_x": null,
            "grid_auto_flow": null,
            "grid_area": null,
            "grid_template_columns": null,
            "flex": null,
            "_model_name": "LayoutModel",
            "justify_items": null,
            "grid_row": null,
            "max_height": null,
            "align_content": null,
            "visibility": null,
            "align_self": null,
            "height": null,
            "min_height": null,
            "padding": null,
            "grid_auto_rows": null,
            "grid_gap": null,
            "max_width": null,
            "order": null,
            "_view_module_version": "1.2.0",
            "grid_template_areas": null,
            "object_position": null,
            "object_fit": null,
            "grid_auto_columns": null,
            "margin": null,
            "display": null,
            "left": null
          }
        },
        "4e47c73a95f64ec6a47e1da702ffa402": {
          "model_module": "@jupyter-widgets/controls",
          "model_name": "ProgressStyleModel",
          "model_module_version": "1.5.0",
          "state": {
            "_view_name": "StyleView",
            "_model_name": "ProgressStyleModel",
            "description_width": "",
            "_view_module": "@jupyter-widgets/base",
            "_model_module_version": "1.5.0",
            "_view_count": null,
            "_view_module_version": "1.2.0",
            "bar_color": null,
            "_model_module": "@jupyter-widgets/controls"
          }
        },
        "4a0d3f89d5314b14807bbddbf5d30375": {
          "model_module": "@jupyter-widgets/base",
          "model_name": "LayoutModel",
          "model_module_version": "1.2.0",
          "state": {
            "_view_name": "LayoutView",
            "grid_template_rows": null,
            "right": null,
            "justify_content": null,
            "_view_module": "@jupyter-widgets/base",
            "overflow": null,
            "_model_module_version": "1.2.0",
            "_view_count": null,
            "flex_flow": null,
            "width": null,
            "min_width": null,
            "border": null,
            "align_items": null,
            "bottom": null,
            "_model_module": "@jupyter-widgets/base",
            "top": null,
            "grid_column": null,
            "overflow_y": null,
            "overflow_x": null,
            "grid_auto_flow": null,
            "grid_area": null,
            "grid_template_columns": null,
            "flex": null,
            "_model_name": "LayoutModel",
            "justify_items": null,
            "grid_row": null,
            "max_height": null,
            "align_content": null,
            "visibility": null,
            "align_self": null,
            "height": null,
            "min_height": null,
            "padding": null,
            "grid_auto_rows": null,
            "grid_gap": null,
            "max_width": null,
            "order": null,
            "_view_module_version": "1.2.0",
            "grid_template_areas": null,
            "object_position": null,
            "object_fit": null,
            "grid_auto_columns": null,
            "margin": null,
            "display": null,
            "left": null
          }
        },
        "81635ca4d465447c8920ca29bd2b5334": {
          "model_module": "@jupyter-widgets/controls",
          "model_name": "VBoxModel",
          "model_module_version": "1.5.0",
          "state": {
            "_view_name": "VBoxView",
            "_dom_classes": [],
            "_model_name": "VBoxModel",
            "_view_module": "@jupyter-widgets/controls",
            "_model_module_version": "1.5.0",
            "_view_count": null,
            "_view_module_version": "1.5.0",
            "box_style": "",
            "layout": "IPY_MODEL_11185e38a7b546debb9ef5c26e1c2570",
            "_model_module": "@jupyter-widgets/controls",
            "children": [
              "IPY_MODEL_1454197420794cc1a4d33007aa5625fb",
              "IPY_MODEL_d75387cd146641e3b09bd2695c91a716"
            ]
          }
        },
        "11185e38a7b546debb9ef5c26e1c2570": {
          "model_module": "@jupyter-widgets/base",
          "model_name": "LayoutModel",
          "model_module_version": "1.2.0",
          "state": {
            "_view_name": "LayoutView",
            "grid_template_rows": null,
            "right": null,
            "justify_content": null,
            "_view_module": "@jupyter-widgets/base",
            "overflow": null,
            "_model_module_version": "1.2.0",
            "_view_count": null,
            "flex_flow": null,
            "width": null,
            "min_width": null,
            "border": null,
            "align_items": null,
            "bottom": null,
            "_model_module": "@jupyter-widgets/base",
            "top": null,
            "grid_column": null,
            "overflow_y": null,
            "overflow_x": null,
            "grid_auto_flow": null,
            "grid_area": null,
            "grid_template_columns": null,
            "flex": null,
            "_model_name": "LayoutModel",
            "justify_items": null,
            "grid_row": null,
            "max_height": null,
            "align_content": null,
            "visibility": null,
            "align_self": null,
            "height": null,
            "min_height": null,
            "padding": null,
            "grid_auto_rows": null,
            "grid_gap": null,
            "max_width": null,
            "order": null,
            "_view_module_version": "1.2.0",
            "grid_template_areas": null,
            "object_position": null,
            "object_fit": null,
            "grid_auto_columns": null,
            "margin": null,
            "display": null,
            "left": null
          }
        },
        "1454197420794cc1a4d33007aa5625fb": {
          "model_module": "@jupyter-widgets/controls",
          "model_name": "LabelModel",
          "model_module_version": "1.5.0",
          "state": {
            "_view_name": "LabelView",
            "style": "IPY_MODEL_787245ff04d5483cb32ba2d265c93422",
            "_dom_classes": [],
            "description": "",
            "_model_name": "LabelModel",
            "placeholder": "​",
            "_view_module": "@jupyter-widgets/controls",
            "_model_module_version": "1.5.0",
            "value": " 0.01MB of 0.01MB uploaded (0.00MB deduped)\r",
            "_view_count": null,
            "_view_module_version": "1.5.0",
            "description_tooltip": null,
            "_model_module": "@jupyter-widgets/controls",
            "layout": "IPY_MODEL_5118e16c2d1a4ed8b3d7ee238327bf85"
          }
        },
        "d75387cd146641e3b09bd2695c91a716": {
          "model_module": "@jupyter-widgets/controls",
          "model_name": "FloatProgressModel",
          "model_module_version": "1.5.0",
          "state": {
            "_view_name": "ProgressView",
            "style": "IPY_MODEL_91f70a77ff4d4a84862bc19a2c31b053",
            "_dom_classes": [],
            "description": "",
            "_model_name": "FloatProgressModel",
            "bar_style": "",
            "max": 1,
            "_view_module": "@jupyter-widgets/controls",
            "_model_module_version": "1.5.0",
            "value": 1,
            "_view_count": null,
            "_view_module_version": "1.5.0",
            "orientation": "horizontal",
            "min": 0,
            "description_tooltip": null,
            "_model_module": "@jupyter-widgets/controls",
            "layout": "IPY_MODEL_2fa9dd090e2b4ef2a96b7870409442e7"
          }
        },
        "787245ff04d5483cb32ba2d265c93422": {
          "model_module": "@jupyter-widgets/controls",
          "model_name": "DescriptionStyleModel",
          "model_module_version": "1.5.0",
          "state": {
            "_view_name": "StyleView",
            "_model_name": "DescriptionStyleModel",
            "description_width": "",
            "_view_module": "@jupyter-widgets/base",
            "_model_module_version": "1.5.0",
            "_view_count": null,
            "_view_module_version": "1.2.0",
            "_model_module": "@jupyter-widgets/controls"
          }
        },
        "5118e16c2d1a4ed8b3d7ee238327bf85": {
          "model_module": "@jupyter-widgets/base",
          "model_name": "LayoutModel",
          "model_module_version": "1.2.0",
          "state": {
            "_view_name": "LayoutView",
            "grid_template_rows": null,
            "right": null,
            "justify_content": null,
            "_view_module": "@jupyter-widgets/base",
            "overflow": null,
            "_model_module_version": "1.2.0",
            "_view_count": null,
            "flex_flow": null,
            "width": null,
            "min_width": null,
            "border": null,
            "align_items": null,
            "bottom": null,
            "_model_module": "@jupyter-widgets/base",
            "top": null,
            "grid_column": null,
            "overflow_y": null,
            "overflow_x": null,
            "grid_auto_flow": null,
            "grid_area": null,
            "grid_template_columns": null,
            "flex": null,
            "_model_name": "LayoutModel",
            "justify_items": null,
            "grid_row": null,
            "max_height": null,
            "align_content": null,
            "visibility": null,
            "align_self": null,
            "height": null,
            "min_height": null,
            "padding": null,
            "grid_auto_rows": null,
            "grid_gap": null,
            "max_width": null,
            "order": null,
            "_view_module_version": "1.2.0",
            "grid_template_areas": null,
            "object_position": null,
            "object_fit": null,
            "grid_auto_columns": null,
            "margin": null,
            "display": null,
            "left": null
          }
        },
        "91f70a77ff4d4a84862bc19a2c31b053": {
          "model_module": "@jupyter-widgets/controls",
          "model_name": "ProgressStyleModel",
          "model_module_version": "1.5.0",
          "state": {
            "_view_name": "StyleView",
            "_model_name": "ProgressStyleModel",
            "description_width": "",
            "_view_module": "@jupyter-widgets/base",
            "_model_module_version": "1.5.0",
            "_view_count": null,
            "_view_module_version": "1.2.0",
            "bar_color": null,
            "_model_module": "@jupyter-widgets/controls"
          }
        },
        "2fa9dd090e2b4ef2a96b7870409442e7": {
          "model_module": "@jupyter-widgets/base",
          "model_name": "LayoutModel",
          "model_module_version": "1.2.0",
          "state": {
            "_view_name": "LayoutView",
            "grid_template_rows": null,
            "right": null,
            "justify_content": null,
            "_view_module": "@jupyter-widgets/base",
            "overflow": null,
            "_model_module_version": "1.2.0",
            "_view_count": null,
            "flex_flow": null,
            "width": null,
            "min_width": null,
            "border": null,
            "align_items": null,
            "bottom": null,
            "_model_module": "@jupyter-widgets/base",
            "top": null,
            "grid_column": null,
            "overflow_y": null,
            "overflow_x": null,
            "grid_auto_flow": null,
            "grid_area": null,
            "grid_template_columns": null,
            "flex": null,
            "_model_name": "LayoutModel",
            "justify_items": null,
            "grid_row": null,
            "max_height": null,
            "align_content": null,
            "visibility": null,
            "align_self": null,
            "height": null,
            "min_height": null,
            "padding": null,
            "grid_auto_rows": null,
            "grid_gap": null,
            "max_width": null,
            "order": null,
            "_view_module_version": "1.2.0",
            "grid_template_areas": null,
            "object_position": null,
            "object_fit": null,
            "grid_auto_columns": null,
            "margin": null,
            "display": null,
            "left": null
          }
        },
        "161de5a5433443f8acda866600957b31": {
          "model_module": "@jupyter-widgets/controls",
          "model_name": "VBoxModel",
          "model_module_version": "1.5.0",
          "state": {
            "_view_name": "VBoxView",
            "_dom_classes": [],
            "_model_name": "VBoxModel",
            "_view_module": "@jupyter-widgets/controls",
            "_model_module_version": "1.5.0",
            "_view_count": null,
            "_view_module_version": "1.5.0",
            "box_style": "",
            "layout": "IPY_MODEL_478f76c8f3db453586231a7476fd5531",
            "_model_module": "@jupyter-widgets/controls",
            "children": [
              "IPY_MODEL_2d8886e6c9b9407c96df8f1c9948e147",
              "IPY_MODEL_93a0f76732d54ade8e6b1f8be5244097"
            ]
          }
        },
        "478f76c8f3db453586231a7476fd5531": {
          "model_module": "@jupyter-widgets/base",
          "model_name": "LayoutModel",
          "model_module_version": "1.2.0",
          "state": {
            "_view_name": "LayoutView",
            "grid_template_rows": null,
            "right": null,
            "justify_content": null,
            "_view_module": "@jupyter-widgets/base",
            "overflow": null,
            "_model_module_version": "1.2.0",
            "_view_count": null,
            "flex_flow": null,
            "width": null,
            "min_width": null,
            "border": null,
            "align_items": null,
            "bottom": null,
            "_model_module": "@jupyter-widgets/base",
            "top": null,
            "grid_column": null,
            "overflow_y": null,
            "overflow_x": null,
            "grid_auto_flow": null,
            "grid_area": null,
            "grid_template_columns": null,
            "flex": null,
            "_model_name": "LayoutModel",
            "justify_items": null,
            "grid_row": null,
            "max_height": null,
            "align_content": null,
            "visibility": null,
            "align_self": null,
            "height": null,
            "min_height": null,
            "padding": null,
            "grid_auto_rows": null,
            "grid_gap": null,
            "max_width": null,
            "order": null,
            "_view_module_version": "1.2.0",
            "grid_template_areas": null,
            "object_position": null,
            "object_fit": null,
            "grid_auto_columns": null,
            "margin": null,
            "display": null,
            "left": null
          }
        },
        "2d8886e6c9b9407c96df8f1c9948e147": {
          "model_module": "@jupyter-widgets/controls",
          "model_name": "LabelModel",
          "model_module_version": "1.5.0",
          "state": {
            "_view_name": "LabelView",
            "style": "IPY_MODEL_e1783f4ab7e04a70954940698a5d0385",
            "_dom_classes": [],
            "description": "",
            "_model_name": "LabelModel",
            "placeholder": "​",
            "_view_module": "@jupyter-widgets/controls",
            "_model_module_version": "1.5.0",
            "value": " 0.01MB of 0.01MB uploaded (0.00MB deduped)\r",
            "_view_count": null,
            "_view_module_version": "1.5.0",
            "description_tooltip": null,
            "_model_module": "@jupyter-widgets/controls",
            "layout": "IPY_MODEL_d4634d9268a34264837b80de6bd8c1e6"
          }
        },
        "93a0f76732d54ade8e6b1f8be5244097": {
          "model_module": "@jupyter-widgets/controls",
          "model_name": "FloatProgressModel",
          "model_module_version": "1.5.0",
          "state": {
            "_view_name": "ProgressView",
            "style": "IPY_MODEL_71694b5e264145e8854c24c592084619",
            "_dom_classes": [],
            "description": "",
            "_model_name": "FloatProgressModel",
            "bar_style": "",
            "max": 1,
            "_view_module": "@jupyter-widgets/controls",
            "_model_module_version": "1.5.0",
            "value": 1,
            "_view_count": null,
            "_view_module_version": "1.5.0",
            "orientation": "horizontal",
            "min": 0,
            "description_tooltip": null,
            "_model_module": "@jupyter-widgets/controls",
            "layout": "IPY_MODEL_eed0627445fd4e0aa1a154c0d193be79"
          }
        },
        "e1783f4ab7e04a70954940698a5d0385": {
          "model_module": "@jupyter-widgets/controls",
          "model_name": "DescriptionStyleModel",
          "model_module_version": "1.5.0",
          "state": {
            "_view_name": "StyleView",
            "_model_name": "DescriptionStyleModel",
            "description_width": "",
            "_view_module": "@jupyter-widgets/base",
            "_model_module_version": "1.5.0",
            "_view_count": null,
            "_view_module_version": "1.2.0",
            "_model_module": "@jupyter-widgets/controls"
          }
        },
        "d4634d9268a34264837b80de6bd8c1e6": {
          "model_module": "@jupyter-widgets/base",
          "model_name": "LayoutModel",
          "model_module_version": "1.2.0",
          "state": {
            "_view_name": "LayoutView",
            "grid_template_rows": null,
            "right": null,
            "justify_content": null,
            "_view_module": "@jupyter-widgets/base",
            "overflow": null,
            "_model_module_version": "1.2.0",
            "_view_count": null,
            "flex_flow": null,
            "width": null,
            "min_width": null,
            "border": null,
            "align_items": null,
            "bottom": null,
            "_model_module": "@jupyter-widgets/base",
            "top": null,
            "grid_column": null,
            "overflow_y": null,
            "overflow_x": null,
            "grid_auto_flow": null,
            "grid_area": null,
            "grid_template_columns": null,
            "flex": null,
            "_model_name": "LayoutModel",
            "justify_items": null,
            "grid_row": null,
            "max_height": null,
            "align_content": null,
            "visibility": null,
            "align_self": null,
            "height": null,
            "min_height": null,
            "padding": null,
            "grid_auto_rows": null,
            "grid_gap": null,
            "max_width": null,
            "order": null,
            "_view_module_version": "1.2.0",
            "grid_template_areas": null,
            "object_position": null,
            "object_fit": null,
            "grid_auto_columns": null,
            "margin": null,
            "display": null,
            "left": null
          }
        },
        "71694b5e264145e8854c24c592084619": {
          "model_module": "@jupyter-widgets/controls",
          "model_name": "ProgressStyleModel",
          "model_module_version": "1.5.0",
          "state": {
            "_view_name": "StyleView",
            "_model_name": "ProgressStyleModel",
            "description_width": "",
            "_view_module": "@jupyter-widgets/base",
            "_model_module_version": "1.5.0",
            "_view_count": null,
            "_view_module_version": "1.2.0",
            "bar_color": null,
            "_model_module": "@jupyter-widgets/controls"
          }
        },
        "eed0627445fd4e0aa1a154c0d193be79": {
          "model_module": "@jupyter-widgets/base",
          "model_name": "LayoutModel",
          "model_module_version": "1.2.0",
          "state": {
            "_view_name": "LayoutView",
            "grid_template_rows": null,
            "right": null,
            "justify_content": null,
            "_view_module": "@jupyter-widgets/base",
            "overflow": null,
            "_model_module_version": "1.2.0",
            "_view_count": null,
            "flex_flow": null,
            "width": null,
            "min_width": null,
            "border": null,
            "align_items": null,
            "bottom": null,
            "_model_module": "@jupyter-widgets/base",
            "top": null,
            "grid_column": null,
            "overflow_y": null,
            "overflow_x": null,
            "grid_auto_flow": null,
            "grid_area": null,
            "grid_template_columns": null,
            "flex": null,
            "_model_name": "LayoutModel",
            "justify_items": null,
            "grid_row": null,
            "max_height": null,
            "align_content": null,
            "visibility": null,
            "align_self": null,
            "height": null,
            "min_height": null,
            "padding": null,
            "grid_auto_rows": null,
            "grid_gap": null,
            "max_width": null,
            "order": null,
            "_view_module_version": "1.2.0",
            "grid_template_areas": null,
            "object_position": null,
            "object_fit": null,
            "grid_auto_columns": null,
            "margin": null,
            "display": null,
            "left": null
          }
        },
        "e3e9c98b92774aa4b80457efad4992db": {
          "model_module": "@jupyter-widgets/controls",
          "model_name": "VBoxModel",
          "model_module_version": "1.5.0",
          "state": {
            "_view_name": "VBoxView",
            "_dom_classes": [],
            "_model_name": "VBoxModel",
            "_view_module": "@jupyter-widgets/controls",
            "_model_module_version": "1.5.0",
            "_view_count": null,
            "_view_module_version": "1.5.0",
            "box_style": "",
            "layout": "IPY_MODEL_1849864e80724ae0915e5fae74b98ce7",
            "_model_module": "@jupyter-widgets/controls",
            "children": [
              "IPY_MODEL_86c6309b0b0f422f877d7be91dc07635",
              "IPY_MODEL_71c5b7e76fb2469ba20ba6eb14cab23f"
            ]
          }
        },
        "1849864e80724ae0915e5fae74b98ce7": {
          "model_module": "@jupyter-widgets/base",
          "model_name": "LayoutModel",
          "model_module_version": "1.2.0",
          "state": {
            "_view_name": "LayoutView",
            "grid_template_rows": null,
            "right": null,
            "justify_content": null,
            "_view_module": "@jupyter-widgets/base",
            "overflow": null,
            "_model_module_version": "1.2.0",
            "_view_count": null,
            "flex_flow": null,
            "width": null,
            "min_width": null,
            "border": null,
            "align_items": null,
            "bottom": null,
            "_model_module": "@jupyter-widgets/base",
            "top": null,
            "grid_column": null,
            "overflow_y": null,
            "overflow_x": null,
            "grid_auto_flow": null,
            "grid_area": null,
            "grid_template_columns": null,
            "flex": null,
            "_model_name": "LayoutModel",
            "justify_items": null,
            "grid_row": null,
            "max_height": null,
            "align_content": null,
            "visibility": null,
            "align_self": null,
            "height": null,
            "min_height": null,
            "padding": null,
            "grid_auto_rows": null,
            "grid_gap": null,
            "max_width": null,
            "order": null,
            "_view_module_version": "1.2.0",
            "grid_template_areas": null,
            "object_position": null,
            "object_fit": null,
            "grid_auto_columns": null,
            "margin": null,
            "display": null,
            "left": null
          }
        },
        "86c6309b0b0f422f877d7be91dc07635": {
          "model_module": "@jupyter-widgets/controls",
          "model_name": "LabelModel",
          "model_module_version": "1.5.0",
          "state": {
            "_view_name": "LabelView",
            "style": "IPY_MODEL_7a2d80a2fac64c5a8b4552cfdd764799",
            "_dom_classes": [],
            "description": "",
            "_model_name": "LabelModel",
            "placeholder": "​",
            "_view_module": "@jupyter-widgets/controls",
            "_model_module_version": "1.5.0",
            "value": " 0.01MB of 0.01MB uploaded (0.00MB deduped)\r",
            "_view_count": null,
            "_view_module_version": "1.5.0",
            "description_tooltip": null,
            "_model_module": "@jupyter-widgets/controls",
            "layout": "IPY_MODEL_c957491aa5c3419f88b1ec07d6d14cdb"
          }
        },
        "71c5b7e76fb2469ba20ba6eb14cab23f": {
          "model_module": "@jupyter-widgets/controls",
          "model_name": "FloatProgressModel",
          "model_module_version": "1.5.0",
          "state": {
            "_view_name": "ProgressView",
            "style": "IPY_MODEL_a6f71f621d0940a7b8f2f6779e33809b",
            "_dom_classes": [],
            "description": "",
            "_model_name": "FloatProgressModel",
            "bar_style": "",
            "max": 1,
            "_view_module": "@jupyter-widgets/controls",
            "_model_module_version": "1.5.0",
            "value": 1,
            "_view_count": null,
            "_view_module_version": "1.5.0",
            "orientation": "horizontal",
            "min": 0,
            "description_tooltip": null,
            "_model_module": "@jupyter-widgets/controls",
            "layout": "IPY_MODEL_5084c9c53ab144a19e9876ec2b0a0325"
          }
        },
        "7a2d80a2fac64c5a8b4552cfdd764799": {
          "model_module": "@jupyter-widgets/controls",
          "model_name": "DescriptionStyleModel",
          "model_module_version": "1.5.0",
          "state": {
            "_view_name": "StyleView",
            "_model_name": "DescriptionStyleModel",
            "description_width": "",
            "_view_module": "@jupyter-widgets/base",
            "_model_module_version": "1.5.0",
            "_view_count": null,
            "_view_module_version": "1.2.0",
            "_model_module": "@jupyter-widgets/controls"
          }
        },
        "c957491aa5c3419f88b1ec07d6d14cdb": {
          "model_module": "@jupyter-widgets/base",
          "model_name": "LayoutModel",
          "model_module_version": "1.2.0",
          "state": {
            "_view_name": "LayoutView",
            "grid_template_rows": null,
            "right": null,
            "justify_content": null,
            "_view_module": "@jupyter-widgets/base",
            "overflow": null,
            "_model_module_version": "1.2.0",
            "_view_count": null,
            "flex_flow": null,
            "width": null,
            "min_width": null,
            "border": null,
            "align_items": null,
            "bottom": null,
            "_model_module": "@jupyter-widgets/base",
            "top": null,
            "grid_column": null,
            "overflow_y": null,
            "overflow_x": null,
            "grid_auto_flow": null,
            "grid_area": null,
            "grid_template_columns": null,
            "flex": null,
            "_model_name": "LayoutModel",
            "justify_items": null,
            "grid_row": null,
            "max_height": null,
            "align_content": null,
            "visibility": null,
            "align_self": null,
            "height": null,
            "min_height": null,
            "padding": null,
            "grid_auto_rows": null,
            "grid_gap": null,
            "max_width": null,
            "order": null,
            "_view_module_version": "1.2.0",
            "grid_template_areas": null,
            "object_position": null,
            "object_fit": null,
            "grid_auto_columns": null,
            "margin": null,
            "display": null,
            "left": null
          }
        },
        "a6f71f621d0940a7b8f2f6779e33809b": {
          "model_module": "@jupyter-widgets/controls",
          "model_name": "ProgressStyleModel",
          "model_module_version": "1.5.0",
          "state": {
            "_view_name": "StyleView",
            "_model_name": "ProgressStyleModel",
            "description_width": "",
            "_view_module": "@jupyter-widgets/base",
            "_model_module_version": "1.5.0",
            "_view_count": null,
            "_view_module_version": "1.2.0",
            "bar_color": null,
            "_model_module": "@jupyter-widgets/controls"
          }
        },
        "5084c9c53ab144a19e9876ec2b0a0325": {
          "model_module": "@jupyter-widgets/base",
          "model_name": "LayoutModel",
          "model_module_version": "1.2.0",
          "state": {
            "_view_name": "LayoutView",
            "grid_template_rows": null,
            "right": null,
            "justify_content": null,
            "_view_module": "@jupyter-widgets/base",
            "overflow": null,
            "_model_module_version": "1.2.0",
            "_view_count": null,
            "flex_flow": null,
            "width": null,
            "min_width": null,
            "border": null,
            "align_items": null,
            "bottom": null,
            "_model_module": "@jupyter-widgets/base",
            "top": null,
            "grid_column": null,
            "overflow_y": null,
            "overflow_x": null,
            "grid_auto_flow": null,
            "grid_area": null,
            "grid_template_columns": null,
            "flex": null,
            "_model_name": "LayoutModel",
            "justify_items": null,
            "grid_row": null,
            "max_height": null,
            "align_content": null,
            "visibility": null,
            "align_self": null,
            "height": null,
            "min_height": null,
            "padding": null,
            "grid_auto_rows": null,
            "grid_gap": null,
            "max_width": null,
            "order": null,
            "_view_module_version": "1.2.0",
            "grid_template_areas": null,
            "object_position": null,
            "object_fit": null,
            "grid_auto_columns": null,
            "margin": null,
            "display": null,
            "left": null
          }
        },
        "8dc3a3abdbb9466c841eeed26d911328": {
          "model_module": "@jupyter-widgets/controls",
          "model_name": "VBoxModel",
          "model_module_version": "1.5.0",
          "state": {
            "_view_name": "VBoxView",
            "_dom_classes": [],
            "_model_name": "VBoxModel",
            "_view_module": "@jupyter-widgets/controls",
            "_model_module_version": "1.5.0",
            "_view_count": null,
            "_view_module_version": "1.5.0",
            "box_style": "",
            "layout": "IPY_MODEL_cf10e5852dab45d49d397fa36e9ca383",
            "_model_module": "@jupyter-widgets/controls",
            "children": [
              "IPY_MODEL_2baecaed34944c2788b57d2e30ac27f9",
              "IPY_MODEL_f95ece5eedcb4f55a2e75941e01b1642"
            ]
          }
        },
        "cf10e5852dab45d49d397fa36e9ca383": {
          "model_module": "@jupyter-widgets/base",
          "model_name": "LayoutModel",
          "model_module_version": "1.2.0",
          "state": {
            "_view_name": "LayoutView",
            "grid_template_rows": null,
            "right": null,
            "justify_content": null,
            "_view_module": "@jupyter-widgets/base",
            "overflow": null,
            "_model_module_version": "1.2.0",
            "_view_count": null,
            "flex_flow": null,
            "width": null,
            "min_width": null,
            "border": null,
            "align_items": null,
            "bottom": null,
            "_model_module": "@jupyter-widgets/base",
            "top": null,
            "grid_column": null,
            "overflow_y": null,
            "overflow_x": null,
            "grid_auto_flow": null,
            "grid_area": null,
            "grid_template_columns": null,
            "flex": null,
            "_model_name": "LayoutModel",
            "justify_items": null,
            "grid_row": null,
            "max_height": null,
            "align_content": null,
            "visibility": null,
            "align_self": null,
            "height": null,
            "min_height": null,
            "padding": null,
            "grid_auto_rows": null,
            "grid_gap": null,
            "max_width": null,
            "order": null,
            "_view_module_version": "1.2.0",
            "grid_template_areas": null,
            "object_position": null,
            "object_fit": null,
            "grid_auto_columns": null,
            "margin": null,
            "display": null,
            "left": null
          }
        },
        "2baecaed34944c2788b57d2e30ac27f9": {
          "model_module": "@jupyter-widgets/controls",
          "model_name": "LabelModel",
          "model_module_version": "1.5.0",
          "state": {
            "_view_name": "LabelView",
            "style": "IPY_MODEL_d5dc41851eb34267aaedeb651ea15e53",
            "_dom_classes": [],
            "description": "",
            "_model_name": "LabelModel",
            "placeholder": "​",
            "_view_module": "@jupyter-widgets/controls",
            "_model_module_version": "1.5.0",
            "value": " 0.01MB of 0.01MB uploaded (0.00MB deduped)\r",
            "_view_count": null,
            "_view_module_version": "1.5.0",
            "description_tooltip": null,
            "_model_module": "@jupyter-widgets/controls",
            "layout": "IPY_MODEL_bdf327ddabb64a63aedd2325c7744ba1"
          }
        },
        "f95ece5eedcb4f55a2e75941e01b1642": {
          "model_module": "@jupyter-widgets/controls",
          "model_name": "FloatProgressModel",
          "model_module_version": "1.5.0",
          "state": {
            "_view_name": "ProgressView",
            "style": "IPY_MODEL_acdfb3cc091145f5ab17ebc5b1ec1000",
            "_dom_classes": [],
            "description": "",
            "_model_name": "FloatProgressModel",
            "bar_style": "",
            "max": 1,
            "_view_module": "@jupyter-widgets/controls",
            "_model_module_version": "1.5.0",
            "value": 1,
            "_view_count": null,
            "_view_module_version": "1.5.0",
            "orientation": "horizontal",
            "min": 0,
            "description_tooltip": null,
            "_model_module": "@jupyter-widgets/controls",
            "layout": "IPY_MODEL_637ec2e150f949d89102b21ffcfdfb77"
          }
        },
        "d5dc41851eb34267aaedeb651ea15e53": {
          "model_module": "@jupyter-widgets/controls",
          "model_name": "DescriptionStyleModel",
          "model_module_version": "1.5.0",
          "state": {
            "_view_name": "StyleView",
            "_model_name": "DescriptionStyleModel",
            "description_width": "",
            "_view_module": "@jupyter-widgets/base",
            "_model_module_version": "1.5.0",
            "_view_count": null,
            "_view_module_version": "1.2.0",
            "_model_module": "@jupyter-widgets/controls"
          }
        },
        "bdf327ddabb64a63aedd2325c7744ba1": {
          "model_module": "@jupyter-widgets/base",
          "model_name": "LayoutModel",
          "model_module_version": "1.2.0",
          "state": {
            "_view_name": "LayoutView",
            "grid_template_rows": null,
            "right": null,
            "justify_content": null,
            "_view_module": "@jupyter-widgets/base",
            "overflow": null,
            "_model_module_version": "1.2.0",
            "_view_count": null,
            "flex_flow": null,
            "width": null,
            "min_width": null,
            "border": null,
            "align_items": null,
            "bottom": null,
            "_model_module": "@jupyter-widgets/base",
            "top": null,
            "grid_column": null,
            "overflow_y": null,
            "overflow_x": null,
            "grid_auto_flow": null,
            "grid_area": null,
            "grid_template_columns": null,
            "flex": null,
            "_model_name": "LayoutModel",
            "justify_items": null,
            "grid_row": null,
            "max_height": null,
            "align_content": null,
            "visibility": null,
            "align_self": null,
            "height": null,
            "min_height": null,
            "padding": null,
            "grid_auto_rows": null,
            "grid_gap": null,
            "max_width": null,
            "order": null,
            "_view_module_version": "1.2.0",
            "grid_template_areas": null,
            "object_position": null,
            "object_fit": null,
            "grid_auto_columns": null,
            "margin": null,
            "display": null,
            "left": null
          }
        },
        "acdfb3cc091145f5ab17ebc5b1ec1000": {
          "model_module": "@jupyter-widgets/controls",
          "model_name": "ProgressStyleModel",
          "model_module_version": "1.5.0",
          "state": {
            "_view_name": "StyleView",
            "_model_name": "ProgressStyleModel",
            "description_width": "",
            "_view_module": "@jupyter-widgets/base",
            "_model_module_version": "1.5.0",
            "_view_count": null,
            "_view_module_version": "1.2.0",
            "bar_color": null,
            "_model_module": "@jupyter-widgets/controls"
          }
        },
        "637ec2e150f949d89102b21ffcfdfb77": {
          "model_module": "@jupyter-widgets/base",
          "model_name": "LayoutModel",
          "model_module_version": "1.2.0",
          "state": {
            "_view_name": "LayoutView",
            "grid_template_rows": null,
            "right": null,
            "justify_content": null,
            "_view_module": "@jupyter-widgets/base",
            "overflow": null,
            "_model_module_version": "1.2.0",
            "_view_count": null,
            "flex_flow": null,
            "width": null,
            "min_width": null,
            "border": null,
            "align_items": null,
            "bottom": null,
            "_model_module": "@jupyter-widgets/base",
            "top": null,
            "grid_column": null,
            "overflow_y": null,
            "overflow_x": null,
            "grid_auto_flow": null,
            "grid_area": null,
            "grid_template_columns": null,
            "flex": null,
            "_model_name": "LayoutModel",
            "justify_items": null,
            "grid_row": null,
            "max_height": null,
            "align_content": null,
            "visibility": null,
            "align_self": null,
            "height": null,
            "min_height": null,
            "padding": null,
            "grid_auto_rows": null,
            "grid_gap": null,
            "max_width": null,
            "order": null,
            "_view_module_version": "1.2.0",
            "grid_template_areas": null,
            "object_position": null,
            "object_fit": null,
            "grid_auto_columns": null,
            "margin": null,
            "display": null,
            "left": null
          }
        },
        "aa93be4b2ee24d9eb0c6feea891ff5a5": {
          "model_module": "@jupyter-widgets/controls",
          "model_name": "VBoxModel",
          "model_module_version": "1.5.0",
          "state": {
            "_view_name": "VBoxView",
            "_dom_classes": [],
            "_model_name": "VBoxModel",
            "_view_module": "@jupyter-widgets/controls",
            "_model_module_version": "1.5.0",
            "_view_count": null,
            "_view_module_version": "1.5.0",
            "box_style": "",
            "layout": "IPY_MODEL_e535d2d3a5b0448387dc48cf65fc4e5b",
            "_model_module": "@jupyter-widgets/controls",
            "children": [
              "IPY_MODEL_d00923a87d7f4292a56a2ec4391f6737",
              "IPY_MODEL_ebb272e7b55946b29190763018e31152"
            ]
          }
        },
        "e535d2d3a5b0448387dc48cf65fc4e5b": {
          "model_module": "@jupyter-widgets/base",
          "model_name": "LayoutModel",
          "model_module_version": "1.2.0",
          "state": {
            "_view_name": "LayoutView",
            "grid_template_rows": null,
            "right": null,
            "justify_content": null,
            "_view_module": "@jupyter-widgets/base",
            "overflow": null,
            "_model_module_version": "1.2.0",
            "_view_count": null,
            "flex_flow": null,
            "width": null,
            "min_width": null,
            "border": null,
            "align_items": null,
            "bottom": null,
            "_model_module": "@jupyter-widgets/base",
            "top": null,
            "grid_column": null,
            "overflow_y": null,
            "overflow_x": null,
            "grid_auto_flow": null,
            "grid_area": null,
            "grid_template_columns": null,
            "flex": null,
            "_model_name": "LayoutModel",
            "justify_items": null,
            "grid_row": null,
            "max_height": null,
            "align_content": null,
            "visibility": null,
            "align_self": null,
            "height": null,
            "min_height": null,
            "padding": null,
            "grid_auto_rows": null,
            "grid_gap": null,
            "max_width": null,
            "order": null,
            "_view_module_version": "1.2.0",
            "grid_template_areas": null,
            "object_position": null,
            "object_fit": null,
            "grid_auto_columns": null,
            "margin": null,
            "display": null,
            "left": null
          }
        },
        "d00923a87d7f4292a56a2ec4391f6737": {
          "model_module": "@jupyter-widgets/controls",
          "model_name": "LabelModel",
          "model_module_version": "1.5.0",
          "state": {
            "_view_name": "LabelView",
            "style": "IPY_MODEL_e6a850105d8c46298b14fe29b57ffbe6",
            "_dom_classes": [],
            "description": "",
            "_model_name": "LabelModel",
            "placeholder": "​",
            "_view_module": "@jupyter-widgets/controls",
            "_model_module_version": "1.5.0",
            "value": " 0.01MB of 0.01MB uploaded (0.00MB deduped)\r",
            "_view_count": null,
            "_view_module_version": "1.5.0",
            "description_tooltip": null,
            "_model_module": "@jupyter-widgets/controls",
            "layout": "IPY_MODEL_26ebd92df8b24b4cb974f34d8c1ec0c2"
          }
        },
        "ebb272e7b55946b29190763018e31152": {
          "model_module": "@jupyter-widgets/controls",
          "model_name": "FloatProgressModel",
          "model_module_version": "1.5.0",
          "state": {
            "_view_name": "ProgressView",
            "style": "IPY_MODEL_6acd9602e9de4ee789797e4dd902dfde",
            "_dom_classes": [],
            "description": "",
            "_model_name": "FloatProgressModel",
            "bar_style": "",
            "max": 1,
            "_view_module": "@jupyter-widgets/controls",
            "_model_module_version": "1.5.0",
            "value": 1,
            "_view_count": null,
            "_view_module_version": "1.5.0",
            "orientation": "horizontal",
            "min": 0,
            "description_tooltip": null,
            "_model_module": "@jupyter-widgets/controls",
            "layout": "IPY_MODEL_7ac604f2845a4a809e038f4bb11862a4"
          }
        },
        "e6a850105d8c46298b14fe29b57ffbe6": {
          "model_module": "@jupyter-widgets/controls",
          "model_name": "DescriptionStyleModel",
          "model_module_version": "1.5.0",
          "state": {
            "_view_name": "StyleView",
            "_model_name": "DescriptionStyleModel",
            "description_width": "",
            "_view_module": "@jupyter-widgets/base",
            "_model_module_version": "1.5.0",
            "_view_count": null,
            "_view_module_version": "1.2.0",
            "_model_module": "@jupyter-widgets/controls"
          }
        },
        "26ebd92df8b24b4cb974f34d8c1ec0c2": {
          "model_module": "@jupyter-widgets/base",
          "model_name": "LayoutModel",
          "model_module_version": "1.2.0",
          "state": {
            "_view_name": "LayoutView",
            "grid_template_rows": null,
            "right": null,
            "justify_content": null,
            "_view_module": "@jupyter-widgets/base",
            "overflow": null,
            "_model_module_version": "1.2.0",
            "_view_count": null,
            "flex_flow": null,
            "width": null,
            "min_width": null,
            "border": null,
            "align_items": null,
            "bottom": null,
            "_model_module": "@jupyter-widgets/base",
            "top": null,
            "grid_column": null,
            "overflow_y": null,
            "overflow_x": null,
            "grid_auto_flow": null,
            "grid_area": null,
            "grid_template_columns": null,
            "flex": null,
            "_model_name": "LayoutModel",
            "justify_items": null,
            "grid_row": null,
            "max_height": null,
            "align_content": null,
            "visibility": null,
            "align_self": null,
            "height": null,
            "min_height": null,
            "padding": null,
            "grid_auto_rows": null,
            "grid_gap": null,
            "max_width": null,
            "order": null,
            "_view_module_version": "1.2.0",
            "grid_template_areas": null,
            "object_position": null,
            "object_fit": null,
            "grid_auto_columns": null,
            "margin": null,
            "display": null,
            "left": null
          }
        },
        "6acd9602e9de4ee789797e4dd902dfde": {
          "model_module": "@jupyter-widgets/controls",
          "model_name": "ProgressStyleModel",
          "model_module_version": "1.5.0",
          "state": {
            "_view_name": "StyleView",
            "_model_name": "ProgressStyleModel",
            "description_width": "",
            "_view_module": "@jupyter-widgets/base",
            "_model_module_version": "1.5.0",
            "_view_count": null,
            "_view_module_version": "1.2.0",
            "bar_color": null,
            "_model_module": "@jupyter-widgets/controls"
          }
        },
        "7ac604f2845a4a809e038f4bb11862a4": {
          "model_module": "@jupyter-widgets/base",
          "model_name": "LayoutModel",
          "model_module_version": "1.2.0",
          "state": {
            "_view_name": "LayoutView",
            "grid_template_rows": null,
            "right": null,
            "justify_content": null,
            "_view_module": "@jupyter-widgets/base",
            "overflow": null,
            "_model_module_version": "1.2.0",
            "_view_count": null,
            "flex_flow": null,
            "width": null,
            "min_width": null,
            "border": null,
            "align_items": null,
            "bottom": null,
            "_model_module": "@jupyter-widgets/base",
            "top": null,
            "grid_column": null,
            "overflow_y": null,
            "overflow_x": null,
            "grid_auto_flow": null,
            "grid_area": null,
            "grid_template_columns": null,
            "flex": null,
            "_model_name": "LayoutModel",
            "justify_items": null,
            "grid_row": null,
            "max_height": null,
            "align_content": null,
            "visibility": null,
            "align_self": null,
            "height": null,
            "min_height": null,
            "padding": null,
            "grid_auto_rows": null,
            "grid_gap": null,
            "max_width": null,
            "order": null,
            "_view_module_version": "1.2.0",
            "grid_template_areas": null,
            "object_position": null,
            "object_fit": null,
            "grid_auto_columns": null,
            "margin": null,
            "display": null,
            "left": null
          }
        },
        "c937471fd694454581ea6682c4e5b3d2": {
          "model_module": "@jupyter-widgets/controls",
          "model_name": "VBoxModel",
          "model_module_version": "1.5.0",
          "state": {
            "_view_name": "VBoxView",
            "_dom_classes": [],
            "_model_name": "VBoxModel",
            "_view_module": "@jupyter-widgets/controls",
            "_model_module_version": "1.5.0",
            "_view_count": null,
            "_view_module_version": "1.5.0",
            "box_style": "",
            "layout": "IPY_MODEL_147bc6afc27747c4addab23fbda5a381",
            "_model_module": "@jupyter-widgets/controls",
            "children": [
              "IPY_MODEL_10193ebaa00a467c8bc2ef1394ee5a9b",
              "IPY_MODEL_aaafb44824914333970a53e57da2623f"
            ]
          }
        },
        "147bc6afc27747c4addab23fbda5a381": {
          "model_module": "@jupyter-widgets/base",
          "model_name": "LayoutModel",
          "model_module_version": "1.2.0",
          "state": {
            "_view_name": "LayoutView",
            "grid_template_rows": null,
            "right": null,
            "justify_content": null,
            "_view_module": "@jupyter-widgets/base",
            "overflow": null,
            "_model_module_version": "1.2.0",
            "_view_count": null,
            "flex_flow": null,
            "width": null,
            "min_width": null,
            "border": null,
            "align_items": null,
            "bottom": null,
            "_model_module": "@jupyter-widgets/base",
            "top": null,
            "grid_column": null,
            "overflow_y": null,
            "overflow_x": null,
            "grid_auto_flow": null,
            "grid_area": null,
            "grid_template_columns": null,
            "flex": null,
            "_model_name": "LayoutModel",
            "justify_items": null,
            "grid_row": null,
            "max_height": null,
            "align_content": null,
            "visibility": null,
            "align_self": null,
            "height": null,
            "min_height": null,
            "padding": null,
            "grid_auto_rows": null,
            "grid_gap": null,
            "max_width": null,
            "order": null,
            "_view_module_version": "1.2.0",
            "grid_template_areas": null,
            "object_position": null,
            "object_fit": null,
            "grid_auto_columns": null,
            "margin": null,
            "display": null,
            "left": null
          }
        },
        "10193ebaa00a467c8bc2ef1394ee5a9b": {
          "model_module": "@jupyter-widgets/controls",
          "model_name": "LabelModel",
          "model_module_version": "1.5.0",
          "state": {
            "_view_name": "LabelView",
            "style": "IPY_MODEL_4c8bed73ccf142a99ac500c603f4473e",
            "_dom_classes": [],
            "description": "",
            "_model_name": "LabelModel",
            "placeholder": "​",
            "_view_module": "@jupyter-widgets/controls",
            "_model_module_version": "1.5.0",
            "value": " 0.01MB of 0.01MB uploaded (0.00MB deduped)\r",
            "_view_count": null,
            "_view_module_version": "1.5.0",
            "description_tooltip": null,
            "_model_module": "@jupyter-widgets/controls",
            "layout": "IPY_MODEL_aa567aa97f5b47b09873ffe82be0f8fd"
          }
        },
        "aaafb44824914333970a53e57da2623f": {
          "model_module": "@jupyter-widgets/controls",
          "model_name": "FloatProgressModel",
          "model_module_version": "1.5.0",
          "state": {
            "_view_name": "ProgressView",
            "style": "IPY_MODEL_9191221d5c064da0927e91b0651e5f95",
            "_dom_classes": [],
            "description": "",
            "_model_name": "FloatProgressModel",
            "bar_style": "",
            "max": 1,
            "_view_module": "@jupyter-widgets/controls",
            "_model_module_version": "1.5.0",
            "value": 1,
            "_view_count": null,
            "_view_module_version": "1.5.0",
            "orientation": "horizontal",
            "min": 0,
            "description_tooltip": null,
            "_model_module": "@jupyter-widgets/controls",
            "layout": "IPY_MODEL_29e844ed6ff54876826a7e5a47d38171"
          }
        },
        "4c8bed73ccf142a99ac500c603f4473e": {
          "model_module": "@jupyter-widgets/controls",
          "model_name": "DescriptionStyleModel",
          "model_module_version": "1.5.0",
          "state": {
            "_view_name": "StyleView",
            "_model_name": "DescriptionStyleModel",
            "description_width": "",
            "_view_module": "@jupyter-widgets/base",
            "_model_module_version": "1.5.0",
            "_view_count": null,
            "_view_module_version": "1.2.0",
            "_model_module": "@jupyter-widgets/controls"
          }
        },
        "aa567aa97f5b47b09873ffe82be0f8fd": {
          "model_module": "@jupyter-widgets/base",
          "model_name": "LayoutModel",
          "model_module_version": "1.2.0",
          "state": {
            "_view_name": "LayoutView",
            "grid_template_rows": null,
            "right": null,
            "justify_content": null,
            "_view_module": "@jupyter-widgets/base",
            "overflow": null,
            "_model_module_version": "1.2.0",
            "_view_count": null,
            "flex_flow": null,
            "width": null,
            "min_width": null,
            "border": null,
            "align_items": null,
            "bottom": null,
            "_model_module": "@jupyter-widgets/base",
            "top": null,
            "grid_column": null,
            "overflow_y": null,
            "overflow_x": null,
            "grid_auto_flow": null,
            "grid_area": null,
            "grid_template_columns": null,
            "flex": null,
            "_model_name": "LayoutModel",
            "justify_items": null,
            "grid_row": null,
            "max_height": null,
            "align_content": null,
            "visibility": null,
            "align_self": null,
            "height": null,
            "min_height": null,
            "padding": null,
            "grid_auto_rows": null,
            "grid_gap": null,
            "max_width": null,
            "order": null,
            "_view_module_version": "1.2.0",
            "grid_template_areas": null,
            "object_position": null,
            "object_fit": null,
            "grid_auto_columns": null,
            "margin": null,
            "display": null,
            "left": null
          }
        },
        "9191221d5c064da0927e91b0651e5f95": {
          "model_module": "@jupyter-widgets/controls",
          "model_name": "ProgressStyleModel",
          "model_module_version": "1.5.0",
          "state": {
            "_view_name": "StyleView",
            "_model_name": "ProgressStyleModel",
            "description_width": "",
            "_view_module": "@jupyter-widgets/base",
            "_model_module_version": "1.5.0",
            "_view_count": null,
            "_view_module_version": "1.2.0",
            "bar_color": null,
            "_model_module": "@jupyter-widgets/controls"
          }
        },
        "29e844ed6ff54876826a7e5a47d38171": {
          "model_module": "@jupyter-widgets/base",
          "model_name": "LayoutModel",
          "model_module_version": "1.2.0",
          "state": {
            "_view_name": "LayoutView",
            "grid_template_rows": null,
            "right": null,
            "justify_content": null,
            "_view_module": "@jupyter-widgets/base",
            "overflow": null,
            "_model_module_version": "1.2.0",
            "_view_count": null,
            "flex_flow": null,
            "width": null,
            "min_width": null,
            "border": null,
            "align_items": null,
            "bottom": null,
            "_model_module": "@jupyter-widgets/base",
            "top": null,
            "grid_column": null,
            "overflow_y": null,
            "overflow_x": null,
            "grid_auto_flow": null,
            "grid_area": null,
            "grid_template_columns": null,
            "flex": null,
            "_model_name": "LayoutModel",
            "justify_items": null,
            "grid_row": null,
            "max_height": null,
            "align_content": null,
            "visibility": null,
            "align_self": null,
            "height": null,
            "min_height": null,
            "padding": null,
            "grid_auto_rows": null,
            "grid_gap": null,
            "max_width": null,
            "order": null,
            "_view_module_version": "1.2.0",
            "grid_template_areas": null,
            "object_position": null,
            "object_fit": null,
            "grid_auto_columns": null,
            "margin": null,
            "display": null,
            "left": null
          }
        }
      }
    }
  },
  "nbformat": 4,
  "nbformat_minor": 0
}