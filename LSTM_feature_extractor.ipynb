{
  "nbformat": 4,
  "nbformat_minor": 0,
  "metadata": {
    "colab": {
      "name": "LSTM_feature_extractor.ipynb",
      "provenance": [],
      "mount_file_id": "https://github.com/Krankile/ensemble-forcasting/blob/main/LSTM_feature_extractor.ipynb",
      "authorship_tag": "ABX9TyNs6A4TkIRyxW076yZfQkr4",
      "include_colab_link": true
    },
    "kernelspec": {
      "name": "python3",
      "display_name": "Python 3"
    },
    "language_info": {
      "name": "python"
    },
    "accelerator": "GPU"
  },
  "cells": [
    {
      "cell_type": "markdown",
      "metadata": {
        "id": "view-in-github",
        "colab_type": "text"
      },
      "source": [
        "<a href=\"https://colab.research.google.com/github/Krankile/ensemble-forcasting/blob/main/LSTM_feature_extractor.ipynb\" target=\"_parent\"><img src=\"https://colab.research.google.com/assets/colab-badge.svg\" alt=\"Open In Colab\"/></a>"
      ]
    },
    {
      "cell_type": "code",
      "metadata": {
        "id": "6NOjedVwhAX9",
        "colab": {
          "base_uri": "https://localhost:8080/"
        },
        "outputId": "5a62d3f4-7415-4582-e7d8-79e458f8a60a"
      },
      "source": [
        "import copy\n",
        "import random\n",
        "from datetime import datetime\n",
        "\n",
        "import numpy as np\n",
        "import matplotlib.pyplot as plt\n",
        "import pandas as pd\n",
        "\n",
        "from tqdm import tqdm\n",
        "\n",
        "import torch\n",
        "from torch import nn\n",
        "\n",
        "device = torch.device(\"cuda\" if torch.cuda.is_available() else \"cpu\")\n",
        "device"
      ],
      "execution_count": 10,
      "outputs": [
        {
          "output_type": "execute_result",
          "data": {
            "text/plain": [
              "device(type='cuda')"
            ]
          },
          "metadata": {},
          "execution_count": 10
        }
      ]
    },
    {
      "cell_type": "code",
      "metadata": {
        "colab": {
          "base_uri": "https://localhost:8080/"
        },
        "id": "Ze0UAYggW9BQ",
        "outputId": "abb4c941-eb0f-479a-fc54-f4b4c7475d90"
      },
      "source": [
        "from google.colab import drive\n",
        "drive.mount('/content/drive')"
      ],
      "execution_count": 1,
      "outputs": [
        {
          "output_type": "stream",
          "name": "stdout",
          "text": [
            "Drive already mounted at /content/drive; to attempt to forcibly remount, call drive.mount(\"/content/drive\", force_remount=True).\n"
          ]
        }
      ]
    },
    {
      "cell_type": "code",
      "metadata": {
        "id": "gvbq82HdYKVW"
      },
      "source": [
        "DRIVE_PATH = \"/content/drive/MyDrive/10 – NTNU/# 9. Semester/Prosjektoppgave_runs\""
      ],
      "execution_count": 3,
      "outputs": []
    },
    {
      "cell_type": "code",
      "metadata": {
        "id": "rflHmkkgMhbx"
      },
      "source": [
        "%%capture\n",
        "!pip install wandb --upgrade"
      ],
      "execution_count": 46,
      "outputs": []
    },
    {
      "cell_type": "code",
      "metadata": {
        "colab": {
          "base_uri": "https://localhost:8080/",
          "height": 71
        },
        "id": "XTzPsbLuMnWB",
        "outputId": "de6c5def-4738-4fc5-89ff-f73cadbf61f6"
      },
      "source": [
        "import wandb\n",
        "\n",
        "wandb.login()"
      ],
      "execution_count": 47,
      "outputs": [
        {
          "output_type": "display_data",
          "data": {
            "application/javascript": [
              "\n",
              "        window._wandbApiKey = new Promise((resolve, reject) => {\n",
              "            function loadScript(url) {\n",
              "            return new Promise(function(resolve, reject) {\n",
              "                let newScript = document.createElement(\"script\");\n",
              "                newScript.onerror = reject;\n",
              "                newScript.onload = resolve;\n",
              "                document.body.appendChild(newScript);\n",
              "                newScript.src = url;\n",
              "            });\n",
              "            }\n",
              "            loadScript(\"https://cdn.jsdelivr.net/npm/postmate/build/postmate.min.js\").then(() => {\n",
              "            const iframe = document.createElement('iframe')\n",
              "            iframe.style.cssText = \"width:0;height:0;border:none\"\n",
              "            document.body.appendChild(iframe)\n",
              "            const handshake = new Postmate({\n",
              "                container: iframe,\n",
              "                url: 'https://wandb.ai/authorize'\n",
              "            });\n",
              "            const timeout = setTimeout(() => reject(\"Couldn't auto authenticate\"), 5000)\n",
              "            handshake.then(function(child) {\n",
              "                child.on('authorize', data => {\n",
              "                    clearTimeout(timeout)\n",
              "                    resolve(data)\n",
              "                });\n",
              "            });\n",
              "            })\n",
              "        });\n",
              "    "
            ],
            "text/plain": [
              "<IPython.core.display.Javascript object>"
            ]
          },
          "metadata": {}
        },
        {
          "output_type": "stream",
          "name": "stderr",
          "text": [
            "\u001b[34m\u001b[1mwandb\u001b[0m: Appending key for api.wandb.ai to your netrc file: /root/.netrc\n"
          ]
        },
        {
          "output_type": "execute_result",
          "data": {
            "text/plain": [
              "True"
            ]
          },
          "metadata": {},
          "execution_count": 47
        }
      ]
    },
    {
      "cell_type": "code",
      "metadata": {
        "id": "BRIyGFnANE1z"
      },
      "source": [
        "config = dict(\n",
        "    epochs=150,\n",
        "    embedding_dim=128,\n",
        "    hidden_dim=256,\n",
        "    learning_rate=1e-3,\n",
        "    dataset=\"droso-3class-v01\",\n",
        "    architecture=\"LSTM\",\n",
        ")"
      ],
      "execution_count": null,
      "outputs": []
    },
    {
      "cell_type": "code",
      "metadata": {
        "id": "xHTU63O-mphv"
      },
      "source": [
        "class Encoder(nn.Module):\n",
        "\n",
        "  def __init__(self, seq_len, n_features, embedding_dim, hidden_dim):\n",
        "    super(Encoder, self).__init__()\n",
        "\n",
        "    self.seq_len, self.n_features = seq_len, n_features\n",
        "    self.embedding_dim = embedding_dim\n",
        "    self.hidden_dim = hidden_dim\n",
        "\n",
        "    self.rnn1 = nn.LSTM(\n",
        "      input_size=n_features,\n",
        "      hidden_size=self.hidden_dim,\n",
        "      num_layers=1,\n",
        "      batch_first=True\n",
        "    )\n",
        "    \n",
        "    self.rnn2 = nn.LSTM(\n",
        "      input_size=self.hidden_dim,\n",
        "      hidden_size=embedding_dim,\n",
        "      num_layers=1,\n",
        "      batch_first=True\n",
        "    )\n",
        "\n",
        "  def forward(self, x):\n",
        "    x = x.reshape((1, self.seq_len, self.n_features))\n",
        "\n",
        "    x, (_, _) = self.rnn1(x)\n",
        "    x, (hidden_n, _) = self.rnn2(x)\n",
        "\n",
        "    return hidden_n.reshape((self.n_features, self.embedding_dim))"
      ],
      "execution_count": 5,
      "outputs": []
    },
    {
      "cell_type": "code",
      "metadata": {
        "id": "xOb6k8p4x7Ck"
      },
      "source": [
        "class Decoder(nn.Module):\n",
        "\n",
        "  def __init__(self, seq_len, input_dim, hidden_dim, n_features=1):\n",
        "    super(Decoder, self).__init__()\n",
        "\n",
        "    self.seq_len = seq_len\n",
        "    self.input_dim = input_dim\n",
        "    self.hidden_dim = hidden_dim\n",
        "    self.n_features = n_features\n",
        "\n",
        "    self.rnn1 = nn.LSTM(\n",
        "      input_size=input_dim,\n",
        "      hidden_size=input_dim,\n",
        "      num_layers=1,\n",
        "      batch_first=True\n",
        "    )\n",
        "\n",
        "    self.rnn2 = nn.LSTM(\n",
        "      input_size=input_dim,\n",
        "      hidden_size=self.hidden_dim,\n",
        "      num_layers=1,\n",
        "      batch_first=True\n",
        "    )\n",
        "\n",
        "    self.output_layer = nn.Linear(self.hidden_dim, n_features)\n",
        "\n",
        "  def forward(self, x):\n",
        "    x = x.repeat(self.seq_len, self.n_features)\n",
        "    x = x.reshape((self.n_features, self.seq_len, self.input_dim))\n",
        "\n",
        "    x, (hidden_n, cell_n) = self.rnn1(x)\n",
        "    x, (hidden_n, cell_n) = self.rnn2(x)\n",
        "    x = x.reshape((self.seq_len, self.hidden_dim))\n",
        "\n",
        "    return self.output_layer(x)"
      ],
      "execution_count": 6,
      "outputs": []
    },
    {
      "cell_type": "code",
      "metadata": {
        "id": "M0cLmAB0yEXE"
      },
      "source": [
        "class RecurrentAutoencoder(nn.Module):\n",
        "\n",
        "  def __init__(self, seq_len, n_features, embedding_dim=64):\n",
        "    super(RecurrentAutoencoder, self).__init__()\n",
        "\n",
        "    self.encoder = Encoder(seq_len, n_features, embedding_dim).to(device)\n",
        "    self.decoder = Decoder(seq_len, embedding_dim, n_features).to(device)\n",
        "\n",
        "  def forward(self, x):\n",
        "    x = self.encoder(x)\n",
        "    x = self.decoder(x)\n",
        "\n",
        "    return x"
      ],
      "execution_count": 7,
      "outputs": []
    },
    {
      "cell_type": "code",
      "metadata": {
        "id": "fytZWUOhyMe0"
      },
      "source": [
        "def train_model(model, train_dataset, val_dataset, n_epochs):\n",
        "    starttime = datetime.now()\n",
        "    logpath = f\"{DRIVE_PATH}-logs-{starttime}\"\n",
        "\n",
        "    with open(logpath, mode=\"w\") as f:\n",
        "        f.write(\"Epoch;Train_loss;Val_loss\\n\")\n",
        "\n",
        "    optimizer = torch.optim.Adam(model.parameters(), lr=config[\"learning_rate\"])\n",
        "    # Test with sMAPE and MASE as well maybe\n",
        "    criterion = nn.L1Loss(reduction='sum').to(device)\n",
        "    history = dict(train=[], val=[])\n",
        "\n",
        "    best_model_wts = copy.deepcopy(model.state_dict())\n",
        "    best_loss = 10000.0\n",
        "\n",
        "    it = tqdm(range(1, n_epochs + 1))\n",
        "\n",
        "    for epoch in it:\n",
        "        model = model.train()\n",
        "\n",
        "        train_losses = []\n",
        "        for seq_true in train_dataset:\n",
        "            optimizer.zero_grad()\n",
        "\n",
        "            seq_true = seq_true.to(device)\n",
        "            seq_pred = model(seq_true)\n",
        "\n",
        "            loss = criterion(seq_pred, seq_true)\n",
        "\n",
        "            loss.backward()\n",
        "            optimizer.step()\n",
        "\n",
        "            train_losses.append(loss.item())\n",
        "\n",
        "        val_losses = []\n",
        "        model = model.eval()\n",
        "        with torch.no_grad():\n",
        "            for seq_true in val_dataset:\n",
        "\n",
        "                seq_true = seq_true.to(device)\n",
        "                seq_pred = model(seq_true)\n",
        "\n",
        "                loss = criterion(seq_pred, seq_true)\n",
        "                val_losses.append(loss.item())\n",
        "\n",
        "        train_loss = np.mean(train_losses)\n",
        "        val_loss = np.mean(val_losses)\n",
        "\n",
        "        with open(logpath, mode=\"a\") as f:\n",
        "            f.write(f\"{epoch};{train_loss};{val_loss}\\n\")\n",
        "\n",
        "        history['train'].append(train_loss)\n",
        "        history['val'].append(val_loss)\n",
        "\n",
        "        if val_loss < best_loss:\n",
        "            best_loss = val_loss\n",
        "            best_model_wts = copy.deepcopy(model.state_dict())\n",
        "\n",
        "            with open(DRIVE_PATH + \"model_weights\", \"wb\") as f:\n",
        "                torch.save(best_model_wts, f)\n",
        "\n",
        "        it.set_postfix(\n",
        "            train_loss=train_loss,\n",
        "            val_loss=val_loss\n",
        "        )\n",
        "\n",
        "    model.load_state_dict(best_model_wts)\n",
        "    return model.eval(), history"
      ],
      "execution_count": 8,
      "outputs": []
    },
    {
      "cell_type": "code",
      "metadata": {
        "id": "0lvLS9bmnCuC"
      },
      "source": [
        "train_dataset = []\n",
        "\n",
        "xs = np.linspace(-1, 1, 500)\n",
        "\n",
        "for i in xs:\n",
        "    train_dataset.append(np.linspace(i, i, 100))\n",
        "    train_dataset.append(np.linspace(-i, i, 100))\n",
        "    train_dataset.append(-i*np.sin(np.linspace(-i*4*np.pi, i*4*np.pi, 100)))\n",
        "\n",
        "# NBNB\n",
        "val_dataset = random.sample(train_dataset, k=int(0.1 * len(train_dataset)))\n",
        "\n",
        "train_tensor = torch.Tensor(train_dataset).reshape((-1, 100, 1))\n",
        "val_tensor = torch.Tensor(val_dataset).reshape((-1, 100, 1))\n",
        "\n",
        "_, seq_len, n_features = train_tensor.shape"
      ],
      "execution_count": 21,
      "outputs": []
    },
    {
      "cell_type": "code",
      "metadata": {
        "id": "xYKa_AzAyWxE",
        "colab": {
          "base_uri": "https://localhost:8080/"
        },
        "outputId": "120a9357-c9d3-4e60-fa98-81d6309b3294"
      },
      "source": [
        "model = RecurrentAutoencoder(\n",
        "    seq_len=seq_len,\n",
        "    n_features=n_features,\n",
        "    embedding_dim=config[\"embedding_dim\"],\n",
        "    hidden_dim=config[\"hidden_dim\"]\n",
        ")\n",
        "\n",
        "model = model.to(device)\n",
        "\n",
        "model, history = train_model(\n",
        "    model,\n",
        "    train_tensor,\n",
        "    val_tensor,\n",
        "    n_epochs=150,\n",
        ")\n",
        "model = model.cpu()"
      ],
      "execution_count": null,
      "outputs": [
        {
          "output_type": "stream",
          "name": "stderr",
          "text": [
            " 61%|██████    | 91/150 [2:59:31<1:55:34, 117.54s/it, train_loss=13.2, val_loss=55]"
          ]
        }
      ]
    },
    {
      "cell_type": "markdown",
      "metadata": {
        "id": "mEyXxfwcDAry"
      },
      "source": [
        "## Check results"
      ]
    },
    {
      "cell_type": "code",
      "metadata": {
        "colab": {
          "base_uri": "https://localhost:8080/",
          "height": 265
        },
        "id": "UXQrp9GqDF6Y",
        "outputId": "5e25e77c-3308-470e-b3d3-749135a8740e"
      },
      "source": [
        "# Plot training data\n",
        "logspath = \"/content/drive/MyDrive/# 9. Semester/Prosjektoppgave_runs-logs-2021-10-20 15:58:18.177512\"\n",
        "\n",
        "logs = pd.read_csv(logspath, sep=\";\").set_index(\"Epoch\")\n",
        "logs[\"tloss_smooth\"] = logs[\"Train_loss\"].rolling(10).mean()\n",
        "logs[\"vloss_smooth\"] = logs[\"Val_loss\"].rolling(10).mean()\n",
        "plt.plot(logs[\"tloss_smooth\"]);\n",
        "plt.plot(logs[\"vloss_smooth\"]);"
      ],
      "execution_count": 19,
      "outputs": [
        {
          "output_type": "display_data",
          "data": {
            "image/png": "[encoded data removed]",
            "text/plain": [
              "<Figure size 432x288 with 1 Axes>"
            ]
          },
          "metadata": {
            "needs_background": "light"
          }
        }
      ]
    },
    {
      "cell_type": "code",
      "metadata": {
        "id": "XCMnTA7tkkBs"
      },
      "source": [
        "model = RecurrentAutoencoder(seq_len=seq_len, n_features=n_features, embedding_dim=128)\n",
        "model.load_state_dict(torch.load(\"/content/drive/MyDrive/# 9. Semester/Prosjektoppgave_runsmodel_weights\"))\n",
        "model = model.eval().cpu()"
      ],
      "execution_count": 43,
      "outputs": []
    },
    {
      "cell_type": "code",
      "metadata": {
        "colab": {
          "base_uri": "https://localhost:8080/",
          "height": 265
        },
        "id": "w5xQi-9-r2t9",
        "outputId": "90103655-74a1-434e-9852-7996c8880a10"
      },
      "source": [
        "series = 200\n",
        "\n",
        "plt.plot(np.linspace(0, 1, 100), train_tensor[series], label=\"Original\");\n",
        "plt.plot(np.linspace(0, 1, 100), model(train_tensor[series]).detach().numpy(), label=\"Reconstructed\")\n",
        "plt.legend();"
      ],
      "execution_count": 45,
      "outputs": [
        {
          "output_type": "display_data",
          "data": {
            "image/png": "[encoded data removed]",
            "text/plain": [
              "<Figure size 432x288 with 1 Axes>"
            ]
          },
          "metadata": {
            "needs_background": "light"
          }
        }
      ]
    },
    {
      "cell_type": "code",
      "metadata": {
        "id": "J45z7KfxG2s3"
      },
      "source": [
        ""
      ],
      "execution_count": null,
      "outputs": []
    }
  ]
}