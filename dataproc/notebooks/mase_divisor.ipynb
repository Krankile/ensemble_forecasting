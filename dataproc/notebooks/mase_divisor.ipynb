{
  "nbformat": 4,
  "nbformat_minor": 0,
  "metadata": {
    "colab": {
      "name": "mase_divisor.ipynb",
      "provenance": [],
      "authorship_tag": "ABX9TyMtK6Iu3GYLCUEpvVmsPrVA",
      "include_colab_link": true
    },
    "kernelspec": {
      "name": "python3",
      "display_name": "Python 3"
    },
    "language_info": {
      "name": "python"
    },
    "widgets": {
      "application/vnd.jupyter.widget-state+json": {
        "7f8e28881f284172bbb208d2cc81182c": {
          "model_module": "@jupyter-widgets/controls",
          "model_name": "HBoxModel",
          "model_module_version": "1.5.0",
          "state": {
            "_view_name": "HBoxView",
            "_dom_classes": [],
            "_model_name": "HBoxModel",
            "_view_module": "@jupyter-widgets/controls",
            "_model_module_version": "1.5.0",
            "_view_count": null,
            "_view_module_version": "1.5.0",
            "box_style": "",
            "layout": "IPY_MODEL_720d270c8c074db1832e5654ddcc307e",
            "_model_module": "@jupyter-widgets/controls",
            "children": [
              "IPY_MODEL_eea72303236e45da90ead6b01c9f8a6c",
              "IPY_MODEL_20be31eb1bd44f3b848594027a4cb5b9",
              "IPY_MODEL_f72b27fcdc654b58850321e808313f03"
            ]
          }
        },
        "720d270c8c074db1832e5654ddcc307e": {
          "model_module": "@jupyter-widgets/base",
          "model_name": "LayoutModel",
          "model_module_version": "1.2.0",
          "state": {
            "_view_name": "LayoutView",
            "grid_template_rows": null,
            "right": null,
            "justify_content": null,
            "_view_module": "@jupyter-widgets/base",
            "overflow": null,
            "_model_module_version": "1.2.0",
            "_view_count": null,
            "flex_flow": null,
            "width": null,
            "min_width": null,
            "border": null,
            "align_items": null,
            "bottom": null,
            "_model_module": "@jupyter-widgets/base",
            "top": null,
            "grid_column": null,
            "overflow_y": null,
            "overflow_x": null,
            "grid_auto_flow": null,
            "grid_area": null,
            "grid_template_columns": null,
            "flex": null,
            "_model_name": "LayoutModel",
            "justify_items": null,
            "grid_row": null,
            "max_height": null,
            "align_content": null,
            "visibility": null,
            "align_self": null,
            "height": null,
            "min_height": null,
            "padding": null,
            "grid_auto_rows": null,
            "grid_gap": null,
            "max_width": null,
            "order": null,
            "_view_module_version": "1.2.0",
            "grid_template_areas": null,
            "object_position": null,
            "object_fit": null,
            "grid_auto_columns": null,
            "margin": null,
            "display": null,
            "left": null
          }
        },
        "eea72303236e45da90ead6b01c9f8a6c": {
          "model_module": "@jupyter-widgets/controls",
          "model_name": "HTMLModel",
          "model_module_version": "1.5.0",
          "state": {
            "_view_name": "HTMLView",
            "style": "IPY_MODEL_70600b2f96254a799738377e8a84dffb",
            "_dom_classes": [],
            "description": "",
            "_model_name": "HTMLModel",
            "placeholder": "​",
            "_view_module": "@jupyter-widgets/controls",
            "_model_module_version": "1.5.0",
            "value": "Processing the val set: 100%",
            "_view_count": null,
            "_view_module_version": "1.5.0",
            "description_tooltip": null,
            "_model_module": "@jupyter-widgets/controls",
            "layout": "IPY_MODEL_b83d2036f14740f3b4bae34ef723b41f"
          }
        },
        "20be31eb1bd44f3b848594027a4cb5b9": {
          "model_module": "@jupyter-widgets/controls",
          "model_name": "FloatProgressModel",
          "model_module_version": "1.5.0",
          "state": {
            "_view_name": "ProgressView",
            "style": "IPY_MODEL_4625ed930c5b41aea77320f187a49779",
            "_dom_classes": [],
            "description": "",
            "_model_name": "FloatProgressModel",
            "bar_style": "success",
            "max": 9995,
            "_view_module": "@jupyter-widgets/controls",
            "_model_module_version": "1.5.0",
            "value": 9995,
            "_view_count": null,
            "_view_module_version": "1.5.0",
            "orientation": "horizontal",
            "min": 0,
            "description_tooltip": null,
            "_model_module": "@jupyter-widgets/controls",
            "layout": "IPY_MODEL_4f75c98ca7e043819a77213737e5884a"
          }
        },
        "f72b27fcdc654b58850321e808313f03": {
          "model_module": "@jupyter-widgets/controls",
          "model_name": "HTMLModel",
          "model_module_version": "1.5.0",
          "state": {
            "_view_name": "HTMLView",
            "style": "IPY_MODEL_5ba83388b56141a4b6915a0b1f57e26b",
            "_dom_classes": [],
            "description": "",
            "_model_name": "HTMLModel",
            "placeholder": "​",
            "_view_module": "@jupyter-widgets/controls",
            "_model_module_version": "1.5.0",
            "value": " 9995/9995 [00:37&lt;00:00, 303.80it/s]",
            "_view_count": null,
            "_view_module_version": "1.5.0",
            "description_tooltip": null,
            "_model_module": "@jupyter-widgets/controls",
            "layout": "IPY_MODEL_97f19a6baa7a42ba98052dd76bc2c937"
          }
        },
        "70600b2f96254a799738377e8a84dffb": {
          "model_module": "@jupyter-widgets/controls",
          "model_name": "DescriptionStyleModel",
          "model_module_version": "1.5.0",
          "state": {
            "_view_name": "StyleView",
            "_model_name": "DescriptionStyleModel",
            "description_width": "",
            "_view_module": "@jupyter-widgets/base",
            "_model_module_version": "1.5.0",
            "_view_count": null,
            "_view_module_version": "1.2.0",
            "_model_module": "@jupyter-widgets/controls"
          }
        },
        "b83d2036f14740f3b4bae34ef723b41f": {
          "model_module": "@jupyter-widgets/base",
          "model_name": "LayoutModel",
          "model_module_version": "1.2.0",
          "state": {
            "_view_name": "LayoutView",
            "grid_template_rows": null,
            "right": null,
            "justify_content": null,
            "_view_module": "@jupyter-widgets/base",
            "overflow": null,
            "_model_module_version": "1.2.0",
            "_view_count": null,
            "flex_flow": null,
            "width": null,
            "min_width": null,
            "border": null,
            "align_items": null,
            "bottom": null,
            "_model_module": "@jupyter-widgets/base",
            "top": null,
            "grid_column": null,
            "overflow_y": null,
            "overflow_x": null,
            "grid_auto_flow": null,
            "grid_area": null,
            "grid_template_columns": null,
            "flex": null,
            "_model_name": "LayoutModel",
            "justify_items": null,
            "grid_row": null,
            "max_height": null,
            "align_content": null,
            "visibility": null,
            "align_self": null,
            "height": null,
            "min_height": null,
            "padding": null,
            "grid_auto_rows": null,
            "grid_gap": null,
            "max_width": null,
            "order": null,
            "_view_module_version": "1.2.0",
            "grid_template_areas": null,
            "object_position": null,
            "object_fit": null,
            "grid_auto_columns": null,
            "margin": null,
            "display": null,
            "left": null
          }
        },
        "4625ed930c5b41aea77320f187a49779": {
          "model_module": "@jupyter-widgets/controls",
          "model_name": "ProgressStyleModel",
          "model_module_version": "1.5.0",
          "state": {
            "_view_name": "StyleView",
            "_model_name": "ProgressStyleModel",
            "description_width": "",
            "_view_module": "@jupyter-widgets/base",
            "_model_module_version": "1.5.0",
            "_view_count": null,
            "_view_module_version": "1.2.0",
            "bar_color": null,
            "_model_module": "@jupyter-widgets/controls"
          }
        },
        "4f75c98ca7e043819a77213737e5884a": {
          "model_module": "@jupyter-widgets/base",
          "model_name": "LayoutModel",
          "model_module_version": "1.2.0",
          "state": {
            "_view_name": "LayoutView",
            "grid_template_rows": null,
            "right": null,
            "justify_content": null,
            "_view_module": "@jupyter-widgets/base",
            "overflow": null,
            "_model_module_version": "1.2.0",
            "_view_count": null,
            "flex_flow": null,
            "width": null,
            "min_width": null,
            "border": null,
            "align_items": null,
            "bottom": null,
            "_model_module": "@jupyter-widgets/base",
            "top": null,
            "grid_column": null,
            "overflow_y": null,
            "overflow_x": null,
            "grid_auto_flow": null,
            "grid_area": null,
            "grid_template_columns": null,
            "flex": null,
            "_model_name": "LayoutModel",
            "justify_items": null,
            "grid_row": null,
            "max_height": null,
            "align_content": null,
            "visibility": null,
            "align_self": null,
            "height": null,
            "min_height": null,
            "padding": null,
            "grid_auto_rows": null,
            "grid_gap": null,
            "max_width": null,
            "order": null,
            "_view_module_version": "1.2.0",
            "grid_template_areas": null,
            "object_position": null,
            "object_fit": null,
            "grid_auto_columns": null,
            "margin": null,
            "display": null,
            "left": null
          }
        },
        "5ba83388b56141a4b6915a0b1f57e26b": {
          "model_module": "@jupyter-widgets/controls",
          "model_name": "DescriptionStyleModel",
          "model_module_version": "1.5.0",
          "state": {
            "_view_name": "StyleView",
            "_model_name": "DescriptionStyleModel",
            "description_width": "",
            "_view_module": "@jupyter-widgets/base",
            "_model_module_version": "1.5.0",
            "_view_count": null,
            "_view_module_version": "1.2.0",
            "_model_module": "@jupyter-widgets/controls"
          }
        },
        "97f19a6baa7a42ba98052dd76bc2c937": {
          "model_module": "@jupyter-widgets/base",
          "model_name": "LayoutModel",
          "model_module_version": "1.2.0",
          "state": {
            "_view_name": "LayoutView",
            "grid_template_rows": null,
            "right": null,
            "justify_content": null,
            "_view_module": "@jupyter-widgets/base",
            "overflow": null,
            "_model_module_version": "1.2.0",
            "_view_count": null,
            "flex_flow": null,
            "width": null,
            "min_width": null,
            "border": null,
            "align_items": null,
            "bottom": null,
            "_model_module": "@jupyter-widgets/base",
            "top": null,
            "grid_column": null,
            "overflow_y": null,
            "overflow_x": null,
            "grid_auto_flow": null,
            "grid_area": null,
            "grid_template_columns": null,
            "flex": null,
            "_model_name": "LayoutModel",
            "justify_items": null,
            "grid_row": null,
            "max_height": null,
            "align_content": null,
            "visibility": null,
            "align_self": null,
            "height": null,
            "min_height": null,
            "padding": null,
            "grid_auto_rows": null,
            "grid_gap": null,
            "max_width": null,
            "order": null,
            "_view_module_version": "1.2.0",
            "grid_template_areas": null,
            "object_position": null,
            "object_fit": null,
            "grid_auto_columns": null,
            "margin": null,
            "display": null,
            "left": null
          }
        },
        "a6ff2851a7ce4851b87371353b3fe791": {
          "model_module": "@jupyter-widgets/controls",
          "model_name": "HBoxModel",
          "model_module_version": "1.5.0",
          "state": {
            "_view_name": "HBoxView",
            "_dom_classes": [],
            "_model_name": "HBoxModel",
            "_view_module": "@jupyter-widgets/controls",
            "_model_module_version": "1.5.0",
            "_view_count": null,
            "_view_module_version": "1.5.0",
            "box_style": "",
            "layout": "IPY_MODEL_0db76b0f93134e4da40451876be91142",
            "_model_module": "@jupyter-widgets/controls",
            "children": [
              "IPY_MODEL_ada80bf002fa4963af2fd26c7bdaf430",
              "IPY_MODEL_e56408edb1eb4133b5f99b9f649c8f1c",
              "IPY_MODEL_3a35f9a3bcec4e7d984a9716cd0f2485"
            ]
          }
        },
        "0db76b0f93134e4da40451876be91142": {
          "model_module": "@jupyter-widgets/base",
          "model_name": "LayoutModel",
          "model_module_version": "1.2.0",
          "state": {
            "_view_name": "LayoutView",
            "grid_template_rows": null,
            "right": null,
            "justify_content": null,
            "_view_module": "@jupyter-widgets/base",
            "overflow": null,
            "_model_module_version": "1.2.0",
            "_view_count": null,
            "flex_flow": null,
            "width": null,
            "min_width": null,
            "border": null,
            "align_items": null,
            "bottom": null,
            "_model_module": "@jupyter-widgets/base",
            "top": null,
            "grid_column": null,
            "overflow_y": null,
            "overflow_x": null,
            "grid_auto_flow": null,
            "grid_area": null,
            "grid_template_columns": null,
            "flex": null,
            "_model_name": "LayoutModel",
            "justify_items": null,
            "grid_row": null,
            "max_height": null,
            "align_content": null,
            "visibility": null,
            "align_self": null,
            "height": null,
            "min_height": null,
            "padding": null,
            "grid_auto_rows": null,
            "grid_gap": null,
            "max_width": null,
            "order": null,
            "_view_module_version": "1.2.0",
            "grid_template_areas": null,
            "object_position": null,
            "object_fit": null,
            "grid_auto_columns": null,
            "margin": null,
            "display": null,
            "left": null
          }
        },
        "ada80bf002fa4963af2fd26c7bdaf430": {
          "model_module": "@jupyter-widgets/controls",
          "model_name": "HTMLModel",
          "model_module_version": "1.5.0",
          "state": {
            "_view_name": "HTMLView",
            "style": "IPY_MODEL_ac13f2f4172743478c017dc0c4fe19e2",
            "_dom_classes": [],
            "description": "",
            "_model_name": "HTMLModel",
            "placeholder": "​",
            "_view_module": "@jupyter-widgets/controls",
            "_model_module_version": "1.5.0",
            "value": "Processing the train set: 100%",
            "_view_count": null,
            "_view_module_version": "1.5.0",
            "description_tooltip": null,
            "_model_module": "@jupyter-widgets/controls",
            "layout": "IPY_MODEL_b5b7cdc5892f43bd8d91679354abdf59"
          }
        },
        "e56408edb1eb4133b5f99b9f649c8f1c": {
          "model_module": "@jupyter-widgets/controls",
          "model_name": "FloatProgressModel",
          "model_module_version": "1.5.0",
          "state": {
            "_view_name": "ProgressView",
            "style": "IPY_MODEL_c497a8890f78462285fb6f988ea350bd",
            "_dom_classes": [],
            "description": "",
            "_model_name": "FloatProgressModel",
            "bar_style": "success",
            "max": 90000,
            "_view_module": "@jupyter-widgets/controls",
            "_model_module_version": "1.5.0",
            "value": 90000,
            "_view_count": null,
            "_view_module_version": "1.5.0",
            "orientation": "horizontal",
            "min": 0,
            "description_tooltip": null,
            "_model_module": "@jupyter-widgets/controls",
            "layout": "IPY_MODEL_526a2c9071424a8b9ffbf5f383116058"
          }
        },
        "3a35f9a3bcec4e7d984a9716cd0f2485": {
          "model_module": "@jupyter-widgets/controls",
          "model_name": "HTMLModel",
          "model_module_version": "1.5.0",
          "state": {
            "_view_name": "HTMLView",
            "style": "IPY_MODEL_589a4fb688954f94aca5481423cbcf76",
            "_dom_classes": [],
            "description": "",
            "_model_name": "HTMLModel",
            "placeholder": "​",
            "_view_module": "@jupyter-widgets/controls",
            "_model_module_version": "1.5.0",
            "value": " 90000/90000 [05:36&lt;00:00, 323.36it/s]",
            "_view_count": null,
            "_view_module_version": "1.5.0",
            "description_tooltip": null,
            "_model_module": "@jupyter-widgets/controls",
            "layout": "IPY_MODEL_00499a97171d4a2cae1366bab59d4e1c"
          }
        },
        "ac13f2f4172743478c017dc0c4fe19e2": {
          "model_module": "@jupyter-widgets/controls",
          "model_name": "DescriptionStyleModel",
          "model_module_version": "1.5.0",
          "state": {
            "_view_name": "StyleView",
            "_model_name": "DescriptionStyleModel",
            "description_width": "",
            "_view_module": "@jupyter-widgets/base",
            "_model_module_version": "1.5.0",
            "_view_count": null,
            "_view_module_version": "1.2.0",
            "_model_module": "@jupyter-widgets/controls"
          }
        },
        "b5b7cdc5892f43bd8d91679354abdf59": {
          "model_module": "@jupyter-widgets/base",
          "model_name": "LayoutModel",
          "model_module_version": "1.2.0",
          "state": {
            "_view_name": "LayoutView",
            "grid_template_rows": null,
            "right": null,
            "justify_content": null,
            "_view_module": "@jupyter-widgets/base",
            "overflow": null,
            "_model_module_version": "1.2.0",
            "_view_count": null,
            "flex_flow": null,
            "width": null,
            "min_width": null,
            "border": null,
            "align_items": null,
            "bottom": null,
            "_model_module": "@jupyter-widgets/base",
            "top": null,
            "grid_column": null,
            "overflow_y": null,
            "overflow_x": null,
            "grid_auto_flow": null,
            "grid_area": null,
            "grid_template_columns": null,
            "flex": null,
            "_model_name": "LayoutModel",
            "justify_items": null,
            "grid_row": null,
            "max_height": null,
            "align_content": null,
            "visibility": null,
            "align_self": null,
            "height": null,
            "min_height": null,
            "padding": null,
            "grid_auto_rows": null,
            "grid_gap": null,
            "max_width": null,
            "order": null,
            "_view_module_version": "1.2.0",
            "grid_template_areas": null,
            "object_position": null,
            "object_fit": null,
            "grid_auto_columns": null,
            "margin": null,
            "display": null,
            "left": null
          }
        },
        "c497a8890f78462285fb6f988ea350bd": {
          "model_module": "@jupyter-widgets/controls",
          "model_name": "ProgressStyleModel",
          "model_module_version": "1.5.0",
          "state": {
            "_view_name": "StyleView",
            "_model_name": "ProgressStyleModel",
            "description_width": "",
            "_view_module": "@jupyter-widgets/base",
            "_model_module_version": "1.5.0",
            "_view_count": null,
            "_view_module_version": "1.2.0",
            "bar_color": null,
            "_model_module": "@jupyter-widgets/controls"
          }
        },
        "526a2c9071424a8b9ffbf5f383116058": {
          "model_module": "@jupyter-widgets/base",
          "model_name": "LayoutModel",
          "model_module_version": "1.2.0",
          "state": {
            "_view_name": "LayoutView",
            "grid_template_rows": null,
            "right": null,
            "justify_content": null,
            "_view_module": "@jupyter-widgets/base",
            "overflow": null,
            "_model_module_version": "1.2.0",
            "_view_count": null,
            "flex_flow": null,
            "width": null,
            "min_width": null,
            "border": null,
            "align_items": null,
            "bottom": null,
            "_model_module": "@jupyter-widgets/base",
            "top": null,
            "grid_column": null,
            "overflow_y": null,
            "overflow_x": null,
            "grid_auto_flow": null,
            "grid_area": null,
            "grid_template_columns": null,
            "flex": null,
            "_model_name": "LayoutModel",
            "justify_items": null,
            "grid_row": null,
            "max_height": null,
            "align_content": null,
            "visibility": null,
            "align_self": null,
            "height": null,
            "min_height": null,
            "padding": null,
            "grid_auto_rows": null,
            "grid_gap": null,
            "max_width": null,
            "order": null,
            "_view_module_version": "1.2.0",
            "grid_template_areas": null,
            "object_position": null,
            "object_fit": null,
            "grid_auto_columns": null,
            "margin": null,
            "display": null,
            "left": null
          }
        },
        "589a4fb688954f94aca5481423cbcf76": {
          "model_module": "@jupyter-widgets/controls",
          "model_name": "DescriptionStyleModel",
          "model_module_version": "1.5.0",
          "state": {
            "_view_name": "StyleView",
            "_model_name": "DescriptionStyleModel",
            "description_width": "",
            "_view_module": "@jupyter-widgets/base",
            "_model_module_version": "1.5.0",
            "_view_count": null,
            "_view_module_version": "1.2.0",
            "_model_module": "@jupyter-widgets/controls"
          }
        },
        "00499a97171d4a2cae1366bab59d4e1c": {
          "model_module": "@jupyter-widgets/base",
          "model_name": "LayoutModel",
          "model_module_version": "1.2.0",
          "state": {
            "_view_name": "LayoutView",
            "grid_template_rows": null,
            "right": null,
            "justify_content": null,
            "_view_module": "@jupyter-widgets/base",
            "overflow": null,
            "_model_module_version": "1.2.0",
            "_view_count": null,
            "flex_flow": null,
            "width": null,
            "min_width": null,
            "border": null,
            "align_items": null,
            "bottom": null,
            "_model_module": "@jupyter-widgets/base",
            "top": null,
            "grid_column": null,
            "overflow_y": null,
            "overflow_x": null,
            "grid_auto_flow": null,
            "grid_area": null,
            "grid_template_columns": null,
            "flex": null,
            "_model_name": "LayoutModel",
            "justify_items": null,
            "grid_row": null,
            "max_height": null,
            "align_content": null,
            "visibility": null,
            "align_self": null,
            "height": null,
            "min_height": null,
            "padding": null,
            "grid_auto_rows": null,
            "grid_gap": null,
            "max_width": null,
            "order": null,
            "_view_module_version": "1.2.0",
            "grid_template_areas": null,
            "object_position": null,
            "object_fit": null,
            "grid_auto_columns": null,
            "margin": null,
            "display": null,
            "left": null
          }
        }
      }
    }
  },
  "cells": [
    {
      "cell_type": "markdown",
      "metadata": {
        "id": "view-in-github",
        "colab_type": "text"
      },
      "source": [
        "<a href=\"https://colab.research.google.com/github/Krankile/ensemble_forecasting/blob/main/dataproc/notebooks/mase_divisor.ipynb\" target=\"_parent\"><img src=\"https://colab.research.google.com/assets/colab-badge.svg\" alt=\"Open In Colab\"/></a>"
      ]
    },
    {
      "cell_type": "code",
      "metadata": {
        "id": "ZeWdCVgbrQUX"
      },
      "source": [
        "%%capture\n",
        "!pip install kora"
      ],
      "execution_count": 5,
      "outputs": []
    },
    {
      "cell_type": "code",
      "metadata": {
        "id": "QwuOMd5Rt1Hg"
      },
      "source": [
        "from kora import drive\n",
        "drive.link_nbs()\n",
        "import pandas as pd\n",
        "import matplotlib.pyplot as plt\n",
        "import numpy as np\n",
        "from pathlib import Path \n",
        "from tqdm.notebook import tqdm\n"
      ],
      "execution_count": 31,
      "outputs": []
    },
    {
      "cell_type": "code",
      "metadata": {
        "id": "O0vOGxSCWXxk"
      },
      "source": [
        "WRITE_TO_FILE = False"
      ],
      "execution_count": null,
      "outputs": []
    },
    {
      "cell_type": "markdown",
      "metadata": {
        "id": "FTK1REec2rdP"
      },
      "source": [
        "#Clean data"
      ]
    },
    {
      "cell_type": "code",
      "metadata": {
        "id": "4-pAbHelUl5a"
      },
      "source": [
        "ROOT = Path(\"/content/drive/MyDrive/Master, Ankile og Krange/Data\")"
      ],
      "execution_count": 32,
      "outputs": []
    },
    {
      "cell_type": "code",
      "metadata": {
        "id": "j25MzjSW3HW_"
      },
      "source": [
        "hourly = pd.read_csv(ROOT / 'train/Hourly-train.csv').set_index(\"V1\")\n",
        "daily = pd.read_csv(ROOT / 'train/Daily-train.csv').set_index(\"V1\")\n",
        "weekly = pd.read_csv(ROOT / 'train/Weekly-train.csv').set_index(\"V1\")\n",
        "monthly = pd.read_csv(ROOT / 'train/Monthly-train.csv').set_index(\"V1\")\n",
        "quarterly = pd.read_csv(ROOT / 'train/Quarterly-train.csv').set_index(\"V1\")\n",
        "yearly = pd.read_csv(ROOT / 'train/Yearly-train.csv').set_index(\"V1\")"
      ],
      "execution_count": 7,
      "outputs": []
    },
    {
      "cell_type": "code",
      "metadata": {
        "colab": {
          "base_uri": "https://localhost:8080/"
        },
        "id": "BOkdi6CN4CHk",
        "outputId": "6a419cc9-18d4-40cf-ed3f-486d558e46b5"
      },
      "source": [
        "all_data_map = {\"Hourly\": hourly, \"Daily\": daily, \"Weekly\": weekly, \"Monthly\":monthly, \"Quarterly\": quarterly,\"Yearly\": yearly} \n",
        "\n",
        "m_dict = {\"Hourly\":24, \"Daily\":1 , \"Weekly\":1 ,\"Monthly\":12 , \"Quarterly\":4 , \"Yearly\":1 } #As defined in M4 competition\n",
        "forecast_horizons = {\"Hourly\":48, \"Daily\":14 , \"Weekly\":13 ,\"Monthly\":18 , \"Quarterly\":8 , \"Yearly\":6 } #As defined in M4 competition"
      ],
      "execution_count": 8,
      "outputs": [
        {
          "output_type": "execute_result",
          "data": {
            "text/plain": [
              "100000"
            ]
          },
          "metadata": {},
          "execution_count": 8
        }
      ]
    },
    {
      "cell_type": "code",
      "metadata": {
        "id": "HKRG_dBvt2m4"
      },
      "source": [
        "weights_train_path = ROOT / 'LPsolutions/optimal_weights_train_abs.feather'\n",
        "weights_val_path = ROOT / 'LPsolutions/optimal_weights_val_abs.feather'\n",
        "\n",
        "time_series_train = ROOT / 'Series/m4_series_n4_f32_train.feather'\n",
        "time_series_val = ROOT / 'Series/m4_series_n4_f32_val.feather'"
      ],
      "execution_count": 9,
      "outputs": []
    },
    {
      "cell_type": "code",
      "metadata": {
        "id": "xp43boJruORi"
      },
      "source": [
        "abs_weights_val = pd.read_feather(weights_val_path).set_index(\"idx\")\n",
        "time_series_val = pd.read_feather(time_series_val).set_index(\"st\")\n",
        "\n",
        "abs_weights_train = pd.read_feather(weights_train_path).set_index(\"idx\")\n",
        "time_series_train = pd.read_feather(time_series_train).set_index(\"st\")"
      ],
      "execution_count": 10,
      "outputs": []
    },
    {
      "cell_type": "markdown",
      "metadata": {
        "id": "cVQB4wNeSS5W"
      },
      "source": [
        "#Define a function to get all mase divisors"
      ]
    },
    {
      "cell_type": "code",
      "metadata": {
        "id": "6sap3oPuOGyi"
      },
      "source": [
        "def calculate_mase_divisor(set_type):\n",
        "    if \"v\" in set_type:\n",
        "        weights = abs_weights_val\n",
        "        time_series_meta = time_series_val\n",
        "    else:\n",
        "        weights = abs_weights_train\n",
        "        time_series_meta = time_series_train\n",
        "\n",
        "    mase_divisor = []\n",
        "    \n",
        "    for idx in tqdm(weights.index, desc=f\"Processing the {set_type} set\"):\n",
        "        period = time_series_meta.loc[idx, \"period\"]\n",
        "        \n",
        "        h_slice = -forecast_horizons[period] if set_type != \"test\" else None\n",
        "        h = forecast_horizons[period]\n",
        "        m = m_dict[period]\n",
        "        \n",
        "        value_series = all_data_map[period].loc[idx].dropna().iloc[:h_slice]\n",
        "        n = len(value_series)\n",
        "        summ = 0\n",
        "        for t in range(m, n): \n",
        "            summ += abs(value_series.iloc[t]-value_series.iloc[t-m])\n",
        "        \n",
        "        divisor = h*(1/(n-m))*summ\n",
        "\n",
        "        mase_divisor.append(divisor)\n",
        "    \n",
        "    idx_and_divisor = pd.DataFrame([])\n",
        "    idx_and_divisor[\"index\"] = weights.index\n",
        "    idx_and_divisor[\"mase_divisor\"] = mase_divisor\n",
        "    return idx_and_divisor"
      ],
      "execution_count": 13,
      "outputs": []
    },
    {
      "cell_type": "code",
      "metadata": {
        "colab": {
          "base_uri": "https://localhost:8080/",
          "height": 48,
          "referenced_widgets": [
            "7f8e28881f284172bbb208d2cc81182c",
            "720d270c8c074db1832e5654ddcc307e",
            "eea72303236e45da90ead6b01c9f8a6c",
            "20be31eb1bd44f3b848594027a4cb5b9",
            "f72b27fcdc654b58850321e808313f03",
            "70600b2f96254a799738377e8a84dffb",
            "b83d2036f14740f3b4bae34ef723b41f",
            "4625ed930c5b41aea77320f187a49779",
            "4f75c98ca7e043819a77213737e5884a",
            "5ba83388b56141a4b6915a0b1f57e26b",
            "97f19a6baa7a42ba98052dd76bc2c937"
          ]
        },
        "id": "UiWvWzoxOlK_",
        "outputId": "62751131-fb01-408b-8923-a8fbca7fd74c"
      },
      "source": [
        "mase_val_divisor = calculate_mase_divisor(\"val\").set_index(\"index\")"
      ],
      "execution_count": 14,
      "outputs": [
        {
          "output_type": "display_data",
          "data": {
            "application/vnd.jupyter.widget-view+json": {
              "model_id": "7f8e28881f284172bbb208d2cc81182c",
              "version_minor": 0,
              "version_major": 2
            },
            "text/plain": [
              "Processing the val set:   0%|          | 0/9995 [00:00<?, ?it/s]"
            ]
          },
          "metadata": {}
        }
      ]
    },
    {
      "cell_type": "code",
      "metadata": {
        "colab": {
          "base_uri": "https://localhost:8080/",
          "height": 48,
          "referenced_widgets": [
            "a6ff2851a7ce4851b87371353b3fe791",
            "0db76b0f93134e4da40451876be91142",
            "ada80bf002fa4963af2fd26c7bdaf430",
            "e56408edb1eb4133b5f99b9f649c8f1c",
            "3a35f9a3bcec4e7d984a9716cd0f2485",
            "ac13f2f4172743478c017dc0c4fe19e2",
            "b5b7cdc5892f43bd8d91679354abdf59",
            "c497a8890f78462285fb6f988ea350bd",
            "526a2c9071424a8b9ffbf5f383116058",
            "589a4fb688954f94aca5481423cbcf76",
            "00499a97171d4a2cae1366bab59d4e1c"
          ]
        },
        "id": "yVJbqbAPSK72",
        "outputId": "8773b3fe-c0ad-4087-b343-caf889730773"
      },
      "source": [
        "mase_train_divisor = calculate_mase_divisor(\"train\").set_index(\"index\")"
      ],
      "execution_count": 28,
      "outputs": [
        {
          "output_type": "display_data",
          "data": {
            "application/vnd.jupyter.widget-view+json": {
              "model_id": "a6ff2851a7ce4851b87371353b3fe791",
              "version_minor": 0,
              "version_major": 2
            },
            "text/plain": [
              "Processing the train set:   0%|          | 0/90000 [00:00<?, ?it/s]"
            ]
          },
          "metadata": {}
        }
      ]
    },
    {
      "cell_type": "code",
      "metadata": {
        "id": "mFIZdHdMUdih"
      },
      "source": [
        "if WRITE_TO_FILE:\n",
        "    mase_val_divisor.reset_index().to_feather(ROOT / \"loss_functions/loss_func_val.feather\")\n",
        "    mase_train_divisor.reset_index().to_feather(ROOT / \"loss_functions/loss_func_train.feather\")"
      ],
      "execution_count": 33,
      "outputs": []
    }
  ]
}