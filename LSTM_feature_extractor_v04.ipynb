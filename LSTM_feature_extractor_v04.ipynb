{
  "nbformat": 4,
  "nbformat_minor": 0,
  "metadata": {
    "colab": {
      "name": "LSTM_feature_extractor_v04.ipynb",
      "provenance": [],
      "collapsed_sections": [],
      "mount_file_id": "https://github.com/Krankile/ensemble-forcasting/blob/main/LSTM_feature_extractor.ipynb",
      "authorship_tag": "ABX9TyNjnkrgCqbsRNiynLcfAwpj",
      "include_colab_link": true
    },
    "kernelspec": {
      "name": "python3",
      "display_name": "Python 3"
    },
    "language_info": {
      "name": "python"
    },
    "accelerator": "GPU",
    "widgets": {
      "application/vnd.jupyter.widget-state+json": {
        "a5ea28e68c6e4634a3db19d932f96778": {
          "model_module": "@jupyter-widgets/controls",
          "model_name": "VBoxModel",
          "model_module_version": "1.5.0",
          "state": {
            "_view_name": "VBoxView",
            "_dom_classes": [],
            "_model_name": "VBoxModel",
            "_view_module": "@jupyter-widgets/controls",
            "_model_module_version": "1.5.0",
            "_view_count": null,
            "_view_module_version": "1.5.0",
            "box_style": "",
            "layout": "IPY_MODEL_63cd1717472a46bbb934408f31c5ba60",
            "_model_module": "@jupyter-widgets/controls",
            "children": [
              "IPY_MODEL_07e2608e7e72404a862954ba74bff3aa",
              "IPY_MODEL_4497ef00455c494081464811ac998d4a"
            ]
          }
        },
        "63cd1717472a46bbb934408f31c5ba60": {
          "model_module": "@jupyter-widgets/base",
          "model_name": "LayoutModel",
          "model_module_version": "1.2.0",
          "state": {
            "_view_name": "LayoutView",
            "grid_template_rows": null,
            "right": null,
            "justify_content": null,
            "_view_module": "@jupyter-widgets/base",
            "overflow": null,
            "_model_module_version": "1.2.0",
            "_view_count": null,
            "flex_flow": null,
            "width": null,
            "min_width": null,
            "border": null,
            "align_items": null,
            "bottom": null,
            "_model_module": "@jupyter-widgets/base",
            "top": null,
            "grid_column": null,
            "overflow_y": null,
            "overflow_x": null,
            "grid_auto_flow": null,
            "grid_area": null,
            "grid_template_columns": null,
            "flex": null,
            "_model_name": "LayoutModel",
            "justify_items": null,
            "grid_row": null,
            "max_height": null,
            "align_content": null,
            "visibility": null,
            "align_self": null,
            "height": null,
            "min_height": null,
            "padding": null,
            "grid_auto_rows": null,
            "grid_gap": null,
            "max_width": null,
            "order": null,
            "_view_module_version": "1.2.0",
            "grid_template_areas": null,
            "object_position": null,
            "object_fit": null,
            "grid_auto_columns": null,
            "margin": null,
            "display": null,
            "left": null
          }
        },
        "07e2608e7e72404a862954ba74bff3aa": {
          "model_module": "@jupyter-widgets/controls",
          "model_name": "LabelModel",
          "model_module_version": "1.5.0",
          "state": {
            "_view_name": "LabelView",
            "style": "IPY_MODEL_5a0995de85544fdba08fcb7d039bc5be",
            "_dom_classes": [],
            "description": "",
            "_model_name": "LabelModel",
            "placeholder": "​",
            "_view_module": "@jupyter-widgets/controls",
            "_model_module_version": "1.5.0",
            "value": " 3.85MB of 3.85MB uploaded (0.00MB deduped)\r",
            "_view_count": null,
            "_view_module_version": "1.5.0",
            "description_tooltip": null,
            "_model_module": "@jupyter-widgets/controls",
            "layout": "IPY_MODEL_b40326e6f93e4d9a9f895911be7aca6c"
          }
        },
        "4497ef00455c494081464811ac998d4a": {
          "model_module": "@jupyter-widgets/controls",
          "model_name": "FloatProgressModel",
          "model_module_version": "1.5.0",
          "state": {
            "_view_name": "ProgressView",
            "style": "IPY_MODEL_7bce36e11d764296ac83bdf7ce7066e2",
            "_dom_classes": [],
            "description": "",
            "_model_name": "FloatProgressModel",
            "bar_style": "",
            "max": 1,
            "_view_module": "@jupyter-widgets/controls",
            "_model_module_version": "1.5.0",
            "value": 1,
            "_view_count": null,
            "_view_module_version": "1.5.0",
            "orientation": "horizontal",
            "min": 0,
            "description_tooltip": null,
            "_model_module": "@jupyter-widgets/controls",
            "layout": "IPY_MODEL_8cf593889b6f493e87ce4ec09b4118ff"
          }
        },
        "5a0995de85544fdba08fcb7d039bc5be": {
          "model_module": "@jupyter-widgets/controls",
          "model_name": "DescriptionStyleModel",
          "model_module_version": "1.5.0",
          "state": {
            "_view_name": "StyleView",
            "_model_name": "DescriptionStyleModel",
            "description_width": "",
            "_view_module": "@jupyter-widgets/base",
            "_model_module_version": "1.5.0",
            "_view_count": null,
            "_view_module_version": "1.2.0",
            "_model_module": "@jupyter-widgets/controls"
          }
        },
        "b40326e6f93e4d9a9f895911be7aca6c": {
          "model_module": "@jupyter-widgets/base",
          "model_name": "LayoutModel",
          "model_module_version": "1.2.0",
          "state": {
            "_view_name": "LayoutView",
            "grid_template_rows": null,
            "right": null,
            "justify_content": null,
            "_view_module": "@jupyter-widgets/base",
            "overflow": null,
            "_model_module_version": "1.2.0",
            "_view_count": null,
            "flex_flow": null,
            "width": null,
            "min_width": null,
            "border": null,
            "align_items": null,
            "bottom": null,
            "_model_module": "@jupyter-widgets/base",
            "top": null,
            "grid_column": null,
            "overflow_y": null,
            "overflow_x": null,
            "grid_auto_flow": null,
            "grid_area": null,
            "grid_template_columns": null,
            "flex": null,
            "_model_name": "LayoutModel",
            "justify_items": null,
            "grid_row": null,
            "max_height": null,
            "align_content": null,
            "visibility": null,
            "align_self": null,
            "height": null,
            "min_height": null,
            "padding": null,
            "grid_auto_rows": null,
            "grid_gap": null,
            "max_width": null,
            "order": null,
            "_view_module_version": "1.2.0",
            "grid_template_areas": null,
            "object_position": null,
            "object_fit": null,
            "grid_auto_columns": null,
            "margin": null,
            "display": null,
            "left": null
          }
        },
        "7bce36e11d764296ac83bdf7ce7066e2": {
          "model_module": "@jupyter-widgets/controls",
          "model_name": "ProgressStyleModel",
          "model_module_version": "1.5.0",
          "state": {
            "_view_name": "StyleView",
            "_model_name": "ProgressStyleModel",
            "description_width": "",
            "_view_module": "@jupyter-widgets/base",
            "_model_module_version": "1.5.0",
            "_view_count": null,
            "_view_module_version": "1.2.0",
            "bar_color": null,
            "_model_module": "@jupyter-widgets/controls"
          }
        },
        "8cf593889b6f493e87ce4ec09b4118ff": {
          "model_module": "@jupyter-widgets/base",
          "model_name": "LayoutModel",
          "model_module_version": "1.2.0",
          "state": {
            "_view_name": "LayoutView",
            "grid_template_rows": null,
            "right": null,
            "justify_content": null,
            "_view_module": "@jupyter-widgets/base",
            "overflow": null,
            "_model_module_version": "1.2.0",
            "_view_count": null,
            "flex_flow": null,
            "width": null,
            "min_width": null,
            "border": null,
            "align_items": null,
            "bottom": null,
            "_model_module": "@jupyter-widgets/base",
            "top": null,
            "grid_column": null,
            "overflow_y": null,
            "overflow_x": null,
            "grid_auto_flow": null,
            "grid_area": null,
            "grid_template_columns": null,
            "flex": null,
            "_model_name": "LayoutModel",
            "justify_items": null,
            "grid_row": null,
            "max_height": null,
            "align_content": null,
            "visibility": null,
            "align_self": null,
            "height": null,
            "min_height": null,
            "padding": null,
            "grid_auto_rows": null,
            "grid_gap": null,
            "max_width": null,
            "order": null,
            "_view_module_version": "1.2.0",
            "grid_template_areas": null,
            "object_position": null,
            "object_fit": null,
            "grid_auto_columns": null,
            "margin": null,
            "display": null,
            "left": null
          }
        }
      }
    }
  },
  "cells": [
    {
      "cell_type": "markdown",
      "metadata": {
        "id": "view-in-github",
        "colab_type": "text"
      },
      "source": [
        "<a href=\"https://colab.research.google.com/github/Krankile/ensemble-forcasting/blob/main/LSTM_feature_extractor_v04.ipynb\" target=\"_parent\"><img src=\"https://colab.research.google.com/assets/colab-badge.svg\" alt=\"Open In Colab\"/></a>"
      ]
    },
    {
      "cell_type": "code",
      "metadata": {
        "id": "rflHmkkgMhbx"
      },
      "source": [
        "%%capture\n",
        "!pip install wandb --upgrade"
      ],
      "execution_count": null,
      "outputs": []
    },
    {
      "cell_type": "code",
      "metadata": {
        "id": "6NOjedVwhAX9",
        "colab": {
          "base_uri": "https://localhost:8080/"
        },
        "outputId": "e9eeedb4-3e3e-4965-d9b7-6cb16175beaa"
      },
      "source": [
        "import copy\n",
        "import random\n",
        "from datetime import datetime\n",
        "\n",
        "import numpy as np\n",
        "import matplotlib.pyplot as plt\n",
        "import pandas as pd\n",
        "from more_itertools import chunked\n",
        "\n",
        "from tqdm import tqdm\n",
        "\n",
        "import torch\n",
        "from torch import nn\n",
        "\n",
        "plt.rcParams[\"figure.figsize\"] = (12,4)\n",
        "\n",
        "device = torch.device(\"cuda\" if torch.cuda.is_available() else \"cpu\")\n",
        "device"
      ],
      "execution_count": 34,
      "outputs": [
        {
          "output_type": "execute_result",
          "data": {
            "text/plain": [
              "device(type='cuda')"
            ]
          },
          "metadata": {},
          "execution_count": 34
        }
      ]
    },
    {
      "cell_type": "code",
      "metadata": {
        "colab": {
          "base_uri": "https://localhost:8080/"
        },
        "id": "6mTMCp1g57Ku",
        "outputId": "97f79e2a-1820-40a4-e297-c7d1c2bc8018"
      },
      "source": [
        "!nvidia-smi"
      ],
      "execution_count": null,
      "outputs": [
        {
          "output_type": "stream",
          "name": "stdout",
          "text": [
            "Fri Oct 22 14:38:18 2021       \n",
            "+-----------------------------------------------------------------------------+\n",
            "| NVIDIA-SMI 470.74       Driver Version: 460.32.03    CUDA Version: 11.2     |\n",
            "|-------------------------------+----------------------+----------------------+\n",
            "| GPU  Name        Persistence-M| Bus-Id        Disp.A | Volatile Uncorr. ECC |\n",
            "| Fan  Temp  Perf  Pwr:Usage/Cap|         Memory-Usage | GPU-Util  Compute M. |\n",
            "|                               |                      |               MIG M. |\n",
            "|===============================+======================+======================|\n",
            "|   0  Tesla P100-PCIE...  Off  | 00000000:00:04.0 Off |                    0 |\n",
            "| N/A   41C    P0    27W / 250W |      2MiB / 16280MiB |      0%      Default |\n",
            "|                               |                      |                  N/A |\n",
            "+-------------------------------+----------------------+----------------------+\n",
            "                                                                               \n",
            "+-----------------------------------------------------------------------------+\n",
            "| Processes:                                                                  |\n",
            "|  GPU   GI   CI        PID   Type   Process name                  GPU Memory |\n",
            "|        ID   ID                                                   Usage      |\n",
            "|=============================================================================|\n",
            "|  No running processes found                                                 |\n",
            "+-----------------------------------------------------------------------------+\n"
          ]
        }
      ]
    },
    {
      "cell_type": "code",
      "metadata": {
        "id": "Ze0UAYggW9BQ",
        "colab": {
          "base_uri": "https://localhost:8080/"
        },
        "outputId": "dab963aa-0753-47cc-e702-00ae28812cf0"
      },
      "source": [
        "from google.colab import drive\n",
        "drive.mount('/content/drive')"
      ],
      "execution_count": 4,
      "outputs": [
        {
          "output_type": "stream",
          "name": "stdout",
          "text": [
            "Go to this URL in a browser: https://accounts.google.com/o/oauth2/auth?client_id=947318989803-6bn6qk8qdgf4n4g3pfee6491hc0brc4i.apps.googleusercontent.com&redirect_uri=urn%3aietf%3awg%3aoauth%3a2.0%3aoob&scope=email%20https%3a%2f%2fwww.googleapis.com%2fauth%2fdocs.test%20https%3a%2f%2fwww.googleapis.com%2fauth%2fdrive%20https%3a%2f%2fwww.googleapis.com%2fauth%2fdrive.photos.readonly%20https%3a%2f%2fwww.googleapis.com%2fauth%2fpeopleapi.readonly%20https%3a%2f%2fwww.googleapis.com%2fauth%2fdrive.activity.readonly%20https%3a%2f%2fwww.googleapis.com%2fauth%2fexperimentsandconfigs%20https%3a%2f%2fwww.googleapis.com%2fauth%2fphotos.native&response_type=code\n",
            "\n",
            "Enter your authorization code:\n",
            "4/1AX4XfWicQ1o1RYtOwRhw5XaNwk2M7cZEz2H6hSsgsPuwG7IXfxpSmHKkY0Q\n",
            "Mounted at /content/drive\n"
          ]
        }
      ]
    },
    {
      "cell_type": "code",
      "metadata": {
        "id": "gvbq82HdYKVW"
      },
      "source": [
        "DRIVE_PATH = \"/content/drive/MyDrive/10 – NTNU/# 9. Semester/Prosjektoppgave_runs\""
      ],
      "execution_count": 5,
      "outputs": []
    },
    {
      "cell_type": "code",
      "metadata": {
        "colab": {
          "base_uri": "https://localhost:8080/",
          "height": 71
        },
        "id": "XTzPsbLuMnWB",
        "outputId": "1eca0f34-388d-481d-88ad-286bca55e74e"
      },
      "source": [
        "import wandb\n",
        "\n",
        "wandb.login()"
      ],
      "execution_count": 6,
      "outputs": [
        {
          "output_type": "display_data",
          "data": {
            "application/javascript": [
              "\n",
              "        window._wandbApiKey = new Promise((resolve, reject) => {\n",
              "            function loadScript(url) {\n",
              "            return new Promise(function(resolve, reject) {\n",
              "                let newScript = document.createElement(\"script\");\n",
              "                newScript.onerror = reject;\n",
              "                newScript.onload = resolve;\n",
              "                document.body.appendChild(newScript);\n",
              "                newScript.src = url;\n",
              "            });\n",
              "            }\n",
              "            loadScript(\"https://cdn.jsdelivr.net/npm/postmate/build/postmate.min.js\").then(() => {\n",
              "            const iframe = document.createElement('iframe')\n",
              "            iframe.style.cssText = \"width:0;height:0;border:none\"\n",
              "            document.body.appendChild(iframe)\n",
              "            const handshake = new Postmate({\n",
              "                container: iframe,\n",
              "                url: 'https://wandb.ai/authorize'\n",
              "            });\n",
              "            const timeout = setTimeout(() => reject(\"Couldn't auto authenticate\"), 5000)\n",
              "            handshake.then(function(child) {\n",
              "                child.on('authorize', data => {\n",
              "                    clearTimeout(timeout)\n",
              "                    resolve(data)\n",
              "                });\n",
              "            });\n",
              "            })\n",
              "        });\n",
              "    "
            ],
            "text/plain": [
              "<IPython.core.display.Javascript object>"
            ]
          },
          "metadata": {}
        },
        {
          "output_type": "stream",
          "name": "stderr",
          "text": [
            "\u001b[34m\u001b[1mwandb\u001b[0m: Appending key for api.wandb.ai to your netrc file: /root/.netrc\n"
          ]
        },
        {
          "output_type": "execute_result",
          "data": {
            "text/plain": [
              "True"
            ]
          },
          "metadata": {},
          "execution_count": 6
        }
      ]
    },
    {
      "cell_type": "code",
      "metadata": {
        "id": "BRIyGFnANE1z"
      },
      "source": [
        "config = dict(\n",
        "    epochs=100,\n",
        "    n_series=2000,\n",
        "    embedding_dim=128,\n",
        "    hidden_dim=256,\n",
        "    learning_rate=1e-3,\n",
        "    dataset=\"droso-sine-v03\",\n",
        "    dataclass=\"droso-sine\",\n",
        "    architecture=\"LSTM\",\n",
        "    batch_size=50,\n",
        "    optimizer=\"adamw\",\n",
        ")"
      ],
      "execution_count": 28,
      "outputs": []
    },
    {
      "cell_type": "code",
      "metadata": {
        "id": "pXdUvIdwov-K"
      },
      "source": [
        "optimizers = {\n",
        "    \"adam\": torch.optim.Adam,\n",
        "    \"sgd\": torch.optim.SGD,\n",
        "    \"adamw\": torch.optim.AdamW,\n",
        "}"
      ],
      "execution_count": 26,
      "outputs": []
    },
    {
      "cell_type": "code",
      "metadata": {
        "id": "xHTU63O-mphv"
      },
      "source": [
        "class Encoder(nn.Module):\n",
        "\n",
        "  def __init__(self, seq_len, n_features, embedding_dim, hidden_dim):\n",
        "    super(Encoder, self).__init__()\n",
        "\n",
        "    self.seq_len, self.n_features = seq_len, n_features\n",
        "    self.embedding_dim = embedding_dim\n",
        "    self.hidden_dim = hidden_dim\n",
        "\n",
        "    self.rnn1 = nn.LSTM(\n",
        "      input_size=n_features,\n",
        "      hidden_size=self.hidden_dim,\n",
        "      num_layers=1,\n",
        "      batch_first=True\n",
        "    )\n",
        "    \n",
        "    self.rnn2 = nn.LSTM(\n",
        "      input_size=self.hidden_dim,\n",
        "      hidden_size=embedding_dim,\n",
        "      num_layers=1,\n",
        "      batch_first=True\n",
        "    )\n",
        "\n",
        "  def forward(self, x):\n",
        "    x = x.reshape((-1, self.seq_len, self.n_features))\n",
        "\n",
        "    x, (_, _) = self.rnn1(x)\n",
        "    x, (hidden_n, _) = self.rnn2(x)\n",
        "\n",
        "    return hidden_n.reshape((-1, self.n_features, self.embedding_dim))"
      ],
      "execution_count": 10,
      "outputs": []
    },
    {
      "cell_type": "code",
      "metadata": {
        "id": "xOb6k8p4x7Ck"
      },
      "source": [
        "class Decoder(nn.Module):\n",
        "\n",
        "  def __init__(self, seq_len, input_dim, hidden_dim, n_features):\n",
        "    super(Decoder, self).__init__()\n",
        "\n",
        "    self.seq_len = seq_len\n",
        "    self.input_dim = input_dim\n",
        "    self.hidden_dim = hidden_dim\n",
        "    self.n_features = n_features\n",
        "\n",
        "    self.rnn1 = nn.LSTM(\n",
        "      input_size=input_dim,\n",
        "      hidden_size=input_dim,\n",
        "      num_layers=1,\n",
        "      batch_first=True\n",
        "    )\n",
        "\n",
        "    self.rnn2 = nn.LSTM(\n",
        "      input_size=input_dim,\n",
        "      hidden_size=self.hidden_dim,\n",
        "      num_layers=1,\n",
        "      batch_first=True\n",
        "    )\n",
        "\n",
        "    self.output_layer = nn.Linear(self.hidden_dim, n_features)\n",
        "\n",
        "  def forward(self, x):\n",
        "    x = x.repeat(1, self.seq_len, 1)\n",
        "    #x = x.reshape((-1, self.n_features, self.seq_len, self.input_dim))\n",
        "\n",
        "    x, (hidden_n, cell_n) = self.rnn1(x)\n",
        "    x, (hidden_n, cell_n) = self.rnn2(x)\n",
        "    x = x.reshape((-1, self.seq_len, self.hidden_dim))\n",
        "\n",
        "    return self.output_layer(x)"
      ],
      "execution_count": 11,
      "outputs": []
    },
    {
      "cell_type": "code",
      "metadata": {
        "id": "M0cLmAB0yEXE"
      },
      "source": [
        "class RecurrentAutoencoder(nn.Module):\n",
        "\n",
        "  def __init__(self, seq_len, n_features, embedding_dim, hidden_dim):\n",
        "    super(RecurrentAutoencoder, self).__init__()\n",
        "\n",
        "    self.encoder = Encoder(seq_len, n_features, embedding_dim, hidden_dim).to(device)\n",
        "    self.decoder = Decoder(seq_len, embedding_dim, hidden_dim, n_features).to(device)\n",
        "\n",
        "  def forward(self, x):\n",
        "    x = self.encoder(x)\n",
        "    x = self.decoder(x)\n",
        "\n",
        "    return x"
      ],
      "execution_count": 12,
      "outputs": []
    },
    {
      "cell_type": "code",
      "metadata": {
        "id": "fytZWUOhyMe0"
      },
      "source": [
        "def train_model(model, train_dataset, val_dataset, conf):\n",
        "    starttime = datetime.now()\n",
        "    logpath = f\"{DRIVE_PATH}-logs-{starttime}\"\n",
        "\n",
        "    with open(logpath, mode=\"w\") as f:\n",
        "        f.write(\"Epoch;Train_loss;Val_loss\\n\")\n",
        "\n",
        "    optimizer = optimizers[conf.optimizer](model.parameters(), lr=conf.learning_rate)\n",
        "    # Test with sMAPE and MASE as well maybe\n",
        "\n",
        "    criterion = nn.L1Loss(reduction='sum').to(device)\n",
        "    wandb.watch(model, criterion, log=\"all\", log_freq=1)\n",
        "\n",
        "    history = dict(train=[], val=[])\n",
        "\n",
        "    best_model_wts = copy.deepcopy(model.state_dict())\n",
        "    best_loss = 10000.0\n",
        "\n",
        "    it = tqdm(range(1, conf.epochs + 1))\n",
        "\n",
        "    b_size = conf.batch_size\n",
        "\n",
        "    for epoch in it:\n",
        "        model = model.train()\n",
        "\n",
        "        train_losses = []\n",
        "        for i in range(0, len(train_dataset), b_size):\n",
        "            optimizer.zero_grad()\n",
        "            seq_true = train_dataset[i:i+b_size]\n",
        "            seq_true = seq_true.to(device)\n",
        "            seq_pred = model(seq_true)\n",
        "\n",
        "            loss = criterion(seq_pred, seq_true)\n",
        "\n",
        "            loss.backward()\n",
        "            optimizer.step()\n",
        "\n",
        "            train_losses.append(loss.item())\n",
        "\n",
        "        val_losses = []\n",
        "        model = model.eval()\n",
        "        with torch.no_grad():\n",
        "            for i in range(0, len(val_dataset), b_size):\n",
        "                seq_true = val_dataset[i:i+b_size]\n",
        "                seq_true = seq_true.to(device)\n",
        "                seq_pred = model(seq_true)\n",
        "\n",
        "                loss = criterion(seq_pred, seq_true)\n",
        "                val_losses.append(loss.item())\n",
        "\n",
        "        train_loss = np.mean(train_losses) / b_size\n",
        "        val_loss = np.mean(val_losses) / b_size\n",
        "\n",
        "        with open(logpath, mode=\"a\") as f:\n",
        "            f.write(f\"{epoch};{train_loss};{val_loss}\\n\")\n",
        "\n",
        "        wandb.log({\"train_loss\": train_loss, \"val_loss\": val_loss}, step=epoch)\n",
        "\n",
        "        history['train'].append(train_loss)\n",
        "        history['val'].append(val_loss)\n",
        "\n",
        "        if val_loss < best_loss:\n",
        "            best_loss = val_loss\n",
        "            best_model_wts = copy.deepcopy(model.state_dict())\n",
        "\n",
        "            with open(DRIVE_PATH + \"model_weights\", \"wb\") as f:\n",
        "                torch.save(best_model_wts, f)\n",
        "\n",
        "            torch.save(best_model_wts, \"model.torch\")\n",
        "            wandb.save(\"model.torch\")\n",
        "\n",
        "        it.set_postfix(\n",
        "            train_loss=train_loss,\n",
        "            val_loss=val_loss\n",
        "        )\n",
        "\n",
        "    model.load_state_dict(best_model_wts)\n",
        "    return model.eval(), history"
      ],
      "execution_count": 13,
      "outputs": []
    },
    {
      "cell_type": "code",
      "metadata": {
        "id": "0lvLS9bmnCuC"
      },
      "source": [
        "def prepare(data):\n",
        "    val_dataset = random.sample(data, k=int(0.1 * len(data)))\n",
        "\n",
        "    train_tensor = torch.Tensor(data).reshape((-1, 100, 1))\n",
        "    val_tensor = torch.Tensor(val_dataset).reshape((-1, 100, 1))\n",
        "\n",
        "    _, seq_len, n_features = train_tensor.shape\n",
        "\n",
        "    return train_tensor, val_tensor, seq_len, n_features\n",
        "\n",
        "def get_data_droso_3class_v01(n_series):\n",
        "    train_dataset = []\n",
        "\n",
        "    xs = np.linspace(-1, 1, int(n_series / 3))\n",
        "\n",
        "    for i in xs:\n",
        "        train_dataset.append(np.linspace(i, i, 100))\n",
        "        train_dataset.append(np.linspace(-i, i, 100))\n",
        "        train_dataset.append(-i*np.sin(np.linspace(-i*4*np.pi, i*4*np.pi, 100)))\n",
        "\n",
        "    return prepare(train_dataset)\n",
        "\n",
        "\n",
        "def get_data_droso_sine_v01(n_series):\n",
        "    train_dataset = []\n",
        "\n",
        "    for _ in range(n_series):\n",
        "        train_dataset.append(np.sin(np.linspace(-4*np.pi, 4*np.pi, 100)))\n",
        "\n",
        "    return prepare(train_dataset)\n",
        "\n",
        "def get_data_droso_sine_v02(n_series):\n",
        "    train_dataset = []\n",
        "\n",
        "    for _ in range(n_series // 2):\n",
        "        train_dataset.append(-0.5 + np.sin(np.linspace(-4*np.pi, 4*np.pi, 100)))\n",
        "        train_dataset.append(0.5 + np.sin(np.linspace(-4*np.pi, 4*np.pi, 100)))\n",
        "\n",
        "    return prepare(train_dataset)\n",
        "\n",
        "def get_data_droso_sine_v03(n_series):\n",
        "    train_dataset = []\n",
        "\n",
        "    for _ in range(n_series // 2):\n",
        "        train_dataset.append(-0.5 + np.sin(np.linspace(-4*np.pi, 4*np.pi, 100)))\n",
        "        train_dataset.append(0.5 + np.sin(np.linspace(-4*np.pi, 4*np.pi, 100)))\n",
        "\n",
        "    return prepare(train_dataset)\n",
        "\n",
        "get_data = {\n",
        "    \"droso-3class-v01\": get_data_droso_3class_v01,\n",
        "    \"droso-sine-v01\": get_data_droso_sine_v01,\n",
        "    \"droso-sine-v02\": get_data_droso_sine_v02,\n",
        "}"
      ],
      "execution_count": 24,
      "outputs": []
    },
    {
      "cell_type": "markdown",
      "metadata": {
        "id": "HVeue_WairST"
      },
      "source": [
        "## Run training"
      ]
    },
    {
      "cell_type": "code",
      "metadata": {
        "id": "xYKa_AzAyWxE",
        "colab": {
          "base_uri": "https://localhost:8080/",
          "height": 278,
          "referenced_widgets": [
            "a5ea28e68c6e4634a3db19d932f96778",
            "63cd1717472a46bbb934408f31c5ba60",
            "07e2608e7e72404a862954ba74bff3aa",
            "4497ef00455c494081464811ac998d4a",
            "5a0995de85544fdba08fcb7d039bc5be",
            "b40326e6f93e4d9a9f895911be7aca6c",
            "7bce36e11d764296ac83bdf7ce7066e2",
            "8cf593889b6f493e87ce4ec09b4118ff"
          ]
        },
        "outputId": "c38e0960-07a3-40a5-fcc1-1a3bcc971664"
      },
      "source": [
        "with wandb.init(project=\"lstm-vae\", config=config, entity=\"krankile\"):\n",
        "    conf = wandb.config\n",
        "\n",
        "    train_tensor, val_tensor, seq_len, n_features = get_data[conf.dataset](conf.n_series)\n",
        "\n",
        "    model = RecurrentAutoencoder(\n",
        "        seq_len=seq_len,\n",
        "        n_features=n_features,\n",
        "        embedding_dim=conf.embedding_dim,\n",
        "        hidden_dim=conf.hidden_dim,\n",
        "    )\n",
        "\n",
        "    model = model.to(device)\n",
        "\n",
        "    model, history = train_model(\n",
        "        model,\n",
        "        train_tensor,\n",
        "        val_tensor,\n",
        "        conf=conf,\n",
        "    )"
      ],
      "execution_count": 27,
      "outputs": [
        {
          "output_type": "display_data",
          "data": {
            "text/html": [
              "\n",
              "                    Syncing run <strong><a href=\"https://wandb.ai/krankile/lstm-vae/runs/31e9ranb\" target=\"_blank\">skilled-moon-29</a></strong> to <a href=\"https://wandb.ai/krankile/lstm-vae\" target=\"_blank\">Weights & Biases</a> (<a href=\"https://docs.wandb.com/integrations/jupyter.html\" target=\"_blank\">docs</a>).<br/>\n",
              "\n",
              "                "
            ],
            "text/plain": [
              "<IPython.core.display.HTML object>"
            ]
          },
          "metadata": {}
        },
        {
          "output_type": "stream",
          "name": "stderr",
          "text": [
            "100%|██████████| 100/100 [05:57<00:00,  3.58s/it, train_loss=2.34, val_loss=3.26]\n"
          ]
        },
        {
          "output_type": "display_data",
          "data": {
            "text/html": [
              "<br/>Waiting for W&B process to finish, PID 2424... <strong style=\"color:green\">(success).</strong>"
            ],
            "text/plain": [
              "<IPython.core.display.HTML object>"
            ]
          },
          "metadata": {}
        },
        {
          "output_type": "display_data",
          "data": {
            "application/vnd.jupyter.widget-view+json": {
              "model_id": "a5ea28e68c6e4634a3db19d932f96778",
              "version_minor": 0,
              "version_major": 2
            },
            "text/plain": [
              "VBox(children=(Label(value=' 3.78MB of 3.78MB uploaded (0.00MB deduped)\\r'), FloatProgress(value=1.0, max=1.0)…"
            ]
          },
          "metadata": {}
        },
        {
          "output_type": "display_data",
          "data": {
            "text/html": [
              "<style>\n",
              "    table.wandb td:nth-child(1) { padding: 0 10px; text-align: right }\n",
              "    .wandb-row { display: flex; flex-direction: row; flex-wrap: wrap; width: 100% }\n",
              "    .wandb-col { display: flex; flex-direction: column; flex-basis: 100%; flex: 1; padding: 10px; }\n",
              "    </style>\n",
              "<div class=\"wandb-row\"><div class=\"wandb-col\">\n",
              "<h3>Run history:</h3><br/><table class=\"wandb\"><tr><td>train_loss</td><td>██▂▂▁▁▁▁▁▁▁▁▁▁▁▁▁▁▁▁▁▁▁▁▁▁▁▁▁▁▁▁▁▁▁▁▁▁▁▁</td></tr><tr><td>val_loss</td><td>██▂▂▂▁▂▂▂▁▁▁▁▁▁▁▁▁▁▁▁▁▁▁▂▁▂▁▂▁▁▁▁▁▁▁▁▁▁▁</td></tr></table><br/></div><div class=\"wandb-col\">\n",
              "<h3>Run summary:</h3><br/><table class=\"wandb\"><tr><td>train_loss</td><td>2.34269</td></tr><tr><td>val_loss</td><td>3.2594</td></tr></table>\n",
              "</div></div>\n",
              "Synced 5 W&B file(s), 0 media file(s), 0 artifact file(s) and 1 other file(s)\n",
              "<br/>Synced <strong style=\"color:#cdcd00\">skilled-moon-29</strong>: <a href=\"https://wandb.ai/krankile/lstm-vae/runs/31e9ranb\" target=\"_blank\">https://wandb.ai/krankile/lstm-vae/runs/31e9ranb</a><br/>\n",
              "Find logs at: <code>./wandb/run-20211022_150722-31e9ranb/logs</code><br/>\n"
            ],
            "text/plain": [
              "<IPython.core.display.HTML object>"
            ]
          },
          "metadata": {}
        }
      ]
    },
    {
      "cell_type": "markdown",
      "metadata": {
        "id": "mEyXxfwcDAry"
      },
      "source": [
        "## Check results"
      ]
    },
    {
      "cell_type": "code",
      "metadata": {
        "id": "XCMnTA7tkkBs"
      },
      "source": [
        "train_tensor, val_tensor, seq_len, n_features = get_data[conf.dataset](conf.n_series)\n",
        "\n",
        "model = RecurrentAutoencoder(\n",
        "    seq_len=seq_len,\n",
        "    n_features=n_features,\n",
        "    embedding_dim=conf.embedding_dim,\n",
        "    hidden_dim=conf.hidden_dim,\n",
        ")\n",
        "model.load_state_dict(torch.load(\"/content/model.torch\"))\n",
        "\n",
        "model = model.eval().cpu()"
      ],
      "execution_count": 29,
      "outputs": []
    },
    {
      "cell_type": "code",
      "metadata": {
        "colab": {
          "base_uri": "https://localhost:8080/",
          "height": 265
        },
        "id": "w5xQi-9-r2t9",
        "outputId": "16ec94c4-ceaf-4162-9e4a-affe60e480f0"
      },
      "source": [
        "series = 2\n",
        "\n",
        "for i in range(1, series+1):\n",
        "    plt.plot(np.linspace(0, 1, 100), train_tensor[i], label=f\"Original {i}\");\n",
        "    plt.plot(\n",
        "        np.linspace(0, 1, 100),\n",
        "        model(train_tensor[i]).reshape((-1)).detach().numpy(),\n",
        "        label=f\"Reconstructed {i}\",\n",
        "        linestyle=\"-.\"\n",
        "    )\n",
        "plt.legend();"
      ],
      "execution_count": 38,
      "outputs": [
        {
          "output_type": "display_data",
          "data": {
            "image/png": "[encoded data removed]",
            "text/plain": [
              "<Figure size 864x288 with 1 Axes>"
            ]
          },
          "metadata": {
            "needs_background": "light"
          }
        }
      ]
    },
    {
      "cell_type": "markdown",
      "metadata": {
        "id": "lAZnjUUJkEoe"
      },
      "source": [
        "# Archive"
      ]
    },
    {
      "cell_type": "code",
      "metadata": {
        "colab": {
          "base_uri": "https://localhost:8080/",
          "height": 265
        },
        "id": "UXQrp9GqDF6Y",
        "outputId": "5e25e77c-3308-470e-b3d3-749135a8740e"
      },
      "source": [
        "# Plot training data\n",
        "logspath = \"/content/drive/MyDrive/# 9. Semester/Prosjektoppgave_runs-logs-2021-10-20 15:58:18.177512\"\n",
        "\n",
        "logs = pd.read_csv(logspath, sep=\";\").set_index(\"Epoch\")\n",
        "logs[\"tloss_smooth\"] = logs[\"Train_loss\"].rolling(10).mean()\n",
        "logs[\"vloss_smooth\"] = logs[\"Val_loss\"].rolling(10).mean()\n",
        "plt.plot(logs[\"tloss_smooth\"]);\n",
        "plt.plot(logs[\"vloss_smooth\"]);"
      ],
      "execution_count": null,
      "outputs": [
        {
          "output_type": "display_data",
          "data": {
            "image/png": "[encoded data removed]",
            "text/plain": [
              "<Figure size 432x288 with 1 Axes>"
            ]
          },
          "metadata": {
            "needs_background": "light"
          }
        }
      ]
    }
  ]
}